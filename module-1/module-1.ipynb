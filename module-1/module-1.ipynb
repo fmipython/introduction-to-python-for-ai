{
 "cells": [
  {
   "cell_type": "markdown",
   "id": "b430b6f5",
   "metadata": {},
   "source": [
    "# Променливи, разклонения, цикли, типове, функции"
   ]
  },
  {
   "cell_type": "markdown",
   "id": "adf91cbe",
   "metadata": {},
   "source": [
    "## Динамично vs. статично типизиране. Round 1\n",
    "\n",
    "Python е **динамично-типизиран** език. \n",
    "\n",
    "Това означава, че за разлика от статично-типизираните езици (като например C++, Java или C#), променливите (които биват наричани ***имена***/***names***/ в Python) биват проверявани за коректността на типа им при изпълнението на програмата, а не при компилацията (каквато и няма в Python, понеже кодът се интерпретира вместо да се компилира). \n",
    "\n",
    "Друга особеност е, че типът на променливата **може да се промени** по време на изпълнението на програмата и също така **не се декларира** предварително."
   ]
  },
  {
   "cell_type": "code",
   "execution_count": null,
   "id": "25fd7ae4",
   "metadata": {},
   "outputs": [
    {
     "ename": "",
     "evalue": "",
     "output_type": "error",
     "traceback": [
      "\u001b[1;31mRunning cells with 'Python 3.13.5' requires the ipykernel package.\n",
      "\n",
      "\u001b[1;31m<a href='command:jupyter.createPythonEnvAndSelectController'>Create a Python Environment</a> with the required packages.\n",
      "\n",
      "\u001b[1;31mOr install 'ipykernel' using the command: '/opt/homebrew/bin/python3 -m pip install ipykernel -U --user --force-reinstall'"
     ]
    }
   ],
   "source": [
    "# I want it to be a number\n",
    "a = 42\n",
    "\n",
    "a"
   ]
  },
  {
   "cell_type": "code",
   "execution_count": null,
   "id": "95726621",
   "metadata": {},
   "outputs": [
    {
     "data": {
      "text/plain": [
       "'a string'"
      ]
     },
     "metadata": {},
     "output_type": "display_data"
    }
   ],
   "source": [
    "# No, sorry, changed my mind, let it be a string\n",
    "a = \"a string\"\n",
    "\n",
    "a"
   ]
  },
  {
   "cell_type": "code",
   "execution_count": null,
   "id": "6128cfe4",
   "metadata": {},
   "outputs": [
    {
     "ename": "NameError",
     "evalue": "name 'a' is not defined",
     "output_type": "error",
     "traceback": [
      "\u001b[1;31m---------------------------------------------------------------------------\u001b[0m\n",
      "\u001b[1;31mNameError\u001b[0m                                 Traceback (most recent call last)\n",
      "Cell \u001b[1;32mIn[3], line 4\u001b[0m\n",
      "\u001b[0;32m      1\u001b[0m \u001b[38;5;66;03m# Actually l... You know what? Screw it. I don't need it.\u001b[39;00m\n",
      "\u001b[0;32m      2\u001b[0m \u001b[38;5;28;01mdel\u001b[39;00m a\n",
      "\u001b[1;32m----> 4\u001b[0m \u001b[43ma\u001b[49m   \u001b[38;5;66;03m# 💥\u001b[39;00m\n",
      "\n",
      "\u001b[1;31mNameError\u001b[0m: name 'a' is not defined"
     ]
    }
   ],
   "source": [
    "# Actually l... You know what? Screw it. I don't need it.\n",
    "del a\n",
    "\n",
    "a   # 💥"
   ]
  },
  {
   "cell_type": "markdown",
   "id": "78c906b6",
   "metadata": {},
   "source": [
    "*Note*: Относно Jupyter notebooks (тетрадки):\n",
    "1. Всичко, което се изпълнява в една клетка, се запазва в паметта на ядрото (kernel) и може да бъде използвано в следващите клетки.\n",
    "2. Ако последният ред от клетка връща стойност (различна от `None`), тя се показва като резултат от изпълнението на клетката.\n",
    "\n",
    "Т.е. горните три клетки, изпълнени една след друга, са еквивалентни на следния Python скрипт:"
   ]
  },
  {
   "cell_type": "code",
   "execution_count": null,
   "id": "37b7ea6c",
   "metadata": {},
   "outputs": [
    {
     "name": "stdout",
     "output_type": "stream",
     "text": [
      "42\n",
      "a string\n"
     ]
    },
    {
     "ename": "NameError",
     "evalue": "name 'a' is not defined",
     "output_type": "error",
     "traceback": [
      "\u001b[1;31m---------------------------------------------------------------------------\u001b[0m\n",
      "\u001b[1;31mNameError\u001b[0m                                 Traceback (most recent call last)\n",
      "Cell \u001b[1;32mIn[4], line 11\u001b[0m\n",
      "\u001b[0;32m      9\u001b[0m \u001b[38;5;66;03m# Actually l... You know what? Screw it. I don't need it.\u001b[39;00m\n",
      "\u001b[0;32m     10\u001b[0m \u001b[38;5;28;01mdel\u001b[39;00m a\n",
      "\u001b[1;32m---> 11\u001b[0m \u001b[38;5;28mprint\u001b[39m(\u001b[43ma\u001b[49m)  \u001b[38;5;66;03m# 💥\u001b[39;00m\n",
      "\n",
      "\u001b[1;31mNameError\u001b[0m: name 'a' is not defined"
     ]
    }
   ],
   "source": [
    "# I want it to be a number\n",
    "a = 42\n",
    "print(a)\n",
    "\n",
    "# No, sorry, changed my mind, let it be a string\n",
    "a = \"a string\"\n",
    "print(a)\n",
    "\n",
    "# Actually l... You know what? Screw it. I don't need it.\n",
    "del a\n",
    "print(a)  # 💥\n"
   ]
  },
  {
   "cell_type": "markdown",
   "id": "e3a4805e",
   "metadata": {},
   "source": [
    "*Note 2*: с `print(...)` се пише на изхода на програмата (STDOUT), а с `input(...)` се чете от входа (STDIN)."
   ]
  },
  {
   "cell_type": "markdown",
   "id": "30879f06",
   "metadata": {},
   "source": [
    "## Какви типове има?"
   ]
  },
  {
   "cell_type": "markdown",
   "id": "d06e8813",
   "metadata": {},
   "source": [
    "### Числа\n",
    "\n",
    "Съществуват три основни вградени типа, които описват числови стойности: **int**, **float** и **complex**.\n",
    "\n",
    "* `int` - цели числа\n",
    "* `float` - реални числа (с плаваща запетая)\n",
    "* `complex` - комплексни числа\n",
    "\n",
    "И за трите типа са дефинирани аритметичните оператори `+`, `-`, `*`, `/`, както и `**` (степенуване)."
   ]
  },
  {
   "cell_type": "code",
   "execution_count": null,
   "id": "8ab99584",
   "metadata": {},
   "outputs": [
    {
     "data": {
      "text/plain": [
       "(-1+0j)"
      ]
     },
     "metadata": {},
     "output_type": "display_data"
    }
   ],
   "source": [
    "whole = -42\n",
    "fraction = 0.999\n",
    "imag = 3 + 2j  # this is the complex number (3 + 2i)\n",
    "\n",
    "1j ** 2"
   ]
  },
  {
   "cell_type": "markdown",
   "id": "129f07f4",
   "metadata": {},
   "source": [
    "⚠️ Резултатът на `/`, приложен между два `int`-а е `float`. Всички от останалите оператори запазват резултата в `int`."
   ]
  },
  {
   "cell_type": "code",
   "execution_count": null,
   "id": "5640b5eb",
   "metadata": {},
   "outputs": [
    {
     "data": {
      "text/plain": [
       "2.0"
      ]
     },
     "metadata": {},
     "output_type": "display_data"
    }
   ],
   "source": [
    "4 / 2"
   ]
  },
  {
   "cell_type": "code",
   "execution_count": null,
   "id": "cc81f842",
   "metadata": {},
   "outputs": [
    {
     "data": {
      "text/plain": [
       "0.3333333333333333"
      ]
     },
     "metadata": {},
     "output_type": "display_data"
    }
   ],
   "source": [
    "1 / 3"
   ]
  },
  {
   "cell_type": "markdown",
   "id": "3922dc68",
   "metadata": {},
   "source": [
    "За целочислени сметки имаме и операторите `//` и `%` (целочислено деление и остатък от деление).\n",
    "\n",
    "`//` е и операторът, който трябва да ползваме, ако искаме при делението на два `int`-а да получим отново `int`."
   ]
  },
  {
   "cell_type": "code",
   "execution_count": null,
   "id": "00d5a619",
   "metadata": {},
   "outputs": [
    {
     "data": {
      "text/plain": [
       "3.5"
      ]
     },
     "metadata": {},
     "output_type": "display_data"
    }
   ],
   "source": [
    "7 / 2"
   ]
  },
  {
   "cell_type": "code",
   "execution_count": null,
   "id": "2ab50d12",
   "metadata": {},
   "outputs": [
    {
     "data": {
      "text/plain": [
       "3"
      ]
     },
     "metadata": {},
     "output_type": "display_data"
    }
   ],
   "source": [
    "7 // 2"
   ]
  },
  {
   "cell_type": "code",
   "execution_count": null,
   "id": "81204f31",
   "metadata": {},
   "outputs": [
    {
     "data": {
      "text/plain": [
       "1"
      ]
     },
     "metadata": {},
     "output_type": "display_data"
    }
   ],
   "source": [
    "7 % 2"
   ]
  },
  {
   "cell_type": "markdown",
   "id": "3b780e08",
   "metadata": {},
   "source": [
    "Hey Siri, how much is 0 divided by 0?"
   ]
  },
  {
   "cell_type": "code",
   "execution_count": null,
   "id": "d26972c3",
   "metadata": {},
   "outputs": [
    {
     "ename": "ZeroDivisionError",
     "evalue": "division by zero",
     "output_type": "error",
     "traceback": [
      "\u001b[1;31m---------------------------------------------------------------------------\u001b[0m\n",
      "\u001b[1;31mZeroDivisionError\u001b[0m                         Traceback (most recent call last)\n",
      "Cell \u001b[1;32mIn[11], line 1\u001b[0m\n",
      "\u001b[1;32m----> 1\u001b[0m \u001b[38;5;241;43m0\u001b[39;49m\u001b[43m \u001b[49m\u001b[38;5;241;43m/\u001b[39;49m\u001b[43m \u001b[49m\u001b[38;5;241;43m0\u001b[39;49m\n",
      "\n",
      "\u001b[1;31mZeroDivisionError\u001b[0m: division by zero"
     ]
    }
   ],
   "source": [
    "0 / 0"
   ]
  },
  {
   "cell_type": "markdown",
   "id": "4883c027",
   "metadata": {},
   "source": [
    "С безкрайността обаче нямаме такъв проблем (`math.inf` е специален `float`, който има за цел да бъде еквивалентен на $\\infty$ откъм аритметични операции):"
   ]
  },
  {
   "cell_type": "code",
   "execution_count": null,
   "id": "14b72dc1",
   "metadata": {},
   "outputs": [
    {
     "data": {
      "text/plain": [
       "0.0"
      ]
     },
     "metadata": {},
     "output_type": "display_data"
    }
   ],
   "source": [
    "from math import inf\n",
    "\n",
    "1 / inf"
   ]
  },
  {
   "cell_type": "markdown",
   "id": "b2b06cdd",
   "metadata": {},
   "source": [
    "Размерът на `int` не е фиксиран както в повечето статично-типизирани езици, при които програмистът избира дали да използва 32-битов, 64-битов или някаква друга размерност за целочислена променлива. Тук integer overflow се избягва като динамично се изчислява размерът на паметта, нужен за съхранението на число с произволна големина."
   ]
  },
  {
   "cell_type": "code",
   "execution_count": null,
   "id": "8bf61ea5",
   "metadata": {},
   "outputs": [
    {
     "name": "stdout",
     "output_type": "stream",
     "text": [
      "size of 1 is 28 bytes\n",
      "size of 2 ** 16 is 28 bytes\n",
      "size of 2 ** 30 is 32 bytes\n",
      "size of 2 ** 30 ** 5 is 3240028 bytes\n"
     ]
    }
   ],
   "source": [
    "from sys import getsizeof\n",
    "\n",
    "print(\"size of 1 is\",            getsizeof(1),            \"bytes\")\n",
    "print(\"size of 2 ** 16 is\",      getsizeof(2 ** 16),      \"bytes\")\n",
    "print(\"size of 2 ** 30 is\",      getsizeof(2 ** 30),      \"bytes\")\n",
    "print(\"size of 2 ** 30 ** 5 is\", getsizeof(2 ** 30 ** 5), \"bytes\")"
   ]
  },
  {
   "cell_type": "markdown",
   "id": "15d5b738",
   "metadata": {},
   "source": [
    "Обърнете внимание, че изписаните резултати са в байтове, а не битове. Причината числото $ 1 $ да заема цели 28 байта например е понеже в python всичко е обект и си има своите член-данни и методи, дори и типове като `int`.\n",
    "\n",
    "От друга страна, `float` винаги заема фиксиран брой байтове. Причината за това е, че прецизността е константна - до 18 знака след десетичната запетая. В случай, че не ни е достатъчна такава прецизност, могат да се използват типове от някои вградени и не-вградени библиотеки, като например `decimal.Decimal`, с който можем да боравим с до 28 знака след десетичната запетая."
   ]
  },
  {
   "cell_type": "markdown",
   "id": "d9b07555",
   "metadata": {},
   "source": [
    "Целочислени литерали могат да се задават и в двоична, осмична и 16-ична бройни системи, използвайки като префикс съответно `0b`, `0o` и `0x`:"
   ]
  },
  {
   "cell_type": "code",
   "execution_count": null,
   "id": "99d072d5",
   "metadata": {},
   "outputs": [
    {
     "name": "stdout",
     "output_type": "stream",
     "text": [
      "a = 10\n",
      "b = 10\n",
      "c = 10\n"
     ]
    }
   ],
   "source": [
    "a = 0b1010\n",
    "b = 0o12\n",
    "c = 0xA\n",
    "\n",
    "print(\"a =\", a)\n",
    "print(\"b =\", b)\n",
    "print(\"c =\", c)"
   ]
  },
  {
   "cell_type": "markdown",
   "id": "0a7c4226",
   "metadata": {},
   "source": [
    "### Низове\n",
    "\n",
    "Текстовите низове в Python имат тип `str`. Те могат да бъдат с произволна дължина, като в литерал се обграждат или с `\"`, или с `'` (без значение)."
   ]
  },
  {
   "cell_type": "code",
   "execution_count": null,
   "id": "1bd37983",
   "metadata": {},
   "outputs": [
    {
     "data": {
      "text/plain": [
       "'abracadabra!'"
      ]
     },
     "metadata": {},
     "output_type": "display_data"
    }
   ],
   "source": [
    "s1 = \"abra\"\n",
    "s2 = 'cad'\n",
    "\n",
    "s1 + s2 + s1 + '!'"
   ]
  },
  {
   "cell_type": "markdown",
   "id": "0a7fbe8a",
   "metadata": {},
   "source": [
    "Многоредови низови литерали биват задавани с тройни кавички, също както специалните многоредови коментари, наричани `docstring`-ове (повече за тях в следваща лекция):"
   ]
  },
  {
   "cell_type": "code",
   "execution_count": null,
   "id": "2d66d780",
   "metadata": {},
   "outputs": [
    {
     "data": {
      "text/plain": [
       "'This text contains multiple rows.\\nThis is the second one.\\nHere comes the third one.\\nBack and fourth.'"
      ]
     },
     "metadata": {},
     "output_type": "display_data"
    }
   ],
   "source": [
    "multiple_rows_text = \"\"\"This text contains multiple rows.\n",
    "This is the second one.\n",
    "Here comes the third one.\n",
    "Back and fourth.\"\"\"\n",
    "\n",
    "multiple_rows_text"
   ]
  },
  {
   "cell_type": "markdown",
   "id": "3819351a",
   "metadata": {},
   "source": [
    "При едноредови низове, ако редът става прекалено дълъг можем и да разделим низа на части така:"
   ]
  },
  {
   "cell_type": "code",
   "execution_count": null,
   "id": "e3a96787",
   "metadata": {},
   "outputs": [
    {
     "data": {
      "text/plain": [
       "'This is a very very very very very very very very very very very very very very very very long snake 🐍.'"
      ]
     },
     "metadata": {},
     "output_type": "display_data"
    }
   ],
   "source": [
    "too_long = \"This is a very very very very very very very \" \\\n",
    "           \"very very very very very very very very very \" \\\n",
    "           \"long snake 🐍.\"\n",
    "\n",
    "too_long"
   ]
  },
  {
   "cell_type": "markdown",
   "id": "9fdd468d",
   "metadata": {},
   "source": [
    "Друг вариант, ако не ви харесват обратните наклонени черти (line-continuation characters) и нагласената индентация, е да се ползват скоби.\n",
    "\n",
    "*Note*: тези два начина са приложими не само за дълги низове, а и за дълги редове като цяло, например аритметични/булеви изрази, comprehension-и и т.н."
   ]
  },
  {
   "cell_type": "code",
   "execution_count": null,
   "id": "b533e91f",
   "metadata": {},
   "outputs": [
    {
     "data": {
      "text/plain": [
       "'This is a very very very very very very very very very very very very very very very very long snake 🐍.'"
      ]
     },
     "metadata": {},
     "output_type": "display_data"
    }
   ],
   "source": [
    "also_too_long = (\n",
    "    \"This is a very very very very very very very \"\n",
    "    \"very very very very very very very very very \"\n",
    "    \"long snake 🐍.\"\n",
    ")\n",
    "\n",
    "also_too_long"
   ]
  },
  {
   "cell_type": "markdown",
   "id": "bf1b0bad",
   "metadata": {},
   "source": [
    "Подържат се Unicode символи, но трябва да се внимава при взимането на дължината им (например емоджитата с флагове кодират двоен брой байтове, което доведе до [това](https://www.theverge.com/2018/10/11/17963230/twitter-emoji-character-limit-bug-fixed-diversity)):"
   ]
  },
  {
   "cell_type": "code",
   "execution_count": null,
   "id": "6f8e31dc",
   "metadata": {},
   "outputs": [
    {
     "name": "stdout",
     "output_type": "stream",
     "text": [
      "the length of it = 3\n"
     ]
    }
   ],
   "source": [
    "moyai_and_china = \"🗿🇨🇳\"\n",
    "\n",
    "print(\"the length of it =\", len(moyai_and_china))\n",
    "# never ignore the red flags..."
   ]
  },
  {
   "cell_type": "markdown",
   "id": "f18ca92b",
   "metadata": {},
   "source": [
    "Escape символът както обикновено е `\\`. Някои специални символи по този начин написани са:\n",
    "* `\\n` - нов ред (Line Feed, ASCII стойност 13 (0x0D))\n",
    "* `\\t` - хоризонтална табулация (ASCII стойност 9)\n",
    "* `\\r` - Carriage Return, ASCII стойност 10 (0x0A)\n",
    "\n",
    "С `\\'` или  `\\\"` се запазват и кавичките в случай, че видът кавичка съвпада с тази, ограждаща низа. \n",
    "\n",
    "Самата обратно-наклонена черта се въвежда с `\\\\`.\n"
   ]
  },
  {
   "cell_type": "code",
   "execution_count": null,
   "id": "95941b13",
   "metadata": {},
   "outputs": [
    {
     "data": {
      "text/plain": [
       "\"Is it readable?\\nYesn't\\n\""
      ]
     },
     "metadata": {},
     "output_type": "display_data"
    }
   ],
   "source": [
    "s = 'Is it readable?\\nYesn\\'t\\n'\n",
    "\n",
    "s"
   ]
  },
  {
   "cell_type": "markdown",
   "id": "16267ce3",
   "metadata": {},
   "source": [
    "Ако знаем 16-ичния код на конкретен Unicode символ, можем да го запишем след `\\u`:"
   ]
  },
  {
   "cell_type": "code",
   "execution_count": null,
   "id": "c2eb7327",
   "metadata": {},
   "outputs": [
    {
     "data": {
      "text/plain": [
       "'A♠'"
      ]
     },
     "metadata": {},
     "output_type": "display_data"
    }
   ],
   "source": [
    "rip_lemmy = \"A\\u2660\"\n",
    "\n",
    "rip_lemmy"
   ]
  },
  {
   "cell_type": "markdown",
   "id": "9ffe0833",
   "metadata": {},
   "source": [
    "В случай пък че ни трябва конкретен байт в низа, чийто 16-ичен код знаем, може да се използва `\\x`. Например `\\x00` е null-byte, a `\\x1B` - `ESC`."
   ]
  },
  {
   "cell_type": "code",
   "execution_count": null,
   "id": "44ec0eae",
   "metadata": {},
   "outputs": [
    {
     "name": "stdout",
     "output_type": "stream",
     "text": [
      "You can safely have \u0000 in the middle of a string\n"
     ]
    }
   ],
   "source": [
    "not_your_c_string = \"You can safely have \\x00 in the middle of a string\"\n",
    "\n",
    "print(not_your_c_string)"
   ]
  },
  {
   "cell_type": "markdown",
   "id": "f7c97c91",
   "metadata": {},
   "source": [
    "Относно ASCII кодове, съществуват две функции за преобразуване *от* и *във* кода на символа: `chr` и `ord` съответно."
   ]
  },
  {
   "cell_type": "code",
   "execution_count": null,
   "id": "549248ab",
   "metadata": {},
   "outputs": [
    {
     "name": "stdout",
     "output_type": "stream",
     "text": [
      "ord('A') = 65\n",
      "chr(65) = A\n",
      "A-B-C-D-E-F-G-H-I-J-K-L-M-N-O-P-Q-R-S-T-U-V-W-X-Y-Z\n"
     ]
    }
   ],
   "source": [
    "print(\"ord('A') =\", ord(\"A\"))\n",
    "print(\"chr(65) =\", chr(65))\n",
    "\n",
    "# don't worry about not understanding the following line,\n",
    "# it's just to catch a glimpse of the mighty Python's power\n",
    "alphabet_kebab = \"-\".join(chr(c) for c in range(ord(\"A\"), ord(\"Z\")+1))\n",
    "\n",
    "print(alphabet_kebab)\n"
   ]
  },
  {
   "cell_type": "markdown",
   "id": "be93d6e4",
   "metadata": {},
   "source": [
    "Съществува и тип за низ от *байтове* - `bytes`. Има си и литерал, който е като този на `str`, но просто с едно `b` преди отварящите кавички.\n",
    "\n",
    "Конвертирането му от и до `str` става единственo чрез подбиране на правилен енкодинг (UTF-8 или друг) и може да хвърли грешка."
   ]
  },
  {
   "cell_type": "code",
   "execution_count": null,
   "id": "481bead0",
   "metadata": {},
   "outputs": [
    {
     "data": {
      "text/plain": [
       "b'You can use ASCII characters as well as \\\\x syntax, e.g. \\x00\\x01, etc.'"
      ]
     },
     "metadata": {},
     "output_type": "display_data"
    }
   ],
   "source": [
    "bytes_literal = b\"You can use ASCII characters as well as \\x5C\\x78 syntax, e.g. \\x00\\x01, etc.\"\n",
    "bytes_literal"
   ]
  },
  {
   "cell_type": "code",
   "execution_count": null,
   "id": "91229637",
   "metadata": {},
   "outputs": [
    {
     "data": {
      "text/plain": [
       "bytes"
      ]
     },
     "metadata": {},
     "output_type": "display_data"
    }
   ],
   "source": [
    "type(bytes_literal)"
   ]
  },
  {
   "cell_type": "code",
   "execution_count": null,
   "id": "29efb44b",
   "metadata": {},
   "outputs": [
    {
     "data": {
      "text/plain": [
       "'You can use ASCII characters as well as \\\\x syntax, e.g. \\x00\\x01, etc.'"
      ]
     },
     "metadata": {},
     "output_type": "display_data"
    }
   ],
   "source": [
    "str_from_bytes = bytes_literal.decode(\"utf-8\")\n",
    "str_from_bytes"
   ]
  },
  {
   "cell_type": "code",
   "execution_count": null,
   "id": "4ce67593",
   "metadata": {},
   "outputs": [
    {
     "data": {
      "text/plain": [
       "str"
      ]
     },
     "metadata": {},
     "output_type": "display_data"
    }
   ],
   "source": [
    "type(str_from_bytes)"
   ]
  },
  {
   "cell_type": "code",
   "execution_count": null,
   "id": "1f56bf01",
   "metadata": {},
   "outputs": [
    {
     "data": {
      "text/plain": [
       "b'You can use ASCII characters as well as \\\\x syntax, e.g. \\x00\\x01, etc.'"
      ]
     },
     "metadata": {},
     "output_type": "display_data"
    }
   ],
   "source": [
    "bytes_from_str = str_from_bytes.encode(\"utf-8\")\n",
    "bytes_from_str"
   ]
  },
  {
   "cell_type": "code",
   "execution_count": null,
   "id": "5bb6b9cb",
   "metadata": {},
   "outputs": [
    {
     "ename": "UnicodeDecodeError",
     "evalue": "'utf-8' codec can't decode byte 0xbe in position 2: invalid start byte",
     "output_type": "error",
     "traceback": [
      "\u001b[1;31m---------------------------------------------------------------------------\u001b[0m\n",
      "\u001b[1;31mUnicodeDecodeError\u001b[0m                        Traceback (most recent call last)\n",
      "Cell \u001b[1;32mIn[29], line 2\u001b[0m\n",
      "\u001b[0;32m      1\u001b[0m deadbeef \u001b[38;5;241m=\u001b[39m \u001b[38;5;124mb\u001b[39m\u001b[38;5;124m\"\u001b[39m\u001b[38;5;130;01m\\xDE\u001b[39;00m\u001b[38;5;130;01m\\xAD\u001b[39;00m\u001b[38;5;130;01m\\xBE\u001b[39;00m\u001b[38;5;130;01m\\xEF\u001b[39;00m\u001b[38;5;124m\"\u001b[39m\n",
      "\u001b[1;32m----> 2\u001b[0m \u001b[43mdeadbeef\u001b[49m\u001b[38;5;241;43m.\u001b[39;49m\u001b[43mdecode\u001b[49m\u001b[43m(\u001b[49m\u001b[38;5;124;43m\"\u001b[39;49m\u001b[38;5;124;43mutf-8\u001b[39;49m\u001b[38;5;124;43m\"\u001b[39;49m\u001b[43m)\u001b[49m\n",
      "\n",
      "\u001b[1;31mUnicodeDecodeError\u001b[0m: 'utf-8' codec can't decode byte 0xbe in position 2: invalid start byte"
     ]
    }
   ],
   "source": [
    "deadbeef = b\"\\xDE\\xAD\\xBE\\xEF\"\n",
    "deadbeef.decode(\"utf-8\")"
   ]
  },
  {
   "cell_type": "markdown",
   "id": "a9855274",
   "metadata": {},
   "source": [
    "Интерполацията на низове е възможна по три основни начина:\n",
    "* Форматиране с `%` (old-school)\n",
    "* `str.format` (от Python 3 насам, back-port-нат към Python 2.7)\n",
    "* f-strings (от Python 3.6 насам)"
   ]
  },
  {
   "cell_type": "markdown",
   "id": "cd64bc58",
   "metadata": {},
   "source": [
    "%-formatting:"
   ]
  },
  {
   "cell_type": "code",
   "execution_count": null,
   "id": "cb96bf58",
   "metadata": {},
   "outputs": [
    {
     "data": {
      "text/plain": [
       "'The C programming language was created in 1972 by Dennis Ritchie.'"
      ]
     },
     "metadata": {},
     "output_type": "display_data"
    }
   ],
   "source": [
    "\"The %s programming language was created in %d by %s.\" % (\"C\", 1972, \"Dennis Ritchie\")"
   ]
  },
  {
   "cell_type": "markdown",
   "id": "d4ec8d26",
   "metadata": {},
   "source": [
    "str.format:"
   ]
  },
  {
   "cell_type": "code",
   "execution_count": null,
   "id": "a90860d6",
   "metadata": {},
   "outputs": [
    {
     "data": {
      "text/plain": [
       "'MC Ton4ou only knows the first 5 decimal places of π: 3.14159.'"
      ]
     },
     "metadata": {},
     "output_type": "display_data"
    }
   ],
   "source": [
    "from math import pi\n",
    "\n",
    "\"{} only knows the first 5 decimal places of π: {:.5f}.\".format(\"MC Ton4ou\", pi)"
   ]
  },
  {
   "cell_type": "code",
   "execution_count": null,
   "id": "90aba2a6",
   "metadata": {},
   "outputs": [
    {
     "name": "stdout",
     "output_type": "stream",
     "text": [
      "由于spam，@gosho_the_dove被屏蔽\n",
      "@gosho_the_dove is blocked due to spam\n"
     ]
    }
   ],
   "source": [
    "chinese_template = \"由于{reason}，{subject}被屏蔽\"\n",
    "english_template = \"{subject} is blocked due to {reason}\"\n",
    "\n",
    "subject = \"@gosho_the_dove\"\n",
    "reason = \"spam\"\n",
    "\n",
    "print(chinese_template.format(subject=subject, reason=reason))\n",
    "print(english_template.format(subject=subject, reason=reason))"
   ]
  },
  {
   "cell_type": "markdown",
   "id": "7728052b",
   "metadata": {},
   "source": [
    "f-strings:"
   ]
  },
  {
   "cell_type": "code",
   "execution_count": null,
   "id": "e8dda8b9",
   "metadata": {},
   "outputs": [
    {
     "data": {
      "text/plain": [
       "'Program bot.py finished execution at 1726320488.99 unix time.'"
      ]
     },
     "metadata": {},
     "output_type": "display_data"
    }
   ],
   "source": [
    "from time import time\n",
    "\n",
    "name = \"bot.py\"\n",
    "\n",
    "f\"Program {name} finished execution at {time():.2f} unix time.\""
   ]
  },
  {
   "cell_type": "code",
   "execution_count": null,
   "id": "dcccd404",
   "metadata": {},
   "outputs": [
    {
     "data": {
      "text/plain": [
       "'Debug info: some_variable=3735928559'"
      ]
     },
     "metadata": {},
     "output_type": "display_data"
    }
   ],
   "source": [
    "some_variable = 0xdeadbeef\n",
    "\n",
    "f\"Debug info: {some_variable=}\"  # the '=' here puts the name as well as the value"
   ]
  },
  {
   "cell_type": "markdown",
   "id": "233b6031",
   "metadata": {},
   "source": [
    "Низовете са колекции и могат да бъдат използвани като такива. Повече за тях в следваща лекция, засега може да ги мислим като масиви от символи."
   ]
  },
  {
   "cell_type": "code",
   "execution_count": null,
   "id": "e4b647d7",
   "metadata": {},
   "outputs": [
    {
     "name": "stdout",
     "output_type": "stream",
     "text": [
      "length=5, first_char='H'\n",
      "===H===\n",
      "===e===\n",
      "===l===\n",
      "===l===\n",
      "===o===\n"
     ]
    }
   ],
   "source": [
    "s = \"Hello\"\n",
    "\n",
    "length = len(s)     # the length\n",
    "first_char = s[0]  # the first character (element @ index 0)\n",
    "\n",
    "print(f\"{length=}, {first_char=}\")\n",
    "\n",
    "for char in s:\n",
    "    print(\"===\" + char + \"===\")\n"
   ]
  },
  {
   "cell_type": "markdown",
   "id": "72488f21",
   "metadata": {},
   "source": [
    "Обработката на низове става сравнително лесно чрез предоставените ни вградени функции и методи:"
   ]
  },
  {
   "cell_type": "markdown",
   "id": "67538f32",
   "metadata": {},
   "source": [
    "`replace`:"
   ]
  },
  {
   "cell_type": "code",
   "execution_count": null,
   "id": "8e9e9099",
   "metadata": {},
   "outputs": [
    {
     "data": {
      "text/plain": [
       "'Deutschland ueber alles!'"
      ]
     },
     "metadata": {},
     "output_type": "display_data"
    }
   ],
   "source": [
    "\"Deutschland über alles!\".replace(\"ü\", \"ue\")"
   ]
  },
  {
   "cell_type": "markdown",
   "id": "20a49414",
   "metadata": {},
   "source": [
    "`split`:"
   ]
  },
  {
   "cell_type": "code",
   "execution_count": null,
   "id": "a6d23005",
   "metadata": {},
   "outputs": [
    {
     "data": {
      "text/plain": [
       "['nofilter', 'nomakeup', 'feltcutemightdeletelater', 'f4f', 'follow4follow']"
      ]
     },
     "metadata": {},
     "output_type": "display_data"
    }
   ],
   "source": [
    "post_hastags = \"#nofilter #nomakeup #feltcutemightdeletelater #f4f #follow4follow\"\n",
    "\n",
    "# first remove all '#', then split using a space as a delimiter into a list of strings\n",
    "# (those operators can be chained)\n",
    "tags_list = post_hastags.replace(\"#\", \"\").split(\" \")\n",
    "\n",
    "# `tags_list` is of type `list` - more on this type later\n",
    "tags_list"
   ]
  },
  {
   "cell_type": "markdown",
   "id": "a24401fe",
   "metadata": {},
   "source": [
    "`join`:"
   ]
  },
  {
   "cell_type": "code",
   "execution_count": null,
   "id": "133b6e24",
   "metadata": {},
   "outputs": [
    {
     "data": {
      "text/plain": [
       "'nofilter; nomakeup; feltcutemightdeletelater; f4f; follow4follow'"
      ]
     },
     "metadata": {},
     "output_type": "display_data"
    }
   ],
   "source": [
    "# `join` accepts an iterable (like a `list`) as an argument\n",
    "# and glues all the elements together using the string it's called on\n",
    "\"; \".join(tags_list)"
   ]
  },
  {
   "cell_type": "markdown",
   "id": "69eb3b5d",
   "metadata": {},
   "source": [
    "`lower`, `upper`, `capitalize`:"
   ]
  },
  {
   "cell_type": "code",
   "execution_count": null,
   "id": "a94068d0",
   "metadata": {},
   "outputs": [
    {
     "data": {
      "text/plain": [
       "'spongebob squarepants'"
      ]
     },
     "metadata": {},
     "output_type": "display_data"
    }
   ],
   "source": [
    "\"SpOnGeBoB squarepants\".lower()"
   ]
  },
  {
   "cell_type": "code",
   "execution_count": null,
   "id": "11ca2871",
   "metadata": {},
   "outputs": [
    {
     "data": {
      "text/plain": [
       "'SPONGEBOB SQUAREPANTS'"
      ]
     },
     "metadata": {},
     "output_type": "display_data"
    }
   ],
   "source": [
    "\"SpOnGeBoB squarepants\".upper()"
   ]
  },
  {
   "cell_type": "code",
   "execution_count": null,
   "id": "d0dbc00f",
   "metadata": {},
   "outputs": [
    {
     "data": {
      "text/plain": [
       "'Spongebob squarepants'"
      ]
     },
     "metadata": {},
     "output_type": "display_data"
    }
   ],
   "source": [
    "\"SpOnGeBoB squarepants\".capitalize()"
   ]
  },
  {
   "cell_type": "markdown",
   "id": "7416eda4",
   "metadata": {},
   "source": [
    "### Булеви\n",
    "\n",
    "Тип `bool` има две възможни стойности: `True` и `False`.\n",
    "\n",
    "За разлика от повечето други езици, вместо `!`, `||` и `&&` използваме `not`, `or` и `and`. Както си и трябва."
   ]
  },
  {
   "cell_type": "code",
   "execution_count": null,
   "id": "5898b04b",
   "metadata": {},
   "outputs": [
    {
     "data": {
      "text/plain": [
       "False"
      ]
     },
     "metadata": {},
     "output_type": "display_data"
    }
   ],
   "source": [
    "t = True\n",
    "f = not t\n",
    "\n",
    "f"
   ]
  },
  {
   "cell_type": "code",
   "execution_count": null,
   "id": "47322a97",
   "metadata": {},
   "outputs": [
    {
     "data": {
      "text/plain": [
       "True"
      ]
     },
     "metadata": {},
     "output_type": "display_data"
    }
   ],
   "source": [
    "not f"
   ]
  },
  {
   "cell_type": "code",
   "execution_count": null,
   "id": "42f07a89",
   "metadata": {},
   "outputs": [
    {
     "data": {
      "text/plain": [
       "True"
      ]
     },
     "metadata": {},
     "output_type": "display_data"
    }
   ],
   "source": [
    "t or f"
   ]
  },
  {
   "cell_type": "code",
   "execution_count": null,
   "id": "629a9dda",
   "metadata": {},
   "outputs": [
    {
     "data": {
      "text/plain": [
       "False"
      ]
     },
     "metadata": {},
     "output_type": "display_data"
    }
   ],
   "source": [
    "t and f"
   ]
  },
  {
   "cell_type": "code",
   "execution_count": null,
   "id": "ba58a73e",
   "metadata": {},
   "outputs": [
    {
     "data": {
      "text/plain": [
       "True"
      ]
     },
     "metadata": {},
     "output_type": "display_data"
    }
   ],
   "source": [
    "t and not f"
   ]
  },
  {
   "cell_type": "markdown",
   "id": "59967df5",
   "metadata": {},
   "source": [
    "⚠️ `or` и `and` всъщност не връщат винаги `bool`, а стойността на първия операнд отляво надясно, след който каквито и да са стойностите на другите резултатът остава същия:"
   ]
  },
  {
   "cell_type": "code",
   "execution_count": null,
   "id": "eff9c12d",
   "metadata": {},
   "outputs": [
    {
     "data": {
      "text/plain": [
       "1"
      ]
     },
     "metadata": {},
     "output_type": "display_data"
    }
   ],
   "source": [
    "1 or 2 or 3"
   ]
  },
  {
   "cell_type": "code",
   "execution_count": null,
   "id": "a0983042",
   "metadata": {},
   "outputs": [
    {
     "data": {
      "text/plain": [
       "3"
      ]
     },
     "metadata": {},
     "output_type": "display_data"
    }
   ],
   "source": [
    "1 and 2 and 3"
   ]
  },
  {
   "cell_type": "code",
   "execution_count": null,
   "id": "9fbd8a77",
   "metadata": {},
   "outputs": [
    {
     "data": {
      "text/plain": [
       "1"
      ]
     },
     "metadata": {},
     "output_type": "display_data"
    }
   ],
   "source": [
    "1 or 0 or 3"
   ]
  },
  {
   "cell_type": "code",
   "execution_count": null,
   "id": "bbba5796",
   "metadata": {},
   "outputs": [
    {
     "data": {
      "text/plain": [
       "0"
      ]
     },
     "metadata": {},
     "output_type": "display_data"
    }
   ],
   "source": [
    "1 and 0 and 3"
   ]
  },
  {
   "cell_type": "markdown",
   "id": "f4632ce4",
   "metadata": {},
   "source": [
    "Можем да се възползваме от това в кода ни с изрази и функции, чието изпълнение зависи от предходния резултат:"
   ]
  },
  {
   "cell_type": "code",
   "execution_count": null,
   "id": "8e729fc5",
   "metadata": {},
   "outputs": [
    {
     "name": "stdout",
     "output_type": "stream",
     "text": [
      "Function 1 is being executed.\n",
      "OK\n"
     ]
    }
   ],
   "source": [
    "def func1():\n",
    "    print(\"Function 1 is being executed.\")\n",
    "    return True\n",
    "\n",
    "def func2():\n",
    "    print(\"Function 2 is being executed.\")\n",
    "    return True\n",
    "\n",
    "if func1() or func2():\n",
    "    print(\"OK\")"
   ]
  },
  {
   "cell_type": "markdown",
   "id": "43fc18e4",
   "metadata": {},
   "source": [
    "### `None`\n",
    "\n",
    "`None` е стойност (и тип), обозначаваща липса на стойност (🤔).\n",
    "\n",
    "*Note*: Когато една функция **не** преминава през `return` израз, тя всъщност връща `None` като резултат."
   ]
  },
  {
   "cell_type": "code",
   "execution_count": null,
   "id": "56e8c4ae",
   "metadata": {},
   "outputs": [
    {
     "name": "stdout",
     "output_type": "stream",
     "text": [
      "The print function isn't intended to return a specific value.\n",
      "None\n"
     ]
    }
   ],
   "source": [
    "result_of_print = print(\"The print function isn't intended to return a specific value.\")\n",
    "print(result_of_print)"
   ]
  },
  {
   "cell_type": "markdown",
   "id": "cdc5188c",
   "metadata": {},
   "source": [
    "### `type`\n",
    "`type` е функция, която ни връща типа на дадена стойност:"
   ]
  },
  {
   "cell_type": "code",
   "execution_count": null,
   "id": "03ad3604",
   "metadata": {},
   "outputs": [
    {
     "data": {
      "text/plain": [
       "int"
      ]
     },
     "metadata": {},
     "output_type": "display_data"
    }
   ],
   "source": [
    "type(42)"
   ]
  },
  {
   "cell_type": "markdown",
   "id": "6be8cdb5",
   "metadata": {},
   "source": [
    "Но всичко в Python е обект, включително и функциите:"
   ]
  },
  {
   "cell_type": "code",
   "execution_count": null,
   "id": "d81172cc",
   "metadata": {},
   "outputs": [
    {
     "data": {
      "text/plain": [
       "builtin_function_or_method"
      ]
     },
     "metadata": {},
     "output_type": "display_data"
    }
   ],
   "source": [
    "type(print)"
   ]
  },
  {
   "cell_type": "markdown",
   "id": "4b17e8ee",
   "metadata": {},
   "source": [
    "Следователно, `type` също си има тип:"
   ]
  },
  {
   "cell_type": "code",
   "execution_count": null,
   "id": "5f9b158e",
   "metadata": {},
   "outputs": [
    {
     "data": {
      "text/plain": [
       "type"
      ]
     },
     "metadata": {},
     "output_type": "display_data"
    }
   ],
   "source": [
    "type(type)"
   ]
  },
  {
   "cell_type": "markdown",
   "id": "6f68edf9",
   "metadata": {},
   "source": [
    "😵‍💫"
   ]
  },
  {
   "cell_type": "code",
   "execution_count": null,
   "id": "d10d2eca",
   "metadata": {},
   "outputs": [
    {
     "data": {
      "text/plain": [
       "type"
      ]
     },
     "metadata": {},
     "output_type": "display_data"
    }
   ],
   "source": [
    "type(type(type(type(type(type)))))"
   ]
  },
  {
   "cell_type": "markdown",
   "id": "f199332d",
   "metadata": {},
   "source": [
    "### `tuple`, `list`, `set`, `dict`: четирите вградени колекции\n",
    "\n",
    "* `tuple`: наредена $n$-торка (още **кортеж**), която **не може да се променя** (immutable) \n",
    "* `list`: **списък** от елементи, който **може да се променя** (mutable)\n",
    "* `set`: **множество** от елементи без наредба и повторения (HashSet) (mutable)\n",
    "* `dict`: **речник** от ключове и стойности (HashMap) (mutable)\n",
    "\n",
    "Елементите и на четирите колекции могат да бъдат от различни типове."
   ]
  },
  {
   "cell_type": "code",
   "execution_count": null,
   "id": "28f5f437",
   "metadata": {},
   "outputs": [
    {
     "data": {
      "text/plain": [
       "(1, 'b', False)"
      ]
     },
     "metadata": {},
     "output_type": "display_data"
    }
   ],
   "source": [
    "t = (1, \"b\", False)  # tuples are with () or without any brackets\n",
    "t"
   ]
  },
  {
   "cell_type": "code",
   "execution_count": null,
   "id": "414561fc",
   "metadata": {},
   "outputs": [
    {
     "data": {
      "text/plain": [
       "(1, 'b', False)"
      ]
     },
     "metadata": {},
     "output_type": "display_data"
    }
   ],
   "source": [
    "t = 1, \"b\", False\n",
    "t"
   ]
  },
  {
   "cell_type": "code",
   "execution_count": null,
   "id": "f36c28fc",
   "metadata": {},
   "outputs": [
    {
     "data": {
      "text/plain": [
       "[1, 'b', False]"
      ]
     },
     "metadata": {},
     "output_type": "display_data"
    }
   ],
   "source": [
    "l = [1, \"b\", False]  # lists are with []\n",
    "l"
   ]
  },
  {
   "cell_type": "code",
   "execution_count": null,
   "id": "6f81b193",
   "metadata": {},
   "outputs": [
    {
     "data": {
      "text/plain": [
       "{1, False, 'b'}"
      ]
     },
     "metadata": {},
     "output_type": "display_data"
    }
   ],
   "source": [
    "s = {1, \"b\", False}  # sets are with {}\n",
    "s"
   ]
  },
  {
   "cell_type": "code",
   "execution_count": null,
   "id": "5c647e1d",
   "metadata": {},
   "outputs": [
    {
     "data": {
      "text/plain": [
       "{'a': 1, 'b': 2, 'c': 3, '幸': None}"
      ]
     },
     "metadata": {},
     "output_type": "display_data"
    }
   ],
   "source": [
    "d = {\"a\": 1, \"b\": 2, \"c\": 3, \"幸\": None}  # dicts are also with {}\n",
    "d"
   ]
  },
  {
   "cell_type": "markdown",
   "id": "906a1bda",
   "metadata": {},
   "source": [
    "⚠️ `{}` е празен `dict`, а не празен `set`. За празен `set` се ползва конструктора `set()`."
   ]
  },
  {
   "cell_type": "code",
   "execution_count": null,
   "id": "3623a982",
   "metadata": {},
   "outputs": [
    {
     "data": {
      "text/plain": [
       "dict"
      ]
     },
     "metadata": {},
     "output_type": "display_data"
    }
   ],
   "source": [
    "type({})"
   ]
  },
  {
   "cell_type": "markdown",
   "id": "4351d869",
   "metadata": {},
   "source": [
    "⚠️ Понеже нормалните скоби са и... нормални скоби, които обособяват израз и връщат стойността му, `tuple` с един елемент се дефинира със запетайка след елемента. Освен това няма нужда от обграждащи скоби при задаване на `tuple` с повече от нула елементи."
   ]
  },
  {
   "cell_type": "code",
   "execution_count": null,
   "id": "894855ee",
   "metadata": {},
   "outputs": [
    {
     "data": {
      "text/plain": [
       "(42,)"
      ]
     },
     "metadata": {},
     "output_type": "display_data"
    }
   ],
   "source": [
    "one_element_tuple = (42,)\n",
    "one_element_tuple"
   ]
  },
  {
   "cell_type": "code",
   "execution_count": null,
   "id": "d4bfa70d",
   "metadata": {},
   "outputs": [
    {
     "data": {
      "text/plain": [
       "(42,)"
      ]
     },
     "metadata": {},
     "output_type": "display_data"
    }
   ],
   "source": [
    "one_element_tuple_again = 42,\n",
    "one_element_tuple_again"
   ]
  },
  {
   "cell_type": "markdown",
   "id": "151a720c",
   "metadata": {},
   "source": [
    "*Въпрос:* Как да създадем празен `tuple`? 🤔"
   ]
  },
  {
   "cell_type": "markdown",
   "id": "c2c7c249",
   "metadata": {},
   "source": [
    "Кога кое да ползваме? Rule of thumb:\n",
    "* `tuple` - когато искаме функция да върне няколко наредени неща / списък, който не може да бъде променян и може да бъде хеширан /  анонимен `dataclass` (проста структурка с няколко елемента)\n",
    "* `list` - когато искаме нареден списък, който да може да бъде променян и може да има повторения\n",
    "* `set` - когато наредбата не ни трябва и нямаме повторения / когато искаме да проверим за принадлежност на елемент към множество ($ O(1) $ vs. $ O(n) $ за `list`)\n",
    "* `dict` - когато искаме да асоциираме дадени ключове с дадени стойности"
   ]
  },
  {
   "cell_type": "markdown",
   "id": "46082fd4",
   "metadata": {},
   "source": [
    "Ключовата дума `in` е полезна при работа с такива колекции. Тя връща `bool` който ни казва дали даден елемент се среща вътре:"
   ]
  },
  {
   "cell_type": "code",
   "execution_count": null,
   "id": "ed2ea918",
   "metadata": {},
   "outputs": [
    {
     "data": {
      "text/plain": [
       "True"
      ]
     },
     "metadata": {},
     "output_type": "display_data"
    }
   ],
   "source": [
    "impostor = 1j\n",
    "squad = [0, 1j, 2, 3, 4, 5]\n",
    "\n",
    "impostor in squad"
   ]
  },
  {
   "cell_type": "code",
   "execution_count": null,
   "id": "6391c9e5",
   "metadata": {},
   "outputs": [
    {
     "data": {
      "text/plain": [
       "False"
      ]
     },
     "metadata": {},
     "output_type": "display_data"
    }
   ],
   "source": [
    "members = {\"A\": 0, \"B\": 1j, \"C\": 2, \"D\": 3, \"E\": 4, \"F\": 5}\n",
    "\n",
    "# `in` searches in the dictionary's keys, not values\n",
    "impostor in members"
   ]
  },
  {
   "cell_type": "code",
   "execution_count": null,
   "id": "a1b16613",
   "metadata": {},
   "outputs": [
    {
     "data": {
      "text/plain": [
       "True"
      ]
     },
     "metadata": {},
     "output_type": "display_data"
    }
   ],
   "source": [
    "impostor in members.values()"
   ]
  },
  {
   "cell_type": "code",
   "execution_count": null,
   "id": "aead2364",
   "metadata": {},
   "outputs": [
    {
     "data": {
      "text/plain": [
       "False"
      ]
     },
     "metadata": {},
     "output_type": "display_data"
    }
   ],
   "source": [
    "impostor in members.keys()"
   ]
  },
  {
   "cell_type": "markdown",
   "id": "826fe918",
   "metadata": {},
   "source": [
    "`in` може да се ползва и за `str`:"
   ]
  },
  {
   "cell_type": "code",
   "execution_count": null,
   "id": "368f5b2b",
   "metadata": {},
   "outputs": [
    {
     "data": {
      "text/plain": [
       "True"
      ]
     },
     "metadata": {},
     "output_type": "display_data"
    }
   ],
   "source": [
    "\"mile\" in \"smiles\""
   ]
  },
  {
   "cell_type": "markdown",
   "id": "cdc3d32e",
   "metadata": {},
   "source": [
    "Дължината им се взима с `len`:"
   ]
  },
  {
   "cell_type": "code",
   "execution_count": null,
   "id": "b835dca2",
   "metadata": {},
   "outputs": [
    {
     "data": {
      "text/plain": [
       "3"
      ]
     },
     "metadata": {},
     "output_type": "display_data"
    }
   ],
   "source": [
    "len([0, 1, 2])"
   ]
  },
  {
   "cell_type": "code",
   "execution_count": null,
   "id": "6063e192",
   "metadata": {},
   "outputs": [
    {
     "data": {
      "text/plain": [
       "3"
      ]
     },
     "metadata": {},
     "output_type": "display_data"
    }
   ],
   "source": [
    "len((0, 1, 2))"
   ]
  },
  {
   "cell_type": "code",
   "execution_count": null,
   "id": "309379ee",
   "metadata": {},
   "outputs": [
    {
     "data": {
      "text/plain": [
       "3"
      ]
     },
     "metadata": {},
     "output_type": "display_data"
    }
   ],
   "source": [
    "len({1, 1, 1, 1, 1, 2, 3})"
   ]
  },
  {
   "cell_type": "code",
   "execution_count": null,
   "id": "da921005",
   "metadata": {},
   "outputs": [
    {
     "data": {
      "text/plain": [
       "11"
      ]
     },
     "metadata": {},
     "output_type": "display_data"
    }
   ],
   "source": [
    "len(\"abracadabra\")"
   ]
  },
  {
   "cell_type": "markdown",
   "id": "b65f3a31",
   "metadata": {},
   "source": [
    "`tuple` и `list` поддържат индексиране, като за `tuple` това е само read-only:"
   ]
  },
  {
   "cell_type": "code",
   "execution_count": null,
   "id": "5ab4f266",
   "metadata": {},
   "outputs": [
    {
     "data": {
      "text/plain": [
       "'a'"
      ]
     },
     "metadata": {},
     "output_type": "display_data"
    }
   ],
   "source": [
    "t = (\"a\", \"b\", \"c\")\n",
    "t[0]"
   ]
  },
  {
   "cell_type": "code",
   "execution_count": null,
   "id": "4f31b2a2",
   "metadata": {},
   "outputs": [
    {
     "data": {
      "text/plain": [
       "'a'"
      ]
     },
     "metadata": {},
     "output_type": "display_data"
    }
   ],
   "source": [
    "l = [\"a\", \"b\", \"c\"]\n",
    "l[0]"
   ]
  },
  {
   "cell_type": "code",
   "execution_count": null,
   "id": "dd934aff",
   "metadata": {},
   "outputs": [
    {
     "data": {
      "text/plain": [
       "['A', 'b', 'c']"
      ]
     },
     "metadata": {},
     "output_type": "display_data"
    }
   ],
   "source": [
    "l[0] = \"A\"\n",
    "l"
   ]
  },
  {
   "cell_type": "code",
   "execution_count": null,
   "id": "a188c1af",
   "metadata": {},
   "outputs": [
    {
     "ename": "TypeError",
     "evalue": "'tuple' object does not support item assignment",
     "output_type": "error",
     "traceback": [
      "\u001b[1;31m---------------------------------------------------------------------------\u001b[0m\n",
      "\u001b[1;31mTypeError\u001b[0m                                 Traceback (most recent call last)\n",
      "Cell \u001b[1;32mIn[77], line 1\u001b[0m\n",
      "\u001b[1;32m----> 1\u001b[0m \u001b[43mt\u001b[49m\u001b[43m[\u001b[49m\u001b[38;5;241;43m0\u001b[39;49m\u001b[43m]\u001b[49m \u001b[38;5;241m=\u001b[39m \u001b[38;5;124m\"\u001b[39m\u001b[38;5;124mA\u001b[39m\u001b[38;5;124m\"\u001b[39m  \u001b[38;5;66;03m# 💥\u001b[39;00m\n",
      "\n",
      "\u001b[1;31mTypeError\u001b[0m: 'tuple' object does not support item assignment"
     ]
    }
   ],
   "source": [
    "t[0] = \"A\"  # 💥"
   ]
  },
  {
   "cell_type": "markdown",
   "id": "078b3836",
   "metadata": {},
   "source": [
    "По същия начин става взимането/записването на стойност в `dict`. Съществува и метода `get` който ни предоставя по-безопасен начин при достъпването на несъществуващи ключове:"
   ]
  },
  {
   "cell_type": "code",
   "execution_count": null,
   "id": "a8639ca4",
   "metadata": {},
   "outputs": [
    {
     "data": {
      "text/plain": [
       "{}"
      ]
     },
     "metadata": {},
     "output_type": "display_data"
    }
   ],
   "source": [
    "d = {}  # an empty dictoinary\n",
    "d"
   ]
  },
  {
   "cell_type": "code",
   "execution_count": null,
   "id": "dbf85ce3",
   "metadata": {},
   "outputs": [
    {
     "data": {
      "text/plain": [
       "{'a': 1}"
      ]
     },
     "metadata": {},
     "output_type": "display_data"
    }
   ],
   "source": [
    "d[\"a\"] = 1\n",
    "d"
   ]
  },
  {
   "cell_type": "code",
   "execution_count": null,
   "id": "50b4f5ec",
   "metadata": {},
   "outputs": [
    {
     "data": {
      "text/plain": [
       "1"
      ]
     },
     "metadata": {},
     "output_type": "display_data"
    }
   ],
   "source": [
    "d[\"a\"]"
   ]
  },
  {
   "cell_type": "code",
   "execution_count": null,
   "id": "87909017",
   "metadata": {},
   "outputs": [
    {
     "data": {
      "text/plain": [
       "1"
      ]
     },
     "metadata": {},
     "output_type": "display_data"
    }
   ],
   "source": [
    "d.get(\"a\")"
   ]
  },
  {
   "cell_type": "code",
   "execution_count": null,
   "id": "58c61ef3",
   "metadata": {},
   "outputs": [
    {
     "name": "stdout",
     "output_type": "stream",
     "text": [
      "None\n"
     ]
    }
   ],
   "source": [
    "print(d.get(\"b\"))  # using `print`` because Jupyter doesn't show `None` as output"
   ]
  },
  {
   "cell_type": "code",
   "execution_count": null,
   "id": "94c9e9c8",
   "metadata": {},
   "outputs": [
    {
     "data": {
      "text/plain": [
       "'default value'"
      ]
     },
     "metadata": {},
     "output_type": "display_data"
    }
   ],
   "source": [
    "d.get(\"b\", \"default value\")"
   ]
  },
  {
   "cell_type": "code",
   "execution_count": null,
   "id": "97e63b52",
   "metadata": {},
   "outputs": [
    {
     "ename": "KeyError",
     "evalue": "'b'",
     "output_type": "error",
     "traceback": [
      "\u001b[1;31m---------------------------------------------------------------------------\u001b[0m\n",
      "\u001b[1;31mKeyError\u001b[0m                                  Traceback (most recent call last)\n",
      "Cell \u001b[1;32mIn[84], line 1\u001b[0m\n",
      "\u001b[1;32m----> 1\u001b[0m \u001b[43md\u001b[49m\u001b[43m[\u001b[49m\u001b[38;5;124;43m\"\u001b[39;49m\u001b[38;5;124;43mb\u001b[39;49m\u001b[38;5;124;43m\"\u001b[39;49m\u001b[43m]\u001b[49m  \u001b[38;5;66;03m# 💥\u001b[39;00m\n",
      "\n",
      "\u001b[1;31mKeyError\u001b[0m: 'b'"
     ]
    }
   ],
   "source": [
    "d[\"b\"]  # 💥"
   ]
  },
  {
   "cell_type": "markdown",
   "id": "7aa43b25",
   "metadata": {},
   "source": [
    "*Pro tip*: `collections.defalutdict` е `dict` със зададена стойност по подразбиране, която се връща при липсващ ключ."
   ]
  },
  {
   "cell_type": "markdown",
   "id": "7eefddbb",
   "metadata": {},
   "source": [
    "## Mutable vs Immutable\n",
    "\n",
    "Имената в Python *сочат* към някаква стойност в паметта."
   ]
  },
  {
   "cell_type": "code",
   "execution_count": null,
   "id": "8cbd44d8",
   "metadata": {},
   "outputs": [
    {
     "data": {
      "text/plain": [
       "1001"
      ]
     },
     "metadata": {},
     "output_type": "display_data"
    }
   ],
   "source": [
    "name = 1\n",
    "name += 1000\n",
    "\n",
    "name"
   ]
  },
  {
   "cell_type": "markdown",
   "id": "b6093083",
   "metadata": {},
   "source": [
    "Горното парче код не променя стойността на `1`, а кара `name` да сочи към нова стойност - `1001`.\n",
    "\n",
    "Това е така, понеже `int` е **immutable** тип (такъв който не може да си променя стойността). Immutable са още всички числа, низове, `tuple`, `True`, `False`, `None` и [т.н.](https://www.youtube.com/watch?v=pNc1kboPuDU&list=PLkROH3Eqs0T8cWGQnJ2ZfLE5y9yohLk3x)\n",
    "\n",
    "Mutable типовете пък са `list`, `set`, `dict` и почти всичко останало."
   ]
  },
  {
   "cell_type": "code",
   "execution_count": null,
   "id": "3bcc6764",
   "metadata": {},
   "outputs": [
    {
     "name": "stdout",
     "output_type": "stream",
     "text": [
      "a =  1\n",
      "b =  2\n"
     ]
    }
   ],
   "source": [
    "a = 1\n",
    "b = a\n",
    "b += 1\n",
    "\n",
    "print(\"a = \", a)\n",
    "print(\"b = \", b)"
   ]
  },
  {
   "cell_type": "code",
   "execution_count": null,
   "id": "caec90b4",
   "metadata": {},
   "outputs": [
    {
     "name": "stdout",
     "output_type": "stream",
     "text": [
      "l1 =  [1, 2, 3]\n",
      "l2 =  [1, 2, 3]\n"
     ]
    }
   ],
   "source": [
    "l1 = [1, 2]\n",
    "l2 = l1\n",
    "l2.append(3)\n",
    "\n",
    "print(\"l1 = \", l1)\n",
    "print(\"l2 = \", l2)"
   ]
  },
  {
   "cell_type": "markdown",
   "id": "d1698612",
   "metadata": {},
   "source": [
    "Важно е да се отбележи също, че валидни **ключове** за `dict` и елементи за `set` са само **immutable** стойности. По-точно, тези, които имат имплементация на хеширане (методът `__hash__`)."
   ]
  },
  {
   "cell_type": "code",
   "execution_count": null,
   "id": "b806e240",
   "metadata": {},
   "outputs": [
    {
     "ename": "TypeError",
     "evalue": "unhashable type: 'list'",
     "output_type": "error",
     "traceback": [
      "\u001b[1;31m---------------------------------------------------------------------------\u001b[0m\n",
      "\u001b[1;31mTypeError\u001b[0m                                 Traceback (most recent call last)\n",
      "Cell \u001b[1;32mIn[88], line 2\u001b[0m\n",
      "\u001b[0;32m      1\u001b[0m l \u001b[38;5;241m=\u001b[39m [\u001b[38;5;241m1\u001b[39m, \u001b[38;5;241m2\u001b[39m]\n",
      "\u001b[1;32m----> 2\u001b[0m d \u001b[38;5;241m=\u001b[39m {l: \u001b[38;5;241m1\u001b[39m}  \u001b[38;5;66;03m# 💥\u001b[39;00m\n",
      "\n",
      "\u001b[1;31mTypeError\u001b[0m: unhashable type: 'list'"
     ]
    }
   ],
   "source": [
    "l = [1, 2]\n",
    "d = {l: 1}  # 💥"
   ]
  },
  {
   "cell_type": "markdown",
   "id": "c06f73b6",
   "metadata": {},
   "source": [
    "### Unpacking\n",
    "\n",
    "Unpacking-ът ни позволява да извлечем всички елементи от колекции в няколко различни други имена."
   ]
  },
  {
   "cell_type": "code",
   "execution_count": null,
   "id": "9c93c678",
   "metadata": {},
   "outputs": [
    {
     "name": "stdout",
     "output_type": "stream",
     "text": [
      "firstname='Вовеки', lastname='Веков'\n",
      "a=1, b=2, c=3\n"
     ]
    }
   ],
   "source": [
    "firstname, lastname = \"Вовеки\", \"Веков\"\n",
    "\n",
    "tup = 1, 2, 3\n",
    "a, b, c = tup\n",
    "\n",
    "print(f\"{firstname=}, {lastname=}\")\n",
    "print(f\"{a=}, {b=}, {c=}\")"
   ]
  },
  {
   "cell_type": "markdown",
   "id": "63415f50",
   "metadata": {},
   "source": [
    "Pro tip: размяната на стойностите на две променливи в Python не изисква да дефинираме трета:"
   ]
  },
  {
   "cell_type": "code",
   "execution_count": null,
   "id": "a76ef092",
   "metadata": {},
   "outputs": [
    {
     "name": "stdout",
     "output_type": "stream",
     "text": [
      "a=2, b=1\n"
     ]
    }
   ],
   "source": [
    "a, b = 1, 2\n",
    "a, b = b, a\n",
    "\n",
    "print(f\"{a=}, {b=}\")"
   ]
  },
  {
   "cell_type": "markdown",
   "id": "5e6ed9a1",
   "metadata": {},
   "source": [
    "За да посочим име, в което да се присвоят всички останали неприсвоени елементи от колекцията, която unpack-ваме, използваме астериск `*` (няма нищо общо с pointer, спокойно). Типът на такава променлива винаги става `list`."
   ]
  },
  {
   "cell_type": "code",
   "execution_count": null,
   "id": "f50b84c4",
   "metadata": {},
   "outputs": [
    {
     "name": "stdout",
     "output_type": "stream",
     "text": [
      "head=1, tail=[2, 3, 4, 5]\n",
      "first=1, inbetween=[2, 3, 4, 5, 6, 7, 8, 9], last=10\n"
     ]
    }
   ],
   "source": [
    "head, *tail = [1, 2, 3, 4, 5]\n",
    "first, *inbetween, last = 1, 2, 3, 4, 5, 6, 7, 8, 9, 10\n",
    "\n",
    "print(f\"{head=}, {tail=}\")\n",
    "print(f\"{first=}, {inbetween=}, {last=}\")\n"
   ]
  },
  {
   "cell_type": "markdown",
   "id": "831804c7",
   "metadata": {},
   "source": [
    "Това може да бъде приложимо при слепване на колекции, като за `dict` ползваме `**`:"
   ]
  },
  {
   "cell_type": "code",
   "execution_count": null,
   "id": "07ba691f",
   "metadata": {},
   "outputs": [
    {
     "data": {
      "text/plain": [
       "['flour', 'eggs', 'butter', 'water', 'salt', 'sugar']"
      ]
     },
     "metadata": {},
     "output_type": "display_data"
    }
   ],
   "source": [
    "original_ingredients = [\"water\", \"salt\", \"sugar\"]\n",
    "new_ingredients = [\"flour\", \"eggs\", \"butter\", *original_ingredients]\n",
    "\n",
    "new_ingredients"
   ]
  },
  {
   "cell_type": "code",
   "execution_count": null,
   "id": "75f96000",
   "metadata": {},
   "outputs": [
    {
     "data": {
      "text/plain": [
       "{'BASS': 'Pesho', 'DRUMS': '亚历山大', 'GUITAR': 'Vasko', 'MICROPHONE': 'Ceca'}"
      ]
     },
     "metadata": {},
     "output_type": "display_data"
    }
   ],
   "source": [
    "studio_band = {\"GUITAR\": \"Vasko\", \"MICROPHONE\": \"Ceca\"}\n",
    "live_band = {\"BASS\": \"Pesho\", \"DRUMS\": \"亚历山大\", **studio_band}\n",
    "\n",
    "live_band"
   ]
  },
  {
   "cell_type": "markdown",
   "id": "c7f96ba5",
   "metadata": {},
   "source": [
    "## Конвертиране между типове"
   ]
  },
  {
   "cell_type": "markdown",
   "id": "037b53a1",
   "metadata": {},
   "source": [
    "В C/C++/Java трябва да ползваме `atoi`, `atof`, `strtol`, `strtof`, `Integer.parseInt`, `Float.parseFloat` и т.н. за конвертиране на числа от низове и обратно.\n",
    "\n",
    "В С/С++/С# имаме и синтаксис от рода на `(int)...`, `(float)...`, `(string)...` и т.н.\n",
    "\n",
    "Тук няма нужда от това.\n",
    "\n",
    "Просто използваме *конструкторите* на типовете (да припомним, че в Python всичко е обект, и си има конструктор):"
   ]
  },
  {
   "cell_type": "code",
   "execution_count": null,
   "id": "88382b24",
   "metadata": {},
   "outputs": [
    {
     "data": {
      "text/plain": [
       "'42'"
      ]
     },
     "metadata": {},
     "output_type": "display_data"
    }
   ],
   "source": [
    "str(42)"
   ]
  },
  {
   "cell_type": "code",
   "execution_count": null,
   "id": "6357e05c",
   "metadata": {},
   "outputs": [
    {
     "data": {
      "text/plain": [
       "42"
      ]
     },
     "metadata": {},
     "output_type": "display_data"
    }
   ],
   "source": [
    "int(\"42\")"
   ]
  },
  {
   "cell_type": "code",
   "execution_count": null,
   "id": "8b0c27be",
   "metadata": {},
   "outputs": [
    {
     "data": {
      "text/plain": [
       "42"
      ]
     },
     "metadata": {},
     "output_type": "display_data"
    }
   ],
   "source": [
    "int(42.69)"
   ]
  },
  {
   "cell_type": "code",
   "execution_count": null,
   "id": "cae795a2",
   "metadata": {},
   "outputs": [
    {
     "data": {
      "text/plain": [
       "42.0"
      ]
     },
     "metadata": {},
     "output_type": "display_data"
    }
   ],
   "source": [
    "float(42)"
   ]
  },
  {
   "cell_type": "code",
   "execution_count": null,
   "id": "412d2126",
   "metadata": {},
   "outputs": [
    {
     "data": {
      "text/plain": [
       "True"
      ]
     },
     "metadata": {},
     "output_type": "display_data"
    }
   ],
   "source": [
    "bool(42)"
   ]
  },
  {
   "cell_type": "code",
   "execution_count": null,
   "id": "8a9d1f95",
   "metadata": {},
   "outputs": [
    {
     "data": {
      "text/plain": [
       "False"
      ]
     },
     "metadata": {},
     "output_type": "display_data"
    }
   ],
   "source": [
    "bool(0)"
   ]
  },
  {
   "cell_type": "code",
   "execution_count": null,
   "id": "9366015b",
   "metadata": {},
   "outputs": [
    {
     "data": {
      "text/plain": [
       "['а',\n",
       " 'б',\n",
       " 'в',\n",
       " 'г',\n",
       " 'д',\n",
       " 'е',\n",
       " 'ж',\n",
       " 'з',\n",
       " 'и',\n",
       " 'й',\n",
       " 'к',\n",
       " 'л',\n",
       " 'м',\n",
       " 'н',\n",
       " 'о',\n",
       " 'п',\n",
       " 'р',\n",
       " 'с',\n",
       " 'т',\n",
       " 'у',\n",
       " 'ф',\n",
       " 'х',\n",
       " 'ц',\n",
       " 'ч',\n",
       " 'ш',\n",
       " 'щ',\n",
       " 'ъ',\n",
       " 'ь',\n",
       " 'ю',\n",
       " 'я']"
      ]
     },
     "metadata": {},
     "output_type": "display_data"
    }
   ],
   "source": [
    "list(\"абвгдежзийклмнопрстуфхцчшщъьюя\")"
   ]
  },
  {
   "cell_type": "code",
   "execution_count": null,
   "id": "a9a37118",
   "metadata": {},
   "outputs": [
    {
     "data": {
      "text/plain": [
       "(1, 2, 3)"
      ]
     },
     "metadata": {},
     "output_type": "display_data"
    }
   ],
   "source": [
    "tuple([1, 2, 3])"
   ]
  },
  {
   "cell_type": "code",
   "execution_count": null,
   "id": "a18c3a0f",
   "metadata": {},
   "outputs": [
    {
     "data": {
      "text/plain": [
       "[1, 2, 3]"
      ]
     },
     "metadata": {},
     "output_type": "display_data"
    }
   ],
   "source": [
    "list((1, 2, 3))"
   ]
  },
  {
   "cell_type": "code",
   "execution_count": null,
   "id": "cacdd936",
   "metadata": {},
   "outputs": [
    {
     "data": {
      "text/plain": [
       "{1, 2, 3}"
      ]
     },
     "metadata": {},
     "output_type": "display_data"
    }
   ],
   "source": [
    "set([1, 1, 1, 2, 3, 3, 3, 3, 3])"
   ]
  },
  {
   "cell_type": "code",
   "execution_count": null,
   "id": "f4c2651b",
   "metadata": {},
   "outputs": [
    {
     "data": {
      "text/plain": [
       "{'a': 1, 'b': 2, 'c': 3}"
      ]
     },
     "metadata": {},
     "output_type": "display_data"
    }
   ],
   "source": [
    "dict([(\"a\", 1), (\"b\", 2), (\"c\", 3)])"
   ]
  },
  {
   "cell_type": "markdown",
   "id": "84129562",
   "metadata": {},
   "source": [
    "## Блокове"
   ]
  },
  {
   "cell_type": "markdown",
   "id": "bdc596ff",
   "metadata": {},
   "source": [
    "В Python блоковете от код се отделят не чрез къдрави скоби, а с индентация.\n",
    "\n",
    "За съжаление на хората, предпочитащи скоби, това няма да се промени в бъдещи версии на езика:"
   ]
  },
  {
   "cell_type": "code",
   "execution_count": null,
   "id": "0102548b",
   "metadata": {},
   "outputs": [
    {
     "ename": "SyntaxError",
     "evalue": "not a chance (3905450354.py, line 1)",
     "output_type": "error",
     "traceback": [
      "\u001b[1;36m  Cell \u001b[1;32mIn[105], line 1\u001b[1;36m\u001b[0m\n",
      "\u001b[1;33m    from __future__ import braces\u001b[0m\n",
      "\u001b[1;37m    ^\u001b[0m\n",
      "\u001b[1;31mSyntaxError\u001b[0m\u001b[1;31m:\u001b[0m not a chance\n"
     ]
    }
   ],
   "source": [
    "from __future__ import braces"
   ]
  },
  {
   "cell_type": "markdown",
   "id": "6835ef5b",
   "metadata": {},
   "source": [
    "Важно е да се отбележи, че всеки блок започва след двуеточие и всеки негов ред започва с определен брой интервали (или една табулация) по-навътре от предходния блок. За да бъде валдна индентацията трябва да е консистентна в целия файл, в противен случай ще се хвърли `IndentationError`. Общоприето е в Python да си използват 4 интервала за тази цел."
   ]
  },
  {
   "cell_type": "code",
   "execution_count": null,
   "id": "15338d26",
   "metadata": {},
   "outputs": [
    {
     "ename": "IndentationError",
     "evalue": "unexpected indent (1618609151.py, line 3)",
     "output_type": "error",
     "traceback": [
      "\u001b[1;36m  Cell \u001b[1;32mIn[106], line 3\u001b[1;36m\u001b[0m\n",
      "\u001b[1;33m    print(\"But this one is not\")\u001b[0m\n",
      "\u001b[1;37m    ^\u001b[0m\n",
      "\u001b[1;31mIndentationError\u001b[0m\u001b[1;31m:\u001b[0m unexpected indent\n"
     ]
    }
   ],
   "source": [
    "if True:\n",
    "    print(\"This line is ok\")\n",
    "        print(\"But this one is not\")"
   ]
  },
  {
   "cell_type": "markdown",
   "id": "853ca4b0",
   "metadata": {},
   "source": [
    "Side note: едноредови блокове могат да се запишат и на същия ред след двуеточието. Често срещана конвенция обаче е да не се пишат по този начин."
   ]
  },
  {
   "cell_type": "code",
   "execution_count": null,
   "id": "e8c7dd1f",
   "metadata": {},
   "outputs": [
    {
     "name": "stdout",
     "output_type": "stream",
     "text": [
      "This will run\n"
     ]
    }
   ],
   "source": [
    "if True: print(\"This will run\")"
   ]
  },
  {
   "cell_type": "markdown",
   "id": "9d8b3f17",
   "metadata": {},
   "source": [
    "## Контролни структури"
   ]
  },
  {
   "cell_type": "markdown",
   "id": "1a11fd5f",
   "metadata": {},
   "source": [
    "### `if`"
   ]
  },
  {
   "cell_type": "code",
   "execution_count": null,
   "id": "0d85b5fc",
   "metadata": {},
   "outputs": [
    {
     "name": "stdout",
     "output_type": "stream",
     "text": [
      "You good.\n"
     ]
    }
   ],
   "source": [
    "age = 21\n",
    "\n",
    "if age == 18:\n",
    "    print(\"Barely legal\")\n",
    "elif age < 18:\n",
    "    print(\"Sorry, you are not allowed.\")\n",
    "else:\n",
    "    print(\"You good.\")"
   ]
  },
  {
   "cell_type": "markdown",
   "id": "4ebcc03a",
   "metadata": {},
   "source": [
    "Няма нужда от скоби около условията (и не пишете такива, за да не ви се караме за глупости). \n",
    "\n",
    "Едно условие се оценява на `False`, когато стойността му е `False`, `None`, `0`, `0.0`, `0j`, `''`, `b''`, `[]`, `{}` и всички празни контейнери. Всички други стойности се оценяват до `True`."
   ]
  },
  {
   "cell_type": "markdown",
   "id": "572590e9",
   "metadata": {},
   "source": [
    "Съществува и едноредова версия на `if` с `else`, която има за цел да служи като тернарния оператор в повечето езици:"
   ]
  },
  {
   "cell_type": "code",
   "execution_count": null,
   "id": "288f2ab5",
   "metadata": {},
   "outputs": [
    {
     "data": {
      "text/plain": [
       "'definitely not odd'"
      ]
     },
     "metadata": {},
     "output_type": "display_data"
    }
   ],
   "source": [
    "num = 420\n",
    "statement = \"odd\" if num % 2 == 1 else \"definitely not odd\"\n",
    "\n",
    "statement"
   ]
  },
  {
   "cell_type": "markdown",
   "id": "791bc656",
   "metadata": {},
   "source": [
    "Операторите за сравнение са `==`, `!=`, `<`, `>`, `<=`, `>=`. Съществува и `<>`, който е просто различен запис на `!=`.\n",
    "\n",
    "В Python е възможно комбинирането им. Например `1 < 2 and 2 < 3` може да бъде записано като `1 < 2 < 3`."
   ]
  },
  {
   "cell_type": "code",
   "execution_count": null,
   "id": "c16c59d7",
   "metadata": {},
   "outputs": [
    {
     "name": "stdout",
     "output_type": "stream",
     "text": [
      "Client error\n"
     ]
    }
   ],
   "source": [
    "code = 404\n",
    "\n",
    "if 100 <= code < 200:\n",
    "    print(\"Informational response\")\n",
    "elif 200 <= code < 300:\n",
    "    print(\"OK response\")\n",
    "elif 300 <= code < 400:\n",
    "    print(\"Redirection\")\n",
    "elif 400 <= code < 500:\n",
    "    print(\"Client error\")\n",
    "elif 500 <= code < 600:\n",
    "    print(\"Server error\")\n",
    "else:\n",
    "    print(\"Not a valid HTTP status code\")"
   ]
  },
  {
   "cell_type": "markdown",
   "id": "2fc89864",
   "metadata": {},
   "source": [
    "Ключовата дума `is` сравнява по референция, докато `==` сравнява по стойност:"
   ]
  },
  {
   "cell_type": "code",
   "execution_count": null,
   "id": "44e96f96",
   "metadata": {},
   "outputs": [
    {
     "name": "stdout",
     "output_type": "stream",
     "text": [
      "a and b are equal\n",
      "a does not point to the same thing as b\n"
     ]
    }
   ],
   "source": [
    "a = [1, 2, 3]\n",
    "b = [1, 2, 3]\n",
    "\n",
    "if a == b:\n",
    "    print(\"a and b are equal\")\n",
    "else:\n",
    "    print(\"a and b are not equal\")\n",
    "\n",
    "if a is b:\n",
    "    print(\"a points to the same thing as b\")\n",
    "else:\n",
    "    print(\"a does not point to the same thing as b\")"
   ]
  },
  {
   "cell_type": "markdown",
   "id": "4304164f",
   "metadata": {},
   "source": [
    "Side note: сравнение с `None` може да бъде направено и по двата начина, но за четимост се ползва по-често `is`."
   ]
  },
  {
   "cell_type": "code",
   "execution_count": null,
   "id": "41a1c759",
   "metadata": {},
   "outputs": [
    {
     "name": "stdout",
     "output_type": "stream",
     "text": [
      "No result.\n"
     ]
    }
   ],
   "source": [
    "result = None\n",
    "\n",
    "if result is not None:  # clear 'nuff, innit \n",
    "    print(f\"We got a result, it is {result}.\")\n",
    "else:\n",
    "    print(\"No result.\")"
   ]
  },
  {
   "cell_type": "markdown",
   "id": "85be011f",
   "metadata": {},
   "source": [
    "⚠️ Трябва да се внимава винаги с очакваната прецизност на числата с плаваща запетая:"
   ]
  },
  {
   "cell_type": "code",
   "execution_count": null,
   "id": "f09ab915",
   "metadata": {},
   "outputs": [
    {
     "name": "stdout",
     "output_type": "stream",
     "text": [
      "Да, ама не: 0.1 + 0.2 == 0.30000000000000004\n"
     ]
    }
   ],
   "source": [
    "if 0.1 + 0.2 == 0.3:\n",
    "    print(\"Естествено, че ще влезе тука\")\n",
    "else:\n",
    "    print(f\"Да, ама не: 0.1 + 0.2 == {0.1 + 0.2}\")"
   ]
  },
  {
   "cell_type": "markdown",
   "id": "dddcc400",
   "metadata": {},
   "source": [
    "### `while`"
   ]
  },
  {
   "cell_type": "code",
   "execution_count": null,
   "id": "282f8031",
   "metadata": {},
   "outputs": [
    {
     "name": "stdout",
     "output_type": "stream",
     "text": [
      "1: \n",
      "2: \n",
      "3: Fizz\n",
      "4: \n",
      "5: Buzz\n",
      "6: Fizz\n",
      "7: \n",
      "8: \n",
      "9: Fizz\n",
      "10: Buzz\n",
      "11: \n",
      "12: Fizz\n",
      "13: \n",
      "14: \n",
      "15: FizzBuzz\n",
      "16: \n",
      "17: \n",
      "18: Fizz\n",
      "19: \n",
      "20: Buzz\n"
     ]
    }
   ],
   "source": [
    "num = 0\n",
    "while num < 20:\n",
    "    num += 1\n",
    "    current_output = f\"{num}: \"\n",
    "\n",
    "    if num % 3 == 0 and num % 5 == 0:\n",
    "        current_output += \"FizzBuzz\"\n",
    "    elif num % 3 == 0:\n",
    "        current_output += \"Fizz\"\n",
    "    elif num % 5 == 0:\n",
    "        current_output += \"Buzz\"\n",
    "\n",
    "    print(current_output)"
   ]
  },
  {
   "cell_type": "markdown",
   "id": "55f4b1df",
   "metadata": {},
   "source": [
    "`continue` прекъсва изпълнението на текущaта итерация и продължава със следващата.\n",
    "\n",
    "`break` прекъсва изпълнението на цикъла."
   ]
  },
  {
   "cell_type": "code",
   "execution_count": null,
   "id": "dde6a885",
   "metadata": {},
   "outputs": [
    {
     "name": "stdout",
     "output_type": "stream",
     "text": [
      "15\n",
      "30\n",
      "45\n",
      "60\n",
      "75\n",
      "90\n"
     ]
    }
   ],
   "source": [
    "n = 0\n",
    "while True:\n",
    "    if n > 100:\n",
    "        break\n",
    "\n",
    "    n += 1\n",
    "\n",
    "    if n % 3 != 0 or n % 5 != 0:\n",
    "        continue\n",
    "    \n",
    "    print(n)"
   ]
  },
  {
   "cell_type": "markdown",
   "id": "a1ec3876",
   "metadata": {},
   "source": [
    "Възможно е да се напише и `else` блок след тялото на `while`-a. Тогава той ще се изпълни само ако условието в `while`-a стане `False` без да бъде прекъсвано изпълнението на цикъла чрез `break` или `return`:"
   ]
  },
  {
   "cell_type": "code",
   "execution_count": null,
   "id": "ff058085",
   "metadata": {},
   "outputs": [
    {
     "name": "stdout",
     "output_type": "stream",
     "text": [
      "There is a khan.\n",
      "There is a pharaoh.\n",
      "There is a sultan.\n",
      "There is a kaiser.\n",
      "I want to break free!\n"
     ]
    }
   ],
   "source": [
    "# try re-running the cell with and without \"queen\" in the list\n",
    "stekchi = [\"king\", \"emperor\", \"tsar\", \"queen\", \"kaiser\", \"sultan\", \"pharaoh\", \"khan\"]\n",
    "\n",
    "while stekchi:  # while the list is not empty\n",
    "    last_element = stekchi.pop()  # pop() both removes and returns an element, by default the last one\n",
    "\n",
    "    if last_element == \"queen\":\n",
    "        print(\"I want to break free!\")\n",
    "        break\n",
    "\n",
    "    print(f\"There is a {last_element}.\")\n",
    "else:\n",
    "    print(\"No queen found.\")\n"
   ]
  },
  {
   "cell_type": "markdown",
   "id": "ec81ed5e",
   "metadata": {},
   "source": [
    "### `for`\n",
    "\n",
    "`for`-циклите в Python итерират върху дадена колекция:"
   ]
  },
  {
   "cell_type": "code",
   "execution_count": null,
   "id": "410efb0c",
   "metadata": {},
   "outputs": [
    {
     "name": "stdout",
     "output_type": "stream",
     "text": [
      "I will need eggs\n",
      "I will need milk\n",
      "I will need flour\n",
      "I will need sugar\n"
     ]
    }
   ],
   "source": [
    "ingredients = [\"eggs\", \"milk\", \"flour\", \"sugar\"]\n",
    "\n",
    "for i in ingredients:\n",
    "    print(f\"I will need {i}\")"
   ]
  },
  {
   "cell_type": "code",
   "execution_count": null,
   "id": "fdbb7244",
   "metadata": {},
   "outputs": [
    {
     "name": "stdout",
     "output_type": "stream",
     "text": [
      "We got eggs for $0.98\n",
      "We got milk for $1.23\n",
      "We got flour for $1.59\n",
      "We got sugar for $0.88\n"
     ]
    }
   ],
   "source": [
    "ingredients_price = {\"eggs\": 0.98, \"milk\": 1.23, \"flour\": 1.59, \"sugar\": 0.88}\n",
    "\n",
    "for ingr, price in ingredients_price.items():  # IMPORTANT: .items() returns a tuple of (key, value)\n",
    "    print(f\"We got {ingr} for ${price}\")"
   ]
  },
  {
   "cell_type": "markdown",
   "id": "e981cfb8",
   "metadata": {},
   "source": [
    "*Tip*: Питонският начин при обхождане да боравим и с индекса, и със самата стойност на колекцията, е чрез `enumerate`:"
   ]
  },
  {
   "cell_type": "code",
   "execution_count": null,
   "id": "a434ada6",
   "metadata": {},
   "outputs": [
    {
     "name": "stdout",
     "output_type": "stream",
     "text": [
      "Ingredient 1: eggs\n",
      "Ingredient 2: milk\n",
      "Ingredient 3: flour\n",
      "Ingredient 4: sugar\n"
     ]
    }
   ],
   "source": [
    "for i, ingr in enumerate(ingredients):  # enumerate() returns a tuple of (index, element)\n",
    "    print(f\"Ingredient {i+1}: {ingr}\")"
   ]
  },
  {
   "cell_type": "markdown",
   "id": "58ad791f",
   "metadata": {},
   "source": [
    "`range` ни позволява да създадем колекция от числа от началото до края на даден интервал през определена стъпка:"
   ]
  },
  {
   "cell_type": "code",
   "execution_count": null,
   "id": "b534f931",
   "metadata": {},
   "outputs": [
    {
     "name": "stdout",
     "output_type": "stream",
     "text": [
      "0 1 2 3 4 5 6 7 8 9 10 11 12 13 14 15 16 17 18 19 "
     ]
    }
   ],
   "source": [
    "for i in range(20):\n",
    "    print(i, end=\" \")"
   ]
  },
  {
   "cell_type": "code",
   "execution_count": null,
   "id": "d31fc0d6",
   "metadata": {},
   "outputs": [
    {
     "name": "stdout",
     "output_type": "stream",
     "text": [
      "10 11 12 13 14 15 16 17 18 19 "
     ]
    }
   ],
   "source": [
    "for i in range(10, 20):\n",
    "    print(i, end=\" \")"
   ]
  },
  {
   "cell_type": "code",
   "execution_count": null,
   "id": "7d16209b",
   "metadata": {},
   "outputs": [
    {
     "name": "stdout",
     "output_type": "stream",
     "text": [
      "10 13 16 19 "
     ]
    }
   ],
   "source": [
    "for i in range(10, 20, 3):\n",
    "    print(i, end=\" \")"
   ]
  },
  {
   "cell_type": "code",
   "execution_count": null,
   "id": "d2ab33f7",
   "metadata": {},
   "outputs": [
    {
     "name": "stdout",
     "output_type": "stream",
     "text": [
      "20 17 14 11 "
     ]
    }
   ],
   "source": [
    "for i in range(20, 10, -3):\n",
    "    print(i, end=\" \")"
   ]
  },
  {
   "cell_type": "markdown",
   "id": "f517e2aa",
   "metadata": {},
   "source": [
    "По същия начин както при `while`-циклите, `else` може да бъде използван и с `for`:"
   ]
  },
  {
   "cell_type": "code",
   "execution_count": null,
   "id": "e2be8a6c",
   "metadata": {},
   "outputs": [
    {
     "name": "stdout",
     "output_type": "stream",
     "text": [
      "2 is a prime number\n",
      "3 is a prime number\n",
      "4 = 2 * 2\n",
      "5 is a prime number\n",
      "6 = 2 * 3\n",
      "7 is a prime number\n",
      "8 = 2 * 4\n",
      "9 = 3 * 3\n",
      "10 = 2 * 5\n",
      "11 is a prime number\n",
      "12 = 2 * 6\n",
      "13 is a prime number\n",
      "14 = 2 * 7\n",
      "15 = 3 * 5\n",
      "16 = 2 * 8\n",
      "17 is a prime number\n",
      "18 = 2 * 9\n",
      "19 is a prime number\n"
     ]
    }
   ],
   "source": [
    "for n in range(2, 20):\n",
    "    for x in range(2, n):\n",
    "        if n % x == 0:\n",
    "            print(f\"{n} = {x} * {n // x}\")\n",
    "            break\n",
    "    else:\n",
    "        print(f\"{n} is a prime number\")\n"
   ]
  },
  {
   "cell_type": "markdown",
   "id": "c4b33cd8",
   "metadata": {},
   "source": [
    "### `match` (version 3.10+ !!!)\n",
    "\n",
    "В Python `switch-case` нарочно няма. От версия 3.10 насам обаче съществува `match`, което е по-скоро подобно на `switch` или `match` във функционалните езици за програмиране. С него можем да съпоставяме структурата на изрази в различни случаи, които ни интересуват, елиминирайки нуждата от вложени `if`-ове, проверки за типа на променливи, сложни проверки за размерности и структура на колекции и др. Това е мощно ново свойство на езика, за което повече информация може да намерим [тук](https://realpython.com/python310-new-features/#structural-pattern-matching)."
   ]
  },
  {
   "cell_type": "markdown",
   "id": "56f545e0",
   "metadata": {},
   "source": [
    "## Функции"
   ]
  },
  {
   "cell_type": "code",
   "execution_count": null,
   "id": "8bc41512",
   "metadata": {},
   "outputs": [
    {
     "data": {
      "text/plain": [
       "16777216"
      ]
     },
     "metadata": {},
     "output_type": "display_data"
    }
   ],
   "source": [
    "def f(x):\n",
    "    return x ** x\n",
    "\n",
    "f(8)"
   ]
  },
  {
   "cell_type": "markdown",
   "id": "113741f1",
   "metadata": {},
   "source": [
    "`def` е ключовата дума, която започва дефинията на функция. След името и списък от аргументите в скоби, следва блок с код, който се изпълнява при извикването ѝ.\n",
    "\n",
    "При достигане на `return` или крaя на блокът от код, изпълнението на функцията прекъсва. Във втория случай или когато след `return` няма нищо посочено, функцията връща `None`.\n"
   ]
  },
  {
   "cell_type": "code",
   "execution_count": null,
   "id": "8d01be82",
   "metadata": {},
   "outputs": [
    {
     "name": "stdout",
     "output_type": "stream",
     "text": [
      "I am Procedure.\n",
      "I shall be the reigning lord of the kingdom of side effects.\n",
      "I don't return anything.\n",
      "...Or do I?\n",
      "None\n"
     ]
    }
   ],
   "source": [
    "def procedure():\n",
    "    print(\"I am Procedure.\")\n",
    "    print(\"I shall be the reigning lord of the kingdom of side effects.\")\n",
    "    print(\"I don't return anything.\")\n",
    "    print(\"...Or do I?\")\n",
    "\n",
    "result = procedure()\n",
    "print(result)\n"
   ]
  },
  {
   "cell_type": "code",
   "execution_count": null,
   "id": "78d7da0f",
   "metadata": {},
   "outputs": [
    {
     "name": "stdout",
     "output_type": "stream",
     "text": [
      "Hello, John Smith!\n"
     ]
    }
   ],
   "source": [
    "def greeting(name):\n",
    "    if not name:\n",
    "        return\n",
    "    \n",
    "    print(f\"Hello, {name}!\")\n",
    "\n",
    "greeting(\"\")\n",
    "greeting(\"John Smith\")"
   ]
  },
  {
   "cell_type": "markdown",
   "id": "f4eba7f3",
   "metadata": {},
   "source": [
    "> \"Можем и рекурсия, ако можем рекурсия\" - *Валери Божинов*\n",
    "\n",
    "(btw GitHub Copilot каза, че е от [тука](https://xkcd.com/244/), което е close enough (are we obsolete already dammit))"
   ]
  },
  {
   "cell_type": "code",
   "execution_count": null,
   "id": "5aed40dd",
   "metadata": {},
   "outputs": [
    {
     "data": {
      "text/plain": [
       "171122452428141311372468338881272839092270544893520369393648040923257279754140647424000000000000000"
      ]
     },
     "metadata": {},
     "output_type": "display_data"
    }
   ],
   "source": [
    "def factorial(n):\n",
    "    if n <= 0:\n",
    "        return 1\n",
    "    \n",
    "    return n * factorial(n - 1)\n",
    "\n",
    "\n",
    "factorial(69)  # https://www.youtube.com/watch?v=kw6l_uTakRA"
   ]
  },
  {
   "cell_type": "markdown",
   "id": "9faf4a3c",
   "metadata": {},
   "source": [
    "Аргументите на функциите могат да имат стойности по подразбиране:"
   ]
  },
  {
   "cell_type": "code",
   "execution_count": null,
   "id": "2d8d956e",
   "metadata": {},
   "outputs": [],
   "source": [
    "def add(a, b=0):\n",
    "    return a + b"
   ]
  },
  {
   "cell_type": "code",
   "execution_count": null,
   "id": "54feb938",
   "metadata": {},
   "outputs": [
    {
     "data": {
      "text/plain": [
       "1"
      ]
     },
     "metadata": {},
     "output_type": "display_data"
    }
   ],
   "source": [
    "add(1)"
   ]
  },
  {
   "cell_type": "code",
   "execution_count": null,
   "id": "65eed96b",
   "metadata": {},
   "outputs": [
    {
     "data": {
      "text/plain": [
       "3"
      ]
     },
     "metadata": {},
     "output_type": "display_data"
    }
   ],
   "source": [
    "add(1, 2)"
   ]
  },
  {
   "cell_type": "markdown",
   "id": "ed7c03fc",
   "metadata": {},
   "source": [
    "Аргументите на фунцкиите в Python могат да се подават по два начина: \n",
    "1. **позиционeн** (positional) (определени от реда, в който са подадени)\n",
    "2. **именован** (keyword) (определени от името на аргумента, следвано от `=`) \n",
    "\n",
    "След именован аргумент не можем да подадем позиционен."
   ]
  },
  {
   "cell_type": "code",
   "execution_count": null,
   "id": "f4a7e82b",
   "metadata": {},
   "outputs": [
    {
     "name": "stdout",
     "output_type": "stream",
     "text": [
      "\n",
      "hello\n",
      "Hello\n",
      "Hello!\n",
      "Hello!\n",
      "Hello!\n",
      "Hello!\n"
     ]
    }
   ],
   "source": [
    "def my_custom_print(text=\"\", terminator=\"\\n\", capitalize=False):\n",
    "    new_text = text.capitalize() if capitalize else text\n",
    "    print(new_text, end=terminator)\n",
    "\n",
    "my_custom_print()\n",
    "my_custom_print(\"hello\")\n",
    "my_custom_print(\"hello\", capitalize=True)\n",
    "my_custom_print(\"hello\", \"!\\n\", capitalize=True)\n",
    "my_custom_print(\"hello\", terminator=\"!\\n\", capitalize=True)\n",
    "my_custom_print(\"hello\", capitalize=True, terminator=\"!\\n\")\n",
    "my_custom_print(capitalize=True, terminator=\"!\\n\", text=\"hello\")\n",
    "# my_custom_print(capitalize=True, \"\\t\")  # 💥 positional argument can't follow keyword argument\n"
   ]
  },
  {
   "cell_type": "markdown",
   "id": "ab21435e",
   "metadata": {},
   "source": [
    "Можем да укажем функцията да приема произволен брой позиционни и именовани аргументи, като използваме `*` и `**` съответно (споко, това отново няма нищо общо с пойнтъри!). \n",
    "\n",
    "`*args` и `**kwargs` са само конвенция, можем да използваме каквито и да е имена, но е важно да се отбележи, че `*` и `**` са задължителни.\n",
    "\n",
    "`*args` е `tuple` с всички позиционни аргументи, които не са били консумирани от другите аргументи.\n",
    "\n",
    "`**kwargs` е `dict` с всички именовани аргументи, които не са били консумирани от другите аргументи.\n"
   ]
  },
  {
   "cell_type": "code",
   "execution_count": null,
   "id": "368f7e0a",
   "metadata": {},
   "outputs": [
    {
     "name": "stdout",
     "output_type": "stream",
     "text": [
      "fixed_arg1=1\n",
      "fixed_arg2=2\n",
      "args=(3, 4, 5, 6, 7, 8, 9, 10)\n",
      "kwargs={'name': 'Pesho', 'age': 20}\n"
     ]
    }
   ],
   "source": [
    "def variadic_args(fixed_arg1, fixed_arg2, *args, **kwargs):\n",
    "    print(f\"{fixed_arg1=}\")\n",
    "    print(f\"{fixed_arg2=}\")\n",
    "    print(f\"{args=}\")\n",
    "    print(f\"{kwargs=}\")\n",
    "\n",
    "variadic_args(1, 2, 3, 4, 5, 6, 7, 8, 9, 10, name=\"Pesho\", age=20)\n"
   ]
  },
  {
   "cell_type": "markdown",
   "id": "7bba1b97",
   "metadata": {},
   "source": [
    "**Pro tip**: Можем да забраним позиционните или именованите аргументи преди/след дадено място чрез вмъкване на `/` или `*` в сигнатурата на функцията. Как точно:"
   ]
  },
  {
   "cell_type": "markdown",
   "id": "101f6f5d",
   "metadata": {},
   "source": [
    "Ако имаме \n",
    "```python\n",
    "def func(a, b, c, /, d, e, f, *, g, h, i):\n",
    "    ...\n",
    "```\n",
    "това означава, че:\n",
    "* `a`, `b` и `c` могат да бъдат подадени само позиционно\n",
    "* `d`, `e` и `f` могат да бъдат подадени както позиционно, така и именовано\n",
    "* `g`, `h` и `i` могат да бъдат подадени само именовано"
   ]
  },
  {
   "cell_type": "code",
   "execution_count": null,
   "id": "677e1488",
   "metadata": {},
   "outputs": [
    {
     "name": "stdout",
     "output_type": "stream",
     "text": [
      "Experiment GPT-6 submitted by OpenAI in Azure ML environment.\n",
      "Experiment BgGPT submitted by INSAIT in unknown environment.\n"
     ]
    },
    {
     "ename": "TypeError",
     "evalue": "submit_experiment() takes 1 positional argument but 3 were given",
     "output_type": "error",
     "traceback": [
      "\u001b[1;31m---------------------------------------------------------------------------\u001b[0m\n",
      "\u001b[1;31mTypeError\u001b[0m                                 Traceback (most recent call last)\n",
      "Cell \u001b[1;32mIn[134], line 7\u001b[0m\n",
      "\u001b[0;32m      5\u001b[0m submit_experiment(\u001b[38;5;124m\"\u001b[39m\u001b[38;5;124mGPT-6\u001b[39m\u001b[38;5;124m\"\u001b[39m, environment_name\u001b[38;5;241m=\u001b[39m\u001b[38;5;124m\"\u001b[39m\u001b[38;5;124mAzure ML\u001b[39m\u001b[38;5;124m\"\u001b[39m, user_name\u001b[38;5;241m=\u001b[39m\u001b[38;5;124m\"\u001b[39m\u001b[38;5;124mOpenAI\u001b[39m\u001b[38;5;124m\"\u001b[39m)\n",
      "\u001b[0;32m      6\u001b[0m submit_experiment(\u001b[38;5;124m\"\u001b[39m\u001b[38;5;124mBgGPT\u001b[39m\u001b[38;5;124m\"\u001b[39m, user_name\u001b[38;5;241m=\u001b[39m\u001b[38;5;124m\"\u001b[39m\u001b[38;5;124mINSAIT\u001b[39m\u001b[38;5;124m\"\u001b[39m, environment_name\u001b[38;5;241m=\u001b[39m\u001b[38;5;124m\"\u001b[39m\u001b[38;5;124munknown\u001b[39m\u001b[38;5;124m\"\u001b[39m)  \u001b[38;5;66;03m# notice the order\u001b[39;00m\n",
      "\u001b[1;32m----> 7\u001b[0m \u001b[43msubmit_experiment\u001b[49m\u001b[43m(\u001b[49m\u001b[38;5;124;43m\"\u001b[39;49m\u001b[38;5;124;43mLandcoreGPT\u001b[39;49m\u001b[38;5;124;43m\"\u001b[39;49m\u001b[43m,\u001b[49m\u001b[43m \u001b[49m\u001b[38;5;124;43m\"\u001b[39;49m\u001b[38;5;124;43mFMI\u001b[39;49m\u001b[38;5;124;43m\"\u001b[39;49m\u001b[43m,\u001b[49m\u001b[43m \u001b[49m\u001b[38;5;124;43m\"\u001b[39;49m\u001b[38;5;124;43mAJ\u001b[39;49m\u001b[38;5;124;43m\"\u001b[39;49m\u001b[43m)\u001b[49m  \u001b[38;5;66;03m# 💥\u001b[39;00m\n",
      "\n",
      "\u001b[1;31mTypeError\u001b[0m: submit_experiment() takes 1 positional argument but 3 were given"
     ]
    }
   ],
   "source": [
    "def submit_experiment(experiment_name, *, environment_name, user_name):\n",
    "    # everything after the * MUST BE provided as a keyword argument\n",
    "    print(f\"Experiment {experiment_name} submitted by {user_name} in {environment_name} environment.\")\n",
    "\n",
    "submit_experiment(\"GPT-6\", environment_name=\"Azure ML\", user_name=\"OpenAI\")\n",
    "submit_experiment(\"BgGPT\", user_name=\"INSAIT\", environment_name=\"unknown\")  # notice the order\n",
    "submit_experiment(\"LandcoreGPT\", \"FMI\", \"AJ\")  # 💥"
   ]
  },
  {
   "cell_type": "code",
   "execution_count": null,
   "id": "dd2823d2",
   "metadata": {},
   "outputs": [
    {
     "name": "stdout",
     "output_type": "stream",
     "text": [
      "6\n"
     ]
    },
    {
     "ename": "TypeError",
     "evalue": "c_function() got some positional-only arguments passed as keyword arguments: '_c'",
     "output_type": "error",
     "traceback": [
      "\u001b[1;31m---------------------------------------------------------------------------\u001b[0m\n",
      "\u001b[1;31mTypeError\u001b[0m                                 Traceback (most recent call last)\n",
      "Cell \u001b[1;32mIn[135], line 5\u001b[0m\n",
      "\u001b[0;32m      2\u001b[0m     \u001b[38;5;28;01mreturn\u001b[39;00m _a \u001b[38;5;241m+\u001b[39m _b \u001b[38;5;241m+\u001b[39m _c\n",
      "\u001b[0;32m      4\u001b[0m \u001b[38;5;28mprint\u001b[39m(c_function(\u001b[38;5;241m1\u001b[39m, \u001b[38;5;241m2\u001b[39m, \u001b[38;5;241m3\u001b[39m))\n",
      "\u001b[1;32m----> 5\u001b[0m \u001b[38;5;28mprint\u001b[39m(\u001b[43mc_function\u001b[49m\u001b[43m(\u001b[49m\u001b[38;5;241;43m1\u001b[39;49m\u001b[43m,\u001b[49m\u001b[43m \u001b[49m\u001b[38;5;241;43m2\u001b[39;49m\u001b[43m,\u001b[49m\u001b[43m \u001b[49m\u001b[43m_c\u001b[49m\u001b[38;5;241;43m=\u001b[39;49m\u001b[38;5;241;43m3\u001b[39;49m\u001b[43m)\u001b[49m)  \u001b[38;5;66;03m# 💥\u001b[39;00m\n",
      "\n",
      "\u001b[1;31mTypeError\u001b[0m: c_function() got some positional-only arguments passed as keyword arguments: '_c'"
     ]
    }
   ],
   "source": [
    "def c_function(_a, _b, _c, /):\n",
    "    return _a + _b + _c\n",
    "\n",
    "print(c_function(1, 2, 3))\n",
    "print(c_function(1, 2, _c=3))  # 💥"
   ]
  },
  {
   "cell_type": "markdown",
   "id": "39b5e68b",
   "metadata": {},
   "source": [
    "## Обхвати на видимост"
   ]
  },
  {
   "cell_type": "markdown",
   "id": "351b61ed",
   "metadata": {},
   "source": [
    "Всякo име може да бъде свързанo със стойност (binding). Съществуват операции, които променят свързването, като `=`. \n",
    "\n",
    "Свързването на име със стойност може да се проверява с две функции, връщащи речници: `locals` и `globals`, които пазят стойностите на всички имена в локалния и в глобалния обхват на видимост съответно.\n",
    "\n",
    "Едно име дефинирано в локален обхват (scope) не се вижда от глобалния такъв:"
   ]
  },
  {
   "cell_type": "code",
   "execution_count": null,
   "id": "58a1b824",
   "metadata": {},
   "outputs": [
    {
     "name": "stdout",
     "output_type": "stream",
     "text": [
      "{'local_one': 2}\n",
      "1\n"
     ]
    },
    {
     "ename": "KeyError",
     "evalue": "'local_one'",
     "output_type": "error",
     "traceback": [
      "\u001b[1;31m---------------------------------------------------------------------------\u001b[0m\n",
      "\u001b[1;31mKeyError\u001b[0m                                  Traceback (most recent call last)\n",
      "Cell \u001b[1;32mIn[136], line 10\u001b[0m\n",
      "\u001b[0;32m      8\u001b[0m foo()\n",
      "\u001b[0;32m      9\u001b[0m \u001b[38;5;28mprint\u001b[39m(\u001b[38;5;28mglobals\u001b[39m()[\u001b[38;5;124m\"\u001b[39m\u001b[38;5;124mglobal_one\u001b[39m\u001b[38;5;124m\"\u001b[39m])  \u001b[38;5;66;03m# `print(globals())` will not have a very pretty output in the Jupyter notebook but you can try it\u001b[39;00m\n",
      "\u001b[1;32m---> 10\u001b[0m \u001b[38;5;28mprint\u001b[39m(\u001b[38;5;28;43mglobals\u001b[39;49m\u001b[43m(\u001b[49m\u001b[43m)\u001b[49m\u001b[43m[\u001b[49m\u001b[38;5;124;43m\"\u001b[39;49m\u001b[38;5;124;43mlocal_one\u001b[39;49m\u001b[38;5;124;43m\"\u001b[39;49m\u001b[43m]\u001b[49m)\n",
      "\n",
      "\u001b[1;31mKeyError\u001b[0m: 'local_one'"
     ]
    }
   ],
   "source": [
    "global_one = 1\n",
    "\n",
    "def foo():\n",
    "    local_one = 2\n",
    "    print(locals())\n",
    "\n",
    "\n",
    "foo()\n",
    "print(globals()[\"global_one\"])  # `print(globals())` will not have a very pretty output in the Jupyter notebook but you can try it\n",
    "print(globals()[\"local_one\"])"
   ]
  },
  {
   "cell_type": "markdown",
   "id": "8d259f0f",
   "metadata": {},
   "source": [
    "Всеки блок от код си има своя област на видимост, в която стоят локално дефинираните имена.\n",
    "Ако една функция не може да намери дадена променлива в локалния си scope, търси в обграждащия (глобалния) за променлива със същото име:"
   ]
  },
  {
   "cell_type": "code",
   "execution_count": null,
   "id": "eec25a7d",
   "metadata": {},
   "outputs": [
    {
     "name": "stdout",
     "output_type": "stream",
     "text": [
      "1\n"
     ]
    }
   ],
   "source": [
    "global_one = 1\n",
    "\n",
    "def foo():\n",
    "    print(global_one)\n",
    "\n",
    "foo()"
   ]
  },
  {
   "cell_type": "markdown",
   "id": "afdac14c",
   "metadata": {},
   "source": [
    "По подразбиране пренасочването на имена става в локалния scope.\n",
    "Използването на ключовата дума `global` позволява пренасочването на глобални имена. Това обаче въобще не е добра практика."
   ]
  },
  {
   "cell_type": "code",
   "execution_count": null,
   "id": "829b9df7",
   "metadata": {},
   "outputs": [
    {
     "name": "stdout",
     "output_type": "stream",
     "text": [
      "2\n",
      "{'global_one': 2}\n",
      "1\n"
     ]
    }
   ],
   "source": [
    "global_one = 1\n",
    "\n",
    "def foo():\n",
    "    global_one = 2\n",
    "    print(global_one)\n",
    "    print(locals())\n",
    "\n",
    "foo()\n",
    "\n",
    "print(globals()[\"global_one\"])"
   ]
  },
  {
   "cell_type": "markdown",
   "id": "ce9110fa",
   "metadata": {},
   "source": [
    "Аргументите на функциите отиват в `locals` речника, достъпен от тялото им (съответно не и извън него):"
   ]
  },
  {
   "cell_type": "code",
   "execution_count": null,
   "id": "71af8700",
   "metadata": {},
   "outputs": [
    {
     "name": "stdout",
     "output_type": "stream",
     "text": [
      "{'x': 1, 'y': 2, 'args': (3, 4, 5, 6, 7, 8, 9, 10), 'kwargs': {'name': 'Pesho', 'age': 20}}\n"
     ]
    }
   ],
   "source": [
    "def fn(x, y, *args, **kwargs):\n",
    "    print(locals())\n",
    "\n",
    "fn(1, 2, 3, 4, 5, 6, 7, 8, 9, 10, name=\"Pesho\", age=20)"
   ]
  },
  {
   "cell_type": "markdown",
   "id": "bb0bfcdd",
   "metadata": {},
   "source": [
    "В случай, че имаме вложени блокове, ключовата дума `nonlocal` позволява пренасочване на име, дефинирано в обграждащ блок (за разлика от `global`, където името е дефинирано в глобалния обхват). Също както `global`, изполването му е лоша практика."
   ]
  },
  {
   "cell_type": "markdown",
   "id": "f1487140",
   "metadata": {},
   "source": [
    "**Pro tip**: няма нужда да \"декларираме\" празна променлива преди даването ѝ на стойност в `if` (стига всички пътища да дават стойност), например:"
   ]
  },
  {
   "cell_type": "code",
   "execution_count": null,
   "id": "fa0b63dc",
   "metadata": {},
   "outputs": [
    {
     "name": "stdout",
     "output_type": "stream",
     "text": [
      "[] is falsy\n",
      "[0] is truethy\n"
     ]
    }
   ],
   "source": [
    "def some_function(x):\n",
    "    # няма нужда тука преди if-a да пишем например\n",
    "    # result = \"\"\n",
    "\n",
    "    if x:\n",
    "        result = f\"{x} is truethy\"\n",
    "    else:\n",
    "        result = f\"{x} is falsy\"\n",
    "\n",
    "    return result\n",
    "\n",
    "print(some_function([]))\n",
    "print(some_function([0]))"
   ]
  },
  {
   "cell_type": "markdown",
   "id": "ec81a414",
   "metadata": {},
   "source": [
    "# Обектно-ориентирано програмиране"
   ]
  },
  {
   "cell_type": "markdown",
   "id": "f7bf4a67",
   "metadata": {},
   "source": [
    "## Основни принципи\n",
    "1. Енкапсулация\n",
    "2. Абстракция\n",
    "3. Наследяване\n",
    "4. Полиморфизъм"
   ]
  },
  {
   "cell_type": "markdown",
   "id": "268e6bb2",
   "metadata": {},
   "source": [
    "Обектно-ориентираното програмиране се основава на използването на класове от обекти, които обменят съобщения помежду си. В Python използваме ключовата дума `class`, за да започнем дефиницията на клас:"
   ]
  },
  {
   "cell_type": "code",
   "execution_count": null,
   "id": "deefc3ea",
   "metadata": {},
   "outputs": [],
   "source": [
    "class ExampleClass:\n",
    "    pass"
   ]
  },
  {
   "cell_type": "markdown",
   "id": "333397f1",
   "metadata": {},
   "source": [
    "(ключовата дума `pass` обозначава празен блок (еквивалентно на `{}` в езиците, използващи скоби за scope))"
   ]
  },
  {
   "cell_type": "markdown",
   "id": "6f0e51af",
   "metadata": {},
   "source": [
    "Инстанции на класа можем да създаваме чрез синтаксис подобен на извикването на функция със същото име. Новосъздадените обекти отиват в динамичната памет и по подразбиране когато искаме да `print`-нем информация за тях Python ни показва адреса в паметта, на който се намират, както и типа им (класа):"
   ]
  },
  {
   "cell_type": "code",
   "execution_count": null,
   "id": "fe8029a2",
   "metadata": {},
   "outputs": [
    {
     "name": "stdout",
     "output_type": "stream",
     "text": [
      "<__main__.ExampleClass object at 0x113bed6a0>\n",
      "<__main__.ExampleClass object at 0x112dbbc40>\n"
     ]
    }
   ],
   "source": [
    "example_object = ExampleClass()\n",
    "print(example_object)\n",
    "\n",
    "example_object_2 = ExampleClass()\n",
    "print(example_object_2)"
   ]
  },
  {
   "cell_type": "markdown",
   "id": "ce8fa832",
   "metadata": {},
   "source": [
    "`is` сравнява дали два обекта съвпадат, т.е. ще върне `False`, когато адресите им в паметта са различни. Операторът `==` пък не е дефиниран за горния клас и затова и неговата стойност засега ще бъде `False` (по премълчаване се дефинира чрез `is`):"
   ]
  },
  {
   "cell_type": "code",
   "execution_count": null,
   "id": "4d9adaea",
   "metadata": {},
   "outputs": [
    {
     "name": "stdout",
     "output_type": "stream",
     "text": [
      "example_object is example_object_2 = False\n",
      "example_object == example_object_2 = False\n"
     ]
    }
   ],
   "source": [
    "print(f\"{example_object is example_object_2 = }\")\n",
    "print(f\"{example_object == example_object_2 = }\")"
   ]
  },
  {
   "cell_type": "markdown",
   "id": "870307ec",
   "metadata": {},
   "source": [
    "Горният клас с име `ExampleClass` така дефиниран е празен - не притежава нито член-данни, нито методи. Добре е да се знае, обаче, че поради динамичния характер на езика, такива могат да бъдат добавяни (и отнемани) по всяко време (както като част от инстанцията, така и като част от класа). Достъпът до атрибути и методи става чрез точка `.`:"
   ]
  },
  {
   "cell_type": "code",
   "execution_count": null,
   "id": "1ad5003c",
   "metadata": {},
   "outputs": [
    {
     "name": "stdout",
     "output_type": "stream",
     "text": [
      "example_object.example_property = 'I am an attribute of this instance only'\n",
      "ExampleClass.example_shared_property = 'I am a shared/static attribute'\n",
      "example_object.example_shared_property = 'I am a shared/static attribute'\n",
      "example_object_2.example_shared_property = 'I am a shared/static attribute'\n"
     ]
    },
    {
     "ename": "AttributeError",
     "evalue": "'ExampleClass' object has no attribute 'example_property'",
     "output_type": "error",
     "traceback": [
      "\u001b[0;31m---------------------------------------------------------------------------\u001b[0m\n",
      "\u001b[0;31mAttributeError\u001b[0m                            Traceback (most recent call last)\n",
      "\u001b[0;32m/var/folders/7x/gdf0mbts74n8p_ckv_b_mfc40000gp/T/ipykernel_62173/980122267.py\u001b[0m in \u001b[0;36m<module>\u001b[0;34m\u001b[0m\n",
      "\u001b[1;32m      8\u001b[0m \u001b[0;34m\u001b[0m\u001b[0m\n",
      "\u001b[1;32m      9\u001b[0m \u001b[0;32mdel\u001b[0m \u001b[0mexample_object\u001b[0m\u001b[0;34m.\u001b[0m\u001b[0mexample_property\u001b[0m\u001b[0;34m\u001b[0m\u001b[0;34m\u001b[0m\u001b[0m\n",
      "\u001b[0;32m---> 10\u001b[0;31m \u001b[0mprint\u001b[0m\u001b[0;34m(\u001b[0m\u001b[0;34mf\"{example_object.example_property = }\"\u001b[0m\u001b[0;34m)\u001b[0m  \u001b[0;31m# 💥\u001b[0m\u001b[0;34m\u001b[0m\u001b[0;34m\u001b[0m\u001b[0m\n",
      "\u001b[0m\n",
      "\u001b[0;31mAttributeError\u001b[0m: 'ExampleClass' object has no attribute 'example_property'"
     ]
    }
   ],
   "source": [
    "example_object.example_property = \"I am an attribute of this instance only\"\n",
    "print(f\"{example_object.example_property = }\")\n",
    "\n",
    "ExampleClass.example_shared_property = \"I am a shared/static attribute\"\n",
    "print(f\"{ExampleClass.example_shared_property = }\")\n",
    "print(f\"{example_object.example_shared_property = }\")\n",
    "print(f\"{example_object_2.example_shared_property = }\")\n",
    "\n",
    "del example_object.example_property\n",
    "print(f\"{example_object.example_property = }\")  # 💥\n"
   ]
  },
  {
   "cell_type": "markdown",
   "id": "b693dc34",
   "metadata": {},
   "source": [
    "Обикновено обаче искаме да знаем винаги какви член-данни да очакваме от един клас, както и да можем да ги задаваме при конструирането му. Това е възможно, чрез дефинирането на `__init__` метода в класа:"
   ]
  },
  {
   "cell_type": "code",
   "execution_count": null,
   "id": "dc780190",
   "metadata": {},
   "outputs": [],
   "source": [
    "class Point:\n",
    "    def __init__(self, x, y):\n",
    "        self.x = x\n",
    "        self.y = y"
   ]
  },
  {
   "cell_type": "markdown",
   "id": "48858b92",
   "metadata": {},
   "source": [
    "Това е първият от редица \"dunder\" (**d**ouble **under**score - двойна подчертавка) методи (още наричани *магически* методи), които ще разгледаме в лекцията. Този се нарича ***инициализатор*** и приема като първи аргумент новосъздадения обект (по конвенция го кръщаваме винаги `self`, но на теория може да е всякак). Следващите параметри дефинираме и означаваме по наш избор. \n",
    "\n",
    "Обърнете внимание, че нарочно не го наричаме *контруктор*, понеже истинският конструктор създава и връща нов обект от даден клас, докато инициализаторът приема този обект и задава начални стойности на член-данните му или изпълнява някакъв друг вид инициализация. Такъв конструктор има и в Python ([`__new__`](https://www.pythontutorial.net/python-oop/python-__new__/)), но на него няма да се спираме подробно."
   ]
  },
  {
   "cell_type": "code",
   "execution_count": null,
   "id": "7a30e2b4",
   "metadata": {},
   "outputs": [
    {
     "name": "stdout",
     "output_type": "stream",
     "text": [
      "p1.x = 2, p1.y = 3\n",
      "p2.x = 5j, p2.y = 3.14\n"
     ]
    }
   ],
   "source": [
    "p1 = Point(2, 3)\n",
    "p2 = Point(5j, 3.14)\n",
    "\n",
    "print(f\"{p1.x = }, {p1.y = }\")\n",
    "print(f\"{p2.x = }, {p2.y = }\")"
   ]
  },
  {
   "cell_type": "markdown",
   "id": "0ad165e2",
   "metadata": {},
   "source": [
    "Инициализаторът си е функция като всяка други и може да има стойности на параметрите по подразбиране, както и `args` и `kwargs`:"
   ]
  },
  {
   "cell_type": "code",
   "execution_count": null,
   "id": "6e22307b",
   "metadata": {},
   "outputs": [
    {
     "name": "stdout",
     "output_type": "stream",
     "text": [
      "sofia.latitude = 42.69, sofia.longitude = 23.42, sofia.metadata = {'city': 'Sofia', 'country': 'Bulgaria'}\n",
      "null_island.latitude = 0, null_island.longitude = 0, null_island.metadata = {}\n"
     ]
    }
   ],
   "source": [
    "class Coordinate:\n",
    "    def __init__(self, la=0, lo=0, **kwargs):\n",
    "        self.latitude = la\n",
    "        self.longitude = lo\n",
    "        self.metadata = kwargs\n",
    "\n",
    "sofia = Coordinate(42.69, 23.420, city=\"Sofia\", country=\"Bulgaria\")\n",
    "null_island = Coordinate()\n",
    "\n",
    "print(f\"{sofia.latitude = }, {sofia.longitude = }, {sofia.metadata = }\")\n",
    "print(f\"{null_island.latitude = }, {null_island.longitude = }, {null_island.metadata = }\")"
   ]
  },
  {
   "cell_type": "markdown",
   "id": "c03eceba",
   "metadata": {},
   "source": [
    "Произволни методи дефинираме по същия начин:"
   ]
  },
  {
   "cell_type": "code",
   "execution_count": null,
   "id": "a16a0c64",
   "metadata": {},
   "outputs": [
    {
     "name": "stdout",
     "output_type": "stream",
     "text": [
      "l = 5.0\n"
     ]
    }
   ],
   "source": [
    "class Path:\n",
    "    def __init__(self, start, end):\n",
    "        self.start = start\n",
    "        self.end = end\n",
    "    \n",
    "    def length(self):\n",
    "        return ((self.start.x - self.end.x) ** 2 + (self.start.y - self.end.y) ** 2) ** 0.5\n",
    "\n",
    "p1 = Point(0, 3)\n",
    "p2 = Point(4, 0)\n",
    "\n",
    "path = Path(p1, p2)\n",
    "l = path.length()\n",
    "\n",
    "print(f\"{l = }\")"
   ]
  },
  {
   "cell_type": "markdown",
   "id": "1ac53e0c",
   "metadata": {},
   "source": [
    "Липсата на `self` като първи аргумент ще е грешка, понеже Python винаги ще се опита да предаде инстанцията на класа като първи параметър на метода:"
   ]
  },
  {
   "cell_type": "code",
   "execution_count": null,
   "id": "0f3c70b0",
   "metadata": {},
   "outputs": [
    {
     "ename": "TypeError",
     "evalue": "a() takes 0 positional arguments but 1 was given",
     "output_type": "error",
     "traceback": [
      "\u001b[0;31m---------------------------------------------------------------------------\u001b[0m\n",
      "\u001b[0;31mTypeError\u001b[0m                                 Traceback (most recent call last)\n",
      "\u001b[0;32m/var/folders/7x/gdf0mbts74n8p_ckv_b_mfc40000gp/T/ipykernel_62173/3247279650.py\u001b[0m in \u001b[0;36m<module>\u001b[0;34m\u001b[0m\n",
      "\u001b[1;32m      3\u001b[0m         \u001b[0;32mpass\u001b[0m\u001b[0;34m\u001b[0m\u001b[0;34m\u001b[0m\u001b[0m\n",
      "\u001b[1;32m      4\u001b[0m \u001b[0;34m\u001b[0m\u001b[0m\n",
      "\u001b[0;32m----> 5\u001b[0;31m \u001b[0mA\u001b[0m\u001b[0;34m(\u001b[0m\u001b[0;34m)\u001b[0m\u001b[0;34m.\u001b[0m\u001b[0ma\u001b[0m\u001b[0;34m(\u001b[0m\u001b[0;34m)\u001b[0m\u001b[0;34m\u001b[0m\u001b[0;34m\u001b[0m\u001b[0m\n",
      "\u001b[0m\n",
      "\u001b[0;31mTypeError\u001b[0m: a() takes 0 positional arguments but 1 was given"
     ]
    }
   ],
   "source": [
    "class A:\n",
    "    def a():\n",
    "        pass\n",
    "\n",
    "A().a()"
   ]
  },
  {
   "cell_type": "markdown",
   "id": "31f24930",
   "metadata": {},
   "source": [
    "## Енкапсулация\n",
    "\n",
    "В Python достъпа до всичко е [публичен](https://www.youtube.com/watch?v=8H1nuRZrE6g).\n",
    "\n",
    "По конвенция е общоприето `protected` имената да започват с една подчертавка (`_name`), а `private` - с две (`__name`).\n"
   ]
  },
  {
   "cell_type": "code",
   "execution_count": null,
   "id": "e8834d3d",
   "metadata": {},
   "outputs": [
    {
     "name": "stdout",
     "output_type": "stream",
     "text": [
      "c.get_value() = 42\n",
      "c._value = 42\n"
     ]
    }
   ],
   "source": [
    "class Counter:\n",
    "    def __init__(self, value=0):\n",
    "        self._value = value\n",
    "\n",
    "    def get_value(self):\n",
    "        return self._value\n",
    "    \n",
    "    def increment(self):\n",
    "        self._value += 1\n",
    "    \n",
    "    def decrement(self):\n",
    "        self._value -= 1\n",
    "\n",
    "c = Counter(41)\n",
    "c.increment()\n",
    "\n",
    "print(f\"{c.get_value() = }\")\n",
    "print(f\"{c._value = }\")\n"
   ]
  },
  {
   "cell_type": "markdown",
   "id": "67d0f2f4",
   "metadata": {},
   "source": [
    "При двойните подчертавки обаче съществува една особеност, която ни улеснява в енкапсулирането на private член-данни. Нарича се **name mangling** и представлява добавянето на `_` и името на класа в началото на името на тези член-данни. Тоа се прави с цел замаскиране на атрибута и премахването на достъпа чрез оригиналното му име."
   ]
  },
  {
   "cell_type": "code",
   "execution_count": null,
   "id": "ba32e854",
   "metadata": {},
   "outputs": [
    {
     "name": "stdout",
     "output_type": "stream",
     "text": [
      "c.get_value() = 42\n",
      "c._Counter__value = 42\n"
     ]
    },
    {
     "ename": "AttributeError",
     "evalue": "'Counter' object has no attribute '__value'",
     "output_type": "error",
     "traceback": [
      "\u001b[0;31m---------------------------------------------------------------------------\u001b[0m\n",
      "\u001b[0;31mAttributeError\u001b[0m                            Traceback (most recent call last)\n",
      "\u001b[0;32m/var/folders/7x/gdf0mbts74n8p_ckv_b_mfc40000gp/T/ipykernel_62173/3226284858.py\u001b[0m in \u001b[0;36m<module>\u001b[0;34m\u001b[0m\n",
      "\u001b[1;32m     18\u001b[0m \u001b[0mprint\u001b[0m\u001b[0;34m(\u001b[0m\u001b[0;34mf\"{c.get_value() = }\"\u001b[0m\u001b[0;34m)\u001b[0m\u001b[0;34m\u001b[0m\u001b[0;34m\u001b[0m\u001b[0m\n",
      "\u001b[1;32m     19\u001b[0m \u001b[0mprint\u001b[0m\u001b[0;34m(\u001b[0m\u001b[0;34mf\"{c._Counter__value = }\"\u001b[0m\u001b[0;34m)\u001b[0m  \u001b[0;31m# name has been mangled\u001b[0m\u001b[0;34m\u001b[0m\u001b[0;34m\u001b[0m\u001b[0m\n",
      "\u001b[0;32m---> 20\u001b[0;31m \u001b[0mprint\u001b[0m\u001b[0;34m(\u001b[0m\u001b[0;34mf\"{c.__value = }\"\u001b[0m\u001b[0;34m)\u001b[0m  \u001b[0;31m# 💥 cannot be accessed at its original name\u001b[0m\u001b[0;34m\u001b[0m\u001b[0;34m\u001b[0m\u001b[0m\n",
      "\u001b[0m\n",
      "\u001b[0;31mAttributeError\u001b[0m: 'Counter' object has no attribute '__value'"
     ]
    }
   ],
   "source": [
    "class Counter:\n",
    "    def __init__(self, value=0):\n",
    "        self.__value = value  # private access from within the class is OK\n",
    "\n",
    "    def get_value(self):\n",
    "        return self.__value\n",
    "\n",
    "    def increment(self):\n",
    "        self.__value += 1\n",
    "\n",
    "    def decrement(self):\n",
    "        self.__value -= 1\n",
    "\n",
    "\n",
    "c = Counter(41)\n",
    "c.increment()\n",
    "\n",
    "print(f\"{c.get_value() = }\")\n",
    "print(f\"{c._Counter__value = }\")  # name has been mangled\n",
    "print(f\"{c.__value = }\")  # 💥 cannot be accessed at its original name\n"
   ]
  },
  {
   "cell_type": "markdown",
   "id": "33d169dd",
   "metadata": {},
   "source": [
    "Дълга тема за дискусия е колко често и кога да използваме public, private или protected член-данни и методи в Python. За разлика от повечето езици, които проповядват всичко по подразбиране да е максимално скрито, докато не ни се наложи друго, в Python не е толкова често срещана необходимостта от строгото забраняване на достъп, даже напротив, подходът най-често е по-скоро обратен. \n",
    "\n",
    "Хубави отговори на този въпрос може да намерите [тук](https://stackoverflow.com/a/7456865)."
   ]
  },
  {
   "cell_type": "markdown",
   "id": "ce57c13c",
   "metadata": {},
   "source": [
    "## Наследяване\n",
    "\n",
    "Както споменахме, всичко в Python е обект. По-точно `object`.\n",
    "\n",
    "`object` е най-базовия клас в езика, който имплицитно бива наследяван от всички класове."
   ]
  },
  {
   "cell_type": "code",
   "execution_count": null,
   "id": "28f0f45c",
   "metadata": {},
   "outputs": [
    {
     "name": "stdout",
     "output_type": "stream",
     "text": [
      "isinstance(a, A) = True\n",
      "isinstance(a, object) = True\n"
     ]
    }
   ],
   "source": [
    "class A:\n",
    "    pass\n",
    "\n",
    "a = A()\n",
    "\n",
    "print(f\"{isinstance(a, A) = }\")\n",
    "print(f\"{isinstance(a, object) = }\")"
   ]
  },
  {
   "cell_type": "markdown",
   "id": "4d1dee68",
   "metadata": {},
   "source": [
    "(с вградената функция `isinstance` проверяваме дали даден обект е инстанция на даден клас или на негов базов такъв)"
   ]
  },
  {
   "cell_type": "markdown",
   "id": "cc6ea535",
   "metadata": {},
   "source": [
    "Дори и да изглежда празен класът А, в него в момента се съдържат доста член-методи. С вградената функция `dir` можем да видим пълния набор от атрибути и методи, които даден обект притежава:"
   ]
  },
  {
   "cell_type": "code",
   "execution_count": null,
   "id": "fae83d40",
   "metadata": {},
   "outputs": [
    {
     "data": {
      "text/plain": [
       "['__class__',\n",
       " '__delattr__',\n",
       " '__dict__',\n",
       " '__dir__',\n",
       " '__doc__',\n",
       " '__eq__',\n",
       " '__format__',\n",
       " '__ge__',\n",
       " '__getattribute__',\n",
       " '__gt__',\n",
       " '__hash__',\n",
       " '__init__',\n",
       " '__init_subclass__',\n",
       " '__le__',\n",
       " '__lt__',\n",
       " '__module__',\n",
       " '__ne__',\n",
       " '__new__',\n",
       " '__reduce__',\n",
       " '__reduce_ex__',\n",
       " '__repr__',\n",
       " '__setattr__',\n",
       " '__sizeof__',\n",
       " '__str__',\n",
       " '__subclasshook__',\n",
       " '__weakref__']"
      ]
     },
     "metadata": {},
     "output_type": "display_data"
    }
   ],
   "source": [
    "dir(a)"
   ]
  },
  {
   "cell_type": "markdown",
   "id": "6a4bfb79",
   "metadata": {},
   "source": [
    "Почти всички от тези магически методи и атрибути са наследени от `object`:"
   ]
  },
  {
   "cell_type": "code",
   "execution_count": null,
   "id": "ee2c7561",
   "metadata": {},
   "outputs": [
    {
     "data": {
      "text/plain": [
       "['__class__',\n",
       " '__delattr__',\n",
       " '__dir__',\n",
       " '__doc__',\n",
       " '__eq__',\n",
       " '__format__',\n",
       " '__ge__',\n",
       " '__getattribute__',\n",
       " '__gt__',\n",
       " '__hash__',\n",
       " '__init__',\n",
       " '__init_subclass__',\n",
       " '__le__',\n",
       " '__lt__',\n",
       " '__ne__',\n",
       " '__new__',\n",
       " '__reduce__',\n",
       " '__reduce_ex__',\n",
       " '__repr__',\n",
       " '__setattr__',\n",
       " '__sizeof__',\n",
       " '__str__',\n",
       " '__subclasshook__']"
      ]
     },
     "metadata": {},
     "output_type": "display_data"
    }
   ],
   "source": [
    "dir(object())"
   ]
  },
  {
   "cell_type": "markdown",
   "id": "a2b64770",
   "metadata": {},
   "source": [
    "Ако искаме да наследим друг клас, записваме името му в скоби преди дефиницията на наследника:"
   ]
  },
  {
   "cell_type": "code",
   "execution_count": null,
   "id": "8531a310",
   "metadata": {},
   "outputs": [
    {
     "name": "stdout",
     "output_type": "stream",
     "text": [
      "sub.x = 69\n"
     ]
    }
   ],
   "source": [
    "class BaseClass:\n",
    "    x = 69\n",
    "\n",
    "class SubClass(BaseClass):\n",
    "    pass\n",
    "\n",
    "sub = SubClass()\n",
    "print(f\"{sub.x = }\")"
   ]
  },
  {
   "cell_type": "markdown",
   "id": "4173b565",
   "metadata": {},
   "source": [
    "Виждаме, че няма нужда да пишем експлицитно, че наследяваме от `object`. Важно е да се отбележи обаче, че това е задължително за Python 2."
   ]
  },
  {
   "cell_type": "markdown",
   "id": "2b2c1ffe",
   "metadata": {},
   "source": [
    "Предефинирането на методи от базовия клас не изисква някаква специална ключова дума. Тяхната дефиниция просто бива замествана от новата."
   ]
  },
  {
   "cell_type": "code",
   "execution_count": null,
   "id": "e54160e9",
   "metadata": {},
   "outputs": [
    {
     "name": "stdout",
     "output_type": "stream",
     "text": [
      "foobar\n"
     ]
    }
   ],
   "source": [
    "class Foo:\n",
    "    def foo(self):\n",
    "        print(\"foo\")\n",
    "\n",
    "class Bar(Foo):\n",
    "    def foo(self):\n",
    "        print(\"foobar\")\n",
    "\n",
    "#  (I'm sorry I couldn't come up with anything creative this time)\n",
    "\n",
    "bar = Bar()\n",
    "bar.foo()"
   ]
  },
  {
   "cell_type": "markdown",
   "id": "e0c93bec",
   "metadata": {},
   "source": [
    "Използването на `super()` ни връща обект-прокси, който пренасочва дефиниции на методи към базов клас:"
   ]
  },
  {
   "cell_type": "code",
   "execution_count": null,
   "id": "a56f8a82",
   "metadata": {},
   "outputs": [
    {
     "name": "stdout",
     "output_type": "stream",
     "text": [
      "drincc.name = 'Coca-Cola', drincc.alcoholic_percentage = 0%\n"
     ]
    }
   ],
   "source": [
    "class Drink:\n",
    "    def __init__(self, name, alcoholic_percentage):\n",
    "        self.name = name\n",
    "        self.alcoholic_percentage = alcoholic_percentage\n",
    "\n",
    "\n",
    "class SoftDrink(Drink):\n",
    "    def __init__(self, name):\n",
    "        super().__init__(name, 0)\n",
    "\n",
    "\n",
    "drincc = SoftDrink(\"Coca-Cola\")\n",
    "print(f\"{drincc.name = }, {drincc.alcoholic_percentage = }%\")\n"
   ]
  },
  {
   "cell_type": "markdown",
   "id": "39880f17",
   "metadata": {},
   "source": [
    "Python е един от малкото езици, в които **множественото наследяване е позволено**. За избягване на проблема на [диаманта](https://youtu.be/nrSlqAb4ZLw?t=10) и други подобни, които често това поражда, е хубаво базовите класове да са семпли и с ясно-дефинирана функционалност, по възможност непокриваща се.\n",
    "\n",
    "Mixin-ите са най-честия пример за използване на множествено наследяване в Python. Те са базови класове, които предоставят \"наготово\" имплементация на конкретна допълнителна функционалност."
   ]
  },
  {
   "cell_type": "code",
   "execution_count": null,
   "id": "a3d2879c",
   "metadata": {},
   "outputs": [
    {
     "name": "stdout",
     "output_type": "stream",
     "text": [
      "elon.to_json() = '{\"salary\": 1000000000, \"name\": \"Elon Musk\", \"age\": 51}'\n",
      "elon = Employee(salary=1000000000, name=Elon Musk, age=51)\n"
     ]
    }
   ],
   "source": [
    "import json\n",
    "\n",
    "class JSONSerializableMixin:\n",
    "    def to_json(self):\n",
    "        return json.dumps(self.__dict__)\n",
    "\n",
    "class DebugMixin:\n",
    "    def __repr__(self):\n",
    "        arguments = \", \".join(f\"{k}={v}\" for k, v in self.__dict__.items())\n",
    "        return f\"{self.__class__.__name__}({arguments})\"\n",
    "\n",
    "\n",
    "class Person(JSONSerializableMixin, DebugMixin):\n",
    "    def __init__(self, name, age):\n",
    "        self.name = name\n",
    "        self.age = age\n",
    "\n",
    "class Employee(Person, JSONSerializableMixin, DebugMixin):\n",
    "    def __init__(self, name, age, salary):\n",
    "        self.salary = salary\n",
    "        super().__init__(name, age)\n",
    "\n",
    "\n",
    "elon = Employee(\"Elon Musk\", 51, 1_000_000_000)\n",
    "print(f\"{elon.to_json() = }\")\n",
    "print(f\"{elon = }\")"
   ]
  },
  {
   "cell_type": "markdown",
   "id": "636b20dd",
   "metadata": {},
   "source": [
    "В горните примери дефинирахме два mixin-a: един, който дефинира как да бъде сериализиран до JSON всеки обект, а другия - как да бъде принтиран в дебъг конзолата. Класът `Employee` наслодява както `Person`, така и двата други класа, като придобива всичката функционалност. В този случай `super()` знае към кой базов клас да се обърне чрез поредността на изпълнение на методи (Method Resolution Order), който зависи от реда, в който сме изброили базовите класове (може да се види чрез `__mro__`)"
   ]
  },
  {
   "cell_type": "code",
   "execution_count": null,
   "id": "eb19b029",
   "metadata": {},
   "outputs": [
    {
     "data": {
      "text/plain": [
       "(__main__.Employee,\n",
       " __main__.Person,\n",
       " __main__.JSONSerializableMixin,\n",
       " __main__.DebugMixin,\n",
       " object)"
      ]
     },
     "metadata": {},
     "output_type": "display_data"
    }
   ],
   "source": [
    "Employee.__mro__"
   ]
  },
  {
   "cell_type": "markdown",
   "id": "a5f9c67d",
   "metadata": {},
   "source": [
    "Повече за `super()` може да прочетете [тук](https://realpython.com/python-super/)."
   ]
  },
  {
   "cell_type": "markdown",
   "id": "77bee044",
   "metadata": {},
   "source": [
    "В примерът по-горе използвахме доста непознати dunder-и: `__repr__`, `__dict__`, `__class__`, `__name__`. За тях, както и други, ще разясним в следващата секция."
   ]
  },
  {
   "cell_type": "markdown",
   "id": "18ba08b4",
   "metadata": {},
   "source": [
    "## Магическите методи ✨"
   ]
  },
  {
   "cell_type": "markdown",
   "id": "eb619d8b",
   "metadata": {},
   "source": [
    "Документация: [https://docs.python.org/3/reference/datamodel.html](https://docs.python.org/3/reference/datamodel.html)"
   ]
  },
  {
   "cell_type": "markdown",
   "id": "29c89259",
   "metadata": {},
   "source": [
    "### [`__repr__`](https://docs.python.org/3/reference/datamodel.html#object.__repr__)\n",
    "\n",
    "От англ. \"representation\".\n",
    "\n",
    "Изиква се при изпълнението на `repr(self)`. Трябва да върне низ с репрезентация на обекта, подходящ за принт в конзолата при дебъгване например. Хубаво е тя максимално много да наподобява начина, по който можем да пресъздадем обекта с изпълним код. Ако това не е възможно е хубаво да върне низ във вида `<... някакво полезно инфо...>`.\n",
    "\n",
    "Например за клас `Point` (точка) с атрибути `x` и `y`, които инициализаторът приема, вместо `(x, y)` е по-удачно да върнем `Point(x, y)`, понеже това може директно да бъде изпълнено като Python код и да получим еквивалентен обект."
   ]
  },
  {
   "cell_type": "code",
   "execution_count": null,
   "id": "e8fa2099",
   "metadata": {},
   "outputs": [
    {
     "name": "stdout",
     "output_type": "stream",
     "text": [
      "Point(2, 3)\n",
      "Point(2, 3)\n"
     ]
    }
   ],
   "source": [
    "class Point:\n",
    "    def __init__(self, x, y):\n",
    "        self.x = x\n",
    "        self.y = y\n",
    "\n",
    "    def __repr__(self):\n",
    "        return f\"Point({self.x}, {self.y})\"\n",
    "\n",
    "p = Point(2, 3)\n",
    "print(p)\n",
    "print(repr(p))"
   ]
  },
  {
   "cell_type": "markdown",
   "id": "4052dd8a",
   "metadata": {},
   "source": [
    "### Конвертиране в други типове"
   ]
  },
  {
   "cell_type": "markdown",
   "id": "e7558a8b",
   "metadata": {},
   "source": [
    "Можем да предефинираме начинът, по който нашият клас бива конвертиран в някои други вградени типове, чрез специалните `dunder` методи с тяхното име, предназначени за това. Възможните типове са `str`, `bytes`, `bool`, `int`, `float`, `complex`."
   ]
  },
  {
   "cell_type": "code",
   "execution_count": null,
   "id": "2ed7c06d",
   "metadata": {},
   "outputs": [
    {
     "name": "stdout",
     "output_type": "stream",
     "text": [
      "str(p) = '(2, 3)'\n",
      "The `__str__` method is called when using string interpolation: (2, 3)\n",
      "If we want to use the `__repr__` instead we should write it like this: Point(2, 3)\n",
      "bool(p) = True\n",
      "p is truthy\n",
      "z is falsey\n"
     ]
    }
   ],
   "source": [
    "class Point:\n",
    "    def __init__(self, x=0, y=0):\n",
    "        self.x = x\n",
    "        self.y = y\n",
    "\n",
    "    def __repr__(self):\n",
    "        return f\"Point({self.x}, {self.y})\"\n",
    "\n",
    "    def __str__(self):\n",
    "        return f\"({self.x}, {self.y})\"\n",
    "\n",
    "    def __bool__(self):\n",
    "        \"\"\"Return `True` only for (0, 0).\"\"\"\n",
    "        return not (not self.x and not self.y)\n",
    "\n",
    "p = Point(2, 3)\n",
    "\n",
    "print(f\"{str(p) = }\")\n",
    "print(f\"The `__str__` method is called when using string interpolation: {p}\")\n",
    "print(f\"If we want to use the `__repr__` instead we should write it like this: {p!r}\")\n",
    "\n",
    "print(f\"{bool(p) = }\")\n",
    "\n",
    "# `__bool__` is useful when building conditions\n",
    "\n",
    "if p:\n",
    "    print(\"p is truthy\")\n",
    "\n",
    "z = Point()\n",
    "\n",
    "if not z:\n",
    "    print(\"z is falsey\")\n"
   ]
  },
  {
   "cell_type": "markdown",
   "id": "cddbe06a",
   "metadata": {},
   "source": [
    "Note: За доста от класовете, които бихте срещнали, върнатите низове от `repr` и `str` съвпадат. Тук обаче умишлено сме избрали пример, в който има повече смисъл да са различни - `repr` е debuggable репрезентация на обекта точка (валиден изпълним код), а `str` - стандартен математически запис на точка."
   ]
  },
  {
   "cell_type": "code",
   "execution_count": null,
   "id": "ec7477e9",
   "metadata": {},
   "outputs": [
    {
     "name": "stdout",
     "output_type": "stream",
     "text": [
      "float(frac) = 0.6666666666666666\n",
      "int(frac) = 0\n",
      "complex(frac) = (0.6666666666666666+0j)\n",
      "str(frac) = '6/9'\n",
      "repr(frac) = 'Fraction(6, 9)'\n",
      "bool(frac) = True\n"
     ]
    }
   ],
   "source": [
    "class Fraction:\n",
    "    def __init__(self, numerator=0, denominator=1):\n",
    "        self.numerator = numerator\n",
    "        self.denominator = denominator\n",
    "\n",
    "    def __float__(self):\n",
    "        return self.numerator / self.denominator\n",
    "\n",
    "    def __int__(self):\n",
    "        return self.numerator // self.denominator  # alternative is `return int(float(self))`\n",
    "    \n",
    "    def __complex__(self):\n",
    "        return complex(float(self))  # alternative is `return float(self) + 0j`\n",
    "    \n",
    "    def __str__(self):\n",
    "        return f\"{self.numerator}/{self.denominator}\"\n",
    "\n",
    "    def __repr__(self):\n",
    "        return f\"Fraction({self.numerator}, {self.denominator})\"\n",
    "\n",
    "    def __bool__(self):\n",
    "        return self.numerator != 0\n",
    "\n",
    "\n",
    "frac = Fraction(6, 9)\n",
    "print(f\"{float(frac) = }\")\n",
    "print(f\"{int(frac) = }\")\n",
    "print(f\"{complex(frac) = }\")\n",
    "print(f\"{str(frac) = }\")\n",
    "print(f\"{repr(frac) = }\")\n",
    "print(f\"{bool(frac) = }\")\n"
   ]
  },
  {
   "cell_type": "markdown",
   "id": "50ee7f3c",
   "metadata": {},
   "source": [
    "Note 2: Обърнете внимание, че `dunder(x)` в случая е същото като `x.__dunder__()`. Обикновено нямаме причина да използваме втория запис."
   ]
  },
  {
   "cell_type": "markdown",
   "id": "ea3931b5",
   "metadata": {},
   "source": [
    "### Аритметични и логически оператори"
   ]
  },
  {
   "cell_type": "markdown",
   "id": "758a5833",
   "metadata": {},
   "source": [
    "В Python (също както в С++ и повечето други ООП езици) можем да предефинираме поведението на аритметичните и логическите оператори от езика, когато биват извикани върху обект от нашия клас.\n",
    "\n",
    "Съответните магически методи за това са:\n",
    "\n",
    "| оператор   |  `dunder`                       |\n",
    "| ---------- | ------------------------------- |\n",
    "| `==`       | `__eq__`                        |\n",
    "| `!=`/`<>`  | `__neq__`                       |\n",
    "| `<`        | `__lt__`                        |\n",
    "| `<=`       | `__le__`                        |\n",
    "| `>`        | `__gt__`                        |\n",
    "| `>=`       | `__ge__`                        |\n",
    "| `+` (2)    | `__add__`/`__radd__`            |\n",
    "| `*`        | `__mul__`/`__rmul__`            |\n",
    "| `-` (2)    | `__sub__`/`__rsub__`            |\n",
    "| `/`        | `__truediv__`/`__rtruediv__`    |\n",
    "| `//`       | `__floordiv__`/`__rfloordiv__`  |\n",
    "| `%`        | `__mod__`/`__rmod__`            |\n",
    "| `divmod`   | `__divmod__`/`__rdivmod__`      |\n",
    "| `**`/`pow` | `__pow__`/`__rpow__`            |\n",
    "| `<<`       | `__lshift__`/`__rlshift__`      |\n",
    "| `>>`       | `__rshift__`/`__rrshift__`      |\n",
    "| `&`        | `__and__`/`__rand__`            |\n",
    "| `^`        | `__xor__`/`__rxor__`            |\n",
    "| `\\|`       | `__or__`/`__ror__`             |\n",
    "| `+=`       | `__iadd__`                      |\n",
    "| `*=`       | `__imul__`                      |\n",
    "| `-=`       | `__isub__`                      |\n",
    "| `/=`       | `__itruediv__`                  |\n",
    "| `//=`      | `__ifloordiv__`                 |\n",
    "| `%=`       | `__imod__`                      |\n",
    "| `**=`      | `__ipow__`                      |\n",
    "| `<<=`      | `__ilshift__`                   |\n",
    "| `>>=`      | `__irshift__`                   |\n",
    "| `&=`       | `__iand__`                      |\n",
    "| `^=`       | `__ixor__`                      |\n",
    "| `\\|=`      | `__ior__`                      |\n",
    "| `-` (1)    | `__neg__`                       |\n",
    "| `+` (1)    | `__pos__`                       |\n",
    "| `abs`      | `__abs__`                       |\n",
    "| `~`        | `__invert__`                    |\n"
   ]
  },
  {
   "cell_type": "code",
   "execution_count": null,
   "id": "e508eed4",
   "metadata": {},
   "outputs": [
    {
     "name": "stdout",
     "output_type": "stream",
     "text": [
      "summ = Fraction(5, 6)\n",
      "diff = Fraction(1, 6)\n",
      "prod = Fraction(1, 6)\n",
      "quot = Fraction(3, 2)\n",
      "frac1 = Fraction(5, 6)\n"
     ]
    }
   ],
   "source": [
    "class Fraction:\n",
    "    def __init__(self, numerator=0, denominator=1):\n",
    "        self.numerator = numerator\n",
    "        self.denominator = denominator\n",
    "    \n",
    "    def __add__(self, other):\n",
    "        return Fraction(\n",
    "            self.numerator * other.denominator + other.numerator * self.denominator,\n",
    "            self.denominator * other.denominator\n",
    "        )\n",
    "    \n",
    "    def __sub__(self, other):\n",
    "        return Fraction(\n",
    "            self.numerator * other.denominator - other.numerator * self.denominator,\n",
    "            self.denominator * other.denominator\n",
    "        )\n",
    "    \n",
    "    def __mul__(self, other):\n",
    "        return Fraction(\n",
    "            self.numerator * other.numerator,\n",
    "            self.denominator * other.denominator\n",
    "        )\n",
    "\n",
    "    def __truediv__(self, other):\n",
    "        return Fraction(\n",
    "            self.numerator * other.denominator,\n",
    "            self.denominator * other.numerator\n",
    "        )\n",
    "\n",
    "    def __iadd__(self, other):\n",
    "        self.numerator = self.numerator * other.denominator + other.numerator * self.denominator\n",
    "        self.denominator = self.denominator * other.denominator\n",
    "        return self\n",
    "\n",
    "    def __isub__(self, other):\n",
    "        self.numerator = self.numerator * other.denominator - other.numerator * self.denominator\n",
    "        self.denominator = self.denominator * other.denominator\n",
    "        return self\n",
    "\n",
    "    def __imul__(self, other):\n",
    "        self.numerator = self.numerator * other.numerator\n",
    "        self.denominator = self.denominator * other.denominator\n",
    "        return self\n",
    "\n",
    "    def __itruediv__(self, other):\n",
    "        self.numerator = self.numerator * other.denominator\n",
    "        self.denominator = self.denominator * other.numerator\n",
    "        return self\n",
    "    \n",
    "    def __repr__(self):\n",
    "        return f\"Fraction({self.numerator}, {self.denominator})\"\n",
    "\n",
    "\n",
    "frac1 = Fraction(1, 2)\n",
    "frac2 = Fraction(1, 3)\n",
    "\n",
    "summ = frac1 + frac2\n",
    "diff = frac1 - frac2\n",
    "prod = frac1 * frac2\n",
    "quot = frac1 / frac2\n",
    "\n",
    "print(f\"{summ = }\")\n",
    "print(f\"{diff = }\")\n",
    "print(f\"{prod = }\")\n",
    "print(f\"{quot = }\")\n",
    "\n",
    "frac1 += frac2\n",
    "print(f\"{frac1 = }\")\n"
   ]
  },
  {
   "cell_type": "markdown",
   "id": "884610b7",
   "metadata": {},
   "source": [
    "Вариантите на методите, започващи с `r`, дефиниращи поведението на операторите, се извикват с разменени аргументи. Те се използват само в случая, когато левият операнд не поддържа съответната операция и операндите са от различни типове.\n",
    "\n",
    "Нека например имаме израза `x - y` и нека `y` имплементира `__rsub__`. Той ще се извика в случая, когато `x` не поддържа `__sub__` (няма го дефиниран или връща `NotImplemented`) и `x` и `y` са от различни типове."
   ]
  },
  {
   "cell_type": "markdown",
   "id": "74fe0532",
   "metadata": {},
   "source": [
    "### Хеширане"
   ]
  },
  {
   "cell_type": "markdown",
   "id": "9de7b79c",
   "metadata": {},
   "source": [
    "Колекции като `dict`, `set` и `frozenset` изискват елементите им да могат да се хешират. Това се осъществява чрез извикването на вградената функция `hash()`, която връща цяло число - съответният хеш."
   ]
  },
  {
   "cell_type": "code",
   "execution_count": null,
   "id": "03bfd6e7",
   "metadata": {},
   "outputs": [
    {
     "data": {
      "text/plain": [
       "1"
      ]
     },
     "metadata": {},
     "output_type": "display_data"
    }
   ],
   "source": [
    "hash(1)"
   ]
  },
  {
   "cell_type": "code",
   "execution_count": null,
   "id": "cf7a84c0",
   "metadata": {},
   "outputs": [
    {
     "data": {
      "text/plain": [
       "420"
      ]
     },
     "metadata": {},
     "output_type": "display_data"
    }
   ],
   "source": [
    "hash(420)"
   ]
  },
  {
   "cell_type": "code",
   "execution_count": null,
   "id": "e98eeb56",
   "metadata": {},
   "outputs": [
    {
     "data": {
      "text/plain": [
       "-5016004937874941484"
      ]
     },
     "metadata": {},
     "output_type": "display_data"
    }
   ],
   "source": [
    "hash(\"a\")"
   ]
  },
  {
   "cell_type": "code",
   "execution_count": null,
   "id": "30d8eccb",
   "metadata": {},
   "outputs": [
    {
     "data": {
      "text/plain": [
       "-5093137992435649037"
      ]
     },
     "metadata": {},
     "output_type": "display_data"
    }
   ],
   "source": [
    "hash((1, \"a\", False))"
   ]
  },
  {
   "cell_type": "code",
   "execution_count": null,
   "id": "456b38fd",
   "metadata": {},
   "outputs": [
    {
     "ename": "TypeError",
     "evalue": "unhashable type: 'list'",
     "output_type": "error",
     "traceback": [
      "\u001b[0;31m---------------------------------------------------------------------------\u001b[0m\n",
      "\u001b[0;31mTypeError\u001b[0m                                 Traceback (most recent call last)\n",
      "\u001b[0;32m/var/folders/7x/gdf0mbts74n8p_ckv_b_mfc40000gp/T/ipykernel_62173/1812877005.py\u001b[0m in \u001b[0;36m<module>\u001b[0;34m\u001b[0m\n",
      "\u001b[0;32m----> 1\u001b[0;31m \u001b[0mhash\u001b[0m\u001b[0;34m(\u001b[0m\u001b[0;34m[\u001b[0m\u001b[0;36m1\u001b[0m\u001b[0;34m,\u001b[0m \u001b[0;34m\"a\"\u001b[0m\u001b[0;34m,\u001b[0m \u001b[0;32mFalse\u001b[0m\u001b[0;34m]\u001b[0m\u001b[0;34m)\u001b[0m\u001b[0;34m\u001b[0m\u001b[0;34m\u001b[0m\u001b[0m\n",
      "\u001b[0m\n",
      "\u001b[0;31mTypeError\u001b[0m: unhashable type: 'list'"
     ]
    }
   ],
   "source": [
    "hash([1, \"a\", False])"
   ]
  },
  {
   "cell_type": "markdown",
   "id": "922da694",
   "metadata": {},
   "source": [
    "Rule of thumb във всички езици за програмиране е с дефиниране на `__hash__` винаги да има и дефиниция на `__eq__` (обратното не е задължително да е вярно), понеже няма смисъл да се хешира обект, който не може да се сравнява с други.\n",
    "\n",
    "В Python при дефиниране на клас, по премълчаване той получава готова default-на дефиниция на `__eq__` и `__hash__`. Тяхното поведение е такова, че две различни инстанции от този клас не са равни и не произвеждат един и същ хещ (равни са единствено на себе си, т.е. равенство настъпва само при сравняване на имена, сочещи към едно и също място в паметта)."
   ]
  },
  {
   "cell_type": "code",
   "execution_count": null,
   "id": "32126821",
   "metadata": {},
   "outputs": [
    {
     "name": "stdout",
     "output_type": "stream",
     "text": [
      "hash(p1) = 289920877\n",
      "hash(p2) = 289920985\n",
      "visited = {<__main__.Point object at 0x1147d7d90>, <__main__.Point object at 0x1147d76d0>}\n"
     ]
    }
   ],
   "source": [
    "class Point:\n",
    "    def __init__(self, x=0, y=0):\n",
    "        self.x = x\n",
    "        self.y = y\n",
    "\n",
    "p1 = Point(4, 2)\n",
    "p2 = Point(4, 2)\n",
    "\n",
    "print(f\"{hash(p1) = }\")\n",
    "print(f\"{hash(p2) = }\")\n",
    "\n",
    "visited = set()\n",
    "visited.add(p1)\n",
    "visited.add(p2)\n",
    "\n",
    "print(f\"{visited = }\")"
   ]
  },
  {
   "cell_type": "markdown",
   "id": "7025c6b7",
   "metadata": {},
   "source": [
    "В случая от примера може би не искаме две точки с едни и същи координати да се третират като различни. За да го постигнем, трябва да дефинираме `__eq__` и `__hash__`:"
   ]
  },
  {
   "cell_type": "code",
   "execution_count": null,
   "id": "96933e8d",
   "metadata": {},
   "outputs": [
    {
     "name": "stdout",
     "output_type": "stream",
     "text": [
      "hash(p1) = -9131917124991031250\n",
      "hash(p2) = -9131917124991031250\n",
      "visited = {<__main__.Point object at 0x113d60790>}\n"
     ]
    }
   ],
   "source": [
    "class Point:\n",
    "    def __init__(self, x, y):\n",
    "        self.x = x\n",
    "        self.y = y\n",
    "\n",
    "    def __eq__(self, other):\n",
    "        return self.x == other.x and self.y == other.y\n",
    "\n",
    "    def __hash__(self):\n",
    "        return hash((self.x, self.y))  # the hash of the tuple of the coordinates is sufficient\n",
    "\n",
    "\n",
    "p1 = Point(4, 2)\n",
    "p2 = Point(4, 2)\n",
    "\n",
    "print(f\"{hash(p1) = }\")\n",
    "print(f\"{hash(p2) = }\")\n",
    "\n",
    "visited = set()\n",
    "visited.add(p1)\n",
    "visited.add(p2)\n",
    "\n",
    "print(f\"{visited = }\")\n"
   ]
  },
  {
   "cell_type": "markdown",
   "id": "1dd7ae9d",
   "metadata": {},
   "source": [
    "По този начин (чрез предефиниране на `==` и евентуално и на `hash()`) определяме еднаквост между инстанциите. След това единственият начин, по който можем да различим дали обектите съвпадат (т.е. са едни и същи от гледна точка на паметта) остава чрез използване на `is`."
   ]
  },
  {
   "cell_type": "code",
   "execution_count": null,
   "id": "2c99efab",
   "metadata": {},
   "outputs": [
    {
     "data": {
      "text/plain": [
       "False"
      ]
     },
     "metadata": {},
     "output_type": "display_data"
    }
   ],
   "source": [
    "p1 is p2"
   ]
  },
  {
   "cell_type": "code",
   "execution_count": null,
   "id": "b3ff96a5",
   "metadata": {},
   "outputs": [
    {
     "data": {
      "text/plain": [
       "True"
      ]
     },
     "metadata": {},
     "output_type": "display_data"
    }
   ],
   "source": [
    "p1 == p2"
   ]
  },
  {
   "cell_type": "markdown",
   "id": "194b0540",
   "metadata": {},
   "source": [
    "### Контейнери и итератори"
   ]
  },
  {
   "cell_type": "markdown",
   "id": "dd111c00",
   "metadata": {},
   "source": [
    "Съществуват методи, които ни помагат в дефинирането на контейнери и мапинги:\n",
    "\n",
    "* `__len__(self)`: трябва да върне дължината на контейнера (цяло число $ \\ge 0 $). Извиква се от вградената функция `len()`.\n",
    "* `__getitem__(self, key)`: връща елемента с ключ `key` (на позиция `key`). Извиква се при read-only достъп с `[]`.\n",
    "* `__setitem__(self, key, value)`: задава стойността на елемента с ключ `key` (на позиция `key`) да бъде `value`. Извиква се при присвояване с `[]`.\n",
    "* `__delitem__(self, key)`: изтрива елемента с ключ `key` (на позиция `key`). Извиква се от ключовата дума `del`.\n",
    "* `__iter__(self)`: връща итератор, който да се използва за обхождане на контейнера. При мапинги трябва да обхожда ключовете на контейнера. Извиква се от вградената функция `iter()` когато е необходимо. Итераторът трябва да имплементира `__next__`, така че при обхождането му да връща следващия елемент при всяко извикване на `next()`.\n",
    "* `__reversed__(self)`: връща обратен итератор, който да се използва за обхождане на контейнера. Извиква се от вградената функция `reversed()`.\n",
    "* `__contains__(self, item)`: връща `bool`, казващ дали `item` се съдържа в контейнера. Извиква се при използване на `in` за проверка на съдържанието."
   ]
  },
  {
   "cell_type": "code",
   "execution_count": null,
   "id": "a81af78f",
   "metadata": {},
   "outputs": [
    {
     "name": "stdout",
     "output_type": "stream",
     "text": [
      "arr[1] = 0\n",
      "arr[1] = 42\n",
      "42 in arr = True\n",
      "arr[1] = 0\n",
      "42 in arr = False\n"
     ]
    }
   ],
   "source": [
    "class DefaultArray:\n",
    "    \"\"\"\n",
    "    A container that behaves like a list with a maximum size (array)\n",
    "    but returns a default value for missing indices.\n",
    "    \"\"\"\n",
    "\n",
    "    def __init__(self, limit, default_element_func):\n",
    "        self._limit = limit\n",
    "        self._default_element_func = default_element_func\n",
    "        self._list = [None] * limit\n",
    "\n",
    "    def __len__(self):\n",
    "        return self._limit\n",
    "\n",
    "    def __getitem__(self, index):\n",
    "        element = self._list[index]\n",
    "        return self._default_element_func() if element is None else element\n",
    "\n",
    "    def __setitem__(self, index, element):\n",
    "        self._list[index] = element\n",
    "\n",
    "    def __delitem__(self, index):\n",
    "        self._list[index] = None\n",
    "\n",
    "    def __contains__(self, item):\n",
    "        return item in self._list\n",
    "\n",
    "arr = DefaultArray(10, int)  # `int` can be viewed as a function that returns 0 upon calling\n",
    "\n",
    "print(f\"{arr[1] = }\")  # __getitem__\n",
    "\n",
    "arr[1] = 42  # __setitem__\n",
    "\n",
    "print(f\"{arr[1] = }\")\n",
    "print(f\"{42 in arr = }\")  # __contains__\n",
    "\n",
    "del arr[1]  # __delitem__\n",
    "\n",
    "print(f\"{arr[1] = }\")\n",
    "print(f\"{42 in arr = }\")\n",
    "\n"
   ]
  },
  {
   "cell_type": "markdown",
   "id": "656cb4a9",
   "metadata": {},
   "source": [
    "Индексирането в Python е гъвкаво и позволява взимането на цели части (`slice`s) от дадена колекция, както и броене отзад-напред. \n",
    "\n",
    "Синтаксисът е `iterable[start:stop:step]`, където:\n",
    "* `iterable` е въпросната колекция\n",
    "* `start` е началния индекс (default = 0)\n",
    "* `stop` е крайният индекс (***невключително***) (default = len)\n",
    "* `step` е стъпката (default = 1), през която се взимат елементи. Ако е отрицателна, то обхождането е наобратно.\n",
    "\n",
    "Индексът, както и `start`/`stop` могат да бъдат отрицателни числа. В такъв случай `-1` означава последният елемент, `-2` - предпоследният и т.н.\n",
    "\n",
    "Също е хубаво да се отбележи, че при slicing не се хвърля `IndexError`, в случай че някой от индексите е извън колекцията.\n",
    "\n",
    "Най-добре всичко това се демонстрира чрез примери:"
   ]
  },
  {
   "cell_type": "code",
   "execution_count": null,
   "id": "7210344a",
   "metadata": {},
   "outputs": [
    {
     "name": "stdout",
     "output_type": "stream",
     "text": [
      "items[9] = 9\n",
      "items[-1] = 9\n",
      "\n",
      "items[1:5] = [1, 2, 3, 4]\n",
      "items[1:] = [1, 2, 3, 4, 5, 6, 7, 8, 9]\n",
      "items[:5] = [0, 1, 2, 3, 4]\n",
      "items[:-1] = [0, 1, 2, 3, 4, 5, 6, 7, 8]\n",
      "items[-6:-1] = [4, 5, 6, 7, 8]\n",
      "\n",
      "items[1:5:2] = [1, 3]\n",
      "items[1:5:-1] = []\n",
      "items[5:1:-1] = [5, 4, 3, 2]\n",
      "\n",
      "items[5::-1] = [5, 4, 3, 2, 1, 0]\n",
      "items[::-1] = [9, 8, 7, 6, 5, 4, 3, 2, 1, 0]\n",
      "items[:] = [0, 1, 2, 3, 4, 5, 6, 7, 8, 9]\n"
     ]
    }
   ],
   "source": [
    "items = [0, 1, 2, 3, 4, 5, 6, 7, 8, 9]\n",
    "\n",
    "print(f\"{items[9] = }\")\n",
    "print(f\"{items[-1] = }\")\n",
    "print()\n",
    "print(f\"{items[1:5] = }\")\n",
    "print(f\"{items[1:] = }\")\n",
    "print(f\"{items[:5] = }\")\n",
    "print(f\"{items[:-1] = }\")\n",
    "print(f\"{items[-6:-1] = }\")\n",
    "print()\n",
    "print(f\"{items[1:5:2] = }\")\n",
    "print(f\"{items[1:5:-1] = }\")\n",
    "print(f\"{items[5:1:-1] = }\")\n",
    "print()\n",
    "print(f\"{items[5::-1] = }\")\n",
    "print(f\"{items[::-1] = }\")\n",
    "print(f\"{items[:] = }\")\n"
   ]
  },
  {
   "cell_type": "markdown",
   "id": "5a68cd00",
   "metadata": {},
   "source": [
    "Чрез имплементиране на `__getitem__` нашият клас поддържа имплицитно slicing. Това е така, понеже горепоказаният начин за slicing е синтактична захар на създаването на `slice` обект и предаването му чрез `[]`.\n",
    "\n",
    "С други думи, следните две операции са екивалентни:"
   ]
  },
  {
   "cell_type": "code",
   "execution_count": null,
   "id": "515c3d6b",
   "metadata": {},
   "outputs": [
    {
     "name": "stdout",
     "output_type": "stream",
     "text": [
      "workdays1 = ['Mon', 'Tue', 'Wed', 'Thu', 'Fri']\n",
      "workdays2 = ['Mon', 'Tue', 'Wed', 'Thu', 'Fri']\n"
     ]
    }
   ],
   "source": [
    "usa_weekdays = [\"Sun\", \"Mon\", \"Tue\", \"Wed\", \"Thu\", \"Fri\", \"Sat\"]\n",
    "\n",
    "workdays1 = usa_weekdays[1:-1]\n",
    "workdays2 = usa_weekdays[slice(1, -1, None)]\n",
    "\n",
    "print(f\"{workdays1 = }\")\n",
    "print(f\"{workdays2 = }\")\n"
   ]
  },
  {
   "cell_type": "markdown",
   "id": "dd4bf7e9",
   "metadata": {},
   "source": [
    "Това означава, че ако искаме (или пък нарочно и експлицитно не искаме) да поддържаме slicing по адекватен начин в нашия обект, в`__getitem__(self, key)`, `__setitem__(self, key)` и `__delitem__(self, key)` може да е необходимо да проверяваме дали `key` е от тип `slice` в случаите, в които това има значение. Това може да стане с `isinstance(key, slice)` например.\n",
    "\n",
    "В горния пример с `DynamicArray` няма да имаме проблем, понеже параметъра го предаваме директно на `__getitem__` на листа който си пазим, а листовете както видяхме вече успешно се справят със `slice`-ове."
   ]
  },
  {
   "cell_type": "code",
   "execution_count": null,
   "id": "0e7d2572",
   "metadata": {},
   "outputs": [
    {
     "data": {
      "text/plain": [
       "[None, None, None, None, None, None, None, None, None, None]"
      ]
     },
     "metadata": {},
     "output_type": "display_data"
    }
   ],
   "source": [
    "arr[:]"
   ]
  },
  {
   "cell_type": "markdown",
   "id": "9cfe7bac",
   "metadata": {},
   "source": [
    "Итерирането в Python става с помощта на итератори. Итераторите са обекти, които имплементират метода `__next__`, който връща следващия елемент при всяко извикване. Когато няма повече елементи, трябва да се хвърли изключение `StopIteration`. Итераторите се използват от `for`-циклите."
   ]
  },
  {
   "cell_type": "code",
   "execution_count": null,
   "id": "95d19d54",
   "metadata": {},
   "outputs": [
    {
     "name": "stdout",
     "output_type": "stream",
     "text": [
      "iterator = <list_iterator object at 0x118986490>\n",
      "next(iterator) = 1\n",
      "next(iterator) = 2\n",
      "next(iterator) = 3\n"
     ]
    },
    {
     "ename": "StopIteration",
     "evalue": "",
     "output_type": "error",
     "traceback": [
      "\u001b[0;31m---------------------------------------------------------------------------\u001b[0m\n",
      "\u001b[0;31mStopIteration\u001b[0m                             Traceback (most recent call last)\n",
      "\u001b[0;32m/var/folders/7x/gdf0mbts74n8p_ckv_b_mfc40000gp/T/ipykernel_62173/920778728.py\u001b[0m in \u001b[0;36m<module>\u001b[0;34m\u001b[0m\n",
      "\u001b[1;32m     10\u001b[0m \u001b[0mprint\u001b[0m\u001b[0;34m(\u001b[0m\u001b[0;34mf\"{next(iterator) = }\"\u001b[0m\u001b[0;34m)\u001b[0m  \u001b[0;31m# second iteration\u001b[0m\u001b[0;34m\u001b[0m\u001b[0;34m\u001b[0m\u001b[0m\n",
      "\u001b[1;32m     11\u001b[0m \u001b[0mprint\u001b[0m\u001b[0;34m(\u001b[0m\u001b[0;34mf\"{next(iterator) = }\"\u001b[0m\u001b[0;34m)\u001b[0m  \u001b[0;31m# third iteration\u001b[0m\u001b[0;34m\u001b[0m\u001b[0;34m\u001b[0m\u001b[0m\n",
      "\u001b[0;32m---> 12\u001b[0;31m \u001b[0mprint\u001b[0m\u001b[0;34m(\u001b[0m\u001b[0;34mf\"{next(iterator) = }\"\u001b[0m\u001b[0;34m)\u001b[0m  \u001b[0;31m# this exception is caught by the `for` loop and is its exit condition\u001b[0m\u001b[0;34m\u001b[0m\u001b[0;34m\u001b[0m\u001b[0m\n",
      "\u001b[0m\u001b[1;32m     13\u001b[0m \u001b[0;31m# let's not catch it and let it boom 💥\u001b[0m\u001b[0;34m\u001b[0m\u001b[0;34m\u001b[0m\u001b[0m\n",
      "\n",
      "\u001b[0;31mStopIteration\u001b[0m: "
     ]
    }
   ],
   "source": [
    "iterable = [1, 2, 3]\n",
    "\n",
    "# `for i in iterable: print(i)` is equal to the following calls:\n",
    "\n",
    "iterator = iter(iterable)  # the `for` loop uses the iterator of the object\n",
    "\n",
    "print(f\"{iterator = }\")  # printing here the iterator just for demo purposes\n",
    "\n",
    "print(f\"{next(iterator) = }\")  # first iteration\n",
    "print(f\"{next(iterator) = }\")  # second iteration\n",
    "print(f\"{next(iterator) = }\")  # third iteration\n",
    "print(f\"{next(iterator) = }\")  # this exception is caught by the `for` loop and is its exit condition\n",
    "# let's not catch it and let it boom 💥"
   ]
  },
  {
   "cell_type": "markdown",
   "id": "57f213ad",
   "metadata": {},
   "source": [
    "С други думи, `for` циклите правят следното:"
   ]
  },
  {
   "cell_type": "code",
   "execution_count": null,
   "id": "2f2b9072",
   "metadata": {},
   "outputs": [
    {
     "name": "stdout",
     "output_type": "stream",
     "text": [
      "1\n",
      "2\n",
      "3\n"
     ]
    }
   ],
   "source": [
    "def for_from_aliexpress(iterable, func):\n",
    "    iterator = iter(iterable)\n",
    "    while True:\n",
    "        try:\n",
    "            element = next(iterator)\n",
    "        except StopIteration:\n",
    "            break\n",
    "\n",
    "        func(element)\n",
    "\n",
    "for_from_aliexpress([1, 2, 3], print)"
   ]
  },
  {
   "cell_type": "markdown",
   "id": "ad645b58",
   "metadata": {},
   "source": [
    "Ако не разбирате част от кода горе, не се притеснявайте. В последваща лекция ще учим за грешки и изключения, както и в друга говорим за итериране и функции от по-висок ред в повече дълбочина."
   ]
  },
  {
   "cell_type": "markdown",
   "id": "79af31c6",
   "metadata": {},
   "source": [
    "За бъде итеруем (iterable) един клас, трябва да имплементира `__iter__`, връщайки итератор. Възможно е да върне и собствената си инстанция, в случай, че има имплементиран `__next__`."
   ]
  },
  {
   "cell_type": "code",
   "execution_count": null,
   "id": "7ab5d84f",
   "metadata": {},
   "outputs": [
    {
     "ename": "TypeError",
     "evalue": "'NotAnIterable' object is not iterable",
     "output_type": "error",
     "traceback": [
      "\u001b[0;31m---------------------------------------------------------------------------\u001b[0m\n",
      "\u001b[0;31mTypeError\u001b[0m                                 Traceback (most recent call last)\n",
      "\u001b[0;32m/var/folders/7x/gdf0mbts74n8p_ckv_b_mfc40000gp/T/ipykernel_62173/2000024672.py\u001b[0m in \u001b[0;36m<module>\u001b[0;34m\u001b[0m\n",
      "\u001b[1;32m      4\u001b[0m \u001b[0mnot_an_iterable\u001b[0m \u001b[0;34m=\u001b[0m \u001b[0mNotAnIterable\u001b[0m\u001b[0;34m(\u001b[0m\u001b[0;34m)\u001b[0m\u001b[0;34m\u001b[0m\u001b[0;34m\u001b[0m\u001b[0m\n",
      "\u001b[1;32m      5\u001b[0m \u001b[0;34m\u001b[0m\u001b[0m\n",
      "\u001b[0;32m----> 6\u001b[0;31m \u001b[0;32mfor\u001b[0m \u001b[0mi\u001b[0m \u001b[0;32min\u001b[0m \u001b[0mnot_an_iterable\u001b[0m\u001b[0;34m:\u001b[0m\u001b[0;34m\u001b[0m\u001b[0;34m\u001b[0m\u001b[0m\n",
      "\u001b[0m\u001b[1;32m      7\u001b[0m     \u001b[0mprint\u001b[0m\u001b[0;34m(\u001b[0m\u001b[0mi\u001b[0m\u001b[0;34m)\u001b[0m\u001b[0;34m\u001b[0m\u001b[0;34m\u001b[0m\u001b[0m\n",
      "\n",
      "\u001b[0;31mTypeError\u001b[0m: 'NotAnIterable' object is not iterable"
     ]
    }
   ],
   "source": [
    "class NotAnIterable:\n",
    "    pass\n",
    "\n",
    "not_an_iterable = NotAnIterable()\n",
    "\n",
    "for i in not_an_iterable:\n",
    "    print(i)"
   ]
  },
  {
   "cell_type": "code",
   "execution_count": null,
   "id": "8c222624",
   "metadata": {},
   "outputs": [
    {
     "name": "stdout",
     "output_type": "stream",
     "text": [
      "0\n",
      "1\n",
      "8\n",
      "27\n",
      "64\n",
      "125\n",
      "216\n",
      "343\n",
      "512\n",
      "729\n"
     ]
    }
   ],
   "source": [
    "class DefaultArray:\n",
    "    \"\"\"\n",
    "    A container that behaves like a list with a maximum size (array)\n",
    "    but returns a default value for missing indices.\n",
    "    \"\"\"\n",
    "\n",
    "    def __init__(self, limit, default_element_func):\n",
    "        self._limit = limit\n",
    "        self._default_element_func = default_element_func\n",
    "        self._list = [None] * limit\n",
    "\n",
    "    def __len__(self):\n",
    "        return self._limit\n",
    "\n",
    "    def __getitem__(self, index):\n",
    "        element = self._list[index]\n",
    "        return self._default_element_func() if element is None else element\n",
    "\n",
    "    def __setitem__(self, index, element):\n",
    "        self._list[index] = element\n",
    "\n",
    "    def __delitem__(self, index):\n",
    "        self._list[index] = None\n",
    "\n",
    "    def __contains__(self, item):\n",
    "        return item in self._list\n",
    "\n",
    "    def __iter__(self):\n",
    "        return iter(self._list)\n",
    "\n",
    "arr = DefaultArray(10, int)\n",
    "\n",
    "for i in range(10):\n",
    "    arr[i] = i*i*i  # squares are overrated, let's print the cubes\n",
    "\n",
    "for element in arr:  # __iter__ is called here\n",
    "    print(element)\n"
   ]
  },
  {
   "cell_type": "code",
   "execution_count": null,
   "id": "1d0fe7a0",
   "metadata": {},
   "outputs": [
    {
     "name": "stdout",
     "output_type": "stream",
     "text": [
      "1\n",
      "1\n",
      "2\n",
      "3\n",
      "5\n",
      "8\n",
      "13\n",
      "21\n",
      "34\n",
      "55\n",
      "89\n",
      "144\n",
      "233\n",
      "377\n",
      "610\n",
      "987\n"
     ]
    }
   ],
   "source": [
    "class FibonacciGenerator:\n",
    "    def __init__(self, max_index):\n",
    "        self.max_index = max_index\n",
    "        self._a = 1\n",
    "        self._b = 1\n",
    "        self._current_index = 0\n",
    "\n",
    "    def __iter__(self):\n",
    "        return self\n",
    "\n",
    "    def __next__(self):\n",
    "        if self._current_index >= self.max_index:\n",
    "            raise StopIteration\n",
    "\n",
    "        current = self._a\n",
    "\n",
    "        self._a, self._b = self._b, self._a + self._b\n",
    "        self._current_index += 1\n",
    "\n",
    "        return current\n",
    "\n",
    "\n",
    "lateralus = FibonacciGenerator(16)\n",
    "\n",
    "for i in lateralus:\n",
    "    print(i)\n"
   ]
  },
  {
   "cell_type": "code",
   "execution_count": null,
   "id": "d9d52c16",
   "metadata": {},
   "outputs": [
    {
     "name": "stdout",
     "output_type": "stream",
     "text": [
      "s👏t👏r👏i👏n👏g👏s👏 👏a👏r👏e👏 👏a👏l👏s👏o👏 👏i👏t👏e👏r👏a👏b👏l👏e👏s\n"
     ]
    }
   ],
   "source": [
    "class YetAnotherCustomIterable:\n",
    "    class CustomIterator:\n",
    "        def __init__(self, iterable):\n",
    "            self._iterable = iterable\n",
    "            self._index = 0\n",
    "\n",
    "        def __next__(self):\n",
    "            if self._index >= len(self._iterable):\n",
    "                raise StopIteration\n",
    "\n",
    "            element = self._iterable[self._index]\n",
    "            self._index += 1\n",
    "            return element\n",
    "    \n",
    "    def __init__(self, iterable):\n",
    "        self._iterable = iterable\n",
    "    \n",
    "    def __iter__(self):\n",
    "        return YetAnotherCustomIterable.CustomIterator(self._iterable)\n",
    "\n",
    "it = YetAnotherCustomIterable(\"strings are also iterables\")\n",
    "\n",
    "print(\"👏\".join(i for i in it))  # __iter__ is also called by comprehensions\n",
    "# more info on list/generator/dict comprehensions in another lecture\n"
   ]
  },
  {
   "cell_type": "markdown",
   "id": "d1fc0cbd",
   "metadata": {},
   "source": [
    "### Функции"
   ]
  },
  {
   "cell_type": "markdown",
   "id": "8a843e0f",
   "metadata": {},
   "source": [
    "Искате обектът ви да бъде извикан като функция?\n",
    "\n",
    "Няма проблеми."
   ]
  },
  {
   "cell_type": "code",
   "execution_count": null,
   "id": "5622179d",
   "metadata": {},
   "outputs": [
    {
     "name": "stdout",
     "output_type": "stream",
     "text": [
      "f(x) = x + 2\n",
      "f(0) = 2\n",
      "f(1) = 3\n"
     ]
    }
   ],
   "source": [
    "class LinearBinomial:\n",
    "    def __init__(self, a, b):\n",
    "        self.a = a\n",
    "        self.b = b\n",
    "\n",
    "    def __call__(self, x):\n",
    "        return self.a * x + self.b\n",
    "\n",
    "    def __str__(self):\n",
    "        A = f\"{self.a}x\" if self.a != 1 else \"x\"\n",
    "        B = f\"{self.b}\" if self.b != 0 else \"\"\n",
    "        return f\"{A} + {B}\"\n",
    "\n",
    "\n",
    "f = LinearBinomial(1, 2)\n",
    "\n",
    "print(f\"f(x) = {f}\")\n",
    "\n",
    "print(f\"f(0) = {f(0)}\")\n",
    "print(f\"f(1) = {f(1)}\")\n"
   ]
  },
  {
   "cell_type": "markdown",
   "id": "7a0d5613",
   "metadata": {},
   "source": [
    "### Pure witchcraft"
   ]
  },
  {
   "cell_type": "code",
   "execution_count": null,
   "id": "e4335c9d",
   "metadata": {},
   "outputs": [
    {
     "name": "stdout",
     "output_type": "stream",
     "text": [
      "instance.__doc__ = \"This is an example class.\\n    \\n    Note: The first multiline comment in a definition of a class, module or function\\n    is called a 'docstring'.\\n    \"\n",
      "instance.__repr__.__doc__ = \"Return repr(self).\\n        \\n        Note: there are established strict conventions as to what good code documentation sould look like.\\n        For example, such comments should always be imperative (e.g. 'return', not 'returns').\\n        For more info check out `pydocstyle` (https://www.pydocstyle.org/en/stable/). It includes a linter\\n        that can be configured inside your IDE to constantly check and give out warnings\\n        regarding your code documentation and style.\\n        Good thing to check out as well is PEP-8 but keep in mind that we will cover PEP-8 in details\\n        in a following lecture.\\n        \"\n",
      "ExampleClass.__name__ = 'ExampleClass'\n",
      "instance.__class__ = <class '__main__.ExampleClass'>\n",
      "instance.__module__ = '__main__'\n",
      "instance.__dict__ = {'var': 42}\n",
      "vars(instance) = {'var': 42}\n",
      "instance.__repr__.__code__ = <code object __repr__ at 0x113d91df0, file \"/var/folders/7x/gdf0mbts74n8p_ckv_b_mfc40000gp/T/ipykernel_62173/2566046567.py\", line 15>\n",
      "instance.__repr__.__code__.co_code = b'd\\x01|\\x00j\\x00\\x9b\\x00d\\x02\\x9d\\x03S\\x00'\n",
      "instance.__str__.__code__.co_code = b'd\\x01|\\x00j\\x00\\x9b\\x00d\\x02\\x9d\\x03S\\x00'\n"
     ]
    }
   ],
   "source": [
    "class ExampleClass:\n",
    "    \"\"\"This is an example class.\n",
    "    \n",
    "    Note: The first multiline comment in a definition of a class, module or function\n",
    "    is called a 'docstring'.\n",
    "    \"\"\"\n",
    "\n",
    "    def __init__(self, var):\n",
    "        \"\"\"Take a variable and store it in the instance.\n",
    "\n",
    "        Note: It is good practice to document as many public methods and classes as possible.\n",
    "        \"\"\"\n",
    "        self.var = var\n",
    "\n",
    "    def __repr__(self):\n",
    "        \"\"\"Return repr(self).\n",
    "        \n",
    "        Note: there are established strict conventions as to what good code documentation sould look like.\n",
    "        For example, such comments should always be imperative (e.g. 'return', not 'returns').\n",
    "        For more info check out `pydocstyle` (https://www.pydocstyle.org/en/stable/). It includes a linter\n",
    "        that can be configured inside your IDE to constantly check and give out warnings\n",
    "        regarding your code documentation and style.\n",
    "        Good thing to check out as well is PEP-8 but keep in mind that we will cover PEP-8 in details\n",
    "        in a following lecture.\n",
    "        \"\"\"\n",
    "        return f\"ExampleClass({self.var})\"\n",
    "\n",
    "    __str__ = __repr__  # after all, methods are objects too. They can be passed around and assigned.\n",
    "\n",
    "\n",
    "instance = ExampleClass(42)\n",
    "\n",
    "# now let the black magic begin\n",
    "print(f\"{instance.__doc__ = }\")           # the docstring of the object\n",
    "print(f\"{instance.__repr__.__doc__ = }\")  # the docstring of a method of the object\n",
    "print(f\"{ExampleClass.__name__ = }\")  # the name of the class as a string\n",
    "print(f\"{instance.__class__ = }\")  # the class of the instance as a class object\n",
    "print(f\"{instance.__module__ = }\")  # the name of the module in which the object exists. In this case, it's `__main__` because we are in the REPL.\n",
    "print(f\"{instance.__dict__ = }\")  # a `dict` containing all the attributes of the instance. It is returned by the `vars` builtin function:\n",
    "print(f\"{vars(instance) = }\")\n",
    "print(f\"{instance.__repr__.__code__ = }\")  # the code object of the method. Don't expect to see the exact code though, this is some representation of the compiled code.\n",
    "print(f\"{instance.__repr__.__code__.co_code = }\")  # the actual compiled code. This is a `bytes` object.\n",
    "print(f\"{instance.__str__.__code__.co_code = }\")  # it's the same picture\n"
   ]
  },
  {
   "cell_type": "markdown",
   "id": "17c72798",
   "metadata": {},
   "source": [
    "## Някои полезни помощни класове и декоратори"
   ]
  },
  {
   "cell_type": "markdown",
   "id": "093b31ce",
   "metadata": {},
   "source": [
    "### Но първо, какво е \"декоратор\"?"
   ]
  },
  {
   "cell_type": "markdown",
   "id": "33662553",
   "metadata": {},
   "source": [
    "Накратко (понеже в друга лекция ще обясним по-подробно), това е функция, обграждаща и \"добавяща\" функционалност на друга такава. Т.е. приема за параметър някоя функция и връща друга, която е модифицирана версия на първата. В Python може да се използва и чрез `@`, което е удобен syntax sugar за декориране."
   ]
  },
  {
   "cell_type": "code",
   "execution_count": null,
   "id": "0428cf61",
   "metadata": {},
   "outputs": [
    {
     "name": "stdout",
     "output_type": "stream",
     "text": [
      "Calling fibonacci with (16,) and {}\n",
      "lateralus = 987\n",
      "Calling fibonacci with () and {}\n"
     ]
    },
    {
     "data": {
      "text/plain": [
       "33644764876431783266621612005107543310302148460680063906564769974680081442166662368155595513633734025582065332680836159373734790483865268263040892463056431887354544369559827491606602099884183933864652731300088830269235673613135117579297437854413752130520504347701602264758318906527890855154366159582987279682987510631200575428783453215515103870818298969791613127856265033195487140214287532698187962046936097879900350962302291026368131493195275630227837628441540360584402572114334961180023091208287046088923962328835461505776583271252546093591128203925285393434620904245248929403901706233888991085841065183173360437470737908552631764325733993712871937587746897479926305837065742830161637408969178426378624212835258112820516370298089332099905707920064367426202389783111470054074998459250360633560933883831923386783056136435351892133279732908133732642652633989763922723407882928177953580570993691049175470808931841056146322338217465637321248226383092103297701648054726243842374862411453093812206564914032751086643394517512161526545361333111314042436854805106765843493523836959653428071768775328348234345557366719731392746273629108210679280784718035329131176778924659089938635459327894523777674406192240337638674004021330343297496902028328145933418826817683893072003634795623117103101291953169794607632737589253530772552375943788434504067715555779056450443016640119462580972216729758615026968443146952034614932291105970676243268515992834709891284706740862008587135016260312071903172086094081298321581077282076353186624611278245537208532365305775956430072517744315051539600905168603220349163222640885248852433158051534849622434848299380905070483482449327453732624567755879089187190803662058009594743150052402532709746995318770724376825907419939632265984147498193609285223945039707165443156421328157688908058783183404917434556270520223564846495196112460268313970975069382648706613264507665074611512677522748621598642530711298441182622661057163515069260029861704945425047491378115154139941550671256271197133252763631939606902895650288268608362241082050562430701794976171121233066073310059947366875"
      ]
     },
     "metadata": {},
     "output_type": "display_data"
    }
   ],
   "source": [
    "def logged(func):\n",
    "    def wrapper(*args, **kwargs):\n",
    "        print(f\"Calling {func.__name__} with {args} and {kwargs}\")\n",
    "        return func(*args, **kwargs)\n",
    "    return wrapper\n",
    "\n",
    "@logged\n",
    "def fibonacci(n=10_000):\n",
    "    a = 0\n",
    "    b = 1\n",
    "    for i in range(n):\n",
    "        a, b = b, a + b\n",
    "    return a\n",
    "\n",
    "lateralus = fibonacci(16)  # here we observe the added side effect of logging the call\n",
    "\n",
    "print(f\"{lateralus = }\")  # as above, so below\n",
    "\n",
    "# and beyond I imagine\n",
    "fibonacci()\n"
   ]
  },
  {
   "cell_type": "markdown",
   "id": "76442331",
   "metadata": {},
   "source": [
    "Съществуват различни полезни декоратори, които ни улесняват с имплеменетирането на често-срещани ООП фунцкионалности."
   ]
  },
  {
   "cell_type": "markdown",
   "id": "538bbc40",
   "metadata": {},
   "source": [
    "### `@property`"
   ]
  },
  {
   "cell_type": "markdown",
   "id": "1f9acde0",
   "metadata": {},
   "source": [
    "В някои езици наричано \"computed property\", това е поле/атрибут, чиято стойност се изчислява при използването му и обикновено не се съхранява никъде. На практика това е метод, който се използва със синтаксиса атрибут. Достатъчно е да декорираме с `@property` нормален метод, за да го превърнем в атрибут."
   ]
  },
  {
   "cell_type": "code",
   "execution_count": null,
   "id": "013e03f2",
   "metadata": {},
   "outputs": [
    {
     "name": "stdout",
     "output_type": "stream",
     "text": [
      "Doncho\n"
     ]
    }
   ],
   "source": [
    "class Player:\n",
    "    def __init__(self, name):\n",
    "        self._name = name\n",
    "\n",
    "    @property\n",
    "    def name(self):\n",
    "        return self._name\n",
    "\n",
    "doncho = Player(\"Doncho\")\n",
    "print(doncho.name)"
   ]
  },
  {
   "cell_type": "markdown",
   "id": "419617b0",
   "metadata": {},
   "source": [
    "### `@setter`"
   ]
  },
  {
   "cell_type": "markdown",
   "id": "2c5aa528",
   "metadata": {},
   "source": [
    "Освен read-only computed property-та, можем да имаме и writable такива. Това се постига чрез декоратора `@{propertyname}.setter`, който се използва върху метод, който да се изпълнява при присвояване на стойност на атрибута (`{propertyname}` се замества с името на property-то)."
   ]
  },
  {
   "cell_type": "code",
   "execution_count": null,
   "id": "7e215f78",
   "metadata": {},
   "outputs": [
    {
     "name": "stdout",
     "output_type": "stream",
     "text": [
      "newb.level = 1\n",
      "now the player buys something and advances some levels automatically...\n",
      "newb.level = 10\n",
      "newb._xp = 9000\n"
     ]
    }
   ],
   "source": [
    "class Player:\n",
    "    def __init__(self, xp):\n",
    "        self._xp = xp\n",
    "\n",
    "    @property\n",
    "    def level(self):\n",
    "        return self._xp // 1000 + 1\n",
    "    \n",
    "    @level.setter\n",
    "    def level(self, value):  # has to have the same name!\n",
    "        self._xp = (value - 1) * 1000\n",
    "    \n",
    "newb = Player(0)\n",
    "print(f\"{newb.level = }\")\n",
    "\n",
    "print(\"now the player buys something and advances some levels automatically...\")\n",
    "newb.level = 10  # ...cheater\n",
    "\n",
    "print(f\"{newb.level = }\")\n",
    "print(f\"{newb._xp = }\")\n"
   ]
  },
  {
   "cell_type": "markdown",
   "id": "9b8c4ace",
   "metadata": {},
   "source": [
    "### `@staticmethod`"
   ]
  },
  {
   "cell_type": "markdown",
   "id": "89eac6ab",
   "metadata": {},
   "source": [
    "Ако дефинираме функция в блока за дефиниция на клас, тя става метод на класа и при извикването ѝ винаги имплицитно се предава като първи параметър съответната инстанция на класа. Но как да създадем метод, който не зависи от инстанцията?"
   ]
  },
  {
   "cell_type": "code",
   "execution_count": null,
   "id": "070a8d95",
   "metadata": {},
   "outputs": [
    {
     "name": "stdout",
     "output_type": "stream",
     "text": [
      "<__main__.A object at 0x113d60be0>\n",
      "I am free\n"
     ]
    },
    {
     "ename": "TypeError",
     "evalue": "static_method() takes 0 positional arguments but 1 was given",
     "output_type": "error",
     "traceback": [
      "\u001b[0;31m---------------------------------------------------------------------------\u001b[0m\n",
      "\u001b[0;31mTypeError\u001b[0m                                 Traceback (most recent call last)\n",
      "\u001b[0;32m/var/folders/7x/gdf0mbts74n8p_ckv_b_mfc40000gp/T/ipykernel_62173/666281317.py\u001b[0m in \u001b[0;36m<module>\u001b[0;34m\u001b[0m\n",
      "\u001b[1;32m      9\u001b[0m \u001b[0ma\u001b[0m\u001b[0;34m.\u001b[0m\u001b[0minstance_method\u001b[0m\u001b[0;34m(\u001b[0m\u001b[0;34m)\u001b[0m\u001b[0;34m\u001b[0m\u001b[0;34m\u001b[0m\u001b[0m\n",
      "\u001b[1;32m     10\u001b[0m \u001b[0mA\u001b[0m\u001b[0;34m.\u001b[0m\u001b[0mstatic_method\u001b[0m\u001b[0;34m(\u001b[0m\u001b[0;34m)\u001b[0m\u001b[0;34m\u001b[0m\u001b[0;34m\u001b[0m\u001b[0m\n",
      "\u001b[0;32m---> 11\u001b[0;31m \u001b[0ma\u001b[0m\u001b[0;34m.\u001b[0m\u001b[0mstatic_method\u001b[0m\u001b[0;34m(\u001b[0m\u001b[0;34m)\u001b[0m\u001b[0;34m\u001b[0m\u001b[0;34m\u001b[0m\u001b[0m\n",
      "\u001b[0m\n",
      "\u001b[0;31mTypeError\u001b[0m: static_method() takes 0 positional arguments but 1 was given"
     ]
    }
   ],
   "source": [
    "class A:\n",
    "    def instance_method(self):\n",
    "        print(self)\n",
    "\n",
    "    def static_method():\n",
    "        print(\"I am free\")\n",
    "\n",
    "a = A()\n",
    "a.instance_method()\n",
    "A.static_method()\n",
    "a.static_method()"
   ]
  },
  {
   "cell_type": "markdown",
   "id": "44361038",
   "metadata": {},
   "source": [
    "Ако в горния случай изпълним `A.static_method()` няма да бъде направен опит да се предаде инстанция като първи параметър, понеже такава нямаме. Но не винаги можем да сме сигурни, че метода ще бъде извикан върху класа, а не върху конкретен обект. Начинът по който можем да подсигурим безпроблемното изпълнение и в двата случая е да декорираме метода със `@staticmethod`:"
   ]
  },
  {
   "cell_type": "code",
   "execution_count": null,
   "id": "4d1a3776",
   "metadata": {},
   "outputs": [
    {
     "name": "stdout",
     "output_type": "stream",
     "text": [
      "I am free\n",
      "I am free\n"
     ]
    }
   ],
   "source": [
    "class A:\n",
    "\n",
    "    @staticmethod\n",
    "    def static_method():\n",
    "        print(\"I am free\")\n",
    "\n",
    "a = A()\n",
    "A.static_method()\n",
    "a.static_method()"
   ]
  },
  {
   "cell_type": "markdown",
   "id": "6a0b10d4",
   "metadata": {},
   "source": [
    "### `@classmethod`"
   ]
  },
  {
   "cell_type": "markdown",
   "id": "8c1db84e",
   "metadata": {},
   "source": [
    "Понякога може да искаме като първи аргумент на метода да ни бъде подадена не инстанцията, а самият клас. Такъв метод трябва да декорираме с `@classmethod`. Отново, също както със `self`, името на аргумента може да е всякакво, но по конвенция е прието да се кръщава `cls` (понеже `class` е запазена дума)."
   ]
  },
  {
   "cell_type": "code",
   "execution_count": null,
   "id": "d7df9230",
   "metadata": {},
   "outputs": [
    {
     "name": "stdout",
     "output_type": "stream",
     "text": [
      "User(yalishanda, yalishanda@example.com, 420)\n"
     ]
    }
   ],
   "source": [
    "class User:\n",
    "    def __init__(self, username, email, money):\n",
    "        self.username = username\n",
    "        self.email = email\n",
    "        self.money = money\n",
    "\n",
    "    @classmethod\n",
    "    def from_json_dict(cls, json):\n",
    "        username = json[\"username\"]\n",
    "        email = json[\"email\"]\n",
    "        money = json[\"money\"]\n",
    "        return cls(username, email, money)\n",
    "\n",
    "    def __repr__(self):\n",
    "        return f\"User({self.username}, {self.email}, {self.money})\"\n",
    "\n",
    "\n",
    "json_data = {\n",
    "    \"username\": \"yalishanda\",\n",
    "    \"email\": \"yalishanda@example.com\",\n",
    "    \"money\": 420\n",
    "}\n",
    "\n",
    "user = User.from_json_dict(json_data)\n",
    "print(user)\n"
   ]
  },
  {
   "cell_type": "markdown",
   "id": "794bc1dc",
   "metadata": {},
   "source": [
    "### `ABC` (Abstract Base Class) и `@abstractmethod`"
   ]
  },
  {
   "cell_type": "markdown",
   "id": "ffc76376",
   "metadata": {},
   "source": [
    "Модулът `abc` ни предоставя начини, с които да дефинираме абстрактни базови класове. Те не могат да бъдат инстанцирани, когато съдържат един или повече от един абстрактни метода, чиято цел е да опишат общ интерфейс и да бъдат имплементирани от наследниците на класа."
   ]
  },
  {
   "cell_type": "code",
   "execution_count": null,
   "id": "39e759f3",
   "metadata": {},
   "outputs": [
    {
     "name": "stdout",
     "output_type": "stream",
     "text": [
      "Petting Doge...\n",
      "woof\n",
      "Petting Мишо...\n",
      "purr\n",
      "Petting Съска...\n",
      "sss\n"
     ]
    },
    {
     "ename": "TypeError",
     "evalue": "Can't instantiate abstract class Animal with abstract method make_sound",
     "output_type": "error",
     "traceback": [
      "\u001b[0;31m---------------------------------------------------------------------------\u001b[0m\n",
      "\u001b[0;31mTypeError\u001b[0m                                 Traceback (most recent call last)\n",
      "\u001b[0;32m/var/folders/7x/gdf0mbts74n8p_ckv_b_mfc40000gp/T/ipykernel_62173/3318180173.py\u001b[0m in \u001b[0;36m<module>\u001b[0;34m\u001b[0m\n",
      "\u001b[1;32m     34\u001b[0m \u001b[0msnek\u001b[0m\u001b[0;34m.\u001b[0m\u001b[0mpet\u001b[0m\u001b[0;34m(\u001b[0m\u001b[0;34m)\u001b[0m\u001b[0;34m\u001b[0m\u001b[0;34m\u001b[0m\u001b[0m\n",
      "\u001b[1;32m     35\u001b[0m \u001b[0;34m\u001b[0m\u001b[0m\n",
      "\u001b[0;32m---> 36\u001b[0;31m \u001b[0mbase\u001b[0m \u001b[0;34m=\u001b[0m \u001b[0mAnimal\u001b[0m\u001b[0;34m(\u001b[0m\u001b[0;34m\"опа\"\u001b[0m\u001b[0;34m)\u001b[0m\u001b[0;34m\u001b[0m\u001b[0;34m\u001b[0m\u001b[0m\n",
      "\u001b[0m\n",
      "\u001b[0;31mTypeError\u001b[0m: Can't instantiate abstract class Animal with abstract method make_sound"
     ]
    }
   ],
   "source": [
    "from abc import ABC, abstractmethod\n",
    "\n",
    "class Animal(ABC):\n",
    "    def __init__(self, name):\n",
    "        self._name = name\n",
    "\n",
    "    @abstractmethod\n",
    "    def make_sound(self):\n",
    "        pass\n",
    "\n",
    "    def pet(self):\n",
    "        print(f\"Petting {self._name}...\")\n",
    "        self.make_sound()\n",
    "\n",
    "class Dog(Animal):\n",
    "    def make_sound(self):\n",
    "        print(\"woof\")\n",
    "\n",
    "class Cat(Animal):\n",
    "    def make_sound(self):\n",
    "        print(\"purr\")\n",
    "\n",
    "class Snek(Animal):\n",
    "    def make_sound(self):\n",
    "        print(\"sss\")\n",
    "\n",
    "doge = Dog(\"Doge\")\n",
    "doge.pet()\n",
    "\n",
    "catto = Cat(\"Мишо\")\n",
    "catto.pet()\n",
    "\n",
    "snek = Snek(\"Съска\")\n",
    "snek.pet()\n",
    "\n",
    "base = Animal(\"опа\")"
   ]
  },
  {
   "cell_type": "markdown",
   "id": "517316e8",
   "metadata": {},
   "source": [
    "# Примери (задачи за решаване в час)"
   ]
  },
  {
   "cell_type": "markdown",
   "id": "87311afa",
   "metadata": {},
   "source": [
    "## Пример 1\n",
    "\n",
    "Напишете клас `Rectangle`, описващ правоъгълник, със следните характеристики:\n",
    "\n",
    "- дължина\n",
    "- широчина\n",
    "- цвят (низ)\n",
    "- методи, връщащи стойностите на член-данните на класа\n",
    "- метод за изчисляване на лице\n",
    "\n",
    "Напишете клас `Circle`, описващ кръг, със следните характеристики:\n",
    "\n",
    "- радиус\n",
    "- цвят (низ)\n",
    "- методи, връщащи стойностите на член-данните на класа\n",
    "- метод за изчисляване на лице\n",
    "\n",
    "Напишете клас `Shapes`, със следните характеристики:\n",
    "\n",
    "- съдържа в себе си горе-дефинираните геометрични фигури\n",
    "- метод за добавяне на нов кръг към колекцията\n",
    "- метод за добавяне на нов правоъгълник към колекцията\n",
    "- метод, който връща сумата от всички лица на правоъгълниците\n",
    "- метод, който връща сумата от всички лица на кръговете\n",
    "- метод, който връща геометрична фигура по подаден индекс"
   ]
  },
  {
   "cell_type": "markdown",
   "id": "207ed707",
   "metadata": {},
   "source": [
    "## Пример 2\n",
    "\n",
    "*Съществуват различни видове броячи - някои могат само да увеличават бройката, която пазят, други могат и да я намалят, а трети имат ограничение до колко могат да отброяват.*\n",
    "\n",
    "### Клас `Counter`\n",
    "\n",
    "*Най-простият брояч - само нагоре, без ограничение.*\n",
    "\n",
    "- Инициализатор с параметри `initial=0` (начална стойност) и `step=1` (стъпка)\n",
    "- `increment()`: увеличава текущата стойност със стъпката на брояча\n",
    "- `get_total()`: връща `int` - текущата отброена стойност\n",
    "- `get_step()`: връща `int` - стъпката на брояча (не трябва да може да бъде променяна)\n",
    "\n",
    "### Клас `TwowayCounter`\n",
    "\n",
    "*Брояч, който може и да намалява отброяваната стойност.*\n",
    "\n",
    "Освен всичко изброено в `Counter`, съдържа и:\n",
    "- `decrement()`: намалява текущата стойност със стъпката на брояча\n",
    "\n",
    "### Клас `LimitedCounter`\n",
    "\n",
    "*Брояч, който отброява само до дадена максимална стойност.*\n",
    "\n",
    "- Инициализатор с 3 параметъра `max` (максимална стойност), `initial=0` (начална ст-т) и `step=1` (стъпка)\n",
    "- `increment()`: увеличава текущата стойност със стъпката на брояча само ако няма да надмине максималната\n",
    "- `get_max()`: връща `int` - максималната стойност на брояча\n",
    "- `get_total()`: същия като този на `Counter`\n",
    "- `get_step()`: същия като този на `Counter`\n",
    "\n",
    "### Клас `LimitedTwowayCounter`\n",
    "\n",
    "*Той е и LimitedCounter, и TwowayCounter едновременно: може да отброява нагоре до определена максимална стойност и надолу до определена минимална стойност.*\n",
    "\n",
    "- Инциализатор с 4 параметъра `min` (минимална ст-т), `max` (максимална ст-т), `initial=0` (начална ст-т) и `step=1` (стъпка)\n",
    "- `increment()`: същия като на `LimitedCounter`\n",
    "- `decrement()`: намаля текущата стойност със стъпката на брояча само ако няма да стане по-ниска от минималната\n",
    "- `get_min()`: връща минималната стойност на брояча\n",
    "- `get_max()`: същия като този на `LimitedCounter`\n",
    "- `get_total()`: същия като този на `Counter`\n",
    "- `get_step()`: същия като този на `Counter`\n",
    "\n",
    "### Клас `Semaphore`\n",
    "\n",
    "*Най-простия бинарен семафор - това е `LimitedTwowayCounter`, който има минимална стойност 0, максимална стойност 1 и стъпка 1. Използва се от процесите в операционнитe системи за синхронизационни цели. (За повече информация: https://skelet.ludost.net)*\n",
    "\n",
    "- Инициализатор с 1 параметър `is_available=False`. При `True` началната стойност на брояча е 1, а при `False` е 0.\n",
    "- `is_available()`: връща `bool`, показващ дали стойността на брояча е над 0\n",
    "- `wait()` - прави същото като `decrement()` на `LimitedTwowayCounter`\n",
    "- `signal()` - прави същото като `increment()` на `LimitedTwowayCounter`\n",
    "\n",
    "***Pythonic bonus:*** Use `@property` instead of all the getters."
   ]
  },
  {
   "cell_type": "markdown",
   "id": "160556db",
   "metadata": {},
   "source": [
    "###### Двата примера достигат до вас благодарение на [курса по ООП 2020/2021 за СИ](https://github.com/yalishanda42/oop2021)."
   ]
  },
  {
   "cell_type": "markdown",
   "id": "5d625c13",
   "metadata": {},
   "source": [
    "# Задачи за упражнение (за вкъщи)"
   ]
  },
  {
   "cell_type": "markdown",
   "id": "3892acf4",
   "metadata": {},
   "source": [
    "## Задача 0\n",
    "\n",
    "Дефинирайте клас `PolarCoordinate`, който да моделира точка чрез двумерни полярни координати. Класът трябва да има:\n",
    "\n",
    "* инициализатор, който приема два аргумента - радиус $ r $ и ъгъл $ \\phi $ (ще интерпретираме мерната му единица да е в радиани)\n",
    "* атрибути/методи `r` и `angle` за достъп до съответните полета, но не и за тяхната промяна\n",
    "* метод `to_cartesian()`, който връща `tuple` от две числа `(x, y)` - координатите на точката, конвертирани в декартова система по формулата:\n",
    "    * $ x = r\\cos(\\phi) $\n",
    "    * $ y = r \\sin(\\phi) $\n",
    "* клас-метод `from_cartesian(x, y)`, който приема два аргумента - координатите на точката в декартова система - и създава и връща инстанция на `PolarCoordinate`, изчислена по формулата:\n",
    "    * $ r = \\sqrt{x^2 + y^2} $\n",
    "    * $ \\phi = \\arctan(\\frac{y}{x}) $\n",
    "* дефинирана подходяща репрезентация на обекта\n",
    "* дефиниция на конвертиране в `str` във формат `(r: {self.r}, angle: {self.angle})`\n",
    "* дефиниране на хеширане\n",
    "* дефиниране на сравнение с `==` и `!=`\n",
    "\n",
    "Важно: стойностите на полетата на класа не трябва да могат да бъдат променяни по никакъв начин, освен чрез инициализатора, с цел гарантиране на immutability.\n",
    "\n"
   ]
  },
  {
   "cell_type": "code",
   "execution_count": null,
   "id": "2931b2fb",
   "metadata": {},
   "outputs": [],
   "source": [
    "from math import sqrt, sin, cos, atan  # you will need these\n",
    "from math import pi, isclose  # the tests below will need these\n",
    "\n",
    "\n",
    "class PolarCoordinate:\n",
    "    pass  # your code here\n",
    "\n",
    "\n",
    "p1 = PolarCoordinate(1, pi/6)\n",
    "\n",
    "print(p1.r == 1)\n",
    "print(p1.angle == pi/6)\n",
    "\n",
    "p2 = PolarCoordinate.from_cartesian(3, 4)\n",
    "print(isclose(p2.r, 5))\n",
    "print(isclose(p2.angle, atan(4/3)))\n",
    "\n",
    "x, y = p2.to_cartesian()\n",
    "print(isclose(x, 3))\n",
    "print(isclose(y, 4))\n",
    "\n",
    "p3 = PolarCoordinate(1, 0)\n",
    "print(str(p3) == \"(r: 1, angle: 0)\")\n",
    "print(repr(p3) == \"PolarCoordinate(1, 0)\")\n",
    "\n",
    "pp1, pp2, pp3 = PolarCoordinate(1, pi/6), PolarCoordinate.from_cartesian(3, 4), PolarCoordinate(1, 0)\n",
    "print(p1 == pp1)\n",
    "print(p2 == pp2)\n",
    "print(p3 == pp3)\n",
    "\n",
    "d = {p1: \"A\", p2: \"B\", p3: \"C\"}\n",
    "print(d[pp1] == \"A\")\n",
    "print(d[pp2] == \"B\")\n",
    "print(d[pp3] == \"C\")\n",
    "\n",
    "s = {p1, p2, p3, pp1, pp2, pp3, p1, p2, p3}\n",
    "print(len(s) == 3)"
   ]
  },
  {
   "cell_type": "markdown",
   "id": "ad4492dc",
   "metadata": {},
   "source": [
    "## Задача 1\n",
    "\n",
    "Дефинирайте клас `Player`, който да моделира играч от RPG игра. Трябва да има следните атрибути и техните условия към тях:\n",
    "\n",
    "  * `name` - име на играча (read-only)\n",
    "  * `hp` - жизнени точки на играча (да не могат да падат под 0, по подразбиране са 10)\n",
    "  * `xp` - опит на играча (да може само да бъде увеличаван, по подразбиране е 0)\n",
    "  * `level` - ниво на играча (read-only), зависи от `xp` по формулата: \n",
    "    * $ level = 1 $, ако `xp` е по-малко от 300;\n",
    "    * $ level = 2 + \\log_2 int(\\frac{xp}{300}) $, иначе.\n",
    "    \n",
    "  (т.е. 0-299 XP са ниво 1, 300-599 XP са ниво 2, 600-1199 XP са ниво 3, 1200-2399 са ниво 4 и т.н.)\n",
    "\n",
    "Имате свобода при имплементацията на класа, стига горните атрибути да съществуват и условията им да са винаги изпълнени.\n",
    "\n",
    "*Note*: за $ log_2 $ може да използвате `math.log2`. Функцията `int` в горната формула е аналогична на конструктора на `int` в Python, както и на `floor` функцията, т.е. закръглянето към цяло число е винаги надолу."
   ]
  },
  {
   "cell_type": "markdown",
   "id": "bdd78c81",
   "metadata": {},
   "source": [
    "## Задача 2\n",
    "\n",
    "Дефинирайте клас `Vector3D`, който да репрезентира вектор в тримерното пространство. Класът трябва да има поне следните методи:\n",
    "\n",
    "  * `__init__(self, x, y, z)`: инициализира вектора със стойности `x`, `y` и `z`\n",
    "  * `__repr__(self)`: връща репрезентация на обекта\n",
    "  * `__str__(self)`: връща стрингово представяне на вектора във формат `\"(x, y, z)\"` (например, `\"(1, 2, 3)\"`)\n",
    "  * `__add__(self, other)`: връща сумата на два вектора (или на вектор (вляво) с число (вдясно))\n",
    "    за целите на задачата, нека дефинираме:\n",
    "    * сума на вектор $ v = (v_x, v_y, v_z) $ с вектор $ u = (u_x, u_y, u_z) $ като $ u + v = (v_x + u_x, v_y + u_y, v_z + u_z) $\n",
    "    * сума на вектор $ v = (v_x, v_y, v_z) $ с число $ \\lambda $ като $ u + \\lambda = (v_x + \\lambda, v_y + \\lambda, v_z + \\lambda) $\n",
    "  * `__radd__(self, other)`: връща сумата на число (в ляво) с вектор (в дясно)\n",
    "  * `__iadd__(self, other)`: прибавя `other` към `self` и връща `self`\n",
    "  * `__mul__(self, other)`: връща \"произведение\", дефинирано по следния начин:\n",
    "    * произведението $ v * u $ на два вектора $ v = (v_x, v_y, v_z) $ и $ u = (u_x, u_y, u_z) $ като $ v * u = (v_x u_x, v_y u_y, v_z u_z) $\n",
    "    * произведението $ v * \\lambda $ на вектора $ v = (v_x, v_y, v_z) $ и числото $ \\lambda $ като $ v * \\lambda = (v_x \\lambda, v_y \\lambda, v_z \\lambda) $\n",
    "  * `__rmul__(self, other)`: връща произведението (както е дефинирано горе) на число с вектор\n",
    "  * `__imul__(self, other)`: умножава `other` към `self` и връща `self`\n",
    "  * `__eq__(self, other)`: връща `True`, ако два вектора са поелементно равни, и `False` в противен случай\n",
    "  * `__ne__(self, other)`: връща обратното на `__eq__`\n",
    "  * `__abs__(self)`: връща дължината на вектора (по формулата $ \\sqrt{x^2 + y^2 + z^2} $ )\n",
    "  * `__getattr__(self, name)`: пренасочва `X`, `Y` и `Z` към `x`, `y` и `z` (например `vector.X` да е еквивалентно на `vector.x`)\n",
    "  * `__setattr__(self, name, value)`, аналогичен на горния\n",
    "  * `__iter__(self)`: връща итератор на вектора, който да позволява итериране в реда `x`, `y`, `z`.\n",
    "\n",
    "Добавете още каквито методи смятате за нужни.\n",
    "\n",
    "*Note 1*: нека в контекста на задачата за скалари смятаме `int`, `float` и `complex`.\n",
    "\n",
    "*Note 2*: корен квадратен може да изчислите с `math.sqrt` или като повдигнете нещо на степен 0.5.\n",
    "\n",
    "*Note 3*: понеже още не сме учили грешки и изключения, не се очаква да хвърляте такива в случай, че някой аргумент е невалиден. Очаква се обаче поне където се налага да проверите за това. Ако не ви се разучава как да `raise`-нете `TypeError`, `AttributeError` или `ValueError`, може вместо това да `return`-нете `None` за сега."
   ]
  },
  {
   "cell_type": "markdown",
   "id": "14680420",
   "metadata": {},
   "source": [
    "## Задача 3\n",
    "\n",
    "В тази задача ще направим мини-framework за чертане на UI в конзолата.\n",
    "\n",
    "С цел той да бъде декларативен и лесно композируем, всички елементи трябва да имат метод `render()`, който да връща `str` със съдържанието на елемента.\n",
    "\n",
    "Различните елементи могат да биват:\n",
    "\n",
    "* `Spacer(length=1)`: празно място с дадена дължина (`length` на брой интервали)\n",
    "* `Line(length, symbol=\"-\")`: ред от символи с дадена дължина (примерно `Line(10).render()` трябва да върне `\"----------\"`)\n",
    "* `Text(text)`: текст със съдържание `text`\n",
    "* `FancyText(text, symbol=\"=\")`: текст със съдържание `text`, между всeки символ на който има сложен `symbol`, както и в началото и в края му (примерно `FancyText(\"Hello\").render()` трябва да върне `\"=H=e=l=l=o=\"`)\n",
    "* `HorizontalStack(*elements)`: елементи, подредени един до друг в ред (слепени на реда / разделени чрез \"\") (примерно `HorizontalStack(Text(\"Hello\"), Line(3), Text(\"World\")).render()` трябва да върне `\"Hello---World\"`)\n",
    "* `VerticalStack(*elements)`: елементи, подредени един под друг (разделени чрез симвла за празен ред) (примерно `VerticalStack(Text(\"Hello\"), Line(3), Text(\"World\")).render()` трябва да върне `\"Hello\\n---\\nWorld\"`)\n",
    "* `Box(width, *elements)`: елемент, който е като `VerticalStack`, с разликата че:\n",
    "    * преди и след `elements` добавя `HorizontalStack(Text(\"+\"), Line(width - 2, symbol=\"=\"), Text(\"+\"))`\n",
    "    * всеки ред е с дължина `width` и започва и завършва с `\"|\"`, т.е. при `render()`-ването на всеки елемент от `elements` добавя `Text(\"|\")` в началото и в края на реда. В случай, че дължината на реда е повече от `width` отрязва излишъка от подадения елемент, a в случай, че дължината е по-малка - добавя `Spacer` след елемента с дължина `width - len(element.render()) - 2`.\n",
    "* `ProgressBar(length, progress)`: прогрес бар с дължина `length` символа и коефициент на запълване `progress` ($ \\in [0, 1] $) (примерно `ProgressBar(10, 0.5).render()` трябва да върне `\"[====----]\"`)\n",
    "\n",
    "Добавяйте каквито прецените други класове и методи към тях.\n",
    "\n",
    "#### Пример\n",
    "\n",
    "```python\n",
    "ui = Box(19,\n",
    "    FancyText(\"WELCOME!\"),\n",
    "    Spacer(),\n",
    "    Text(\"Loading packages:THIS SHOULD NOT BE SHOWN IN THE BOX\"),\n",
    "    HorizontalStack(\n",
    "        Line(3),\n",
    "        Spacer(),\n",
    "        Text(\"cowsay\")\n",
    "    ),\n",
    "    HorizontalStack(\n",
    "        Line(3),\n",
    "        Spacer(),\n",
    "        Text(\"lolcat\")\n",
    "    ),\n",
    "    HorizontalStack(\n",
    "        Line(3, symbol=\">\"),\n",
    "        Spacer(),\n",
    "        Text(\"whoami\"),\n",
    "        Text(\"...\")\n",
    "    ),\n",
    "    Spacer(),\n",
    "    HorizontalStack(\n",
    "        Spacer(),\n",
    "        ProgressBar(15, 0.4),\n",
    "        Spacer()\n",
    "    )\n",
    ")\n",
    "\n",
    "print(ui.render())\n",
    "```\n",
    "\n",
    "Изход:\n",
    "```\n",
    "+=================+\n",
    "|=W=E=L=C=O=M=E=!=|\n",
    "|                 |\n",
    "|Loading packages:|\n",
    "|--- cowsay       |\n",
    "|--- lolcat       |\n",
    "|>>> whoami...    |\n",
    "|                 |\n",
    "| [======-------] |\n",
    "+=================+\n",
    "```"
   ]
  },
  {
   "cell_type": "markdown",
   "id": "af51e922",
   "metadata": {},
   "source": [
    "# Функционално програмиране\n",
    "План на лекцията:\n",
    "- Какво е функционално програмиране ?\n",
    "- Immutability & side-effects\n",
    "- Функции като обекти\n",
    "- Декоратори\n",
    "- Анонимни (lambda) функции\n",
    "- Lazy evaluation\n",
    "- Generators\n",
    "- Map\n",
    "- Filter\n",
    "- Reduce\n",
    "- Zip\n",
    "- List comprehension\n",
    "- Скорост\n",
    "- Dict comprehension\n",
    "- Pattern matching\n",
    "- Примери"
   ]
  },
  {
   "cell_type": "markdown",
   "id": "dcb22695",
   "metadata": {},
   "source": [
    "## Какво е функционално програмиране ?"
   ]
  },
  {
   "cell_type": "markdown",
   "id": "6f561061",
   "metadata": {},
   "source": [
    "Функционалното програмиране е парадигма в програмирането, фокусираща се върху използването на функции. В езиците за функционално програмиране, функциите могат да се третират като обекти. Друга особенност на функционалното програмиране (или поне в чистата му форма), е липсата на състояние (а и от там, липсата на променливи в традиционния смисъл). В повечето езици за функционално програмиране липсват и класове. \n",
    "\n",
    "Основни концепции във функционалното програмиране:\n",
    "- Функции като обекти\n",
    "- Функции от по-висок ред\n",
    "- \"Чисти\" функции\n",
    "- Рекурсия \n",
    "\n",
    "Примери за езици, които следват единствено функционалната парадигма са Scheme, Haskell, Lisp.\n",
    "\n",
    "В повечето модерни езици за програмиране могат да се открият елементи от функционалното програмиране - Python не е изключение. \n"
   ]
  },
  {
   "cell_type": "markdown",
   "id": "bff15645",
   "metadata": {},
   "source": [
    "## Immutability и странични ефекти"
   ]
  },
  {
   "cell_type": "markdown",
   "id": "d643b8cf",
   "metadata": {},
   "source": [
    "### Накратко за mutable/immutable\n",
    "По дефиниция, една променлива е `mutable`, ако можем да променим стойността ѝ, след като е създадена. Съответно `immutable` променлива, е променлива, на която не можем да променяме стойността. На практика, това означава, че стойността на една `immutable` променлива може да бъде задедена, само при създаването на променливата. \n",
    "\n",
    "В езици като C++ или Java, това е еквивалентно на дефинирането на променлива като константа. Тогава стойността ѝ е ясна по време на компилация."
   ]
  },
  {
   "cell_type": "markdown",
   "id": "a963eddf",
   "metadata": {},
   "source": [
    "### Накратко за страничните ефекти\n",
    "Страничен ефект е когато променим състоянието на някоя променлива от дадена функция. Например нека разгледаме следната функция"
   ]
  },
  {
   "cell_type": "code",
   "execution_count": null,
   "id": "ba5a7a38",
   "metadata": {},
   "outputs": [
    {
     "name": "stdout",
     "output_type": "stream",
     "text": [
      "[5]\n",
      "[5, 5]\n"
     ]
    }
   ],
   "source": [
    "def add_to_list(l):\n",
    "    l.append(5)\n",
    "\n",
    "l = []\n",
    "\n",
    "add_to_list(l)\n",
    "print(l)\n",
    "\n",
    "add_to_list(l)\n",
    "print(l)"
   ]
  },
  {
   "cell_type": "markdown",
   "id": "7aaf41a5",
   "metadata": {},
   "source": [
    "Тази функция, променя стойността на подадения аргумент `l`. Казваме, че тази функция съдържа страничен ефект. \n",
    "\n",
    "Страничните ефекти са силно използвани в обектно-ориентираното и процедурното програмиране, за разлика от функционалното програмиране. Както по-горе споменахме, в класическите езици за функционално програмиране, липсват променливи в познатия ни вид. Там можем да присвоим име на дадена стойност, без да я променяме повече. \n",
    "\n",
    "Функции, които не променят стойностите на променливи, се наричат \"чисти\". Във функционалното програмиране (а и не само), е прието всички функции да са чисти."
   ]
  },
  {
   "cell_type": "markdown",
   "id": "d2993e22",
   "metadata": {},
   "source": [
    "Можем да променим нашата функция `add` по следния начин, за да стане чиста:"
   ]
  },
  {
   "cell_type": "code",
   "execution_count": null,
   "id": "3f50c761",
   "metadata": {},
   "outputs": [
    {
     "name": "stdout",
     "output_type": "stream",
     "text": [
      "[5]\n",
      "[5]\n"
     ]
    }
   ],
   "source": [
    "def add_to_list(l):\n",
    "    return l + [5]\n",
    "\n",
    "l = []\n",
    "\n",
    "l1 = add_to_list(l)\n",
    "print(l1)\n",
    "\n",
    "l2 = add_to_list(l)\n",
    "print(l2)\n",
    "\n",
    "print(l)"
   ]
  },
  {
   "cell_type": "markdown",
   "id": "92b72142",
   "metadata": {},
   "source": [
    "## Функции, като обекти\n"
   ]
  },
  {
   "cell_type": "markdown",
   "id": "f75349db",
   "metadata": {},
   "source": [
    "В Python, функциите са т.нар. \"first-class objects\" - което на български може да се преведе като \"първокласни обекти\". А ако трябва да го обясним с прости думи, функциите могат да се третират като \"нормалните\" типове - числа, низове и т.н. Това означава, че можем да ги използваме като променливи - да им даваме имена, да ги подаваме към аргументи на други функции, да ги връщаме като резултат от функции и да ги пазим в колекции."
   ]
  },
  {
   "cell_type": "code",
   "execution_count": null,
   "id": "9cbeb20d",
   "metadata": {},
   "outputs": [
    {
     "name": "stdout",
     "output_type": "stream",
     "text": [
      "6\n"
     ]
    }
   ],
   "source": [
    "def multiply(a, b):\n",
    "    return a * b\n",
    "\n",
    "f = multiply\n",
    "\n",
    "print(f(2, 3))"
   ]
  },
  {
   "cell_type": "markdown",
   "id": "a1a4b5df",
   "metadata": {},
   "source": [
    "Важно е да направим разлика между `f = multiply` и `f = multiply()`. Макар и разликата да е малка синтактично, поведението на двата реда е различно. Първото извикване **присвоява функцията** към променливата `f`, докато второто **присвоява резултата от извикването** на функцията.  \n",
    "\n",
    "Когато присвоим цялата функция (може да си го представяме като function pointer в C++), можем да ползваме функцията като нормална променлива:"
   ]
  },
  {
   "cell_type": "code",
   "execution_count": null,
   "id": "f9959645",
   "metadata": {},
   "outputs": [
    {
     "name": "stdout",
     "output_type": "stream",
     "text": [
      "Applying a function to 2 and 3\n",
      "5\n",
      "Applying a function to 2 and 3\n",
      "6\n"
     ]
    }
   ],
   "source": [
    "def multiply(a, b):\n",
    "    return a * b\n",
    "\n",
    "def sum_(a, b):\n",
    "    return a + b\n",
    "\n",
    "\n",
    "def apply_to_numbers(a, b, f):\n",
    "    print(f'Applying a function to {a} and {b}')\n",
    "    return f(a, b)\n",
    "\n",
    "print(apply_to_numbers(2, 3, sum_))\n",
    "print(apply_to_numbers(2, 3, multiply))"
   ]
  },
  {
   "cell_type": "markdown",
   "id": "04b8d5d6",
   "metadata": {},
   "source": [
    "А можем и да връщаме функция като резултат от друга функция:"
   ]
  },
  {
   "cell_type": "code",
   "execution_count": null,
   "id": "6f22dea1",
   "metadata": {},
   "outputs": [
    {
     "name": "stdout",
     "output_type": "stream",
     "text": [
      "Foo called\n"
     ]
    }
   ],
   "source": [
    "def foo():\n",
    "    print(\"Foo called\")\n",
    "\n",
    "def bar():\n",
    "    return foo\n",
    "\n",
    "f = bar()\n",
    "f()"
   ]
  },
  {
   "cell_type": "markdown",
   "id": "ca7b67b4",
   "metadata": {},
   "source": [
    "В тялото на една функция, можем да дефинираме друга функция, която да върнем:"
   ]
  },
  {
   "cell_type": "code",
   "execution_count": null,
   "id": "0dcc42b8",
   "metadata": {},
   "outputs": [
    {
     "name": "stdout",
     "output_type": "stream",
     "text": [
      "Bar called\n"
     ]
    }
   ],
   "source": [
    "def foo():\n",
    "    def bar():\n",
    "        print(\"Bar called\")\n",
    "    \n",
    "    return bar\n",
    "\n",
    "f = foo()\n",
    "f() "
   ]
  },
  {
   "cell_type": "markdown",
   "id": "c5d0fd7d",
   "metadata": {},
   "source": [
    "Това, че функциите са обекти, ни позволява да правим интересни неща - например, можем да направим проста функция, която да използваме за logging."
   ]
  },
  {
   "cell_type": "code",
   "execution_count": null,
   "id": "24fd70a8",
   "metadata": {},
   "outputs": [
    {
     "name": "stdout",
     "output_type": "stream",
     "text": [
      "Calling <function add at 0x7f2c9d108320> with (2, 3) and {}\n",
      "5\n"
     ]
    }
   ],
   "source": [
    "def log_and_run(f, args=(), kwargs={}):\n",
    "    print(f'Calling {f} with {args} and {kwargs}')\n",
    "    return f(*args, **kwargs)\n",
    "\n",
    "def add(a, b):\n",
    "    return a + b\n",
    "\n",
    "print(log_and_run(add, (2, 3)))"
   ]
  },
  {
   "cell_type": "markdown",
   "id": "beb25e1f",
   "metadata": {},
   "source": [
    "Припомням, че `args` съдържа позиционните аргументи и е от тип `Tuple`, а `kwargs` съдържа keyword аргументите и е от тип `dict`."
   ]
  },
  {
   "cell_type": "markdown",
   "id": "36a773c0",
   "metadata": {},
   "source": [
    "Освен като аргументи и резултат, функциите могат да се пазят и в колекции (списъци, речници, т.н.):"
   ]
  },
  {
   "cell_type": "code",
   "execution_count": null,
   "id": "863a74cd",
   "metadata": {},
   "outputs": [
    {
     "name": "stdout",
     "output_type": "stream",
     "text": [
      "Enter a number: 2\n",
      "Enter an operation (+, -, * or /)+\n",
      "Enter a number: 3\n",
      "2 + 3 = 5\n"
     ]
    }
   ],
   "source": [
    "def add(a, b):\n",
    "    return a + b\n",
    "\n",
    "def subtract(a, b):\n",
    "    return a - b\n",
    "\n",
    "def multiply(a, b):\n",
    "    return a * b\n",
    "\n",
    "def divide(a, b):\n",
    "    return a / b\n",
    "\n",
    "actions = {\n",
    "    '+': add,\n",
    "    '-': subtract,\n",
    "    '*': multiply,\n",
    "    '/': divide\n",
    "}\n",
    "\n",
    "first = input('Enter a number: ')\n",
    "operation = input('Enter an operation (+, -, * or /)')\n",
    "second = input('Enter a number: ')\n",
    "\n",
    "if operation not in actions:\n",
    "    print('Operation not supported')\n",
    "else:\n",
    "    if not first.isnumeric() or not second.isnumeric():\n",
    "        print('Input is not a number')\n",
    "    else:\n",
    "        first = int(first)\n",
    "        second = int(second)\n",
    "\n",
    "        result = actions[operation](first, second)\n",
    "        print(f'{first} {operation} {second} = {result}')\n"
   ]
  },
  {
   "cell_type": "markdown",
   "id": "ad798046",
   "metadata": {},
   "source": [
    "## Декоратори"
   ]
  },
  {
   "cell_type": "markdown",
   "id": "cb660848",
   "metadata": {},
   "source": [
    "Една от по-интересните функционалности на Python са т.нар. декоратори (decorators). Всъщност, ние вече видяхме как се пише декоратор и как работи - нека се върнем на примера от по-горе с `log_and_run`:"
   ]
  },
  {
   "cell_type": "code",
   "execution_count": null,
   "id": "621677db",
   "metadata": {},
   "outputs": [
    {
     "name": "stdout",
     "output_type": "stream",
     "text": [
      "Calling <function add at 0x7f2c9d0b7170> with (2, 3) and {}\n",
      "5\n"
     ]
    }
   ],
   "source": [
    "def log_and_run(f, args=(), kwargs={}):\n",
    "    print(f'Calling {f} with {args} and {kwargs}')\n",
    "    return f(*args, **kwargs)\n",
    "\n",
    "def add(a, b):\n",
    "    return a + b\n",
    "\n",
    "print(log_and_run(add, (2, 3)))"
   ]
  },
  {
   "cell_type": "markdown",
   "id": "a16d2d15",
   "metadata": {},
   "source": [
    "Това изглежда леко грозно, да трябва да извикваме `log_and_run` вместо функцията, която всъщност искаме да извикаме. Ако добавим функции за изваждане, умножение и деление, всяко извикване ще трябва да преминава през `log_and_run`. \n",
    "\n",
    "А няма ли по-лесен начин с който да кажем - нека преди изпълнението на нашата функция `f1`, да се изпълни функция `f` (Както преди `add` се изпълнява `log_and_run`) ?"
   ]
  },
  {
   "cell_type": "markdown",
   "id": "776172e0",
   "metadata": {},
   "source": [
    "Преди да разгледаме как точно се прави декоратор функция в Python, нека всъщност разберем какво искаме да постигнем:\n",
    "1. Искаме да приемем функция (нека я кръстим `g`), която да изпълним\n",
    "2. Преди да изпълним `g`, искаме да изпълним някакви други действия (нека те са събрани във функцията `f`\n",
    "3. Искаме да върнем нова функция (нека да я кръстим `h`), която първо да изпълни `f`, а после `g`.\n",
    "\n",
    "Нека първо се фокусираме върху 1 и 2 :"
   ]
  },
  {
   "cell_type": "code",
   "execution_count": null,
   "id": "a47ef301",
   "metadata": {},
   "outputs": [
    {
     "name": "stdout",
     "output_type": "stream",
     "text": [
      "Hello\n",
      "bye\n"
     ]
    }
   ],
   "source": [
    "def pseudo_decorator(f, g):\n",
    "    f()\n",
    "    g()\n",
    "\n",
    "\n",
    "def print_hello():\n",
    "    print(\"Hello\")\n",
    "\n",
    "def print_bye():\n",
    "    print(\"Bye\")\n",
    "\n",
    "\n",
    "pseudo_decorator(print_hello, print_bye)"
   ]
  },
  {
   "cell_type": "markdown",
   "id": "c46e1bcf",
   "metadata": {},
   "source": [
    "Нека променим поведението на `pseudo_decorator` от това просто да изпълнява `f` и `g` към това да връща нова функция, която да изпълнява `f` и `g`"
   ]
  },
  {
   "cell_type": "code",
   "execution_count": null,
   "id": "d2891df9",
   "metadata": {},
   "outputs": [
    {
     "name": "stdout",
     "output_type": "stream",
     "text": [
      "Hello\n",
      "bye\n"
     ]
    }
   ],
   "source": [
    "def pseudo_decorator(f, g):\n",
    "    def inner():\n",
    "        f()\n",
    "        g()\n",
    "    return inner\n",
    "\n",
    "\n",
    "def print_hello():\n",
    "    print(\"Hello\")\n",
    "\n",
    "def print_bye():\n",
    "    print(\"bye\")\n",
    "\n",
    "\n",
    "f = pseudo_decorator(print_hello, print_bye)\n",
    "f()"
   ]
  },
  {
   "cell_type": "markdown",
   "id": "01300f80",
   "metadata": {},
   "source": [
    "Почти сме до истинските декоратори. За съжаление, следващата част е възможна заради малко синтактична захар. \n",
    "\n",
    "Основната идея е, че искаме да вземем нашата функция `g` и да я заместим с резултата от `pseudo_decorator`, без да се налага реално да извикваме `pseudo_decorator`. С цел опростяване, ще приемем, че `f` е просто принтиране. "
   ]
  },
  {
   "cell_type": "code",
   "execution_count": null,
   "id": "27e4adfb",
   "metadata": {},
   "outputs": [
    {
     "name": "stdout",
     "output_type": "stream",
     "text": [
      "Hello\n",
      "bye\n"
     ]
    }
   ],
   "source": [
    "def print_decorator(g):\n",
    "    def inner():\n",
    "        print(\"Hello\")\n",
    "        g()\n",
    "    return inner\n",
    "\n",
    "@print_decorator\n",
    "def print_bye():\n",
    "    print(\"bye\")\n",
    "\n",
    "print_bye()"
   ]
  },
  {
   "cell_type": "markdown",
   "id": "e76dbef1",
   "metadata": {},
   "source": [
    "С помощта на `@`, последвано от функция, която връща друга функция, ние можем да \"декорираме\" всяка функция в Python.\n",
    "\n",
    "Това, което се случва в случая е, че взимаме `print_bye` като първи аргумент на `print_decorator` и изпълняваме `print_decorator`. Тя от своя страна ни връща нова функция, която принтира \"Hello\" и след това изпълнява подадената от нас функция. \n",
    "\n",
    "Обяснено още по-просто: При извикване на `print_bye`, всъщност ще се извика `print_decorator` с аргумент `print_bye`. "
   ]
  },
  {
   "cell_type": "markdown",
   "id": "7229d5e0",
   "metadata": {},
   "source": [
    "Нека използваме този нов подход върху примера с `log_and_run` (която ще преименуваме само на `log`)"
   ]
  },
  {
   "cell_type": "code",
   "execution_count": null,
   "id": "0c341b66",
   "metadata": {},
   "outputs": [
    {
     "name": "stdout",
     "output_type": "stream",
     "text": [
      "Calling <function add at 0x7f2c9d0be440> with (2, 3) and {}\n",
      "5\n"
     ]
    }
   ],
   "source": [
    "def log(f):\n",
    "    def inner(*args, **kwargs):\n",
    "        print(f'Calling {f} with {args} and {kwargs}')\n",
    "        return f(*args, **kwargs)\n",
    "    return inner\n",
    "\n",
    "@log\n",
    "def add(a, b):\n",
    "    return a + b\n",
    "\n",
    "print(add(2, 3))"
   ]
  },
  {
   "cell_type": "markdown",
   "id": "ce7f9f95",
   "metadata": {},
   "source": [
    "Сега ако добавим нови методи за изваждане, умножение и деление, можем лесно да се използваме от `log`, без да се налага да променяме начина им на извикване:"
   ]
  },
  {
   "cell_type": "code",
   "execution_count": null,
   "id": "65c20e3c",
   "metadata": {},
   "outputs": [
    {
     "name": "stdout",
     "output_type": "stream",
     "text": [
      "Calling <function add at 0x7f2c9d0be170> with (2, 3) and {}\n",
      "5\n",
      "Calling <function subtract at 0x7f2c9d0be440> with (3, 1) and {}\n",
      "2\n",
      "Calling <function multiply at 0x7f2c9d0bedd0> with (1.5,) and {'b': 3}\n",
      "4.5\n",
      "Calling <function divide at 0x7f2c9d0bef80> with () and {'a': 12, 'b': 6}\n",
      "2.0\n"
     ]
    }
   ],
   "source": [
    "def log(f):\n",
    "    def inner(*args, **kwargs):\n",
    "        print(f'Calling {f} with {args} and {kwargs}')\n",
    "        return f(*args, **kwargs)\n",
    "    return inner\n",
    "\n",
    "@log\n",
    "def add(a, b):\n",
    "    return a + b\n",
    "\n",
    "@log \n",
    "def subtract(a, b):\n",
    "    return a - b\n",
    "\n",
    "@log\n",
    "def multiply(a, b):\n",
    "    return a * b\n",
    "\n",
    "@log\n",
    "def divide(a, b):\n",
    "    return a / b\n",
    "\n",
    "print(add(2, 3))\n",
    "print(subtract(3, 1))\n",
    "print(multiply(1.5, b=3))\n",
    "print(divide(a=12, b=6))"
   ]
  },
  {
   "cell_type": "markdown",
   "id": "c855c314",
   "metadata": {},
   "source": [
    "Друг пример за декоратор може да бъде декоратор, който измерва времето за изпълнение на функция:"
   ]
  },
  {
   "cell_type": "code",
   "execution_count": null,
   "id": "ba1c9a5a",
   "metadata": {},
   "outputs": [
    {
     "name": "stdout",
     "output_type": "stream",
     "text": [
      "<function slow_function at 0x7f2c9d0c4950> took 1.56 second\n"
     ]
    }
   ],
   "source": [
    "import time\n",
    "\n",
    "def time_it(f):\n",
    "    def inner(*args, **kwargs):\n",
    "        start = time.time()\n",
    "        result = f(*args, **kwargs)\n",
    "        end = time.time()\n",
    "        print(f'{f} took {end - start:.2f} second')\n",
    "    return inner\n",
    "\n",
    "@time_it\n",
    "def slow_function(a):\n",
    "    return (a ** a) ** a\n",
    "\n",
    "slow_function(1000)"
   ]
  },
  {
   "cell_type": "markdown",
   "id": "d5d1d216",
   "metadata": {},
   "source": [
    "## Анонимни (lambda) функции"
   ]
  },
  {
   "cell_type": "markdown",
   "id": "f21f6a75",
   "metadata": {},
   "source": [
    "Lambda функции идват от т.нар ламбда смятане (lambda calculus) и изразяват изпълнението на дадени изчисления върху дадени стойности. Няма да навлизаме в математическите доказателства и формализми. Lambda функциите са анонимни функции - т.е. не се дефинират с `def` и без да е необходимо да им се дава име. \n",
    "\n",
    "Всяка ламбда функция има две основни части - входни променливи и един израз (expression). В Python, ламбда функциите се дефинират с ключовата дума `lambda`"
   ]
  },
  {
   "cell_type": "code",
   "execution_count": null,
   "id": "f61f0f4e",
   "metadata": {},
   "outputs": [
    {
     "data": {
      "text/plain": [
       "<function __main__.<lambda>(x)>"
      ]
     },
     "metadata": {},
     "output_type": "display_data"
    }
   ],
   "source": [
    "lambda x: x + 1"
   ]
  },
  {
   "cell_type": "markdown",
   "id": "96468284",
   "metadata": {},
   "source": [
    "По-горната функция приема един аргумент (на име `x`), и изпълнява израза `x + 1`. Важно е да се отбележи, че една ламбда функция може да съдържа само един израз.\n",
    "\n",
    "Припомням, че израз в Python е всичко, което съдържа някакъв индетификатор (напр. променлива), литерал (напр. `'hello'`) или оператор (напр. извикване на функция, оператор `[]`)\n",
    "\n",
    "Или казано по-просто: не може да създадем ламбда, която да присвоява стойност на някаква променлива:"
   ]
  },
  {
   "cell_type": "code",
   "execution_count": null,
   "id": "8ea1e672",
   "metadata": {},
   "outputs": [
    {
     "ename": "SyntaxError",
     "evalue": "ignored",
     "output_type": "error",
     "traceback": [
      "\u001b[0;36m  File \u001b[0;32m\"<ipython-input-65-6a40442b8e41>\"\u001b[0;36m, line \u001b[0;32m1\u001b[0m\n",
      "\u001b[0;31m    lambda x: a = x\u001b[0m\n",
      "\u001b[0m                   ^\u001b[0m\n",
      "\u001b[0;31mSyntaxError\u001b[0m\u001b[0;31m:\u001b[0m can't assign to lambda\n"
     ]
    }
   ],
   "source": [
    "lambda x: a = x"
   ]
  },
  {
   "cell_type": "markdown",
   "id": "cf2de84e",
   "metadata": {},
   "source": [
    "Не можем също и да имаме два израза един след друг (Това чисто синтактично няма как да ни се позволи - ламбдите са на един ред, а в Python нямаме символ за край на израз."
   ]
  },
  {
   "cell_type": "markdown",
   "id": "ef1f0a43",
   "metadata": {},
   "source": [
    "Можем да извикваме дадена lambda функция, като просто използваме `()` след нея"
   ]
  },
  {
   "cell_type": "code",
   "execution_count": null,
   "id": "44fa9855",
   "metadata": {},
   "outputs": [
    {
     "name": "stdout",
     "output_type": "stream",
     "text": [
      "5\n"
     ]
    }
   ],
   "source": [
    "(lambda x: print(x))(5)"
   ]
  },
  {
   "cell_type": "markdown",
   "id": "6c004d8f",
   "metadata": {},
   "source": [
    "Макар и анонимни, можем да присвоим ламбда функция към дадена променлива"
   ]
  },
  {
   "cell_type": "code",
   "execution_count": null,
   "id": "891fd880",
   "metadata": {},
   "outputs": [
    {
     "name": "stdout",
     "output_type": "stream",
     "text": [
      "6\n"
     ]
    }
   ],
   "source": [
    "f = lambda x: x + 1\n",
    "\n",
    "print(f(5))"
   ]
  },
  {
   "cell_type": "markdown",
   "id": "07a3a33b",
   "metadata": {},
   "source": [
    "Горното парче код изпълнява следните стъпки:\n",
    "1. Създава анонимна функция, която приема един аргумент (`x`) и връща стойноста на `x` събрана с 1\n",
    "2. Присвояваме новосъздадената ни функция към променливата `f`\n",
    "3. Принтираме резултата от извикването на `f` със стойност 5\n",
    "    - В тялото на ламбда функцията, стойноста на `x` се замества с 5\n",
    "    - От там, 5 + 1 = 6"
   ]
  },
  {
   "cell_type": "markdown",
   "id": "26b1f611",
   "metadata": {},
   "source": [
    "Едно от местата, където често се ползват lambda функции, са вградените функции за сортиране. Както знаем, метода `.sort()` може да приема функция, която да сравнява обектите. "
   ]
  },
  {
   "cell_type": "code",
   "execution_count": null,
   "id": "089c3290",
   "metadata": {},
   "outputs": [
    {
     "name": "stdout",
     "output_type": "stream",
     "text": [
      "[7, 5, 3, 2]\n"
     ]
    }
   ],
   "source": [
    "l = [5, 2, 7, 3]\n",
    "l.sort(key=lambda x: -x)\n",
    "print(l)"
   ]
  },
  {
   "cell_type": "markdown",
   "id": "a3cc9697",
   "metadata": {},
   "source": [
    "С помощта на тази ламбда, можем да сортираме числата в обратен ред. \n",
    "\n",
    "Можем да използваме ламбди за да сортираме и по-сложни списъци - например списък от наредени n-торки."
   ]
  },
  {
   "cell_type": "markdown",
   "id": "4314d362",
   "metadata": {},
   "source": [
    "Нека е даден списък, съставен от имена на хора, и тяхната възраст. "
   ]
  },
  {
   "cell_type": "code",
   "execution_count": null,
   "id": "ff854294",
   "metadata": {},
   "outputs": [
    {
     "name": "stdout",
     "output_type": "stream",
     "text": [
      "[('Иван', 22), ('Любо', 35), ('Мария', 35), ('Митко', 51), ('Георги', 71)]\n"
     ]
    }
   ],
   "source": [
    "people_data = [('Иван', 22), ('Георги', 71), ('Мария', 35), ('Митко', 51), ('Любо', 35)]\n",
    "people_data.sort(key=lambda person: (person[1], person[0]))\n",
    "print(people_data)"
   ]
  },
  {
   "cell_type": "markdown",
   "id": "7ff7a652",
   "metadata": {},
   "source": [
    "Тук първо сортираме хората по тяхната възраст, а после лексикографкси, по тяхното име."
   ]
  },
  {
   "cell_type": "markdown",
   "id": "02971736",
   "metadata": {},
   "source": [
    "Можем да използваме и функцията `sorted` с ламбда функция:"
   ]
  },
  {
   "cell_type": "code",
   "execution_count": null,
   "id": "d92976d2",
   "metadata": {},
   "outputs": [
    {
     "name": "stdout",
     "output_type": "stream",
     "text": [
      "[('Иван', 22), ('Любо', 35), ('Мария', 35), ('Митко', 51), ('Георги', 71)]\n"
     ]
    }
   ],
   "source": [
    "people_data = [('Иван', 22), ('Георги', 71), ('Мария', 35), ('Митко', 51), ('Любо', 35)]\n",
    "print(sorted(people_data, key=lambda person: (person[1], person[0])))"
   ]
  },
  {
   "cell_type": "markdown",
   "id": "0b29e71e",
   "metadata": {},
   "source": [
    "## Lazy evaluation"
   ]
  },
  {
   "cell_type": "markdown",
   "id": "7b172f19",
   "metadata": {},
   "source": [
    "Съществуват различни стратегии за оценяване (или изчисляване) на изрази - най-позната е т.нар. \"нетърпеливо оценяване\" или \"оценяване на момента\" - целия израз се изчислява на момента.\n",
    "\n",
    "Нека е даден израза `a + b + c`. Първо, ще бъде оценена стойността на `a`, после на `b`. Следващата стъпка е да се извърши операцията събиране. Резултатът от първата операция ще бъде използван за следващата операция събиране, заедно с `c`. \n",
    "\n",
    "Пример за оценяване на момента може да бъде следната функция:"
   ]
  },
  {
   "cell_type": "code",
   "execution_count": null,
   "id": "1742fbc4",
   "metadata": {},
   "outputs": [
    {
     "name": "stdout",
     "output_type": "stream",
     "text": [
      "x = 1\n",
      "x = 2\n",
      "3\n"
     ]
    }
   ],
   "source": [
    "def f(x):\n",
    "    print(f'x = {x}')\n",
    "    return x\n",
    "\n",
    "print(f(1) + f(2))"
   ]
  },
  {
   "cell_type": "markdown",
   "id": "3ac45152",
   "metadata": {},
   "source": [
    "При оценяването на момента (eager evaluation), всички необходими данни за извършване на изчислението (променливи, функции, др.) се зареждат наведнъж в паметта. Освен това, всички изчисления трябва да бъда извършени точно на момента."
   ]
  },
  {
   "cell_type": "markdown",
   "id": "a1de529c",
   "metadata": {},
   "source": [
    "Тук се намесва т.нар. \"мързеливо\" оценяване - изчисленията се извършват само при необходимост. Това ни позволява да си спестим някои изчисления (както и да работим с т.нар. \"безкрайни\" колекции).\n",
    "\n",
    "Най-близкото до \"мързеливо\" оценяване, което познаваме е изчисляването на логическите изрази при `if` блокове и други булеви изрази - там, всеки елемент от израза се изчислява, при условие че предишния израз не е достатъчен за оценяване на целия израз (т.е. ако имаме един израз който е със стойност на `True` при изрази съдържащи `or`, тези след него не се оценяват. Ако имаме израз, който съдържа `and`, трябва да оценим всички стойности). \n",
    "\n",
    "По подобен начин работи и мързеливото оценяване, с разликата, че изразите се оценяват при поискване. "
   ]
  },
  {
   "cell_type": "markdown",
   "id": "5a9c7b20",
   "metadata": {},
   "source": [
    "## Generators"
   ]
  },
  {
   "cell_type": "markdown",
   "id": "00ef1375",
   "metadata": {},
   "source": [
    "Генераторите са специални функции, които позволяват \"мързеливо\" итериране на дадена (дори и безкрайна) поредица. Генераторите не държат всичките си стойности в паметта, а изчисляват стойността при поискване (това позволява работата с \"безкрайни\" поредици)."
   ]
  },
  {
   "cell_type": "markdown",
   "id": "0ef2b440",
   "metadata": {},
   "source": [
    "Нека разгледаме следния пример - искаме да създадем генератор, който да ни връща числата, които са точни квадрати (число, получено чрез повдигане на друго цяло число на квадрат - 1, 4, 9, 16, 25, т.н.). \n",
    "\n",
    "Ако за момент се абстрахираме от идеята за генератори, как бихме могли да напишем функция, която ни връща `n`-тия точен квадрат ? Първия точен квардрат е 0 ($0^2 = 0$, защото са неотрицателни), втория е 1 ($1^2 = 1$), третия е 4 ($2^2 = 4$) и т.н. "
   ]
  },
  {
   "cell_type": "code",
   "execution_count": null,
   "id": "29d684d0",
   "metadata": {},
   "outputs": [
    {
     "name": "stdout",
     "output_type": "stream",
     "text": [
      "4\n"
     ]
    }
   ],
   "source": [
    "def generate_nth_perfect_square(n):\n",
    "    return (n-1) ** 2\n",
    "\n",
    "print(generate_nth_perfect_square(3))"
   ]
  },
  {
   "cell_type": "markdown",
   "id": "d8622ca2",
   "metadata": {},
   "source": [
    "Можем да променим нашата функция, която да ни връща списък от всички точни квадрати до `n`-тия. "
   ]
  },
  {
   "cell_type": "code",
   "execution_count": null,
   "id": "653c8a19",
   "metadata": {},
   "outputs": [
    {
     "name": "stdout",
     "output_type": "stream",
     "text": [
      "[0, 1, 4, 9, 16]\n"
     ]
    }
   ],
   "source": [
    "def generate_all_perfect_squares_until(n):\n",
    "    result = []\n",
    "    for i in range(1, n+1):\n",
    "        result.append(generate_nth_perfect_square(i))\n",
    "    \n",
    "    return result\n",
    "\n",
    "print(generate_all_perfect_squares_until(5))"
   ]
  },
  {
   "cell_type": "markdown",
   "id": "7e29c583",
   "metadata": {},
   "source": [
    "Проблемът с горната функция, е че изчислява всички стойности до `n` едновременно - ние искаме те да се изчисляват една по една, при поискване. По-важното е, че искаме да можем да итерираме по тях - т.е. да ги вкараме в един `for` цикъл, и да ги обходим.\n",
    "\n",
    "За да постигнем тази цел, ни трябват две неща - функция, която да \"спре\" изпълнението до дадено място и да ни върне някаква стойност - функцията, която извършва това, е `yield`. "
   ]
  },
  {
   "cell_type": "code",
   "execution_count": null,
   "id": "784eb14e",
   "metadata": {},
   "outputs": [
    {
     "name": "stdout",
     "output_type": "stream",
     "text": [
      "<generator object perfect_squares at 0x7f2c9d0b8350>\n"
     ]
    }
   ],
   "source": [
    "def perfect_squares(n):\n",
    "    for i in range(1, n+1):\n",
    "        yield generate_nth_perfect_square(i)\n",
    "\n",
    "\n",
    "print(perfect_squares(5))"
   ]
  },
  {
   "cell_type": "markdown",
   "id": "732b5a2e",
   "metadata": {},
   "source": [
    "Тук виждаме, че нашата функция вече ни връща `generator` обект. \n",
    "\n",
    "За да работим с нашия генератор обект, е необходимо да го подадем като обект на функцията `next` - тя ни връща следващия елемент от генератор/итератор."
   ]
  },
  {
   "cell_type": "code",
   "execution_count": null,
   "id": "fabe48c4",
   "metadata": {},
   "outputs": [
    {
     "name": "stdout",
     "output_type": "stream",
     "text": [
      "0\n",
      "1\n",
      "4\n",
      "9\n"
     ]
    }
   ],
   "source": [
    "perfect_square_generator = perfect_squares(5)\n",
    "print(next(perfect_square_generator))\n",
    "print(next(perfect_square_generator))\n",
    "print(next(perfect_square_generator))\n",
    "print(next(perfect_square_generator))"
   ]
  },
  {
   "cell_type": "markdown",
   "id": "8f0713e7",
   "metadata": {},
   "source": [
    "Както се вижда, `next` изпълнява нашия код, до следващото срещане на `yield`, и връща стойността, която `yield` връща."
   ]
  },
  {
   "cell_type": "markdown",
   "id": "5151ef08",
   "metadata": {},
   "source": [
    "Благодарение на факта, че получваме генератор, може да използваме нашата функция `perfect_squares` директно във `for` цикъл. Начина по който `for` цикъла работи е, че извиква `next` метода на подадения от нас обект. "
   ]
  },
  {
   "cell_type": "code",
   "execution_count": null,
   "id": "aba13000",
   "metadata": {},
   "outputs": [
    {
     "name": "stdout",
     "output_type": "stream",
     "text": [
      "0\n",
      "1\n",
      "4\n",
      "9\n",
      "16\n"
     ]
    }
   ],
   "source": [
    "for i in perfect_squares(5):\n",
    "    print(i)"
   ]
  },
  {
   "cell_type": "markdown",
   "id": "68b6e03e",
   "metadata": {},
   "source": [
    "Нека направим нещата една идея по-сложни. Вместо да създаваме генератор на точни квадрати до дадено число, нека променим нашия генератор, да връща точни квадрати до безкрайност (понеже точните квадрати са дефинирани върху всички неотрицателни числа, е възможно до безкрайност да генерираме такива)."
   ]
  },
  {
   "cell_type": "code",
   "execution_count": null,
   "id": "80f1c72a",
   "metadata": {},
   "outputs": [],
   "source": [
    "def perfect_square():\n",
    "    n = 1\n",
    "    while True:\n",
    "        yield generate_nth_perfect_square(n)\n",
    "        n += 1"
   ]
  },
  {
   "cell_type": "code",
   "execution_count": null,
   "id": "aaedfa55",
   "metadata": {},
   "outputs": [
    {
     "name": "stdout",
     "output_type": "stream",
     "text": [
      "0\n",
      "1\n",
      "4\n",
      "9\n"
     ]
    }
   ],
   "source": [
    "perfect_square_generator = perfect_square()\n",
    "print(next(perfect_square_generator))\n",
    "print(next(perfect_square_generator))\n",
    "print(next(perfect_square_generator))\n",
    "print(next(perfect_square_generator))"
   ]
  },
  {
   "cell_type": "markdown",
   "id": "316a5df6",
   "metadata": {},
   "source": [
    "Използването на `yield` не е единствения начин да бъде създаден генератор. Python поддържа т.нар. \"generator expressions\". Generator expressions е синтактична конструкция, която ни позволява да създаваме генератор на базата на друга колекция/генератор. Синтактично, generator expression следва математическата нотация за дефиниране на множество:\n",
    "\n",
    "$$ S = \\{x^2 \\mid x \\in [1;100] , x \\text{ is even}\\} $$\n",
    "\n",
    "Това математическо заклинание ни дава целите числа в диапазона от 1 до 100, които са четни, като всяко от тях е повдигнато на квадрат.\n",
    "\n",
    "В общият случай, един generator expression изглежда по следния начин: `(f(x) for x in X if p(x))`, където `f` е функция, която прилагаме върху `x`, а `p` е филтрираща функция (повече за прилагането на функции върху елементи и филтрирането му по-долу)"
   ]
  },
  {
   "cell_type": "markdown",
   "id": "7d1ec88b",
   "metadata": {},
   "source": [
    "Ако искаме да запишем нашата функция `perfect_squares(n)`, която ни връща точните квадрати до `n` като generator expression, тя би изглеждала по следния начин."
   ]
  },
  {
   "cell_type": "code",
   "execution_count": null,
   "id": "7e812d19",
   "metadata": {},
   "outputs": [
    {
     "name": "stdout",
     "output_type": "stream",
     "text": [
      "<generator object <genexpr> at 0x7f2ca22f6950>\n",
      "0\n",
      "1\n",
      "4\n"
     ]
    }
   ],
   "source": [
    "perfect_squares_generator_exp = (generate_nth_perfect_square(i) for i in range(1, 6))\n",
    "\n",
    "print(perfect_squares_generator_exp)\n",
    "print(next(perfect_squares_generator_exp))\n",
    "print(next(perfect_squares_generator_exp))\n",
    "print(next(perfect_squares_generator_exp))"
   ]
  },
  {
   "cell_type": "markdown",
   "id": "edca28f5",
   "metadata": {},
   "source": [
    "В горния пример, нашия генератор ще ни върне първите 5 точни квадрата, с помощта на generator expression. Как би изглеждал кода обаче, ако искаме да можем да приемаме `n`, с което да заместим 5 ?"
   ]
  },
  {
   "cell_type": "code",
   "execution_count": null,
   "id": "d04e8f90",
   "metadata": {},
   "outputs": [
    {
     "name": "stdout",
     "output_type": "stream",
     "text": [
      "0\n",
      "1\n",
      "4\n",
      "--\n",
      "0\n",
      "1\n",
      "4\n",
      "9\n",
      "16\n",
      "25\n",
      "36\n",
      "49\n",
      "64\n",
      "81\n"
     ]
    }
   ],
   "source": [
    "perfect_squares_n_generator_exp = lambda n: (generate_nth_perfect_square(i) for i in range(1, n + 1))\n",
    "\n",
    "for num in perfect_squares_n_generator_exp(3):\n",
    "    print(num)\n",
    "\n",
    "print('--')\n",
    "for num in perfect_squares_n_generator_exp(10):\n",
    "    print(num)"
   ]
  },
  {
   "cell_type": "markdown",
   "id": "4a5ec904",
   "metadata": {},
   "source": [
    "Една бележка за `next` - освен генератора, `next` приема и `default` стойност, която се връща при изчерпване на генератора:"
   ]
  },
  {
   "cell_type": "code",
   "execution_count": null,
   "id": "90593de4",
   "metadata": {},
   "outputs": [
    {
     "name": "stdout",
     "output_type": "stream",
     "text": [
      "0\n",
      "1\n",
      "2\n",
      "Default\n",
      "Default\n"
     ]
    }
   ],
   "source": [
    "def short_generator():\n",
    "    for i in range(3):\n",
    "        yield i\n",
    "\n",
    "g = short_generator()\n",
    "\n",
    "print(next(g, \"Default\"))\n",
    "print(next(g, \"Default\"))\n",
    "print(next(g, \"Default\"))\n",
    "print(next(g, \"Default\"))\n",
    "print(next(g, \"Default\"))"
   ]
  },
  {
   "cell_type": "markdown",
   "id": "8e85b4fc",
   "metadata": {},
   "source": [
    "## range и enumerate"
   ]
  },
  {
   "cell_type": "markdown",
   "id": "f984078e",
   "metadata": {},
   "source": [
    "Един от най-използваните генератори е `range`. `range` приема три аргумента - начало, край и стъпка. В резултат, получаваме генератор, който генерира числата от това множество. "
   ]
  },
  {
   "cell_type": "code",
   "execution_count": null,
   "id": "2d03409e",
   "metadata": {},
   "outputs": [
    {
     "name": "stdout",
     "output_type": "stream",
     "text": [
      "2\n",
      "4\n",
      "6\n"
     ]
    }
   ],
   "source": [
    "for i in range(2, 7, 2):\n",
    "    print(i)"
   ]
  },
  {
   "cell_type": "markdown",
   "id": "6b15af39",
   "metadata": {},
   "source": [
    "Няма значение колко е голям размера на `range`-а за представянето му - това е защото `range` изчислява следващия елемент на момента. "
   ]
  },
  {
   "cell_type": "markdown",
   "id": "d8bae8a3",
   "metadata": {},
   "source": [
    "Друг полезен генератор, е `enumerate`. Той приема колекция, и връща индексът на който се намира всеки елемент, както и самия елемент."
   ]
  },
  {
   "cell_type": "code",
   "execution_count": null,
   "id": "a7fb55f6",
   "metadata": {},
   "outputs": [
    {
     "name": "stdout",
     "output_type": "stream",
     "text": [
      "(0, 'Apple')\n",
      "(1, 'Banana')\n",
      "(2, 'Cherry')\n",
      "(3, 'Watermelon')\n",
      "(4, 'Grapes')\n"
     ]
    }
   ],
   "source": [
    "fruits = [\"Apple\", \"Banana\", \"Cherry\", \"Watermelon\", \"Grapes\"]\n",
    "\n",
    "for fruit in enumerate(fruits):\n",
    "    print(fruit)"
   ]
  },
  {
   "cell_type": "markdown",
   "id": "bf1a6aef",
   "metadata": {},
   "source": [
    "Можем да използваме unpacking, за да разделим индекса и обекта:"
   ]
  },
  {
   "cell_type": "code",
   "execution_count": null,
   "id": "8166f7ca",
   "metadata": {},
   "outputs": [
    {
     "name": "stdout",
     "output_type": "stream",
     "text": [
      "Apple is on position 0\n",
      "Banana is on position 1\n",
      "Cherry is on position 2\n",
      "Watermelon is on position 3\n",
      "Grapes is on position 4\n"
     ]
    }
   ],
   "source": [
    "fruits = [\"Apple\", \"Banana\", \"Cherry\", \"Watermelon\", \"Grapes\"]\n",
    "\n",
    "for i, fruit in enumerate(fruits):\n",
    "    print(f'{fruit} is on position {i}')"
   ]
  },
  {
   "cell_type": "markdown",
   "id": "11ef2928",
   "metadata": {},
   "source": [
    "Можем да зададем и начален индекс, от който да се отброява:"
   ]
  },
  {
   "cell_type": "code",
   "execution_count": null,
   "id": "4096afe9",
   "metadata": {},
   "outputs": [
    {
     "name": "stdout",
     "output_type": "stream",
     "text": [
      "Apple is on position 100\n",
      "Banana is on position 101\n",
      "Cherry is on position 102\n",
      "Watermelon is on position 103\n",
      "Grapes is on position 104\n"
     ]
    }
   ],
   "source": [
    "fruits = [\"Apple\", \"Banana\", \"Cherry\", \"Watermelon\", \"Grapes\"]\n",
    "\n",
    "for i, fruit in enumerate(fruits, start=100):\n",
    "    print(f'{fruit} is on position {i}')"
   ]
  },
  {
   "cell_type": "markdown",
   "id": "3c403d7a",
   "metadata": {},
   "source": [
    "## Map\n"
   ]
  },
  {
   "cell_type": "markdown",
   "id": "d7f57aba",
   "metadata": {},
   "source": [
    "\n",
    "Map е специална функция, която има една-единствена цел - да приложи друга функция към всеки елемент от дадена колекция. Нека е даден списък с числа и функция, която приема число, и го умножава по 2."
   ]
  },
  {
   "cell_type": "code",
   "execution_count": null,
   "id": "b676e2b6",
   "metadata": {},
   "outputs": [],
   "source": [
    "numbers = [2, 7, 3, 9, -1, 12]\n",
    "\n",
    "def multiply(number):\n",
    "    return number * 2"
   ]
  },
  {
   "cell_type": "markdown",
   "id": "929d488d",
   "metadata": {},
   "source": [
    "Ако трябва сами да разпишем map функцията, тя би изглеждала по следния начин:"
   ]
  },
  {
   "cell_type": "code",
   "execution_count": null,
   "id": "1fe08cb9",
   "metadata": {},
   "outputs": [],
   "source": [
    "def my_map(map_function, collection):\n",
    "    result = []\n",
    "\n",
    "    for item in collection:\n",
    "        result.append(map_function(item))\n",
    "    \n",
    "    return result"
   ]
  },
  {
   "cell_type": "markdown",
   "id": "2ec14ad3",
   "metadata": {},
   "source": [
    "Нека извикаме нашата map функция, с дефинираните по-горе числа и функция, която да бъде приложена"
   ]
  },
  {
   "cell_type": "code",
   "execution_count": null,
   "id": "52189531",
   "metadata": {},
   "outputs": [
    {
     "name": "stdout",
     "output_type": "stream",
     "text": [
      "Squared numbers: [4, 14, 6, 18, -2, 24]\n"
     ]
    }
   ],
   "source": [
    "print(f'Squared numbers: {my_map(multiply, numbers)}')"
   ]
  },
  {
   "cell_type": "markdown",
   "id": "d1fcbe24",
   "metadata": {},
   "source": [
    "Можем да подадем и функция, която променя типа на обектите - нека разгледаме функция, която приема цяло число от 1 до 7 и връща съответния ден от седмицата (1 - Понеделник, 2 - Вторник, т.н.)"
   ]
  },
  {
   "cell_type": "code",
   "execution_count": null,
   "id": "6be5d12b",
   "metadata": {},
   "outputs": [
    {
     "name": "stdout",
     "output_type": "stream",
     "text": [
      "Days of the week: ['Tuesday', 'Wednesday', 'Monday', 'Thursday', 'Saturday']\n"
     ]
    }
   ],
   "source": [
    "def number_to_day(number):\n",
    "    days = [\"Monday\", \"Tuesday\", \"Wednesday\", \"Thursday\", \"Friday\", \"Saturday\", \"Sunday\"]\n",
    "    return days[number - 1]\n",
    "\n",
    "days = [2, 3, 1, 4, 6]\n",
    "\n",
    "print(f'Days of the week: {my_map(number_to_day, days)}')"
   ]
  },
  {
   "cell_type": "markdown",
   "id": "9ece4ded",
   "metadata": {},
   "source": [
    "Нека сега разгледаме и вградена функция `map` в Python - тя приема като първи аргумент функцията, която ще бъде приложена, а като втори - колекцията, върху която да се приложи."
   ]
  },
  {
   "cell_type": "code",
   "execution_count": null,
   "id": "eb35d3ab",
   "metadata": {},
   "outputs": [
    {
     "name": "stdout",
     "output_type": "stream",
     "text": [
      "Appyling map directly returns: <map object at 0x7f2c9d1100d0>\n"
     ]
    }
   ],
   "source": [
    "numbers = [1, 2, 3, 4]\n",
    "\n",
    "def square(number):\n",
    "    return number ** 2\n",
    "\n",
    "print(f'Appyling map directly returns: {map(square, numbers)}')"
   ]
  },
  {
   "cell_type": "markdown",
   "id": "66ffe636",
   "metadata": {},
   "source": [
    "Важно е да се отбележи, че резултатът от map функцията е `map` обект - или поне така изглежда. Всъщност това, което се връща е генератор, който ни дава новите стойности. Съвсем лесно можем да превърнем този генератор в списък, с едно просто извикване на `list()` функцията.\n"
   ]
  },
  {
   "cell_type": "code",
   "execution_count": null,
   "id": "bf720a24",
   "metadata": {},
   "outputs": [
    {
     "name": "stdout",
     "output_type": "stream",
     "text": [
      "Converting the map object into a list: [1, 4, 9, 16]\n"
     ]
    }
   ],
   "source": [
    "numbers = [1, 2, 3, 4]\n",
    "\n",
    "def square(number):\n",
    "    return number ** 2\n",
    "\n",
    "print(f'Converting the map object into a list: {list(map(square, numbers))}')"
   ]
  },
  {
   "cell_type": "markdown",
   "id": "af168a6b",
   "metadata": {},
   "source": [
    "Освен да подаваме нормална функция, можем да използваме и `lambda`."
   ]
  },
  {
   "cell_type": "code",
   "execution_count": null,
   "id": "9cf36f73",
   "metadata": {},
   "outputs": [
    {
     "name": "stdout",
     "output_type": "stream",
     "text": [
      "[1, 4, 9, 16]\n"
     ]
    }
   ],
   "source": [
    "numbers = [1, 2, 3, 4]\n",
    "\n",
    "mapped_numbers = map(lambda number: number ** 2, numbers)\n",
    "result = list(mapped_numbers)\n",
    "\n",
    "print(result)"
   ]
  },
  {
   "cell_type": "markdown",
   "id": "3c7c030e",
   "metadata": {},
   "source": [
    "Нека усложим нещата - ако се върнем на първоначалната ни дефиниция за `map` (Функция, която прилага друга функция върху колекция), си задаваме въпроса - какво става, ако имаме повече от една колекция, върху която искаме да приложим функция ? Възможно ли е въобще ? \n",
    "\n",
    "Отговора е да - `map` приема една или повече колекции. Единствената особенност е, че функцията която подаваме трябва да може да приеме повече от един аргумент. На по-прост език - ако подадем два списъка на `map`, функцията която ще се приложи върху тях трябва да приема два аргумента."
   ]
  },
  {
   "cell_type": "code",
   "execution_count": null,
   "id": "e7ea9d4b",
   "metadata": {},
   "outputs": [
    {
     "name": "stdout",
     "output_type": "stream",
     "text": [
      "[5, 12, 21, 32]\n"
     ]
    }
   ],
   "source": [
    "first_numbers = [1, 2, 3, 4]\n",
    "second_numbers = [5, 6, 7, 8]\n",
    "\n",
    "def multiply(a, b):\n",
    "    return a * b\n",
    "\n",
    "print(list(map(multiply, first_numbers, second_numbers)))"
   ]
  },
  {
   "cell_type": "markdown",
   "id": "aa66430f",
   "metadata": {},
   "source": [
    "Важно е да се отбележи, че резултата от `map` операция винаги е **една** поредица от обекти - дори и да приемем 10 колекции, винаги на изхода ще имаме една. \n",
    "\n",
    "**Въпрос:** Как може да \"измамим\" системата, и да върнем повече от една колекция ?"
   ]
  },
  {
   "cell_type": "markdown",
   "id": "3baa0696",
   "metadata": {},
   "source": [
    "### Отговор"
   ]
  },
  {
   "cell_type": "markdown",
   "id": "1ecce036",
   "metadata": {},
   "source": [
    "Няма как да върнем повече от една колекция - това което можем да направим, е да върнем колекция, която съдържа наредени n-торки (tuples)."
   ]
  },
  {
   "cell_type": "code",
   "execution_count": null,
   "id": "ec72a092",
   "metadata": {},
   "outputs": [
    {
     "name": "stdout",
     "output_type": "stream",
     "text": [
      "[(1, 5), (2, 6), (3, 7), (4, 8)]\n"
     ]
    }
   ],
   "source": [
    "first_numbers = [1, 2, 3, 4]\n",
    "second_numbers = [5, 6, 7, 8]\n",
    "\n",
    "def return_as_tuple(a, b):\n",
    "    return a, b\n",
    "\n",
    "print(list(map(return_as_tuple, first_numbers, second_numbers)))"
   ]
  },
  {
   "cell_type": "markdown",
   "id": "187910d0",
   "metadata": {},
   "source": [
    "## Zip"
   ]
  },
  {
   "cell_type": "markdown",
   "id": "c3fc8986",
   "metadata": {},
   "source": [
    "Нека се върнем за кратко към примера за използването на `map`, при който от два списъка, ние направихме един, който съдържаше елементите на двата, групирани по позицията им:"
   ]
  },
  {
   "cell_type": "code",
   "execution_count": null,
   "id": "c0ea53ef",
   "metadata": {},
   "outputs": [
    {
     "name": "stdout",
     "output_type": "stream",
     "text": [
      "[(1, 5), (2, 6), (3, 7), (4, 8)]\n"
     ]
    }
   ],
   "source": [
    "first_numbers = [1, 2, 3, 4]\n",
    "second_numbers = [5, 6, 7, 8]\n",
    "\n",
    "def return_as_tuple(a, b):\n",
    "    return a, b\n",
    "\n",
    "print(list(map(return_as_tuple, first_numbers, second_numbers)))"
   ]
  },
  {
   "cell_type": "markdown",
   "id": "93c08597",
   "metadata": {},
   "source": [
    "В Python има готова функция, която прави това обединение за нас - `zip`"
   ]
  },
  {
   "cell_type": "code",
   "execution_count": null,
   "id": "838fca66",
   "metadata": {},
   "outputs": [
    {
     "name": "stdout",
     "output_type": "stream",
     "text": [
      "<zip object at 0x7f2c9d130f00>\n",
      "[(1, 5), (2, 6), (3, 7), (4, 8)]\n"
     ]
    }
   ],
   "source": [
    "first_numbers = [1, 2, 3, 4]\n",
    "second_numbers = [5, 6, 7, 8]\n",
    "\n",
    "print(zip(first_numbers, second_numbers))\n",
    "print(list(zip(first_numbers, second_numbers)))"
   ]
  },
  {
   "cell_type": "markdown",
   "id": "aa707ab5",
   "metadata": {},
   "source": [
    "Не е нужно списъците да са от еднакви типове елементи."
   ]
  },
  {
   "cell_type": "code",
   "execution_count": null,
   "id": "307029cb",
   "metadata": {},
   "outputs": [
    {
     "name": "stdout",
     "output_type": "stream",
     "text": [
      "[('Иван', 3), ('Любо', 20), ('Алекс', 8)]\n"
     ]
    }
   ],
   "source": [
    "names = ['Иван', 'Любо', 'Алекс']\n",
    "favorite_number = [3, 20, 8]\n",
    "\n",
    "print(list(zip(names, favorite_number)))"
   ]
  },
  {
   "cell_type": "markdown",
   "id": "604cfe39",
   "metadata": {},
   "source": [
    "Ако единият списък е по-дълъг от другия, по-дългия списък ще бъде отрязан:"
   ]
  },
  {
   "cell_type": "code",
   "execution_count": null,
   "id": "a05b6149",
   "metadata": {},
   "outputs": [
    {
     "name": "stdout",
     "output_type": "stream",
     "text": [
      "[('Иван', 3), ('Любо', 20), ('Алекс', 7)]\n"
     ]
    }
   ],
   "source": [
    "names = ['Иван', 'Любо', 'Алекс', 'Иво']\n",
    "favorite_number = [3, 20, 7]\n",
    "\n",
    "print(list(zip(names, favorite_number)))"
   ]
  },
  {
   "cell_type": "code",
   "execution_count": null,
   "id": "db1d0b82",
   "metadata": {},
   "outputs": [
    {
     "name": "stdout",
     "output_type": "stream",
     "text": [
      "[('Иван', 3), ('Любо', 20), ('Алекс', 7)]\n"
     ]
    }
   ],
   "source": [
    "names = ['Иван', 'Любо', 'Алекс']\n",
    "favorite_number = [3, 20, 7, -1]\n",
    "\n",
    "print(list(zip(names, favorite_number)))"
   ]
  },
  {
   "cell_type": "markdown",
   "id": "10020221",
   "metadata": {},
   "source": [
    "Или поне това е поведението по подразбиране. `zip` предлага още два метода на работа. С помощта на аргумента `strict=True`, ако подадените списъци са с различен размер, `zip` ще ни хвърли грешка (това е въведено в Python3.10). "
   ]
  },
  {
   "cell_type": "code",
   "execution_count": null,
   "id": "547cc23c",
   "metadata": {},
   "outputs": [
    {
     "ename": "TypeError",
     "evalue": "ignored",
     "output_type": "error",
     "traceback": [
      "\u001b[0;31m---------------------------------------------------------------------------\u001b[0m\n",
      "\u001b[0;31mTypeError\u001b[0m                                 Traceback (most recent call last)\n",
      "\u001b[0;32m<ipython-input-64-acdcfbd62260>\u001b[0m in \u001b[0;36m<module>\u001b[0;34m\u001b[0m\n",
      "\u001b[1;32m      2\u001b[0m \u001b[0mfavorite_number\u001b[0m \u001b[0;34m=\u001b[0m \u001b[0;34m[\u001b[0m\u001b[0;36m3\u001b[0m\u001b[0;34m,\u001b[0m \u001b[0;36m20\u001b[0m\u001b[0;34m,\u001b[0m \u001b[0;36m7\u001b[0m\u001b[0;34m,\u001b[0m \u001b[0;34m-\u001b[0m\u001b[0;36m1\u001b[0m\u001b[0;34m]\u001b[0m\u001b[0;34m\u001b[0m\u001b[0;34m\u001b[0m\u001b[0m\n",
      "\u001b[1;32m      3\u001b[0m \u001b[0;34m\u001b[0m\u001b[0m\n",
      "\u001b[0;32m----> 4\u001b[0;31m \u001b[0mzip\u001b[0m\u001b[0;34m(\u001b[0m\u001b[0mnames\u001b[0m\u001b[0;34m,\u001b[0m \u001b[0mfavorite_number\u001b[0m\u001b[0;34m,\u001b[0m \u001b[0mstrict\u001b[0m\u001b[0;34m=\u001b[0m\u001b[0;32mTrue\u001b[0m\u001b[0;34m)\u001b[0m\u001b[0;34m\u001b[0m\u001b[0;34m\u001b[0m\u001b[0m\n",
      "\u001b[0m\n",
      "\u001b[0;31mTypeError\u001b[0m: zip() takes no keyword arguments"
     ]
    }
   ],
   "source": [
    "names = ['Иван', 'Любо', 'Алекс']\n",
    "favorite_number = [3, 20, 7, -1]\n",
    "\n",
    "zip(names, favorite_number, strict=True)"
   ]
  },
  {
   "cell_type": "markdown",
   "id": "e4b8f718",
   "metadata": {},
   "source": [
    "А ако искаме да добавим някакви \"празни\" стойности към по-късия списък, може да използваме "
   ]
  },
  {
   "cell_type": "code",
   "execution_count": null,
   "id": "56a9bc2e",
   "metadata": {},
   "outputs": [
    {
     "name": "stdout",
     "output_type": "stream",
     "text": [
      "[('Иван', 3), ('Любо', 20), ('Алекс', 7), ('Dummy', -1), ('Dummy', -2)]\n"
     ]
    }
   ],
   "source": [
    "from itertools import zip_longest\n",
    "\n",
    "names = ['Иван', 'Любо', 'Алекс']\n",
    "favorite_number = [3, 20, 7, -1, -2]\n",
    "\n",
    "print(list(zip_longest(names, favorite_number, fillvalue='Dummy')))"
   ]
  },
  {
   "cell_type": "markdown",
   "id": "212d8d01",
   "metadata": {},
   "source": [
    "Ако трябва да сме на 100% коректни, `zip` приема каквато и да е колекция:"
   ]
  },
  {
   "cell_type": "code",
   "execution_count": null,
   "id": "3bcc97e6",
   "metadata": {},
   "outputs": [
    {
     "name": "stdout",
     "output_type": "stream",
     "text": [
      "[(1, 'a'), (4, 'b'), (9, 'c')]\n"
     ]
    }
   ],
   "source": [
    "numbers = [1, 2, 3]\n",
    "letters = ['a', 'b', 'c']\n",
    "\n",
    "print(list(zip(map(lambda x: x ** 2, numbers), letters)))"
   ]
  },
  {
   "cell_type": "markdown",
   "id": "f2f67d8b",
   "metadata": {},
   "source": [
    "Горният пример, малко по-културно разписан, изглежда по следния начин:"
   ]
  },
  {
   "cell_type": "code",
   "execution_count": null,
   "id": "964d0460",
   "metadata": {},
   "outputs": [
    {
     "name": "stdout",
     "output_type": "stream",
     "text": [
      "[(1, 'a'), (4, 'b'), (9, 'c')]\n"
     ]
    }
   ],
   "source": [
    "numbers = [1, 2, 3]\n",
    "letters = ['a', 'b', 'c']\n",
    "\n",
    "squared_numbers = map(lambda x: x ** 2, numbers)\n",
    "zipped_together = zip(squared_numbers, letters)\n",
    "zipped_together_as_a_list = list(zipped_together)\n",
    "\n",
    "print(zipped_together_as_a_list)"
   ]
  },
  {
   "cell_type": "markdown",
   "id": "1d57d2ed",
   "metadata": {},
   "source": [
    "## Filter\n"
   ]
  },
  {
   "cell_type": "markdown",
   "id": "9815e551",
   "metadata": {},
   "source": [
    "Както името подсказва, `filter` е функция която ни връща елементите от дадена колекция, удолетворяващи дадено условие."
   ]
  },
  {
   "cell_type": "markdown",
   "id": "51a3a856",
   "metadata": {},
   "source": [
    "Нека отново имаме някакви числа, и функция която връща дали дадено число е четно или не."
   ]
  },
  {
   "cell_type": "code",
   "execution_count": null,
   "id": "5edcfe05",
   "metadata": {},
   "outputs": [],
   "source": [
    "numbers = [2, 7, 11, 12]\n",
    "\n",
    "def is_even(number):\n",
    "    return number % 2 == 0"
   ]
  },
  {
   "cell_type": "markdown",
   "id": "5e6c7da2",
   "metadata": {},
   "source": [
    "Ако трябва сами да разпишем функцията, тя би изглеждала по следния начин:"
   ]
  },
  {
   "cell_type": "code",
   "execution_count": null,
   "id": "aec1000e",
   "metadata": {},
   "outputs": [],
   "source": [
    "def my_filter(filter_fn, collection):\n",
    "    result = []\n",
    "    for item in collection:\n",
    "        if filter_fn(item):\n",
    "            result.append(item)\n",
    "    \n",
    "    return result"
   ]
  },
  {
   "cell_type": "code",
   "execution_count": null,
   "id": "2842868a",
   "metadata": {},
   "outputs": [
    {
     "name": "stdout",
     "output_type": "stream",
     "text": [
      "[2, 12]\n"
     ]
    }
   ],
   "source": [
    "print(my_filter(is_even, numbers))"
   ]
  },
  {
   "cell_type": "markdown",
   "id": "289b4d58",
   "metadata": {},
   "source": [
    "Извикването на вградената функция `filter` изглежда по следния начин"
   ]
  },
  {
   "cell_type": "code",
   "execution_count": null,
   "id": "13ff51c1",
   "metadata": {},
   "outputs": [
    {
     "name": "stdout",
     "output_type": "stream",
     "text": [
      "<filter object at 0x7f2c9d0c7510>\n"
     ]
    }
   ],
   "source": [
    "print(filter(is_even, numbers))"
   ]
  },
  {
   "cell_type": "markdown",
   "id": "a0a8038f",
   "metadata": {},
   "source": [
    "Както `map`, така и `filter` връщат генератор обекти - с едно извикване на `list` можем да превърнем резултата в списък"
   ]
  },
  {
   "cell_type": "code",
   "execution_count": null,
   "id": "f72ac5cc",
   "metadata": {},
   "outputs": [
    {
     "name": "stdout",
     "output_type": "stream",
     "text": [
      "[2, 12]\n"
     ]
    }
   ],
   "source": [
    "print(list(filter(is_even, numbers)))"
   ]
  },
  {
   "cell_type": "markdown",
   "id": "59441d28",
   "metadata": {},
   "source": [
    "Може и с `lambda`"
   ]
  },
  {
   "cell_type": "code",
   "execution_count": null,
   "id": "28e0599e",
   "metadata": {},
   "outputs": [
    {
     "name": "stdout",
     "output_type": "stream",
     "text": [
      "[2, 12]\n"
     ]
    }
   ],
   "source": [
    "print(list(filter(lambda number: number % 2 == 0, numbers)))"
   ]
  },
  {
   "cell_type": "markdown",
   "id": "5c1227de",
   "metadata": {},
   "source": [
    "Ако искаме да вземем първия елемент от резултата на `filter`, може да използваме `next()`."
   ]
  },
  {
   "cell_type": "code",
   "execution_count": null,
   "id": "e49c9207",
   "metadata": {},
   "outputs": [
    {
     "data": {
      "text/plain": [
       "2"
      ]
     },
     "metadata": {},
     "output_type": "display_data"
    }
   ],
   "source": [
    "next(filter(lambda number: number % 2 == 0, numbers))"
   ]
  },
  {
   "cell_type": "code",
   "execution_count": null,
   "id": "e144cd08",
   "metadata": {},
   "outputs": [
    {
     "data": {
      "text/plain": [
       "'Verstappen'"
      ]
     },
     "metadata": {},
     "output_type": "display_data"
    }
   ],
   "source": [
    "red_bull_team = \"Verstappen\", \"Perez\"\n",
    "top10 = [\"Leclerc\", \"Sainz\", \"Verstappen\", \"Norris\", \"Piastri\", \"Russel\", \"Perez\", \"Hülkenberg\", \"Lawson\", \"Colapinto\"]\n",
    "\n",
    "next(driver for driver in top10 if driver in red_bull_team)"
   ]
  },
  {
   "cell_type": "markdown",
   "id": "aaa6b7c4",
   "metadata": {},
   "source": [
    "## Reduce"
   ]
  },
  {
   "cell_type": "markdown",
   "id": "b96532d3",
   "metadata": {},
   "source": [
    "Тук нещата стават една идея по-сложни. Нека започнем с един пример: трябва да намерим произведението на всички числа в даден списък.\n",
    "\n",
    "Нека за момент се абстрахираме от програмирането - как бихме намерили произведението на числа 3, 5 и 8 ? Първо бихме умножили 3 и 5, което прави 15. След това, получения резултат от предишната операция (в нашия случай 15) и ще го умножим с 8.\n",
    "\n",
    "Тази процедура може да бъде използвана за списъци с произволен брой числа - всяко следващо число бива умножено с резултата до момента.\n",
    "\n",
    "Ако трябва да представим тази идея с код, тя би изглеждала по следния начин:"
   ]
  },
  {
   "cell_type": "code",
   "execution_count": null,
   "id": "e7daf915",
   "metadata": {},
   "outputs": [],
   "source": [
    "def get_product_of_all_nums(nums):\n",
    "    result = nums[0]\n",
    "\n",
    "    for num in nums[1:]:\n",
    "        result = result * num\n",
    "    \n",
    "    return result"
   ]
  },
  {
   "cell_type": "code",
   "execution_count": null,
   "id": "afe66fc8",
   "metadata": {},
   "outputs": [
    {
     "name": "stdout",
     "output_type": "stream",
     "text": [
      "120\n"
     ]
    }
   ],
   "source": [
    "numbers = [3, 5, 8]\n",
    "print(get_product_of_all_nums(numbers))"
   ]
  },
  {
   "cell_type": "markdown",
   "id": "c9f538d0",
   "metadata": {},
   "source": [
    "Нека генерализираме нашата функция - вместо умножение, тя да може да работи с подадена функция, приемаща два аргумента - резултата до момента и текущото число"
   ]
  },
  {
   "cell_type": "code",
   "execution_count": null,
   "id": "a4cfee8b",
   "metadata": {},
   "outputs": [],
   "source": [
    "def my_reduce(function, collection):\n",
    "    result = collection[0]\n",
    "\n",
    "    for item in collection[1:]:\n",
    "        result = function(result, item)\n",
    "    \n",
    "    return result"
   ]
  },
  {
   "cell_type": "code",
   "execution_count": null,
   "id": "d919461a",
   "metadata": {},
   "outputs": [
    {
     "name": "stdout",
     "output_type": "stream",
     "text": [
      "120\n"
     ]
    }
   ],
   "source": [
    "numbers = [3, 5, 8]\n",
    "def multiply(result_so_far, current_number):\n",
    "    return result_so_far * current_number\n",
    "\n",
    "print(my_reduce(multiply, numbers))"
   ]
  },
  {
   "cell_type": "markdown",
   "id": "a7a42237",
   "metadata": {},
   "source": [
    "Една промяна, която можем да направим е следната - вместо за начало да взимаме първия елемент от колекцията, може да приемаме началната стойност като аргумент на функцията. Така нашата функция би работела и с празни колекции. "
   ]
  },
  {
   "cell_type": "code",
   "execution_count": null,
   "id": "397f2940",
   "metadata": {},
   "outputs": [],
   "source": [
    "def my_reduce_with_start(function, collection, start):\n",
    "    result = start\n",
    "\n",
    "    for item in collection:\n",
    "        result = function(result, item)\n",
    "    \n",
    "    return result"
   ]
  },
  {
   "cell_type": "code",
   "execution_count": null,
   "id": "7bc1d80c",
   "metadata": {},
   "outputs": [
    {
     "name": "stdout",
     "output_type": "stream",
     "text": [
      "120\n"
     ]
    }
   ],
   "source": [
    "numbers = [3, 5, 8]\n",
    "def multiply(result_so_far, current_number):\n",
    "    return result_so_far * current_number\n",
    "\n",
    "print(my_reduce_with_start(multiply, numbers, 1))"
   ]
  },
  {
   "cell_type": "markdown",
   "id": "3279e7a6",
   "metadata": {},
   "source": [
    "Ето че стигнахме и до `reduce` - функция, която приема функция и колекция. Функцията бива приложена върху резултата, който имаме до момента и всеки елемент от колекцията.\n",
    "Важно е да уточним терминологията тук - в някои езици може да срещенете тази функция като `accumulate`, `fold` или пък `foldl`.\n",
    "\n",
    "Тук е важно да спомена за наличието на т.нар \"ляв\" и \"десен\" `reduce`. В други функционални езици (като Haskell), имаме концепцията за ляв и десен `fold` - в каква посока се изпълнява функцията - отляво надясно или отдясно наляво. За някои операции (например умножение) реда на изпълнение няма значение, но например при деление би имало значение дали започваме от ляво или от дясно. Повече информация за fold функцията в другите езици, може да намерите [тук](https://www.wikiwand.com/en/Fold_(higher-order_function)). "
   ]
  },
  {
   "cell_type": "markdown",
   "id": "44ebc09a",
   "metadata": {},
   "source": [
    "Вградената функция reduce в Python се намира в библиотеката `functools`. За да я използваме, първо трябва да я заредим (`import`)"
   ]
  },
  {
   "cell_type": "code",
   "execution_count": null,
   "id": "1b199568",
   "metadata": {},
   "outputs": [
    {
     "name": "stdout",
     "output_type": "stream",
     "text": [
      "120\n"
     ]
    }
   ],
   "source": [
    "from functools import reduce\n",
    "\n",
    "numbers = [3, 5, 8]\n",
    "\n",
    "def multiply(result_so_far, current_number):\n",
    "    return result_so_far * current_number\n",
    "\n",
    "print(reduce(multiply, numbers, 1))"
   ]
  },
  {
   "cell_type": "markdown",
   "id": "9330bdff",
   "metadata": {},
   "source": [
    "Както може би сте се досетили, тук не получаваме генератор - резултатът от `reduce` е една стойност (в нашия случай това е число).\n",
    "\n",
    "`reduce`, също както `map` и `filter` работи и с `lambda` функции. Тук е добро място да се отбележи, че първия аргумент, който бива подаден на функцията е стойността до момента (или стойността, която се е **акумулирала** (**accumulate**). "
   ]
  },
  {
   "cell_type": "code",
   "execution_count": null,
   "id": "dd545690",
   "metadata": {},
   "outputs": [
    {
     "name": "stdout",
     "output_type": "stream",
     "text": [
      "120\n"
     ]
    }
   ],
   "source": [
    "numbers = [3, 5, 8]\n",
    "\n",
    "print(reduce(lambda acc, number: acc * number, numbers))"
   ]
  },
  {
   "cell_type": "markdown",
   "id": "f67d4cf4",
   "metadata": {},
   "source": [
    "А можем и да подадем начална стойност:"
   ]
  },
  {
   "cell_type": "code",
   "execution_count": null,
   "id": "0be45def",
   "metadata": {},
   "outputs": [
    {
     "name": "stdout",
     "output_type": "stream",
     "text": [
      "120\n",
      "240\n"
     ]
    }
   ],
   "source": [
    "numbers = [3, 5, 8]\n",
    "print(reduce(lambda acc, number: acc * number, numbers, 1))\n",
    "print(reduce(lambda acc, number: acc * number, numbers, 2))"
   ]
  },
  {
   "cell_type": "markdown",
   "id": "5f718b99",
   "metadata": {},
   "source": [
    "А сега един по-сложен пример: Нека имаме списък, чийто елементи са списъци с числа. С помощта на `reduce`, подходяща функция и подходяща начална стойност, бихме могли да получим един списък, който съдържа числата, без те да са в отделни списъци."
   ]
  },
  {
   "cell_type": "code",
   "execution_count": null,
   "id": "05a8eec5",
   "metadata": {},
   "outputs": [
    {
     "name": "stdout",
     "output_type": "stream",
     "text": [
      "[1, 2, 3, 4, 5, 6, 7, 8, 9, 10]\n"
     ]
    }
   ],
   "source": [
    "numbers_2d = [[1, 2, 3], [4, 5, 6], [7, 8, 9, 10]]\n",
    "\n",
    "print(reduce(lambda acc, item: acc + item, numbers_2d, []))"
   ]
  },
  {
   "cell_type": "markdown",
   "id": "d7574c84",
   "metadata": {},
   "source": [
    "Припомням, че операция събиране (`+`) приложена върху два списъка ни връща конкатенацията на двата списъка. \n",
    "\n",
    "В горната операция, ние взехме един списък, и го \"изравнихме\" (flatten). Операцията \"flatten\" върху списъци е често срещата в езиците за функционално програмиране, макар и в Python да нямаме готова функция за това. "
   ]
  },
  {
   "cell_type": "markdown",
   "id": "2ac8aadc",
   "metadata": {},
   "source": [
    "## List comprehension"
   ]
  },
  {
   "cell_type": "markdown",
   "id": "bbde7bc4",
   "metadata": {},
   "source": [
    "В Python съществува функционалност, наречена \"list comprehension\". List comprehension е синтактична конструкция, която ни позволява да създаваме списъци на базата на други колекции/итератори/генератори. Синтактично, list comprehension прилича на generator expressions:\n",
    "\n",
    "Можем да изразим тази идея в Python като използваме вече познатите ни `map` и `filter`:\n"
   ]
  },
  {
   "cell_type": "code",
   "execution_count": null,
   "id": "fe4a0ee9",
   "metadata": {},
   "outputs": [
    {
     "name": "stdout",
     "output_type": "stream",
     "text": [
      "Squared even numbers: [4, 16, 36, 64, 100, 144, 196, 256, 324, 400, 484, 576, 676, 784, 900, 1024, 1156, 1296, 1444, 1600, 1764, 1936, 2116, 2304, 2500, 2704, 2916, 3136, 3364, 3600, 3844, 4096, 4356, 4624, 4900, 5184, 5476, 5776, 6084, 6400, 6724, 7056, 7396, 7744, 8100, 8464, 8836, 9216, 9604, 10000]\n"
     ]
    }
   ],
   "source": [
    "numbers = range(1, 101)\n",
    "\n",
    "even_numbers = filter(lambda x: x % 2 == 0, numbers)\n",
    "squared_numbers = map(lambda x: x ** 2, even_numbers)\n",
    "\n",
    "print(f'Squared even numbers: {list(squared_numbers)}')"
   ]
  },
  {
   "cell_type": "markdown",
   "id": "9cb938c4",
   "metadata": {},
   "source": [
    "В общия случай, синтаксиса на list comprehension е следния: `[f(item) for item in collection if p(item)]` - т.е. кода по-горе би изглеждал по следния начин като list comprehension:"
   ]
  },
  {
   "cell_type": "code",
   "execution_count": null,
   "id": "6781f06e",
   "metadata": {},
   "outputs": [
    {
     "name": "stdout",
     "output_type": "stream",
     "text": [
      "Squared even numbers: [4, 16, 36, 64, 100, 144, 196, 256, 324, 400, 484, 576, 676, 784, 900, 1024, 1156, 1296, 1444, 1600, 1764, 1936, 2116, 2304, 2500, 2704, 2916, 3136, 3364, 3600, 3844, 4096, 4356, 4624, 4900, 5184, 5476, 5776, 6084, 6400, 6724, 7056, 7396, 7744, 8100, 8464, 8836, 9216, 9604, 10000]\n"
     ]
    }
   ],
   "source": [
    "print(f'Squared even numbers: {[x ** 2 for x in range(1, 101) if x % 2 == 0]}')"
   ]
  },
  {
   "cell_type": "markdown",
   "id": "2f3a6004",
   "metadata": {},
   "source": [
    "`if` часта или функцията, която се прилага върху всяка променливата могат да бъдат изпуснати:"
   ]
  },
  {
   "cell_type": "code",
   "execution_count": null,
   "id": "f752dc3b",
   "metadata": {},
   "outputs": [
    {
     "name": "stdout",
     "output_type": "stream",
     "text": [
      "Odd numbers: [1, 3]\n",
      "Multiplying all numbers by 2: [2, 4, 6]\n"
     ]
    }
   ],
   "source": [
    "numbers = [1, 2, 3]\n",
    "print(f'Odd numbers: {[number for number in numbers if number % 2 != 0]}')\n",
    "print(f'Multiplying all numbers by 2: {[number * 2 for number in numbers]}')"
   ]
  },
  {
   "cell_type": "markdown",
   "id": "16559169",
   "metadata": {},
   "source": [
    "Тук е добре да отбележем, че основната синтактична разлика между list comprehension и generator comprehension е скобите (`[]` за list comprehension и `()` за generator comprehension)"
   ]
  },
  {
   "cell_type": "code",
   "execution_count": null,
   "id": "cc1a6eb4",
   "metadata": {},
   "outputs": [
    {
     "name": "stdout",
     "output_type": "stream",
     "text": [
      "Areas of valid rectangles: [2, 20, 7.5]\n"
     ]
    }
   ],
   "source": [
    "def calculate_area_of_rectangle(a, b):\n",
    "    return a * b\n",
    "\n",
    "rectangles = [(1, 2), (5, 4), (3, 2.5), (-2, 3)]\n",
    "areas = [calculate_area_of_rectangle(x, y) for x, y in rectangles if x >= 0 and y >= 0]\n",
    "\n",
    "print(f'Areas of valid rectangles: {areas}')"
   ]
  },
  {
   "cell_type": "markdown",
   "id": "76b2681c",
   "metadata": {},
   "source": [
    "Може би забелязвате, че когато функцията която изпълняваме не е външна, не използваме `lambda`, а директно пишем операцията която искаме да приложим - това е част от опростяването на синтаксиса на list comprehension-ите. "
   ]
  },
  {
   "cell_type": "markdown",
   "id": "edc1a413",
   "metadata": {},
   "source": [
    "Нека имаме дадени числа - искаме да върнем списък, в който за всяко число да пише \"Yes\" ако се дели на 3 или 5 и \"No\" в противен случай. Това може да стане лесно, чрез използването на тернарния оператор в Python."
   ]
  },
  {
   "cell_type": "code",
   "execution_count": null,
   "id": "c66a66b6",
   "metadata": {},
   "outputs": [
    {
     "name": "stdout",
     "output_type": "stream",
     "text": [
      "Results are: ['No', 'Yes', 'Yes', 'Yes', 'Yes', 'Yes', 'No', 'No']\n"
     ]
    }
   ],
   "source": [
    "numbers = [7, 12, 5, 6, 9, 15, 1, 11]\n",
    "\n",
    "results = [\"Yes\" if number % 3 == 0 or number % 5 == 0 else \"No\" for number in numbers]\n",
    "\n",
    "print(f'Results are: {results}')"
   ]
  },
  {
   "cell_type": "markdown",
   "id": "6c24c446",
   "metadata": {},
   "source": [
    "## Скорост"
   ]
  },
  {
   "cell_type": "markdown",
   "id": "b62f2024",
   "metadata": {},
   "source": [
    "Едно от най-\"шокиращите\" неща в Python е скоростта, която получаваме при използването на обикновенни `for` цикли, `map` или list comprehension.\n",
    "\n",
    "За да демонстрираме разликата, ще създадем функция, която повдига число на квадрат, и ще я приложим върху списък от 40 000 000 числа."
   ]
  },
  {
   "cell_type": "code",
   "execution_count": null,
   "id": "f1d1d2e5",
   "metadata": {},
   "outputs": [
    {
     "name": "stdout",
     "output_type": "stream",
     "text": [
      "For-looping took 19.72 seconds\n",
      "map() took 13.60 seconds\n",
      "List comprehension took 15.08 seconds\n"
     ]
    }
   ],
   "source": [
    "from time import time\n",
    "\n",
    "def power_up(a):\n",
    "    return a ** 2\n",
    "\n",
    "numbers = list(range(1, 40000000))\n",
    "\n",
    "for_loop_start = time()\n",
    "\n",
    "for_loop_result = []\n",
    "for number in numbers:\n",
    "    for_loop_result.append(power_up(number))\n",
    "\n",
    "for_loop_end = time()\n",
    "print(f'For-looping took {for_loop_end - for_loop_start:.2f} seconds')\n",
    "\n",
    "\n",
    "map_start = time()\n",
    "\n",
    "map_result = list(map(power_up, numbers))\n",
    "\n",
    "map_end = time()\n",
    "print(f'map() took {map_end - map_start:.2f} seconds')\n",
    "\n",
    "\n",
    "list_comprehension_start = time()\n",
    "\n",
    "list_comprehension_result = [power_up(x) for x in numbers]\n",
    "\n",
    "list_comprehension_end = time()\n",
    "print(f'List comprehension took {list_comprehension_end - list_comprehension_start:.2f} seconds')"
   ]
  },
  {
   "cell_type": "markdown",
   "id": "e8bb3fec",
   "metadata": {},
   "source": [
    "Основната разлика във времето идва от факта, че `append()` операцията е бавна. `map` и list comprehension-ите използва хитрини при заделянето на паметта, затова може да се каже че са с около 30% по-бързи. Няма да се впускам повече в темата, за по-любопитните, [тук](https://web.archive.org/web/20190319205826/http://blog.cdleary.com/2010/04/efficiency-of-list-comprehensions/) нещата са обяснение в повече детайли."
   ]
  },
  {
   "cell_type": "markdown",
   "id": "f0edb366",
   "metadata": {},
   "source": [
    "На въпросът, кой от трите подхода се използват, моят отговор е следния: list comprehension и `map` дават доста по-добро представяне спрямо `for` loop + `append`, затова и са за предпочитане. Синтаксисът на list comprehension-ите е по-прост спрямо този на `map` (особенно ако трябва и да филтрираме елементите), което води до това, че **list comprehension-ите са за предпочитане**."
   ]
  },
  {
   "cell_type": "markdown",
   "id": "cf4d7cb6",
   "metadata": {},
   "source": [
    "## Dict comprehension"
   ]
  },
  {
   "cell_type": "markdown",
   "id": "447ecaf8",
   "metadata": {},
   "source": [
    "Подобно на list comprehension, можем да използваме подобен запис да създадем и речник (dictionary, dict).\n",
    "\n",
    "Синтаксисът е същият, само че вместо `[]`, използваме `{}`. Също така, вместо един елемент, използваме `key:value` - т.е. общия вид би изглеждал по следния начин: `{f(item):g(value) for item in collection if p(item)}`"
   ]
  },
  {
   "cell_type": "markdown",
   "id": "fdc0f531",
   "metadata": {},
   "source": [
    "Нека като пример разглеждаме dict, който съдържа число (измежду 1 и 10), и дали е четно или не"
   ]
  },
  {
   "cell_type": "code",
   "execution_count": null,
   "id": "356bdf52",
   "metadata": {},
   "outputs": [
    {
     "name": "stdout",
     "output_type": "stream",
     "text": [
      "{1: False, 2: True, 3: False, 4: True, 5: False, 6: True, 7: False, 8: True, 9: False, 10: True}\n"
     ]
    }
   ],
   "source": [
    "my_dict = {num:num%2 == 0 for num in range(1, 11)}\n",
    "\n",
    "print(my_dict)"
   ]
  },
  {
   "cell_type": "markdown",
   "id": "f6a00a42",
   "metadata": {},
   "source": [
    "Както при generator изразите и list comprehension, можем да добавим `if` част.\n",
    "\n",
    "Нека създадем речник, който съдържа четните числа от 1 до 20, както и тяхната репрезентация като низ."
   ]
  },
  {
   "cell_type": "code",
   "execution_count": null,
   "id": "a2289c70",
   "metadata": {},
   "outputs": [
    {
     "name": "stdout",
     "output_type": "stream",
     "text": [
      "{2: '2', 4: '4', 6: '6', 8: '8', 10: '10', 12: '12', 14: '14', 16: '16', 18: '18', 20: '20'}\n"
     ]
    }
   ],
   "source": [
    "even_numbers_as_strs = {num:str(num) for num in range(1, 21) if num % 2 == 0}\n",
    "\n",
    "print(even_numbers_as_strs)"
   ]
  },
  {
   "cell_type": "markdown",
   "id": "89e894ed",
   "metadata": {},
   "source": [
    "## Walrus operator"
   ]
  },
  {
   "cell_type": "markdown",
   "id": "4771f529",
   "metadata": {},
   "source": [
    "В Python 3.8 се появява нов оператор, който ни позволява да имаме т.нар. \"assignment expression\" - израз, в който можем да присвояваме променливи.\n",
    "\n",
    "Чрез него можем да спестим изчисляването на дадени изрази, като ги присвоим към име на места, в който това не бе позволено."
   ]
  },
  {
   "cell_type": "code",
   "execution_count": null,
   "id": "e1faec40",
   "metadata": {},
   "outputs": [
    {
     "data": {
      "text/plain": [
       "{'count': 6, 'sum': 29, 'average': 4.833333333333333}"
      ]
     },
     "metadata": {},
     "output_type": "display_data"
    }
   ],
   "source": [
    "numbers = [4, 7, 6, 3, 1, 8]\n",
    "\n",
    "data = {\n",
    "    'count': len(numbers),\n",
    "    'sum': sum(numbers),\n",
    "    'average': sum(numbers) / len(numbers)\n",
    "}\n",
    "\n",
    "data"
   ]
  },
  {
   "cell_type": "markdown",
   "id": "c2d815e2",
   "metadata": {},
   "source": [
    "Тук, изчисляваме дължината и сумата на елементите два пъти. Можем да отделим тези сметки в променливи, и да ги преизползваме."
   ]
  },
  {
   "cell_type": "code",
   "execution_count": null,
   "id": "c41bfdc9",
   "metadata": {},
   "outputs": [
    {
     "data": {
      "text/plain": [
       "{'count': 6, 'sum': 29, 'average': 4.833333333333333}"
      ]
     },
     "metadata": {},
     "output_type": "display_data"
    }
   ],
   "source": [
    "numbers = [4, 7, 6, 3, 1, 8]\n",
    "\n",
    "count = len(numbers)\n",
    "total_sum = sum(numbers)\n",
    "\n",
    "data = {\n",
    "    'count': count,\n",
    "    'sum': total_sum,\n",
    "    'average': total_sum / count\n",
    "}\n",
    "\n",
    "data"
   ]
  },
  {
   "cell_type": "markdown",
   "id": "5892e15f",
   "metadata": {},
   "source": [
    "Проблемът тук е, че използваме тези променливи само за речника. Можем да \"преместим\" това дефиниране на стойностите вътре в речника, чрез използването на walrus оператора. \n",
    "\n",
    "Той изглежда по следният начин: `(name := expression)`. Важно е да се отбележи, че скобите са задължителни."
   ]
  },
  {
   "cell_type": "code",
   "execution_count": null,
   "id": "aa30fb46",
   "metadata": {},
   "outputs": [
    {
     "data": {
      "text/plain": [
       "{'count': 6, 'sum': 29, 'average': 4.833333333333333}"
      ]
     },
     "metadata": {},
     "output_type": "display_data"
    }
   ],
   "source": [
    "numbers = [4, 7, 6, 3, 1, 8]\n",
    "\n",
    "data = {\n",
    "    'count': (count := len(numbers)),\n",
    "    'sum': (total_sum := sum(numbers)),\n",
    "    'average': total_sum / count\n",
    "}\n",
    "\n",
    "data"
   ]
  },
  {
   "cell_type": "markdown",
   "id": "3ff555cf",
   "metadata": {},
   "source": [
    "Най-честото използване на walrus оператора е в list comprehension-и."
   ]
  },
  {
   "cell_type": "markdown",
   "id": "4fdeb8d8",
   "metadata": {},
   "source": [
    "В долният пример имаме клас `Point`, както и функция `calculate_length`, която изчислява разстоянието между две точки.\n",
    "\n",
    "Дадени са ни 4 точки, като искаме да върнем точките и разстоянието между тях, ако то е по-малко от 3."
   ]
  },
  {
   "cell_type": "code",
   "execution_count": null,
   "id": "91268eb2",
   "metadata": {},
   "outputs": [],
   "source": [
    "import math\n",
    "\n",
    "class Point:\n",
    "    def __init__(self, x, y):\n",
    "        self.x = x\n",
    "        self.y = y\n",
    "\n",
    "    def __str__(self):\n",
    "        return f'({self.x}, {self.y})'\n",
    "    \n",
    "    def __repr__(self):\n",
    "        return str(self)\n",
    "\n",
    "def calculate_length(a, b):\n",
    "    return math.sqrt((a.x - b.x) ** 2 + (a.y - b.y) ** 2)\n",
    "\n",
    "point_1 = Point(2, 3)\n",
    "point_2 = Point(3, 4)\n",
    "point_3 = Point(4, 5)\n",
    "point_4 = Point(1, 0)\n",
    "\n",
    "first_points = [point_1, point_2]\n",
    "second_points = [point_3, point_4]"
   ]
  },
  {
   "cell_type": "code",
   "execution_count": null,
   "id": "8eb36877",
   "metadata": {},
   "outputs": [
    {
     "data": {
      "text/plain": [
       "[((3, 4), (1, 0), 4.47213595499958)]"
      ]
     },
     "metadata": {},
     "output_type": "display_data"
    }
   ],
   "source": [
    "distances = [(first, second, calculate_length(first, second)) for first, second in zip(first_points, second_points) if calculate_length(first, second) > 3]\n",
    "distances"
   ]
  },
  {
   "cell_type": "markdown",
   "id": "2891a3a5",
   "metadata": {},
   "source": [
    "Прилагайки walrus оператора тук, кодът ни изглежда по следния начин:"
   ]
  },
  {
   "cell_type": "code",
   "execution_count": null,
   "id": "04823c35",
   "metadata": {},
   "outputs": [
    {
     "data": {
      "text/plain": [
       "[((3, 4), (1, 0), 4.47213595499958)]"
      ]
     },
     "metadata": {},
     "output_type": "display_data"
    }
   ],
   "source": [
    "distances = [(first, second, length) for first, second in zip(first_points, second_points) if (length := calculate_length(first, second)) > 3]\n",
    "distances"
   ]
  },
  {
   "cell_type": "markdown",
   "id": "20320ec0",
   "metadata": {},
   "source": [
    "## namedtuple"
   ]
  },
  {
   "cell_type": "markdown",
   "id": "bf0d76c0",
   "metadata": {},
   "source": [
    "В горният пример, дефинирахме клас `Point`, който единствено държи две стойности - `x` и `y`. Към него липсват методи (освен `__str__` и `__repr__`). \n",
    "\n",
    "Алтернативен вариант би бил да представим нашата точка като `tuple`. "
   ]
  },
  {
   "cell_type": "code",
   "execution_count": null,
   "id": "a98fd5be",
   "metadata": {},
   "outputs": [
    {
     "name": "stdout",
     "output_type": "stream",
     "text": [
      "(2, 3)\n"
     ]
    }
   ],
   "source": [
    "point_1 = (2, 3)\n",
    "\n",
    "print(f'({point_1[0]}, {point_1[1]})')"
   ]
  },
  {
   "cell_type": "markdown",
   "id": "7c1d58be",
   "metadata": {},
   "source": [
    "Проблемът с този подход, е че трябва да гадаем на какво отговоря всеки от елементите на tuple-а. \n",
    "\n",
    "Python ни позволява да създадем т.нар. именувана n-торка (`namedtuple`). Този тип е подтип на `tuple`, но с избрано име от нас, и именувани член-данни.\n",
    "\n",
    "Можем да създадем `namedtuple` по следния начин:"
   ]
  },
  {
   "cell_type": "code",
   "execution_count": null,
   "id": "55b4b6cc",
   "metadata": {},
   "outputs": [
    {
     "name": "stdout",
     "output_type": "stream",
     "text": [
      "(2, 3)\n",
      "(2, 3)\n"
     ]
    }
   ],
   "source": [
    "from collections import namedtuple\n",
    "point = namedtuple('Point', ['x', 'y'])\n",
    "\n",
    "point_1 = Point(2, 3)\n",
    "\n",
    "print(f'({point_1.x}, {point_1.y})')\n",
    "print(point_1)"
   ]
  },
  {
   "cell_type": "markdown",
   "id": "2d1d95fe",
   "metadata": {},
   "source": [
    "Забелязваме, че `namedtuple` има предефиниран `__str__` и `__repr__` методи."
   ]
  },
  {
   "cell_type": "markdown",
   "id": "b7c6f8cc",
   "metadata": {},
   "source": [
    "## Pattern matching и `match` израза"
   ]
  },
  {
   "cell_type": "markdown",
   "id": "0bf92c97",
   "metadata": {},
   "source": [
    "Pattern matching-а (или шаблонното съпоствяне на български) е една от най-полезните функционалности в езиците за функционално програмиране. Тя ни позволява да проверяваме дали даден обект отговаря на даден шаблон, и да извличаме данни от него.\n",
    "\n",
    "В Python3.10 за първи път се появява възможността на pattern matching. Тя е реализирана чрез `match` израза."
   ]
  },
  {
   "cell_type": "markdown",
   "id": "8af52a17",
   "metadata": {},
   "source": [
    "Общият вид на `match` конструкцията изглежда по следния начин:\n",
    "\n",
    "```python\n",
    "match <обект>:\n",
    "    case <условие> <guard>:\n",
    "        тяло\n",
    "    case <условие2>:\n",
    "        тяло\n",
    "    case <условие3> <guard>:\n",
    "        тяло\n",
    "    ...\n",
    "```"
   ]
  },
  {
   "cell_type": "markdown",
   "id": "784cce85",
   "metadata": {},
   "source": [
    "### Прости примери"
   ]
  },
  {
   "cell_type": "markdown",
   "id": "84252d58",
   "metadata": {},
   "source": [
    "Нека напишем кратка програма калкулатор. Потребителят ще въведе две числа от клавиатурата и операция, която да се извърши."
   ]
  },
  {
   "cell_type": "code",
   "execution_count": null,
   "id": "a47bf65d",
   "metadata": {},
   "outputs": [
    {
     "name": "stdout",
     "output_type": "stream",
     "text": [
      "1 + 2 = 3\n"
     ]
    }
   ],
   "source": [
    "first_number = int(input('Enter the first number: '))\n",
    "second_number = int(input('Enter the second number: '))\n",
    "\n",
    "operation = input('Enter an operation (+, -, * or /)')\n",
    "\n",
    "match operation:\n",
    "    case '+':\n",
    "        result = first_number + second_number\n",
    "    case '-':\n",
    "        result = first_number - second_number\n",
    "    case '*':\n",
    "        result = first_number * second_number\n",
    "    case '/':\n",
    "        result = first_number / second_number\n",
    "    case _:\n",
    "        print('Operation not supported')\n",
    "\n",
    "print(f'{first_number} {operation} {second_number} = {result}')"
   ]
  },
  {
   "cell_type": "markdown",
   "id": "84d96f12",
   "metadata": {},
   "source": [
    "Какво се случва тук ? Прочитаме две числа и операция която да се извърши върху тях. След това подаваме операцията на `match` израза.\n",
    "\n",
    "Оттам, започваме да сравняваме `operation` с различните възможности. Ако `operation` съвпада с някой от `case`-овете, изпълняваме съответното тяло.\n",
    "\n",
    "Важна забележка - `_` винаги съвпада с всичко. Това ни позволява да си направим \"default\" клауза, която да се изпълни, ако няма друга която да се съвпада."
   ]
  },
  {
   "cell_type": "markdown",
   "id": "62bc13e3",
   "metadata": {},
   "source": [
    "На мястото на `<обект>` можем да поставим и обект от тип `tuple`:"
   ]
  },
  {
   "cell_type": "code",
   "execution_count": null,
   "id": "6d60be2c",
   "metadata": {},
   "outputs": [
    {
     "name": "stdout",
     "output_type": "stream",
     "text": [
      "Third case\n"
     ]
    }
   ],
   "source": [
    "numbers = (5, 3)\n",
    "\n",
    "\n",
    "match numbers:\n",
    "    case (1, 2):\n",
    "        print('First case')\n",
    "    case (3, 3):\n",
    "        print('Second case')\n",
    "    case (5, 3):\n",
    "        print('Third case')\n",
    "    case _:\n",
    "        print('Default case')"
   ]
  },
  {
   "cell_type": "markdown",
   "id": "40c1369f",
   "metadata": {},
   "source": [
    "Тук `numbers` се оценява спрямо всички възможни случаи. Първият който съвпада, е `(5, 3)`, и съответно се изпълнява тялото на съответния `case`."
   ]
  },
  {
   "cell_type": "markdown",
   "id": "5bb1398c",
   "metadata": {},
   "source": [
    "\n",
    "С помощта на `_` можем да укажем че не ни интересува конкретната стойност на даден елемент от tuple-а."
   ]
  },
  {
   "cell_type": "code",
   "execution_count": null,
   "id": "57b2bb3d",
   "metadata": {},
   "outputs": [
    {
     "name": "stdout",
     "output_type": "stream",
     "text": [
      "First case\n"
     ]
    }
   ],
   "source": [
    "numbers = (5, 3)\n",
    "\n",
    "match numbers:\n",
    "    case (5, _):\n",
    "        print('First case')\n",
    "    case (5, 3):\n",
    "        print('Second case')\n",
    "    case _:\n",
    "        print('Default case')"
   ]
  },
  {
   "cell_type": "markdown",
   "id": "f142c1d9",
   "metadata": {},
   "source": [
    "В тази ситуация, `match` изразът ще изпълни първия случай, защото той е първия който съвпада."
   ]
  },
  {
   "cell_type": "markdown",
   "id": "2a0e023b",
   "metadata": {},
   "source": [
    "### По-сложни примери"
   ]
  },
  {
   "cell_type": "markdown",
   "id": "693bc374",
   "metadata": {},
   "source": [
    "Силата на `match` израза идва в това какви изрази поддържа. Ще разгледаме някои от тях:"
   ]
  },
  {
   "cell_type": "markdown",
   "id": "56d97608",
   "metadata": {},
   "source": [
    "#### Or pattern"
   ]
  },
  {
   "cell_type": "code",
   "execution_count": null,
   "id": "59558f1d",
   "metadata": {},
   "outputs": [
    {
     "name": "stdout",
     "output_type": "stream",
     "text": [
      "First case\n"
     ]
    }
   ],
   "source": [
    "numbers = (5, 3)\n",
    "\n",
    "match numbers:\n",
    "    case (5, 3) | (2, 4):\n",
    "        print('First case')\n",
    "    case (5, 3):\n",
    "        print('Second case')\n",
    "    case _:\n",
    "        print('Default case')"
   ]
  },
  {
   "cell_type": "code",
   "execution_count": null,
   "id": "0da306a2",
   "metadata": {},
   "outputs": [
    {
     "name": "stdout",
     "output_type": "stream",
     "text": [
      "First case\n"
     ]
    }
   ],
   "source": [
    "numbers = (2, 4)\n",
    "\n",
    "match numbers:\n",
    "    case (5, 3) | (2, 4):\n",
    "        print('First case')\n",
    "    case (5, 3):\n",
    "        print('Second case')\n",
    "    case _:\n",
    "        print('Default case')"
   ]
  },
  {
   "cell_type": "markdown",
   "id": "9e396550",
   "metadata": {},
   "source": [
    "`or` pattern-ът ни позволява да сравняваме даден обект с няколко условия. Той се използва с `|` оператора.\n",
    "\n",
    "При сравнението се проверява дали подадения израз съвпада с първата или втората част от `case`-а."
   ]
  },
  {
   "cell_type": "markdown",
   "id": "f16124cf",
   "metadata": {},
   "source": [
    "#### As pattern"
   ]
  },
  {
   "cell_type": "markdown",
   "id": "8e0d5bdb",
   "metadata": {},
   "source": [
    "Ако искаме да проверим кое точно от pattern-ите съвпада, можем да използваме конструкцията `as`:"
   ]
  },
  {
   "cell_type": "code",
   "execution_count": null,
   "id": "169a81bc",
   "metadata": {},
   "outputs": [
    {
     "name": "stdout",
     "output_type": "stream",
     "text": [
      "First case: (5, 3)\n"
     ]
    }
   ],
   "source": [
    "numbers = (5, 3)\n",
    "\n",
    "match numbers:\n",
    "    case (5, 3) | (2, 4) as a:\n",
    "        print(f'First case: {a}')\n",
    "    case (5, 3):\n",
    "        print('Second case')\n",
    "    case _:\n",
    "        print('Default case')"
   ]
  },
  {
   "cell_type": "markdown",
   "id": "e8900862",
   "metadata": {},
   "source": [
    "Тук, след като `case`-а съвпадне, стойността на numbers ще бъде присвоена на `x`."
   ]
  },
  {
   "cell_type": "code",
   "execution_count": null,
   "id": "1ab1f6d6",
   "metadata": {},
   "outputs": [
    {
     "name": "stdout",
     "output_type": "stream",
     "text": [
      "First case: (2, 4)\n"
     ]
    }
   ],
   "source": [
    "numbers = (2, 4)\n",
    "\n",
    "match numbers:\n",
    "    case (5, 3) | (2, 4) as a:\n",
    "        print(f'First case: {a}')\n",
    "    case (5, 3):\n",
    "        print('Second case')\n",
    "    case _:\n",
    "        print('Default case')"
   ]
  },
  {
   "cell_type": "code",
   "execution_count": null,
   "id": "544bf904",
   "metadata": {},
   "outputs": [
    {
     "name": "stdout",
     "output_type": "stream",
     "text": [
      "First case: 2\n"
     ]
    }
   ],
   "source": [
    "numbers = (2, 4)\n",
    "\n",
    "match numbers:\n",
    "    case (2 as a, 4 as b):\n",
    "        print(f'First case: {a}')\n",
    "    case (5, 3):\n",
    "        print('Second case')\n",
    "    case _:\n",
    "        print('Default case')"
   ]
  },
  {
   "cell_type": "markdown",
   "id": "8621dfd3",
   "metadata": {},
   "source": [
    "#### Value pattern"
   ]
  },
  {
   "cell_type": "code",
   "execution_count": null,
   "id": "c3ba2f60",
   "metadata": {},
   "outputs": [
    {
     "name": "stdout",
     "output_type": "stream",
     "text": [
      "Result is 5.0\n"
     ]
    }
   ],
   "source": [
    "def divide(x, y):\n",
    "    if y == 0:\n",
    "        return None\n",
    "    \n",
    "    return x / y\n",
    "\n",
    "match divide(10, 2):\n",
    "    case None:\n",
    "        print('Division by zero')\n",
    "    case result:\n",
    "        print(f'Result is {result}')"
   ]
  },
  {
   "cell_type": "markdown",
   "id": "0faaaf06",
   "metadata": {},
   "source": [
    "Можем да сравняваме и спрямо конкретни стойности - можем да проверяваме дали даден обект е None, или някакъв друг литерал"
   ]
  },
  {
   "cell_type": "markdown",
   "id": "93b3f011",
   "metadata": {},
   "source": [
    "`type` pattern-ът ни позволява да сравняваме спрямо типа на дадения обект. В примера, функцията `divide(10, 2)` ще върне `int``, което ще се присвои на `result`."
   ]
  },
  {
   "cell_type": "markdown",
   "id": "64d193be",
   "metadata": {},
   "source": [
    "#### Sequence pattern"
   ]
  },
  {
   "cell_type": "code",
   "execution_count": null,
   "id": "8490bbde",
   "metadata": {},
   "outputs": [
    {
     "name": "stdout",
     "output_type": "stream",
     "text": [
      "Second case\n"
     ]
    }
   ],
   "source": [
    "numbers = [1, 2, 3, 4, 5]\n",
    "\n",
    "match numbers:\n",
    "    case [1, 2, 3]:\n",
    "        print('First case')\n",
    "    case [1, 2, 3, 4, 5]:\n",
    "        print('Second case')"
   ]
  },
  {
   "cell_type": "code",
   "execution_count": null,
   "id": "5843ce68",
   "metadata": {},
   "outputs": [
    {
     "name": "stdout",
     "output_type": "stream",
     "text": [
      "First case\n"
     ]
    }
   ],
   "source": [
    "numbers = [1, 2, 3, 4, 5]\n",
    "\n",
    "match numbers:\n",
    "    case [1, 2, 3, *rest]:\n",
    "        print('First case')\n",
    "    case [1, 2, 3, 4, 5]:\n",
    "        print('Second case')"
   ]
  },
  {
   "cell_type": "code",
   "execution_count": null,
   "id": "aa975aa9",
   "metadata": {},
   "outputs": [
    {
     "name": "stdout",
     "output_type": "stream",
     "text": [
      "First case, [3, 4]\n"
     ]
    }
   ],
   "source": [
    "numbers = [1, 2, 3, 4, 5]\n",
    "\n",
    "match numbers:\n",
    "    case [1, 2, *rest, 5]:\n",
    "        print(f'First case, {rest}')"
   ]
  },
  {
   "cell_type": "markdown",
   "id": "5a03cca4",
   "metadata": {},
   "source": [
    "### Guard-ове"
   ]
  },
  {
   "cell_type": "markdown",
   "id": "0567b3b2",
   "metadata": {},
   "source": [
    "`match` израза ни позволява да добавяме и условия, които да се проверяват след като съвпадне pattern-а (т.нар guard-ове).\n",
    "\n",
    "Те се добавят след шаблона в case частта."
   ]
  },
  {
   "cell_type": "code",
   "execution_count": null,
   "id": "e097fcf2",
   "metadata": {},
   "outputs": [
    {
     "name": "stdout",
     "output_type": "stream",
     "text": [
      "Default case\n"
     ]
    }
   ],
   "source": [
    "numbers = (5, 3)\n",
    "some_other_value = 42\n",
    "\n",
    "match numbers:\n",
    "    case (5, 3) if some_other_value % 2 != 0:\n",
    "        print('First case')\n",
    "    case _:\n",
    "        print('Default case')"
   ]
  },
  {
   "cell_type": "code",
   "execution_count": null,
   "id": "0c9dc963",
   "metadata": {},
   "outputs": [
    {
     "name": "stdout",
     "output_type": "stream",
     "text": [
      "First case\n"
     ]
    }
   ],
   "source": [
    "numbers = (5, 3)\n",
    "\n",
    "match numbers:\n",
    "    case (a, b) if a == 5:\n",
    "        print('First case')\n",
    "    case _:\n",
    "        print('Default case')"
   ]
  },
  {
   "cell_type": "markdown",
   "id": "b8d60e17",
   "metadata": {},
   "source": [
    "### Class pattern"
   ]
  },
  {
   "cell_type": "markdown",
   "id": "7100afca",
   "metadata": {},
   "source": [
    "Можем да прилагаме `match` върху инстанции на класове. За целта, трябва да подадем името на класа, последвани от стойностите за атрибутите му."
   ]
  },
  {
   "cell_type": "code",
   "execution_count": null,
   "id": "00bf21d7",
   "metadata": {},
   "outputs": [
    {
     "name": "stdout",
     "output_type": "stream",
     "text": [
      "Point at coordinates (2, 3, 4)\n"
     ]
    }
   ],
   "source": [
    "class Point:\n",
    "    def __init__(self, a, b, c):\n",
    "        self.x = a\n",
    "        self.y = b\n",
    "        self.z = c\n",
    "\n",
    "point = Point(2, 3, 4)\n",
    "\n",
    "match point:\n",
    "    case Point(x=0, y=0):\n",
    "        print(\"Point at the origin\")\n",
    "    case Point(x=x, y=0):\n",
    "        print(f\"Point on the x-axis at x={x}\")\n",
    "    case Point(x=0, y=y):\n",
    "        print(f\"Point on the y-axis at y={y}\")\n",
    "    case Point(x=x, y=y, z=z):\n",
    "        print(f\"Point at coordinates ({x}, {y}, {z})\")\n",
    "    case _:\n",
    "        print(\"Unknown point\")\n"
   ]
  },
  {
   "cell_type": "markdown",
   "id": "9bd1f44a",
   "metadata": {},
   "source": [
    "Забележете, че трябва да подадем експлицитно имената на атрибутите. Ако искаме да използваме позиционни аргументи, то това ще работи в две ситуации:\n",
    "\n",
    "1. Ако инстанцията е от тип `bool`, `bytearray`, `bytes`, `dict`, `float`, `frozenset`, `int`, `list`, `set`, `str`, `tuple`\n",
    "2. Ако сме предифинирали метода `__match_args__`.\n",
    "\n",
    "Повече за клас pattern-а, може да прочетете [тук](https://docs.python.org/3.11/reference/compound_stmts.html#class-patterns)"
   ]
  },
  {
   "cell_type": "markdown",
   "id": "2995d1c4",
   "metadata": {},
   "source": [
    "### Използване"
   ]
  },
  {
   "cell_type": "markdown",
   "id": "b7c51daa",
   "metadata": {},
   "source": [
    "Изпозването на `match` не е често срещано в Python. Макар и да е мощен, доста често може да бъде заместен с `if-else` блок. \n",
    "\n",
    "Ще покажем няколко примера за използването му, в които според нас има смисъл да се използва `match`."
   ]
  },
  {
   "cell_type": "markdown",
   "id": "2ef001dd",
   "metadata": {},
   "source": [
    "С помощта на match можем да напишем програма, която проверява дали дадена дума е палиндром."
   ]
  },
  {
   "cell_type": "code",
   "execution_count": null,
   "id": "b5d002dc",
   "metadata": {},
   "outputs": [],
   "source": [
    "def palindrome_with_match(word):\n",
    "    match word:\n",
    "        case [a, *word, b] if a == b:\n",
    "            return palindrome_with_match(word)\n",
    "        case [] | [_]:\n",
    "            return True\n",
    "        case _:\n",
    "            return False"
   ]
  },
  {
   "cell_type": "code",
   "execution_count": null,
   "id": "7189109a",
   "metadata": {},
   "outputs": [
    {
     "name": "stdout",
     "output_type": "stream",
     "text": [
      "Is \"aba\" palindrome ? True\n",
      "Is \"abab\" palindrome ? False\n",
      "Is \"tacocat\" palindrome ? True\n",
      "Is \"\" palindrome ? True\n",
      "Is \"a\" palindrome ? True\n"
     ]
    }
   ],
   "source": [
    "words = ['aba', 'abab', 'tacocat', '', 'a']\n",
    "\n",
    "for word in words:\n",
    "    print(f'Is \"{word}\" palindrome ? {palindrome_with_match(list(word))}')"
   ]
  },
  {
   "cell_type": "markdown",
   "id": "2a09f8de",
   "metadata": {},
   "source": [
    "Важно е да отбележим, че `match` не работи добре със `str`, затова се налага да превърнем думата в `list`."
   ]
  },
  {
   "cell_type": "markdown",
   "id": "b2469536",
   "metadata": {},
   "source": [
    "(Side-note) В Python можем да проверим дали даден низ е палиндром по следния начин: `word == word[::-1]`"
   ]
  },
  {
   "cell_type": "markdown",
   "id": "84a71e75",
   "metadata": {},
   "source": [
    "Друг пример е когато се налага да обработваме по-сложни колекции от данни:"
   ]
  },
  {
   "cell_type": "code",
   "execution_count": null,
   "id": "9293b9fd",
   "metadata": {},
   "outputs": [],
   "source": [
    "def handle_person(data):\n",
    "    match data:\n",
    "        case {\n",
    "            \"name\": {\"first\": first, \"last\": last},\n",
    "            \"age\": age,\n",
    "            \"address\": {\"city\": city, \"zip\": zip_code},\n",
    "            \"employment\": {\"position\": \"Manager\"}\n",
    "        }:\n",
    "            return f\"Manager {first} {last}, Age: {age}, City: {city}, Zip: {zip_code}\"\n",
    "        case {\n",
    "            \"name\": {\"first\": first, \"last\": last},\n",
    "            \"age\": age,\n",
    "            \"address\": {\"city\": city}\n",
    "        }:\n",
    "            return f\"{first} {last}, Age: {age}, City: {city}\"\n",
    "        case _:\n",
    "            return \"Unknown person format\""
   ]
  },
  {
   "cell_type": "code",
   "execution_count": null,
   "id": "b446a4f8",
   "metadata": {},
   "outputs": [
    {
     "name": "stdout",
     "output_type": "stream",
     "text": [
      "Manager Alice Johnson, Age: 42, City: New York, Zip: 10001\n",
      "Bob Smith, Age: 30, City: San Francisco\n",
      "Unknown person format\n"
     ]
    }
   ],
   "source": [
    "data_manager = {\n",
    "    \"name\": {\n",
    "        \"first\": \"Alice\",\n",
    "        \"last\": \"Johnson\"\n",
    "    },\n",
    "    \"age\": 42,\n",
    "    \"address\": {\n",
    "        \"city\": \"New York\",\n",
    "        \"zip\": \"10001\"\n",
    "    },\n",
    "    \"employment\": {\n",
    "        \"position\": \"Manager\",\n",
    "        \"company\": \"TechCorp\"\n",
    "    }\n",
    "}\n",
    "\n",
    "data_employee = {\n",
    "    \"name\": {\n",
    "        \"first\": \"Bob\",\n",
    "        \"last\": \"Smith\"\n",
    "    },\n",
    "    \"age\": 30,\n",
    "    \"address\": {\n",
    "        \"city\": \"San Francisco\"\n",
    "    }\n",
    "}\n",
    "data_unknown = {\n",
    "    \"first_name\": \"Charlie\",\n",
    "    \"age\": 25,\n",
    "    \"city\": \"Los Angeles\",\n",
    "    \"employment_status\": \"Unemployed\"\n",
    "}\n",
    "\n",
    "print(handle_person(data_manager))\n",
    "print(handle_person(data_employee))\n",
    "print(handle_person(data_unknown))"
   ]
  },
  {
   "cell_type": "markdown",
   "id": "d044ce18",
   "metadata": {},
   "source": [
    "Можем да използваме `match` и за валидация на типа на дадена променлива.\n",
    "\n",
    "В конкретният пример ще проверяваме дали подадената променлива е `int` или `str`. Ако е `str`, ще опитаме да я превърнем в `int`."
   ]
  },
  {
   "cell_type": "code",
   "execution_count": null,
   "id": "2b84e4a0",
   "metadata": {},
   "outputs": [
    {
     "name": "stdout",
     "output_type": "stream",
     "text": [
      "42\n",
      "5\n",
      "None\n"
     ]
    }
   ],
   "source": [
    "def extract_value(variable):\n",
    "    match variable:\n",
    "        case int():\n",
    "            return variable\n",
    "        case str() if variable.isnumeric():\n",
    "            return int(variable)\n",
    "        case _:\n",
    "            return None\n",
    "\n",
    "print(extract_value(\"42\"))\n",
    "print(extract_value(5))\n",
    "print(extract_value(\"asd\"))"
   ]
  },
  {
   "cell_type": "markdown",
   "id": "dbbbeb26",
   "metadata": {},
   "source": [
    "## Примери"
   ]
  },
  {
   "cell_type": "markdown",
   "id": "aef9bdb9",
   "metadata": {},
   "source": [
    "Нека разгледаме някои примери за функционално програмиране от живия живот"
   ]
  },
  {
   "cell_type": "markdown",
   "id": "7e90a26b",
   "metadata": {},
   "source": [
    "### Пример 1"
   ]
  },
  {
   "cell_type": "markdown",
   "id": "647b19e9",
   "metadata": {},
   "source": [
    "\n",
    "Нека е даден клас `Student` с полета `name`, `student_id_number`, `year`, `courses`, където `courses` е списък с курсове и оценки към тях, представени от класа `Course`.\n",
    "\n",
    "Да се напише функция, която приема списък от студенти, и връща списък, съдържащ номерата на студентите, които имат среден успех над 4.50."
   ]
  },
  {
   "cell_type": "code",
   "execution_count": null,
   "id": "4771645d",
   "metadata": {},
   "outputs": [],
   "source": [
    "class Course:\n",
    "    def __init__(self, name='', grade=2.0):\n",
    "        self.__name = name\n",
    "        self.__grade = grade\n",
    "    @property\n",
    "    def name(self):\n",
    "        return self.__name\n",
    "    \n",
    "    @property\n",
    "    def grade(self):\n",
    "        return self.__grade\n",
    "\n",
    "    @grade.setter\n",
    "    def grade(self, new_grade):\n",
    "        self.__grade = new_grade\n",
    "\n",
    "class Student:\n",
    "    def __init__(self, name, student_id_number, year):\n",
    "        self.__name = name\n",
    "        self.__student_id_number = student_id_number\n",
    "        self.__year = year\n",
    "        self.__courses = []\n",
    "    \n",
    "    @property\n",
    "    def name(self):\n",
    "        return self.__name\n",
    "\n",
    "    @property\n",
    "    def student_id_number(self):\n",
    "        return self.__student_id_number\n",
    "\n",
    "    @property\n",
    "    def year(self):\n",
    "        return self.__year\n",
    "\n",
    "    @property\n",
    "    def courses(self):\n",
    "        return self.__courses\n",
    "\n",
    "    def start_new_year(self):\n",
    "        self.__year += 1\n",
    "        self.__courses = []\n",
    "    \n",
    "    def add_new_course(self, course):\n",
    "        self.__courses.append(course)\n",
    "\n",
    "student_1 = Student('Ivan the Programmer', '12345', 1)\n",
    "student_1.add_new_course(Course('Algebra', 4.50))\n",
    "student_1.add_new_course(Course('Intro to programming', 6.00))\n",
    "student_1.add_new_course(Course('Geometry', 3.00))\n",
    "student_1.add_new_course(Course('Calculus', 2.00))\n",
    "\n",
    "student_2 = Student('Maria', '12346', 1)\n",
    "student_2.add_new_course(Course('Algebra', 5.75))\n",
    "student_2.add_new_course(Course('Intro to programming', 6.00))\n",
    "student_2.add_new_course(Course('Geometry', 6.00))\n",
    "student_2.add_new_course(Course('Calculus', 6.00))\n",
    "\n",
    "student_3 = Student('Gosho from break', '12347', 1)\n",
    "student_3.add_new_course(Course('Algebra', 2.00))\n",
    "student_3.add_new_course(Course('Intro to programming', 2.00))\n",
    "student_3.add_new_course(Course('Geometry', 2.00))\n",
    "student_3.add_new_course(Course('Calculus', 3.00))\n"
   ]
  },
  {
   "cell_type": "markdown",
   "id": "bc2523ee",
   "metadata": {},
   "source": [
    "#### Решение на Пример 1"
   ]
  },
  {
   "cell_type": "code",
   "execution_count": null,
   "id": "7fbbc06c",
   "metadata": {},
   "outputs": [
    {
     "name": "stdout",
     "output_type": "stream",
     "text": [
      "['Maria']\n"
     ]
    }
   ],
   "source": [
    "def average_grade(student):\n",
    "    grades = [course.grade for course in student.courses]\n",
    "    return sum(grades) / len(grades)\n",
    "\n",
    "def get_students_with_high_enough_grades(students):\n",
    "    target_grade = 4.50\n",
    "\n",
    "    return [student.name for student in students if average_grade(student) >= target_grade]\n",
    "\n",
    "all_students = [student_1, student_2, student_3]\n",
    "\n",
    "print(get_students_with_high_enough_grades(all_students))"
   ]
  },
  {
   "cell_type": "markdown",
   "id": "5f8400da",
   "metadata": {},
   "source": [
    "### Пример 2\n"
   ]
  },
  {
   "cell_type": "markdown",
   "id": "c73cc81d",
   "metadata": {},
   "source": [
    "Напишете декоратор, който \"защитава\" изпълнението на функция със специална супер секретна парола (например 'super_safe_password`). Нашият декоратор трябва да пита потребителя за парола. Ако въведената парола съвпада, изпълнява подадената функция. В противен случай, връща 'Invalid password'. "
   ]
  },
  {
   "cell_type": "markdown",
   "id": "2bdf2847",
   "metadata": {},
   "source": [
    "#### Решение на пример 2"
   ]
  },
  {
   "cell_type": "code",
   "execution_count": null,
   "id": "10c0e119",
   "metadata": {},
   "outputs": [],
   "source": [
    "def login_required(f):\n",
    "    def inner():\n",
    "        password = input('Please enter a password')\n",
    "        if password == 'super_safe_password':\n",
    "            result = f()\n",
    "        else:\n",
    "            result = 'Invalid password'\n",
    "        return result\n",
    "    return inner"
   ]
  },
  {
   "cell_type": "code",
   "execution_count": null,
   "id": "e3b825c7",
   "metadata": {},
   "outputs": [
    {
     "ename": "TypeError",
     "evalue": "inner() takes 0 positional arguments but 4 were given",
     "output_type": "error",
     "traceback": [
      "\u001b[0;31m---------------------------------------------------------------------------\u001b[0m\n",
      "\u001b[0;31mTypeError\u001b[0m                                 Traceback (most recent call last)\n",
      "Cell \u001b[0;32mIn [8], line 9\u001b[0m\n",
      "\u001b[1;32m      5\u001b[0m \u001b[38;5;129m@login_required\u001b[39m\n",
      "\u001b[1;32m      6\u001b[0m \u001b[38;5;28;01mdef\u001b[39;00m \u001b[38;5;21mfoo\u001b[39m(a, b, c, d):\n",
      "\u001b[1;32m      7\u001b[0m     \u001b[38;5;28;01mreturn\u001b[39;00m a \u001b[38;5;241m+\u001b[39m b \u001b[38;5;241m+\u001b[39m c \u001b[38;5;241m+\u001b[39m d\n",
      "\u001b[0;32m----> 9\u001b[0m \u001b[38;5;28mprint\u001b[39m(\u001b[43mfoo\u001b[49m\u001b[43m(\u001b[49m\u001b[38;5;241;43m2\u001b[39;49m\u001b[43m,\u001b[49m\u001b[43m \u001b[49m\u001b[38;5;241;43m3\u001b[39;49m\u001b[43m,\u001b[49m\u001b[43m \u001b[49m\u001b[38;5;241;43m4\u001b[39;49m\u001b[43m,\u001b[49m\u001b[43m \u001b[49m\u001b[38;5;241;43m5\u001b[39;49m\u001b[43m)\u001b[49m)\n",
      "\n",
      "\u001b[0;31mTypeError\u001b[0m: inner() takes 0 positional arguments but 4 were given"
     ]
    }
   ],
   "source": [
    "@login_required\n",
    "def get_super_secret_message(name):\n",
    "    return f'Hi, {name}. Your mission is to learn Python.'\n",
    "\n",
    "@login_required\n",
    "def foo(a, b, c, d):\n",
    "    return a + b + c + d\n",
    "\n",
    "print(foo(2, 3, 4, d=5))"
   ]
  },
  {
   "cell_type": "markdown",
   "id": "1976d26b",
   "metadata": {},
   "source": [
    "### Пример 3"
   ]
  },
  {
   "cell_type": "markdown",
   "id": "88e9ed69",
   "metadata": {},
   "source": [
    "`range` ни връща генератор, който ни дава числата в даден интервал. Нека разширим тази идея, и напишем генератор, който ни дава координатите в двумерно пространство при зададено начало и край.\n",
    "\n",
    "Пример: начало - (1, 1), край - (3, 4)\n",
    "\n",
    "Резултат: (1, 1), (1, 2), (1, 3), (2, 1), (2, 2), (2, 3)"
   ]
  },
  {
   "cell_type": "markdown",
   "id": "81ae632a",
   "metadata": {},
   "source": [
    "#### Решение на Пример 3"
   ]
  },
  {
   "cell_type": "code",
   "execution_count": null,
   "id": "b10d7a25",
   "metadata": {},
   "outputs": [
    {
     "name": "stdout",
     "output_type": "stream",
     "text": [
      "(1, 1)\n",
      "(1, 2)\n",
      "(1, 1)\n"
     ]
    }
   ],
   "source": [
    "def range_2d(start, end):\n",
    "    for i in range(start[0], end[0]):\n",
    "        for j in range(start[1], end[1]):\n",
    "            yield (i, j)\n",
    "\n",
    "# for coord in range_2d((1, 1), (3, 4)):\n",
    "#     print(coord)\n",
    "\n",
    "save = range_2d((1, 1), (3, 4))\n",
    "current = range_2d((1, 1), (3, 4))\n",
    "\n",
    "print(next(current))\n",
    "print(next(current))\n",
    "print(next(save))"
   ]
  },
  {
   "cell_type": "markdown",
   "id": "331fedfd",
   "metadata": {},
   "source": [
    "### Пример 4"
   ]
  },
  {
   "cell_type": "markdown",
   "id": "b1a3049b",
   "metadata": {},
   "source": [
    "Напишете функция `bind_countries_to_capitals`, която приема два списъка - списък с имена на държави и списък с имена на столици.\n",
    "Функцията трябва да върне речник, който съдържа държавите като ключове и съответните им столици като стойности. (приемаме, че на същия индекс на който е държавата стои и столицата ѝ в другия списък)"
   ]
  },
  {
   "cell_type": "markdown",
   "id": "9fff39af",
   "metadata": {},
   "source": [
    "#### Решение на пример 4"
   ]
  },
  {
   "cell_type": "code",
   "execution_count": null,
   "id": "a063ca83",
   "metadata": {},
   "outputs": [
    {
     "name": "stdout",
     "output_type": "stream",
     "text": [
      "{'Bulgaria': 'Sofia', 'Italy': 'Rome', 'Turkey': 'Ankara'}\n"
     ]
    }
   ],
   "source": [
    "def bind_countries_to_capitals(countries, capitals):\n",
    "    return dict(zip(countries, capitals))\n",
    "\n",
    "\n",
    "countries = ['Bulgaria', 'Italy', 'Turkey']\n",
    "capitals = ['Sofia', 'Rome', 'Ankara']\n",
    "\n",
    "result = bind_countries_to_capitals(countries, capitals)\n",
    "print(result)\n",
    "# {'Bulgaria': 'Sofia', 'Italy': 'Rome', 'Turkey': 'Ankara'}"
   ]
  },
  {
   "cell_type": "markdown",
   "id": "2ecec3a8",
   "metadata": {},
   "source": [
    "### Пример 5"
   ]
  },
  {
   "cell_type": "markdown",
   "id": "8e4c3ee5",
   "metadata": {},
   "source": [
    "#### Условие 1\n",
    "Даден е следният клас `RGB`, който моделира цвят в RGB формат:"
   ]
  },
  {
   "cell_type": "code",
   "execution_count": null,
   "id": "35a78b46",
   "metadata": {},
   "outputs": [],
   "source": [
    "class RGB:\n",
    "    def __init__(self, r, g, b):\n",
    "        \"\"\"Initialize the RGB class with the given values for red, green and blue.\n",
    "        Each value should be an integer between 0 and 255.\n",
    "        \"\"\"\n",
    "\n",
    "        if r < 0 or r > 255:\n",
    "            raise ValueError('Invalid red value')\n",
    "        if g < 0 or g > 255:\n",
    "            raise ValueError('Invalid green value')\n",
    "        if b < 0 or b > 255:\n",
    "            raise ValueError('Invalid blue value')\n",
    "\n",
    "        self._r = r\n",
    "        self._g = g\n",
    "        self._b = b\n",
    "\n",
    "    @property\n",
    "    def r(self):\n",
    "        return self._r\n",
    "\n",
    "    @property\n",
    "    def g(self):\n",
    "        return self._g\n",
    "\n",
    "    @property\n",
    "    def b(self):\n",
    "        return self._b\n",
    "\n",
    "    def to_hex(self):\n",
    "        return f'#{self.r:02X}{self.g:02X}{self.b:02X}'\n",
    "    \n",
    "    @classmethod\n",
    "    def from_hex(cls, hex):\n",
    "        r = int(hex[1:3], base=16)\n",
    "        g = int(hex[3:5], base=16)\n",
    "        b = int(hex[5:7], base=16)\n",
    "\n",
    "        return cls(r, g, b)\n",
    "        \n",
    "    def __repr__(self):\n",
    "        return f'RGB({self.r}, {self.g}, {self.b})'\n",
    "\n",
    "    def __eq__(self, other):\n",
    "        return self.r == other.r and self.g == other.g and self.b == other.b\n",
    "\n",
    "    def __hash__(self):\n",
    "        return hash((self.r, self.g, self.b))"
   ]
  },
  {
   "cell_type": "markdown",
   "id": "05c04904",
   "metadata": {},
   "source": [
    "Да се напишат функции `rgb_pallette_to_hex_str` и `hex_str_pallette_to_rgb`, които:\n",
    "\n",
    "* `rgb_pallette_to_hex_str`: конвертира лист от цветове като `RGB` до лист от `str` (цветовете във формат `#RRGGBB`, където `RR`, `GG`, `BB` са сътответно стойностите на червеното, зеленото и синьото в шестнадесетична бройна система)\n",
    "* `hex_str_pallete_to_rgb`: конвертира лист от `str` в горепосочения hex формат (case-insensitive!) и връща лист от `RGB` обекти (цветовете в RGB формат)\n",
    "\n",
    "***Hint 1***: съществуват начини в `str.format` или `f-string`-овете да се специфицират колко цифри и в каква бройна система да се използват при форматиране на числа\n",
    "\n",
    "***Hint 2***: разгледайте всички варианти на конструиране на `int` по даден `str`"
   ]
  },
  {
   "cell_type": "code",
   "execution_count": null,
   "id": "49b5b4bf",
   "metadata": {},
   "outputs": [
    {
     "name": "stdout",
     "output_type": "stream",
     "text": [
      "['#FF00FF']\n",
      "[RGB(255, 0, 255)]\n"
     ]
    }
   ],
   "source": [
    "def rgb_pallette_to_hex_str(colors):\n",
    "    return [color.to_hex() for color in colors]\n",
    "\n",
    "colors = [RGB(255, 0, 255)]\n",
    "\n",
    "def hex_pallette_to_rgb(hex_colors):\n",
    "    return [RGB.from_hex(hex_color) for hex_color in hex_colors]\n",
    "\n",
    "result = rgb_pallette_to_hex_str(colors)\n",
    "print(result)\n",
    "\n",
    "print(hex_pallette_to_rgb(result))"
   ]
  },
  {
   "cell_type": "markdown",
   "id": "bb053590",
   "metadata": {},
   "source": [
    "#### Условие 2\n",
    "\n",
    "Нека имаме и имена за някои от цветовете:"
   ]
  },
  {
   "cell_type": "code",
   "execution_count": null,
   "id": "47780f20",
   "metadata": {},
   "outputs": [],
   "source": [
    "PALLETTE = {\n",
    "    RGB(255, 255, 255): 'white',\n",
    "    RGB(0, 0, 0): 'black',\n",
    "    RGB(255, 0, 0): 'red',\n",
    "    RGB(0, 255, 0): 'green',\n",
    "    RGB(0, 0, 255): 'blue',\n",
    "    RGB(69, 69, 69): \"the 51st shade of grey\",\n",
    "}"
   ]
  },
  {
   "cell_type": "code",
   "execution_count": null,
   "id": "409235b9",
   "metadata": {},
   "outputs": [],
   "source": [
    "hex_colors = [\"#696969\", \"#00FF00\", \"#AAAAAA\"]\n",
    "\n",
    "def extract_only_named_colors(hex_colors):\n",
    "    # 1. Convert hex to RGB objects\n",
    "    # 2. Check if each RGB object is in Pallette\n",
    "    # 3. Return the names those who are in Pallette\n",
    "\n",
    "    rgb_objects = hex_pallette_to_rgb(hex_colors)\n",
    "    filtered_objects = [rgb_object for rgb_object in rgb_objects if rgb_object in PALLETTE]\n",
    "    names_of_filtered_objects = [PALLETTE[filtered_object] for filtered_object in filtered_objects]\n",
    "\n",
    "    return names_of_filtered_objects"
   ]
  },
  {
   "cell_type": "markdown",
   "id": "38fa4fbb",
   "metadata": {},
   "source": [
    "Да се напише функция `extract_only_named_colors` по подаден списък от цветове във формат `#RRGGBB` връща списък от имената им (само на тези, които присъстват в `PALLETTE` - другите се игнорират)."
   ]
  },
  {
   "cell_type": "markdown",
   "id": "61ececbb",
   "metadata": {},
   "source": [
    "### Пример 6"
   ]
  },
  {
   "cell_type": "markdown",
   "id": "4d4d85f6",
   "metadata": {},
   "source": [
    "Рефакторирайте долния код така, че да съответства на функционалния стил на програмиране:"
   ]
  },
  {
   "cell_type": "code",
   "execution_count": null,
   "id": "09bf3b63",
   "metadata": {},
   "outputs": [
    {
     "name": "stdout",
     "output_type": "stream",
     "text": [
      "| *** Hello world *** |\n",
      "| <<< Hello world >>> |\n"
     ]
    }
   ],
   "source": [
    "class PrettyPrint:\n",
    "    def __init__(self):\n",
    "        self.__border = '|'\n",
    "        self.__content = ''\n",
    "        self.__prefix = '***'\n",
    "        self.__suffix = '***'\n",
    "\n",
    "    def pretty_print(self):\n",
    "        return f'{self.__border} {self.__prefix} {self.__content} {self.__suffix} {self.__border}'\n",
    "\n",
    "    @property\n",
    "    def border(self):\n",
    "        return self.__border\n",
    "\n",
    "    @border.setter\n",
    "    def border(self, new_border):\n",
    "        self.__border = new_border\n",
    "\n",
    "    @property\n",
    "    def content(self):\n",
    "        return self.__content\n",
    "\n",
    "    @content.setter\n",
    "    def content(self, new_content):\n",
    "        self.__content = new_content\n",
    "\n",
    "    @property\n",
    "    def prefix(self):\n",
    "        return self.__prefix\n",
    "\n",
    "    @prefix.setter\n",
    "    def prefix(self, new_prefix):\n",
    "        self.__prefix = new_prefix\n",
    "\n",
    "    @property\n",
    "    def suffix(self):\n",
    "        return self.__suffix\n",
    "\n",
    "    @suffix.setter\n",
    "    def suffix(self, new_suffix):\n",
    "        self.__suffix = new_suffix\n",
    "\n",
    "pretty_printer = PrettyPrint()\n",
    "\n",
    "pretty_printer.content = 'Hello world'\n",
    "print(pretty_printer.pretty_print())\n",
    "\n",
    "pretty_printer.prefix = '<<<'\n",
    "pretty_printer.suffix = '>>>'\n",
    "print(pretty_printer.pretty_print())"
   ]
  },
  {
   "cell_type": "code",
   "execution_count": null,
   "id": "f16bdbbd",
   "metadata": {},
   "outputs": [
    {
     "name": "stdout",
     "output_type": "stream",
     "text": [
      "| 666 Hell world 666 |\n"
     ]
    }
   ],
   "source": [
    "def pretty_print(content, border='|', prefix='666', suffix='666'):\n",
    "    return f'{border} {prefix} {content} {suffix} {border}'\n",
    "\n",
    "print(pretty_print('Hell world'))"
   ]
  },
  {
   "cell_type": "markdown",
   "id": "572d61a0",
   "metadata": {},
   "source": [
    "### Пример 7"
   ]
  },
  {
   "cell_type": "markdown",
   "id": "aaca555a",
   "metadata": {},
   "source": [
    "Направете преводач от кирилица към \"шльокавица\".\n",
    "\n",
    "Нека приемем, че азбуката на шльокавицата e A, B, V, G, D, E, J, Z, I, Y, K, L, M, N, O, P, R, S, T, U, F, H, C, 4, 6, 6T, U, Y, YU, Q."
   ]
  },
  {
   "cell_type": "markdown",
   "id": "4cba62f4",
   "metadata": {},
   "source": [
    "### Пример 8"
   ]
  },
  {
   "cell_type": "markdown",
   "id": "f1dfde22",
   "metadata": {},
   "source": [
    "Напишете собствена версия на `enumerate`. Тя трябва да приема като аргументи колекцията, по която ще итерираме, както и незадължителен аргумент `start` (=0)."
   ]
  },
  {
   "cell_type": "code",
   "execution_count": null,
   "id": "fb7be585",
   "metadata": {},
   "outputs": [],
   "source": [
    "def my_enumerate(collection, start=0):\n",
    "    pass"
   ]
  },
  {
   "cell_type": "markdown",
   "id": "31c06131",
   "metadata": {},
   "source": [
    "# Data Structures & Oddities"
   ]
  },
  {
   "cell_type": "markdown",
   "id": "811da26f",
   "metadata": {},
   "source": [
    "Структурите от данни са класове и обекти с интерфейс чрез който ги използваме, като се абстрахираме от имплементацията им.\n",
    "\n",
    "Алгоритмите са генерализирани процедури (парчета код/функции) които решават даден проблем (изпълняват дадена задача).\n",
    "\n",
    "Oddities са модули на Python, които нямат място в друга тема, но са интересни за решаването на проблеми."
   ]
  },
  {
   "cell_type": "markdown",
   "id": "1a5b32b6",
   "metadata": {},
   "source": [
    "## Str\n",
    "\n",
    "`str` е поредица от символи. Ще разгледаме:\n",
    "\n",
    "- [str](https://docs.python.org/3/library/stdtypes.html#text-sequence-type-str) методи и\n",
    "- [string](https://docs.python.org/3/library/string.html) често употребявани константи\n",
    "\n",
    "Стринговете в Python са immutable -> Повечето операции са $O(n)$"
   ]
  },
  {
   "cell_type": "code",
   "execution_count": null,
   "id": "fecc4909",
   "metadata": {},
   "outputs": [
    {
     "name": "stdout",
     "output_type": "stream",
     "text": [
      "🐍 is awesomeͤͤͤͤͤ\n"
     ]
    }
   ],
   "source": [
    "# Python speaks   UTF-8 :) https://en.wikipedia.org/wiki/UTF-8\n",
    "s = '🐍 is awesomeͤͤͤͤͤ'\n",
    "print(s)\n"
   ]
  },
  {
   "cell_type": "code",
   "execution_count": null,
   "id": "95bbcdf8",
   "metadata": {},
   "outputs": [
    {
     "name": "stdout",
     "output_type": "stream",
     "text": [
      "{букви} = alphabetic\n",
      "{числа} = digit\n",
      "{числа, букви} = alpha-numeric\n",
      "{малки букви} = lowercase\n",
      "{големи букви} = uppercase\n",
      "{празни символи} = space\n"
     ]
    }
   ],
   "source": [
    "if 'самобукви'.isalpha():\n",
    "    print('{букви} = alphabetic')\n",
    "\n",
    "# Можем ли да конвертираме стринга до int?\n",
    "if '1232367457'.isdigit():\n",
    "    print('{числа} = digit')\n",
    "\n",
    "# Бърза проверка дали работим с дума или изречение (изречението има паузи и символи)\n",
    "if '1283912873andLetters'.isalnum():\n",
    "    print('{числа, букви} = alpha-numeric')\n",
    "\n",
    "# Трябва ли да пишем код който разбира от главни букви?\n",
    "if 'малкибукви'.islower():\n",
    "    print('{малки букви} = lowercase')\n",
    "\n",
    "if 'ГОЛЕМИБУКВИ'.isupper():\n",
    "    print('{големи букви} = uppercase')\n",
    "\n",
    "# Използваме при разбиване на стрингове - if space : do X else do Y\n",
    "if '\\t\\n  '.isspace():\n",
    "    print('{празни символи} = space')\n"
   ]
  },
  {
   "cell_type": "code",
   "execution_count": null,
   "id": "77161e9b",
   "metadata": {},
   "outputs": [
    {
     "name": "stdout",
     "output_type": "stream",
     "text": [
      "s започва с '🐍 is'\n",
      "is е на индекс 2\n",
      "'e' се среща 2 пъти\n"
     ]
    }
   ],
   "source": [
    "s = '🐍 is awesomeͤͤͤͤͤ'\n",
    "\n",
    "if s.endswith('e'):\n",
    "    print('s завършва на e')  # eͤͤͤ != e\n",
    "\n",
    "if s.startswith('🐍 is'):\n",
    "    print(\"s започва с '🐍 is'\")\n",
    "\n",
    "print('is е на индекс', s.find('is'))  # Индекс по символ, не по байт\n",
    "\n",
    "print(\"'e' се среща\", s.count('e'), 'пъти')\n"
   ]
  },
  {
   "cell_type": "markdown",
   "id": "00793b03",
   "metadata": {},
   "source": [
    "Библиотеката `string` предоставя някои удобни константи"
   ]
  },
  {
   "cell_type": "code",
   "execution_count": null,
   "id": "af7e4e60",
   "metadata": {},
   "outputs": [
    {
     "name": "stdout",
     "output_type": "stream",
     "text": [
      "all letters: abcdefghijklmnopqrstuvwxyzABCDEFGHIJKLMNOPQRSTUVWXYZ\n",
      "all lowercase: abcdefghijklmnopqrstuvwxyz\n",
      "all digits as a string: 0123456789\n",
      "all symbols: !\"#$%&'()*+,-./:;<=>?@[\\]^_`{|}~\n",
      "all whitespaces:  \t\n",
      "\u000b\f b' \\t\\n\\r\\x0b\\x0c'\n"
     ]
    }
   ],
   "source": [
    "import string\n",
    "\n",
    "# Вместо да хардкодваме \"abcdef...\"\n",
    "print('all letters:', string.ascii_letters)\n",
    "print('all lowercase:', string.ascii_lowercase)\n",
    "print('all digits as a string:', string.digits)\n",
    "print('all symbols:', string.punctuation)\n",
    "print('all whitespaces:', string.whitespace, string.whitespace.encode())\n"
   ]
  },
  {
   "cell_type": "markdown",
   "id": "7849266f",
   "metadata": {},
   "source": [
    "## Int\n",
    "\n",
    "Python няма ограничение за големината на int (C++ long long има ограничение $2^{63}-1$). Но операциите с големи числа са бавни - не са $O(1)$, а $O(log(number)) = O(number\\;of\\;digits)$\n",
    "\n",
    "Когато стойността надвиши $2^{63}-1$ числата се обръщат в BigInt.\n",
    "\n",
    "[https://www.codementor.io/@arpitbhayani/how-python-implements-super-long-integers-12icwon5vk](https://www.codementor.io/@arpitbhayani/how-python-implements-super-long-integers-12icwon5vk)"
   ]
  },
  {
   "cell_type": "code",
   "execution_count": null,
   "id": "f3dbf09b",
   "metadata": {},
   "outputs": [
    {
     "name": "stdout",
     "output_type": "stream",
     "text": [
      "CPU times: user 4.23 s, sys: 22.9 ms, total: 4.25 s\n",
      "Wall time: 4.27 s\n"
     ]
    }
   ],
   "source": [
    "%%time\n",
    "\n",
    "result = 1\n",
    "for x in range(1, 100000):\n",
    "    result *= x\n",
    "# Същият код на C++ минава за total: 0.001 s.\n",
    "# Но не връща верен отговор :)\n"
   ]
  },
  {
   "cell_type": "code",
   "execution_count": null,
   "id": "53976465",
   "metadata": {},
   "outputs": [
    {
     "name": "stdout",
     "output_type": "stream",
     "text": [
      "3.1428571428571428571428571428571428571428571428571428571\n"
     ]
    }
   ],
   "source": [
    "# За по голяма прицизност може да използваме `decimal` модула\n",
    "# По дефолт има прецизност 28 знака след запетаята,\n",
    "# но може да му дадем повече :)\n",
    "from decimal import *\n",
    "getcontext().prec = 56\n",
    "print(Decimal(22) / Decimal(7))\n"
   ]
  },
  {
   "cell_type": "markdown",
   "id": "cd800f28",
   "metadata": {},
   "source": [
    "## Math"
   ]
  },
  {
   "cell_type": "code",
   "execution_count": null,
   "id": "14a7832f",
   "metadata": {},
   "outputs": [
    {
     "name": "stdout",
     "output_type": "stream",
     "text": [
      "Закръгляне на горе 2.2 -> 3\n",
      "Закръгляне на долу 2.7 -> 2\n",
      "Преброяване на битовете на числото 257 = 9\n",
      "Преброяване на цифрите на числото 14532 = 5\n",
      "Най-голям общ делител на 35 и 15 = 5\n",
      "Можем да смятаме inverse елемента по модул 15^-1 mod 26 = 7\n",
      "N choose K -> 10 choose 2 = 45\n"
     ]
    }
   ],
   "source": [
    "import math\n",
    "\n",
    "print('Закръгляне нагоре 2.2 ->', math.ceil(2.2))\n",
    "print('Закръгляне надолу 2.7 ->', math.floor(2.7))\n",
    "\n",
    "# Може да правим побитово итериране на  числото\n",
    "print('Преброяване на битовете на числото 257 =', math.ceil(math.log2(257)))\n",
    "# Полезно при построяване на Trie/radix sort/заделяне на hashmap\n",
    "print('Преброяване на цифрите на числото 14532 =', math.ceil(math.log10(14532)))\n",
    "\n",
    "# Математически важни функции\n",
    "print('Най-голям общ делител на 35 и 15 =', math.gcd(35, 15))\n",
    "print('Можем да смятаме inverse елемента по модул 15^-1 mod 26 =', pow(15, -1, 26))\n",
    "\n",
    "# Комбинаторика (често се среща в задачи, но има и други)\n",
    "print('N choose K -> 10 choose 2 =', math.comb(10, 2))\n"
   ]
  },
  {
   "cell_type": "markdown",
   "id": "cb89985b",
   "metadata": {},
   "source": [
    "`math` модулът има още много функции на които няма да се спираме, защото не се използват често:\n",
    "- Тригонометрични функции\n",
    "- Хиперболични функции\n",
    "- Гама функция\n",
    "- Конвертиране между градуси и радиани\n",
    "- Други"
   ]
  },
  {
   "cell_type": "markdown",
   "id": "2661a026",
   "metadata": {},
   "source": [
    "## List\n",
    "\n",
    "Саморазширяващ се списък/масив от елементи. Въпреки името list, структурата е динамичен масив, а не свързан списък."
   ]
  },
  {
   "cell_type": "code",
   "execution_count": null,
   "id": "66b08538",
   "metadata": {},
   "outputs": [
    {
     "name": "stdout",
     "output_type": "stream",
     "text": [
      "Списък с 10 елемента: [0, 0, 0, 0, 0, 0, 0, 0, 0, 0]\n",
      "Празен списък: []\n",
      "До момента имаме: [-2, -1, 1]\n",
      "Може да обърнем списъка [1, -1, -2]\n",
      "И да го сортираме [-2, -1, 1]\n",
      "pop премахва последния елемент и го връща [-2, -1] 1\n"
     ]
    }
   ],
   "source": [
    "arr = [0] * 10  # инициализиране на списък с 10 елемента O(n)\n",
    "print('Списък с 10 елемента:', arr)\n",
    "\n",
    "arr = list()  # празен списък O(1)\n",
    "arr.clear()  # O(1) еквивалентно на ' = list()'\n",
    "print('Празен списък:', arr)\n",
    "\n",
    "# O(1*) за разлика от конкатенацията на стрингове ('abc' + 'd') която е O(n)\n",
    "arr.append(1)\n",
    "arr.insert(0, -1)  # O(n)\n",
    "arr = [-2] + arr  # O(n) еквивалентно на горното АКО елементите НЕ СА list\n",
    "print('До момента имаме:', arr)\n",
    "\n",
    "arr.reverse()  # O(n)\n",
    "print('Може да обърнем списъка', arr)\n",
    "\n",
    "arr.sort()  # O(n * log n)\n",
    "print('И да го сортираме', arr)\n",
    "\n",
    "last_element = arr.pop()  # O(1)\n",
    "print('pop премахва последния елемент и го връща', arr, last_element)\n"
   ]
  },
  {
   "cell_type": "markdown",
   "id": "c1020768",
   "metadata": {},
   "source": [
    "## Array \n",
    "\n",
    "`array` предоставя по-ефективно използване на паметта от `list`. Повече прилича на стандартните масиви в други езици. Добавянето на елемент в края на `array` е $O(1)$.\n",
    "\n",
    "Има същите функционалности като `list`.\n",
    "\n",
    "При инициализиране трябва да окажем типа на елементите в списъка.\n",
    "\n",
    "Ако се е стигнало до използване на по-оптимизирани структури в Python най-добре да използваме някоя библиотека като `numpy`."
   ]
  },
  {
   "cell_type": "code",
   "execution_count": null,
   "id": "d8b089c6",
   "metadata": {},
   "outputs": [],
   "source": [
    "%%capture\n",
    "# %%capture is a jupyter instruction to hide output\n",
    "from array import array\n",
    "\n",
    "array('l')  # array<32 bit int>\n",
    "array('u', 'hello \\u2641')  # array<unicode character>\n",
    "array('d', [1.0, 2.0, 3.14])  # array<double>\n",
    "array('I', [1, 2, 3])  # array<unsigned 16 bit int>\n"
   ]
  },
  {
   "cell_type": "markdown",
   "id": "7b3d4644",
   "metadata": {},
   "source": [
    "## Dict\n",
    "\n",
    "`dict` е питонската имплементация на Hash-Table. Повечето операции с `dict` са $O(1)$. Изключение правят операциите за обработка на всички елементи, които са $O(n)$.\n",
    "\n",
    "Елементите на `dict` са `key`-`value` (ключ - стойност). Ключът задължително трябва да е от тип, който може да се хешира, стойността може да е всякаква.\n",
    "\n",
    "Забележка: Казваме, че операциите са $O(1)$, но всъщност зависят от размера на ключа. Обикновено ключовете са малки по размер в паметта и за това на повечето места в литературата се казва че операциите са $O(1)$, но ако ключовете ни са стрингове с дължина 100,000 символа, то сложността на операциите не е точно $O(1)$ :)"
   ]
  },
  {
   "cell_type": "code",
   "execution_count": null,
   "id": "18b4f352",
   "metadata": {},
   "outputs": [
    {
     "name": "stdout",
     "output_type": "stream",
     "text": [
      "dict с 1 елемент my_dict = {'is big': 'not'}\n",
      "празен dict след като изтрихме ключа \"is big\" my_dict = {}\n"
     ]
    },
    {
     "ename": "KeyError",
     "evalue": "'non-existent key'",
     "output_type": "error",
     "traceback": [
      "\u001b[0;31m---------------------------------------------------------------------------\u001b[0m\n",
      "\u001b[0;31mKeyError\u001b[0m                                  Traceback (most recent call last)\n",
      "Cell \u001b[0;32mIn [19], line 10\u001b[0m\n",
      "\u001b[1;32m      7\u001b[0m \u001b[39mprint\u001b[39m(\u001b[39m'\u001b[39m\u001b[39mпразен dict след като изтрихме ключа \u001b[39m\u001b[39m\"\u001b[39m\u001b[39mis big\u001b[39m\u001b[39m\"\u001b[39m\u001b[39m'\u001b[39m, \u001b[39mf\u001b[39m\u001b[39m'\u001b[39m\u001b[39m{\u001b[39;00mmy_dict \u001b[39m= }\u001b[39;00m\u001b[39m'\u001b[39m)\n",
      "\u001b[1;32m      8\u001b[0m \u001b[39m# Ако се опитаме да достъпим или изтрием ключ който не\u001b[39;00m\n",
      "\u001b[1;32m      9\u001b[0m \u001b[39m# съществува ще гръмнем с KeyError\u001b[39;00m\n",
      "\u001b[0;32m---> 10\u001b[0m \u001b[39mdel\u001b[39;00m my_dict[\u001b[39m'\u001b[39m\u001b[39mnon-existent key\u001b[39m\u001b[39m'\u001b[39m]\n",
      "\n",
      "\u001b[0;31mKeyError\u001b[0m: 'non-existent key'"
     ]
    }
   ],
   "source": [
    "my_dict = {}  # Инициализираме празен dict\n",
    "my_dict = dict()  # dict() == {}\n",
    "\n",
    "my_dict['is big'] = 'not'\n",
    "print('dict с 1 елемент', f'{my_dict = }')\n",
    "del my_dict['is big']  # del изтрива елемент\n",
    "print('празен dict след като изтрихме ключа \"is big\"', f'{my_dict = }')\n",
    "# Ако се опитаме да достъпим или изтрием ключ който не\n",
    "# съществува ще гръмнем с KeyError\n",
    "del my_dict['non-existent key']\n"
   ]
  },
  {
   "cell_type": "code",
   "execution_count": null,
   "id": "0c8db109",
   "metadata": {},
   "outputs": [
    {
     "name": "stdout",
     "output_type": "stream",
     "text": [
      "for x in dict: ['Gosho na pochivka', 'Gosho na fmi']\n",
      "for x in dict.keys(): ['Gosho na pochivka', 'Gosho na fmi']\n",
      "for x in dict.values(): [25, 11001]\n",
      "for x in dict.items(): [('Gosho na pochivka', 25), ('Gosho na fmi', 11001)]\n"
     ]
    }
   ],
   "source": [
    "# Итериране по dict\n",
    "person_age = {\n",
    "    'Gosho na pochivka': 25,\n",
    "    'Gosho na fmi': 11001,\n",
    "}\n",
    "\n",
    "result = []\n",
    "for x in person_age:  # == .keys()\n",
    "    result.append(x)\n",
    "print('for x in dict:', result)\n",
    "\n",
    "result = []\n",
    "for x in person_age.keys():\n",
    "    result.append(x)\n",
    "print('for x in dict.keys():', result)\n",
    "\n",
    "result = []\n",
    "for x in person_age.values():\n",
    "    result.append(x)\n",
    "print('for x in dict.values():', result)\n",
    "\n",
    "result = []\n",
    "for x in person_age.items():\n",
    "    result.append(x)\n",
    "print('for x in dict.items():', result)\n"
   ]
  },
  {
   "cell_type": "code",
   "execution_count": null,
   "id": "22e4fe87",
   "metadata": {},
   "outputs": [
    {
     "name": "stdout",
     "output_type": "stream",
     "text": [
      "{'ami': 'nali ne mojelo da se promenq e bai xy*', 'pari': 'nali ne mojelo da se promenq e bai xy*', 'nema': 'nali ne mojelo da se promenq e bai xy*'}\n"
     ]
    },
    {
     "ename": "RuntimeError",
     "evalue": "dictionary changed size during iteration",
     "output_type": "error",
     "traceback": [
      "\u001b[0;31m---------------------------------------------------------------------------\u001b[0m\n",
      "\u001b[0;31mRuntimeError\u001b[0m                              Traceback (most recent call last)\n",
      "Cell \u001b[0;32mIn [21], line 13\u001b[0m\n",
      "\u001b[1;32m      9\u001b[0m     palindromes[x] \u001b[39m=\u001b[39m \u001b[39m'\u001b[39m\u001b[39mnali ne mojelo da se promenq e bai xy*\u001b[39m\u001b[39m'\u001b[39m\n",
      "\u001b[1;32m     11\u001b[0m \u001b[39mprint\u001b[39m(palindromes)\n",
      "\u001b[0;32m---> 13\u001b[0m \u001b[39mfor\u001b[39;00m x \u001b[39min\u001b[39;00m palindromes:\n",
      "\u001b[1;32m     14\u001b[0m     \u001b[39mdel\u001b[39;00m palindromes[x]\n",
      "\n",
      "\u001b[0;31mRuntimeError\u001b[0m: dictionary changed size during iteration"
     ]
    }
   ],
   "source": [
    "# По време на итериране не е позволено да променяме dict\n",
    "palindromes = {\n",
    "    'ami': 'ima',\n",
    "    'pari': 'irap',\n",
    "    'nema': 'amen',\n",
    "}\n",
    "\n",
    "for x in palindromes:\n",
    "    palindromes[x] = 'nali ne mojelo da se promenq e bai xy*'\n",
    "\n",
    "print(palindromes)\n",
    "\n",
    "for x in palindromes:\n",
    "    del palindromes[x]  # промяна върху ключовете не работи :(\n"
   ]
  },
  {
   "cell_type": "code",
   "execution_count": null,
   "id": "f2f12997",
   "metadata": {},
   "outputs": [
    {
     "name": "stdout",
     "output_type": "stream",
     "text": [
      "въпреки грешката на предишната стъпка изтрихме 1 ключ (на рандъм) {'pari': 'nali ne mojelo da se promenq e bai xy*', 'nema': 'nali ne mojelo da se promenq e bai xy*'}\n",
      "{'nema': 'shte si napravq moi dict togava'}\n"
     ]
    }
   ],
   "source": [
    "print('въпреки грешката на предишната стъпка изтрихме 1 ключ (на рандъм)', palindromes)\n",
    "\n",
    "# Тъй като не може да променяме dict докато итерираме ще трябва да създадем нов\n",
    "changed = {k: 'shte si napravq moi dict togava'\n",
    "           for k, _ in palindromes.items() if k != 'pari'}\n",
    "print(changed)\n"
   ]
  },
  {
   "cell_type": "code",
   "execution_count": null,
   "id": "b084fa9c",
   "metadata": {},
   "outputs": [],
   "source": [
    "# Задача\n",
    "\n",
    "my_list = [1,2,3,4,5]\n",
    "my_dict = {1:'a', 2:'b', 3:'c', 4:'d', 5:'e'}\n",
    "\n",
    "# Коя операция е по-бърза\n",
    "if 4 in my_list:\n",
    "    print('list')\n",
    "if 4 in my_dict:\n",
    "    print('dict')\n",
    "\n",
    "\"\"\"Изпълни клетката за хинт\"\"\"\n",
    "import base64\n",
    "print(base64.b64decode(\n",
    "    '0J7Qv9C10YDQsNGC0L7RgNGK0YIgaW4g0LLRitGA'\n",
    "    '0YXRgyBsaXN0INC1IE8obiksINCwINCy0YrRgNGF'\n",
    "    '0YMgZGljdCDQtSBPKDEqKQ=='.encode()).decode())\n"
   ]
  },
  {
   "cell_type": "markdown",
   "id": "d9a75ade",
   "metadata": {},
   "source": [
    "### Defaultdict\n",
    "\n",
    "`defaultdict` живее в модула `collections`. Има същата функционалност като `dict`, но при инициализация трябва да окажем от какъв тип ще са стойностите. При достъпване на ключ, който не съществува, ще се създаде ключа и стойност - дефолтен обект от типа, който задаваме при инициализация.\n",
    "\n",
    "Обикновено го използваме за удобство - не е нужно да проверяваме дали стойността зад някой ключ е инициализирана."
   ]
  },
  {
   "cell_type": "code",
   "execution_count": null,
   "id": "7d1bc25c",
   "metadata": {},
   "outputs": [
    {
     "name": "stdout",
     "output_type": "stream",
     "text": [
      "defaultdict(<class 'list'>, {})\n",
      "дори само с достъпване на ключа създаваме дефолтен обект defaultdict(<class 'list'>, {'what': []})\n"
     ]
    },
    {
     "data": {
      "text/plain": [
       "defaultdict(list,\n",
       "            {'t': [0, 11],\n",
       "             'h': [1],\n",
       "             'i': [2, 5, 13],\n",
       "             's': [3, 6, 10],\n",
       "             ' ': [4, 7, 9],\n",
       "             'a': [8],\n",
       "             'r': [12],\n",
       "             'n': [14],\n",
       "             'g': [15]})"
      ]
     },
     "metadata": {},
     "output_type": "display_data"
    }
   ],
   "source": [
    "from collections import defaultdict\n",
    "\n",
    "my_default_dict = defaultdict(list)\n",
    "print(my_default_dict)\n",
    "my_default_dict['what']\n",
    "print('дори само с достъпване на ключа създаваме дефолтен обект', my_default_dict)\n",
    "\n",
    "del my_default_dict['what']\n",
    "for index, char in enumerate('this is a string'):\n",
    "    my_default_dict[char].append(index)  # Това ще изгърми с нормален dict\n",
    "\n",
    "my_default_dict\n"
   ]
  },
  {
   "cell_type": "code",
   "execution_count": null,
   "id": "ef7e5e59",
   "metadata": {},
   "outputs": [],
   "source": [
    "# Задача (advanced)\n",
    "# Как може да имплементираме Trie чрез defaultdict\n",
    "\n",
    "import base64\n",
    "print(base64.b64decode(\n",
    "    'ZGVmIHRyaWUoKToKICAgIHJldHVybi'\n",
    "    'BkZWZhdWx0ZGljdCh0cmllKQo='.encode()).decode())\n"
   ]
  },
  {
   "cell_type": "markdown",
   "id": "29fa6e20",
   "metadata": {},
   "source": [
    "### Counter\n",
    "\n",
    "`Counter` е още един под-клас на `dict`. При инициализация може да се подаде колекция (или друг обект който може да се итерира и елементите му могат да се хешират), която бива итерирана и елементите ѝ се преброяват.\n",
    "Елементите на колекцията стават ключове, а стойностите са колко пъти даден елемент е срещнат в колекцията."
   ]
  },
  {
   "cell_type": "code",
   "execution_count": null,
   "id": "7e0930a9",
   "metadata": {},
   "outputs": [
    {
     "data": {
      "text/plain": [
       "Counter({'s': 3,\n",
       "         't': 6,\n",
       "         'r': 2,\n",
       "         'i': 5,\n",
       "         'n': 3,\n",
       "         'g': 1,\n",
       "         ' ': 6,\n",
       "         \"'\": 2,\n",
       "         'a': 2,\n",
       "         'c': 2,\n",
       "         'o': 2,\n",
       "         'l': 3,\n",
       "         'e': 3,\n",
       "         ',': 1,\n",
       "         'b': 2,\n",
       "         'u': 1})"
      ]
     },
     "metadata": {},
     "output_type": "display_data"
    }
   ],
   "source": [
    "from collections import Counter\n",
    "\n",
    "Counter('string isn\\'t a collection, but it\\'s iterable')\n"
   ]
  },
  {
   "cell_type": "code",
   "execution_count": null,
   "id": "d1cf531c",
   "metadata": {},
   "outputs": [],
   "source": [
    "# Задача\n",
    "# Напишете функция която извежда най-често срещаните букви на даден стринг\n",
    "\n",
    "import base64\n",
    "print(base64.b64decode(\n",
    "    'ZGVmIGNvdW50KHMpOgogICAgY291bnRzID0gbGl'\n",
    "    'zdChDb3VudGVyKHMpLml0ZW1zKCkpCiAgICBjb3'\n",
    "    'VudHMuc29ydChrZXk9bGFtYmRhIHg6IC14WzFdK'\n",
    "    'QogICAgcHJpbnQoY291bnRzKQo='.encode()).decode())\n"
   ]
  },
  {
   "cell_type": "markdown",
   "id": "509ada2d",
   "metadata": {},
   "source": [
    "## Set\n",
    "\n",
    "`set` е `dict`, който има само ключове, стойностите не ни интересуват. Добавяне/премахване/проверка дали елемент е в сет-а се случва за $O(1)$\n",
    "\n",
    "`set` се използва по-рядко от `dict`, и основно за да намерим уникалните елементи на колекция."
   ]
  },
  {
   "cell_type": "code",
   "execution_count": null,
   "id": "169ac65e",
   "metadata": {},
   "outputs": [
    {
     "name": "stdout",
     "output_type": "stream",
     "text": [
      "инициализация от колекция {1, 2, 3}\n",
      "елемент, който вече е в сета няма да се добави отново {1, 2, 3}\n",
      "Може да обединим 2 сета {1, 2, 3, 4}\n",
      "Може да вземем само общите елементи {2, 3}\n",
      "Може да вземем елементите които не са общи {1, 4}\n",
      "Може да проверим дали даден елемент е в сета: 5 in [1,2,3]? False\n"
     ]
    }
   ],
   "source": [
    "uniques = set()  # няма по-кратък начин за инициализране на сет, както {} за dict\n",
    "# Може директно да го инициализираме от колекция\n",
    "uniques = set([1, 2, 3, 3, 3, 3, 3, 3])\n",
    "print('инициализация от колекция', uniques)\n",
    "\n",
    "uniques.add(1)  # добавяме елемент\n",
    "print('елемент, който вече е в сета няма да се добави отново', uniques)\n",
    "\n",
    "print('Може да обединим 2 сета', set([1, 2, 3]).union(set([2, 3, 4])))\n",
    "print('Може да вземем само общите елементи', set([1, 2, 3]) & set([2, 3, 4]))\n",
    "print('Може да вземем елементите които не са общи',\n",
    "      set([1, 2, 3]) ^ set([2, 3, 4]))\n",
    "print('Може да проверим дали даден елемент е в сета: 5 in [1,2,3]?', 5 in set(\n",
    "    [1, 2, 3]))\n"
   ]
  },
  {
   "cell_type": "code",
   "execution_count": null,
   "id": "a55a0014",
   "metadata": {},
   "outputs": [],
   "source": [
    "# Задача: колко различни букви са използвани в следния стринг\n",
    "# 'The quick brown fox jumps over the lazy dog'\n",
    "\n",
    "import base64\n",
    "print(base64.b64decode(\n",
    "    'bGVuKHNldCgKICAgICdUaGUgcXVpY2sgYnJvd24gZm9'\n",
    "    '4IGp1bXBzIG92ZXIgdGhlIGxhenkgZG9nJwogICAgLm'\n",
    "    'xvd2VyKCkKICAgIC5yZXBsYWNlKCcgJywgJycpCikpC'\n",
    "    'g=='.encode()).decode())\n"
   ]
  },
  {
   "cell_type": "markdown",
   "id": "c720a0bd",
   "metadata": {},
   "source": [
    "### Frozenset\n",
    "\n",
    "`frozenset` = immutable `set`. Immutability носи плюсове и минуси:\n",
    "- (+) може да хешираме сета (да го използваме като ключ в `dict` или да го добавим в друг `set`)\n",
    "- (-) не може да го променяме (да добавяме/премахваме елементи)"
   ]
  },
  {
   "cell_type": "code",
   "execution_count": null,
   "id": "ae3dabea",
   "metadata": {},
   "outputs": [
    {
     "ename": "TypeError",
     "evalue": "unhashable type: 'set'",
     "output_type": "error",
     "traceback": [
      "\u001b[0;31m---------------------------------------------------------------------------\u001b[0m\n",
      "\u001b[0;31mTypeError\u001b[0m                                 Traceback (most recent call last)\n",
      "Cell \u001b[0;32mIn [26], line 1\u001b[0m\n",
      "\u001b[0;32m----> 1\u001b[0m my_dict \u001b[39m=\u001b[39m {\n",
      "\u001b[1;32m      2\u001b[0m     \u001b[39mset\u001b[39m([\u001b[39m1\u001b[39m, \u001b[39m2\u001b[39m, \u001b[39m3\u001b[39m]): \u001b[39m'\u001b[39m\u001b[39msets are unhashable, trust me\u001b[39m\u001b[39m'\u001b[39m,\n",
      "\u001b[1;32m      3\u001b[0m }\n",
      "\n",
      "\u001b[0;31mTypeError\u001b[0m: unhashable type: 'set'"
     ]
    }
   ],
   "source": [
    "my_dict = {\n",
    "    set([1, 2, 3]): 'sets are unhashable, trust me',\n",
    "}\n"
   ]
  },
  {
   "cell_type": "code",
   "execution_count": null,
   "id": "6ab67cf8",
   "metadata": {},
   "outputs": [
    {
     "data": {
      "text/plain": [
       "{frozenset({1, 2, 3}): 'my password',\n",
       " frozenset({'a',\n",
       "            'c',\n",
       "            'e',\n",
       "            'h',\n",
       "            'r',\n",
       "            's',\n",
       "            't'}): 'ако подадем string, ще конструираме set от буквите'}"
      ]
     },
     "metadata": {},
     "output_type": "display_data"
    }
   ],
   "source": [
    "numbers = set([1, 2, 3])\n",
    "\n",
    "my_dict = {\n",
    "    frozenset(numbers): 'my password',\n",
    "    frozenset('characters'): 'ако подадем string, ще конструираме set от буквите'\n",
    "}\n",
    "my_dict\n"
   ]
  },
  {
   "cell_type": "markdown",
   "id": "94458c72",
   "metadata": {},
   "source": [
    "## Stack\n",
    "\n",
    "`stack` (стак/стек) е LIFO (Last In First Out) структура, която ни позволява бърз достъп до последния добавен елемент. В Python няма клас `Stack`, защото `list` има всички необходими методи.\n",
    "\n",
    "![](https://i.imgur.com/IDr4JQL.png)"
   ]
  },
  {
   "cell_type": "code",
   "execution_count": null,
   "id": "19af25e0",
   "metadata": {},
   "outputs": [
    {
     "name": "stdout",
     "output_type": "stream",
     "text": [
      "Сумата на първите 10 елемента е:  945\n"
     ]
    }
   ],
   "source": [
    "stack = []\n",
    "for x in range(100):\n",
    "    stack.append(x)\n",
    "\n",
    "first10 = 0\n",
    "for i in range(10):\n",
    "    first10 += stack.pop()  # Достъп до последния елемент е О(1)\n",
    "\n",
    "print('Сумата на първите 10 елемента е: ', first10)  # sum(100 до 90) = 945\n"
   ]
  },
  {
   "cell_type": "markdown",
   "id": "abaa17d3",
   "metadata": {},
   "source": [
    "## Queue\n",
    "\n",
    "`queue` е thread-safe имплементация на опашка (FIFO). Може да я създадем с ограничен размер `Queue(maxsize=42)` - ако се напълни и се пробваме да добавим нов елемент ще се блокира нишката. `maxsize=0` означава че няма лимит и ще се разширява докато имаме памет.\n",
    "\n",
    "Ако работим в multithreaded среда, то операциите като `qsize()`, `empty()`, `full()` и повечето други нямат гаранции, че връщат винаги точен резултат. Резултатът е близък до точен, но няма гаранция.\n",
    "\n",
    "Пример: Ако имаме опашка която е пълна и от 1 нишка извикаме `full()` докато се изпълнява `full` може някоя друга нишка да извика `get()` и да премахне елемент - съответно ще получим `True` когато трябва да е `False`.\n",
    "\n",
    "![](https://i.imgur.com/c8rMyYo.png)\n"
   ]
  },
  {
   "cell_type": "code",
   "execution_count": null,
   "id": "5b0f5ce9",
   "metadata": {},
   "outputs": [
    {
     "name": "stdout",
     "output_type": "stream",
     "text": [
      "Елементите ги борим с qsize:  100\n",
      "Сумата на всички елементи е:  4950\n",
      "Сумата на първите 10 елемента е:  45\n"
     ]
    }
   ],
   "source": [
    "import queue\n",
    "\n",
    "que = queue.Queue()\n",
    "for x in range(100):\n",
    "    que.put(x)\n",
    "\n",
    "print('Елементите ги борим с qsize: ', que.qsize())\n",
    "\n",
    "total = 0\n",
    "while not que.empty():  # Работим на 1 нишка така че това е детерминистично\n",
    "    total += que.get()\n",
    "\n",
    "print('Сумата на всички елементи е: ', total)\n",
    "\n",
    "for x in range(100):\n",
    "    que.put(x)\n",
    "\n",
    "first10 = 0\n",
    "for i in range(10):\n",
    "    first10 += que.get()\n",
    "\n",
    "print('Сумата на първите 10 елемента е: ', first10)  # sum(1 до 10) = 45\n"
   ]
  },
  {
   "cell_type": "markdown",
   "id": "837a8bd5",
   "metadata": {},
   "source": [
    "## PriorityQueue\n",
    "\n",
    "Какво правим ако искаме опашка, но елементите да са поддедени по някакъв приоритет, не по реда в който ги добавяме? - тадаа `PriorityQueue` 🎉\n",
    "\n",
    "`PriorityQueue` предоставя добавяне/премахване на елемент за $O(logn)$ и достъп до най-малкия елемент за $O(1)$."
   ]
  },
  {
   "cell_type": "code",
   "execution_count": null,
   "id": "0628e977",
   "metadata": {},
   "outputs": [
    {
     "name": "stdout",
     "output_type": "stream",
     "text": [
      "Разбъркваме числата с random.shuffle() [1, 9, 7, 4, 10, 2, 6, 3, 5, 8]\n",
      "Данните не са подредени в реда в който ги добавяме, но 1 винаги е в началото: [1, 3, 2, 4, 8, 7, 6, 9, 5, 10]\n",
      "Приоритетната опашка връща елементите от най-малък към най-голям [1, 2, 3]\n"
     ]
    }
   ],
   "source": [
    "import queue\n",
    "import random\n",
    "\n",
    "numbers = list(range(1, 11))  # [1, 2, ... 10]\n",
    "random.shuffle(numbers)\n",
    "print('Разбъркваме числата с random.shuffle()', numbers)\n",
    "\n",
    "que = queue.PriorityQueue()\n",
    "for x in numbers:\n",
    "    que.put(x)\n",
    "print('Данните не са подредени в реда в който ги добавяме, но 1 винаги е в началото:',\n",
    "      que.queue)\n",
    "\n",
    "top3 = []\n",
    "for i in range(3):\n",
    "    top3.append(que.get())\n",
    "\n",
    "print('Приоритетната опашка връща елементите от най-малък към най-голям', top3)\n"
   ]
  },
  {
   "cell_type": "markdown",
   "id": "4e4eb2ca",
   "metadata": {},
   "source": [
    "За съжаление не е възможно да използваме custom функция за сравнение за да направим Max Heap.\n",
    "\n",
    "Има 2 начина да решим такава задача, единият е да създаваме клас, който да имплементира `__lt__`/`__gt__`, и `__eq__`.\n",
    "Вторият ще разгледаме в следващата клетка.\n",
    "\n",
    "But you know - if you like it hard I won't stop you - https://stackoverflow.com/questions/57487170/is-it-possible-to-pass-a-comparator-to-a-priorityqueue-in-python"
   ]
  },
  {
   "cell_type": "markdown",
   "id": "e9f3c36f",
   "metadata": {},
   "source": [
    "## heapq\n",
    "\n",
    "`heapq` предоставя основните методи за работа с приоритетни опашки поотделно. Тоест, не е нужно да ползваме цялата функционалност на `PriorityQueue`, а може да използваме само 1 от методите - например `heapq.heapify`.\n",
    "\n",
    "tl;dr как работи приоритетна опашка?\n",
    "\n",
    "1. Ковертираме произволен масив до `heapq.heapify()` $O(n)$\n",
    "2. Ако искаме да добавим елемент използваме `heapq.heappush()` $O(log n)$\n",
    "3. Ако искаме да извадим елемент използваме `heapq.heappop()` $O(log n)$"
   ]
  },
  {
   "cell_type": "code",
   "execution_count": null,
   "id": "11382bd8",
   "metadata": {},
   "outputs": [
    {
     "name": "stdout",
     "output_type": "stream",
     "text": [
      "Разбъркваме числата с random.shuffle() [4, 2, 9, 5, 3, 8, 1, 7, 10, 6]\n",
      "Данните не са подредени в реда в който ги вкарваме, но 1 винаги е в началото: [1, 2, 4, 5, 3, 8, 9, 7, 10, 6]\n",
      "0 винаги е в началото: [0, 1, 4, 5, 2, 8, 9, 7, 10, 6, 3]\n",
      "Приоритетната опашка връща елементите от най-малък към най-голям [0, 1, 2]\n"
     ]
    }
   ],
   "source": [
    "import heapq\n",
    "import random\n",
    "\n",
    "numbers = list(range(1, 11))  # [1, 2, ... 10]\n",
    "random.shuffle(numbers)\n",
    "print('Разбъркваме числата с random.shuffle()', numbers)\n",
    "\n",
    "heapq.heapify(numbers)  # по-бързо от добавянето на елементи 1 по 1\n",
    "print('Данните не са подредени в реда в който ги вкарваме, но 1 винаги е в началото:',\n",
    "      numbers)\n",
    "\n",
    "# Добавянето на нов по-малък елемент ще го постави в началото\n",
    "heapq.heappush(numbers, 0)\n",
    "print('0 винаги е в началото:', numbers)\n",
    "\n",
    "top3 = []\n",
    "for i in range(3):\n",
    "    top3.append(heapq.heappop(numbers))\n",
    "\n",
    "print('Приоритетната опашка връща елементите от най-малък към най-голям', top3)\n"
   ]
  },
  {
   "cell_type": "markdown",
   "id": "3db608aa",
   "metadata": {},
   "source": [
    "## deque\n",
    "\n",
    "Ако ни трябва опашка + стек, тоест искаме $O(1*)$ за добавяне/премахване на елемент в началото използваме `deque`. Обикновено се имплементира върху Circular Array."
   ]
  },
  {
   "cell_type": "code",
   "execution_count": null,
   "id": "209e0b74",
   "metadata": {},
   "outputs": [
    {
     "name": "stdout",
     "output_type": "stream",
     "text": [
      "deque(['опашка ли съм', '¿?', 'ʞǝꓕɔ иѵи'])\n",
      "deque(['у лево', 'опашка ли съм', '¿?', 'ʞǝꓕɔ иѵи', 'у десно', 'у десно (1)'])\n",
      "последният елемент за О(1): у десно (1)\n",
      "първият елемент за О(1): у лево\n"
     ]
    }
   ],
   "source": [
    "from collections import deque\n",
    "\n",
    "deq = deque(['опашка ли съм', 'ʞǝꓕɔ иѵи'])\n",
    "deq.insert(1, '¿?')  # Добавянето на елемент на произволна позиция е О(n)\n",
    "print(deq)\n",
    "\n",
    "deq.append('у десно')\n",
    "deq.append('у десно (1)')\n",
    "deq.appendleft('у лево')\n",
    "\n",
    "print(deq)\n",
    "print('последният елемент за О(1):', deq.pop())\n",
    "print('първият елемент за О(1):', deq.popleft())\n"
   ]
  },
  {
   "cell_type": "code",
   "execution_count": null,
   "id": "2c7737f4",
   "metadata": {},
   "outputs": [],
   "source": [
    "# Интересно приложение на deque е имплементирането на round robin\n",
    "def roundrobin(*iterables):\n",
    "    \"roundrobin('ABC', 'D', 'EF') --> A D E B F C\"\n",
    "    iterators = deque(map(iter, iterables))\n",
    "    while iterators:\n",
    "        try:\n",
    "            while True:\n",
    "                yield next(iterators[0])\n",
    "                iterators.rotate(-1)\n",
    "        except StopIteration:\n",
    "            iterators.popleft()\n"
   ]
  },
  {
   "cell_type": "code",
   "execution_count": null,
   "id": "e4c2807b",
   "metadata": {},
   "outputs": [],
   "source": [
    "# Задача\n",
    "# Имаме следната имплементация на BFS. Как може да я обърнем до DFS?\n",
    "\n",
    "from collections import deque\n",
    "\n",
    "graph = {\n",
    "    'A': ['B', 'C'],\n",
    "    'B': ['D', 'E'],\n",
    "    'C': ['F'],\n",
    "    'D': [],\n",
    "    'E': ['F'],\n",
    "    'F': []\n",
    "}\n",
    "\n",
    "def bfs(graph, start):\n",
    "  visited = set()\n",
    "  que = deque()\n",
    "  visited.add(start)\n",
    "  que.append(start)\n",
    "\n",
    "  while que:\n",
    "    s = que.popleft()\n",
    "    print(s, end=\" \")\n",
    "\n",
    "    for neighbor in graph[s]:\n",
    "      if neighbor not in visited:\n",
    "        visited.add(neighbor)\n",
    "        que.append(neighbor)\n",
    "\n",
    "print(base64.b64decode('0JfQsNC80LXQvdGP0LzQsCBkZXF1ZS5wb3BsZWZ0KCk'\n",
    "  'g0YEgZGVxdWUucG9wKCk='.encode()).decode())\n"
   ]
  },
  {
   "cell_type": "markdown",
   "id": "fe2a4ba0",
   "metadata": {},
   "source": [
    "## Algorithms & Oddities"
   ]
  },
  {
   "cell_type": "markdown",
   "id": "d74348c2",
   "metadata": {},
   "source": [
    "## Binary Search\n",
    "\n",
    "Бързо ($O(logn)$) търсене в сортиран масив.\n",
    "\n",
    "`bisect_left` = кой е първият индекс на който може да поставим елемента, за да се запази подредбата?\n",
    "\n",
    "`bisect_right` = кой е последният индекс на който може да поставим елемента, за да се запази подредбата?"
   ]
  },
  {
   "cell_type": "code",
   "execution_count": null,
   "id": "5f35c64f",
   "metadata": {},
   "outputs": [
    {
     "name": "stdout",
     "output_type": "stream",
     "text": [
      "Ако елемента съществува, връща индекса на първото срещане 3\n",
      "Ако елемента съществува, връща първия индекс след последното срещане 7\n",
      "Ако елемента не съществува, връща индекса на първото срещане 7\n",
      "Ако елемента не съществува, връща първия индекс след последното срещане 7\n"
     ]
    }
   ],
   "source": [
    "import bisect\n",
    "numbers = [0, 1, 2, 4, 4, 4, 4, 7, 8, 9]\n",
    "#          0  1  2  3  4  5  6  7  8  9\n",
    "\n",
    "print('Ако елемента съществува, връща индекса на първото срещане',\n",
    "      bisect.bisect_left(numbers, 4))\n",
    "print('Ако елемента съществува, връща първия индекс след последното срещане',\n",
    "      bisect.bisect_right(numbers, 4))\n",
    "\n",
    "print('Ако елемента не съществува, връща индекса на първото срещане',\n",
    "      bisect.bisect_left(numbers, 5))\n",
    "print('Ако елемента не съществува, връща първия индекс след последното срещане',\n",
    "      bisect.bisect_right(numbers, 5))\n"
   ]
  },
  {
   "cell_type": "code",
   "execution_count": null,
   "id": "c6330897",
   "metadata": {},
   "outputs": [],
   "source": [
    "# Задача\n",
    "# В сортиран list от числа, напишете функция, която намира броя на срещанията на някое число\n",
    "\n",
    "print(base64.b64decode('ZGVmIGNvdW50X29jY3VycmVuY2VzKGhh'\n",
    "    'eXN0YWNrLCBuZWVkbGUpOgogICAgYmlzZWN0LmJpc2VjdF9yaWd'\n",
    "    'odChoYXlzdGFjaywgbmVlZGxlKSAtIGJpc2VjdC5iaXNlY3RfbG'\n",
    "    'VmdChoYXlzdGFjaywgbmVlZGxlKQo='.encode()).decode())\n"
   ]
  },
  {
   "cell_type": "markdown",
   "id": "f5ee1917",
   "metadata": {},
   "source": [
    "## Copy & Deepcopy\n",
    "\n",
    "Python подава аргументите на функциите по референция, така че може да ги променяме. Това не е винаги желаното поведение, така че Python предоставя 2 метода за копиране да обекти.\n"
   ]
  },
  {
   "cell_type": "code",
   "execution_count": null,
   "id": "6e1362bc",
   "metadata": {},
   "outputs": [],
   "source": [
    "from copy import copy, deepcopy\n",
    "\n",
    "def reset_tree():\n",
    "    return {\n",
    "        'value': 'parent',\n",
    "        'child': {\n",
    "            'value': 'child',\n",
    "        }\n",
    "    }\n"
   ]
  },
  {
   "cell_type": "code",
   "execution_count": null,
   "id": "00561dd1",
   "metadata": {},
   "outputs": [
    {
     "name": "stdout",
     "output_type": "stream",
     "text": [
      "{'value': 'parent', 'child': {'value': 'super child'}}\n",
      "{'value': 'parent', 'child': {'value': 'super child'}}\n",
      "Когато подаваме елемент по референция във функцията работим със същия елемент\n",
      "id(tree) = 4399790912 == id(same) = 4399790912\n"
     ]
    }
   ],
   "source": [
    "def level_up(root):\n",
    "    tree = root  # Това не прави нищо, само преименува променливата\n",
    "    tree['child']['value'] = 'super child'\n",
    "    return tree\n",
    "\n",
    "tree = reset_tree()\n",
    "same = level_up(tree)\n",
    "print(tree)\n",
    "print(same)\n",
    "print('Когато подаваме елемент по референция във функцията работим със същия елемент')\n",
    "print(f'{id(tree) = } == {id(same) = }')\n"
   ]
  },
  {
   "cell_type": "code",
   "execution_count": null,
   "id": "be31740f",
   "metadata": {},
   "outputs": [
    {
     "name": "stdout",
     "output_type": "stream",
     "text": [
      "{'value': 'parent', 'child': {'value': 'super child'}}\n",
      "{'value': 'parent', 'child': {'value': 'super child'}}\n",
      "(shallow) copy копира обекта, но не копира обектите в него\n",
      "id(tree) = 4698146048 != id(same_but_different_but_same) = 4698275328\n"
     ]
    }
   ],
   "source": [
    "def level_up_swallow(root):\n",
    "    tree = copy(root)\n",
    "    tree['child']['value'] = 'super child'\n",
    "    return tree\n",
    "\n",
    "tree = reset_tree()\n",
    "same_but_different_but_same = level_up_swallow(tree)\n",
    "print(tree)\n",
    "print(same_but_different_but_same)\n",
    "print('(shallow) copy копира обекта, но не копира обектите в него')\n",
    "print(f'{id(tree) = } != {id(same_but_different_but_same) = }')\n"
   ]
  },
  {
   "cell_type": "code",
   "execution_count": null,
   "id": "6b92698c",
   "metadata": {},
   "outputs": [
    {
     "name": "stdout",
     "output_type": "stream",
     "text": [
      "{'value': 'parent', 'child': {'value': 'child'}}\n",
      "{'value': 'parent', 'child': {'value': 'super child'}}\n",
      "deepcopy създава копие, на обекта и рекурсивно на обектите в него\n",
      "id(tree) = 4698416960 != id(different) = 4698412800\n"
     ]
    }
   ],
   "source": [
    "def level_up_deep(root):\n",
    "    tree = deepcopy(root)\n",
    "    tree['child']['value'] = 'super child'\n",
    "    return tree\n",
    "\n",
    "tree = reset_tree()\n",
    "different = level_up_deep(tree)\n",
    "print(tree)\n",
    "print(different)\n",
    "print('deepcopy създава копие, на обекта и рекурсивно на обектите в него')\n",
    "print(f'{id(tree) = } != {id(different) = }')\n"
   ]
  },
  {
   "cell_type": "markdown",
   "id": "e780dfcc",
   "metadata": {},
   "source": [
    "## Random\n",
    "\n",
    "`random` модулът предоставя методи за избиране на случаен елемент, случайно число, случайни битове и тн.\n",
    "\n",
    "Обикновено се използва за тестове (генериране на вход/изход).\n",
    "\n",
    "За криптографски задачи (криптиране на данни, пароли, генериране на токени и тн), не трябва да се\n",
    "използва `random`, а `secrets` модула. За да не навлизаме в разликите, нека да кажем че `secrets` генерира\n",
    "по-рандъм изход от `random` модула :)"
   ]
  },
  {
   "cell_type": "code",
   "execution_count": null,
   "id": "4deda82f",
   "metadata": {},
   "outputs": [
    {
     "data": {
      "text/plain": [
       "82"
      ]
     },
     "metadata": {},
     "output_type": "display_data"
    }
   ],
   "source": [
    "import random\n",
    "\n",
    "# random модулът може да приеме начална стойност, която се използва\n",
    "# в рандъм алгоритмите, за да върне детерминистичен изход.\n",
    "# Обикновено се използва за да може даден експеримент/тест да се репродуцира\n",
    "random.seed(42)\n",
    "\n",
    "# Това е рандъм число, но заради seed = 42, винаги ще върне 82 в този notebook\n",
    "random.randint(1, 100)\n"
   ]
  },
  {
   "cell_type": "code",
   "execution_count": null,
   "id": "e768b1f8",
   "metadata": {},
   "outputs": [
    {
     "name": "stdout",
     "output_type": "stream",
     "text": [
      "рандъм float 0.11133106816568039\n",
      "randint [0,1]: 1\n",
      "randrange [0,1) не е много рандъм: 0\n",
      "Епа кот дойде: fuck\n",
      "Понякога рандъм изборът не е много рандъм ['boiko']\n",
      "shuffle: [8, 3, 6, 7, 1, 4, 5, 10, 9, 2]\n",
      "Избор на 2 елемента без повторения: [7, 9]\n"
     ]
    }
   ],
   "source": [
    "import random\n",
    "\n",
    "print('рандъм float', random.random())\n",
    "\n",
    "print('randint [0,1]:', random.randint(0, 1))\n",
    "# Някои методи в random работят със затворени, някой с отворени интервали.\n",
    "# Добре е да се провери преди използването им\n",
    "print('randrange [0,1) не е много рандъм:', random.randrange(0, 1))\n",
    "# randrange(a,b) = randint(a,b-1)\n",
    "\n",
    "# Ако имаме колекция от елементи може да използваме choice, за да изберем произволен\n",
    "# Алтернативният метод е да използваме random.randrange(0, len(collection))\n",
    "print('Епа кот дойде:', random.choice(['fuck', 'marry', 'kill']))\n",
    "\n",
    "# Може да задаваме и тежести - 50% ще е първият елемент, 25% втория и 25% третия\n",
    "print('Понякога рандъм изборът не е много рандъм',\n",
    "      random.choices(\n",
    "          ['boiko', 'pak boiko', 'totally not boiko'],\n",
    "          weights=[2, 1, 1]\n",
    "      ))\n",
    "\n",
    "# Понякога трябва да разбъркаме някяква колекция. Например преди да правим quicksort\n",
    "numbers = list(range(1, 11))\n",
    "random.shuffle(numbers)\n",
    "print('shuffle:', numbers)\n",
    "\n",
    "# При експерименти или когато имаме много данни искаме да изберем произволна подгрупа\n",
    "print('Избор на 2 елемента без повторения:', random.sample(numbers, 2))\n"
   ]
  },
  {
   "cell_type": "code",
   "execution_count": null,
   "id": "a23a3d92",
   "metadata": {},
   "outputs": [],
   "source": [
    "%%capture\n",
    "import random\n",
    "# За пълнота трябва да споменем, че random модулът има имплементация на\n",
    "# повечето видови разпределения от статистиката, но няма да навлизаме в подробности\n",
    "\n",
    "\n",
    "random.uniform(1, 10)\n",
    "random.gauss(1, 2)\n",
    "random.expovariate(1)\n",
    "random.gammavariate(10, 1)\n",
    "random.normalvariate(5, 1)\n"
   ]
  },
  {
   "cell_type": "markdown",
   "id": "1e662300",
   "metadata": {},
   "source": [
    "## Itertools\n",
    "\n",
    "`itertools` модулът предоставя методи улесняващи итерацията по елементи и често използвани конструкции. Вече сме виждали някой подобни функции като `map`/`filter`.\n",
    "\n",
    "Функциите са доста и улесняват писането на цикли и особено вложени цикли, но понякога отнема повече време да намерим правилната функция от колкото да напишем кода от 0.\n",
    "\n",
    "Целият списък е [тук](https://docs.python.org/3/library/itertools.html) като има разширение на стандартната библиотека от [more-itertools](https://pypi.org/project/more-itertools/) пакета."
   ]
  },
  {
   "cell_type": "code",
   "execution_count": null,
   "id": "8b020ac8",
   "metadata": {},
   "outputs": [
    {
     "name": "stdout",
     "output_type": "stream",
     "text": [
      "A, B, C, A, B, C, A, B, C, A, \n",
      "f,i,r,s,t, ,s,e,c,o,n,d,\n",
      "[-20, -10, 20, 15]\n",
      "['c', 'co', 'con', 'cons', 'const', 'constr', 'constru', 'construc', 'construct']\n",
      "[('A', 'B'), ('A', 'C'), ('B', 'C')]\n",
      "[(1, 5), (5, 7), (7, 10)]\n",
      "[(0, 1, 2), (0, 2, 1), (1, 0, 2), (1, 2, 0), (2, 0, 1), (2, 1, 0)]\n",
      "[(1, 'A'), (1, 'B'), (1, 'C'), (2, 'A'), (2, 'B'), (2, 'C'), (3, 'A'), (3, 'B'), (3, 'C')]\n"
     ]
    }
   ],
   "source": [
    "import itertools\n",
    "\n",
    "# Итератор, който се връща в началото на списъка като се изчерпи.\n",
    "# Наподобява Ring Buffer\n",
    "cycle = itertools.cycle('ABC')\n",
    "for _ in range(10):\n",
    "    print(next(cycle), end=', ')\n",
    "print()\n",
    "\n",
    "# Итератор, който обединява няколко итератора/колекции\n",
    "# Може да го използваме за да flatten-нем списък от списъци\n",
    "for x in itertools.chain('first', ' ', 'second'):\n",
    "    print(x, end=',')\n",
    "print()\n",
    "\n",
    "# Към всеки елемент от списъка се прибавя сумата на всички предишни елементи\n",
    "print(list(itertools.accumulate([-20, +10, +30, -5])))\n",
    "# Може да го използваме за да генерираме всички префикси на дума\n",
    "print(list(itertools.accumulate('construct')))\n",
    "\n",
    "# Генериране на всички уникални двойки. Еквивалентно на 2 вложени цикъла\n",
    "print(list(itertools.combinations('ABC', 2)))\n",
    "\n",
    "# Генериране на всички съседни двойки\n",
    "print(list(itertools.pairwise([1, 5, 7, 10])))\n",
    "\n",
    "# Всички пермутации\n",
    "print(list(itertools.permutations([0, 1, 2])))\n",
    "\n",
    "# A x B - декартово произведение\n",
    "print(list(itertools.product([1, 2, 3], 'ABC')))\n"
   ]
  },
  {
   "cell_type": "markdown",
   "id": "a9ff8c7a",
   "metadata": {},
   "source": [
    "## Functools\n",
    "\n",
    "`functools` предоставя фунцкии от по-висок ред - декоратори и помощни функции. Концепциите в модула са доста сложни така че ще разгледаме само по-често използваните. В темата за функционално се разлеглежда един от основните методи - `reduce`.\n",
    "\n",
    "Друг интересен пример е `functools.singledispatch` декоратора, който ни позволява да overload-ваме функции базирано на типа на първият им аргумент. Тъй като това не работи за функции с повече от 1 аргумент които да overload-нем, няма да му отделяме време. But it exists!"
   ]
  },
  {
   "cell_type": "code",
   "execution_count": null,
   "id": "3df40d47",
   "metadata": {},
   "outputs": [
    {
     "name": "stdout",
     "output_type": "stream",
     "text": [
      "CPU times: user 19.8 s, sys: 92 ms, total: 19.9 s\n",
      "Wall time: 20 s\n"
     ]
    },
    {
     "data": {
      "text/plain": [
       "165580141"
      ]
     },
     "metadata": {},
     "output_type": "display_data"
    }
   ],
   "source": [
    "%%time\n",
    "import functools\n",
    "\n",
    "# Нека си дефинираме наивна рекурсивна функция\n",
    "def fibonacci(n):\n",
    "    if n in [0, 1]:\n",
    "        return 1\n",
    "    return fibonacci(n - 1) + fibonacci(n - 2)\n",
    "\n",
    "\n",
    "# Имаме O(2 ^ 40) извиквания на фунцкии :(\n",
    "fibonacci(40)\n"
   ]
  },
  {
   "cell_type": "code",
   "execution_count": null,
   "id": "f2164ef6",
   "metadata": {},
   "outputs": [
    {
     "name": "stdout",
     "output_type": "stream",
     "text": [
      "CPU times: user 62 µs, sys: 89 µs, total: 151 µs\n",
      "Wall time: 155 µs\n"
     ]
    },
    {
     "data": {
      "text/plain": [
       "16130531424904581415797907386349"
      ]
     },
     "metadata": {},
     "output_type": "display_data"
    }
   ],
   "source": [
    "%%time\n",
    "import functools\n",
    "\n",
    "# Mоже да я забързаме ако кешираме извикванията\n",
    "# Така няма да правим едно и също изчисление 2 пъти\n",
    "\n",
    "\n",
    "@functools.lru_cache(maxsize=150)\n",
    "def fibonacci(n):\n",
    "    if n in [0, 1]:\n",
    "        return 1\n",
    "    return fibonacci(n - 1) + fibonacci(n - 2)\n",
    "\n",
    "\n",
    "fibonacci(40)\n",
    "fibonacci(150)\n",
    "# Дори fib(150) което с наивната рекурсия няма да приключи\n",
    "# никога минава за под 1ms\n"
   ]
  },
  {
   "cell_type": "code",
   "execution_count": null,
   "id": "de22bba1",
   "metadata": {},
   "outputs": [],
   "source": [
    "# Ако имаме клас, за който искаме да имплементираме сравнение\n",
    "# Може да имплементираме само __lt__ и __eq__ и останалите методи\n",
    "# ще се имплементират за нас\n",
    "# Защото понякога имплементирането им просто не е тривиално ...\n",
    "\n",
    "import functools\n",
    "\n",
    "@functools.total_ordering  # ще имплементира __gt__, __le__, и тн.\n",
    "class Point:\n",
    "    def __init__(self, x, y):\n",
    "        self.x = x\n",
    "        self.y = y\n",
    "\n",
    "    def __eq__(self, other):\n",
    "        return self.x == other.x and self.y == other.y\n",
    "\n",
    "    def __lt__(self, other):\n",
    "        # Имплементира Z-order curve подредба на точките\n",
    "        most_significant_dim = 'x'\n",
    "        if self.less_msb(self.x ^ other.x, self.y ^ other.y):\n",
    "            msd = 'y'\n",
    "\n",
    "        if most_significant_dim == 'x':\n",
    "            return self.x < other.x\n",
    "        else:\n",
    "            return self.y < other.y\n",
    "\n",
    "    def less_msb(self, x, y):\n",
    "        return x < y and x < (x ^ y)\n"
   ]
  },
  {
   "cell_type": "markdown",
   "id": "67038399",
   "metadata": {},
   "source": [
    "## CSV\n",
    "\n",
    "Python предоставя няколко модула за работа с данни сериализирани под различен формат. Един от тези модули е за работа с CSV файлове (coma-separated values). Ще разгледаме само пример за парсене на такъв файл, но модулът има много различни функционалности и опции."
   ]
  },
  {
   "cell_type": "code",
   "execution_count": null,
   "id": "b0b3c298",
   "metadata": {},
   "outputs": [
    {
     "name": "stdout",
     "output_type": "stream",
     "text": [
      "0 : ['Lyubo', '21', 'Sofia']\n",
      "1 : ['Alex', '22', 'Sofia']\n",
      "2 : ['Ivan', '49', 'Ne Sofia']\n"
     ]
    }
   ],
   "source": [
    "import csv\n",
    "from io import StringIO\n",
    "\n",
    "contents = StringIO(  # == string stream\n",
    "    '''Lyubo,21,Sofia\n",
    "Alex,22,Sofia\n",
    "Ivan,49,\"Ne Sofia\"\n",
    "''')\n",
    "\n",
    "reader = csv.reader(contents)\n",
    "for index, row in enumerate(reader):\n",
    "    print(index, ':', row)\n"
   ]
  },
  {
   "cell_type": "markdown",
   "id": "8e10470d",
   "metadata": {},
   "source": [
    "## JSON\n",
    "\n",
    "Друг популярен формат на данни е JSON ... Разбира се в Python има модул `json`."
   ]
  },
  {
   "cell_type": "code",
   "execution_count": null,
   "id": "55e6c0e3",
   "metadata": {},
   "outputs": [
    {
     "name": "stdout",
     "output_type": "stream",
     "text": [
      "От стринг конструирахме dict, който може да използваме: ['baz', None, 1.0, 2]\n",
      "Обратната операция на сериализиране е удобна за принтене на дебъг съобщения\n",
      "{\n",
      "    \"foo\": {\n",
      "        \"bar\": [\n",
      "            \"baz\",\n",
      "            null,\n",
      "            1.0,\n",
      "            2\n",
      "        ]\n",
      "    }\n",
      "}\n"
     ]
    }
   ],
   "source": [
    "import json\n",
    "\n",
    "my_dict = json.loads('{\"foo\": {\"bar\":[\"baz\", null, 1.0, 2]}}')\n",
    "print('От стринг конструирахме dict, който може да използваме:',\n",
    "      my_dict['foo']['bar'])\n",
    "\n",
    "print('Обратната операция на сериализиране е удобна за принтене на дебъг съобщения')\n",
    "print(json.dumps(my_dict, sort_keys=True, indent=4))\n"
   ]
  },
  {
   "cell_type": "markdown",
   "id": "12112a55",
   "metadata": {},
   "source": [
    "## Regex\n",
    "\n",
    "Regex или още регулярни изрази са стрингове, които описват някакъв патърн, който може да използваме за търсене в обикновени стрингове.\n",
    "\n",
    "`regex` може да запълни материала за цял курс, но ще се опитаме да разгледаме само често използвани примери, без да навлизаме в подробности.\n",
    "\n",
    "Писането на регулярни изрази обикновено е трудоемка задача, за това препоръчваме инструменти като [regexr](https://regexr.com/), които изпълняват regex в реално време и имат обяснение защо даден стринг е match-нал."
   ]
  },
  {
   "cell_type": "code",
   "execution_count": null,
   "id": "033c89a9",
   "metadata": {},
   "outputs": [
    {
     "name": "stdout",
     "output_type": "stream",
     "text": [
      "(16, 19)\n",
      "Следва ли стринга този патърн? True\n",
      "Намери всички срещания: ['ninja', 'noooinja', 'ninja', 'nwvi9ew9ninja']\n",
      "Разбиване на стринг на всяко срещане на патърн: ['', 'tree', 'forest', 'voice', '']\n",
      "Субституция на патърн в стринг: -NINJA-tree-NINJA-forest-NINJA-voice-NINJA-\n"
     ]
    }
   ],
   "source": [
    "import re\n",
    "\n",
    "# == (.start(), .end())\n",
    "print(re.search(r'123', '458971985719285712324953928572').span())\n",
    "\n",
    "ninjas = 'ninjatreenoooinjaforestninjavoicenwvi9ew9ninja'\n",
    "\n",
    "print('Следва ли стринга този патърн?',\n",
    "      re.match(r'.*ninja$', ninjas) is not None)\n",
    "\n",
    "print('Намери всички срещания:',\n",
    "      re.findall(r'n.*?a', ninjas))\n",
    "\n",
    "print('Разбиване на стринг на всяко срещане на патърн:',\n",
    "      re.split(r'n.*?a', ninjas))\n",
    "\n",
    "print('Субституция на патърн в стринг:',\n",
    "      re.sub(r'n.*?a', '-NINJA-', ninjas))\n"
   ]
  },
  {
   "cell_type": "markdown",
   "id": "3ca2e2aa",
   "metadata": {},
   "source": [
    "## Силата на Python"
   ]
  },
  {
   "cell_type": "markdown",
   "id": "66818c86",
   "metadata": {},
   "source": [
    "Ще разгледаме няколко задачи, решени на Python, и на C++"
   ]
  },
  {
   "cell_type": "markdown",
   "id": "ecda6323",
   "metadata": {},
   "source": [
    "[Two sum](https://leetcode.com/problems/two-sum/)"
   ]
  },
  {
   "cell_type": "code",
   "execution_count": null,
   "id": "8fa41a57",
   "metadata": {},
   "outputs": [],
   "source": [
    "from collections import defaultdict\n",
    "def twoSum(nums, target: int):\n",
    "    counter = defaultdict(list)\n",
    "    for i, num in enumerate(nums):\n",
    "        counter[num].append(i)\n",
    "\n",
    "    for first in nums:\n",
    "        second = target - first\n",
    "        if second in counter and first != second:\n",
    "            return [counter[first][0], counter[second][0]]\n",
    "        elif second in counter and len(counter[first]) > 1:\n",
    "            return [counter[first][0], counter[second][1]]\n",
    "    return []"
   ]
  },
  {
   "cell_type": "markdown",
   "id": "c2319b38",
   "metadata": {},
   "source": [
    "Еквивалетното решение на C++:\n",
    "\n",
    "```c++\n",
    "vector<int> twoSum(vector<int>& nums, int target) {\n",
    "    std::unordered_map<int, std::vector<int>> counter = std::unordered_map<int, std::vector<int>>();\n",
    "\n",
    "    for (int i = 0; i < nums.size(); i++) {\n",
    "        int num = nums[i];\n",
    "        auto it = counter.find(num);\n",
    "        if (it != counter.end()) {\n",
    "            it->second.push_back(i);\n",
    "        }\n",
    "        else {\n",
    "            counter.insert({num, {i}});\n",
    "        }\n",
    "    }\n",
    "\n",
    "    for (const int first: nums) {\n",
    "        int second = target - first;\n",
    "        auto second_it = counter.find(second);\n",
    "        auto first_it = counter.find(first);\n",
    "\n",
    "        if (second_it != counter.end() && first != second) {\n",
    "            return {first_it->second[0], second_it->second[0]};\n",
    "        }\n",
    "        else if(second_it != counter.end() && first_it->second.size() > 1) {\n",
    "            return {first_it->second[0], second_it->second[1]};\n",
    "        }\n",
    "    }\n",
    "    return {};\n",
    "}\n",
    "```"
   ]
  },
  {
   "cell_type": "markdown",
   "id": "abf7f147",
   "metadata": {},
   "source": [
    "Java решение:\n",
    "\n",
    "```java\n",
    "public static int[] twoSum(int[] nums, int target) {\n",
    "\n",
    "    HashMap<Integer, ArrayList<Integer>> counter = new HashMap<>();\n",
    "\n",
    "    for (int i = 0; i < nums.length; i++) {\n",
    "        counter.putIfAbsent(nums[i], new ArrayList<Integer>());\n",
    "        counter.get(nums[i]).add(i);\n",
    "    }\n",
    "\n",
    "    for (int first : nums) {\n",
    "        int second = target - first;\n",
    "\n",
    "        if (counter.containsKey(second) && first != second)\n",
    "            return new int[] { counter.get(first).get(0), counter.get(second).get(0) };\n",
    "        else if (counter.containsKey(second) && counter.get(first).size() > 1)\n",
    "            return new int[] { counter.get(first).get(0), counter.get(second).get(1) };\n",
    "    }\n",
    "\n",
    "    return new int[] {};\n",
    "}\n",
    "```"
   ]
  },
  {
   "cell_type": "markdown",
   "id": "907ad162",
   "metadata": {},
   "source": [
    "Забележете разликата в работата с `unordered_map` спрямо `dict`."
   ]
  },
  {
   "cell_type": "markdown",
   "id": "48dc6e80",
   "metadata": {},
   "source": [
    "[Valid palindrome](https://leetcode.com/problems/valid-palindrome/)"
   ]
  },
  {
   "cell_type": "code",
   "execution_count": null,
   "id": "652f3426",
   "metadata": {},
   "outputs": [],
   "source": [
    "def isPalindrome(self, s):\n",
    "    s = ''.join(c for c in s.lower() if c.isalnum())\n",
    "    return s == s[::-1]"
   ]
  },
  {
   "cell_type": "markdown",
   "id": "1f6bccc2",
   "metadata": {},
   "source": [
    "C++ решение:\n",
    "\n",
    "```c++\n",
    "bool isPalindrome(const std::string &s) {\n",
    "    std::string filtered;\n",
    "\n",
    "    for (char ch : s) {\n",
    "        if (std::isalnum(ch)) {\n",
    "            filtered += std::tolower(ch);\n",
    "        }\n",
    "    }\n",
    "    \n",
    "    // Check if the filtered string is a palindrome\n",
    "    int left = 0, right = filtered.size() - 1;\n",
    "    while (left < right) {\n",
    "        if (filtered[left] != filtered[right]) {\n",
    "            return false;\n",
    "        }\n",
    "        left++;\n",
    "        right--;\n",
    "    }\n",
    "    \n",
    "    return true;\n",
    "}\n",
    "```"
   ]
  },
  {
   "cell_type": "markdown",
   "id": "2bc2273a",
   "metadata": {},
   "source": [
    "Java решение:\n",
    "\n",
    "```java\n",
    "public static boolean isPalindrome(String s) {\n",
    "    StringBuilder filtered = new StringBuilder();\n",
    "\n",
    "    for (char ch : s.toCharArray()) {\n",
    "        if (Character.isLetterOrDigit(ch)) {\n",
    "            filtered.append(Character.toLowerCase(ch));\n",
    "        }\n",
    "    }\n",
    "\n",
    "    int left = 0, right = filtered.length() - 1;\n",
    "    while (left < right) {\n",
    "        if (filtered.charAt(left) != filtered.charAt(right)) {\n",
    "            return false;\n",
    "        }\n",
    "        left++;\n",
    "        right--;\n",
    "    }\n",
    "\n",
    "    return true;\n",
    "}\n",
    "\n",
    "```"
   ]
  },
  {
   "cell_type": "markdown",
   "id": "d8e90229",
   "metadata": {},
   "source": [
    "Тук преимуществото на Python е в използванто на `.join` и slicing-а."
   ]
  },
  {
   "cell_type": "markdown",
   "id": "80092dba",
   "metadata": {},
   "source": [
    "## Допълнителни задачи\n",
    "\n",
    "- https://leetcode.com/problems/find-the-town-judge/ ([solution](https://github.com/luchev/interview-preparation/blob/master/leetcode/997.%20Find%20the%20Town%20Judge/1.py))\n",
    "- https://leetcode.com/problems/number-of-islands/ ([solution](https://github.com/luchev/interview-preparation/blob/master/leetcode/200.%20Number%20of%20Islands/1.py))\n",
    "- https://leetcode.com/problems/network-delay-time/ ([solution](https://github.com/luchev/interview-preparation/blob/master/leetcode/743.%20Network%20Delay%20Time/1.py))"
   ]
  },
  {
   "cell_type": "markdown",
   "id": "804abb86",
   "metadata": {},
   "source": [
    "# Type Hints"
   ]
  },
  {
   "cell_type": "markdown",
   "id": "37185d04",
   "metadata": {},
   "source": [
    "## Динамично vs. статично типизиране. Round 2\n",
    "\n",
    "Динамичното типизиране позволява гъвкавост, но това идва и със своите недостатъци от гледна точка на поддръжката и четимостта на кода.\n",
    "\n",
    "Например, ако имаме следната функция:"
   ]
  },
  {
   "cell_type": "code",
   "execution_count": null,
   "id": "cca3fde2",
   "metadata": {},
   "outputs": [],
   "source": [
    "def validate_serial_number(serial_number):\n",
    "    pass  # definition is irrelevant for this example"
   ]
  },
  {
   "cell_type": "markdown",
   "id": "ff64f848",
   "metadata": {},
   "source": [
    "Ако нямаме поглед над имплементацията на функцията (или пък имаме, но не е тривиално да се прецени точно имплементацията с какви типове борави), то тогава как да разберем `serial_number` дали да ѝ го подадем като `int` или `str`? Или пък може да е `list` от `int`-ове дори?\n",
    "\n",
    "Също така, от името на функцията не става много ясно тя какво връща - дали не връща нищо, а само изпълнява проверки и странични ефекти, или пък проверява валидността на номера и връща `bool`, или пък връща някакъв тип за грешка при неуспех, а `None` при успех?"
   ]
  },
  {
   "cell_type": "markdown",
   "id": "0d9a6395",
   "metadata": {},
   "source": [
    "## Type Hints and `mypy`"
   ]
  },
  {
   "cell_type": "markdown",
   "id": "c73d9330",
   "metadata": {},
   "source": [
    "От Python 3.5 насам можем да пишем \"подсказки\" за очаквания тип (или очакваните типове, в случай че са повече от един).\n",
    "\n",
    "В случая функцията можем да я анотираме по следния начин:"
   ]
  },
  {
   "cell_type": "code",
   "execution_count": null,
   "id": "3cba4d2a",
   "metadata": {},
   "outputs": [],
   "source": [
    "def validate_serial_number(serial_number: str) -> bool:\n",
    "    pass  # ..."
   ]
  },
  {
   "cell_type": "markdown",
   "id": "65f48e77",
   "metadata": {},
   "source": [
    "Трябва да се отбележи, че тези анотации са само hints (\"подсказки\" за програмиста), т.е. не получаваме поведението на статично типизираните езици, тъй като интерпретатора не следи за спазването на анотациите:"
   ]
  },
  {
   "cell_type": "code",
   "execution_count": null,
   "id": "4d4b46bd",
   "metadata": {},
   "outputs": [
    {
     "name": "stdout",
     "output_type": "stream",
     "text": [
      "Passing `int`:  3\n",
      "Passing `str`:  12\n"
     ]
    }
   ],
   "source": [
    "def add(a: int, b: int) -> int:\n",
    "    return a + b\n",
    "\n",
    "print(\"Passing `int`: \", add(1, 2))\n",
    "print(\"Passing `str`: \", add(\"1\", \"2\"))"
   ]
  },
  {
   "cell_type": "markdown",
   "id": "d1a2c06b",
   "metadata": {},
   "source": [
    "Това въпросно следене може да стане чрез т.нар. \"type checkers\". Най-използваният е [mypy](http://mypy-lang.org/).\n",
    "\n",
    "В PyCharm би трябвало по подразбиране да е включено, докато във VS Code може да се включи от настройките на [Pylance extension-a](https://marketplace.visualstudio.com/items?itemName=ms-python.vscode-pylance):\n",
    "\n",
    "![Pylance setting](assets/pylance-setting.png)\n",
    "\n",
    "При включването на настройката за пръв път би трябвало да се покаже долу вдясно диалогов попъп, от който да може да се инсталира `mypy` автоматично."
   ]
  },
  {
   "cell_type": "markdown",
   "id": "59d07968",
   "metadata": {},
   "source": [
    "След включването, всяка некоректност ще се показва като грешка във VSCode по подобен начин:\n",
    "\n",
    "![mypy in action](assets/mypy-in-action.png)"
   ]
  },
  {
   "cell_type": "markdown",
   "id": "e9817bd8",
   "metadata": {},
   "source": [
    "## Синтаксис и особености на анотациите"
   ]
  },
  {
   "cell_type": "markdown",
   "id": "06e786b3",
   "metadata": {},
   "source": [
    "Анотациите са добавени в Python 3.0 и оригинално са нямали конкретна семантика или общоприета употреба. Понеже са интуитивно удобни за указване на типове, [PEP484](https://peps.python.org/pep-0484/) и [PEP526](https://www.python.org/dev/peps/pep-0526/) предлагат и стандартизират точно тази им употреба.\n",
    "\n",
    "Анотации могат да се добавят към променливи и функции. Те отиват в `__annotations__` списъка на модула или на функцията, респективно. Това означава, че могат и runtime да бъдат достъпни:"
   ]
  },
  {
   "cell_type": "code",
   "execution_count": null,
   "id": "e3f3b60d",
   "metadata": {},
   "outputs": [
    {
     "name": "stdout",
     "output_type": "stream",
     "text": [
      "__annotations__ = {'variable': <class 'int'>}\n",
      "function.__annotations__ = {'f': <class 'float'>, 'b': <class 'bool'>, 'return': <class 'int'>}\n"
     ]
    }
   ],
   "source": [
    "variable: int = 42\n",
    "\n",
    "print(f\"{__annotations__ = }\")  # module.__annotations__ keeps the annotations of all variables in the module\n",
    "\n",
    "\n",
    "def function(f: float, b: bool = True) -> int:\n",
    "    return int(f) if b else 0  # this is the most meaningless function ever\n",
    "\n",
    "print(f\"{function.__annotations__ = }\")  # functions have that dunder as well"
   ]
  },
  {
   "cell_type": "markdown",
   "id": "bb3eba93",
   "metadata": {},
   "source": [
    "*Забележка*: По общоприета питонска конвенция за стил, интервали около `=` на именованите аргументи се слагат ако има анотация, но се пропускат ако няма:\n",
    "\n",
    "ОК:\n",
    "```python\n",
    "def foo(a: int, b: int = 0) -> int:\n",
    "    return a + b\n",
    "\n",
    "def foo(a, b=0):\n",
    "    return a + b\n",
    "```\n",
    "\n",
    "Not quite OK:\n",
    "\n",
    "```python\n",
    "def foo(a: int, b: int=0) -> int:\n",
    "    return a + b\n",
    "\n",
    "def foo(a, b = 0):\n",
    "    return a + b\n",
    "```"
   ]
  },
  {
   "cell_type": "markdown",
   "id": "2851ed82",
   "metadata": {},
   "source": [
    "*Забележка 2*: Възможна е анотация на имe без да му бъде присвоявана стойност. Опитът за достъп обаче преди да му бъде присвоена такава впоследствие ще доведе до грешка, понеже още не е дефинирана:"
   ]
  },
  {
   "cell_type": "code",
   "execution_count": null,
   "id": "000e9eef",
   "metadata": {},
   "outputs": [
    {
     "ename": "NameError",
     "evalue": "name 'name' is not defined",
     "output_type": "error",
     "traceback": [
      "\u001b[0;31m---------------------------------------------------------------------------\u001b[0m\n",
      "\u001b[0;31mNameError\u001b[0m                                 Traceback (most recent call last)\n",
      "Cell \u001b[0;32mIn [5], line 3\u001b[0m\n",
      "\u001b[1;32m      1\u001b[0m name: \u001b[39mstr\u001b[39m\n",
      "\u001b[0;32m----> 3\u001b[0m \u001b[39mprint\u001b[39m(name)\n",
      "\n",
      "\u001b[0;31mNameError\u001b[0m: name 'name' is not defined"
     ]
    }
   ],
   "source": [
    "name: str\n",
    "\n",
    "print(name)"
   ]
  },
  {
   "cell_type": "markdown",
   "id": "ef33c281",
   "metadata": {},
   "source": [
    "## Анотиране на различните вградени типове"
   ]
  },
  {
   "cell_type": "markdown",
   "id": "18ba5d15",
   "metadata": {},
   "source": [
    "Както видяхме, използваме самият тип за да го анотираме, т.е. `bool`, `int`, `float`, `complex`, `str`, `bytes`, `None` и т.н. са валидни в анотации. (да, `None` освен стойност, е и тип сам по себе си)"
   ]
  },
  {
   "cell_type": "code",
   "execution_count": null,
   "id": "70a3ac1e",
   "metadata": {},
   "outputs": [],
   "source": [
    "def i_wanna_print(something: str, terminator: str = \"\\n\") -> None:\n",
    "    print(something, end=terminator)\n",
    "\n",
    "def extract_nums_from_input_row(row: str) -> list:\n",
    "    return list(map(int, row.split()))"
   ]
  },
  {
   "cell_type": "markdown",
   "id": "373732d0",
   "metadata": {},
   "source": [
    "Във функцията `extract_nums_from_input_row` в горният пример обаче не знаем всичко за return типа. Знаем, че е `list`, но лист от какво?"
   ]
  },
  {
   "cell_type": "markdown",
   "id": "715131d8",
   "metadata": {},
   "source": [
    "Проблемът с такива generic типове като `list`, `tuple`, `dict`, `set` и т.н. решаваме като укажем типа на елементите в тях в квадратни скоби. От Python 3.9 насам можем директно да ползваме builtin типовете, но за версии 3.5 до 3.8 вкл. трябва да импортнем подходящите класове от `typing` модула:"
   ]
  },
  {
   "cell_type": "code",
   "execution_count": null,
   "id": "71ed697a",
   "metadata": {},
   "outputs": [],
   "source": [
    "# Python 3.5 to 3.8\n",
    "\n",
    "from typing import List, Tuple, Dict\n",
    "\n",
    "def extract_nums_from_input_row(row: str) -> List[int]:\n",
    "    return list(map(int, row.split()))\n",
    "\n",
    "def dot_product(a: Tuple[int, int, int], b: Tuple[int, int, int]) -> int:\n",
    "    return sum(x * y for x, y in zip(a, b))\n",
    "\n",
    "def bind_names_to_ages(names: List[str], ages: List[int]) -> Dict[str, int]:\n",
    "    return dict(zip(names, ages))"
   ]
  },
  {
   "cell_type": "code",
   "execution_count": null,
   "id": "81d72dc0",
   "metadata": {},
   "outputs": [],
   "source": [
    "# Python 3.9+\n",
    "\n",
    "def extract_nums_from_input_row(row: str) -> list[int]:\n",
    "    return list(map(int, row.split()))\n",
    "\n",
    "def dot_product(a: tuple[int, int, int], b: tuple[int, int, int]) -> int:\n",
    "    return sum(x * y for x, y in zip(a, b))\n",
    "\n",
    "def bind_names_to_ages(names: list[str], ages: list[int]) -> dict[str, int]:\n",
    "    return dict(zip(names, ages))"
   ]
  },
  {
   "cell_type": "markdown",
   "id": "719c689e",
   "metadata": {},
   "source": [
    "Ако искаме `tuple` да има точно 2 елемента от тип `int` например, можем да го анотираме като `Tuple[int, int]`. Ако искаме да има произволен брой елементи от тип `int`, можем да го анотираме като `Tuple[int, ...]`."
   ]
  },
  {
   "cell_type": "code",
   "execution_count": null,
   "id": "9c9f0b89",
   "metadata": {},
   "outputs": [],
   "source": [
    "def calculate_polynomial(coefficients: tuple[float, ...], x: float) -> float:\n",
    "    return sum(k * (x ** n) for n, k in enumerate(reversed(coefficients)))"
   ]
  },
  {
   "cell_type": "markdown",
   "id": "4c5d49e2",
   "metadata": {},
   "source": [
    "При указване на `*args` и/или `**kwargs` е нужно да укажем само типа на съответните елементи, без `tuple` или `dict`:"
   ]
  },
  {
   "cell_type": "code",
   "execution_count": null,
   "id": "092fe728",
   "metadata": {},
   "outputs": [],
   "source": [
    "def calculate_polynomial(*coefficients: float, x: float) -> float:\n",
    "    return sum(k * (x ** n) for n, k in enumerate(reversed(coefficients)))"
   ]
  },
  {
   "cell_type": "markdown",
   "id": "70aeff44",
   "metadata": {},
   "source": [
    "За удобство можем да си създваме alias-и за различни типове, които да ги използваме по-късно:"
   ]
  },
  {
   "cell_type": "code",
   "execution_count": null,
   "id": "d31157df",
   "metadata": {},
   "outputs": [],
   "source": [
    "Vector3D = tuple[float, float, float]\n",
    "\n",
    "def dot_product(a: Vector3D, b: Vector3D) -> float:\n",
    "    return sum(x * y for x, y in zip(a, b))"
   ]
  },
  {
   "cell_type": "markdown",
   "id": "7367f771",
   "metadata": {},
   "source": [
    "В случай, че искаме да анотираме функция, която например подаваме като параметър, ползвамe `Callable`:"
   ]
  },
  {
   "cell_type": "code",
   "execution_count": null,
   "id": "f33158be",
   "metadata": {},
   "outputs": [
    {
     "data": {
      "text/plain": [
       "[3, 2, 1]"
      ]
     },
     "metadata": {},
     "output_type": "display_data"
    }
   ],
   "source": [
    "from typing import Callable\n",
    "\n",
    "def bubble_sort(arr: list[int], comparator: Callable[[int, int], bool]) -> list[int]:\n",
    "    arr = arr.copy()\n",
    "    for _ in range(len(arr)):\n",
    "        for j in range(len(arr) - 1):\n",
    "            if not comparator(arr[j], arr[j + 1]):\n",
    "                arr[j], arr[j + 1] = arr[j + 1], arr[j]\n",
    "    return arr\n",
    "\n",
    "bubble_sort([1, 2, 3], lambda x, y: x > y)"
   ]
  },
  {
   "cell_type": "markdown",
   "id": "4aeb360e",
   "metadata": {},
   "source": [
    "### `Union` и `Optional`\n",
    "\n",
    "Понякога можем да поддържаме по няколко възможни типа. Целта на `Union` е да \"обедини\" тези типове в един. Например, ако искаме да можем да подаваме и `int` и `str` като аргументи на функция, можем да го анотираме като `Union[int, str]`  или  `Union[str, int]`:"
   ]
  },
  {
   "cell_type": "code",
   "execution_count": null,
   "id": "0aae382a",
   "metadata": {},
   "outputs": [],
   "source": [
    "from typing import Union\n",
    "\n",
    "def is_serial_number_valid(serial_number: Union[str, int]) -> bool:\n",
    "    serial = str(serial_number)\n",
    "    return (\n",
    "        len(serial) == 10 \n",
    "        and serial.isdigit() \n",
    "        and serial[-1] == sum(map(int, serial[:-1])) % 10\n",
    "    )"
   ]
  },
  {
   "cell_type": "markdown",
   "id": "514edc21",
   "metadata": {},
   "source": [
    "От Python 3.10 насам можем да използваме оператора `|` вместо `Union`:"
   ]
  },
  {
   "cell_type": "code",
   "execution_count": null,
   "id": "af1c87a9",
   "metadata": {},
   "outputs": [
    {
     "data": {
      "text/plain": [
       "(-3099430.4+370440j)"
      ]
     },
     "metadata": {},
     "output_type": "display_data"
    }
   ],
   "source": [
    "def is_serial_number_valid(serial_number: str | int) -> bool:\n",
    "    serial = str(serial_number)\n",
    "    return (\n",
    "        len(serial) == 10 \n",
    "        and serial.isdigit() \n",
    "        and serial[-1] == sum(map(int, serial[:-1])) % 10\n",
    "    )\n",
    "\n",
    "def calculate_polynomial(*coefficients: int | float | complex, x: int | float | complex) -> complex:\n",
    "    return complex(sum(k * (x ** n) for n, k in enumerate(reversed(coefficients))))\n",
    "\n",
    "calculate_polynomial(-1, 5j, 6.9, 0, 94, x=42)"
   ]
  },
  {
   "cell_type": "markdown",
   "id": "bc7b3c8e",
   "metadata": {},
   "source": [
    "Много често се налага да имаме стойност по подразбиране `None` вместо такава на даден тип или пък да връщаме `None` вместо стойност от даден тип. Това е и идеята на `Optional`, който е тип на практика еквивалентен на `Union` с `None`:"
   ]
  },
  {
   "cell_type": "code",
   "execution_count": null,
   "id": "7d4b306a",
   "metadata": {},
   "outputs": [],
   "source": [
    "import hashlib\n",
    "\n",
    "from typing import Optional\n",
    "\n",
    "def hash_password(password: str, salt: Optional[str] = None) -> bytes:\n",
    "    hash = hashlib.sha256(password.encode())\n",
    "    if salt is not None:\n",
    "        hash.update(salt.encode())\n",
    "    return hash.digest()"
   ]
  },
  {
   "cell_type": "code",
   "execution_count": null,
   "id": "9b4d54e7",
   "metadata": {},
   "outputs": [],
   "source": [
    "# Equivalent:\n",
    "\n",
    "import hashlib\n",
    "\n",
    "def hash_password(password: str, salt: str | None = None) -> bytes:\n",
    "    hash = hashlib.sha256(password.encode())\n",
    "    if salt is not None:\n",
    "        hash.update(salt.encode())\n",
    "    return hash.digest()"
   ]
  },
  {
   "cell_type": "markdown",
   "id": "d77db135",
   "metadata": {},
   "source": [
    "### `Any`\n",
    "\n",
    "По подразбиране, ако на променлива/аргумент/return type липсва анотация, то тя/той е от тип `Any`.\n",
    "\n",
    "Ако искаме все пак експлицитно да анотираме даден тип като произволен, то можем да го направим с `Any`. Type-checker-ите няма да хвърлят грешка, който и тип да подаваме като стойност на нещо, което се очаква да е от тип `Any`."
   ]
  },
  {
   "cell_type": "code",
   "execution_count": null,
   "id": "6766fa65",
   "metadata": {},
   "outputs": [],
   "source": [
    "from typing import Any\n",
    "\n",
    "def i_wanna_print(something: Any, terminator: str = \"\\n\") -> None:\n",
    "    print(something, end=terminator)\n",
    "\n",
    "def play_audio(filename: str, options: dict[str, Any]) -> None:\n",
    "    if options[\"BITRATE\"] == 320:\n",
    "        print(\"Playing in high quality\")\n",
    "    \n",
    "    if options[\"LOOP\"] == True:\n",
    "        print(\"Playing in loop\")\n",
    "\n",
    "    #..."
   ]
  },
  {
   "cell_type": "markdown",
   "id": "4941f02e",
   "metadata": {},
   "source": [
    "### Generics\n",
    "\n",
    "В някои случаи обаче ако използваме `Any` директно всъщност заличаваме информация, която ни е нужна после. \n",
    "\n",
    "Например нека разгледаме следната функция:"
   ]
  },
  {
   "cell_type": "code",
   "execution_count": null,
   "id": "0cb32b77",
   "metadata": {},
   "outputs": [],
   "source": [
    "import random\n",
    "from typing import Any\n",
    "\n",
    "def shuffled(l: list[Any]) -> list[Any]:\n",
    "    return random.sample(l, len(l))"
   ]
  },
  {
   "cell_type": "markdown",
   "id": "a5821a18",
   "metadata": {},
   "source": [
    " Ако я използваме обаче в следния контекст:"
   ]
  },
  {
   "cell_type": "code",
   "execution_count": null,
   "id": "4ff9f88e",
   "metadata": {},
   "outputs": [
    {
     "name": "stdout",
     "output_type": "stream",
     "text": [
      "Counter({'♦': 5, '♠': 5, '♣': 2, '♥': 1})\n"
     ]
    }
   ],
   "source": [
    "\n",
    "suits = \"♠♥♦♣\"\n",
    "ranks = \"AKQJT98765432\"\n",
    "\n",
    "brand_new_deck = [f\"{rank}{suit}\" for suit in suits for rank in ranks] # -> list[str]\n",
    "\n",
    "shuffled_deck = shuffled(brand_new_deck) # -> list[Any] !!!\n",
    "\n",
    "# Сега `shuffled_deck` вече е list[Any] вместо list[str]\n",
    "# т.е. изгубихме типовата информация, която би трябвало да имаме.\n",
    "\n",
    "from collections import Counter\n",
    "suits_dealt = Counter(card[1] for card in shuffled_deck[::4]) # ⚠️ card[1] ще ни го дава като опит за индексиране на `Any`, а не `str`\n",
    "print(suits_dealt)"
   ]
  },
  {
   "cell_type": "markdown",
   "id": "e567bf72",
   "metadata": {},
   "source": [
    "За да се справим с този проблем трябва да обявим такива типови параметри като generics чрез `TypeVar`:"
   ]
  },
  {
   "cell_type": "code",
   "execution_count": null,
   "id": "ce78f441",
   "metadata": {},
   "outputs": [],
   "source": [
    "from typing import TypeVar\n",
    "\n",
    "T = TypeVar(\"T\")\n",
    "def shuffled(l: list[T]) -> list[T]:\n",
    "    return random.sample(l, len(l))"
   ]
  },
  {
   "cell_type": "markdown",
   "id": "3b74bd72",
   "metadata": {},
   "source": [
    "С примерът горе статичния type-checker ще знае, че каквито елементи има листът, който е подаден като аргумент на `shuffled`, такива и ще бъдат елементите на върнатия лист."
   ]
  },
  {
   "cell_type": "markdown",
   "id": "45290b07",
   "metadata": {},
   "source": [
    "Можем и да дадем ограничения за `TypeVar`-овете. Ако искаме в горния пример `T` да ни бъде `int` или `str`, можем да напишем:"
   ]
  },
  {
   "cell_type": "code",
   "execution_count": null,
   "id": "7910508b",
   "metadata": {},
   "outputs": [],
   "source": [
    "from typing import TypeVar\n",
    "\n",
    "T = TypeVar(\"T\", int, str)\n",
    "def shuffled(l: list[T]) -> list[T]:\n",
    "    return random.sample(l, len(l))"
   ]
  },
  {
   "cell_type": "markdown",
   "id": "4d3adb79",
   "metadata": {},
   "source": [
    "### Собствени типове\n",
    "\n",
    "Нашите собствени класове също могат да се използват като типове:"
   ]
  },
  {
   "cell_type": "code",
   "execution_count": null,
   "id": "2b83551f",
   "metadata": {},
   "outputs": [],
   "source": [
    "class Person:\n",
    "    def __init__(self, name: str, age: int) -> None:\n",
    "        self.name = name\n",
    "        self.age = age\n",
    "\n",
    "    def __repr__(self) -> str:\n",
    "        return f\"Person(name={self.name}, age={self.age})\"\n",
    "\n",
    "    def to_dict(self) -> dict[str, Any]:\n",
    "        return {\"name\": self.name, \"age\": self.age}\n",
    "\n",
    "\n",
    "def get_people() -> list[Person]:\n",
    "    return [Person(\"John\", 42), Person(\"Jane\", 37)]"
   ]
  },
  {
   "cell_type": "markdown",
   "id": "0a626cd6",
   "metadata": {},
   "source": [
    "Тук особеното е, че в дефиницията на методи няма нужда да анотираме `self` - той винаги ще е от типа на класа."
   ]
  },
  {
   "cell_type": "markdown",
   "id": "806e84a7",
   "metadata": {},
   "source": [
    "Когато обаче имаме метод, който приема или връща обект от типа на класа, към който е, съществуват особености за различните версии на езика. В Python 3.10 не е грешка да се използва името на класа още в дефиницията му, докато в по-старите версии - е. От Python 3.7+ може да се импортне `from __future__ import annotations`, за да работи това, докато за по-стари версии решението е просто да се напише името на класа като стринг в анотацията."
   ]
  },
  {
   "cell_type": "code",
   "execution_count": null,
   "id": "5c889811",
   "metadata": {},
   "outputs": [],
   "source": [
    "class Person:\n",
    "    def __init__(self, name: str, age: int) -> None:\n",
    "        self.name = name\n",
    "        self.age = age\n",
    "\n",
    "    def __repr__(self) -> str:\n",
    "        return f\"Person(name={self.name}, age={self.age})\"\n",
    "\n",
    "    def to_dict(self) -> dict[str, Any]:\n",
    "        return {\"name\": self.name, \"age\": self.age}\n",
    "\n",
    "    # Python 3.10+ way\n",
    "    # or for Python 3.7-3.9 you also have to add `from __future__ import annotations`\n",
    "    @classmethod\n",
    "    def from_dict(cls, data: dict[str, Any]) -> Person:\n",
    "        return cls(**data)\n",
    "\n",
    "    # Python <3.7 way\n",
    "    @classmethod\n",
    "    def from_dict(cls, data: dict[str, Any]) -> \"Person\":\n",
    "        return cls(**data)"
   ]
  },
  {
   "cell_type": "markdown",
   "id": "d7edd0a1",
   "metadata": {},
   "source": [
    "Можем да си декларираме собствени типове, които да са съставени от други типове. Това се прави с `NewType`:"
   ]
  },
  {
   "cell_type": "code",
   "execution_count": null,
   "id": "9df3e950",
   "metadata": {},
   "outputs": [
    {
     "name": "stdout",
     "output_type": "stream",
     "text": [
      "Person(id=37, name=Lana Xes, age=18)\n",
      "None\n"
     ]
    }
   ],
   "source": [
    "from typing import NewType, Optional\n",
    "\n",
    "PersonId = NewType(\"PersonId\", int)\n",
    "\n",
    "class Person:\n",
    "    def __init__(self, id: PersonId, name: str, age: int) -> None:\n",
    "        self.id = id\n",
    "        self.name = name\n",
    "        self.age = age\n",
    "\n",
    "    def __repr__(self) -> str:\n",
    "        return f\"Person(id={self.id}, name={self.name}, age={self.age})\"\n",
    "\n",
    "    def to_dict(self) -> dict[str, Any]:\n",
    "        return vars(self)\n",
    "\n",
    "    @classmethod\n",
    "    def from_dict(cls, data: dict[str, Any]) -> Person:\n",
    "        return cls(**data)\n",
    "\n",
    "def get_person_by_id(id: PersonId, database: list[Person]) -> Optional[Person]:\n",
    "    return next((person for person in database if person.id == id), None)  # `next` has an optional second parameter - default value\n",
    "\n",
    "database = [\n",
    "    Person(PersonId(37), \"Lana Xes\", 18),\n",
    "    Person(PersonId(69), \"Axl Rose\", 60),\n",
    "]\n",
    "\n",
    "print(get_person_by_id(PersonId(37), database))\n",
    "print(get_person_by_id(PersonId(666), database))"
   ]
  },
  {
   "cell_type": "markdown",
   "id": "6e360a24",
   "metadata": {},
   "source": [
    "Тук обаче бихме имали проблем в случай, че имаме наследник на този клас. Например:"
   ]
  },
  {
   "cell_type": "code",
   "execution_count": null,
   "id": "75821744",
   "metadata": {},
   "outputs": [
    {
     "name": "stdout",
     "output_type": "stream",
     "text": [
      "Pesho is banning Pesho.\n"
     ]
    }
   ],
   "source": [
    "class Admin(Person):\n",
    "    def __init__(self, id: PersonId, name: str, age: int, can_ban: bool) -> None:\n",
    "        super().__init__(id, name, age)\n",
    "        self.can_ban = can_ban\n",
    "\n",
    "    def __repr__(self) -> str:\n",
    "        return f\"Admin(id={self.id}, name={self.name}, age={self.age}, can_ban={self.can_ban})\"\n",
    "\n",
    "    def ban(self, person: Person) -> None:\n",
    "        if self.can_ban:\n",
    "            print(f\"{self.name} is banning {person.name}.\")\n",
    "        else:\n",
    "            print(f\"{self.name} is not allowed to ban anyone.\")\n",
    "\n",
    "\n",
    "pesho = Person(PersonId(42), \"Pesho\", 42)\n",
    "peshos_dict = pesho.to_dict()\n",
    "\n",
    "pesho_evolved = Admin.from_dict({**peshos_dict, \"can_ban\": True})  # -> Person, at least for the static type checker\n",
    "\n",
    "pesho_evolved.ban(pesho)  # ⚠️ type checker will complain that type `Person` has no method `ban`"
   ]
  },
  {
   "cell_type": "markdown",
   "id": "8ca2e951",
   "metadata": {},
   "source": [
    "Това поправяме отново с `TypeVar`, този път използвайки именования параметър `bound`:"
   ]
  },
  {
   "cell_type": "code",
   "execution_count": null,
   "id": "de3f4e54",
   "metadata": {},
   "outputs": [],
   "source": [
    "from typing import Type\n",
    "\n",
    "PersonId = NewType(\"PersonId\", int)\n",
    "TPerson = TypeVar(\"TPerson\", bound=\"Person\")  # в кавички, защото `Person` още не съществува\n",
    "\n",
    "class Person:\n",
    "    def __init__(self, id: PersonId, name: str, age: int) -> None:\n",
    "        self.id = id\n",
    "        self.name = name\n",
    "        self.age = age\n",
    "\n",
    "    def __repr__(self) -> str:\n",
    "        return f\"Person(id={self.id}, name={self.name}, age={self.age})\"\n",
    "\n",
    "    def to_dict(self) -> dict[str, Any]:\n",
    "        return vars(self)\n",
    "\n",
    "    @classmethod\n",
    "    def from_dict(cls: Type[TPerson], data: dict[str, Any]) -> TPerson:  # <- тук са промените\n",
    "        return cls(**data)\n",
    "\n",
    "    def some_other_common_method(self: TPerson) -> Any:  # <- тук е важно да укажем какъв тип е `self`, ако ще се наследява\n",
    "        pass \n",
    "\n",
    "class Admin(Person):\n",
    "    def __init__(self, id: PersonId, name: str, age: int, can_ban: bool) -> None:\n",
    "        super().__init__(id, name, age)\n",
    "        self.can_ban = can_ban\n",
    "\n",
    "    def __repr__(self) -> str:\n",
    "        return f\"Admin(id={self.id}, name={self.name}, age={self.age}, can_ban={self.can_ban})\"\n",
    "\n",
    "    def ban(self, person: Person) -> None:\n",
    "        if self.can_ban:\n",
    "            print(f\"{self.name} is banning {person.name}.\")\n",
    "        else:\n",
    "            print(f\"{self.name} is not allowed to ban anyone.\")"
   ]
  },
  {
   "cell_type": "markdown",
   "id": "593bbdd6",
   "metadata": {},
   "source": [
    "### Консистентни типове\n",
    "\n",
    "Type checker-ите се оплакват само когато видят неконсистенти типове.\n",
    "\n",
    "Казваме, че типът `T` е консистентен с типа `U`, тогава и само тогава когато **поне едно** от следните условия е изпълнено:\n",
    "\n",
    "1. `T` е подтип на `U`  ($ T \\subset U $)\n",
    "2. `T` е `Any`\n",
    "3. `U` е `Any`\n",
    "\n",
    "Тук е хубаво да отбележим, без да навлизаме в много подробности, че това дали `T` е подтип на `U` в случаите на generic типове зависи от тяхната вариантност. Например, като отчетем факта, че `bool` е подтип на `int`, получаваме следното поведение:\n",
    "\n",
    "* **Ковариантност:** `tuple[bool]` е подтип на `tuple[int]` ( $ T \\subset U \\Rightarrow C[T] \\subset C[U] $)\n",
    "* **Инвариантност:** `list[bool]` не е нито подтип, нито надтип на `list[int]`\n",
    "* **Контравариантност:** `Callable[[int], ...]` е подтип на `Callable[[bool], ...]` ( $ T \\subset U \\Rightarrow C[U] \\subset C[T] $)"
   ]
  },
  {
   "cell_type": "markdown",
   "id": "c86671db",
   "metadata": {},
   "source": [
    "По подразбиране, ако не се посочи друго, анотациите на `TypeVar`-овете ни са **инвариантни**. Ако искаме да укажем дали да са ковариантни или контравариантни, можем да го направим чрез `covariant=True` или `contravariant=True` респ. в инициализацията на `TypeVar`."
   ]
  },
  {
   "cell_type": "markdown",
   "id": "2ea96d53",
   "metadata": {},
   "source": [
    "### Duck typing\n",
    "\n",
    "> Ако изглежда като патка, плува като патка и квака като патка, то е патка."
   ]
  },
  {
   "cell_type": "markdown",
   "id": "d1dcca2b",
   "metadata": {},
   "source": [
    "В програмирането съществуват два варианта за типизация: **номинална** и **структурна**. \n",
    "\n",
    "* При **номиналната** типизация типовете са именувани и се сравняват по име и декларация, например `bool` наследява `int`, защото така е деклариран. В Python се ползва предимно номинално типизиране.\n",
    "* При **структурната** типизация типовете се сравняват по-скоро по тяхната структура, т.е. какви методи притежават и т.н. Като пример можем да дадем `__len__` - можем на теория да декларираме *структура* `Sized`, към която би принадлежало всичко, което има метод `__len__`, независимо от името и декларацията му."
   ]
  },
  {
   "cell_type": "markdown",
   "id": "b510beea",
   "metadata": {},
   "source": [
    "В динамичната типизация често са по-важни наборът от методи, които един обект притежава, а не конретния му тип и декларация на базови класове. Именно това стои зад термина duck typing."
   ]
  },
  {
   "cell_type": "markdown",
   "id": "db823df5",
   "metadata": {},
   "source": [
    "В `typing` модулът ни предоставя готови такива структури (или протоколи), които са често използвани. Например точно такъв `Sized` какъвто описахме по-горе има там:"
   ]
  },
  {
   "cell_type": "code",
   "execution_count": null,
   "id": "62e015e9",
   "metadata": {},
   "outputs": [],
   "source": [
    "from typing import Sized\n",
    "\n",
    "def get_length_squared(obj: Sized) -> int:\n",
    "    return len(obj) ** 2"
   ]
  },
  {
   "cell_type": "markdown",
   "id": "b55450cf",
   "metadata": {},
   "source": [
    "В горният метод е най-удачно да се анотира аргумента със `Sized`, понеже `Any` би подвел програмиста, че абсолютно всичко е окей, но на практика не е съвсем така - абсолютно всичко, ***което дефинира `__len__`*** е окей. Точно това ни казва протоколът `Sized`."
   ]
  },
  {
   "cell_type": "markdown",
   "id": "bbeafe68",
   "metadata": {},
   "source": [
    "Други полезни и често-използвано протоколи са например `Sequence`, `Iterable`, `Iterator` и `Container`:\n",
    "\n",
    "* `Iterable[]` - итеруеми, т.е. всичко, което дефинира `__iter__` ***или*** `__getitem__`\n",
    "* `Sequence[]` - редици, т.е. всичко, което дефинира `__getitem__` ***и*** `__len__`\n",
    "* `Container[]` - всичко, което дефинира `__contains__`\n",
    "* `Iterator[]` - всичко, което дефинира `__next__` ***и*** `__iter__`\n",
    "\n",
    "Конкретно тези 4 протокoла са и абстрактни базови класове. От Python 3.9 насам е deprecate-нато те да се импортват от `typing` модула - вместо това може да си се използва директно `collections.abc`.\n",
    "\n",
    "`Sequence` дефинира още и `__contains__` и `__reversed__`, които използват имплементацията на другите два метода. Също така по дефиниця може да забележим, че всички редици са и итеруеми, и контейнери."
   ]
  },
  {
   "cell_type": "code",
   "execution_count": null,
   "id": "7d277c27",
   "metadata": {},
   "outputs": [],
   "source": [
    "from collections.abc import Iterable\n",
    "\n",
    "Number = int | float | complex\n",
    "\n",
    "def multiply(a: Iterable[Number], b: Iterable[Number]) -> Number:\n",
    "    return sum(a * b for a, b in zip(a, b))"
   ]
  },
  {
   "cell_type": "markdown",
   "id": "02b6ab55",
   "metadata": {},
   "source": [
    "#### `Protocol`\n",
    "\n",
    "Можем естествено и сами да си дефинираме протокол, с `typing.Protocol`."
   ]
  },
  {
   "cell_type": "markdown",
   "id": "a02d7adf",
   "metadata": {},
   "source": [
    "Да предположим, че имаме подобни класове (примерно предоставени от някои библиотеки):"
   ]
  },
  {
   "cell_type": "code",
   "execution_count": null,
   "id": "44020b3b",
   "metadata": {},
   "outputs": [],
   "source": [
    "class Child:\n",
    "    def quack(self) -> None:\n",
    "        print(\"Quack!\")\n",
    "\n",
    "class Physicist:\n",
    "    def quack(self) -> None:\n",
    "        print(\"Quark.\")"
   ]
  },
  {
   "cell_type": "markdown",
   "id": "7a899044",
   "metadata": {},
   "source": [
    "Номинално те нямат нищо общо (нямат общ базов клас), но структурно имат общ метод. Да предположим и че точно този метод ни трябва за някаква функция, като тази:"
   ]
  },
  {
   "cell_type": "code",
   "execution_count": null,
   "id": "1349ffc2",
   "metadata": {},
   "outputs": [],
   "source": [
    "def make_quack(duck):\n",
    "    duck.quack()"
   ]
  },
  {
   "cell_type": "markdown",
   "id": "2766257b",
   "metadata": {},
   "source": [
    "Как ще анотираме аргумента `duck` на функцията? \n",
    "\n",
    "`Any` не ни върши достатъчна работа, понеже не всичко може да `quack()`-а. На практика искаме да си дефинираме наш си протокол, който да съдържа само този метод:"
   ]
  },
  {
   "cell_type": "code",
   "execution_count": null,
   "id": "64f1d8b9",
   "metadata": {},
   "outputs": [
    {
     "name": "stdout",
     "output_type": "stream",
     "text": [
      "Quack!\n",
      "Quark.\n"
     ]
    }
   ],
   "source": [
    "from typing import Protocol\n",
    "\n",
    "class Duck(Protocol):\n",
    "    def quack(self) -> None:\n",
    "        ...  # yes, this is valid Python syntax apparently\n",
    "\n",
    "def make_quack(duck: Duck) -> None:\n",
    "    duck.quack()\n",
    "\n",
    "peshi = Child()\n",
    "feynman = Physicist()\n",
    "\n",
    "make_quack(peshi)\n",
    "make_quack(feynman)\n",
    "# static type-checkers will not complain about above 2 invocations."
   ]
  },
  {
   "cell_type": "markdown",
   "id": "a497dad8",
   "metadata": {},
   "source": [
    "Ако искаме `isinstance` и `issubclass` да работят с протоколите ни, трябва да ги декорираме с `typing.runtime_checkable`:"
   ]
  },
  {
   "cell_type": "code",
   "execution_count": null,
   "id": "beca0948",
   "metadata": {},
   "outputs": [
    {
     "name": "stdout",
     "output_type": "stream",
     "text": [
      "isinstance(peshi, Duck) = True\n",
      "issubclass(Physicist, Duck) = True\n"
     ]
    }
   ],
   "source": [
    "from typing import Protocol, runtime_checkable\n",
    "\n",
    "@runtime_checkable\n",
    "class Duck(Protocol):\n",
    "    def quack(self) -> None:\n",
    "        ...\n",
    "\n",
    "print(f\"{isinstance(peshi, Duck) = }\")\n",
    "print(f\"{issubclass(Physicist, Duck) = }\")\n"
   ]
  },
  {
   "cell_type": "markdown",
   "id": "f18b9188",
   "metadata": {},
   "source": [
    "*Note:* преди Python 3.8 `Protocol` се намира в `typing_extensions` модула."
   ]
  },
  {
   "cell_type": "markdown",
   "id": "5457fa1f",
   "metadata": {},
   "source": [
    "## `@dataclass`"
   ]
  },
  {
   "cell_type": "markdown",
   "id": "3f7bf49f",
   "metadata": {},
   "source": [
    "Говорейки за typing няма как вече да не намесим и един полезен декоратор - `dataclasses.dataclass`, вмъкнал се в езика с Python 3.7.\n",
    "\n",
    "Както подсказва донякъде името му, той има за цел да помогне с дефинирането на прости класове, които имат за цел предимно да съхраняват някакви атрибути с някакви данни (подобно на типовете, за които бихме използвали `struct` вместо `class` в С++ / С# например).\n",
    "\n",
    "Предоставя ни изключително голямо синтактично удобство, понеже следния клас:"
   ]
  },
  {
   "cell_type": "code",
   "execution_count": null,
   "id": "a44fd71a",
   "metadata": {},
   "outputs": [],
   "source": [
    "from dataclasses import dataclass\n",
    "\n",
    "@dataclass\n",
    "class User:\n",
    "    id: int\n",
    "    username: str\n",
    "    email: str\n",
    "    is_admin: bool = False"
   ]
  },
  {
   "cell_type": "markdown",
   "id": "07a017d8",
   "metadata": {},
   "source": [
    "е абсолютно еквивалентен на:"
   ]
  },
  {
   "cell_type": "code",
   "execution_count": null,
   "id": "a0257eb7",
   "metadata": {},
   "outputs": [],
   "source": [
    "class User:\n",
    "    def __init__(self, id: int, username: str, email: str, is_admin: bool = False) -> None:\n",
    "        self.id = id\n",
    "        self.username = username\n",
    "        self.email = email\n",
    "        self.is_admin = is_admin\n",
    "\n",
    "    def __repr__(self) -> str:\n",
    "        return f\"User(id={self.id}, username={self.username}, email={self.email}, is_admin={self.is_admin})\"\n",
    "\n",
    "    def __eq__(self, other: object) -> bool:\n",
    "        if not isinstance(other, User):\n",
    "            return False\n",
    "\n",
    "        return vars(self) == vars(other)\n",
    "\n",
    "    # Python 3.10+ only, used for the `match` statement\n",
    "    def __match_args__(self) -> tuple[int, str, str, bool]:\n",
    "        return self.id, self.username, self.email, self.is_admin"
   ]
  },
  {
   "cell_type": "markdown",
   "id": "ef489eb1",
   "metadata": {},
   "source": [
    "И това са само част от способностите на `@dataclass`. Той приема различни параметри, с които още можем да укажем дали класът да е immutable (`frozen=True`), да има `__hash__`, дефиниции на операторите за сравнение, и др.\n",
    "\n",
    "```python\n",
    "@dataclasses.dataclass(*, \n",
    "    init=True, \n",
    "    repr=True, \n",
    "    eq=True, \n",
    "    order=False, \n",
    "    unsafe_hash=False, \n",
    "    frozen=False, \n",
    "    match_args=True, \n",
    "    kw_only=False, \n",
    "    slots=False, \n",
    "    weakref_slot=False\n",
    ")\n",
    "```"
   ]
  },
  {
   "cell_type": "code",
   "execution_count": null,
   "id": "c18458e4",
   "metadata": {},
   "outputs": [
    {
     "name": "stdout",
     "output_type": "stream",
     "text": [
      "{Point(x=1, y=2), Point(x=0, y=0)}\n"
     ]
    }
   ],
   "source": [
    "from dataclasses import dataclass\n",
    "\n",
    "@dataclass(frozen=True)\n",
    "class Point:\n",
    "    x: int | float = 0\n",
    "    y: int | float = 0\n",
    "\n",
    "s = {Point(1, 2), Point(), Point(1, 2)}\n",
    "print(s)"
   ]
  },
  {
   "cell_type": "markdown",
   "id": "46d1be7c",
   "metadata": {},
   "source": [
    "Повече информация в [документацията](https://docs.python.org/3/library/dataclasses.html#dataclasses.dataclass)."
   ]
  },
  {
   "cell_type": "markdown",
   "id": "ff697cc0",
   "metadata": {},
   "source": [
    "# Грешки и изключения\n",
    "\n",
    "Понякога се случват неща, които не очакваме, или програмата ни влиза в състояние, което е грешно или пък е с недефинирано поведение. Например, ако се опитаме да отворим файл, който не съществува, или ако се опитаме да разделим число на 0 и т.н. Ако такава \"грешка\" е фатална, то е редно програмата да спре изпълнението си, съобщавайки за това с някаъв вид програмна грешка (error). Ако не е толкова фатална, например е просто специален случай, който можем да третираме по по-различен начин, то това наричаме \"изключение\" (exception). Ние като програмисти не е редно да \"хващаме\" и обработваме грешките, а само изключенията."
   ]
  },
  {
   "cell_type": "markdown",
   "id": "f8c5f579",
   "metadata": {},
   "source": [
    "## (Синтактични) Грешки\n",
    "\n",
    "В Python грешките биват единствено синтактични - от тип `SyntaxError`. Тази грешка се хвърля когато Python parser-a забележи синтектичен проблем в кода, което би довело до невъзможността му за изпълнение."
   ]
  },
  {
   "cell_type": "code",
   "execution_count": null,
   "id": "8f8d5f32",
   "metadata": {},
   "outputs": [
    {
     "ename": "SyntaxError",
     "evalue": "incomplete input (1478308394.py, line 1)",
     "output_type": "error",
     "traceback": [
      "\u001b[0;36m  Cell \u001b[0;32mIn [1], line 1\u001b[0;36m\u001b[0m\n",
      "\u001b[0;31m    print((\"I like brackets\")\u001b[0m\n",
      "\u001b[0m                             ^\u001b[0m\n",
      "\u001b[0;31mSyntaxError\u001b[0m\u001b[0;31m:\u001b[0m incomplete input\n"
     ]
    }
   ],
   "source": [
    "print((\"I like brackets\")"
   ]
  },
  {
   "cell_type": "markdown",
   "id": "f5cf9be2",
   "metadata": {},
   "source": [
    "## Изключения"
   ]
  },
  {
   "cell_type": "markdown",
   "id": "630464e0",
   "metadata": {},
   "source": [
    "Дори и кодът да е синтактично правилен обаче, изпълнението му е възможно да доведе до грешка. Такива грешки, които се засичат по време на изпълнението на програмата се наричат \"изключения\" (exceptions) и е възможно да бъдат \"хванати\" и обработени по желан от нас начин. Примери за често-срещани изключения:"
   ]
  },
  {
   "cell_type": "code",
   "execution_count": null,
   "id": "dbf7c03f",
   "metadata": {},
   "outputs": [
    {
     "ename": "ZeroDivisionError",
     "evalue": "division by zero",
     "output_type": "error",
     "traceback": [
      "\u001b[0;31m---------------------------------------------------------------------------\u001b[0m\n",
      "\u001b[0;31mZeroDivisionError\u001b[0m                         Traceback (most recent call last)\n",
      "Cell \u001b[0;32mIn [2], line 1\u001b[0m\n",
      "\u001b[0;32m----> 1\u001b[0m \u001b[39m42\u001b[39m \u001b[39m/\u001b[39m \u001b[39m0\u001b[39m\n",
      "\n",
      "\u001b[0;31mZeroDivisionError\u001b[0m: division by zero"
     ]
    }
   ],
   "source": [
    "42 / 0"
   ]
  },
  {
   "cell_type": "code",
   "execution_count": null,
   "id": "39906c71",
   "metadata": {},
   "outputs": [
    {
     "ename": "NameError",
     "evalue": "name 'name_of_crush' is not defined",
     "output_type": "error",
     "traceback": [
      "\u001b[0;31m---------------------------------------------------------------------------\u001b[0m\n",
      "\u001b[0;31mNameError\u001b[0m                                 Traceback (most recent call last)\n",
      "Cell \u001b[0;32mIn [3], line 1\u001b[0m\n",
      "\u001b[0;32m----> 1\u001b[0m \u001b[39m\"\u001b[39m\u001b[39mI love \u001b[39m\u001b[39m\"\u001b[39m \u001b[39m+\u001b[39m name_of_crush\n",
      "\n",
      "\u001b[0;31mNameError\u001b[0m: name 'name_of_crush' is not defined"
     ]
    }
   ],
   "source": [
    "\"I love \" + name_of_crush"
   ]
  },
  {
   "cell_type": "code",
   "execution_count": null,
   "id": "f5007b73",
   "metadata": {},
   "outputs": [
    {
     "ename": "TypeError",
     "evalue": "can only concatenate str (not \"int\") to str",
     "output_type": "error",
     "traceback": [
      "\u001b[0;31m---------------------------------------------------------------------------\u001b[0m\n",
      "\u001b[0;31mTypeError\u001b[0m                                 Traceback (most recent call last)\n",
      "Cell \u001b[0;32mIn [4], line 1\u001b[0m\n",
      "\u001b[0;32m----> 1\u001b[0m \u001b[39m\"\u001b[39m\u001b[39m1\u001b[39m\u001b[39m\"\u001b[39m \u001b[39m+\u001b[39m \u001b[39m1\u001b[39m\n",
      "\n",
      "\u001b[0;31mTypeError\u001b[0m: can only concatenate str (not \"int\") to str"
     ]
    }
   ],
   "source": [
    "\"1\" + 1"
   ]
  },
  {
   "cell_type": "code",
   "execution_count": null,
   "id": "d0c0694b",
   "metadata": {},
   "outputs": [
    {
     "ename": "ValueError",
     "evalue": "math domain error",
     "output_type": "error",
     "traceback": [
      "\u001b[0;31m---------------------------------------------------------------------------\u001b[0m\n",
      "\u001b[0;31mValueError\u001b[0m                                Traceback (most recent call last)\n",
      "Cell \u001b[0;32mIn [5], line 2\u001b[0m\n",
      "\u001b[1;32m      1\u001b[0m \u001b[39mimport\u001b[39;00m \u001b[39mmath\u001b[39;00m\n",
      "\u001b[0;32m----> 2\u001b[0m math\u001b[39m.\u001b[39msqrt(\u001b[39m-\u001b[39m\u001b[39m1\u001b[39m)\n",
      "\n",
      "\u001b[0;31mValueError\u001b[0m: math domain error"
     ]
    }
   ],
   "source": [
    "import math\n",
    "math.sqrt(-1)"
   ]
  },
  {
   "cell_type": "code",
   "execution_count": null,
   "id": "1fa6886b",
   "metadata": {},
   "outputs": [
    {
     "ename": "IndexError",
     "evalue": "list index out of range",
     "output_type": "error",
     "traceback": [
      "\u001b[0;31m---------------------------------------------------------------------------\u001b[0m\n",
      "\u001b[0;31mIndexError\u001b[0m                                Traceback (most recent call last)\n",
      "Cell \u001b[0;32mIn [6], line 2\u001b[0m\n",
      "\u001b[1;32m      1\u001b[0m l \u001b[39m=\u001b[39m [\u001b[39m1\u001b[39m, \u001b[39m2\u001b[39m, \u001b[39m3\u001b[39m]\n",
      "\u001b[0;32m----> 2\u001b[0m l[\u001b[39m3\u001b[39m]\n",
      "\n",
      "\u001b[0;31mIndexError\u001b[0m: list index out of range"
     ]
    }
   ],
   "source": [
    "l = [1, 2, 3]\n",
    "l[3]"
   ]
  },
  {
   "cell_type": "code",
   "execution_count": null,
   "id": "978dbf1b",
   "metadata": {},
   "outputs": [
    {
     "ename": "KeyError",
     "evalue": "'c'",
     "output_type": "error",
     "traceback": [
      "\u001b[0;31m---------------------------------------------------------------------------\u001b[0m\n",
      "\u001b[0;31mKeyError\u001b[0m                                  Traceback (most recent call last)\n",
      "Cell \u001b[0;32mIn [7], line 2\u001b[0m\n",
      "\u001b[1;32m      1\u001b[0m d \u001b[39m=\u001b[39m {\u001b[39m\"\u001b[39m\u001b[39ma\u001b[39m\u001b[39m\"\u001b[39m: \u001b[39m1\u001b[39m, \u001b[39m\"\u001b[39m\u001b[39mb\u001b[39m\u001b[39m\"\u001b[39m: \u001b[39m2\u001b[39m}\n",
      "\u001b[0;32m----> 2\u001b[0m d[\u001b[39m\"\u001b[39m\u001b[39mc\u001b[39m\u001b[39m\"\u001b[39m]\n",
      "\n",
      "\u001b[0;31mKeyError\u001b[0m: 'c'"
     ]
    }
   ],
   "source": [
    "d = {\"a\": 1, \"b\": 2}\n",
    "d[\"c\"]"
   ]
  },
  {
   "cell_type": "markdown",
   "id": "330e5acf",
   "metadata": {},
   "source": [
    "*Note:* въпреки, че са всъщност exceptions, а не errors, имената на доста вградени изключения завършват на `Error` в Python."
   ]
  },
  {
   "cell_type": "markdown",
   "id": "8bb7b79b",
   "metadata": {},
   "source": [
    "## Хващане на изключения"
   ]
  },
  {
   "cell_type": "markdown",
   "id": "686d7c86",
   "metadata": {},
   "source": [
    "С `try-except` конструкцията можем да хванем изключение при изпълнение на даден код и да извършим някакво действие, ако се случи такова. В `try` блокът се слага кодът, който искаме да изпълним, а в `except` блокът - кодът, който искаме да се изпълни, ако се случи изключение. При хващане на изключение програмата не се терминира, а продължава изпълнението си след `try-except` конструкцията."
   ]
  },
  {
   "cell_type": "code",
   "execution_count": null,
   "id": "acd32eb6",
   "metadata": {},
   "outputs": [
    {
     "name": "stdout",
     "output_type": "stream",
     "text": [
      "Sorry bro, that's not a valid number. Try again...\n",
      "Sorry bro, that's not a valid number. Try again...\n",
      "You entered:  123\n"
     ]
    }
   ],
   "source": [
    "while True:\n",
    "    try:\n",
    "        x = int(input(\"Please enter a number: \"))\n",
    "        print(\"You entered: \", x)\n",
    "        break\n",
    "    except ValueError:\n",
    "        print(\"Sorry bro, that's not a valid number. Try again...\")"
   ]
  },
  {
   "cell_type": "markdown",
   "id": "ea1a292f",
   "metadata": {},
   "source": [
    "Забележете, че можем да укажем изрично типа на изключението, което искаме да хванем, като аргумент на `except` блока. В горният пример искаме да хванем единствено изключения от тип `ValueError`, т.е. проблеми с въведената стойност. Така позволяваме на потребителят например да приключи изпълнението на програмата с Ctrl+C (или подобен метод), понеже това действие би хвърлило `KeyboardInterrupt` изключение."
   ]
  },
  {
   "cell_type": "markdown",
   "id": "5da86a08",
   "metadata": {},
   "source": [
    "Можем естествено и да не укажем тип, а да хванем абсолютно всички възможни изключения:"
   ]
  },
  {
   "cell_type": "code",
   "execution_count": null,
   "id": "b5671791",
   "metadata": {},
   "outputs": [],
   "source": [
    "try:\n",
    "    risky_func()\n",
    "except:\n",
    "    pass  # never ever do this, for the sake of humanity"
   ]
  },
  {
   "cell_type": "markdown",
   "id": "c5dae87d",
   "metadata": {},
   "source": [
    "Много коварен antipattern обаче е обграждането на проблематичен код с `except` блок, който е празен. Повече по темата: https://realpython.com/the-most-diabolical-python-antipattern/"
   ]
  },
  {
   "cell_type": "markdown",
   "id": "741cd8f9",
   "metadata": {},
   "source": [
    "Вместо това, може например да логнем грешката в някой файл или на стандартния изход (или по-добре от STDOUT - в STDERR). Има библиотеки, улесняващи логването, включително и вградена такава - `logging`."
   ]
  },
  {
   "cell_type": "code",
   "execution_count": null,
   "id": "4ebeeacd",
   "metadata": {},
   "outputs": [
    {
     "name": "stderr",
     "output_type": "stream",
     "text": [
      "name 'risky_func' is not defined\n"
     ]
    }
   ],
   "source": [
    "import logging\n",
    "\n",
    "logger = logging.getLogger()\n",
    "\n",
    "try:\n",
    "    risky_func()\n",
    "except Exception as e:\n",
    "    logger.error(e)"
   ]
  },
  {
   "cell_type": "markdown",
   "id": "e2ac3454",
   "metadata": {},
   "source": [
    "Както се вижда от примера, можем да присвоим изключението към променлива, която да използваме в `except` блока. Това е полезно ако искаме да използваме изключението или аргументите на изключението, които се намират в `args` атрибута на всяко изключение."
   ]
  },
  {
   "cell_type": "code",
   "execution_count": null,
   "id": "7f47ff1e",
   "metadata": {},
   "outputs": [
    {
     "name": "stderr",
     "output_type": "stream",
     "text": [
      "(\"name 'risky_func' is not defined\",)\n"
     ]
    }
   ],
   "source": [
    "try:\n",
    "    risky_func()\n",
    "except Exception as e:\n",
    "    logger.error(e.args)"
   ]
  },
  {
   "cell_type": "markdown",
   "id": "5c0822f3",
   "metadata": {},
   "source": [
    "Можем да очакваме повече от един тип изключения по няколко начина:"
   ]
  },
  {
   "cell_type": "code",
   "execution_count": null,
   "id": "ab47cae3",
   "metadata": {},
   "outputs": [
    {
     "name": "stdout",
     "output_type": "stream",
     "text": [
      "Division by zero.\n",
      "Oops:  division by zero\n"
     ]
    }
   ],
   "source": [
    "def f(): return 42\n",
    "def g(): return 0\n",
    "\n",
    "try:\n",
    "    # f()[2]    # uncomment for third error\n",
    "    # y = h()  # uncomment for second error\n",
    "    y = f() / g()\n",
    "except ZeroDivisionError:\n",
    "    print(\"Division by zero.\")\n",
    "except NameError as e:\n",
    "    print(\"Name error: \", e)\n",
    "except Exception as e:\n",
    "    print(\"Other error: \", e)\n",
    "\n",
    "try:\n",
    "    y = f() / g() + h()\n",
    "except (ZeroDivisionError, NameError) as e:\n",
    "    print(\"Oops: \", e)"
   ]
  },
  {
   "cell_type": "markdown",
   "id": "e1dd8c47",
   "metadata": {},
   "source": [
    "Създателите на Python обичат да дефинират `else` блокове за всевъзможни езикови контролни конструкции, и `try` не е изключение (no pun intended). Кодът в `else` след `try-except` би се изпълнил само тогава, когато не е засечена никаква грешка при изпълнение."
   ]
  },
  {
   "cell_type": "code",
   "execution_count": null,
   "id": "a2b9e2fc",
   "metadata": {},
   "outputs": [
    {
     "name": "stdout",
     "output_type": "stream",
     "text": [
      "Division by zero.\n"
     ]
    }
   ],
   "source": [
    "try:\n",
    "    # y = 0 / 42\n",
    "    y = 42 / 0\n",
    "except ZeroDivisionError:\n",
    "    print(\"Division by zero.\")\n",
    "else:\n",
    "    print(\"Everything is fine.\")"
   ]
  },
  {
   "cell_type": "markdown",
   "id": "dbdae23b",
   "metadata": {},
   "source": [
    "Освен това имаме и друг опционален блок - `finally`. Той се изпълнява абсолютно винаги като последна част на `try-(except)-(else)-finally` конструкцията, независимо от това дали е била прихваната грешка или не."
   ]
  },
  {
   "cell_type": "code",
   "execution_count": null,
   "id": "05c086ee",
   "metadata": {},
   "outputs": [
    {
     "name": "stdout",
     "output_type": "stream",
     "text": [
      "Division by zero.\n",
      "I'm always here. o.o\n"
     ]
    }
   ],
   "source": [
    "try:\n",
    "    # y = 0 / 42\n",
    "    y = 42 / 0\n",
    "except ZeroDivisionError:\n",
    "    print(\"Division by zero.\")\n",
    "else:\n",
    "    print(\"Everything is fine.\")\n",
    "finally:\n",
    "    print(\"I'm always here. o.o\")"
   ]
  },
  {
   "cell_type": "markdown",
   "id": "50d3215c",
   "metadata": {},
   "source": [
    "<img src=\"assets/try_except_else_finally.png\" width=\"500\" heigth=\"400\" />"
   ]
  },
  {
   "cell_type": "markdown",
   "id": "6c02fb95",
   "metadata": {},
   "source": [
    "## Хвърляне на изключения"
   ]
  },
  {
   "cell_type": "markdown",
   "id": "3ae89cad",
   "metadata": {},
   "source": [
    "Изключенията наследяват класa `Exception`. Списък от вграденитe такива може да откриете тук: https://docs.python.org/3/library/exceptions.html"
   ]
  },
  {
   "cell_type": "markdown",
   "id": "cd03090a",
   "metadata": {},
   "source": [
    "Изключенията ги \"хвърляме\" с ключовата дума `raise`:"
   ]
  },
  {
   "cell_type": "code",
   "execution_count": null,
   "id": "aef542b7",
   "metadata": {},
   "outputs": [
    {
     "ename": "Exception",
     "evalue": "This is an exceptionally exceptional exception.",
     "output_type": "error",
     "traceback": [
      "\u001b[0;31m---------------------------------------------------------------------------\u001b[0m\n",
      "\u001b[0;31mException\u001b[0m                                 Traceback (most recent call last)\n",
      "Cell \u001b[0;32mIn [15], line 1\u001b[0m\n",
      "\u001b[0;32m----> 1\u001b[0m \u001b[39mraise\u001b[39;00m \u001b[39mException\u001b[39;00m(\u001b[39m\"\u001b[39m\u001b[39mThis is an exceptionally exceptional exception.\u001b[39m\u001b[39m\"\u001b[39m)\n",
      "\n",
      "\u001b[0;31mException\u001b[0m: This is an exceptionally exceptional exception."
     ]
    }
   ],
   "source": [
    "raise Exception(\"This is an exceptionally exceptional exception.\")"
   ]
  },
  {
   "cell_type": "code",
   "execution_count": null,
   "id": "e77fb6cc",
   "metadata": {},
   "outputs": [
    {
     "ename": "ValueError",
     "evalue": "",
     "output_type": "error",
     "traceback": [
      "\u001b[0;31m---------------------------------------------------------------------------\u001b[0m\n",
      "\u001b[0;31mValueError\u001b[0m                                Traceback (most recent call last)\n",
      "Cell \u001b[0;32mIn [16], line 1\u001b[0m\n",
      "\u001b[0;32m----> 1\u001b[0m \u001b[39mraise\u001b[39;00m \u001b[39mValueError\u001b[39;00m\n",
      "\n",
      "\u001b[0;31mValueError\u001b[0m: "
     ]
    }
   ],
   "source": [
    "raise ValueError  # може и без извикването на конструктора от нас"
   ]
  },
  {
   "cell_type": "code",
   "execution_count": null,
   "id": "48e158d1",
   "metadata": {},
   "outputs": [],
   "source": [
    "def get_name_by_id(id: int) -> str | None:\n",
    "    if not isinstance(id, int):\n",
    "        raise TypeError(\"id must be int!\")\n",
    "    \n",
    "    if id < 0:\n",
    "        raise ValueError(\"id must be a positive integer!\")\n",
    "\n",
    "    database = [\"Alex\", \"Lyubo\", \"Vankata\"]\n",
    "\n",
    "    if id >= len(database):\n",
    "        return None\n",
    "    \n",
    "    return database[id]"
   ]
  },
  {
   "cell_type": "markdown",
   "id": "a8cb7ddc",
   "metadata": {},
   "source": [
    "Те се пропагират нагоре по стека на изпълнението на програмата, докато не се срещне `try` блок, който може да ги обработи. Ако няма такъв, програмата се терминира и се извежда съобщение за грешка. Това пропагиране е и причината да виждаме т.нар. Stacktrace:"
   ]
  },
  {
   "cell_type": "code",
   "execution_count": null,
   "id": "6925b0ec",
   "metadata": {},
   "outputs": [
    {
     "name": "stdout",
     "output_type": "stream",
     "text": [
      "Goodbye, stack. ;-;\n"
     ]
    },
    {
     "ename": "Exception",
     "evalue": "Hello, stack!",
     "output_type": "error",
     "traceback": [
      "\u001b[0;31m---------------------------------------------------------------------------\u001b[0m\n",
      "\u001b[0;31mException\u001b[0m                                 Traceback (most recent call last)\n",
      "Cell \u001b[0;32mIn [18], line 20\u001b[0m\n",
      "\u001b[1;32m     15\u001b[0m \u001b[39mdef\u001b[39;00m \u001b[39mi\u001b[39m(): h()\n",
      "\u001b[1;32m     18\u001b[0m i()  \u001b[39m# f will catch it\u001b[39;00m\n",
      "\u001b[0;32m---> 20\u001b[0m e()\n",
      "\n",
      "Cell \u001b[0;32mIn [18], line 5\u001b[0m, in \u001b[0;36me\u001b[0;34m()\u001b[0m\n",
      "\u001b[0;32m----> 5\u001b[0m \u001b[39mdef\u001b[39;00m \u001b[39me\u001b[39m(): d()\n",
      "\n",
      "Cell \u001b[0;32mIn [18], line 4\u001b[0m, in \u001b[0;36md\u001b[0;34m()\u001b[0m\n",
      "\u001b[0;32m----> 4\u001b[0m \u001b[39mdef\u001b[39;00m \u001b[39md\u001b[39m(): c()\n",
      "\n",
      "Cell \u001b[0;32mIn [18], line 3\u001b[0m, in \u001b[0;36mc\u001b[0;34m()\u001b[0m\n",
      "\u001b[0;32m----> 3\u001b[0m \u001b[39mdef\u001b[39;00m \u001b[39mc\u001b[39m(): b()\n",
      "\n",
      "Cell \u001b[0;32mIn [18], line 2\u001b[0m, in \u001b[0;36mb\u001b[0;34m()\u001b[0m\n",
      "\u001b[0;32m----> 2\u001b[0m \u001b[39mdef\u001b[39;00m \u001b[39mb\u001b[39m(): a()\n",
      "\n",
      "Cell \u001b[0;32mIn [18], line 1\u001b[0m, in \u001b[0;36ma\u001b[0;34m()\u001b[0m\n",
      "\u001b[0;32m----> 1\u001b[0m \u001b[39mdef\u001b[39;00m \u001b[39ma\u001b[39m(): \u001b[39mraise\u001b[39;00m \u001b[39mException\u001b[39;00m(\u001b[39m\"\u001b[39m\u001b[39mHello, stack!\u001b[39m\u001b[39m\"\u001b[39m)\n",
      "\n",
      "\u001b[0;31mException\u001b[0m: Hello, stack!"
     ]
    }
   ],
   "source": [
    "def a(): raise Exception(\"Hello, stack!\")\n",
    "def b(): a()\n",
    "def c(): b()\n",
    "def d(): c()\n",
    "def e(): d()\n",
    "\n",
    "def f():\n",
    "    try:\n",
    "        e()\n",
    "    except:\n",
    "        print(f\"Goodbye, stack. ;-;\")\n",
    "\n",
    "def g(): f()\n",
    "def h(): g()\n",
    "def i(): h()\n",
    "\n",
    "\n",
    "i()  # f will catch it\n",
    "\n",
    "e()  # nothing will catch it and kaboom"
   ]
  },
  {
   "cell_type": "markdown",
   "id": "8431d324",
   "metadata": {},
   "source": [
    "Можем да си дефинираме собствени изключения, като наследяваме класа `Exception` (или някой от неговите наследници):"
   ]
  },
  {
   "cell_type": "code",
   "execution_count": null,
   "id": "7cb35345",
   "metadata": {},
   "outputs": [
    {
     "ename": "InvalidPortionException",
     "evalue": "Ama kak taka, ne moje kyufteta sus kartofi!",
     "output_type": "error",
     "traceback": [
      "\u001b[0;31m---------------------------------------------------------------------------\u001b[0m\n",
      "\u001b[0;31mInvalidPortionException\u001b[0m                   Traceback (most recent call last)\n",
      "Cell \u001b[0;32mIn [19], line 25\u001b[0m\n",
      "\u001b[1;32m     22\u001b[0m         \u001b[39mprint\u001b[39m(\u001b[39m\"\u001b[39m\u001b[39mKrem, airqn?\u001b[39m\u001b[39m\"\u001b[39m)\n",
      "\u001b[1;32m     24\u001b[0m lelkata \u001b[39m=\u001b[39m LelkataOtStolaDoNas()\n",
      "\u001b[0;32m---> 25\u001b[0m lelkata\u001b[39m.\u001b[39morder(\u001b[39m\"\u001b[39m\u001b[39mkyufteta\u001b[39m\u001b[39m\"\u001b[39m, \u001b[39m\"\u001b[39m\u001b[39mkartofi\u001b[39m\u001b[39m\"\u001b[39m)\n",
      "\n",
      "Cell \u001b[0;32mIn [19], line 20\u001b[0m, in \u001b[0;36mLelkataOtStolaDoNas.order\u001b[0;34m(self, osnovno, garnitura)\u001b[0m\n",
      "\u001b[1;32m     17\u001b[0m portion \u001b[39m=\u001b[39m (osnovno, garnitura)\n",
      "\u001b[1;32m     19\u001b[0m \u001b[39mif\u001b[39;00m portion \u001b[39mnot\u001b[39;00m \u001b[39min\u001b[39;00m \u001b[39mself\u001b[39m\u001b[39m.\u001b[39m__allowed_portions\u001b[39m.\u001b[39mitems():\n",
      "\u001b[0;32m---> 20\u001b[0m     \u001b[39mraise\u001b[39;00m InvalidPortionException(portion)\n",
      "\u001b[1;32m     22\u001b[0m \u001b[39mprint\u001b[39m(\u001b[39m\"\u001b[39m\u001b[39mKrem, airqn?\u001b[39m\u001b[39m\"\u001b[39m)\n",
      "\n",
      "\u001b[0;31mInvalidPortionException\u001b[0m: Ama kak taka, ne moje kyufteta sus kartofi!"
     ]
    }
   ],
   "source": [
    "class InvalidPortionException(Exception):\n",
    "    def __init__(self, portion: tuple[str, str]) -> None:\n",
    "        super().__init__(*portion)\n",
    "    \n",
    "    def __str__(self) -> str:\n",
    "        ingredients = \" sus \".join(self.args)\n",
    "        return f\"Ama kak taka, ne moje {ingredients}!\"\n",
    "\n",
    "\n",
    "class LelkataOtStolaDoNas:\n",
    "    def __init__(self):\n",
    "        osnovni = (\"schnietzel\", \"kyufteta\", \"kartofeni kyufteta\")\n",
    "        garnituri = (\"kartofi\", \"oriz\", \"zele\")\n",
    "        self.__allowed_portions = dict(zip(osnovni, garnituri))  # private shototo samo tq si gi znae...\n",
    "    \n",
    "    def order(self, osnovno: str, garnitura: str) -> None:\n",
    "        portion = (osnovno, garnitura)\n",
    "\n",
    "        if portion not in self.__allowed_portions.items():\n",
    "            raise InvalidPortionException(portion)\n",
    "        \n",
    "        print(\"Krem, airqn?\")\n",
    "\n",
    "lelkata = LelkataOtStolaDoNas()\n",
    "lelkata.order(\"kyufteta\", \"kartofi\")"
   ]
  },
  {
   "cell_type": "markdown",
   "id": "95b265aa",
   "metadata": {},
   "source": [
    "Възможно е освен това да се chain-ват изключения, когато в `except` блока се хвърли друго:"
   ]
  },
  {
   "cell_type": "code",
   "execution_count": null,
   "id": "9587d7e5",
   "metadata": {},
   "outputs": [
    {
     "ename": "UnbeknownstToMeException",
     "evalue": "Е аз откъде да знам, че не може kyufteta със zele...",
     "output_type": "error",
     "traceback": [
      "\u001b[0;31m---------------------------------------------------------------------------\u001b[0m\n",
      "\u001b[0;31mInvalidPortionException\u001b[0m                   Traceback (most recent call last)\n",
      "Cell \u001b[0;32mIn [20], line 9\u001b[0m\n",
      "\u001b[1;32m      8\u001b[0m \u001b[39mtry\u001b[39;00m:\n",
      "\u001b[0;32m----> 9\u001b[0m     lelka\u001b[39m.\u001b[39morder(\u001b[39m\"\u001b[39m\u001b[39mkyufteta\u001b[39m\u001b[39m\"\u001b[39m, \u001b[39m\"\u001b[39m\u001b[39mzele\u001b[39m\u001b[39m\"\u001b[39m)\n",
      "\u001b[1;32m     10\u001b[0m \u001b[39mexcept\u001b[39;00m InvalidPortionException \u001b[39mas\u001b[39;00m e:\n",
      "\n",
      "Cell \u001b[0;32mIn [19], line 20\u001b[0m, in \u001b[0;36mLelkataOtStolaDoNas.order\u001b[0;34m(self, osnovno, garnitura)\u001b[0m\n",
      "\u001b[1;32m     19\u001b[0m \u001b[39mif\u001b[39;00m portion \u001b[39mnot\u001b[39;00m \u001b[39min\u001b[39;00m \u001b[39mself\u001b[39m\u001b[39m.\u001b[39m__allowed_portions\u001b[39m.\u001b[39mitems():\n",
      "\u001b[0;32m---> 20\u001b[0m     \u001b[39mraise\u001b[39;00m InvalidPortionException(portion)\n",
      "\u001b[1;32m     22\u001b[0m \u001b[39mprint\u001b[39m(\u001b[39m\"\u001b[39m\u001b[39mKrem, airqn?\u001b[39m\u001b[39m\"\u001b[39m)\n",
      "\n",
      "\u001b[0;31mInvalidPortionException\u001b[0m: Ama kak taka, ne moje kyufteta sus zele!\n",
      "\n",
      "During handling of the above exception, another exception occurred:\n",
      "\n",
      "\u001b[0;31mUnbeknownstToMeException\u001b[0m                  Traceback (most recent call last)\n",
      "Cell \u001b[0;32mIn [20], line 12\u001b[0m\n",
      "\u001b[1;32m     10\u001b[0m \u001b[39mexcept\u001b[39;00m InvalidPortionException \u001b[39mas\u001b[39;00m e:\n",
      "\u001b[1;32m     11\u001b[0m     portion \u001b[39m=\u001b[39m \u001b[39m\"\u001b[39m\u001b[39m със \u001b[39m\u001b[39m\"\u001b[39m\u001b[39m.\u001b[39mjoin(e\u001b[39m.\u001b[39margs)\n",
      "\u001b[0;32m---> 12\u001b[0m     \u001b[39mraise\u001b[39;00m UnbeknownstToMeException(portion)\n",
      "\n",
      "\u001b[0;31mUnbeknownstToMeException\u001b[0m: Е аз откъде да знам, че не може kyufteta със zele..."
     ]
    }
   ],
   "source": [
    "class UnbeknownstToMeException(Exception):\n",
    "    def __init__(self, fact: str) -> None:\n",
    "        msg = f\"Е аз откъде да знам, че не може {fact}...\"\n",
    "        super().__init__(msg)\n",
    "\n",
    "\n",
    "lelka = LelkataOtStolaDoNas()\n",
    "try:\n",
    "    lelka.order(\"kyufteta\", \"zele\")\n",
    "except InvalidPortionException as e:\n",
    "    portion = \" със \".join(e.args)\n",
    "    raise UnbeknownstToMeException(portion)"
   ]
  },
  {
   "cell_type": "markdown",
   "id": "e7a16c1f",
   "metadata": {},
   "source": [
    "*Disclaimer:* историята е по действителен случай, obv."
   ]
  },
  {
   "cell_type": "markdown",
   "id": "8ffe8c3e",
   "metadata": {},
   "source": [
    "За да индикираме, че дадено изключение е директно следствие на друго, може да използваме `raise ... from ...`. Повече инфо в [документацията](https://docs.python.org/3/tutorial/errors.html#exception-chaining)."
   ]
  },
  {
   "cell_type": "markdown",
   "id": "c0be0983",
   "metadata": {},
   "source": [
    "`assert`"
   ]
  },
  {
   "cell_type": "markdown",
   "id": "cfa948b6",
   "metadata": {},
   "source": [
    "Когато искаме да предпазим изпълнението на код от недифинрано поведение, можем да използваме ключовата дума `assert`. Тя проверява дали дадено условие е изпълнено и ако не е, то хвърля `AssertionError` с някакво съобщение за грешка, което може да зададем ако искаме. Обикновено се използва на фаза разработка и тестване на код, но може и да се използва и в production код, ако сме сигурни, че няма никога да се изпълни и че ако все пак се изпълни, то е окей програмата ни да крашне."
   ]
  },
  {
   "cell_type": "code",
   "execution_count": null,
   "id": "37952548",
   "metadata": {},
   "outputs": [
    {
     "name": "stdout",
     "output_type": "stream",
     "text": [
      "0.816496580927726\n"
     ]
    },
    {
     "ename": "AssertionError",
     "evalue": "Expected and actual result series must be of equal length!",
     "output_type": "error",
     "traceback": [
      "\u001b[0;31m---------------------------------------------------------------------------\u001b[0m\n",
      "\u001b[0;31mAssertionError\u001b[0m                            Traceback (most recent call last)\n",
      "Cell \u001b[0;32mIn [21], line 9\u001b[0m\n",
      "\u001b[1;32m      5\u001b[0m     \u001b[39mreturn\u001b[39;00m (\u001b[39msum\u001b[39m((t \u001b[39m-\u001b[39m a) \u001b[39m*\u001b[39m\u001b[39m*\u001b[39m \u001b[39m2\u001b[39m \u001b[39mfor\u001b[39;00m t, a \u001b[39min\u001b[39;00m \u001b[39mzip\u001b[39m(test_results, actual_results)) \u001b[39m/\u001b[39m \u001b[39mlen\u001b[39m(test_results)) \u001b[39m*\u001b[39m\u001b[39m*\u001b[39m \u001b[39m0.5\u001b[39m  \u001b[39m# RMSE\u001b[39;00m\n",
      "\u001b[1;32m      8\u001b[0m \u001b[39mprint\u001b[39m(evaluate([\u001b[39m1\u001b[39m, \u001b[39m2\u001b[39m, \u001b[39m3\u001b[39m], [\u001b[39m2\u001b[39m, \u001b[39m2\u001b[39m, \u001b[39m4\u001b[39m]))\n",
      "\u001b[0;32m----> 9\u001b[0m \u001b[39mprint\u001b[39m(evaluate([\u001b[39m1\u001b[39m, \u001b[39m2\u001b[39m, \u001b[39m3\u001b[39m], [\u001b[39m2\u001b[39m, \u001b[39m2\u001b[39m, \u001b[39m4\u001b[39m, \u001b[39m5\u001b[39m]))\n",
      "\n",
      "Cell \u001b[0;32mIn [21], line 4\u001b[0m, in \u001b[0;36mevaluate\u001b[0;34m(test_results, actual_results)\u001b[0m\n",
      "\u001b[1;32m      3\u001b[0m \u001b[39mdef\u001b[39;00m \u001b[39mevaluate\u001b[39m(test_results: Iterable[\u001b[39mint\u001b[39m], actual_results: Iterable[\u001b[39mint\u001b[39m]) \u001b[39m-\u001b[39m\u001b[39m>\u001b[39m \u001b[39mfloat\u001b[39m:\n",
      "\u001b[0;32m----> 4\u001b[0m     \u001b[39massert\u001b[39;00m \u001b[39mlen\u001b[39m(test_results) \u001b[39m==\u001b[39m \u001b[39mlen\u001b[39m(actual_results), \u001b[39m\"\u001b[39m\u001b[39mExpected and actual result series must be of equal length!\u001b[39m\u001b[39m\"\u001b[39m\n",
      "\u001b[1;32m      5\u001b[0m     \u001b[39mreturn\u001b[39;00m (\u001b[39msum\u001b[39m((t \u001b[39m-\u001b[39m a) \u001b[39m*\u001b[39m\u001b[39m*\u001b[39m \u001b[39m2\u001b[39m \u001b[39mfor\u001b[39;00m t, a \u001b[39min\u001b[39;00m \u001b[39mzip\u001b[39m(test_results, actual_results)) \u001b[39m/\u001b[39m \u001b[39mlen\u001b[39m(test_results)) \u001b[39m*\u001b[39m\u001b[39m*\u001b[39m \u001b[39m0.5\u001b[39m\n",
      "\n",
      "\u001b[0;31mAssertionError\u001b[0m: Expected and actual result series must be of equal length!"
     ]
    }
   ],
   "source": [
    "from typing import Iterable\n",
    "\n",
    "def evaluate(test_results: Iterable[int], actual_results: Iterable[int]) -> float:\n",
    "    assert len(test_results) == len(actual_results), \"Expected and actual result series must be of equal length!\"\n",
    "    return (sum((t - a) ** 2 for t, a in zip(test_results, actual_results)) / len(test_results)) ** 0.5  # RMSE\n",
    "\n",
    "\n",
    "print(evaluate([1, 2, 3], [2, 2, 4]))\n",
    "print(evaluate([1, 2, 3], [2, 2, 4, 5]))"
   ]
  },
  {
   "cell_type": "markdown",
   "id": "3bbcb1d6",
   "metadata": {},
   "source": [
    "В някои случаи можем да очакваме да прихванем и `AssertionError`, примерно за да логнем това състояние, вместо да ни крашне програмата:"
   ]
  },
  {
   "cell_type": "code",
   "execution_count": null,
   "id": "6d641542",
   "metadata": {},
   "outputs": [
    {
     "name": "stderr",
     "output_type": "stream",
     "text": [
      "Expected and actual result series must be of equal length!\n"
     ]
    }
   ],
   "source": [
    "try:\n",
    "    evaluate([1, 2, 3], [2, 2, 4, 5])\n",
    "except AssertionError as e:\n",
    "    logger.error(e)"
   ]
  },
  {
   "cell_type": "code",
   "execution_count": null,
   "id": "2fcc053b",
   "metadata": {},
   "outputs": [],
   "source": []
  },
  {
   "cell_type": "markdown",
   "id": "8199f159",
   "metadata": {},
   "source": [
    "# Работа с файлове в Python\n",
    "План на лекцията:\n",
    "- Кратка интродукция за работата с пътища, Windows и Unix\n",
    "- Представяне на файловете в Python\n",
    "- Четене на файлове\n",
    "- Писане на файлове\n",
    "- Работа с файлове и пътища\n",
    "- Използване на `with`\n",
    "- `tell` и `seek`\n",
    "- Примери\n",
    "- Задачи"
   ]
  },
  {
   "cell_type": "markdown",
   "id": "b35fa499",
   "metadata": {},
   "source": [
    "### Предварителна подготовка "
   ]
  },
  {
   "cell_type": "code",
   "execution_count": null,
   "id": "564c3846",
   "metadata": {},
   "outputs": [],
   "source": [
    "!mkdir files\n",
    "!curl -o files/lorem_ipsum.txt https://raw.githubusercontent.com/lyubolp/PythonCourse2022/08_files/08%20-%20Files/files/1.txt\n",
    "!echo \"hello\" > files/hello.txt"
   ]
  },
  {
   "cell_type": "markdown",
   "id": "c14eea47",
   "metadata": {},
   "source": [
    "## Кратка интродукция за работата с пътища, Windows и Unix."
   ]
  },
  {
   "cell_type": "markdown",
   "id": "b7d4c09b",
   "metadata": {},
   "source": [
    "Път в една файлова система посочва локацията и името на даден обект (бил той файл или директория). Пример за път в Linux/MacOS е `/home/user/myfile.txt`, а в Windows - `C:\\Users\\user\\myfile.txt`. \n",
    "\n",
    "Забелязва се, че пътищата в Windows и Unix-базираните ОС се разделят с различни черти. Нашият Python код трябва да е съвместим и с двата начина за разделя на пътища. \n",
    "\n",
    "За наше улеснение, Python предлага функцията `os.path.join`, която по подадени имена на директории/файлове, конструира правилния спрямо нашия OS път."
   ]
  },
  {
   "cell_type": "code",
   "execution_count": null,
   "id": "2ee40c4b",
   "metadata": {},
   "outputs": [],
   "source": [
    "import os\n",
    "\n",
    "os.path.join('/home', 'lyubo', 'myfile.txt')"
   ]
  },
  {
   "cell_type": "markdown",
   "id": "ba41865b",
   "metadata": {},
   "source": [
    "Понеже кодът е изпълнен под Linux, получаваме Unix-ски път. Ако изпълним обаче същия код под Windows, ще получим правилен Windows-ки път. "
   ]
  },
  {
   "cell_type": "markdown",
   "id": "faa7d795",
   "metadata": {},
   "source": [
    "## Представяне на файловете в Python"
   ]
  },
  {
   "cell_type": "markdown",
   "id": "49ebb7d9",
   "metadata": {},
   "source": [
    "Python предоставя API за работа с файлове и потоци. Python работи с т.нар. \"file objects\" - това може да са файлове на диска, sockets, pipes и други потоци.\n",
    "\n",
    "Освен с текстови файлове, можем да работим и с бинарни файлове. За момента обаче, ще се спрем само върху текстовите файлове."
   ]
  },
  {
   "cell_type": "markdown",
   "id": "fdbea373",
   "metadata": {},
   "source": [
    "Можем да отворим един файл за работа, с помощта на функцията `open`. В най-простия си вид, тя приема път към файл. "
   ]
  },
  {
   "cell_type": "code",
   "execution_count": null,
   "id": "e2e02e30",
   "metadata": {},
   "outputs": [],
   "source": [
    "fd = open(os.path.join('files', 'lorem_ipsum.txt'))\n",
    "\n",
    "print(fd)\n",
    "\n",
    "fd.close()"
   ]
  },
  {
   "cell_type": "markdown",
   "id": "646af4b5",
   "metadata": {},
   "source": [
    "След като приключим работа с един файл, не трябва да забравяме да го затворим. Затварянето на един файл става с помощта на `close` метода. "
   ]
  },
  {
   "cell_type": "markdown",
   "id": "0a8c7f3a",
   "metadata": {},
   "source": [
    "Забелязваме, че обекта който получаваме като резултат от `open` има име (`files/lorem_ipsum.txt`), режим (`r`) и кодиране (`UTF-8`).\n",
    "\n",
    "Един файл може да бъде отворен в няколко различни режима:\n",
    "- `r` - отваря файла за четене\n",
    "- `w` - отваря файла за писане, като файла първо бива зачистен\n",
    "- `a` - отваря файла за писане, като новото съдържание се записва в края на файла\n",
    "- `x` - създава файла, ако не съществува. Ако файла вече съществува, се хвърля `FileExistsError`\n",
    "- `b` - отваря файл в бинарен режим\n",
    "- `t` - отваря файл в текстови режим\n",
    "- `+` - отваря файла за четене и писане\n",
    "\n",
    "Освен режима на отваряне, можем да променим и кодирането, с което се опитваме да четем файла. По подразбиране, използваме `UTF-8`. "
   ]
  },
  {
   "cell_type": "markdown",
   "id": "975d6e7e",
   "metadata": {},
   "source": [
    "Ако се опитаме да запишем файл в несъществуваща директория, ще получим грешка"
   ]
  },
  {
   "cell_type": "code",
   "execution_count": null,
   "id": "d36f5511",
   "metadata": {},
   "outputs": [],
   "source": [
    "fd = open(os.path.join('files', 'non_existing_dir', 'new_file.txt'), 'w')\n",
    "\n",
    "fd.write('content')\n",
    "\n",
    "fd.close()"
   ]
  },
  {
   "cell_type": "markdown",
   "id": "0ac015c7",
   "metadata": {},
   "source": [
    "## Четене на файлове"
   ]
  },
  {
   "cell_type": "markdown",
   "id": "a034bc04",
   "metadata": {},
   "source": [
    "В Python имаме три метода, чрез които можем да четем от файлове: `read`, `readline` и `readlines`.  "
   ]
  },
  {
   "cell_type": "markdown",
   "id": "73830289",
   "metadata": {},
   "source": [
    "Нека първо разгледаме метода `read`. Той прочита целия файл и запазва съдържанието му в променлива, като един голям низ. "
   ]
  },
  {
   "cell_type": "code",
   "execution_count": null,
   "id": "a29884e9",
   "metadata": {},
   "outputs": [],
   "source": [
    "import os\n",
    "\n",
    "fd = open(os.path.join('files', 'lorem_ipsum.txt'))\n",
    "\n",
    "content = fd.read()\n",
    "print(f'content={content}')\n",
    "\n",
    "fd.close()"
   ]
  },
  {
   "cell_type": "markdown",
   "id": "8ba0d37c",
   "metadata": {},
   "source": [
    "Веднъж прочетен един файл, следващото прочитане ще ни върне празен низ. "
   ]
  },
  {
   "cell_type": "code",
   "execution_count": null,
   "id": "0612fec7",
   "metadata": {},
   "outputs": [],
   "source": [
    "fd = open(os.path.join('files', 'lorem_ipsum.txt'))\n",
    "\n",
    "content = fd.read()\n",
    "print(f'content={content}')\n",
    "\n",
    "content = fd.read()\n",
    "print(f'content={content}')\n",
    "\n",
    "fd.close()"
   ]
  },
  {
   "cell_type": "markdown",
   "id": "d348bb07",
   "metadata": {},
   "source": [
    "Друг вариант за четене на файл, е ред по ред - това става с помощта на метода `readline`. "
   ]
  },
  {
   "cell_type": "code",
   "execution_count": null,
   "id": "808bcdeb",
   "metadata": {},
   "outputs": [],
   "source": [
    "import os\n",
    "fd = open(os.path.join('files', 'lorem_ipsum.txt'))\n",
    "\n",
    "content = fd.readline()\n",
    "print(f'content={content}')\n",
    "\n",
    "content = fd.readline()\n",
    "print(f'content={content}')\n",
    "\n",
    "fd.close()"
   ]
  },
  {
   "cell_type": "markdown",
   "id": "892f4cef",
   "metadata": {},
   "source": [
    "След прочитане на последния ред, `readline` връща празен низ."
   ]
  },
  {
   "cell_type": "code",
   "execution_count": null,
   "id": "1cd463eb",
   "metadata": {},
   "outputs": [],
   "source": [
    "import os\n",
    "fd = open(os.path.join('files', 'lorem_ipsum.txt'))\n",
    "\n",
    "content = fd.readline()\n",
    "print(f'content={content}')\n",
    "\n",
    "while content != '':\n",
    "    content = fd.readline()\n",
    "    print(f'content={content}')\n",
    "\n",
    "fd.close()"
   ]
  },
  {
   "cell_type": "markdown",
   "id": "cf88f827",
   "metadata": {},
   "source": [
    "Ако искаме да получим списък от всички редове във файл, можем да използваме `readlines`."
   ]
  },
  {
   "cell_type": "code",
   "execution_count": null,
   "id": "a1aea89e",
   "metadata": {},
   "outputs": [],
   "source": [
    "import os\n",
    "fd = open(os.path.join('files', 'lorem_ipsum.txt'))\n",
    "\n",
    "content = fd.readlines()\n",
    "print(f'content={content}')\n",
    "\n",
    "fd.close()"
   ]
  },
  {
   "cell_type": "code",
   "execution_count": null,
   "id": "c845ec07",
   "metadata": {},
   "outputs": [],
   "source": [
    "import os\n",
    "fd = open(os.path.join('files', 'lorem_ipsum.txt'))\n",
    "\n",
    "content = fd.readlines()\n",
    "\n",
    "for line in content:\n",
    "    print(f'content={line}')\n",
    "\n",
    "fd.close()"
   ]
  },
  {
   "cell_type": "markdown",
   "id": "975331fa",
   "metadata": {},
   "source": [
    "Вместо да използваме `readlines`, можем да итерираме директно по файл обекта."
   ]
  },
  {
   "cell_type": "code",
   "execution_count": null,
   "id": "3b9cda55",
   "metadata": {},
   "outputs": [],
   "source": [
    "import os\n",
    "fd = open(os.path.join('files', 'lorem_ipsum.txt'))\n",
    "\n",
    "for line in fd:\n",
    "    print(f'content={line}')\n",
    "\n",
    "fd.close()"
   ]
  },
  {
   "cell_type": "markdown",
   "id": "3a8b6dd2",
   "metadata": {},
   "source": [
    "## Писане на файлове"
   ]
  },
  {
   "cell_type": "markdown",
   "id": "0cac23b0",
   "metadata": {},
   "source": [
    "За писане на файлове в Python може да използваме методите `write` и `writelines`"
   ]
  },
  {
   "cell_type": "markdown",
   "id": "cdbe6912",
   "metadata": {},
   "source": [
    "Методът `write` записва низ във файла. Позицията зависи от начина по който е отворен файла (с или без изтриване на текущото съдържание)."
   ]
  },
  {
   "cell_type": "code",
   "execution_count": null,
   "id": "91ba4930",
   "metadata": {},
   "outputs": [],
   "source": [
    "import os\n",
    "fd = open(os.path.join('files', 'hello_world.txt'), 'w')\n",
    "\n",
    "fd.write('Hello world')\n",
    "\n",
    "fd.close()"
   ]
  },
  {
   "cell_type": "code",
   "execution_count": null,
   "id": "5590860f",
   "metadata": {},
   "outputs": [],
   "source": [
    "import os\n",
    "fd = open(os.path.join('files', 'hello_world.txt'))\n",
    "\n",
    "content = fd.read()\n",
    "print(content)\n",
    "fd.close()"
   ]
  },
  {
   "cell_type": "markdown",
   "id": "bc1d8f64",
   "metadata": {},
   "source": [
    "Припомням, че ако отворим файла в режим `w`, то ще изтрием текущото му съдържание."
   ]
  },
  {
   "cell_type": "code",
   "execution_count": null,
   "id": "66edf5ab",
   "metadata": {},
   "outputs": [],
   "source": [
    "import os\n",
    "\n",
    "fd = open(os.path.join('files', 'my_important_file.txt'), 'w')\n",
    "fd.write('Really important')\n",
    "fd.close()\n",
    "\n",
    "# Oops, forgot to write something down\n",
    "\n",
    "fd = open(os.path.join('files', 'my_important_file.txt'), 'w')\n",
    "fd.write('Should really not forget this')\n",
    "fd.close()\n"
   ]
  },
  {
   "cell_type": "code",
   "execution_count": null,
   "id": "b27db0c1",
   "metadata": {},
   "outputs": [],
   "source": [
    "import os\n",
    "fd = open(os.path.join('files', 'my_important_file.txt'))\n",
    "\n",
    "content = fd.read()\n",
    "print(content)\n",
    "fd.close()"
   ]
  },
  {
   "cell_type": "markdown",
   "id": "563abb65",
   "metadata": {},
   "source": [
    "Ако искаме да пишем в края на файла, трябва да използваме режим `a`"
   ]
  },
  {
   "cell_type": "code",
   "execution_count": null,
   "id": "10f47030",
   "metadata": {},
   "outputs": [],
   "source": [
    "import os\n",
    "\n",
    "fd = open(os.path.join('files', 'my_important_file_2.txt'), 'a')\n",
    "fd.write('Really important\\n')\n",
    "fd.close()\n",
    "\n",
    "# Oops, forgot to write something down\n",
    "\n",
    "fd = open(os.path.join('files', 'my_important_file_2.txt'), 'a')\n",
    "fd.write('Should really not forget this\\n')\n",
    "fd.close()"
   ]
  },
  {
   "cell_type": "code",
   "execution_count": null,
   "id": "b087036c",
   "metadata": {},
   "outputs": [],
   "source": [
    "import os\n",
    "fd = open(os.path.join('files', 'my_important_file_2.txt'))\n",
    "\n",
    "content = fd.read()\n",
    "print(content)\n",
    "fd.close()"
   ]
  },
  {
   "cell_type": "markdown",
   "id": "8babefb4",
   "metadata": {},
   "source": [
    "Методът `writelines` приема списък от \"редове\", които да бъдат записани във файла.\n",
    "\n",
    "**Забележка**: `writelines` не добавя автоматично нови редове след всеки елемент, затова се очаква всеки елемент от списъка да съдържа нов ред в себе си. "
   ]
  },
  {
   "cell_type": "code",
   "execution_count": null,
   "id": "83dc09e6",
   "metadata": {},
   "outputs": [],
   "source": [
    "import os\n",
    "\n",
    "fd = open(os.path.join('files', 'writelines_example.txt'), 'w')\n",
    "\n",
    "lines_to_write = ['hello\\n', 'this\\n', 'are\\n', 'my\\n', 'lines\\n']\n",
    "fd.writelines(lines_to_write)\n",
    "\n",
    "fd.close()"
   ]
  },
  {
   "cell_type": "code",
   "execution_count": null,
   "id": "7d1e95c9",
   "metadata": {},
   "outputs": [],
   "source": [
    "import os\n",
    "fd = open(os.path.join('files', 'writelines_example.txt'))\n",
    "\n",
    "content = fd.read()\n",
    "print(content)\n",
    "fd.close()"
   ]
  },
  {
   "cell_type": "markdown",
   "id": "d3bccc4a",
   "metadata": {},
   "source": [
    "Тук е добре да се отбележи, че можем да записваме и други типове данни, освен низове (е не точно, но...).\n",
    "\n",
    "Стига даден тип (или обект) да има низово представяне, можем да го запишем във файл."
   ]
  },
  {
   "cell_type": "code",
   "execution_count": null,
   "id": "102c3e8c",
   "metadata": {},
   "outputs": [],
   "source": [
    "import os\n",
    "\n",
    "other_types_in_files = os.path.join('files', 'other_types_in_files.txt')\n",
    "\n",
    "fd = open(other_types_in_files, 'w')\n",
    "\n",
    "fd.write(str(2) + '\\n')\n",
    "fd.write(str([2, 3, 4]) + '\\n')\n",
    "fd.write(str({'a': 2, 'b': 3, 'c': 4}) + '\\n')\n",
    "fd.write(str((2, 3)) + '\\n')\n",
    "\n",
    "fd.close()\n",
    "\n",
    "fd = open(other_types_in_files)\n",
    "content = fd.read()\n",
    "print(content)\n",
    "fd.close()"
   ]
  },
  {
   "cell_type": "markdown",
   "id": "19561408",
   "metadata": {},
   "source": [
    "## Работа с файлове и пътища"
   ]
  },
  {
   "cell_type": "markdown",
   "id": "18dd668e",
   "metadata": {},
   "source": [
    "Python предлага удобен начин за работа с файлове. Вградената библиотека `os` съдържа всичко необходимо за работата с файлове и директории. \n",
    "\n",
    "Ще разгледаме как можем да:\n",
    "- Прегледаме съдържанието на директория\n",
    "- Преместим файл\n",
    "- Изтрием файл\n",
    "- Създадем директория\n",
    "- Преместим директория\n",
    "- Изтрием директория\n",
    "- Обща работа с пътища\n",
    "- Обхождане на директории"
   ]
  },
  {
   "cell_type": "markdown",
   "id": "70808275",
   "metadata": {},
   "source": [
    "### Преглеждане на съдържание на директория"
   ]
  },
  {
   "cell_type": "markdown",
   "id": "593e0f03",
   "metadata": {},
   "source": [
    "Можем да видим съдържанието на директория като използваме `os.listdir` метода. Той ни връща списък от низове, съдържащи имената на директориите и файловете в исканата от нас папка. "
   ]
  },
  {
   "cell_type": "code",
   "execution_count": null,
   "id": "8883a952",
   "metadata": {},
   "outputs": [],
   "source": [
    "import os\n",
    "\n",
    "print(os.listdir('files'))"
   ]
  },
  {
   "cell_type": "markdown",
   "id": "b440ce76",
   "metadata": {},
   "source": [
    "### Преместване на файл"
   ]
  },
  {
   "cell_type": "markdown",
   "id": "3068f0f2",
   "metadata": {},
   "source": [
    "Преместването на файл става чрез \"преименуването му\" (или всъщност, преименуването на файл е преместването му като файл с друго име 🤔) - това в Python става с помощта на функцията `os.rename`. Тя приема два аргумента - source път и destination път (т.е. старото и новото име на файла)"
   ]
  },
  {
   "cell_type": "code",
   "execution_count": null,
   "id": "e59ae08a",
   "metadata": {},
   "outputs": [],
   "source": [
    "import os\n",
    "\n",
    "file_to_be_moved = os.path.join('files', 'to_be_moved.txt')\n",
    "\n",
    "fp = open(file_to_be_moved, 'w')\n",
    "fp.write('This file is to be moved')\n",
    "fp.close()\n",
    "\n",
    "print(f'Before = {os.listdir(\"files\")}')\n",
    "\n",
    "file_moved = os.path.join('files', 'file_moved.txt')\n",
    "\n",
    "os.rename(file_to_be_moved, file_moved)\n",
    "\n",
    "print(f'After = {os.listdir(\"files\")}')"
   ]
  },
  {
   "cell_type": "markdown",
   "id": "c9febdc4",
   "metadata": {},
   "source": [
    "Ако вече съществува файл със същото име се случват едно от две неща:\n",
    "- Ако кодът се изпълнява под Windows, се хвърля `FileExistsError`. \n",
    "- Ако кодът се изпълнява под Linux/MacOS и имаме права върху файла върху който ще пишем, той ще бъде презаписан"
   ]
  },
  {
   "cell_type": "markdown",
   "id": "e42cc4fe",
   "metadata": {},
   "source": [
    "Нека разгледаме следната ситуация: имаме файл `files/a/file.txt`, който искаме да преместим в `files/b`, но директорията `b` не съществува."
   ]
  },
  {
   "cell_type": "code",
   "execution_count": null,
   "id": "f251d774",
   "metadata": {},
   "outputs": [],
   "source": [
    "!mkdir files/a"
   ]
  },
  {
   "cell_type": "code",
   "execution_count": null,
   "id": "277f92ba",
   "metadata": {},
   "outputs": [],
   "source": [
    "import os\n",
    "\n",
    "file_to_be_moved = os.path.join('files', 'a', 'file.txt')\n",
    "\n",
    "fp = open(file_to_be_moved, 'w')\n",
    "fp.write('This file is to be moved')\n",
    "fp.close()\n",
    "\n",
    "os.rename(file_to_be_moved, os.path.join('files', 'b', 'file.txt'))"
   ]
  },
  {
   "cell_type": "markdown",
   "id": "860d2ea8",
   "metadata": {},
   "source": [
    "### Изтриване на файл"
   ]
  },
  {
   "cell_type": "markdown",
   "id": "ecf4724d",
   "metadata": {},
   "source": [
    "Изтриването на файл се случва чрез метода `os.remove`. Той приема един аргумент - пътят към файла, който ще бъде изтрит."
   ]
  },
  {
   "cell_type": "code",
   "execution_count": null,
   "id": "4f0a47c7",
   "metadata": {},
   "outputs": [],
   "source": [
    "import os\n",
    "\n",
    "file_path = os.path.join('files', 'to_removed.txt')\n",
    "fp = open(file_path, 'w')\n",
    "fp.write('This file will be deleted')\n",
    "fp.close()\n",
    "\n",
    "print(f'Before = {os.listdir(\"files\")}')\n",
    "\n",
    "os.remove(file_path)\n",
    "\n",
    "print(f'After = {os.listdir(\"files\")}')"
   ]
  },
  {
   "cell_type": "markdown",
   "id": "281495d9",
   "metadata": {},
   "source": [
    "Ако се опитаме да изтрием директория с `os.remove`, ще получим грешка `IsADirectoryError`."
   ]
  },
  {
   "cell_type": "code",
   "execution_count": null,
   "id": "ed5f10da",
   "metadata": {},
   "outputs": [],
   "source": [
    "import os\n",
    "\n",
    "os.remove('files')"
   ]
  },
  {
   "cell_type": "markdown",
   "id": "37e8bdfa",
   "metadata": {},
   "source": [
    "А ако опитаме да изтрием файл, който не съществува, ще получим грешка `FileNotFoundError`."
   ]
  },
  {
   "cell_type": "code",
   "execution_count": null,
   "id": "0d5b18db",
   "metadata": {},
   "outputs": [],
   "source": [
    "import os\n",
    "\n",
    "non_existant_path = os.path.join('files', 'this_file_does_not_exist.txt')\n",
    "\n",
    "os.remove(non_existant_path)"
   ]
  },
  {
   "cell_type": "markdown",
   "id": "2bf3c225",
   "metadata": {},
   "source": [
    "### Копиране на файлове"
   ]
  },
  {
   "cell_type": "markdown",
   "id": "dc4c59ff",
   "metadata": {},
   "source": [
    "В Python можем да копираме файлове с помощта на `shutil` библиотеката. Тя ни предоставя методи за копиране на файлове.\n",
    "\n",
    "Ще разгледаме част от тях:\n",
    "\n",
    "- `shutil.copy()` - копира файл от едно място на друго. Приема два аргумента - source и target пътища. Ако файлът вече съществува на новото място, ще бъде презаписан. Ако target е директория, ще се запише копие на файла в тази директория със същото име.\n",
    "- `shutil.copy2()` - работи по същия начин като `shutil.copy()`, но запазва и метаданните на файла (например времето на създаване)\n",
    "- `shutil.copystat()` - копира само метаданните на файла\n",
    "- `shutil.copytree()` - копира директория и всички файлове в нея. Приема два аргумента - source и target пътища. "
   ]
  },
  {
   "cell_type": "code",
   "execution_count": null,
   "id": "b15b529d",
   "metadata": {},
   "outputs": [
    {
     "name": "stdout",
     "output_type": "stream",
     "text": [
      "Before = ['1.txt']\n",
      "After = ['1_2.txt', '1.txt', '1_1.txt']\n"
     ]
    }
   ],
   "source": [
    "import os\n",
    "import shutil\n",
    "\n",
    "print(f'Before = {os.listdir(\"files\")}')\n",
    "\n",
    "shutil.copy(os.path.join('files', '1.txt'), os.path.join('files', '1_1.txt'))\n",
    "shutil.copy2(os.path.join('files', '1.txt'), os.path.join('files', '1_2.txt'))\n",
    "\n",
    "print(f'After = {os.listdir(\"files\")}')"
   ]
  },
  {
   "cell_type": "markdown",
   "id": "ad660ccf",
   "metadata": {},
   "source": [
    "### Създаване на директория"
   ]
  },
  {
   "cell_type": "markdown",
   "id": "d5035af2",
   "metadata": {},
   "source": [
    "В Python създаването на директория става чрез метода `os.mkdir`. Той приема пътя към директорията, която да бъде създадена. "
   ]
  },
  {
   "cell_type": "code",
   "execution_count": null,
   "id": "eabbc616",
   "metadata": {},
   "outputs": [],
   "source": [
    "import os\n",
    "\n",
    "print(f'Before = {os.listdir(\"files\")}')\n",
    "\n",
    "file_path = os.path.join('files', 'mkdir_example')\n",
    "os.mkdir(file_path)\n",
    "\n",
    "print(f'After = {os.listdir(\"files\")}')"
   ]
  },
  {
   "cell_type": "markdown",
   "id": "7472e1d6",
   "metadata": {},
   "source": [
    "Само за информация: Можем да зададем права на директорията, с помощта на аргумента `mode`. "
   ]
  },
  {
   "cell_type": "markdown",
   "id": "4ce1c59c",
   "metadata": {},
   "source": [
    "Ако се опитаме да създадем директория, която вече съществува, ще получим `FileExistsError`. "
   ]
  },
  {
   "cell_type": "code",
   "execution_count": null,
   "id": "00992398",
   "metadata": {},
   "outputs": [],
   "source": [
    "import os\n",
    "\n",
    "file_path = os.path.join('files', 'mkdir_existing_directory')\n",
    "os.mkdir(file_path)\n",
    "\n",
    "os.mkdir(file_path)"
   ]
  },
  {
   "cell_type": "markdown",
   "id": "2f175db0",
   "metadata": {},
   "source": [
    "Нека опитаме да създадем няколко нови директории, една под друга. "
   ]
  },
  {
   "cell_type": "code",
   "execution_count": null,
   "id": "eb9c332e",
   "metadata": {},
   "outputs": [],
   "source": [
    "import os\n",
    "\n",
    "print(f'Before = {os.listdir(\"files\")}')\n",
    "\n",
    "file_path = os.path.join('files', 'mkdir_example_parent', 'mkdir_example_child')\n",
    "os.mkdir(file_path)\n",
    "\n",
    "print(f'After = {os.listdir(\"files\")}')"
   ]
  },
  {
   "cell_type": "markdown",
   "id": "52b356d9",
   "metadata": {},
   "source": [
    "Тук получаваме грешка - `os.mkdir` не може да създаде несъществуващите директории над последната. За целта трябва да използваме метода `os.makedirs`. Той приема отново като аргумент пътят към директорията, която искаме да създадем, както и права на директорията/директориите. "
   ]
  },
  {
   "cell_type": "code",
   "execution_count": null,
   "id": "ca89b86b",
   "metadata": {},
   "outputs": [],
   "source": [
    "import os\n",
    "\n",
    "print(f'Before = {os.listdir(\"files\")}')\n",
    "\n",
    "file_path = os.path.join('files', 'mkdir_example_parent', 'mkdir_example_child')\n",
    "os.makedirs(file_path)\n",
    "\n",
    "print(f'After = {os.listdir(\"files\")}')"
   ]
  },
  {
   "cell_type": "markdown",
   "id": "d6ce6ff5",
   "metadata": {},
   "source": [
    "Един допълнителен аргумент, който `makedirs` приема, е аргумента `exist_ok`. Той контролира дали да се хвърли грешка, ако крайната директория която искаме да създадем, вече съществува. "
   ]
  },
  {
   "cell_type": "markdown",
   "id": "8498b35e",
   "metadata": {},
   "source": [
    "### Преместване на директория"
   ]
  },
  {
   "cell_type": "markdown",
   "id": "ca3471ee",
   "metadata": {},
   "source": [
    "Освен за преместване на файлове, `os.rename` работи и за директории. "
   ]
  },
  {
   "cell_type": "code",
   "execution_count": null,
   "id": "4aaff2b7",
   "metadata": {},
   "outputs": [],
   "source": [
    "import os\n",
    "\n",
    "file_path = os.path.join('files', 'rename_dir_example_1')\n",
    "os.makedirs(file_path)\n",
    "\n",
    "print(f'Before = {os.listdir(\"files\")}')\n",
    "\n",
    "target_file_path = os.path.join('files', 'renamed_dir_example_1')\n",
    "os.rename(file_path, target_file_path)\n",
    "print(f'After = {os.listdir(\"files\")}')"
   ]
  },
  {
   "cell_type": "markdown",
   "id": "64cf7581",
   "metadata": {},
   "source": [
    "Както споменахме по-горе, ако дестинацията съществува, под Windows `os.rename` хвърля `FileExistsError`. \n",
    "\n",
    "Под Unix системи (Linux, MacOS) поведението е малко по-различно:\n",
    "- Ако source пътя е файл, а destination пътя е директория, се хвърля `IsADirectory` грешка\n",
    "- Ако source пътя е директория, а destination пътя е файл, се хвърля `NotADirectory` грешка\n",
    "- Ако destination е съществуваща директория:\n",
    "    - Ако е празна, преместването е успешно\n",
    "    - Ако не е празна, се хвърля `OSError` грешка\n"
   ]
  },
  {
   "cell_type": "markdown",
   "id": "25ec475b",
   "metadata": {},
   "source": [
    "### Изтриване на директория"
   ]
  },
  {
   "cell_type": "markdown",
   "id": "d29ad6a6",
   "metadata": {},
   "source": [
    "Изтриването на директория става чрез функцията `os.rmdir`. Тя приема пътя към директорията, която трябва да бъде изтрита. "
   ]
  },
  {
   "cell_type": "code",
   "execution_count": null,
   "id": "a918993f",
   "metadata": {},
   "outputs": [],
   "source": [
    "import os\n",
    "\n",
    "file_path = os.path.join('files', 'remove_dir_example_1')\n",
    "os.makedirs(file_path)\n",
    "\n",
    "print(f'Before = {os.listdir(\"files\")}')\n",
    "\n",
    "os.rmdir(file_path)\n",
    "print(f'After = {os.listdir(\"files\")}')"
   ]
  },
  {
   "cell_type": "markdown",
   "id": "7b9502e9",
   "metadata": {},
   "source": [
    "Ако директорията, която се опитаме да изтрием, не е празна, ще получим `OSError`. А ако тя не съществува, ще получим `FileNotFoundError`. "
   ]
  },
  {
   "cell_type": "code",
   "execution_count": null,
   "id": "ce4e539e",
   "metadata": {},
   "outputs": [],
   "source": [
    "import os\n",
    "\n",
    "non_existing_dir = os.path.join('files', 'non_existing_dir')\n",
    "\n",
    "os.rmdir(non_existing_dir)\n",
    "os.rmdir('files')"
   ]
  },
  {
   "cell_type": "code",
   "execution_count": null,
   "id": "300fdec2",
   "metadata": {},
   "outputs": [],
   "source": [
    "import os\n",
    "\n",
    "os.rmdir('files')"
   ]
  },
  {
   "cell_type": "markdown",
   "id": "f4bf7412",
   "metadata": {},
   "source": [
    "Освен `os.rmdir`, Python предлага и друга функция за изтриване на директории - `os.removedirs`. Тя обаче работи по специфичен начин. `os.removedirs` приема път до директория, като освен да премахва последната директория от пътя, функцията се опитва да премахне и всички празни директории нагоре, като спира при първата директория, която не е успяла да премахне успешно."
   ]
  },
  {
   "cell_type": "markdown",
   "id": "1b319e15",
   "metadata": {},
   "source": [
    "Нека за целта създадем следната структура - `files/remove_dirs_example` ще е основната ни директория. В нея ще имаме две поддиректории - `first` и `second`. В `first` ще създадем още няколко поддиректории, като всичките ще са празни. В `second` ще създадем един файл и една поддиректория."
   ]
  },
  {
   "cell_type": "markdown",
   "id": "95946aea",
   "metadata": {},
   "source": [
    "Ще се опитаме да извикаме `os.removedirs` върху най-долната директории в `first` и `second`"
   ]
  },
  {
   "cell_type": "code",
   "execution_count": null,
   "id": "fa97d0d0",
   "metadata": {},
   "outputs": [],
   "source": [
    "import os\n",
    "\n",
    "main_dir = os.path.join('files', 'remove_dirs_example')\n",
    "\n",
    "first_dir = os.path.join(main_dir, 'first')\n",
    "empty_first_subdirs = os.path.join(first_dir, 'a', 'b', 'c')\n",
    "\n",
    "second_dir = os.path.join(main_dir, 'second')\n",
    "empty_second_subdir = os.path.join(second_dir, 'd')\n",
    "empty_second_dir_file = os.path.join(second_dir, 'e')\n",
    "\n",
    "os.makedirs(empty_first_subdirs)\n",
    "os.makedirs(empty_second_subdir)\n",
    "\n",
    "\n",
    "fd = open(empty_second_dir_file, 'w')\n",
    "fd.write('Hi')\n",
    "fd.close()\n",
    "\n",
    "print(f'Before = {os.listdir(main_dir)}')\n",
    "\n",
    "os.removedirs(empty_first_subdirs)\n",
    "os.removedirs(empty_second_subdir)\n",
    "\n",
    "print(f'After = {os.listdir(main_dir)}')"
   ]
  },
  {
   "cell_type": "markdown",
   "id": "7bba556b",
   "metadata": {},
   "source": [
    "Как работи `os.removedirs` в този случай ?\n",
    "\n",
    "Върху `files/first/a/b/c`:\n",
    "1. Опитваме да изтрием `c` => тя е празна, изтрива се\n",
    "2. Опитваме да изтрием `b` => тя е празна, изтрива се\n",
    "3. Опитваме да изтрием `a` => тя е празна, изтрива се\n",
    "4. Опитваме да изтрием `first` => тя е празна, изтрива се\n",
    "5. Опитваме да изтрием `remove_dirs_example` => тя не е празна, спираме\n",
    "\n",
    "Върху `files/second/d`:\n",
    "1. Опитваме да изтрием `d` => тя е празна, изтрива се\n",
    "2. Опитваме да изтрием `second` => тя не е празна, спираме"
   ]
  },
  {
   "cell_type": "markdown",
   "id": "13a9ca27",
   "metadata": {},
   "source": [
    "`os.removedirs` е много подходяща когато имаме много празни директории една в друга, но е редно да се използва внимателно."
   ]
  },
  {
   "cell_type": "markdown",
   "id": "3b6506e1",
   "metadata": {},
   "source": [
    "За любопитните: Съществува функция [`rmtree`](https://docs.python.org/3.10/library/shutil.html#shutil.rmtree), намираща се в `shutil` библиотеката, която изтрива папка и всички в нея. Нея няма да я разглеждаме в курса."
   ]
  },
  {
   "cell_type": "markdown",
   "id": "0d50a74a",
   "metadata": {},
   "source": [
    "### Обща работа с пътища"
   ]
  },
  {
   "cell_type": "markdown",
   "id": "c8c5be42",
   "metadata": {},
   "source": [
    "В началото видяхме, че за да построим един път до файл или директория в Python, трябва да използваме `os.path.join`. Освен `join`, [`os.path`](https://docs.python.org/3.10/library/os.path.html) предлага много други полезни функции за работа с пътища. \n",
    "\n",
    "Ще се спрем върху една част от тях, която е по-вероятно да използвате във всекидневната си работа с Python:\n",
    "\n",
    "- os.path.exists - проверка дали пътят сочи към валиден файл или директория\n",
    "- os.path.isdir - дали пътят сочи към валидна директория\n",
    "- os.path.isfile - дали пътят сочи към валиден файл\n",
    "- os.path.split - отделя последната част от път"
   ]
  },
  {
   "cell_type": "code",
   "execution_count": null,
   "id": "5e94fedc",
   "metadata": {},
   "outputs": [],
   "source": [
    "import os\n",
    "print(f'Does the files directory exist: {os.path.exists(\"files\")}')\n",
    "print(f'Does the files/lorem_ipsum.txt file exist: {os.path.exists(os.path.join(\"files\", \"lorem_ipsum.txt\"))}')\n",
    "print(f'Does the files/ala-bala.txt file exist: {os.path.exists(os.path.join(\"files\", \"ala-bala.txt\"))}')"
   ]
  },
  {
   "cell_type": "code",
   "execution_count": null,
   "id": "f518e1df",
   "metadata": {},
   "outputs": [],
   "source": [
    "import os\n",
    "print(f'Is \"files\" a directory: {os.path.isdir(\"files\")}')\n",
    "print(f'Is \"files/lorem_ipsum.txt\" a directory: {os.path.isdir(os.path.join(\"files\", \"lorem_ipsum.txt\"))}')\n",
    "print(f'Is \"files/ala-bala.txt\" a directory: {os.path.isdir(os.path.join(\"files\", \"ala-bala.txt\"))}')  # Although the file does not exist, isdir returns False"
   ]
  },
  {
   "cell_type": "code",
   "execution_count": null,
   "id": "43703455",
   "metadata": {},
   "outputs": [],
   "source": [
    "import os\n",
    "print(f'Is \"files\" a file: {os.path.isfile(\"files\")}')\n",
    "print(f'Is \"files/lorem_ipsum.txt\" a file: {os.path.isfile(os.path.join(\"files\", \"lorem_ipsum.txt\"))}')\n",
    "print(f'Is \"files/ala-bala.txt\" a directory: {os.path.isfile(os.path.join(\"files\", \"ala-bala.txt\"))}')  # Although the file does not exist, isfile returns False"
   ]
  },
  {
   "cell_type": "markdown",
   "id": "4337ea9b",
   "metadata": {},
   "source": [
    "`os.path.split` отделя последната част от пътя от останалия. Връща ни наредена двойка от `head` и `tail`, където `tail` съдържа последната част от пътя, а `head` останалото "
   ]
  },
  {
   "cell_type": "code",
   "execution_count": null,
   "id": "5727c539",
   "metadata": {},
   "outputs": [],
   "source": [
    "import os\n",
    "\n",
    "long_path = os.path.join('/', 'foo', 'bar', 'baz')\n",
    "print(f'long_path = {long_path}')\n",
    "\n",
    "print(f'long_path splitted: {os.path.split(long_path)}')"
   ]
  },
  {
   "cell_type": "markdown",
   "id": "47522ab8",
   "metadata": {},
   "source": [
    "Важно е да отбележим няколко по-специални случая:\n",
    "\n",
    "- Ако пътят е празен, `split` ще ни върне празни `head` и `tail`\n",
    "- Ако пътят завършва с `/` (или `\\` под Windows), `tail` ще е празен низ\n",
    "- Ако пътят не съдържа `/`(или `\\` под Windows), `head` ще е празен низ"
   ]
  },
  {
   "cell_type": "code",
   "execution_count": null,
   "id": "974a0290",
   "metadata": {},
   "outputs": [],
   "source": [
    "empty_path = ''\n",
    "print(f'split with empty path returns = {os.path.split(empty_path)}')\n",
    "\n",
    "ending_with_separator = '/foo/bar/'\n",
    "print(f'split with path ending in / returns = {os.path.split(ending_with_separator)}')\n",
    "\n",
    "no_separators = 'foo'\n",
    "print(f'split with no separators returns = {os.path.split(no_separators)}')"
   ]
  },
  {
   "cell_type": "markdown",
   "id": "bf058152",
   "metadata": {},
   "source": [
    "### Обхождане на директории"
   ]
  },
  {
   "cell_type": "markdown",
   "id": "1dbf08a9",
   "metadata": {},
   "source": [
    "Понякога искаме да обходим цялото директорийно дърво отдадена точка надолу. Python ни позволява да направи това сравнително лесно, с помощта на функцията `os.walk`. \n",
    "\n",
    "Тя приема като аргумент директорията, от което започва обхождането. Като резултат, тя ни връща генератор съдържащ името на текущата директория, имената на директориите в текущата директория и имената на файловете в текущата директория.\n",
    "\n"
   ]
  },
  {
   "cell_type": "code",
   "execution_count": null,
   "id": "1c08ce71",
   "metadata": {},
   "outputs": [],
   "source": [
    "import os\n",
    "\n",
    "# Setup\n",
    "example_root_dir = os.path.join('files', 'walk_example')\n",
    "\n",
    "d_dir = os.path.join(example_root_dir, 'a', 'b', 'c', 'd')\n",
    "os.makedirs(d_dir, exist_ok=True)\n",
    "\n",
    "os.makedirs(os.path.join(example_root_dir, 'a', 'b1'), exist_ok=True)\n",
    "\n",
    "b2_dir = os.path.join(example_root_dir, 'a', 'b2')\n",
    "os.makedirs(b2_dir, exist_ok=True)\n",
    "\n",
    "os.makedirs(os.path.join(example_root_dir, 'a', 'b', 'c', 'd1'), exist_ok=True)\n",
    "os.makedirs(os.path.join(example_root_dir, 'a', 'b', 'c', 'd2'), exist_ok=True)\n",
    "\n",
    "files_for_d = [os.path.join(d_dir, f'file{i}') for i in range(5)]\n",
    "\n",
    "for file_for_d in files_for_d:\n",
    "    with open(file_for_d, 'w') as fp:\n",
    "        fp.write(f'Content for {file_for_d}')\n",
    "\n",
    "files_for_b2 = [os.path.join(d_dir, f'file{i}') for i in range(3)]\n",
    "\n",
    "for file_for_b2 in files_for_b2:\n",
    "    with open(file_for_b2, 'w') as fp:\n",
    "        fp.write(f'Content for {file_for_b2}')\n",
    "\n",
    "\n",
    "# os.walk\n",
    "\n",
    "for dirname, subdirs, files in os.walk(example_root_dir):\n",
    "    print(f'In {dirname}, which has subdirs: {subdirs} and files: {files}')"
   ]
  },
  {
   "cell_type": "markdown",
   "id": "77407b6e",
   "metadata": {},
   "source": [
    "## Използване на `with`"
   ]
  },
  {
   "cell_type": "markdown",
   "id": "cbe58710",
   "metadata": {},
   "source": [
    "Досега в работата ни с файлове, забелязахме че трябва да подсигурим, че сме затворили файла. Проблемът идва, когато трябва да се справим с грешки, които могат да бъда хвърлени от различните операции с файлове. Дори и при хвърлена грешка, ние все пак трябва да си затворим файла.\n",
    "\n",
    "Python ни позволява два начина да се справим с този проблем - `try/finally` и `with`."
   ]
  },
  {
   "cell_type": "markdown",
   "id": "babb6496",
   "metadata": {},
   "source": [
    "След всеки `try` блок, може да поставим един друг блок, който да се изпълнява винаги след `try` или `except` блоковете. Този допълнителен блок се казва `finally`. "
   ]
  },
  {
   "cell_type": "code",
   "execution_count": null,
   "id": "1f8a882b",
   "metadata": {},
   "outputs": [],
   "source": [
    "def raiser():\n",
    "    raise ValueError('Hello there')\n",
    "\n",
    "try:\n",
    "    raiser()\n",
    "finally:\n",
    "    print('After the exception, this will be printed')"
   ]
  },
  {
   "cell_type": "markdown",
   "id": "2147caa0",
   "metadata": {},
   "source": [
    "По подобен начин можем да използваме `finally` за да затворим отворения файл."
   ]
  },
  {
   "cell_type": "code",
   "execution_count": null,
   "id": "a6f7c8e8",
   "metadata": {},
   "outputs": [],
   "source": [
    "import os\n",
    "fp = open(os.path.join('files', 'lorem_ipsum.txt'))\n",
    "try:\n",
    "    print(fp.read())\n",
    "finally:\n",
    "    fp.close()"
   ]
  },
  {
   "cell_type": "markdown",
   "id": "64d52b0e",
   "metadata": {},
   "source": [
    "Така, дори и да получим грешка при четене (или каквато и да е друга операция в `try` блока), файла ще бъде затворен."
   ]
  },
  {
   "cell_type": "markdown",
   "id": "21f16a39",
   "metadata": {},
   "source": [
    "От тук можем да стигнем до заключението - при работата с ресурси, имаме процес по отваряне и процес по затваряне (независимо от грешки). Python ни предлага и друга синтактична конструкция за работа с такива структури - `with`."
   ]
  },
  {
   "cell_type": "markdown",
   "id": "6d6268b1",
   "metadata": {},
   "source": [
    "`with` ни позволява отварянето на нов контекст. В него може да отворим ресурс, а след излизането от блока, този ресурс се затваря автоматично. \n",
    "\n",
    "Общият вид на `with` е следния:\n",
    "```python\n",
    "with <expression> as <variable>:\n",
    "    f(variable)\n",
    "```\n",
    "\n",
    "Ако искаме да отворим файл и да прочетем нещо с `with`, кода би изглеждал по следния начин:"
   ]
  },
  {
   "cell_type": "code",
   "execution_count": null,
   "id": "4e665553",
   "metadata": {},
   "outputs": [],
   "source": [
    "import os\n",
    "with open(os.path.join('files', 'lorem_ipsum.txt')) as fp:\n",
    "    print(fp.read())\n",
    "\n",
    "print(f'Is the file closed ? {fp.closed}')"
   ]
  },
  {
   "cell_type": "markdown",
   "id": "0cd4550b",
   "metadata": {},
   "source": [
    "Дори и при грешка, файлът ще бъде затворен. Ако искаме обаче да хванем грешката, все пак трябва да изпозлваме `try/catch`."
   ]
  },
  {
   "cell_type": "code",
   "execution_count": null,
   "id": "06abc803",
   "metadata": {},
   "outputs": [],
   "source": [
    "import os\n",
    "\n",
    "try:\n",
    "    with open(os.path.join('files', 'lorem_ipsum.txt')) as fp:\n",
    "        print(fp.read())\n",
    "except OSError as err:\n",
    "    print(err)"
   ]
  },
  {
   "cell_type": "markdown",
   "id": "5186484e",
   "metadata": {},
   "source": [
    "Начинът по който `with` работи е, че извиква два специални магически метода - `__enter__` и `__exit__`, който се изпълняват при влизане и излизане съответно от контекст мениджъра. \n",
    "\n",
    "По-конкретно, `__enter__` метода се изивиква в `as` частта на `with`. В него връщаме обекта, който ще бъде присвоен на променливата след `as`.\n",
    "\n",
    "\n",
    "Файловите обекти имплементират `__exit__` метода, където затварят отворения файл."
   ]
  },
  {
   "cell_type": "markdown",
   "id": "db5ba1c0",
   "metadata": {},
   "source": [
    "Ако искаме и нашите класове да работят с контекстните мениджъри, трябва да имплементираме `__enter__` и `__exit__` методите. "
   ]
  },
  {
   "cell_type": "code",
   "execution_count": null,
   "id": "a6a5ed46",
   "metadata": {},
   "outputs": [],
   "source": [
    "class ContextableClass:\n",
    "    def __init__(self, some_var=42):\n",
    "        self.some_var = some_var\n",
    "    \n",
    "    def __enter__(self):\n",
    "        print('Entering the context manager')\n",
    "        return self\n",
    "    \n",
    "    def __exit__(self, exc_type, exc_value, traceback):\n",
    "        print('Exiting the context manager')"
   ]
  },
  {
   "cell_type": "code",
   "execution_count": null,
   "id": "1ac88f08",
   "metadata": {},
   "outputs": [],
   "source": [
    "with ContextableClass(5) as instance:\n",
    "    print(instance.some_var)"
   ]
  },
  {
   "cell_type": "markdown",
   "id": "ae9480d6",
   "metadata": {},
   "source": [
    "## `tell` и `seek`"
   ]
  },
  {
   "cell_type": "markdown",
   "id": "4eaa90ee",
   "metadata": {},
   "source": [
    "Писането и четенето от файлове всъщност се осъществява символ по символ. Така например за да запишем 'hello', трябва първо да запишем `h`, после `e` и т.н. \n",
    "\n",
    "Както при писането с клавиатура имаме позиция върху която пишем, така и при работата с файлове имаме позиция, на която четем или пишем.\n",
    "\n",
    "Python ни позволява да вземем текущата позиция за четене/писане, както и да преместим тази позиция на друго място. "
   ]
  },
  {
   "cell_type": "markdown",
   "id": "df1bcf46",
   "metadata": {},
   "source": [
    "Можем да вземем позиция на курсора във файла с помощта на метода `tell`. Той ще ни върне като резултат цяло число, символизиращо броя символи след началото на файла."
   ]
  },
  {
   "cell_type": "code",
   "execution_count": null,
   "id": "2bb2c54f",
   "metadata": {},
   "outputs": [],
   "source": [
    "import os\n",
    "\n",
    "file_path = os.path.join('files', 'tell_exampe.txt')\n",
    "\n",
    "# First lets create the file\n",
    "with open(file_path, 'w') as fp:\n",
    "    fp.write('abc\\n')\n",
    "    fp.write('def\\n')\n",
    "    fp.write('ghi\\n')\n",
    "\n",
    "# Now lets read \n",
    "with open(file_path) as fp:\n",
    "    print(f'Current position = {fp.tell()}')\n",
    "    print(f'Reading a line... {fp.readline()}')\n",
    "\n",
    "    print(f'Current position = {fp.tell()}')\n",
    "    print(f'Reading another line... {fp.readline()}')\n",
    "\n",
    "    print(f'Current position = {fp.tell()}')"
   ]
  },
  {
   "cell_type": "markdown",
   "id": "cd7fa0f8",
   "metadata": {},
   "source": [
    "Можем да зададем позиция на курсора във файла с помощта на метода `seek`. Той приема два аргумента - какво отместване (`offset`) да направим и от къде (`whence`).\n",
    "\n",
    "`whence` приема три стойност:\n",
    "- 0 (или `os.SEEK_SET`) - означава спрямо началото на файла\n",
    "- 1 (или `os.SEEK_CUR`) - означава спрямо текущата позиция\n",
    "- 2 (или `os.SEEK_END`) - означава спрямо края на файла\n",
    "\n",
    "При работа с текстови файлове, отместването е само спрямо началото на файла. Можем единствено да преместим курсора до края на файла с `seek(0, 2)`"
   ]
  },
  {
   "cell_type": "code",
   "execution_count": null,
   "id": "ef399f88",
   "metadata": {},
   "outputs": [],
   "source": [
    "import os\n",
    "\n",
    "file_path = os.path.join('files', 'seek_exampe.txt')\n",
    "\n",
    "# First lets create the file\n",
    "with open(file_path, 'w') as fp:\n",
    "    fp.write('abcdefghijk')\n",
    "\n",
    "with open(file_path, 'r+') as fp:\n",
    "    fp.seek(2)\n",
    "    fp.write('!')\n",
    "\n",
    "    fp.seek(0, 2)\n",
    "    fp.write('@')\n",
    "\n",
    "with open(file_path) as fp:\n",
    "    print(fp.read())"
   ]
  },
  {
   "cell_type": "markdown",
   "id": "83fdd4ca",
   "metadata": {},
   "source": [
    "Бележка: Ако бяхте отворили файла за писане с режим `a`, щяхме да можем да пишем само в края. Режим `r+` ни дава права за четене и пренаписване. "
   ]
  },
  {
   "cell_type": "markdown",
   "id": "6eab01da",
   "metadata": {},
   "source": [
    "## `pathlib`\n",
    "\n",
    "`pathlib` е вграден в езика модул, който предоставя обектно-ориентиран интерфейс за работа с пътища, чрез абстракция над всички гореспоменати функции."
   ]
  },
  {
   "cell_type": "markdown",
   "id": "e77bfd9e",
   "metadata": {},
   "source": [
    "Основния клас, който използваме от `pathlib` е `Path`. Можем да си го импортнем по следния начин:"
   ]
  },
  {
   "cell_type": "code",
   "execution_count": null,
   "id": "ad6b6509",
   "metadata": {},
   "outputs": [],
   "source": [
    "from pathlib import Path"
   ]
  },
  {
   "cell_type": "markdown",
   "id": "02d8538a",
   "metadata": {},
   "source": [
    "`Path` предефинира оператор `/` за инуитивна конкатенация на пътища (алтернатива на `os.path.join`):"
   ]
  },
  {
   "cell_type": "code",
   "execution_count": null,
   "id": "680385ec",
   "metadata": {},
   "outputs": [
    {
     "data": {
      "text/plain": [
       "WindowsPath('data_folder/raw_datasets/some_dataset_dir/data')"
      ]
     },
     "metadata": {},
     "output_type": "display_data"
    }
   ],
   "source": [
    "dataset_dir_path = Path(\"data_folder\") / \"raw_datasets\" / \"some_dataset_dir\"\n",
    "meta_file_path = dataset_dir_path / \"meta.csv\"\n",
    "data_dir_path = dataset_dir_path / \"data\"\n",
    "\n",
    "data_dir_path"
   ]
  },
  {
   "cell_type": "markdown",
   "id": "6bcc1581",
   "metadata": {},
   "source": [
    "`Path`, както и `os.path.join`, автоматично проверяват дали пътят трябва да е Windows или Unix-съвместим. \n",
    "\n",
    "Details for nerds: В случая на `Path`, който е базов клас, при създаване на обект той автоматично преценява кой от двата subclass-a всъщност да създаде - `WindowsPath` или `PosixPath` (това е възможно чрез предефиниране на дъндъра `__new__`)."
   ]
  },
  {
   "cell_type": "markdown",
   "id": "9f25505f",
   "metadata": {},
   "source": [
    "`Path` има доста полезни атрибути и методи:"
   ]
  },
  {
   "cell_type": "code",
   "execution_count": null,
   "id": "95632c94",
   "metadata": {},
   "outputs": [],
   "source": [
    "example_dir = Path('files')\n",
    "example_file = example_dir / \"1.txt\""
   ]
  },
  {
   "cell_type": "code",
   "execution_count": null,
   "id": "1b8426fe",
   "metadata": {},
   "outputs": [
    {
     "data": {
      "text/plain": [
       "WindowsPath('files')"
      ]
     },
     "metadata": {},
     "output_type": "display_data"
    }
   ],
   "source": [
    "example_file.parent"
   ]
  },
  {
   "cell_type": "code",
   "execution_count": null,
   "id": "d2a43c12",
   "metadata": {},
   "outputs": [
    {
     "data": {
      "text/plain": [
       "WindowsPath('.')"
      ]
     },
     "metadata": {},
     "output_type": "display_data"
    }
   ],
   "source": [
    "example_file.parent.parent"
   ]
  },
  {
   "cell_type": "code",
   "execution_count": null,
   "id": "b37a6908",
   "metadata": {},
   "outputs": [
    {
     "data": {
      "text/plain": [
       "'1.txt'"
      ]
     },
     "metadata": {},
     "output_type": "display_data"
    }
   ],
   "source": [
    "example_file.name"
   ]
  },
  {
   "cell_type": "code",
   "execution_count": null,
   "id": "50ad918c",
   "metadata": {},
   "outputs": [
    {
     "data": {
      "text/plain": [
       "'1'"
      ]
     },
     "metadata": {},
     "output_type": "display_data"
    }
   ],
   "source": [
    "example_file.stem"
   ]
  },
  {
   "cell_type": "code",
   "execution_count": null,
   "id": "fe05be33",
   "metadata": {},
   "outputs": [
    {
     "data": {
      "text/plain": [
       "'.txt'"
      ]
     },
     "metadata": {},
     "output_type": "display_data"
    }
   ],
   "source": [
    "example_file.suffix"
   ]
  },
  {
   "cell_type": "code",
   "execution_count": null,
   "id": "4d5cbcee",
   "metadata": {},
   "outputs": [
    {
     "data": {
      "text/plain": [
       "True"
      ]
     },
     "metadata": {},
     "output_type": "display_data"
    }
   ],
   "source": [
    "example_file.is_file()"
   ]
  },
  {
   "cell_type": "code",
   "execution_count": null,
   "id": "69829008",
   "metadata": {},
   "outputs": [
    {
     "data": {
      "text/plain": [
       "'Lorem ipsum dolor sit amet, consectetur adipiscing elit, sed do eiusmod tempor incididunt ut labore et dolore magna aliqua. \\nUt enim ad minim veniam, quis nostrud exercitation ullamco laboris nisi ut aliquip ex ea commodo consequat. \\nDuis aute irure dolor in reprehenderit in voluptate velit esse cillum dolore eu fugiat nulla pariatur. \\nExcepteur sint occaecat cupidatat non proident, sunt in culpa qui officia deserunt mollit anim id est laborum\\n'"
      ]
     },
     "metadata": {},
     "output_type": "display_data"
    }
   ],
   "source": [
    "example_file.read_text()"
   ]
  },
  {
   "cell_type": "code",
   "execution_count": null,
   "id": "ff5e69c7",
   "metadata": {},
   "outputs": [
    {
     "data": {
      "text/plain": [
       "b'Lorem ipsum dolor sit amet, consectetur adipiscing elit, sed do eiusmod tempor incididunt ut labore et dolore magna aliqua. \\r\\nUt enim ad minim veniam, quis nostrud exercitation ullamco laboris nisi ut aliquip ex ea commodo consequat. \\r\\nDuis aute irure dolor in reprehenderit in voluptate velit esse cillum dolore eu fugiat nulla pariatur. \\r\\nExcepteur sint occaecat cupidatat non proident, sunt in culpa qui officia deserunt mollit anim id est laborum\\r\\n'"
      ]
     },
     "metadata": {},
     "output_type": "display_data"
    }
   ],
   "source": [
    "example_file.read_bytes()"
   ]
  },
  {
   "cell_type": "code",
   "execution_count": null,
   "id": "1e1a889c",
   "metadata": {},
   "outputs": [],
   "source": [
    "new_file = example_dir / \"new_file.txt\"\n",
    "new_file.touch()  # creates an empty file"
   ]
  },
  {
   "cell_type": "code",
   "execution_count": null,
   "id": "2e1d0185",
   "metadata": {},
   "outputs": [
    {
     "data": {
      "text/plain": [
       "11"
      ]
     },
     "metadata": {},
     "output_type": "display_data"
    }
   ],
   "source": [
    "example_file.write_text('Hello world')  # returns the number of bytes written"
   ]
  },
  {
   "cell_type": "code",
   "execution_count": null,
   "id": "e1103f70",
   "metadata": {},
   "outputs": [],
   "source": [
    "renamed_file = new_file.rename(\"here.txt\")  # can move as well"
   ]
  },
  {
   "cell_type": "code",
   "execution_count": null,
   "id": "6ba05c29",
   "metadata": {},
   "outputs": [],
   "source": [
    "renamed_file.unlink()"
   ]
  },
  {
   "cell_type": "code",
   "execution_count": null,
   "id": "fcc119e8",
   "metadata": {},
   "outputs": [
    {
     "data": {
      "text/plain": [
       "True"
      ]
     },
     "metadata": {},
     "output_type": "display_data"
    }
   ],
   "source": [
    "example_dir.is_dir()"
   ]
  },
  {
   "cell_type": "code",
   "execution_count": null,
   "id": "15672334",
   "metadata": {},
   "outputs": [
    {
     "data": {
      "text/plain": [
       "[WindowsPath('files/1.txt')]"
      ]
     },
     "metadata": {},
     "output_type": "display_data"
    }
   ],
   "source": [
    "list(example_dir.iterdir())  # iterates over all files inside"
   ]
  },
  {
   "cell_type": "code",
   "execution_count": null,
   "id": "23fc3983",
   "metadata": {},
   "outputs": [
    {
     "data": {
      "text/plain": [
       "[WindowsPath('files/1.txt')]"
      ]
     },
     "metadata": {},
     "output_type": "display_data"
    }
   ],
   "source": [
    "list(example_dir.glob('*.txt'))  # iterates over all files inside that end with .txt\n",
    "\n",
    "# globs can have special syntax for powerful filtering: https://en.wikipedia.org/wiki/Glob_(programming)"
   ]
  },
  {
   "cell_type": "code",
   "execution_count": null,
   "id": "b020a971",
   "metadata": {},
   "outputs": [
    {
     "data": {
      "text/plain": [
       "WindowsPath('C:/Users/Owner/Documents/PythonCourse2024/08 - Files/files/1.txt')"
      ]
     },
     "metadata": {},
     "output_type": "display_data"
    }
   ],
   "source": [
    "example_file.resolve()  # relative path -> absolute path"
   ]
  },
  {
   "cell_type": "code",
   "execution_count": null,
   "id": "a17a5b04",
   "metadata": {},
   "outputs": [],
   "source": [
    "# example_file.owner()  # not available on Windows"
   ]
  },
  {
   "cell_type": "code",
   "execution_count": null,
   "id": "d1c71c3d",
   "metadata": {},
   "outputs": [],
   "source": [
    "new_dir = example_dir / \"new_dir\"\n",
    "new_dir.mkdir()"
   ]
  },
  {
   "cell_type": "code",
   "execution_count": null,
   "id": "4ea1e288",
   "metadata": {},
   "outputs": [],
   "source": [
    "new_dir.rmdir()"
   ]
  },
  {
   "cell_type": "markdown",
   "id": "d0ecef40",
   "metadata": {},
   "source": [
    "Ако ви трябва някой `Path` обект като низ, може да използвате `str`:"
   ]
  },
  {
   "cell_type": "code",
   "execution_count": null,
   "id": "b20acd47",
   "metadata": {},
   "outputs": [
    {
     "data": {
      "text/plain": [
       "'files\\\\1.txt'"
      ]
     },
     "metadata": {},
     "output_type": "display_data"
    }
   ],
   "source": [
    "str(example_file)"
   ]
  },
  {
   "cell_type": "markdown",
   "id": "987e149a",
   "metadata": {},
   "source": [
    "## Примери"
   ]
  },
  {
   "cell_type": "markdown",
   "id": "e89d5d60",
   "metadata": {},
   "source": [
    "### Пример 1"
   ]
  },
  {
   "cell_type": "markdown",
   "id": "54665ce8",
   "metadata": {},
   "source": [
    "Напишете функция `split_path`, която приема път (като низ), и го разделя на съставните му части. Използвайте `os.path.split`."
   ]
  },
  {
   "cell_type": "markdown",
   "id": "fa8965dc",
   "metadata": {},
   "source": [
    "#### Решение на пример 1"
   ]
  },
  {
   "cell_type": "code",
   "execution_count": null,
   "id": "67949940",
   "metadata": {},
   "outputs": [],
   "source": [
    "import os\n",
    "from typing import List\n",
    "\n",
    "def split_path(file_path: str) -> List[str]:\n",
    "    head, tail = os.path.split(file_path)\n",
    "\n",
    "    result = [tail]\n",
    "    while head != '' and head != file_path:\n",
    "        file_path = head\n",
    "        head, tail = os.path.split(file_path)\n",
    "        result.append(tail)\n",
    "\n",
    "    result.reverse()\n",
    "    return result"
   ]
  },
  {
   "cell_type": "code",
   "execution_count": null,
   "id": "d0116c97",
   "metadata": {},
   "outputs": [],
   "source": [
    "print(split_path('/foo/bar/baz'))\n",
    "print(split_path('/foo/bar/baz/'))\n",
    "print(split_path('/foo'))\n",
    "print(split_path('foo'))"
   ]
  },
  {
   "cell_type": "markdown",
   "id": "7d582a39",
   "metadata": {},
   "source": [
    "### Пример 2"
   ]
  },
  {
   "cell_type": "markdown",
   "id": "cd950ac5",
   "metadata": {},
   "source": [
    "Даден е клас `Person`, който съдържа информация за човек - неговите имена, рожденна дата, възраст и работа."
   ]
  },
  {
   "cell_type": "code",
   "execution_count": null,
   "id": "be5e1f4c",
   "metadata": {},
   "outputs": [],
   "source": [
    "class Person:\n",
    "    def __init__(self, first_name: str='', last_name: str='', birthdate: str='', age: int=0, job: str=''):\n",
    "        self.__first_name = first_name\n",
    "        self.__last_name = last_name\n",
    "        self.__birthdate = birthdate\n",
    "        self.__age = age\n",
    "        self.__job = job\n",
    "\n",
    "    @property\n",
    "    def first_name(self) -> str:\n",
    "        return self.__first_name\n",
    "    \n",
    "    @property\n",
    "    def last_name(self) -> str:\n",
    "        return self.__last_name\n",
    "    \n",
    "    @property\n",
    "    def birthdate(self) -> str:\n",
    "        return self.__birthdate\n",
    "\n",
    "    @property\n",
    "    def age(self) -> str:\n",
    "        return self.__age\n",
    "\n",
    "    @property\n",
    "    def job(self) -> str:\n",
    "        return self.__job"
   ]
  },
  {
   "cell_type": "markdown",
   "id": "deba3bb4",
   "metadata": {},
   "source": [
    "Напишете клас `PersonSerializer`, съдържащ следните методи:\n",
    "- Метод, който приема обект от тип `Person` и път. Методът записва във файл информацията за човека\n",
    "- Метод, който приема път и връща обект от тип `Person`, който е създаден на база данните от файла\n",
    "- Метод, който приема списък от `Person` и път. Методът записва във файл информация за хората\n",
    "- Метод, който приема път и връща списък от `Person`, които са създадени на база на информацията във файла\n",
    "\n",
    "При грешка при писането или четенето класът да хвърля `ValueError`. \n",
    "\n",
    "Може да приемем, че информацията за един човек ще бъде записана на един ред. "
   ]
  },
  {
   "cell_type": "markdown",
   "id": "d6a88c8c",
   "metadata": {},
   "source": [
    "#### Решение на пример 2"
   ]
  },
  {
   "cell_type": "code",
   "execution_count": null,
   "id": "be43c057",
   "metadata": {},
   "outputs": [],
   "source": [
    "from typing import List\n",
    "\n",
    "class Person:\n",
    "    def __init__(self, first_name: str='', last_name: str='', birthdate: str='', age: int=0, job: str=''):\n",
    "        self.__first_name = first_name\n",
    "        self.__last_name = last_name\n",
    "        self.__birthdate = birthdate\n",
    "        self.__age = age\n",
    "        self.__job = job\n",
    "\n",
    "    @property\n",
    "    def first_name(self) -> str:\n",
    "        return self.__first_name\n",
    "    \n",
    "    @property\n",
    "    def last_name(self) -> str:\n",
    "        return self.__last_name\n",
    "    \n",
    "    @property\n",
    "    def birthdate(self) -> str:\n",
    "        return self.__birthdate\n",
    "\n",
    "    @property\n",
    "    def age(self) -> str:\n",
    "        return self.__age\n",
    "\n",
    "    @property\n",
    "    def job(self) -> str:\n",
    "        return self.__job\n",
    "\n",
    "    # Adding a __str__ magic method helps us with printing the info\n",
    "    def __str__(self) -> str:\n",
    "        return f'{self.first_name}, {self.last_name}, {self.birthdate}, {self.age}, {self.job}'\n",
    "    \n",
    "    @staticmethod\n",
    "    def from_string(person_info: str):\n",
    "        first_name, last_name, birthdate, age, job = person_info.strip().split(', ')\n",
    "        return Person(first_name, last_name, birthdate, age, job)\n",
    "    \n",
    "class PersonSerializer:\n",
    "    @staticmethod\n",
    "    def save_person(person: Person, filepath: str, mode: str='w'):\n",
    "        with open(filepath, mode) as fp:\n",
    "            fp.write(str(person) + '\\n')\n",
    "    \n",
    "    @staticmethod\n",
    "    def create_person_from_file(filepath: str) -> Person:\n",
    "        if not os.path.exists(filepath):\n",
    "            raise ValueError(f'File not found at {filepath}')\n",
    "        \n",
    "        with open(filepath) as fp:\n",
    "            person_info = fp.read()\n",
    "            return Person.from_string(person_info)\n",
    "\n",
    "    @staticmethod\n",
    "    def save_people(people: List[Person], filepath: str):\n",
    "        for person in people:\n",
    "            PersonSerializer.save_person(person, filepath, mode='a')\n",
    "    \n",
    "    @staticmethod\n",
    "    def create_people_from_file(filepath: str) -> List[Person]:\n",
    "        if not os.path.exists(filepath):\n",
    "            raise ValueError(f'File not found at {filepath}')\n",
    "        \n",
    "        with open(filepath) as fp:\n",
    "            return [Person.from_string(person_info) for person_info in fp]\n"
   ]
  },
  {
   "cell_type": "code",
   "execution_count": null,
   "id": "b21007b5",
   "metadata": {},
   "outputs": [],
   "source": [
    "me = Person('Lyubo', 'Karev', '20-09-1998', 24, 'Developer')\n",
    "my_filepath = os.path.join('files', 'lyubo.txt')\n",
    "\n",
    "PersonSerializer.save_person(me, my_filepath)\n",
    "me_again = PersonSerializer.create_person_from_file(my_filepath)  # Hello me, meet the real me\n",
    "\n",
    "print(me)\n",
    "print(me_again)"
   ]
  },
  {
   "cell_type": "code",
   "execution_count": null,
   "id": "c796eb85",
   "metadata": {},
   "outputs": [],
   "source": [
    "bunch_of_people = [\n",
    "    Person('Lyubo', 'Karev', '20-09-1998', 24, 'Developer'),\n",
    "    Person('Alex', 'Ignatov', '22-10-1998', 24, 'Developer'),\n",
    "    Person('Ivan', 'Luchev', '28-04-1998', 24, 'Student')\n",
    "]\n",
    "\n",
    "our_filepath = os.path.join('files', 'us.txt')\n",
    "\n",
    "PersonSerializer.save_people(bunch_of_people, our_filepath)\n",
    "us_again = PersonSerializer.create_people_from_file(our_filepath)\n",
    "\n",
    "print('Bunch of people:')\n",
    "for person in bunch_of_people: \n",
    "    print(person)\n",
    "\n",
    "print('Us again:')\n",
    "for person in us_again: \n",
    "    print(person)"
   ]
  },
  {
   "cell_type": "markdown",
   "id": "a9866d1d",
   "metadata": {},
   "source": [
    "### Пример 3"
   ]
  },
  {
   "cell_type": "markdown",
   "id": "667a7dfb",
   "metadata": {},
   "source": [
    "Както споменахме по-горе, `writelines` не добавя автоматично нови редове след всеки подаден елемент от списъка.\n",
    "\n",
    "Напишете функция `better_writelines`, която поправя тази грешка."
   ]
  },
  {
   "cell_type": "markdown",
   "id": "ab015cb1",
   "metadata": {},
   "source": [
    "#### Решение на Пример 3"
   ]
  },
  {
   "cell_type": "code",
   "execution_count": null,
   "id": "0e076b10",
   "metadata": {},
   "outputs": [],
   "source": [
    "def better_writelines(lines: list[str], filepath: str):\n",
    "    with open(filepath, 'w') as fp:\n",
    "        fp.writelines([line + '\\n' for line in lines])"
   ]
  },
  {
   "cell_type": "markdown",
   "id": "f95b0161",
   "metadata": {},
   "source": [
    "### Пример 4"
   ]
  },
  {
   "cell_type": "markdown",
   "id": "e2f16886",
   "metadata": {},
   "source": [
    "`os.rmdir` изтрива директория, само ако е празна. \n",
    "\n",
    "Напишете функция `rm_rf`, която по подадена директория, изтрива съдържанието ѝ, както и самата директория."
   ]
  },
  {
   "cell_type": "markdown",
   "id": "815ad16d",
   "metadata": {},
   "source": [
    "#### Решение на Пример 4"
   ]
  },
  {
   "cell_type": "code",
   "execution_count": null,
   "id": "b42307d2",
   "metadata": {},
   "outputs": [],
   "source": [
    "def rm_rf(filepath: str):\n",
    "    if os.path.isdir(filepath):\n",
    "        for file in os.listdir(filepath):\n",
    "            rm_rf(os.path.join(filepath, file))\n",
    "        os.rmdir(filepath)\n",
    "    else:\n",
    "        os.remove(filepath)"
   ]
  },
  {
   "cell_type": "markdown",
   "id": "d93db677",
   "metadata": {},
   "source": [
    "### Пример 5"
   ]
  },
  {
   "cell_type": "markdown",
   "id": "04cc1d7d",
   "metadata": {},
   "source": [
    "Напишете програма за управление на музикални файлове. \n",
    "\n",
    "Програмата трябва да поддържа следните функционалности:\n",
    "- Задаване на работна директория (директория, в която са ни музикалните файлове)\n",
    "- Извеждане на списък с всички песни (приемете, че всеки файл ще е с име във формат `artist-song_name.mp3`\n",
    "- Търсене на песен по изпълнител (връща точно съвпадение)\n",
    "- Търсене на псене по име на песен (връща точно съвпадение)\n",
    "\n",
    "Потребителския интефейс може да бъде следния:\n",
    "- Потребителя има достъп до 5 команди (`set`, `list`, `find artist`, `find song` и `exit`)\n",
    "- Потребителя може да въвежда (и изпълнява) команди, до въвеждане на `exit`, при което програмата спира работа.\n",
    "(Ако имате други идеи за интерфейса, също ще бъдат приети)\n",
    "\n",
    "Примерни песни може да свалите от [тук](https://drive.google.com/file/d/1lqRxlPHd0THds_WU6l5DsRie0-yoCXFc/view?usp=sharing)"
   ]
  },
  {
   "cell_type": "markdown",
   "id": "4dda68b6",
   "metadata": {},
   "source": [
    "# Модули и пакети"
   ]
  },
  {
   "cell_type": "markdown",
   "id": "758df512",
   "metadata": {},
   "source": [
    "## Какво е модул?\n",
    "\n",
    "Всеки един Python файл (.py) на практика е модул. Освен това е възможно библиотека, написана на С, и вмъкната динамично също да бъде модул. Третия тип модули са вградените в езика такива.\n",
    "\n",
    "В тази лекция се фокусираме върху първия тип и модули и как можем да ги създаваме, вмъкваме и боравим с тях."
   ]
  },
  {
   "cell_type": "markdown",
   "id": "df545a93",
   "metadata": {},
   "source": [
    "## Как да създам модул?"
   ]
  },
  {
   "cell_type": "markdown",
   "id": "aca34ef1",
   "metadata": {},
   "source": [
    "Казахме, че всеки Python файл е валиден модул. \n",
    "\n",
    "Нека създадем един такъв с няколко дефиниции вътре (в папката с тази тетрадка вече би трябвало да се съдържа файл `hitchhikers.py`)."
   ]
  },
  {
   "cell_type": "markdown",
   "id": "7427006d",
   "metadata": {},
   "source": [
    "## `import`"
   ]
  },
  {
   "cell_type": "markdown",
   "id": "651b85bc",
   "metadata": {},
   "source": [
    "Имената, функциите и класовете, които създадохме в този файл, не могат да бъдат достъпени директно от друг файл:"
   ]
  },
  {
   "cell_type": "code",
   "execution_count": null,
   "id": "49aa48c0",
   "metadata": {},
   "outputs": [
    {
     "ename": "NameError",
     "evalue": "name 'compute' is not defined",
     "output_type": "error",
     "traceback": [
      "\u001b[0;31m---------------------------------------------------------------------------\u001b[0m\n",
      "\u001b[0;31mNameError\u001b[0m                                 Traceback (most recent call last)\n",
      "Cell \u001b[0;32mIn[1], line 1\u001b[0m\n",
      "\u001b[0;32m----> 1\u001b[0m compute()\n",
      "\n",
      "\u001b[0;31mNameError\u001b[0m: name 'compute' is not defined"
     ]
    }
   ],
   "source": [
    "compute()"
   ]
  },
  {
   "cell_type": "markdown",
   "id": "99a997bb",
   "metadata": {},
   "source": [
    "Можем обаче да ги вмъкнем в друг файл (модул) чрез `import {името_на_модула}` (името на файла преди разширението `.py` се превръща в име на модула):"
   ]
  },
  {
   "cell_type": "code",
   "execution_count": null,
   "id": "0bea2b51",
   "metadata": {},
   "outputs": [
    {
     "name": "stdout",
     "output_type": "stream",
     "text": [
      "Hm, I'll have to think about that. Return to this place in exactly 7.5 million years...\n"
     ]
    },
    {
     "data": {
      "text/plain": [
       "42"
      ]
     },
     "metadata": {},
     "output_type": "display_data"
    }
   ],
   "source": [
    "import hitchhikers\n",
    "\n",
    "hitchhikers.compute()"
   ]
  },
  {
   "cell_type": "markdown",
   "id": "81793980",
   "metadata": {},
   "source": [
    "`import` освен, че интерпретира целия код на модула, добавя имената и дефинициите в един обект от тип модул, имащ името на модула. Затова и ги достъпваме чрез `името_на_модула.име_на_обекта`."
   ]
  },
  {
   "cell_type": "markdown",
   "id": "c323fc95",
   "metadata": {},
   "source": [
    "Какво се съдържа в един модул можем лесно да видим с `dir()`:"
   ]
  },
  {
   "cell_type": "code",
   "execution_count": null,
   "id": "4f685bd9",
   "metadata": {},
   "outputs": [
    {
     "data": {
      "text/plain": [
       "['ANSWER',\n",
       " 'TheGreatDeepThought',\n",
       " '__builtins__',\n",
       " '__cached__',\n",
       " '__doc__',\n",
       " '__file__',\n",
       " '__loader__',\n",
       " '__name__',\n",
       " '__package__',\n",
       " '__spec__',\n",
       " 'compute']"
      ]
     },
     "metadata": {},
     "output_type": "display_data"
    }
   ],
   "source": [
    "dir(hitchhikers)"
   ]
  },
  {
   "cell_type": "code",
   "execution_count": null,
   "id": "f591bd5b",
   "metadata": {},
   "outputs": [
    {
     "data": {
      "text/plain": [
       "42"
      ]
     },
     "metadata": {},
     "output_type": "display_data"
    }
   ],
   "source": [
    "hitchhikers.ANSWER"
   ]
  },
  {
   "cell_type": "code",
   "execution_count": null,
   "id": "6692a494",
   "metadata": {},
   "outputs": [
    {
     "name": "stdout",
     "output_type": "stream",
     "text": [
      "Shush! The show is back on.\n"
     ]
    }
   ],
   "source": [
    "computer = hitchhikers.TheGreatDeepThought()\n",
    "computer.ask()"
   ]
  },
  {
   "cell_type": "code",
   "execution_count": null,
   "id": "50fa1a82",
   "metadata": {},
   "outputs": [
    {
     "data": {
      "text/plain": [
       "'hitchhikers'"
      ]
     },
     "metadata": {},
     "output_type": "display_data"
    }
   ],
   "source": [
    "hitchhikers.__name__"
   ]
  },
  {
   "cell_type": "code",
   "execution_count": null,
   "id": "1a835465",
   "metadata": {},
   "outputs": [
    {
     "data": {
      "text/plain": [
       "['In',\n",
       " 'Out',\n",
       " '_',\n",
       " '_2',\n",
       " '_3',\n",
       " '_4',\n",
       " '_6',\n",
       " '__',\n",
       " '___',\n",
       " '__builtin__',\n",
       " '__builtins__',\n",
       " '__doc__',\n",
       " '__loader__',\n",
       " '__name__',\n",
       " '__package__',\n",
       " '__spec__',\n",
       " '__vsc_ipynb_file__',\n",
       " '_dh',\n",
       " '_i',\n",
       " '_i1',\n",
       " '_i2',\n",
       " '_i3',\n",
       " '_i4',\n",
       " '_i5',\n",
       " '_i6',\n",
       " '_i7',\n",
       " '_ih',\n",
       " '_ii',\n",
       " '_iii',\n",
       " '_oh',\n",
       " 'computer',\n",
       " 'exit',\n",
       " 'get_ipython',\n",
       " 'hitchhikers',\n",
       " 'open',\n",
       " 'os',\n",
       " 'quit',\n",
       " 'sys']"
      ]
     },
     "metadata": {},
     "output_type": "display_data"
    }
   ],
   "source": [
    "dir()  # by default it shows the contents of the *current* module"
   ]
  },
  {
   "cell_type": "code",
   "execution_count": null,
   "id": "3c24fedd",
   "metadata": {},
   "outputs": [
    {
     "data": {
      "text/plain": [
       "'__main__'"
      ]
     },
     "metadata": {},
     "output_type": "display_data"
    }
   ],
   "source": [
    "__name__"
   ]
  },
  {
   "cell_type": "markdown",
   "id": "2b2083ef",
   "metadata": {},
   "source": [
    "## Добре, обаче `import` къде точно търси?"
   ]
  },
  {
   "cell_type": "markdown",
   "id": "ad353dbf",
   "metadata": {},
   "source": [
    "1. Директорията, в която се намира Python скрипта, който се изпълнява (или текущата, ако интерпретаторът е пуснат интерактивно)\n",
    "2. Директориите, които са описани в `PYTHONPATH` променливата на средата\n",
    "3. Лист от директории, зададен по време на инсталацията на Python"
   ]
  },
  {
   "cell_type": "markdown",
   "id": "ddb0ad30",
   "metadata": {},
   "source": [
    "Този списък от възможни директории може да се види със `sys.path`:"
   ]
  },
  {
   "cell_type": "code",
   "execution_count": null,
   "id": "efb6d456",
   "metadata": {},
   "outputs": [
    {
     "data": {
      "text/plain": [
       "['/Users/alexander.ignatov/Documents/PythonCourse2022/13 - Modules',\n",
       " '/Users/alexander.ignatov/.vscode/extensions/ms-toolsai.jupyter-2022.11.1003412109/pythonFiles',\n",
       " '/Users/alexander.ignatov/.vscode/extensions/ms-toolsai.jupyter-2022.11.1003412109/pythonFiles/lib/python',\n",
       " '/opt/homebrew/Cellar/python@3.10/3.10.8/Frameworks/Python.framework/Versions/3.10/lib/python310.zip',\n",
       " '/opt/homebrew/Cellar/python@3.10/3.10.8/Frameworks/Python.framework/Versions/3.10/lib/python3.10',\n",
       " '/opt/homebrew/Cellar/python@3.10/3.10.8/Frameworks/Python.framework/Versions/3.10/lib/python3.10/lib-dynload',\n",
       " '',\n",
       " '/Users/alexander.ignatov/Documents/PythonCourse2022/venv/lib/python3.10/site-packages']"
      ]
     },
     "metadata": {},
     "output_type": "display_data"
    }
   ],
   "source": [
    "import sys\n",
    "sys.path"
   ]
  },
  {
   "cell_type": "markdown",
   "id": "df4d9673",
   "metadata": {},
   "source": [
    "## Варианти на `import`"
   ]
  },
  {
   "cell_type": "markdown",
   "id": "6965e305",
   "metadata": {},
   "source": [
    "С `from {module} import {something}, {something_else}, ...` можем да импортираме само определени имена от модула, като те биват добавени към съдържанието на текущия (т.е. достъпваме ги без името на оригиналния модул и точка отпред):"
   ]
  },
  {
   "cell_type": "code",
   "execution_count": null,
   "id": "4a57ab85",
   "metadata": {},
   "outputs": [
    {
     "name": "stdout",
     "output_type": "stream",
     "text": [
      "Hm, I'll have to think about that. Return to this place in exactly 7.5 million years...\n"
     ]
    },
    {
     "data": {
      "text/plain": [
       "42"
      ]
     },
     "metadata": {},
     "output_type": "display_data"
    }
   ],
   "source": [
    "from hitchhikers import compute\n",
    "compute()"
   ]
  },
  {
   "cell_type": "markdown",
   "id": "e47753af",
   "metadata": {},
   "source": [
    "С `from {module} import {something} as {alias}, {something_else} as {other_alias}, ...` можем да прекръстим импортираните имена:"
   ]
  },
  {
   "cell_type": "code",
   "execution_count": null,
   "id": "f333b9d0",
   "metadata": {},
   "outputs": [
    {
     "name": "stdout",
     "output_type": "stream",
     "text": [
      "Shush! The show is back on.\n"
     ]
    },
    {
     "data": {
      "text/plain": [
       "False"
      ]
     },
     "metadata": {},
     "output_type": "display_data"
    }
   ],
   "source": [
    "from hitchhikers import ANSWER, TheGreatDeepThought as Computer\n",
    "comp = Computer()\n",
    "comp.ask() == ANSWER"
   ]
  },
  {
   "cell_type": "code",
   "execution_count": null,
   "id": "62a4d0be",
   "metadata": {},
   "outputs": [
    {
     "data": {
      "text/plain": [
       "True"
      ]
     },
     "metadata": {},
     "output_type": "display_data"
    }
   ],
   "source": [
    "\"ANSWER\" in dir()"
   ]
  },
  {
   "cell_type": "markdown",
   "id": "5ae513f1",
   "metadata": {},
   "source": [
    "Ако искаме абсолютно всички имена на вмъкнем и ползваме в текущия модул по този начин (без тези, започващи с подчертавка `_`), можем да използваме астериск `*`:"
   ]
  },
  {
   "cell_type": "code",
   "execution_count": null,
   "id": "c4843501",
   "metadata": {},
   "outputs": [],
   "source": [
    "# изпълни тази клетка ако си изпълнил горните, за да се зачистят import-ите\n",
    "del hitchhikers, ANSWER, compute, Computer"
   ]
  },
  {
   "cell_type": "code",
   "execution_count": null,
   "id": "256531e4",
   "metadata": {},
   "outputs": [
    {
     "name": "stdout",
     "output_type": "stream",
     "text": [
      "Hm, I'll have to think about that. Return to this place in exactly 7.5 million years...\n"
     ]
    },
    {
     "data": {
      "text/plain": [
       "True"
      ]
     },
     "metadata": {},
     "output_type": "display_data"
    }
   ],
   "source": [
    "from hitchhikers import *\n",
    "\n",
    "compute() == ANSWER"
   ]
  },
  {
   "cell_type": "markdown",
   "id": "83fa059d",
   "metadata": {},
   "source": [
    "Лимитация на астерикс синтаксиса е, че не може да използва в блок (може само на най-външното ниво на модула):"
   ]
  },
  {
   "cell_type": "code",
   "execution_count": null,
   "id": "177e98b2",
   "metadata": {},
   "outputs": [],
   "source": [
    "del compute, ANSWER, TheGreatDeepThought"
   ]
  },
  {
   "cell_type": "code",
   "execution_count": null,
   "id": "d8aa18f4",
   "metadata": {},
   "outputs": [
    {
     "ename": "SyntaxError",
     "evalue": "import * only allowed at module level (1537905421.py, line 2)",
     "output_type": "error",
     "traceback": [
      "\u001b[0;36m  Cell \u001b[0;32mIn[16], line 2\u001b[0;36m\u001b[0m\n",
      "\u001b[0;31m    from hitchhikers import *  # 💥\u001b[0m\n",
      "\u001b[0m                            ^\u001b[0m\n",
      "\u001b[0;31mSyntaxError\u001b[0m\u001b[0;31m:\u001b[0m import * only allowed at module level\n"
     ]
    }
   ],
   "source": [
    "def obtain_answer():\n",
    "    from hitchhikers import *  # 💥\n",
    "    return compute()"
   ]
  },
  {
   "cell_type": "markdown",
   "id": "a5fe18d9",
   "metadata": {},
   "source": [
    "Както казахме, по подразбиране from {module} import * вмъква абсолютно всички имена от `module`, които не започват с подчертавка. Имаме всъщност контрол над това, кое може да се вмъкне чрез астерикс, като дефинираме `__all__` във въпросния модул. Стойността му е лист от всички имена, които ще бъдат вмъкнати от `*`.\n",
    "\n",
    "*Пример*:\n",
    "\n",
    "След добавяне на\n",
    "```python\n",
    "__all__ = ['compute', 'TheGreatDeepThought']\n",
    "```\n",
    "в `hitchhikers.py`, следният код, изпълнен в `script.py` (в същата директория) ще хвърли `NameError`:\n",
    "```python\n",
    "from hitchhikers import *\n",
    "print(hitchhikers.ANSWER)  # 💥\n",
    "```"
   ]
  },
  {
   "cell_type": "markdown",
   "id": "2d146905",
   "metadata": {},
   "source": [
    "## Пакети"
   ]
  },
  {
   "cell_type": "markdown",
   "id": "8ad5ad04",
   "metadata": {},
   "source": [
    "Пакет e набор от модули. За Python всяка директория, в която има модули, се превръща в пакет (package).\n",
    "\n",
    "*Note*: Във версии по-ранни от Python 3.3 трябва задължително в директорията да има файл с име `__init__.py`."
   ]
  },
  {
   "cell_type": "markdown",
   "id": "7cd4a516",
   "metadata": {},
   "source": [
    "В директорията на тетрадката би трябвало да има папка `game`, съдържаща няколко файла и папки:"
   ]
  },
  {
   "cell_type": "code",
   "execution_count": null,
   "id": "a16a8960",
   "metadata": {},
   "outputs": [
    {
     "name": "stdout",
     "output_type": "stream",
     "text": [
      "\u001b[01;34mgame\u001b[0m\n",
      "├── \u001b[00mengine.py\u001b[0m\n",
      "├── \u001b[00mlevel.py\u001b[0m\n",
      "├── \u001b[00mplayer.py\u001b[0m\n",
      "└── \u001b[01;34mplayers\u001b[0m\n",
      "    ├── \u001b[00mai.py\u001b[0m\n",
      "    ├── \u001b[00minput_player.py\u001b[0m\n",
      "    └── \u001b[00mmock_player.py\u001b[0m\n",
      "\n",
      "1 directory, 6 files\n"
     ]
    }
   ],
   "source": [
    "!tree game"
   ]
  },
  {
   "cell_type": "markdown",
   "id": "f4327713",
   "metadata": {},
   "source": [
    "В горния пример `game` е пакет, съдържащ модулите `engine`, `level` и `player`. Освен тях, той съдържа и подпакетът `players`."
   ]
  },
  {
   "cell_type": "markdown",
   "id": "40c22367",
   "metadata": {},
   "source": [
    "Ако искаме да вмъкнем някой модул от пакета, можем да го направим чрез името на пакета (или всички пакети по веригата, разделени с точка), последвано от точка и името на въпросния модул:"
   ]
  },
  {
   "cell_type": "code",
   "execution_count": null,
   "id": "feb5611d",
   "metadata": {},
   "outputs": [
    {
     "data": {
      "text/plain": [
       "Level(word='SCRIPT', failed_attempts=10)"
      ]
     },
     "metadata": {},
     "output_type": "display_data"
    }
   ],
   "source": [
    "import game.level\n",
    "\n",
    "game.level.EASY"
   ]
  },
  {
   "cell_type": "code",
   "execution_count": null,
   "id": "558da3ad",
   "metadata": {},
   "outputs": [
    {
     "data": {
      "text/plain": [
       "<game.players.ai.AI at 0x107ab4610>"
      ]
     },
     "metadata": {},
     "output_type": "display_data"
    }
   ],
   "source": [
    "import game.players.ai\n",
    "\n",
    "game.players.ai.AI(10)"
   ]
  },
  {
   "cell_type": "markdown",
   "id": "cb31a93c",
   "metadata": {},
   "source": [
    "Вече въведените по-горе синтактични варианти на `import` също важат:"
   ]
  },
  {
   "cell_type": "code",
   "execution_count": null,
   "id": "c66b7fff",
   "metadata": {},
   "outputs": [],
   "source": [
    "from game.players.ai import AI\n",
    "from game.level import EASY as easy, MEDIUM as medium, HARD as hard\n",
    "from game.engine import *"
   ]
  },
  {
   "cell_type": "markdown",
   "id": "fd751f2d",
   "metadata": {},
   "source": [
    "Освен това, можем и да вмъкнем модули чрез `from {package} import {module} [as {alias}], ...`:"
   ]
  },
  {
   "cell_type": "code",
   "execution_count": null,
   "id": "4a52d563",
   "metadata": {},
   "outputs": [
    {
     "name": "stdout",
     "output_type": "stream",
     "text": [
      "Level(word='SCRIPT', failed_attempts=10)\n",
      "<enum 'GameState'>\n"
     ]
    }
   ],
   "source": [
    "from game import level, engine\n",
    "\n",
    "print(level.EASY)\n",
    "print(engine.GameState)"
   ]
  },
  {
   "cell_type": "markdown",
   "id": "8ed558b5",
   "metadata": {},
   "source": [
    "## `__init__.py`"
   ]
  },
  {
   "cell_type": "markdown",
   "id": "d5001813",
   "metadata": {},
   "source": [
    "На теория можем и да импортнем само пакета. По подразбиране това няма да добави нови модули и имена:"
   ]
  },
  {
   "cell_type": "code",
   "execution_count": null,
   "id": "27b187fc",
   "metadata": {},
   "outputs": [],
   "source": [
    "del game.level, game.player, game.engine  # зачисти тетрадката от предните импорти"
   ]
  },
  {
   "cell_type": "code",
   "execution_count": null,
   "id": "803a9d78",
   "metadata": {},
   "outputs": [
    {
     "ename": "AttributeError",
     "evalue": "module 'game' has no attribute 'level'",
     "output_type": "error",
     "traceback": [
      "\u001b[0;31m---------------------------------------------------------------------------\u001b[0m\n",
      "\u001b[0;31mAttributeError\u001b[0m                            Traceback (most recent call last)\n",
      "Cell \u001b[0;32mIn[23], line 3\u001b[0m\n",
      "\u001b[1;32m      1\u001b[0m \u001b[39mimport\u001b[39;00m \u001b[39mgame\u001b[39;00m\n",
      "\u001b[0;32m----> 3\u001b[0m game\u001b[39m.\u001b[39;49mlevel  \u001b[39m# 💥\u001b[39;00m\n",
      "\n",
      "\u001b[0;31mAttributeError\u001b[0m: module 'game' has no attribute 'level'"
     ]
    }
   ],
   "source": [
    "import game\n",
    "\n",
    "game.level  # 💥"
   ]
  },
  {
   "cell_type": "markdown",
   "id": "8a142042",
   "metadata": {},
   "source": [
    "Ако искаме да добавим и модули от пакета при импортирането му, можем да ги импортнем в `__init__.py`, намиращ се в директорията на пакета.\n",
    "\n",
    "Т.е. ако в `game/__init__.py` имаме:\n",
    "```python\n",
    "import game.engine, game.level, game.player\n",
    "```\n",
    "\n",
    "то можем да импортнем пакета `game` и да използваме всички модули от него:\n",
    "```python\n",
    "# в друг файл, извън пакета `game`:\n",
    "import game\n",
    "print(game.level.EASY)  # no error\n",
    "```"
   ]
  },
  {
   "cell_type": "markdown",
   "id": "dc734642",
   "metadata": {},
   "source": [
    "В `__init__.py` можем да напишем какъвто искаме инициализационен код, глобален за всички модули в пакета. Съдържанието на скрипта се изпълнява веднага при импортиране на пакета."
   ]
  },
  {
   "cell_type": "markdown",
   "id": "b2fb33bd",
   "metadata": {},
   "source": [
    "Както при модулите, така и тука можем да дефинираме поведението на `from {package} import *` чрез `__all__`. По подразбиране, както видяхме за `import {package}`, това е празен списък, т.е. нищо няма да се вмъкне (за разлика от поведението при модулите, когато се вмъква абсолютно всяко име от модула, което не започва с подчертавка).\n",
    "\n",
    "Т.е. ако напишем в `game/__init__.py`:\n",
    "\n",
    "```python\n",
    "__all__ = [\"engine\", \"level\", \"player\"]\n",
    "```\n",
    "\n",
    "то ще можем:\n",
    "\n",
    "```python\n",
    "# в друг файл, извън пакета `game`:\n",
    "from game import *\n",
    "print(level.EASY)  # no error\n",
    "```"
   ]
  },
  {
   "cell_type": "markdown",
   "id": "62c8d914",
   "metadata": {},
   "source": [
    "## Релативни импорти"
   ]
  },
  {
   "cell_type": "markdown",
   "id": "f85e7b9b",
   "metadata": {},
   "source": [
    "Дотук разгледахме примерни за **абсолютни** импорти, т.е. достъпът до даден модул от рамките на пакета или извън него става през пътя от пакета до модула, например `game.players.ai` достъпва модулът `ai` от пакета `players` в пакета `game`.\n"
   ]
  },
  {
   "cell_type": "code",
   "execution_count": null,
   "id": "a57a4496",
   "metadata": {},
   "outputs": [],
   "source": [
    "import game.players.ai"
   ]
  },
  {
   "cell_type": "markdown",
   "id": "3b0bcd96",
   "metadata": {},
   "source": [
    "Със значението на `.` и `..` от Unix файловата система, можем да използваме същите тези символи за **релативни** импорти в Python. Те се оценяват спрямо локацията на `import` statement-a."
   ]
  },
  {
   "cell_type": "markdown",
   "id": "d26f04a1",
   "metadata": {},
   "source": [
    "Например, във файла `game/players/input_player.py` ни трябва `player` модула от пакета `game`. Можем да го направим по абсолютен и релативен начин:\n",
    "\n",
    "```python\n",
    "from game import player  # абсолютен импорт\n",
    "```\n",
    "\n",
    "```python\n",
    "from .. import player  # релативен импорт\n",
    "```"
   ]
  },
  {
   "cell_type": "markdown",
   "id": "dce14b05",
   "metadata": {},
   "source": [
    "* `..` означава \"пакетът, намиращ се над текущия\".\n",
    "* `..pkg` означва модулът/пакетът `pkg` от пакетът, намиращ се над текущия."
   ]
  },
  {
   "cell_type": "markdown",
   "id": "d224ca48",
   "metadata": {},
   "source": [
    "Например:\n",
    "```python\n",
    "from ..player import Player\n",
    "```\n",
    "Ще вмъкне името `Player` от модула `player` от пакета, намиращ се над текущия."
   ]
  },
  {
   "cell_type": "markdown",
   "id": "9a58e768",
   "metadata": {},
   "source": [
    "* `.` означава \"текущия пакет\".\n",
    "* `.pkg` означава модулът/пакетът `pkg` от текущия пакет."
   ]
  },
  {
   "cell_type": "markdown",
   "id": "e6c3ba4e",
   "metadata": {},
   "source": [
    "Релативните импорти имат недостатъка обаче, че зависят от местоположението на `import`-a. Освен това в скриптове (т.е. изпълним код, който не е вмъкнат чрез модул) имат различно поведение:"
   ]
  },
  {
   "cell_type": "code",
   "execution_count": null,
   "id": "7f31a6d6",
   "metadata": {},
   "outputs": [
    {
     "ename": "ImportError",
     "evalue": "attempted relative import with no known parent package",
     "output_type": "error",
     "traceback": [
      "\u001b[0;31m---------------------------------------------------------------------------\u001b[0m\n",
      "\u001b[0;31mImportError\u001b[0m                               Traceback (most recent call last)\n",
      "Cell \u001b[0;32mIn[25], line 1\u001b[0m\n",
      "\u001b[0;32m----> 1\u001b[0m \u001b[39mfrom\u001b[39;00m \u001b[39m.\u001b[39;00m \u001b[39mimport\u001b[39;00m hitchhikers\n",
      "\n",
      "\u001b[0;31mImportError\u001b[0m: attempted relative import with no known parent package"
     ]
    }
   ],
   "source": [
    "from . import hitchhikers"
   ]
  },
  {
   "cell_type": "markdown",
   "id": "d8eb7893",
   "metadata": {},
   "source": [
    "## `if __name__ == \"__main__\"`"
   ]
  },
  {
   "cell_type": "markdown",
   "id": "9fde0c8d",
   "metadata": {},
   "source": [
    "Както бяхме споменали, при импорт се изпълнява кода на съответния модул. Като пример за това можем да изведем философията на Python, намираща се във вградения модул `this`:"
   ]
  },
  {
   "cell_type": "code",
   "execution_count": null,
   "id": "a706c926",
   "metadata": {},
   "outputs": [
    {
     "name": "stdout",
     "output_type": "stream",
     "text": [
      "The Zen of Python, by Tim Peters\n",
      "\n",
      "Beautiful is better than ugly.\n",
      "Explicit is better than implicit.\n",
      "Simple is better than complex.\n",
      "Complex is better than complicated.\n",
      "Flat is better than nested.\n",
      "Sparse is better than dense.\n",
      "Readability counts.\n",
      "Special cases aren't special enough to break the rules.\n",
      "Although practicality beats purity.\n",
      "Errors should never pass silently.\n",
      "Unless explicitly silenced.\n",
      "In the face of ambiguity, refuse the temptation to guess.\n",
      "There should be one-- and preferably only one --obvious way to do it.\n",
      "Although that way may not be obvious at first unless you're Dutch.\n",
      "Now is better than never.\n",
      "Although never is often better than *right* now.\n",
      "If the implementation is hard to explain, it's a bad idea.\n",
      "If the implementation is easy to explain, it may be a good idea.\n",
      "Namespaces are one honking great idea -- let's do more of those!\n"
     ]
    }
   ],
   "source": [
    "import this"
   ]
  },
  {
   "cell_type": "markdown",
   "id": "4f770459",
   "metadata": {},
   "source": [
    "Текущо-изпълнимият файл/модул/скрипт за Python се казва `\"__main__\"`, т.е. неговия `__name__` е `\"__main__\"`:\n",
    "```python"
   ]
  },
  {
   "cell_type": "code",
   "execution_count": null,
   "id": "05c0029f",
   "metadata": {},
   "outputs": [
    {
     "data": {
      "text/plain": [
       "'__main__'"
      ]
     },
     "metadata": {},
     "output_type": "display_data"
    }
   ],
   "source": [
    "__name__"
   ]
  },
  {
   "cell_type": "markdown",
   "id": "80d9c928",
   "metadata": {},
   "source": [
    "Ако файлът не се изпълнява директно, а бъде импортнат от друг, то в неговия `__name__` ще е името на модула. Това означава, че можем да различим дали файлът се изпълнява директно или е импортнат. \n",
    "\n",
    "Полезно е в случаите, когато искаме да напишем примерно някакви тестове или демонстрации на модула, които да се изпълнят само ако го изпълним директно, и да не се изпълняват при всяко вмъкване. . В такива случаи използваме `if __name__ == \"__main__\": ...` (разгледайте например `game/engine.py`)."
   ]
  },
  {
   "cell_type": "markdown",
   "id": "3cf784ec",
   "metadata": {},
   "source": [
    "## Управление на пакети"
   ]
  },
  {
   "cell_type": "markdown",
   "id": "79bf0f5d",
   "metadata": {},
   "source": [
    "### Какво е `pip`?\n",
    "\n",
    "Пакетите се създават с цел лесно преизползване. При използване на външни пакети в проекта се появяват конкретни проблеми, които трябва да се решават - как да се инсталират, как да се обновят, как да се изтрият, как да се решават зависимостите и т.н. С това ни помагат различните \"package manager\"-и, като python-ският такъв е `pip` (името му е рекурсивен акроним: \"**P**IP **I**nstalls **P**ackages\")."
   ]
  },
  {
   "cell_type": "markdown",
   "id": "f1dd6efc",
   "metadata": {},
   "source": [
    "### Къде е `pip`?\n",
    "\n",
    "Управлението на пакетите е важна част от разработката и затова от Python 3.4 и 2.7.9 насам `pip` е част от инсталацията на Python 3 и Python 2 респективно."
   ]
  },
  {
   "cell_type": "markdown",
   "id": "07e57c75",
   "metadata": {},
   "source": [
    "Можем да проверим дали PIP е инсталиран като се опитаме да видим локацията на `pip3` командата като изпълним `which pip3` (или `where pip3` под Windows):\n",
    "\n",
    "```bash"
   ]
  },
  {
   "cell_type": "code",
   "execution_count": null,
   "id": "59f19444",
   "metadata": {},
   "outputs": [
    {
     "name": "stdout",
     "output_type": "stream",
     "text": [
      "/Users/alexander.ignatov/Documents/PythonCourse2022/venv/bin/pip3\n"
     ]
    }
   ],
   "source": [
    "!which pip3  # linux / macOS"
   ]
  },
  {
   "cell_type": "markdown",
   "id": "67a0279b",
   "metadata": {},
   "source": [
    "В случай, че няма `pip3`, е възможно да съществува само `pip` командата:"
   ]
  },
  {
   "cell_type": "code",
   "execution_count": null,
   "id": "8285f71f",
   "metadata": {},
   "outputs": [
    {
     "name": "stdout",
     "output_type": "stream",
     "text": [
      "/Users/alexander.ignatov/Documents/PythonCourse2022/venv/bin/pip\n"
     ]
    }
   ],
   "source": [
    "!which pip"
   ]
  },
  {
   "cell_type": "markdown",
   "id": "ca14db1b",
   "metadata": {},
   "source": [
    "В случай, че имаме и двете команди, можем да ги сраним като видим разликите във версията (ако са еднакви, то няма значение дали използваме `pip` или `pip3`. Оттук нататък до края на тетрадката ще ги считаме за едни и същи):"
   ]
  },
  {
   "cell_type": "code",
   "execution_count": null,
   "id": "433040e6",
   "metadata": {},
   "outputs": [
    {
     "name": "stdout",
     "output_type": "stream",
     "text": [
      "pip 22.2.2 from /Users/alexander.ignatov/Documents/PythonCourse2022/venv/lib/python3.10/site-packages/pip (python 3.10)\n",
      "pip 22.2.2 from /Users/alexander.ignatov/Documents/PythonCourse2022/venv/lib/python3.10/site-packages/pip (python 3.10)\n"
     ]
    }
   ],
   "source": [
    "!pip3 --version && pip --version"
   ]
  },
  {
   "cell_type": "markdown",
   "id": "dea8bf4f",
   "metadata": {},
   "source": [
    "### Как да преинсталирам `pip` ако нещо не е наред?\n",
    "\n",
    "В случай, че `pip` не може да бъде намерен, има два варианта:\n",
    "\n",
    "1. `pip` е инсталиран, но пътя до него не е в `$PATH` променливата на средата\n",
    "2. `pip` не е инсталиран. Тогава можем да го сложим по два начина:\n",
    "    1. Инсталираме `pip` от [`get-pip.py`](https://github.com/pypa/get-pip) скрипта\n",
    "    2. Инсталираме `pip` чрез [`ensurepip`](https://docs.python.org/3/library/ensurepip.html#module-ensurepip) модула"
   ]
  },
  {
   "cell_type": "code",
   "execution_count": null,
   "id": "7bfde35a",
   "metadata": {},
   "outputs": [
    {
     "name": "stdout",
     "output_type": "stream",
     "text": [
      "Looking in links: /var/folders/q1/7m4c3ff153j93q271xrs9y5r0000gq/T/tmpi5sy7acy\n",
      "Requirement already satisfied: setuptools in /Users/alexander.ignatov/Documents/PythonCourse2022/venv/lib/python3.10/site-packages (65.4.1)\n",
      "Requirement already satisfied: pip in /Users/alexander.ignatov/Documents/PythonCourse2022/venv/lib/python3.10/site-packages (22.2.2)\n"
     ]
    }
   ],
   "source": [
    "!python3 -m ensurepip --upgrade  # за windows е `python` вместо `python3`"
   ]
  },
  {
   "cell_type": "markdown",
   "id": "58600de2",
   "metadata": {},
   "source": [
    "***NOTE***: `ensurepip` не тегли от интернет нищо - директно инсталира версията на `pip`, която е bundle-ната със съответната версия на Python. В случай, че искаме по-нова от дадената, трябва след това ръчно да актуализираме `pip` чрез `python3 -m pip install --upgrade pip` или `pip3 install --upgrade pip` (респективно само `python` вместо `python3` под Windows)."
   ]
  },
  {
   "cell_type": "markdown",
   "id": "fc256eb5",
   "metadata": {},
   "source": [
    "### Какви подкоманди има `pip`?"
   ]
  },
  {
   "cell_type": "markdown",
   "id": "65458fc7",
   "metadata": {},
   "source": [
    "Пакети се инсталират с `pip install <package1_name> [<package2_name> ...]`:"
   ]
  },
  {
   "cell_type": "code",
   "execution_count": null,
   "id": "594c698e",
   "metadata": {},
   "outputs": [
    {
     "name": "stdout",
     "output_type": "stream",
     "text": [
      "Collecting requests\n",
      "  Using cached requests-2.28.1-py3-none-any.whl (62 kB)\n",
      "Requirement already satisfied: charset-normalizer<3,>=2 in /Users/alexander.ignatov/Documents/PythonCourse2022/venv/lib/python3.10/site-packages (from requests) (2.1.1)\n",
      "Requirement already satisfied: idna<4,>=2.5 in /Users/alexander.ignatov/Documents/PythonCourse2022/venv/lib/python3.10/site-packages (from requests) (3.4)\n",
      "Requirement already satisfied: certifi>=2017.4.17 in /Users/alexander.ignatov/Documents/PythonCourse2022/venv/lib/python3.10/site-packages (from requests) (2022.12.7)\n",
      "Requirement already satisfied: urllib3<1.27,>=1.21.1 in /Users/alexander.ignatov/Documents/PythonCourse2022/venv/lib/python3.10/site-packages (from requests) (1.26.13)\n",
      "Installing collected packages: requests\n",
      "Successfully installed requests-2.28.1\n",
      "\n",
      "\u001b[1m[\u001b[0m\u001b[34;49mnotice\u001b[0m\u001b[1;39;49m]\u001b[0m\u001b[39;49m A new release of pip available: \u001b[0m\u001b[31;49m22.2.2\u001b[0m\u001b[39;49m -> \u001b[0m\u001b[32;49m22.3.1\u001b[0m\n",
      "\u001b[1m[\u001b[0m\u001b[34;49mnotice\u001b[0m\u001b[1;39;49m]\u001b[0m\u001b[39;49m To update, run: \u001b[0m\u001b[32;49mpip install --upgrade pip\u001b[0m\n"
     ]
    }
   ],
   "source": [
    "!pip install requests"
   ]
  },
  {
   "cell_type": "markdown",
   "id": "c295d220",
   "metadata": {},
   "source": [
    "Пакетите по подразбиране се търсят в [PyPI](https://pypi.org/) (чете се \"пай пи ай\", а не \"[пипи](https://i.kym-cdn.com/entries/icons/original/000/027/193/Screen_Shot_2018-09-20_at_1.02.37_PM.jpg)\"/\"пайпи\"/\"пайпай\"), който е Python Package Index. Това е публичен индекс от пакети, към който всеки потребител може да добавя, допринася, търси и ползва.\n",
    "\n",
    "Ако искаме `pip` да търси в друг индекс (примерно такъв с частни репозиторита), можем да го променим чрез `-i [index_url]` аргумент към `pip install`. Повече за това [тук](https://realpython.com/what-is-pip/#using-a-custom-package-index)."
   ]
  },
  {
   "cell_type": "markdown",
   "id": "6df718fd",
   "metadata": {},
   "source": [
    "Информация за инсталиран пакет може да изведем с `pip show <package_name>`:"
   ]
  },
  {
   "cell_type": "code",
   "execution_count": null,
   "id": "2bc3568b",
   "metadata": {},
   "outputs": [
    {
     "name": "stdout",
     "output_type": "stream",
     "text": [
      "Name: requests\n",
      "Version: 2.28.1\n",
      "Summary: Python HTTP for Humans.\n",
      "Home-page: https://requests.readthedocs.io\n",
      "Author: Kenneth Reitz\n",
      "Author-email: me@kennethreitz.org\n",
      "License: Apache 2.0\n",
      "Location: /Users/alexander.ignatov/Documents/PythonCourse2022/venv/lib/python3.10/site-packages\n",
      "Requires: certifi, charset-normalizer, idna, urllib3\n",
      "Required-by: \n"
     ]
    }
   ],
   "source": [
    "!pip show requests"
   ]
  },
  {
   "cell_type": "markdown",
   "id": "79697e4e",
   "metadata": {},
   "source": [
    "Деинсталирането пък съответно става по същия начин, но този път с подкомандата `uninstall`:"
   ]
  },
  {
   "cell_type": "code",
   "execution_count": null,
   "id": "d4f45229",
   "metadata": {},
   "outputs": [
    {
     "name": "stdout",
     "output_type": "stream",
     "text": [
      "Found existing installation: requests 2.28.1\n",
      "Uninstalling requests-2.28.1:\n",
      "  Would remove:\n",
      "    /Users/alexander.ignatov/Documents/PythonCourse2022/venv/lib/python3.10/site-packages/requests-2.28.1.dist-info/*\n",
      "    /Users/alexander.ignatov/Documents/PythonCourse2022/venv/lib/python3.10/site-packages/requests/*\n",
      "Proceed (Y/n)?   Successfully uninstalled requests-2.28.1\n"
     ]
    }
   ],
   "source": [
    "!pip uninstall requests <<< \"y\""
   ]
  },
  {
   "cell_type": "markdown",
   "id": "f4308442",
   "metadata": {},
   "source": [
    "Всички инсталирани пакети и техните версии може да видим с `pip list`:"
   ]
  },
  {
   "cell_type": "code",
   "execution_count": null,
   "id": "46d68f7d",
   "metadata": {},
   "outputs": [
    {
     "name": "stdout",
     "output_type": "stream",
     "text": [
      "Package            Version\n",
      "------------------ ---------\n",
      "appnope            0.1.3\n",
      "asttokens          2.2.1\n",
      "backcall           0.2.0\n",
      "certifi            2022.12.7\n",
      "charset-normalizer 2.1.1\n",
      "comm               0.1.2\n",
      "debugpy            1.6.4\n",
      "decorator          5.1.1\n",
      "ERROR: Pipe to stdout was broken\n",
      "\n",
      "\u001b[1m[\u001b[0m\u001b[34;49mnotice\u001b[0m\u001b[1;39;49m]\u001b[0m\u001b[39;49m A new release of pip available: \u001b[0m\u001b[31;49m22.2.2\u001b[0m\u001b[39;49m -> \u001b[0m\u001b[32;49m22.3.1\u001b[0m\n",
      "\u001b[1m[\u001b[0m\u001b[34;49mnotice\u001b[0m\u001b[1;39;49m]\u001b[0m\u001b[39;49m To update, run: \u001b[0m\u001b[32;49mpip install --upgrade pip\u001b[0m\n"
     ]
    }
   ],
   "source": [
    "!pip list | head"
   ]
  },
  {
   "cell_type": "markdown",
   "id": "d53acbf4",
   "metadata": {},
   "source": [
    "Извеждането на списъка със зависимости (инсталирани пакети + версия) в \"requirements\" формат може да се извърши с `pip freeze`:"
   ]
  },
  {
   "cell_type": "code",
   "execution_count": null,
   "id": "a375ab83",
   "metadata": {},
   "outputs": [
    {
     "name": "stdout",
     "output_type": "stream",
     "text": [
      "appnope==0.1.3\n",
      "asttokens==2.2.1\n",
      "backcall==0.2.0\n",
      "certifi==2022.12.7\n",
      "charset-normalizer==2.1.1\n",
      "comm==0.1.2\n",
      "debugpy==1.6.4\n",
      "decorator==5.1.1\n",
      "entrypoints==0.4\n",
      "executing==1.2.0\n"
     ]
    }
   ],
   "source": [
    "!pip freeze | head"
   ]
  },
  {
   "cell_type": "markdown",
   "id": "627392dc",
   "metadata": {},
   "source": [
    "Обикновено изхода от командата се запазва във файл, наречен `requirements.txt`. Повече за това по-надолу."
   ]
  },
  {
   "cell_type": "markdown",
   "id": "ad5f9eda",
   "metadata": {},
   "source": [
    "## Виртуални среди и `venv`"
   ]
  },
  {
   "cell_type": "markdown",
   "id": "25ef8d90",
   "metadata": {},
   "source": [
    "### Защо?\n",
    "\n",
    "Когато инсталираме пакет, той след това може да бъде използван от всички Python проекти на машината (или на потребителя). Това обаче може да доведе до конфликти. Да предположим, че имаме един проект, който изисква например пакетът `А` да бъде с версия $ \\geq X $, докато друг да е направен да работи с версия на `A`, която да е по-малка от $ X $ (т.е. ъпдейтването до версия $ X $ би счупило проекта). Инсталацията на пакетът `A` по познатия начин обаче е глобална и не върши работа в случая - трябва ни някакъв начин, по който да имаме различни инсталации на пакета за различните проекти.\n",
    "\n",
    "Това е идеята на т.нар. \"virtual environments\" - създават виртуална среда, която да се отнася само за конкретен проект, в която той да се конфигурира, да се изтеглят пакетите, от които зависи и т.н."
   ]
  },
  {
   "cell_type": "markdown",
   "id": "01d1b5a7",
   "metadata": {},
   "source": [
    "### Как?\n",
    "\n",
    "С вградената билбиотека `venv` създаваме virtual environment. Изпълняваме я като модул (с флаг `-m`) и като параметър указваме името на виртуалната среда, която ще бъде създадена в текущата директория:"
   ]
  },
  {
   "cell_type": "code",
   "execution_count": null,
   "id": "8d272777",
   "metadata": {},
   "outputs": [],
   "source": [
    "!python3 -m venv venv"
   ]
  },
  {
   "cell_type": "markdown",
   "id": "1e9e5766",
   "metadata": {},
   "source": [
    "***Note 1***: Обикновено се кръщава също `venv`.\n",
    "\n",
    "***Note 2***: Директорията (`venv` в този случай) на виртуалната среда трябва да бъде игнорирана от Git (т.е. да ѝ се добави името на нов ред в `.gitignore` файла)."
   ]
  },
  {
   "cell_type": "markdown",
   "id": "91e1669a",
   "metadata": {},
   "source": [
    "Предната команда ще създаде в текущата директория папката `venv`, в която се намира всичко необходимо на виртуалната среда, за да работи. Тя обаче още няма да е активирана, като това става чрез изпълняване веднъж на:"
   ]
  },
  {
   "cell_type": "code",
   "execution_count": null,
   "id": "b7b76469",
   "metadata": {},
   "outputs": [],
   "source": [
    "!source venv/bin/activate"
   ]
  },
  {
   "cell_type": "markdown",
   "id": "664578c6",
   "metadata": {},
   "source": [
    "***Note***: на Windows ще е `venv\\Scripts\\activate.bat` (или `venv\\Scripts\\activate.ps1` на PowerShell)"
   ]
  },
  {
   "cell_type": "markdown",
   "id": "c5713c36",
   "metadata": {},
   "source": [
    "Това ще пренасочи команди като `python`/`python3` и `pip`/`pip3` към локалните копия, намиращи се под директорията на виртуалната среда. Инсталираните пакети също отиват там. По подразбиране няма такива (освен самите `pip` и `setuptools`):"
   ]
  },
  {
   "cell_type": "code",
   "execution_count": null,
   "id": "8c497c6f",
   "metadata": {},
   "outputs": [
    {
     "name": "stdout",
     "output_type": "stream",
     "text": [
      "Package    Version\n",
      "---------- -------\n",
      "pip        22.2.2\n",
      "setuptools 65.4.1\n",
      "\n",
      "\u001b[1m[\u001b[0m\u001b[34;49mnotice\u001b[0m\u001b[1;39;49m]\u001b[0m\u001b[39;49m A new release of pip available: \u001b[0m\u001b[31;49m22.2.2\u001b[0m\u001b[39;49m -> \u001b[0m\u001b[32;49m22.3.1\u001b[0m\n",
      "\u001b[1m[\u001b[0m\u001b[34;49mnotice\u001b[0m\u001b[1;39;49m]\u001b[0m\u001b[39;49m To update, run: \u001b[0m\u001b[32;49mpip install --upgrade pip\u001b[0m\n"
     ]
    }
   ],
   "source": [
    "!source venv/bin/activate && pip list  # активираме пак понеже jupyter клетките не запазват bash сесиите"
   ]
  },
  {
   "cell_type": "markdown",
   "id": "fd6cd39c",
   "metadata": {},
   "source": [
    "Работата във виртуалната среда приключва, когато приключи текущата конзолна сесия или когато бъде изпълнена командата `deactivate` (`venv\\Scripts\\deactivate.bat` под Windows)."
   ]
  },
  {
   "cell_type": "markdown",
   "id": "8e8c8f6c",
   "metadata": {},
   "source": [
    "## `requirements.txt`"
   ]
  },
  {
   "cell_type": "markdown",
   "id": "df6a64b2",
   "metadata": {},
   "source": [
    "Ако свалим даден проект локално и се опитаме да го изпълним, то ако той зависи от някакви third-party модули/пакети/билбиотеки, ще ни хвърли `ImportError`, понеже няма да ги намери. Трудно и излишно времеемко е обаче ръчно да проверим кои зависимости ги няма и да ги свалим. Затова ни служи `requirements.txt` - файл, в който всички dependency-та са описани (име на пакет и версии)."
   ]
  },
  {
   "cell_type": "markdown",
   "id": "5983a4a5",
   "metadata": {},
   "source": [
    "Създава се чрез изхода на `pip freeze`:"
   ]
  },
  {
   "cell_type": "code",
   "execution_count": null,
   "id": "6f7d822d",
   "metadata": {},
   "outputs": [],
   "source": [
    "!pip freeze > requirements.txt"
   ]
  },
  {
   "cell_type": "markdown",
   "id": "a68f210b",
   "metadata": {},
   "source": [
    "Съдържанието е във формат `{има на пакет}{знак за сравнение}{версия}`:"
   ]
  },
  {
   "cell_type": "code",
   "execution_count": null,
   "id": "b6311969",
   "metadata": {},
   "outputs": [
    {
     "name": "stdout",
     "output_type": "stream",
     "text": [
      "appnope==0.1.3\n",
      "asttokens==2.2.1\n",
      "backcall==0.2.0\n",
      "certifi==2022.12.7\n",
      "charset-normalizer==2.1.1\n",
      "comm==0.1.2\n",
      "debugpy==1.6.4\n",
      "decorator==5.1.1\n",
      "entrypoints==0.4\n",
      "executing==1.2.0\n"
     ]
    }
   ],
   "source": [
    "!cat requirements.txt | head"
   ]
  },
  {
   "cell_type": "markdown",
   "id": "7b06bca8",
   "metadata": {},
   "source": [
    "Използването на файла (т.е. изтеглянето на всички правилни версии на описаните пакети) става чрез аргумента `-r` на `pip install`:"
   ]
  },
  {
   "cell_type": "code",
   "execution_count": null,
   "id": "c1e4de25",
   "metadata": {},
   "outputs": [
    {
     "name": "stdout",
     "output_type": "stream",
     "text": [
      "Requirement already satisfied: appnope==0.1.3 in /Users/alexander.ignatov/Documents/PythonCourse2022/venv/lib/python3.10/site-packages (from -r requirements.txt (line 1)) (0.1.3)\n",
      "Requirement already satisfied: asttokens==2.2.1 in /Users/alexander.ignatov/Documents/PythonCourse2022/venv/lib/python3.10/site-packages (from -r requirements.txt (line 2)) (2.2.1)\n",
      "Requirement already satisfied: backcall==0.2.0 in /Users/alexander.ignatov/Documents/PythonCourse2022/venv/lib/python3.10/site-packages (from -r requirements.txt (line 3)) (0.2.0)\n",
      "Requirement already satisfied: certifi==2022.12.7 in /Users/alexander.ignatov/Documents/PythonCourse2022/venv/lib/python3.10/site-packages (from -r requirements.txt (line 4)) (2022.12.7)\n",
      "Requirement already satisfied: charset-normalizer==2.1.1 in /Users/alexander.ignatov/Documents/PythonCourse2022/venv/lib/python3.10/site-packages (from -r requirements.txt (line 5)) (2.1.1)\n",
      "Requirement already satisfied: comm==0.1.2 in /Users/alexander.ignatov/Documents/PythonCourse2022/venv/lib/python3.10/site-packages (from -r requirements.txt (line 6)) (0.1.2)\n",
      "Requirement already satisfied: debugpy==1.6.4 in /Users/alexander.ignatov/Documents/PythonCourse2022/venv/lib/python3.10/site-packages (from -r requirements.txt (line 7)) (1.6.4)\n",
      "Requirement already satisfied: decorator==5.1.1 in /Users/alexander.ignatov/Documents/PythonCourse2022/venv/lib/python3.10/site-packages (from -r requirements.txt (line 8)) (5.1.1)\n",
      "Requirement already satisfied: entrypoints==0.4 in /Users/alexander.ignatov/Documents/PythonCourse2022/venv/lib/python3.10/site-packages (from -r requirements.txt (line 9)) (0.4)\n",
      "Requirement already satisfied: executing==1.2.0 in /Users/alexander.ignatov/Documents/PythonCourse2022/venv/lib/python3.10/site-packages (from -r requirements.txt (line 10)) (1.2.0)\n",
      "\n",
      "\u001b[1m[\u001b[0m\u001b[34;49mnotice\u001b[0m\u001b[1;39;49m]\u001b[0m\u001b[39;49m A new release of pip available: \u001b[0m\u001b[31;49m22.2.2\u001b[0m\u001b[39;49m -> \u001b[0m\u001b[32;49m22.3.1\u001b[0m\n",
      "\u001b[1m[\u001b[0m\u001b[34;49mnotice\u001b[0m\u001b[1;39;49m]\u001b[0m\u001b[39;49m To update, run: \u001b[0m\u001b[32;49mpip install --upgrade pip\u001b[0m\n"
     ]
    }
   ],
   "source": [
    "!pip install -r requirements.txt"
   ]
  },
  {
   "cell_type": "markdown",
   "id": "479dd4dd",
   "metadata": {},
   "source": [
    "## Да обобщим: setup на проект for dummies"
   ]
  },
  {
   "cell_type": "markdown",
   "id": "5a40d46c",
   "metadata": {},
   "source": [
    "1. Създаване на виртуална среда:\n",
    "\n",
    "    `python3 -m venv venv`\n",
    "\n",
    "    *Важно:* при използване на система за контрол на версиите (напр. Git) трябва новосъздадената директория да бъде игнорирана от нея (`>> .gitignore`).\n",
    "2. Активиране на средата:\n",
    "\n",
    "    `source venv/bin/activate` (unix) или `venv\\Scripts\\activate.bat` (windows)\n",
    "\n",
    "3. Подсигуряване на това, че `pip` е последна версия:\n",
    "\n",
    "    `pip install --upgrade pip`\n",
    "\n",
    "3. Работата по инсталиране на пакети, пускане на кода и т.н. трябва задължително да става докато е активирана виртуалната среда\n",
    "\n",
    "    ...\n",
    "\n",
    "4. След инсталиране на всеки пакет трябва да се обновява списъкът със зависимости:\n",
    "\n",
    "    `pip freeze > requirements.txt`\n",
    "\n",
    "\n"
   ]
  }
 ],
 "metadata": {
  "language_info": {
   "name": "python"
  }
 },
 "nbformat": 4,
 "nbformat_minor": 5
}
