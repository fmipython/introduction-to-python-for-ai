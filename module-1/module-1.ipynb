{
 "cells": [
  {
   "cell_type": "markdown",
   "id": "c486a371",
   "metadata": {},
   "source": [
    "# Въведение в Python и настройка на средата\n",
    "\n",
    "## Какво е Python?\n",
    "\n",
    "Python е [high-level](https://www.geeksforgeeks.org/difference-between-high-level-and-low-level-languages/) език за програмиране, който е [интерпретируем](https://www.geeksforgeeks.org/difference-between-compiler-and-interpreter/), [динамично-типизиран](https://www.educative.io/answers/what-is-dynamic-typing#) и мултипарадигмен. Синтаксисът му е семпъл и лесен за научаване. Има интеграция със С код и библиотеки. Комибнацията от всичко изброено прави Python един мощен език за програмиране.\n",
    "\n",
    "### За какво се ползва?\n",
    "\n",
    "* **Скриптове** (автоматизация, DevOps, системна администрация, data flows & pipelines, инфраструктурни процеси, конзолни инструменти, тестване, т.н.)\n",
    "* **Machine Learning / Data Science / AI** (посредством библиотеки като TensorFlow, PyTorch, Scikit-learn, Pandas, NumPy, SciPy, Matplotlib и т.н.)\n",
    "* **Уеб сървъри** (бекенд, посредством библиотеки като Django, Flask, FastAPI, т.н.)\n",
    "* **Desktop приложения** (рядко)\n",
    "\n",
    "### Версии\n",
    "\n",
    "* **0.9** (1991) - първа версия\n",
    "* **1.0** (1994)\n",
    "* **2.0** (2000)\n",
    "* **3.0** (2008)\n",
    "* **2.7** (2010) - последната minor версия на Python 2\n",
    "* **3.9** (окт. 2020)\n",
    "* **3.10** (окт. 2021)\n",
    "* **3.11** (окт. 2022)\n",
    "* **3.12** (окт. 2023)\n",
    "* 3.13 планирана за окт. 2024\n",
    "* 4.0 [може и да няма](https://builtin.com/software-engineering-perspectives/python-4)\n",
    "\n",
    "### Какви са минусите на Python?\n",
    "\n",
    "* **Бавен** - в пъти даже, в сравнение с езици като C/C++ и Java (макар и в 3.11 да са направени подобрения на скоростта, няма как да се сравнява с по-low-level езици)\n",
    "* **Multi-threading-ът е неефективен**.\n",
    "* **Не е особено подходящ за стабилни и скалируеми backend-и** - заради типизация, скорост, конкурентност и други причини\n",
    "* **(Почти) не може да се пишат мобилни приложения на него**\n",
    "\n",
    "### Какви са плюсовете на Python?\n",
    "\n",
    "* **Лесен синтаксис**\n",
    "* **Мощен** - с малко код могат да се направят много неща\n",
    "* **Мултипарадигмен** - поддържа функционален, обектно-ориентирен и процедурен стил на програмиране\n",
    "* **Мултиплатформен** - работи на Windows, Linux, Mac и се **съдържа по подразбиране в Linux** дистрибуциите\n",
    "* **Най-популярният** език (конкурира се с JavaScript) [от няколко години насам](https://youtu.be/qQXXI5QFUfw?si=rN7-FmBV5FWPi_zL&t=392) (главният заподозрян за това е AI и Data Science бума) - това означава, че ако ви трябва библиотека за нещо, то най-вероятно вече я има (както и наличието огромното community от хора, които да отговарят на въпроси и т.н)\n",
    "* **C interoperability** - може да работи със С код и така да използва всичките предимства на по-low-level езикът за програмиране (най-вече бързодействие).\n",
    "\n",
    "## Инсталиране на Python\n",
    "\n",
    "### Windows\n",
    "\n",
    "1. Изтеглете последната версия на Python от [официалния сайт](https://www.python.org/downloads/windows/)\n",
    "2. Инсталирайте Python, като отбележите опцията **Add Python 3.x to PATH** (това е с цел да може да изпълняваме `python` от командния ред)\n",
    "3. Оставете всичко друго по подразбиране и цъкнете Install Now.\n",
    "\n",
    "Ако всичко е приключило успешно, би трябвало да имате вече програма Python IDLE (или Python Shell), която като отворите ще ви покаже интерактивна конзола, в която можете да изпробвате разични Python изрази:\n",
    "\n",
    "![Python Shell GUI screenshot](assets/idle.png)\n",
    "\n",
    "Същото нещо би трябвало да можете да достъпите и през терминала (понеже сме отметнали опцията *Add Python 3.x to PATH*), като изпълните командата `python`:\n",
    "\n",
    "![Python Shell CLI screenshot](assets/pythoncmd.png)\n",
    "\n",
    "(излиза се с `exit()`)\n",
    "\n",
    "### Linux\n",
    "\n",
    "Ако нямате вече `python`/`python3`, то или дистрибуцията ви е крайно прецакана, или имате някакво твърде obscure Linux distro. За да видите дали вече имате Python 3 инсталиран (и конкретната му версия), изпълнете командата:\n",
    "\n",
    "```bash\n",
    "python3 --version\n",
    "```\n",
    "\n",
    "⚠️ **Важно:** В курсът изучаваме само Python 3. Командата `python` (без тройката) също съществува, но тя подкарва Python 2, който е deprecated и не трябва да се използва повече.\n",
    "\n",
    "И все пак, ако случайно нямате Python, то може да го инсталирате чрез специфичния за дистрибуцията ви package manager. Някои по-популярни примери:\n",
    "\n",
    "* **Debian/Ubuntu** - `sudo apt install python3`\n",
    "* **Fedora** - `sudo dnf install python3`\n",
    "* **Arch/Manjaro** - `sudo pacman -S python`\n",
    "\n",
    "### macOS\n",
    "\n",
    "Също както при линукс, проверете дали имате вече `python3` командата, чрез:\n",
    "    \n",
    "```bash \n",
    "python3 --version\n",
    "```\n",
    "\n",
    "В случай, че видите точна версия - поздравления, вече сте сложили Python 3. Ако пък командата гръмне, то най-вероятно нямате Xcode Command-line Tools. Те идват вградени с [Xcode](https://apps.apple.com/bg/app/xcode/id497799835?mt=12), но могат и да бъдат инсталирани отделно самостоятелно чрез:\n",
    "```bash\n",
    "xcode-select --install\n",
    "```\n",
    "С тях получавате `python`, `git` и доста други developer-ски благинки.\n",
    "\n",
    "## Инсталиране и настройка на редактор / IDE\n",
    "\n",
    "Тук са описани стъпки за инсталиране на две програми за разработка на Python код - Visual Studio Code и PyCharm. \n",
    "\n",
    "Как да избера кое да ползвам?\n",
    "\n",
    "| VSCode | PyCharm |\n",
    "| ------ | ------- |\n",
    "| ✅ Безплатна | ✅ Безплатна за студенти от ФМИ*  |\n",
    "| ⚙️ По-конфигурируема | 🚀 По-лесна за настройка |\n",
    "| 🐙 За всякакви езици | 🐍 Специализирана за Python |\n",
    "| 🪶 По-лека** | 🐳  По-тежка |\n",
    "\n",
    "\n",
    "(*) Community edition е безплатна версия за всички; Professional edition е платена, но при регистрация с университетския имейл получавате безплатен лиценз\n",
    "\n",
    "(**) освен ако не ѝ се инсталират допълнително твърде много тежки плъгини\n",
    "\n",
    "### Visual Studio Code\n",
    "\n",
    "VSCode е удобен **текстов редактор**, специално създаден за редактиране на сорс код. Той е лек, бърз и лесно конфигурируем за всякакви езици и нужди, чрез мнжеството разширения (още extensions/plugins), които могат да му се инсталират.\n",
    "\n",
    "1. Свалете VSCode от [официалния сайт](https://code.visualstudio.com/download)\n",
    "2. Инсталирайте го\n",
    "3. Отворете VSCode\n",
    "4. Oтворете Extensions Marketplace панела, по един от следните три начина:\n",
    "    * от лентата с инструменти вляво (иконката с формата на тетрис квадратчета)\n",
    "    * от менюто `View > Extensions`\n",
    "    * с Ctrl+Shift+X (или ⌘⇧X на macOS)\n",
    "5. Потърсете и изтеглете следните 3 плъгина:\n",
    "    * [Code Runner](https://marketplace.visualstudio.com/items?itemName=formulahendry.code-runner) (за пускане и дебъгване на код)\n",
    "    * [Python](https://marketplace.visualstudio.com/items?itemName=ms-python.python) (за Python syntax highlighting и др.)\n",
    "    * [Pylance](https://marketplace.visualstudio.com/items?itemName=ms-python.vscode-pylance) (за Python intellisense, autocompletion и др.)\n",
    "    * (по желание) [Jupyter](https://marketplace.visualstudio.com/items?itemName=ms-toolsai.jupyter) (за работа с Jupyter notebooks, в какъвто формат са и лекциите в курса)\n",
    "\n",
    "![VSCode screenshot](assets/vscode.png)\n",
    "\n",
    "#### Първият ви Python файл\n",
    "\n",
    "1. Отворете VSCode\n",
    "2. Отворете нов файл (File > New File) (или с Ctrl+N / ⌘N)\n",
    "3. Напишете `print(\"Hello, world!\")`\n",
    "4. Запазете файла (File > Save) (или с Ctrl+S / ⌘S)\n",
    "5. Пуснете го с Run > Run without Debugging\n",
    "\n",
    "### PyCharm\n",
    "\n",
    "PyCharm е **интегрирана среда за разработка** (IDE), специално създадена за Python. Тя е много по-тежка от VSCode, но идва с много повече вградени функционалности, които са полезни за разработка на по-големи проекти.\n",
    "\n",
    "Tя е продукт на JetBrains, която е известна със своите IDE-та за всякакви езици и проекти (напр. IntelliJ за Java, CLion за C/C++, WebStorm за JavaScript и т.н.), които са визуално и функционално подобни помежду си (което е плюс за хора, свикнали да ползват друго тяхно IDE).\n",
    "\n",
    "Можете да свалите PyCharm от [официалния сайт на JetBrains](https://www.jetbrains.com/pycharm/download/). Има две версии - Community и Professional. Community е безплатна, но е по-ограничена във функционалностите си. Professional е платена, но студентите от ФМИ могат да си вземат безплатен лиценз, като се регистрират с университетски имейл."
   ]
  },
  {
   "cell_type": "markdown",
   "id": "b430b6f5",
   "metadata": {},
   "source": [
    "# Променливи, разклонения, цикли, типове, функции"
   ]
  },
  {
   "cell_type": "markdown",
   "id": "adf91cbe",
   "metadata": {},
   "source": [
    "## Динамично vs. статично типизиране. Round 1\n",
    "\n",
    "Python е **динамично-типизиран** език. \n",
    "\n",
    "Това означава, че за разлика от статично-типизираните езици (като например C++, Java или C#), променливите (които биват наричани ***имена***/***names***/ в Python) биват проверявани за коректността на типа им при изпълнението на програмата, а не при компилацията (каквато и няма в Python, понеже кодът се интерпретира вместо да се компилира). \n",
    "\n",
    "Друга особеност е, че типът на променливата **може да се промени** по време на изпълнението на програмата и също така **не се декларира** предварително."
   ]
  },
  {
   "cell_type": "code",
   "execution_count": null,
   "id": "25fd7ae4",
   "metadata": {},
   "outputs": [],
   "source": [
    "# I want it to be a number\n",
    "a = 42\n",
    "\n",
    "a"
   ]
  },
  {
   "cell_type": "code",
   "execution_count": null,
   "id": "95726621",
   "metadata": {},
   "outputs": [],
   "source": [
    "# No, sorry, changed my mind, let it be a string\n",
    "a = \"a string\"\n",
    "\n",
    "a"
   ]
  },
  {
   "cell_type": "code",
   "execution_count": null,
   "id": "6128cfe4",
   "metadata": {},
   "outputs": [],
   "source": [
    "# Actually l... You know what? Screw it. I don't need it.\n",
    "del a\n",
    "\n",
    "a   # 💥"
   ]
  },
  {
   "cell_type": "markdown",
   "id": "78c906b6",
   "metadata": {},
   "source": [
    "*Note*: Относно Jupyter notebooks (тетрадки):\n",
    "1. Всичко, което се изпълнява в една клетка, се запазва в паметта на ядрото (kernel) и може да бъде използвано в следващите клетки.\n",
    "2. Ако последният ред от клетка връща стойност (различна от `None`), тя се показва като резултат от изпълнението на клетката.\n",
    "\n",
    "Т.е. горните три клетки, изпълнени една след друга, са еквивалентни на следния Python скрипт:"
   ]
  },
  {
   "cell_type": "code",
   "execution_count": null,
   "id": "37b7ea6c",
   "metadata": {},
   "outputs": [],
   "source": [
    "# I want it to be a number\n",
    "a = 42\n",
    "print(a)\n",
    "\n",
    "# No, sorry, changed my mind, let it be a string\n",
    "a = \"a string\"\n",
    "print(a)\n",
    "\n",
    "# Actually l... You know what? Screw it. I don't need it.\n",
    "del a\n",
    "print(a)  # 💥\n"
   ]
  },
  {
   "cell_type": "markdown",
   "id": "e3a4805e",
   "metadata": {},
   "source": [
    "*Note 2*: с `print(...)` се пише на изхода на програмата (STDOUT), а с `input(...)` се чете от входа (STDIN)."
   ]
  },
  {
   "cell_type": "markdown",
   "id": "30879f06",
   "metadata": {},
   "source": [
    "## Какви типове има?"
   ]
  },
  {
   "cell_type": "markdown",
   "id": "d06e8813",
   "metadata": {},
   "source": [
    "### Числа\n",
    "\n",
    "Съществуват три основни вградени типа, които описват числови стойности: **int**, **float** и **complex**.\n",
    "\n",
    "* `int` - цели числа\n",
    "* `float` - реални числа (с плаваща запетая)\n",
    "* `complex` - комплексни числа\n",
    "\n",
    "И за трите типа са дефинирани аритметичните оператори `+`, `-`, `*`, `/`, както и `**` (степенуване)."
   ]
  },
  {
   "cell_type": "code",
   "execution_count": null,
   "id": "8ab99584",
   "metadata": {},
   "outputs": [],
   "source": [
    "whole = -42\n",
    "fraction = 0.999\n",
    "imag = 3 + 2j  # this is the complex number (3 + 2i)\n",
    "\n",
    "1j ** 2"
   ]
  },
  {
   "cell_type": "markdown",
   "id": "129f07f4",
   "metadata": {},
   "source": [
    "⚠️ Резултатът на `/`, приложен между два `int`-а е `float`. Всички от останалите оператори запазват резултата в `int`."
   ]
  },
  {
   "cell_type": "code",
   "execution_count": null,
   "id": "5640b5eb",
   "metadata": {},
   "outputs": [],
   "source": [
    "4 / 2"
   ]
  },
  {
   "cell_type": "code",
   "execution_count": null,
   "id": "cc81f842",
   "metadata": {},
   "outputs": [],
   "source": [
    "1 / 3"
   ]
  },
  {
   "cell_type": "markdown",
   "id": "3922dc68",
   "metadata": {},
   "source": [
    "За целочислени сметки имаме и операторите `//` и `%` (целочислено деление и остатък от деление).\n",
    "\n",
    "`//` е и операторът, който трябва да ползваме, ако искаме при делението на два `int`-а да получим отново `int`."
   ]
  },
  {
   "cell_type": "code",
   "execution_count": null,
   "id": "00d5a619",
   "metadata": {},
   "outputs": [],
   "source": [
    "7 / 2"
   ]
  },
  {
   "cell_type": "code",
   "execution_count": null,
   "id": "2ab50d12",
   "metadata": {},
   "outputs": [],
   "source": [
    "7 // 2"
   ]
  },
  {
   "cell_type": "code",
   "execution_count": null,
   "id": "81204f31",
   "metadata": {},
   "outputs": [],
   "source": [
    "7 % 2"
   ]
  },
  {
   "cell_type": "markdown",
   "id": "3b780e08",
   "metadata": {},
   "source": [
    "Hey Siri, how much is 0 divided by 0?"
   ]
  },
  {
   "cell_type": "code",
   "execution_count": null,
   "id": "d26972c3",
   "metadata": {},
   "outputs": [],
   "source": [
    "0 / 0"
   ]
  },
  {
   "cell_type": "markdown",
   "id": "4883c027",
   "metadata": {},
   "source": [
    "С безкрайността обаче нямаме такъв проблем (`math.inf` е специален `float`, който има за цел да бъде еквивалентен на $\\infty$ откъм аритметични операции):"
   ]
  },
  {
   "cell_type": "code",
   "execution_count": null,
   "id": "14b72dc1",
   "metadata": {},
   "outputs": [],
   "source": [
    "from math import inf\n",
    "\n",
    "1 / inf"
   ]
  },
  {
   "cell_type": "markdown",
   "id": "b2b06cdd",
   "metadata": {},
   "source": [
    "Размерът на `int` не е фиксиран както в повечето статично-типизирани езици, при които програмистът избира дали да използва 32-битов, 64-битов или някаква друга размерност за целочислена променлива. Тук integer overflow се избягва като динамично се изчислява размерът на паметта, нужен за съхранението на число с произволна големина."
   ]
  },
  {
   "cell_type": "code",
   "execution_count": null,
   "id": "8bf61ea5",
   "metadata": {},
   "outputs": [],
   "source": [
    "from sys import getsizeof\n",
    "\n",
    "print(\"size of 1 is\",            getsizeof(1),            \"bytes\")\n",
    "print(\"size of 2 ** 16 is\",      getsizeof(2 ** 16),      \"bytes\")\n",
    "print(\"size of 2 ** 30 is\",      getsizeof(2 ** 30),      \"bytes\")\n",
    "print(\"size of 2 ** 30 ** 5 is\", getsizeof(2 ** 30 ** 5), \"bytes\")"
   ]
  },
  {
   "cell_type": "markdown",
   "id": "15d5b738",
   "metadata": {},
   "source": [
    "Обърнете внимание, че изписаните резултати са в байтове, а не битове. Причината числото $ 1 $ да заема цели 28 байта например е понеже в python всичко е обект и си има своите член-данни и методи, дори и типове като `int`.\n",
    "\n",
    "От друга страна, `float` винаги заема фиксиран брой байтове. Причината за това е, че прецизността е константна - до 18 знака след десетичната запетая. В случай, че не ни е достатъчна такава прецизност, могат да се използват типове от някои вградени и не-вградени библиотеки, като например `decimal.Decimal`, с който можем да боравим с до 28 знака след десетичната запетая."
   ]
  },
  {
   "cell_type": "markdown",
   "id": "d9b07555",
   "metadata": {},
   "source": [
    "Целочислени литерали могат да се задават и в двоична, осмична и 16-ична бройни системи, използвайки като префикс съответно `0b`, `0o` и `0x`:"
   ]
  },
  {
   "cell_type": "code",
   "execution_count": null,
   "id": "99d072d5",
   "metadata": {},
   "outputs": [],
   "source": [
    "a = 0b1010\n",
    "b = 0o12\n",
    "c = 0xA\n",
    "\n",
    "print(\"a =\", a)\n",
    "print(\"b =\", b)\n",
    "print(\"c =\", c)"
   ]
  },
  {
   "cell_type": "markdown",
   "id": "0a7c4226",
   "metadata": {},
   "source": [
    "### Низове\n",
    "\n",
    "Текстовите низове в Python имат тип `str`. Те могат да бъдат с произволна дължина, като в литерал се обграждат или с `\"`, или с `'` (без значение)."
   ]
  },
  {
   "cell_type": "code",
   "execution_count": null,
   "id": "1bd37983",
   "metadata": {},
   "outputs": [],
   "source": [
    "s1 = \"abra\"\n",
    "s2 = 'cad'\n",
    "\n",
    "s1 + s2 + s1 + '!'"
   ]
  },
  {
   "cell_type": "markdown",
   "id": "0a7fbe8a",
   "metadata": {},
   "source": [
    "Многоредови низови литерали биват задавани с тройни кавички, също както специалните многоредови коментари, наричани `docstring`-ове (повече за тях в следваща лекция):"
   ]
  },
  {
   "cell_type": "code",
   "execution_count": null,
   "id": "2d66d780",
   "metadata": {},
   "outputs": [],
   "source": [
    "multiple_rows_text = \"\"\"This text contains multiple rows.\n",
    "This is the second one.\n",
    "Here comes the third one.\n",
    "Back and fourth.\"\"\"\n",
    "\n",
    "multiple_rows_text"
   ]
  },
  {
   "cell_type": "markdown",
   "id": "3819351a",
   "metadata": {},
   "source": [
    "При едноредови низове, ако редът става прекалено дълъг можем и да разделим низа на части така:"
   ]
  },
  {
   "cell_type": "code",
   "execution_count": null,
   "id": "e3a96787",
   "metadata": {},
   "outputs": [],
   "source": [
    "too_long = \"This is a very very very very very very very \" \\\n",
    "           \"very very very very very very very very very \" \\\n",
    "           \"long snake 🐍.\"\n",
    "\n",
    "too_long"
   ]
  },
  {
   "cell_type": "markdown",
   "id": "9fdd468d",
   "metadata": {},
   "source": [
    "Друг вариант, ако не ви харесват обратните наклонени черти (line-continuation characters) и нагласената индентация, е да се ползват скоби.\n",
    "\n",
    "*Note*: тези два начина са приложими не само за дълги низове, а и за дълги редове като цяло, например аритметични/булеви изрази, comprehension-и и т.н."
   ]
  },
  {
   "cell_type": "code",
   "execution_count": null,
   "id": "b533e91f",
   "metadata": {},
   "outputs": [],
   "source": [
    "also_too_long = (\n",
    "    \"This is a very very very very very very very \"\n",
    "    \"very very very very very very very very very \"\n",
    "    \"long snake 🐍.\"\n",
    ")\n",
    "\n",
    "also_too_long"
   ]
  },
  {
   "cell_type": "markdown",
   "id": "bf1b0bad",
   "metadata": {},
   "source": [
    "Подържат се Unicode символи, но трябва да се внимава при взимането на дължината им (например емоджитата с флагове кодират двоен брой байтове, което доведе до [това](https://www.theverge.com/2018/10/11/17963230/twitter-emoji-character-limit-bug-fixed-diversity)):"
   ]
  },
  {
   "cell_type": "code",
   "execution_count": null,
   "id": "6f8e31dc",
   "metadata": {},
   "outputs": [],
   "source": [
    "moyai_and_china = \"🗿🇨🇳\"\n",
    "\n",
    "print(\"the length of it =\", len(moyai_and_china))\n",
    "# never ignore the red flags..."
   ]
  },
  {
   "cell_type": "markdown",
   "id": "f18ca92b",
   "metadata": {},
   "source": [
    "Escape символът както обикновено е `\\`. Някои специални символи по този начин написани са:\n",
    "* `\\n` - нов ред (Line Feed, ASCII стойност 13 (0x0D))\n",
    "* `\\t` - хоризонтална табулация (ASCII стойност 9)\n",
    "* `\\r` - Carriage Return, ASCII стойност 10 (0x0A)\n",
    "\n",
    "С `\\'` или  `\\\"` се запазват и кавичките в случай, че видът кавичка съвпада с тази, ограждаща низа. \n",
    "\n",
    "Самата обратно-наклонена черта се въвежда с `\\\\`.\n"
   ]
  },
  {
   "cell_type": "code",
   "execution_count": null,
   "id": "95941b13",
   "metadata": {},
   "outputs": [],
   "source": [
    "s = 'Is it readable?\\nYesn\\'t\\n'\n",
    "\n",
    "s"
   ]
  },
  {
   "cell_type": "markdown",
   "id": "a9855274",
   "metadata": {},
   "source": [
    "Интерполацията на низове е възможна по три основни начина:\n",
    "* Форматиране с `%` (old-school)\n",
    "* `str.format` (от Python 3 насам, back-port-нат към Python 2.7)\n",
    "* f-strings (от Python 3.6 насам)"
   ]
  },
  {
   "cell_type": "markdown",
   "id": "cd64bc58",
   "metadata": {},
   "source": [
    "%-formatting:"
   ]
  },
  {
   "cell_type": "code",
   "execution_count": null,
   "id": "cb96bf58",
   "metadata": {},
   "outputs": [],
   "source": [
    "\"The %s programming language was created in %d by %s.\" % (\"C\", 1972, \"Dennis Ritchie\")"
   ]
  },
  {
   "cell_type": "markdown",
   "id": "d4ec8d26",
   "metadata": {},
   "source": [
    "str.format:"
   ]
  },
  {
   "cell_type": "code",
   "execution_count": null,
   "id": "a90860d6",
   "metadata": {},
   "outputs": [],
   "source": [
    "from math import pi\n",
    "\n",
    "\"{} only knows the first 5 decimal places of π: {:.5f}.\".format(\"MC Ton4ou\", pi)"
   ]
  },
  {
   "cell_type": "code",
   "execution_count": null,
   "id": "90aba2a6",
   "metadata": {},
   "outputs": [],
   "source": [
    "chinese_template = \"由于{reason}，{subject}被屏蔽\"\n",
    "english_template = \"{subject} is blocked due to {reason}\"\n",
    "\n",
    "subject = \"@gosho_the_dove\"\n",
    "reason = \"spam\"\n",
    "\n",
    "print(chinese_template.format(subject=subject, reason=reason))\n",
    "print(english_template.format(subject=subject, reason=reason))"
   ]
  },
  {
   "cell_type": "markdown",
   "id": "7728052b",
   "metadata": {},
   "source": [
    "f-strings:"
   ]
  },
  {
   "cell_type": "code",
   "execution_count": null,
   "id": "e8dda8b9",
   "metadata": {},
   "outputs": [],
   "source": [
    "from time import time\n",
    "\n",
    "name = \"bot.py\"\n",
    "\n",
    "f\"Program {name} finished execution at {time():.2f} unix time.\""
   ]
  },
  {
   "cell_type": "code",
   "execution_count": null,
   "id": "dcccd404",
   "metadata": {},
   "outputs": [],
   "source": [
    "some_variable = 0xdeadbeef\n",
    "\n",
    "f\"Debug info: {some_variable=}\"  # the '=' here puts the name as well as the value"
   ]
  },
  {
   "cell_type": "markdown",
   "id": "233b6031",
   "metadata": {},
   "source": [
    "Низовете са колекции и могат да бъдат използвани като такива. Повече за тях в следваща лекция, засега може да ги мислим като масиви от символи."
   ]
  },
  {
   "cell_type": "code",
   "execution_count": null,
   "id": "e4b647d7",
   "metadata": {},
   "outputs": [],
   "source": [
    "s = \"Hello\"\n",
    "\n",
    "length = len(s)     # the length\n",
    "first_char = s[0]  # the first character (element @ index 0)\n",
    "\n",
    "print(f\"{length=}, {first_char=}\")\n",
    "\n",
    "for char in s:\n",
    "    print(\"===\" + char + \"===\")\n"
   ]
  },
  {
   "cell_type": "markdown",
   "id": "72488f21",
   "metadata": {},
   "source": [
    "Обработката на низове става сравнително лесно чрез предоставените ни вградени функции и методи:"
   ]
  },
  {
   "cell_type": "markdown",
   "id": "67538f32",
   "metadata": {},
   "source": [
    "`replace`:"
   ]
  },
  {
   "cell_type": "code",
   "execution_count": null,
   "id": "8e9e9099",
   "metadata": {},
   "outputs": [],
   "source": [
    "\"Deutschland über alles!\".replace(\"ü\", \"ue\")"
   ]
  },
  {
   "cell_type": "markdown",
   "id": "20a49414",
   "metadata": {},
   "source": [
    "`split`:"
   ]
  },
  {
   "cell_type": "code",
   "execution_count": null,
   "id": "a6d23005",
   "metadata": {},
   "outputs": [],
   "source": [
    "post_hastags = \"#nofilter #nomakeup #feltcutemightdeletelater #f4f #follow4follow\"\n",
    "\n",
    "# first remove all '#', then split using a space as a delimiter into a list of strings\n",
    "# (those operators can be chained)\n",
    "tags_list = post_hastags.replace(\"#\", \"\").split(\" \")\n",
    "\n",
    "# `tags_list` is of type `list` - more on this type later\n",
    "tags_list"
   ]
  },
  {
   "cell_type": "markdown",
   "id": "a24401fe",
   "metadata": {},
   "source": [
    "`join`:"
   ]
  },
  {
   "cell_type": "code",
   "execution_count": null,
   "id": "133b6e24",
   "metadata": {},
   "outputs": [],
   "source": [
    "# `join` accepts an iterable (like a `list`) as an argument\n",
    "# and glues all the elements together using the string it's called on\n",
    "\"; \".join(tags_list)"
   ]
  },
  {
   "cell_type": "markdown",
   "id": "69eb3b5d",
   "metadata": {},
   "source": [
    "`lower`, `upper`, `capitalize`:"
   ]
  },
  {
   "cell_type": "code",
   "execution_count": null,
   "id": "a94068d0",
   "metadata": {},
   "outputs": [],
   "source": [
    "\"SpOnGeBoB squarepants\".lower()"
   ]
  },
  {
   "cell_type": "code",
   "execution_count": null,
   "id": "11ca2871",
   "metadata": {},
   "outputs": [],
   "source": [
    "\"SpOnGeBoB squarepants\".upper()"
   ]
  },
  {
   "cell_type": "code",
   "execution_count": null,
   "id": "d0dbc00f",
   "metadata": {},
   "outputs": [],
   "source": [
    "\"SpOnGeBoB squarepants\".capitalize()"
   ]
  },
  {
   "cell_type": "markdown",
   "id": "7416eda4",
   "metadata": {},
   "source": [
    "### Булеви\n",
    "\n",
    "Тип `bool` има две възможни стойности: `True` и `False`.\n",
    "\n",
    "За разлика от повечето други езици, вместо `!`, `||` и `&&` използваме `not`, `or` и `and`. Както си и трябва."
   ]
  },
  {
   "cell_type": "code",
   "execution_count": null,
   "id": "5898b04b",
   "metadata": {},
   "outputs": [],
   "source": [
    "t = True\n",
    "f = not t\n",
    "\n",
    "f"
   ]
  },
  {
   "cell_type": "code",
   "execution_count": null,
   "id": "47322a97",
   "metadata": {},
   "outputs": [],
   "source": [
    "not f"
   ]
  },
  {
   "cell_type": "code",
   "execution_count": null,
   "id": "42f07a89",
   "metadata": {},
   "outputs": [],
   "source": [
    "t or f"
   ]
  },
  {
   "cell_type": "code",
   "execution_count": null,
   "id": "629a9dda",
   "metadata": {},
   "outputs": [],
   "source": [
    "t and f"
   ]
  },
  {
   "cell_type": "code",
   "execution_count": null,
   "id": "ba58a73e",
   "metadata": {},
   "outputs": [],
   "source": [
    "t and not f"
   ]
  },
  {
   "cell_type": "markdown",
   "id": "59967df5",
   "metadata": {},
   "source": [
    "⚠️ `or` и `and` всъщност не връщат винаги `bool`, а стойността на първия операнд отляво надясно, след който каквито и да са стойностите на другите резултатът остава същия:"
   ]
  },
  {
   "cell_type": "code",
   "execution_count": null,
   "id": "eff9c12d",
   "metadata": {},
   "outputs": [],
   "source": [
    "1 or 2 or 3"
   ]
  },
  {
   "cell_type": "code",
   "execution_count": null,
   "id": "a0983042",
   "metadata": {},
   "outputs": [],
   "source": [
    "1 and 2 and 3"
   ]
  },
  {
   "cell_type": "code",
   "execution_count": null,
   "id": "9fbd8a77",
   "metadata": {},
   "outputs": [],
   "source": [
    "1 or 0 or 3"
   ]
  },
  {
   "cell_type": "code",
   "execution_count": null,
   "id": "bbba5796",
   "metadata": {},
   "outputs": [],
   "source": [
    "1 and 0 and 3"
   ]
  },
  {
   "cell_type": "markdown",
   "id": "f4632ce4",
   "metadata": {},
   "source": [
    "Можем да се възползваме от това в кода ни с изрази и функции, чието изпълнение зависи от предходния резултат:"
   ]
  },
  {
   "cell_type": "code",
   "execution_count": null,
   "id": "8e729fc5",
   "metadata": {},
   "outputs": [],
   "source": [
    "def func1():\n",
    "    print(\"Function 1 is being executed.\")\n",
    "    return True\n",
    "\n",
    "def func2():\n",
    "    print(\"Function 2 is being executed.\")\n",
    "    return True\n",
    "\n",
    "if func1() or func2():\n",
    "    print(\"OK\")"
   ]
  },
  {
   "cell_type": "markdown",
   "id": "43fc18e4",
   "metadata": {},
   "source": [
    "### `None`\n",
    "\n",
    "`None` е стойност (и тип), обозначаваща липса на стойност (🤔).\n",
    "\n",
    "*Note*: Когато една функция **не** преминава през `return` израз, тя всъщност връща `None` като резултат."
   ]
  },
  {
   "cell_type": "code",
   "execution_count": null,
   "id": "56e8c4ae",
   "metadata": {},
   "outputs": [],
   "source": [
    "result_of_print = print(\"The print function isn't intended to return a specific value.\")\n",
    "print(result_of_print)"
   ]
  },
  {
   "cell_type": "markdown",
   "id": "cdc5188c",
   "metadata": {},
   "source": [
    "### `type`\n",
    "`type` е функция, която ни връща типа на дадена стойност:"
   ]
  },
  {
   "cell_type": "code",
   "execution_count": null,
   "id": "03ad3604",
   "metadata": {},
   "outputs": [],
   "source": [
    "type(42)"
   ]
  },
  {
   "cell_type": "markdown",
   "id": "6be8cdb5",
   "metadata": {},
   "source": [
    "Но всичко в Python е обект, включително и функциите:"
   ]
  },
  {
   "cell_type": "code",
   "execution_count": null,
   "id": "d81172cc",
   "metadata": {},
   "outputs": [],
   "source": [
    "type(print)"
   ]
  },
  {
   "cell_type": "markdown",
   "id": "4b17e8ee",
   "metadata": {},
   "source": [
    "Следователно, `type` също си има тип:"
   ]
  },
  {
   "cell_type": "code",
   "execution_count": null,
   "id": "5f9b158e",
   "metadata": {},
   "outputs": [],
   "source": [
    "type(type)"
   ]
  },
  {
   "cell_type": "markdown",
   "id": "6f68edf9",
   "metadata": {},
   "source": [
    "😵‍💫"
   ]
  },
  {
   "cell_type": "code",
   "execution_count": null,
   "id": "d10d2eca",
   "metadata": {},
   "outputs": [],
   "source": [
    "type(type(type(type(type(type)))))"
   ]
  },
  {
   "cell_type": "markdown",
   "id": "f199332d",
   "metadata": {},
   "source": [
    "### `tuple`, `list`, `set`, `dict`: четирите вградени колекции\n",
    "\n",
    "* `tuple`: наредена $n$-торка (още **кортеж**), която **не може да се променя** (immutable) \n",
    "* `list`: **списък** от елементи, който **може да се променя** (mutable)\n",
    "* `set`: **множество** от елементи без наредба и повторения (HashSet) (mutable)\n",
    "* `dict`: **речник** от ключове и стойности (HashMap) (mutable)\n",
    "\n",
    "Елементите и на четирите колекции могат да бъдат от различни типове."
   ]
  },
  {
   "cell_type": "code",
   "execution_count": null,
   "id": "28f5f437",
   "metadata": {},
   "outputs": [],
   "source": [
    "t = (1, \"b\", False)  # tuples are with () or without any brackets\n",
    "t"
   ]
  },
  {
   "cell_type": "code",
   "execution_count": null,
   "id": "414561fc",
   "metadata": {},
   "outputs": [],
   "source": [
    "t = 1, \"b\", False\n",
    "t"
   ]
  },
  {
   "cell_type": "code",
   "execution_count": null,
   "id": "f36c28fc",
   "metadata": {},
   "outputs": [],
   "source": [
    "l = [1, \"b\", False]  # lists are with []\n",
    "l"
   ]
  },
  {
   "cell_type": "code",
   "execution_count": null,
   "id": "6f81b193",
   "metadata": {},
   "outputs": [],
   "source": [
    "s = {1, \"b\", False}  # sets are with {}\n",
    "s"
   ]
  },
  {
   "cell_type": "code",
   "execution_count": null,
   "id": "5c647e1d",
   "metadata": {},
   "outputs": [],
   "source": [
    "d = {\"a\": 1, \"b\": 2, \"c\": 3, \"幸\": None}  # dicts are also with {}\n",
    "d"
   ]
  },
  {
   "cell_type": "markdown",
   "id": "906a1bda",
   "metadata": {},
   "source": [
    "⚠️ `{}` е празен `dict`, а не празен `set`. За празен `set` се ползва конструктора `set()`."
   ]
  },
  {
   "cell_type": "code",
   "execution_count": null,
   "id": "3623a982",
   "metadata": {},
   "outputs": [],
   "source": [
    "type({})"
   ]
  },
  {
   "cell_type": "markdown",
   "id": "4351d869",
   "metadata": {},
   "source": [
    "⚠️ Понеже нормалните скоби са и... нормални скоби, които обособяват израз и връщат стойността му, `tuple` с един елемент се дефинира със запетайка след елемента. Освен това няма нужда от обграждащи скоби при задаване на `tuple` с повече от нула елементи."
   ]
  },
  {
   "cell_type": "code",
   "execution_count": null,
   "id": "894855ee",
   "metadata": {},
   "outputs": [],
   "source": [
    "one_element_tuple = (42,)\n",
    "one_element_tuple"
   ]
  },
  {
   "cell_type": "code",
   "execution_count": null,
   "id": "d4bfa70d",
   "metadata": {},
   "outputs": [],
   "source": [
    "one_element_tuple_again = 42,\n",
    "one_element_tuple_again"
   ]
  },
  {
   "cell_type": "markdown",
   "id": "151a720c",
   "metadata": {},
   "source": [
    "*Въпрос:* Как да създадем празен `tuple`? 🤔"
   ]
  },
  {
   "cell_type": "markdown",
   "id": "c2c7c249",
   "metadata": {},
   "source": [
    "Кога кое да ползваме? Rule of thumb:\n",
    "* `tuple` - когато искаме функция да върне няколко наредени неща / списък, който не може да бъде променян и може да бъде хеширан /  анонимен `dataclass` (проста структурка с няколко елемента)\n",
    "* `list` - когато искаме нареден списък, който да може да бъде променян и може да има повторения\n",
    "* `set` - когато наредбата не ни трябва и нямаме повторения / когато искаме да проверим за принадлежност на елемент към множество ($ O(1) $ vs. $ O(n) $ за `list`)\n",
    "* `dict` - когато искаме да асоциираме дадени ключове с дадени стойности"
   ]
  },
  {
   "cell_type": "markdown",
   "id": "46082fd4",
   "metadata": {},
   "source": [
    "Ключовата дума `in` е полезна при работа с такива колекции. Тя връща `bool` който ни казва дали даден елемент се среща вътре:"
   ]
  },
  {
   "cell_type": "code",
   "execution_count": null,
   "id": "ed2ea918",
   "metadata": {},
   "outputs": [],
   "source": [
    "impostor = 1j\n",
    "squad = [0, 1j, 2, 3, 4, 5]\n",
    "\n",
    "impostor in squad"
   ]
  },
  {
   "cell_type": "code",
   "execution_count": null,
   "id": "6391c9e5",
   "metadata": {},
   "outputs": [],
   "source": [
    "members = {\"A\": 0, \"B\": 1j, \"C\": 2, \"D\": 3, \"E\": 4, \"F\": 5}\n",
    "\n",
    "# `in` searches in the dictionary's keys, not values\n",
    "impostor in members"
   ]
  },
  {
   "cell_type": "code",
   "execution_count": null,
   "id": "a1b16613",
   "metadata": {},
   "outputs": [],
   "source": [
    "impostor in members.values()"
   ]
  },
  {
   "cell_type": "code",
   "execution_count": null,
   "id": "aead2364",
   "metadata": {},
   "outputs": [],
   "source": [
    "impostor in members.keys()"
   ]
  },
  {
   "cell_type": "markdown",
   "id": "826fe918",
   "metadata": {},
   "source": [
    "`in` може да се ползва и за `str`:"
   ]
  },
  {
   "cell_type": "code",
   "execution_count": null,
   "id": "368f5b2b",
   "metadata": {},
   "outputs": [],
   "source": [
    "\"mile\" in \"smiles\""
   ]
  },
  {
   "cell_type": "markdown",
   "id": "cdc3d32e",
   "metadata": {},
   "source": [
    "Дължината им се взима с `len`:"
   ]
  },
  {
   "cell_type": "code",
   "execution_count": null,
   "id": "b835dca2",
   "metadata": {},
   "outputs": [],
   "source": [
    "len([0, 1, 2])"
   ]
  },
  {
   "cell_type": "code",
   "execution_count": null,
   "id": "6063e192",
   "metadata": {},
   "outputs": [],
   "source": [
    "len((0, 1, 2))"
   ]
  },
  {
   "cell_type": "code",
   "execution_count": null,
   "id": "309379ee",
   "metadata": {},
   "outputs": [],
   "source": [
    "len({1, 1, 1, 1, 1, 2, 3})"
   ]
  },
  {
   "cell_type": "code",
   "execution_count": null,
   "id": "da921005",
   "metadata": {},
   "outputs": [],
   "source": [
    "len(\"abracadabra\")"
   ]
  },
  {
   "cell_type": "markdown",
   "id": "b65f3a31",
   "metadata": {},
   "source": [
    "`tuple` и `list` поддържат индексиране, като за `tuple` това е само read-only:"
   ]
  },
  {
   "cell_type": "code",
   "execution_count": null,
   "id": "5ab4f266",
   "metadata": {},
   "outputs": [],
   "source": [
    "t = (\"a\", \"b\", \"c\")\n",
    "t[0]"
   ]
  },
  {
   "cell_type": "code",
   "execution_count": null,
   "id": "4f31b2a2",
   "metadata": {},
   "outputs": [],
   "source": [
    "l = [\"a\", \"b\", \"c\"]\n",
    "l[0]"
   ]
  },
  {
   "cell_type": "code",
   "execution_count": null,
   "id": "dd934aff",
   "metadata": {},
   "outputs": [],
   "source": [
    "l[0] = \"A\"\n",
    "l"
   ]
  },
  {
   "cell_type": "code",
   "execution_count": null,
   "id": "a188c1af",
   "metadata": {},
   "outputs": [],
   "source": [
    "t[0] = \"A\"  # 💥"
   ]
  },
  {
   "cell_type": "markdown",
   "id": "078b3836",
   "metadata": {},
   "source": [
    "По същия начин става взимането/записването на стойност в `dict`. Съществува и метода `get` който ни предоставя по-безопасен начин при достъпването на несъществуващи ключове:"
   ]
  },
  {
   "cell_type": "code",
   "execution_count": null,
   "id": "a8639ca4",
   "metadata": {},
   "outputs": [],
   "source": [
    "d = {}  # an empty dictoinary\n",
    "d"
   ]
  },
  {
   "cell_type": "code",
   "execution_count": null,
   "id": "dbf85ce3",
   "metadata": {},
   "outputs": [],
   "source": [
    "d[\"a\"] = 1\n",
    "d"
   ]
  },
  {
   "cell_type": "code",
   "execution_count": null,
   "id": "50b4f5ec",
   "metadata": {},
   "outputs": [],
   "source": [
    "d[\"a\"]"
   ]
  },
  {
   "cell_type": "code",
   "execution_count": null,
   "id": "87909017",
   "metadata": {},
   "outputs": [],
   "source": [
    "d.get(\"a\")"
   ]
  },
  {
   "cell_type": "code",
   "execution_count": null,
   "id": "58c61ef3",
   "metadata": {},
   "outputs": [],
   "source": [
    "print(d.get(\"b\"))  # using `print`` because Jupyter doesn't show `None` as output"
   ]
  },
  {
   "cell_type": "code",
   "execution_count": null,
   "id": "94c9e9c8",
   "metadata": {},
   "outputs": [],
   "source": [
    "d.get(\"b\", \"default value\")"
   ]
  },
  {
   "cell_type": "code",
   "execution_count": null,
   "id": "97e63b52",
   "metadata": {},
   "outputs": [],
   "source": [
    "d[\"b\"]  # 💥"
   ]
  },
  {
   "cell_type": "markdown",
   "id": "7aa43b25",
   "metadata": {},
   "source": [
    "*Pro tip*: `collections.defalutdict` е `dict` със зададена стойност по подразбиране, която се връща при липсващ ключ."
   ]
  },
  {
   "cell_type": "markdown",
   "id": "7eefddbb",
   "metadata": {},
   "source": [
    "## Mutable vs Immutable\n",
    "\n",
    "Имената в Python *сочат* към някаква стойност в паметта."
   ]
  },
  {
   "cell_type": "code",
   "execution_count": null,
   "id": "8cbd44d8",
   "metadata": {},
   "outputs": [],
   "source": [
    "name = 1\n",
    "name += 1000\n",
    "\n",
    "name"
   ]
  },
  {
   "cell_type": "markdown",
   "id": "b6093083",
   "metadata": {},
   "source": [
    "Горното парче код не променя стойността на `1`, а кара `name` да сочи към нова стойност - `1001`.\n",
    "\n",
    "Това е така, понеже `int` е **immutable** тип (такъв който не може да си променя стойността). Immutable са още всички числа, низове, `tuple`, `True`, `False`, `None` и [т.н.](https://www.youtube.com/watch?v=pNc1kboPuDU&list=PLkROH3Eqs0T8cWGQnJ2ZfLE5y9yohLk3x)\n",
    "\n",
    "Mutable типовете пък са `list`, `set`, `dict` и почти всичко останало."
   ]
  },
  {
   "cell_type": "code",
   "execution_count": null,
   "id": "3bcc6764",
   "metadata": {},
   "outputs": [],
   "source": [
    "a = 1\n",
    "b = a\n",
    "b += 1\n",
    "\n",
    "print(\"a = \", a)\n",
    "print(\"b = \", b)"
   ]
  },
  {
   "cell_type": "code",
   "execution_count": null,
   "id": "caec90b4",
   "metadata": {},
   "outputs": [],
   "source": [
    "l1 = [1, 2]\n",
    "l2 = l1\n",
    "l2.append(3)\n",
    "\n",
    "print(\"l1 = \", l1)\n",
    "print(\"l2 = \", l2)"
   ]
  },
  {
   "cell_type": "markdown",
   "id": "d1698612",
   "metadata": {},
   "source": [
    "Важно е да се отбележи също, че валидни **ключове** за `dict` и елементи за `set` са само **immutable** стойности. По-точно, тези, които имат имплементация на хеширане (методът `__hash__`)."
   ]
  },
  {
   "cell_type": "code",
   "execution_count": null,
   "id": "b806e240",
   "metadata": {},
   "outputs": [],
   "source": [
    "l = [1, 2]\n",
    "d = {l: 1}  # 💥"
   ]
  },
  {
   "cell_type": "markdown",
   "id": "c06f73b6",
   "metadata": {},
   "source": [
    "### Unpacking\n",
    "\n",
    "Unpacking-ът ни позволява да извлечем всички елементи от колекции в няколко различни други имена."
   ]
  },
  {
   "cell_type": "code",
   "execution_count": null,
   "id": "9c93c678",
   "metadata": {},
   "outputs": [],
   "source": [
    "firstname, lastname = \"Вовеки\", \"Веков\"\n",
    "\n",
    "tup = 1, 2, 3\n",
    "a, b, c = tup\n",
    "\n",
    "print(f\"{firstname=}, {lastname=}\")\n",
    "print(f\"{a=}, {b=}, {c=}\")"
   ]
  },
  {
   "cell_type": "markdown",
   "id": "63415f50",
   "metadata": {},
   "source": [
    "Pro tip: размяната на стойностите на две променливи в Python не изисква да дефинираме трета:"
   ]
  },
  {
   "cell_type": "code",
   "execution_count": null,
   "id": "a76ef092",
   "metadata": {},
   "outputs": [],
   "source": [
    "a, b = 1, 2\n",
    "a, b = b, a\n",
    "\n",
    "print(f\"{a=}, {b=}\")"
   ]
  },
  {
   "cell_type": "markdown",
   "id": "5e6ed9a1",
   "metadata": {},
   "source": [
    "За да посочим име, в което да се присвоят всички останали неприсвоени елементи от колекцията, която unpack-ваме, използваме астериск `*` (няма нищо общо с pointer, спокойно). Типът на такава променлива винаги става `list`."
   ]
  },
  {
   "cell_type": "code",
   "execution_count": null,
   "id": "f50b84c4",
   "metadata": {},
   "outputs": [],
   "source": [
    "head, *tail = [1, 2, 3, 4, 5]\n",
    "first, *inbetween, last = 1, 2, 3, 4, 5, 6, 7, 8, 9, 10\n",
    "\n",
    "print(f\"{head=}, {tail=}\")\n",
    "print(f\"{first=}, {inbetween=}, {last=}\")\n"
   ]
  },
  {
   "cell_type": "markdown",
   "id": "831804c7",
   "metadata": {},
   "source": [
    "Това може да бъде приложимо при слепване на колекции, като за `dict` ползваме `**`:"
   ]
  },
  {
   "cell_type": "code",
   "execution_count": null,
   "id": "07ba691f",
   "metadata": {},
   "outputs": [],
   "source": [
    "original_ingredients = [\"water\", \"salt\", \"sugar\"]\n",
    "new_ingredients = [\"flour\", \"eggs\", \"butter\", *original_ingredients]\n",
    "\n",
    "new_ingredients"
   ]
  },
  {
   "cell_type": "code",
   "execution_count": null,
   "id": "75f96000",
   "metadata": {},
   "outputs": [],
   "source": [
    "studio_band = {\"GUITAR\": \"Vasko\", \"MICROPHONE\": \"Ceca\"}\n",
    "live_band = {\"BASS\": \"Pesho\", \"DRUMS\": \"亚历山大\", **studio_band}\n",
    "\n",
    "live_band"
   ]
  },
  {
   "cell_type": "markdown",
   "id": "c7f96ba5",
   "metadata": {},
   "source": [
    "## Конвертиране между типове"
   ]
  },
  {
   "cell_type": "markdown",
   "id": "037b53a1",
   "metadata": {},
   "source": [
    "В C/C++/Java трябва да ползваме `atoi`, `atof`, `strtol`, `strtof`, `Integer.parseInt`, `Float.parseFloat` и т.н. за конвертиране на числа от низове и обратно.\n",
    "\n",
    "В С/С++/С# имаме и синтаксис от рода на `(int)...`, `(float)...`, `(string)...` и т.н.\n",
    "\n",
    "Тук няма нужда от това.\n",
    "\n",
    "Просто използваме *конструкторите* на типовете (да припомним, че в Python всичко е обект, и си има конструктор):"
   ]
  },
  {
   "cell_type": "code",
   "execution_count": null,
   "id": "88382b24",
   "metadata": {},
   "outputs": [],
   "source": [
    "str(42)"
   ]
  },
  {
   "cell_type": "code",
   "execution_count": null,
   "id": "6357e05c",
   "metadata": {},
   "outputs": [],
   "source": [
    "int(\"42\")"
   ]
  },
  {
   "cell_type": "code",
   "execution_count": null,
   "id": "8b0c27be",
   "metadata": {},
   "outputs": [],
   "source": [
    "int(42.69)"
   ]
  },
  {
   "cell_type": "code",
   "execution_count": null,
   "id": "cae795a2",
   "metadata": {},
   "outputs": [],
   "source": [
    "float(42)"
   ]
  },
  {
   "cell_type": "code",
   "execution_count": null,
   "id": "412d2126",
   "metadata": {},
   "outputs": [],
   "source": [
    "bool(42)"
   ]
  },
  {
   "cell_type": "code",
   "execution_count": null,
   "id": "8a9d1f95",
   "metadata": {},
   "outputs": [],
   "source": [
    "bool(0)"
   ]
  },
  {
   "cell_type": "code",
   "execution_count": null,
   "id": "9366015b",
   "metadata": {},
   "outputs": [],
   "source": [
    "list(\"абвгдежзийклмнопрстуфхцчшщъьюя\")"
   ]
  },
  {
   "cell_type": "code",
   "execution_count": null,
   "id": "a9a37118",
   "metadata": {},
   "outputs": [],
   "source": [
    "tuple([1, 2, 3])"
   ]
  },
  {
   "cell_type": "code",
   "execution_count": null,
   "id": "a18c3a0f",
   "metadata": {},
   "outputs": [],
   "source": [
    "list((1, 2, 3))"
   ]
  },
  {
   "cell_type": "code",
   "execution_count": null,
   "id": "cacdd936",
   "metadata": {},
   "outputs": [],
   "source": [
    "set([1, 1, 1, 2, 3, 3, 3, 3, 3])"
   ]
  },
  {
   "cell_type": "code",
   "execution_count": null,
   "id": "f4c2651b",
   "metadata": {},
   "outputs": [],
   "source": [
    "dict([(\"a\", 1), (\"b\", 2), (\"c\", 3)])"
   ]
  },
  {
   "cell_type": "markdown",
   "id": "84129562",
   "metadata": {},
   "source": [
    "## Блокове"
   ]
  },
  {
   "cell_type": "markdown",
   "id": "bdc596ff",
   "metadata": {},
   "source": [
    "В Python блоковете от код се отделят не чрез къдрави скоби, а с индентация.\n",
    "\n",
    "За съжаление на хората, предпочитащи скоби, това няма да се промени в бъдещи версии на езика:"
   ]
  },
  {
   "cell_type": "code",
   "execution_count": null,
   "id": "0102548b",
   "metadata": {},
   "outputs": [],
   "source": [
    "from __future__ import braces"
   ]
  },
  {
   "cell_type": "markdown",
   "id": "6835ef5b",
   "metadata": {},
   "source": [
    "Важно е да се отбележи, че всеки блок започва след двуеточие и всеки негов ред започва с определен брой интервали (или една табулация) по-навътре от предходния блок. За да бъде валдна индентацията трябва да е консистентна в целия файл, в противен случай ще се хвърли `IndentationError`. Общоприето е в Python да си използват 4 интервала за тази цел."
   ]
  },
  {
   "cell_type": "code",
   "execution_count": null,
   "id": "15338d26",
   "metadata": {},
   "outputs": [],
   "source": [
    "if True:\n",
    "    print(\"This line is ok\")\n",
    "        print(\"But this one is not\")"
   ]
  },
  {
   "cell_type": "markdown",
   "id": "853ca4b0",
   "metadata": {},
   "source": [
    "Side note: едноредови блокове могат да се запишат и на същия ред след двуеточието. Често срещана конвенция обаче е да не се пишат по този начин."
   ]
  },
  {
   "cell_type": "code",
   "execution_count": null,
   "id": "e8c7dd1f",
   "metadata": {},
   "outputs": [],
   "source": [
    "if True: print(\"This will run\")"
   ]
  },
  {
   "cell_type": "markdown",
   "id": "9d8b3f17",
   "metadata": {},
   "source": [
    "## Контролни структури"
   ]
  },
  {
   "cell_type": "markdown",
   "id": "1a11fd5f",
   "metadata": {},
   "source": [
    "### `if`"
   ]
  },
  {
   "cell_type": "code",
   "execution_count": null,
   "id": "0d85b5fc",
   "metadata": {},
   "outputs": [],
   "source": [
    "age = 21\n",
    "\n",
    "if age == 18:\n",
    "    print(\"Barely legal\")\n",
    "elif age < 18:\n",
    "    print(\"Sorry, you are not allowed.\")\n",
    "else:\n",
    "    print(\"You good.\")"
   ]
  },
  {
   "cell_type": "markdown",
   "id": "4ebcc03a",
   "metadata": {},
   "source": [
    "Няма нужда от скоби около условията (и не пишете такива, за да не ви се караме за глупости). \n",
    "\n",
    "Едно условие се оценява на `False`, когато стойността му е `False`, `None`, `0`, `0.0`, `0j`, `''`, `b''`, `[]`, `{}` и всички празни контейнери. Всички други стойности се оценяват до `True`."
   ]
  },
  {
   "cell_type": "markdown",
   "id": "572590e9",
   "metadata": {},
   "source": [
    "Съществува и едноредова версия на `if` с `else`, която има за цел да служи като тернарния оператор в повечето езици:"
   ]
  },
  {
   "cell_type": "code",
   "execution_count": null,
   "id": "288f2ab5",
   "metadata": {},
   "outputs": [],
   "source": [
    "num = 420\n",
    "statement = \"odd\" if num % 2 == 1 else \"definitely not odd\"\n",
    "\n",
    "statement"
   ]
  },
  {
   "cell_type": "markdown",
   "id": "791bc656",
   "metadata": {},
   "source": [
    "Операторите за сравнение са `==`, `!=`, `<`, `>`, `<=`, `>=`. Съществува и `<>`, който е просто различен запис на `!=`.\n",
    "\n",
    "В Python е възможно комбинирането им. Например `1 < 2 and 2 < 3` може да бъде записано като `1 < 2 < 3`."
   ]
  },
  {
   "cell_type": "code",
   "execution_count": null,
   "id": "c16c59d7",
   "metadata": {},
   "outputs": [],
   "source": [
    "code = 404\n",
    "\n",
    "if 100 <= code < 200:\n",
    "    print(\"Informational response\")\n",
    "elif 200 <= code < 300:\n",
    "    print(\"OK response\")\n",
    "elif 300 <= code < 400:\n",
    "    print(\"Redirection\")\n",
    "elif 400 <= code < 500:\n",
    "    print(\"Client error\")\n",
    "elif 500 <= code < 600:\n",
    "    print(\"Server error\")\n",
    "else:\n",
    "    print(\"Not a valid HTTP status code\")"
   ]
  },
  {
   "cell_type": "markdown",
   "id": "2fc89864",
   "metadata": {},
   "source": [
    "Ключовата дума `is` сравнява по референция, докато `==` сравнява по стойност:"
   ]
  },
  {
   "cell_type": "code",
   "execution_count": null,
   "id": "44e96f96",
   "metadata": {},
   "outputs": [],
   "source": [
    "a = [1, 2, 3]\n",
    "b = [1, 2, 3]\n",
    "\n",
    "if a == b:\n",
    "    print(\"a and b are equal\")\n",
    "else:\n",
    "    print(\"a and b are not equal\")\n",
    "\n",
    "if a is b:\n",
    "    print(\"a points to the same thing as b\")\n",
    "else:\n",
    "    print(\"a does not point to the same thing as b\")"
   ]
  },
  {
   "cell_type": "markdown",
   "id": "4304164f",
   "metadata": {},
   "source": [
    "Side note: сравнение с `None` може да бъде направено и по двата начина, но за четимост се ползва по-често `is`."
   ]
  },
  {
   "cell_type": "code",
   "execution_count": null,
   "id": "41a1c759",
   "metadata": {},
   "outputs": [],
   "source": [
    "result = None\n",
    "\n",
    "if result is not None:  # clear 'nuff, innit \n",
    "    print(f\"We got a result, it is {result}.\")\n",
    "else:\n",
    "    print(\"No result.\")"
   ]
  },
  {
   "cell_type": "markdown",
   "id": "85be011f",
   "metadata": {},
   "source": [
    "⚠️ Трябва да се внимава винаги с очакваната прецизност на числата с плаваща запетая:"
   ]
  },
  {
   "cell_type": "code",
   "execution_count": null,
   "id": "f09ab915",
   "metadata": {},
   "outputs": [],
   "source": [
    "if 0.1 + 0.2 == 0.3:\n",
    "    print(\"Естествено, че ще влезе тука\")\n",
    "else:\n",
    "    print(f\"Да, ама не: 0.1 + 0.2 == {0.1 + 0.2}\")"
   ]
  },
  {
   "cell_type": "markdown",
   "id": "dddcc400",
   "metadata": {},
   "source": [
    "### `while`"
   ]
  },
  {
   "cell_type": "code",
   "execution_count": null,
   "id": "282f8031",
   "metadata": {},
   "outputs": [],
   "source": [
    "num = 0\n",
    "while num < 20:\n",
    "    num += 1\n",
    "    current_output = f\"{num}: \"\n",
    "\n",
    "    if num % 3 == 0 and num % 5 == 0:\n",
    "        current_output += \"FizzBuzz\"\n",
    "    elif num % 3 == 0:\n",
    "        current_output += \"Fizz\"\n",
    "    elif num % 5 == 0:\n",
    "        current_output += \"Buzz\"\n",
    "\n",
    "    print(current_output)"
   ]
  },
  {
   "cell_type": "markdown",
   "id": "55f4b1df",
   "metadata": {},
   "source": [
    "`continue` прекъсва изпълнението на текущaта итерация и продължава със следващата.\n",
    "\n",
    "`break` прекъсва изпълнението на цикъла."
   ]
  },
  {
   "cell_type": "code",
   "execution_count": null,
   "id": "dde6a885",
   "metadata": {},
   "outputs": [],
   "source": [
    "n = 0\n",
    "while True:\n",
    "    if n > 100:\n",
    "        break\n",
    "\n",
    "    n += 1\n",
    "\n",
    "    if n % 3 != 0 or n % 5 != 0:\n",
    "        continue\n",
    "    \n",
    "    print(n)"
   ]
  },
  {
   "cell_type": "markdown",
   "id": "ec81ed5e",
   "metadata": {},
   "source": [
    "### `for`\n",
    "\n",
    "`for`-циклите в Python итерират върху дадена колекция:"
   ]
  },
  {
   "cell_type": "code",
   "execution_count": null,
   "id": "410efb0c",
   "metadata": {},
   "outputs": [],
   "source": [
    "ingredients = [\"eggs\", \"milk\", \"flour\", \"sugar\"]\n",
    "\n",
    "for i in ingredients:\n",
    "    print(f\"I will need {i}\")"
   ]
  },
  {
   "cell_type": "code",
   "execution_count": null,
   "id": "fdbb7244",
   "metadata": {},
   "outputs": [],
   "source": [
    "ingredients_price = {\"eggs\": 0.98, \"milk\": 1.23, \"flour\": 1.59, \"sugar\": 0.88}\n",
    "\n",
    "for ingr, price in ingredients_price.items():  # IMPORTANT: .items() returns a tuple of (key, value)\n",
    "    print(f\"We got {ingr} for ${price}\")"
   ]
  },
  {
   "cell_type": "markdown",
   "id": "e981cfb8",
   "metadata": {},
   "source": [
    "*Tip*: Питонският начин при обхождане да боравим и с индекса, и със самата стойност на колекцията, е чрез `enumerate`:"
   ]
  },
  {
   "cell_type": "code",
   "execution_count": null,
   "id": "a434ada6",
   "metadata": {},
   "outputs": [],
   "source": [
    "for i, ingr in enumerate(ingredients):  # enumerate() returns a tuple of (index, element)\n",
    "    print(f\"Ingredient {i+1}: {ingr}\")"
   ]
  },
  {
   "cell_type": "markdown",
   "id": "58ad791f",
   "metadata": {},
   "source": [
    "`range` ни позволява да създадем колекция от числа от началото до края на даден интервал през определена стъпка:"
   ]
  },
  {
   "cell_type": "code",
   "execution_count": null,
   "id": "b534f931",
   "metadata": {},
   "outputs": [],
   "source": [
    "for i in range(20):\n",
    "    print(i, end=\" \")"
   ]
  },
  {
   "cell_type": "code",
   "execution_count": null,
   "id": "d31fc0d6",
   "metadata": {},
   "outputs": [],
   "source": [
    "for i in range(10, 20):\n",
    "    print(i, end=\" \")"
   ]
  },
  {
   "cell_type": "code",
   "execution_count": null,
   "id": "7d16209b",
   "metadata": {},
   "outputs": [],
   "source": [
    "for i in range(10, 20, 3):\n",
    "    print(i, end=\" \")"
   ]
  },
  {
   "cell_type": "code",
   "execution_count": null,
   "id": "d2ab33f7",
   "metadata": {},
   "outputs": [],
   "source": [
    "for i in range(20, 10, -3):\n",
    "    print(i, end=\" \")"
   ]
  },
  {
   "cell_type": "markdown",
   "id": "56f545e0",
   "metadata": {},
   "source": [
    "## Функции"
   ]
  },
  {
   "cell_type": "code",
   "execution_count": null,
   "id": "8bc41512",
   "metadata": {},
   "outputs": [],
   "source": [
    "def f(x):\n",
    "    return x ** x\n",
    "\n",
    "f(8)"
   ]
  },
  {
   "cell_type": "markdown",
   "id": "113741f1",
   "metadata": {},
   "source": [
    "`def` е ключовата дума, която започва дефинията на функция. След името и списък от аргументите в скоби, следва блок с код, който се изпълнява при извикването ѝ.\n",
    "\n",
    "При достигане на `return` или крaя на блокът от код, изпълнението на функцията прекъсва. Във втория случай или когато след `return` няма нищо посочено, функцията връща `None`.\n"
   ]
  },
  {
   "cell_type": "code",
   "execution_count": null,
   "id": "8d01be82",
   "metadata": {},
   "outputs": [],
   "source": [
    "def procedure():\n",
    "    print(\"I am Procedure.\")\n",
    "    print(\"I shall be the reigning lord of the kingdom of side effects.\")\n",
    "    print(\"I don't return anything.\")\n",
    "    print(\"...Or do I?\")\n",
    "\n",
    "result = procedure()\n",
    "print(result)\n"
   ]
  },
  {
   "cell_type": "code",
   "execution_count": null,
   "id": "78d7da0f",
   "metadata": {},
   "outputs": [],
   "source": [
    "def greeting(name):\n",
    "    if not name:\n",
    "        return\n",
    "    \n",
    "    print(f\"Hello, {name}!\")\n",
    "\n",
    "greeting(\"\")\n",
    "greeting(\"John Smith\")"
   ]
  },
  {
   "cell_type": "markdown",
   "id": "f4eba7f3",
   "metadata": {},
   "source": [
    "> \"Можем и рекурсия, ако можем рекурсия\" - *Валери Божинов*\n",
    "\n",
    "(btw GitHub Copilot каза, че е от [тука](https://xkcd.com/244/), което е close enough (are we obsolete already dammit))"
   ]
  },
  {
   "cell_type": "code",
   "execution_count": null,
   "id": "5aed40dd",
   "metadata": {},
   "outputs": [],
   "source": [
    "def factorial(n):\n",
    "    if n <= 0:\n",
    "        return 1\n",
    "    \n",
    "    return n * factorial(n - 1)\n",
    "\n",
    "\n",
    "factorial(69)  # https://www.youtube.com/watch?v=kw6l_uTakRA"
   ]
  },
  {
   "cell_type": "markdown",
   "id": "9faf4a3c",
   "metadata": {},
   "source": [
    "Аргументите на функциите могат да имат стойности по подразбиране:"
   ]
  },
  {
   "cell_type": "code",
   "execution_count": null,
   "id": "2d8d956e",
   "metadata": {},
   "outputs": [],
   "source": [
    "def add(a, b=0):\n",
    "    return a + b"
   ]
  },
  {
   "cell_type": "code",
   "execution_count": null,
   "id": "54feb938",
   "metadata": {},
   "outputs": [],
   "source": [
    "add(1)"
   ]
  },
  {
   "cell_type": "code",
   "execution_count": null,
   "id": "65eed96b",
   "metadata": {},
   "outputs": [],
   "source": [
    "add(1, 2)"
   ]
  },
  {
   "cell_type": "markdown",
   "id": "ed7c03fc",
   "metadata": {},
   "source": [
    "Аргументите на фунцкиите в Python могат да се подават по два начина: \n",
    "1. **позиционeн** (positional) (определени от реда, в който са подадени)\n",
    "2. **именован** (keyword) (определени от името на аргумента, следвано от `=`) \n",
    "\n",
    "След именован аргумент не можем да подадем позиционен."
   ]
  },
  {
   "cell_type": "code",
   "execution_count": null,
   "id": "f4a7e82b",
   "metadata": {},
   "outputs": [],
   "source": [
    "def my_custom_print(text=\"\", terminator=\"\\n\", capitalize=False):\n",
    "    new_text = text.capitalize() if capitalize else text\n",
    "    print(new_text, end=terminator)\n",
    "\n",
    "my_custom_print()\n",
    "my_custom_print(\"hello\")\n",
    "my_custom_print(\"hello\", capitalize=True)\n",
    "my_custom_print(\"hello\", \"!\\n\", capitalize=True)\n",
    "my_custom_print(\"hello\", terminator=\"!\\n\", capitalize=True)\n",
    "my_custom_print(\"hello\", capitalize=True, terminator=\"!\\n\")\n",
    "my_custom_print(capitalize=True, terminator=\"!\\n\", text=\"hello\")\n",
    "# my_custom_print(capitalize=True, \"\\t\")  # 💥 positional argument can't follow keyword argument\n"
   ]
  },
  {
   "cell_type": "markdown",
   "id": "ab21435e",
   "metadata": {},
   "source": [
    "Можем да укажем функцията да приема произволен брой позиционни и именовани аргументи, като използваме `*` и `**` съответно (споко, това отново няма нищо общо с пойнтъри!). \n",
    "\n",
    "`*args` и `**kwargs` са само конвенция, можем да използваме каквито и да е имена, но е важно да се отбележи, че `*` и `**` са задължителни.\n",
    "\n",
    "`*args` е `tuple` с всички позиционни аргументи, които не са били консумирани от другите аргументи.\n",
    "\n",
    "`**kwargs` е `dict` с всички именовани аргументи, които не са били консумирани от другите аргументи.\n"
   ]
  },
  {
   "cell_type": "code",
   "execution_count": null,
   "id": "368f7e0a",
   "metadata": {},
   "outputs": [],
   "source": [
    "def variadic_args(fixed_arg1, fixed_arg2, *args, **kwargs):\n",
    "    print(f\"{fixed_arg1=}\")\n",
    "    print(f\"{fixed_arg2=}\")\n",
    "    print(f\"{args=}\")\n",
    "    print(f\"{kwargs=}\")\n",
    "\n",
    "variadic_args(1, 2, 3, 4, 5, 6, 7, 8, 9, 10, name=\"Pesho\", age=20)\n"
   ]
  },
  {
   "cell_type": "markdown",
   "id": "7bba1b97",
   "metadata": {},
   "source": [
    "**Pro tip**: Можем да забраним позиционните или именованите аргументи преди/след дадено място чрез вмъкване на `/` или `*` в сигнатурата на функцията. Как точно:"
   ]
  },
  {
   "cell_type": "markdown",
   "id": "101f6f5d",
   "metadata": {},
   "source": [
    "Ако имаме \n",
    "```python\n",
    "def func(a, b, c, /, d, e, f, *, g, h, i):\n",
    "    ...\n",
    "```\n",
    "това означава, че:\n",
    "* `a`, `b` и `c` могат да бъдат подадени само позиционно\n",
    "* `d`, `e` и `f` могат да бъдат подадени както позиционно, така и именовано\n",
    "* `g`, `h` и `i` могат да бъдат подадени само именовано"
   ]
  },
  {
   "cell_type": "code",
   "execution_count": null,
   "id": "677e1488",
   "metadata": {},
   "outputs": [],
   "source": [
    "def submit_experiment(experiment_name, *, environment_name, user_name):\n",
    "    # everything after the * MUST BE provided as a keyword argument\n",
    "    print(f\"Experiment {experiment_name} submitted by {user_name} in {environment_name} environment.\")\n",
    "\n",
    "submit_experiment(\"GPT-6\", environment_name=\"Azure ML\", user_name=\"OpenAI\")\n",
    "submit_experiment(\"BgGPT\", user_name=\"INSAIT\", environment_name=\"unknown\")  # notice the order\n",
    "submit_experiment(\"LandcoreGPT\", \"FMI\", \"AJ\")  # 💥"
   ]
  },
  {
   "cell_type": "code",
   "execution_count": null,
   "id": "dd2823d2",
   "metadata": {},
   "outputs": [],
   "source": [
    "def c_function(_a, _b, _c, /):\n",
    "    return _a + _b + _c\n",
    "\n",
    "print(c_function(1, 2, 3))\n",
    "print(c_function(1, 2, _c=3))  # 💥"
   ]
  },
  {
   "cell_type": "markdown",
   "id": "ec81a414",
   "metadata": {},
   "source": [
    "# Обектно-ориентирано програмиране"
   ]
  },
  {
   "cell_type": "markdown",
   "id": "f7bf4a67",
   "metadata": {},
   "source": [
    "## Основни принципи\n",
    "1. Енкапсулация\n",
    "2. Абстракция\n",
    "3. Наследяване\n",
    "4. Полиморфизъм"
   ]
  },
  {
   "cell_type": "markdown",
   "id": "268e6bb2",
   "metadata": {},
   "source": [
    "Обектно-ориентираното програмиране се основава на използването на класове от обекти, които обменят съобщения помежду си. В Python използваме ключовата дума `class`, за да започнем дефиницията на клас:"
   ]
  },
  {
   "cell_type": "code",
   "execution_count": null,
   "id": "deefc3ea",
   "metadata": {},
   "outputs": [],
   "source": [
    "class ExampleClass:\n",
    "    pass"
   ]
  },
  {
   "cell_type": "markdown",
   "id": "333397f1",
   "metadata": {},
   "source": [
    "(ключовата дума `pass` обозначава празен блок (еквивалентно на `{}` в езиците, използващи скоби за scope))"
   ]
  },
  {
   "cell_type": "markdown",
   "id": "6f0e51af",
   "metadata": {},
   "source": [
    "Инстанции на класа можем да създаваме чрез синтаксис подобен на извикването на функция със същото име. Новосъздадените обекти отиват в динамичната памет и по подразбиране когато искаме да `print`-нем информация за тях Python ни показва адреса в паметта, на който се намират, както и типа им (класа):"
   ]
  },
  {
   "cell_type": "code",
   "execution_count": null,
   "id": "fe8029a2",
   "metadata": {},
   "outputs": [],
   "source": [
    "example_object = ExampleClass()\n",
    "print(example_object)\n",
    "\n",
    "example_object_2 = ExampleClass()\n",
    "print(example_object_2)"
   ]
  },
  {
   "cell_type": "markdown",
   "id": "ce8fa832",
   "metadata": {},
   "source": [
    "`is` сравнява дали два обекта съвпадат, т.е. ще върне `False`, когато адресите им в паметта са различни. Операторът `==` пък не е дефиниран за горния клас и затова и неговата стойност засега ще бъде `False` (по премълчаване се дефинира чрез `is`):"
   ]
  },
  {
   "cell_type": "code",
   "execution_count": null,
   "id": "4d9adaea",
   "metadata": {},
   "outputs": [],
   "source": [
    "print(f\"{example_object is example_object_2 = }\")\n",
    "print(f\"{example_object == example_object_2 = }\")"
   ]
  },
  {
   "cell_type": "markdown",
   "id": "b693dc34",
   "metadata": {},
   "source": [
    "Обикновено обаче искаме да знаем винаги какви член-данни да очакваме от един клас, както и да можем да ги задаваме при конструирането му. Това е възможно, чрез дефинирането на `__init__` метода в класа:"
   ]
  },
  {
   "cell_type": "code",
   "execution_count": null,
   "id": "dc780190",
   "metadata": {},
   "outputs": [],
   "source": [
    "class Point:\n",
    "    def __init__(self, x, y):\n",
    "        self.x = x\n",
    "        self.y = y"
   ]
  },
  {
   "cell_type": "markdown",
   "id": "48858b92",
   "metadata": {},
   "source": [
    "Това е първият от редица \"dunder\" (**d**ouble **under**score - двойна подчертавка) методи (още наричани *магически* методи), които ще разгледаме в лекцията. Този се нарича ***инициализатор*** и приема като първи аргумент новосъздадения обект (по конвенция го кръщаваме винаги `self`, но на теория може да е всякак). Следващите параметри дефинираме и означаваме по наш избор. \n",
    "\n",
    "Обърнете внимание, че нарочно не го наричаме *контруктор*, понеже истинският конструктор създава и връща нов обект от даден клас, докато инициализаторът приема този обект и задава начални стойности на член-данните му или изпълнява някакъв друг вид инициализация. Такъв конструктор има и в Python ([`__new__`](https://www.pythontutorial.net/python-oop/python-__new__/)), но на него няма да се спираме подробно."
   ]
  },
  {
   "cell_type": "code",
   "execution_count": null,
   "id": "7a30e2b4",
   "metadata": {},
   "outputs": [],
   "source": [
    "p1 = Point(2, 3)\n",
    "p2 = Point(5j, 3.14)\n",
    "\n",
    "print(f\"{p1.x = }, {p1.y = }\")\n",
    "print(f\"{p2.x = }, {p2.y = }\")"
   ]
  },
  {
   "cell_type": "markdown",
   "id": "0ad165e2",
   "metadata": {},
   "source": [
    "Инициализаторът си е функция като всяка други и може да има стойности на параметрите по подразбиране, както и `args` и `kwargs`:"
   ]
  },
  {
   "cell_type": "code",
   "execution_count": null,
   "id": "6e22307b",
   "metadata": {},
   "outputs": [],
   "source": [
    "class Coordinate:\n",
    "    def __init__(self, la=0, lo=0, **kwargs):\n",
    "        self.latitude = la\n",
    "        self.longitude = lo\n",
    "        self.metadata = kwargs\n",
    "\n",
    "sofia = Coordinate(42.69, 23.420, city=\"Sofia\", country=\"Bulgaria\")\n",
    "null_island = Coordinate()\n",
    "\n",
    "print(f\"{sofia.latitude = }, {sofia.longitude = }, {sofia.metadata = }\")\n",
    "print(f\"{null_island.latitude = }, {null_island.longitude = }, {null_island.metadata = }\")"
   ]
  },
  {
   "cell_type": "markdown",
   "id": "c03eceba",
   "metadata": {},
   "source": [
    "Произволни методи дефинираме по същия начин:"
   ]
  },
  {
   "cell_type": "code",
   "execution_count": null,
   "id": "a16a0c64",
   "metadata": {},
   "outputs": [],
   "source": [
    "class Path:\n",
    "    def __init__(self, start, end):\n",
    "        self.start = start\n",
    "        self.end = end\n",
    "    \n",
    "    def length(self):\n",
    "        return ((self.start.x - self.end.x) ** 2 + (self.start.y - self.end.y) ** 2) ** 0.5\n",
    "\n",
    "p1 = Point(0, 3)\n",
    "p2 = Point(4, 0)\n",
    "\n",
    "path = Path(p1, p2)\n",
    "l = path.length()\n",
    "\n",
    "print(f\"{l = }\")"
   ]
  },
  {
   "cell_type": "markdown",
   "id": "1ac53e0c",
   "metadata": {},
   "source": [
    "Липсата на `self` като първи аргумент ще е грешка, понеже Python винаги ще се опита да предаде инстанцията на класа като първи параметър на метода:"
   ]
  },
  {
   "cell_type": "code",
   "execution_count": null,
   "id": "0f3c70b0",
   "metadata": {},
   "outputs": [],
   "source": [
    "class A:\n",
    "    def a():\n",
    "        pass\n",
    "\n",
    "A().a()"
   ]
  },
  {
   "cell_type": "markdown",
   "id": "31f24930",
   "metadata": {},
   "source": [
    "## Енкапсулация\n",
    "\n",
    "В Python достъпа до всичко е [публичен](https://www.youtube.com/watch?v=8H1nuRZrE6g).\n",
    "\n",
    "По конвенция е общоприето `protected` имената да започват с една подчертавка (`_name`), а `private` - с две (`__name`).\n"
   ]
  },
  {
   "cell_type": "code",
   "execution_count": null,
   "id": "e8834d3d",
   "metadata": {},
   "outputs": [],
   "source": [
    "class Counter:\n",
    "    def __init__(self, value=0):\n",
    "        self._value = value\n",
    "\n",
    "    def get_value(self):\n",
    "        return self._value\n",
    "    \n",
    "    def increment(self):\n",
    "        self._value += 1\n",
    "    \n",
    "    def decrement(self):\n",
    "        self._value -= 1\n",
    "\n",
    "c = Counter(41)\n",
    "c.increment()\n",
    "\n",
    "print(f\"{c.get_value() = }\")\n",
    "print(f\"{c._value = }\")\n"
   ]
  },
  {
   "cell_type": "markdown",
   "id": "67d0f2f4",
   "metadata": {},
   "source": [
    "При двойните подчертавки обаче съществува една особеност, която ни улеснява в енкапсулирането на private член-данни. Нарича се **name mangling** и представлява добавянето на `_` и името на класа в началото на името на тези член-данни. Тоа се прави с цел замаскиране на атрибута и премахването на достъпа чрез оригиналното му име."
   ]
  },
  {
   "cell_type": "code",
   "execution_count": null,
   "id": "ba32e854",
   "metadata": {},
   "outputs": [],
   "source": [
    "class Counter:\n",
    "    def __init__(self, value=0):\n",
    "        self.__value = value  # private access from within the class is OK\n",
    "\n",
    "    def get_value(self):\n",
    "        return self.__value\n",
    "\n",
    "    def increment(self):\n",
    "        self.__value += 1\n",
    "\n",
    "    def decrement(self):\n",
    "        self.__value -= 1\n",
    "\n",
    "\n",
    "c = Counter(41)\n",
    "c.increment()\n",
    "\n",
    "print(f\"{c.get_value() = }\")\n",
    "print(f\"{c._Counter__value = }\")  # name has been mangled\n",
    "print(f\"{c.__value = }\")  # 💥 cannot be accessed at its original name\n"
   ]
  },
  {
   "cell_type": "markdown",
   "id": "33d169dd",
   "metadata": {},
   "source": [
    "Дълга тема за дискусия е колко често и кога да използваме public, private или protected член-данни и методи в Python. За разлика от повечето езици, които проповядват всичко по подразбиране да е максимално скрито, докато не ни се наложи друго, в Python не е толкова често срещана необходимостта от строгото забраняване на достъп, даже напротив, подходът най-често е по-скоро обратен. \n",
    "\n",
    "Хубави отговори на този въпрос може да намерите [тук](https://stackoverflow.com/a/7456865)."
   ]
  },
  {
   "cell_type": "markdown",
   "id": "ce57c13c",
   "metadata": {},
   "source": [
    "## Наследяване\n",
    "\n",
    "Както споменахме, всичко в Python е обект. По-точно `object`.\n",
    "\n",
    "`object` е най-базовия клас в езика, който имплицитно бива наследяван от всички класове."
   ]
  },
  {
   "cell_type": "code",
   "execution_count": null,
   "id": "28f0f45c",
   "metadata": {},
   "outputs": [],
   "source": [
    "class A:\n",
    "    pass\n",
    "\n",
    "a = A()\n",
    "\n",
    "print(f\"{isinstance(a, A) = }\")\n",
    "print(f\"{isinstance(a, object) = }\")"
   ]
  },
  {
   "cell_type": "markdown",
   "id": "4d1dee68",
   "metadata": {},
   "source": [
    "(с вградената функция `isinstance` проверяваме дали даден обект е инстанция на даден клас или на негов базов такъв)"
   ]
  },
  {
   "cell_type": "markdown",
   "id": "cc6ea535",
   "metadata": {},
   "source": [
    "Дори и да изглежда празен класът А, в него в момента се съдържат доста член-методи. С вградената функция `dir` можем да видим пълния набор от атрибути и методи, които даден обект притежава:"
   ]
  },
  {
   "cell_type": "code",
   "execution_count": null,
   "id": "fae83d40",
   "metadata": {},
   "outputs": [],
   "source": [
    "dir(a)"
   ]
  },
  {
   "cell_type": "markdown",
   "id": "6a4bfb79",
   "metadata": {},
   "source": [
    "Почти всички от тези магически методи и атрибути са наследени от `object`:"
   ]
  },
  {
   "cell_type": "code",
   "execution_count": null,
   "id": "ee2c7561",
   "metadata": {},
   "outputs": [],
   "source": [
    "dir(object())"
   ]
  },
  {
   "cell_type": "markdown",
   "id": "a2b64770",
   "metadata": {},
   "source": [
    "Ако искаме да наследим друг клас, записваме името му в скоби преди дефиницията на наследника:"
   ]
  },
  {
   "cell_type": "code",
   "execution_count": null,
   "id": "8531a310",
   "metadata": {},
   "outputs": [],
   "source": [
    "class BaseClass:\n",
    "    x = 69\n",
    "\n",
    "class SubClass(BaseClass):\n",
    "    pass\n",
    "\n",
    "sub = SubClass()\n",
    "print(f\"{sub.x = }\")"
   ]
  },
  {
   "cell_type": "markdown",
   "id": "4173b565",
   "metadata": {},
   "source": [
    "Виждаме, че няма нужда да пишем експлицитно, че наследяваме от `object`. Важно е да се отбележи обаче, че това е задължително за Python 2."
   ]
  },
  {
   "cell_type": "markdown",
   "id": "2b2c1ffe",
   "metadata": {},
   "source": [
    "Предефинирането на методи от базовия клас не изисква някаква специална ключова дума. Тяхната дефиниция просто бива замествана от новата."
   ]
  },
  {
   "cell_type": "code",
   "execution_count": null,
   "id": "e54160e9",
   "metadata": {},
   "outputs": [],
   "source": [
    "class Foo:\n",
    "    def foo(self):\n",
    "        print(\"foo\")\n",
    "\n",
    "class Bar(Foo):\n",
    "    def foo(self):\n",
    "        print(\"foobar\")\n",
    "\n",
    "#  (I'm sorry I couldn't come up with anything creative this time)\n",
    "\n",
    "bar = Bar()\n",
    "bar.foo()"
   ]
  },
  {
   "cell_type": "markdown",
   "id": "e0c93bec",
   "metadata": {},
   "source": [
    "Използването на `super()` ни връща обект-прокси, който пренасочва дефиниции на методи към базов клас:"
   ]
  },
  {
   "cell_type": "code",
   "execution_count": null,
   "id": "a56f8a82",
   "metadata": {},
   "outputs": [],
   "source": [
    "class Drink:\n",
    "    def __init__(self, name, alcoholic_percentage):\n",
    "        self.name = name\n",
    "        self.alcoholic_percentage = alcoholic_percentage\n",
    "\n",
    "\n",
    "class SoftDrink(Drink):\n",
    "    def __init__(self, name):\n",
    "        super().__init__(name, 0)\n",
    "\n",
    "\n",
    "drincc = SoftDrink(\"Coca-Cola\")\n",
    "print(f\"{drincc.name = }, {drincc.alcoholic_percentage = }%\")\n"
   ]
  },
  {
   "cell_type": "markdown",
   "id": "39880f17",
   "metadata": {},
   "source": [
    "Python е един от малкото езици, в които **множественото наследяване е позволено**. За избягване на проблема на [диаманта](https://youtu.be/nrSlqAb4ZLw?t=10) и други подобни, които често това поражда, е хубаво базовите класове да са семпли и с ясно-дефинирана функционалност, по възможност непокриваща се.\n",
    "\n",
    "Mixin-ите са най-честия пример за използване на множествено наследяване в Python. Те са базови класове, които предоставят \"наготово\" имплементация на конкретна допълнителна функционалност."
   ]
  },
  {
   "cell_type": "code",
   "execution_count": null,
   "id": "a3d2879c",
   "metadata": {},
   "outputs": [],
   "source": [
    "import json\n",
    "\n",
    "class JSONSerializableMixin:\n",
    "    def to_json(self):\n",
    "        return json.dumps(self.__dict__)\n",
    "\n",
    "class DebugMixin:\n",
    "    def __repr__(self):\n",
    "        arguments = \", \".join(f\"{k}={v}\" for k, v in self.__dict__.items())\n",
    "        return f\"{self.__class__.__name__}({arguments})\"\n",
    "\n",
    "\n",
    "class Person(JSONSerializableMixin, DebugMixin):\n",
    "    def __init__(self, name, age):\n",
    "        self.name = name\n",
    "        self.age = age\n",
    "\n",
    "class Employee(Person, JSONSerializableMixin, DebugMixin):\n",
    "    def __init__(self, name, age, salary):\n",
    "        self.salary = salary\n",
    "        super().__init__(name, age)\n",
    "\n",
    "\n",
    "elon = Employee(\"Elon Musk\", 51, 1_000_000_000)\n",
    "print(f\"{elon.to_json() = }\")\n",
    "print(f\"{elon = }\")"
   ]
  },
  {
   "cell_type": "markdown",
   "id": "636b20dd",
   "metadata": {},
   "source": [
    "В горните примери дефинирахме два mixin-a: един, който дефинира как да бъде сериализиран до JSON всеки обект, а другия - как да бъде принтиран в дебъг конзолата. Класът `Employee` наслодява както `Person`, така и двата други класа, като придобива всичката функционалност. В този случай `super()` знае към кой базов клас да се обърне чрез поредността на изпълнение на методи (Method Resolution Order), който зависи от реда, в който сме изброили базовите класове (може да се види чрез `__mro__`)"
   ]
  },
  {
   "cell_type": "code",
   "execution_count": null,
   "id": "eb19b029",
   "metadata": {},
   "outputs": [],
   "source": [
    "Employee.__mro__"
   ]
  },
  {
   "cell_type": "markdown",
   "id": "a5f9c67d",
   "metadata": {},
   "source": [
    "Повече за `super()` може да прочетете [тук](https://realpython.com/python-super/)."
   ]
  },
  {
   "cell_type": "markdown",
   "id": "77bee044",
   "metadata": {},
   "source": [
    "В примерът по-горе използвахме доста непознати dunder-и: `__repr__`, `__dict__`, `__class__`, `__name__`. За тях, както и други, ще разясним в следващата секция."
   ]
  },
  {
   "cell_type": "markdown",
   "id": "18ba08b4",
   "metadata": {},
   "source": [
    "## Магическите методи ✨"
   ]
  },
  {
   "cell_type": "markdown",
   "id": "eb619d8b",
   "metadata": {},
   "source": [
    "Документация: [https://docs.python.org/3/reference/datamodel.html](https://docs.python.org/3/reference/datamodel.html)"
   ]
  },
  {
   "cell_type": "markdown",
   "id": "ea3931b5",
   "metadata": {},
   "source": [
    "### Аритметични и логически оператори"
   ]
  },
  {
   "cell_type": "markdown",
   "id": "758a5833",
   "metadata": {},
   "source": [
    "В Python (също както в С++ и повечето други ООП езици) можем да предефинираме поведението на аритметичните и логическите оператори от езика, когато биват извикани върху обект от нашия клас.\n",
    "\n",
    "Съответните магически методи за това са:\n",
    "\n",
    "| оператор   |  `dunder`                       |\n",
    "| ---------- | ------------------------------- |\n",
    "| `==`       | `__eq__`                        |\n",
    "| `!=`/`<>`  | `__neq__`                       |\n",
    "| `<`        | `__lt__`                        |\n",
    "| `<=`       | `__le__`                        |\n",
    "| `>`        | `__gt__`                        |\n",
    "| `>=`       | `__ge__`                        |\n",
    "| `+` (2)    | `__add__`/`__radd__`            |\n",
    "| `*`        | `__mul__`/`__rmul__`            |\n",
    "| `-` (2)    | `__sub__`/`__rsub__`            |\n",
    "| `/`        | `__truediv__`/`__rtruediv__`    |\n",
    "| `//`       | `__floordiv__`/`__rfloordiv__`  |\n",
    "| `%`        | `__mod__`/`__rmod__`            |\n",
    "| `divmod`   | `__divmod__`/`__rdivmod__`      |\n",
    "| `**`/`pow` | `__pow__`/`__rpow__`            |\n",
    "| `<<`       | `__lshift__`/`__rlshift__`      |\n",
    "| `>>`       | `__rshift__`/`__rrshift__`      |\n",
    "| `&`        | `__and__`/`__rand__`            |\n",
    "| `^`        | `__xor__`/`__rxor__`            |\n",
    "| `\\|`       | `__or__`/`__ror__`             |\n",
    "| `+=`       | `__iadd__`                      |\n",
    "| `*=`       | `__imul__`                      |\n",
    "| `-=`       | `__isub__`                      |\n",
    "| `/=`       | `__itruediv__`                  |\n",
    "| `//=`      | `__ifloordiv__`                 |\n",
    "| `%=`       | `__imod__`                      |\n",
    "| `**=`      | `__ipow__`                      |\n",
    "| `<<=`      | `__ilshift__`                   |\n",
    "| `>>=`      | `__irshift__`                   |\n",
    "| `&=`       | `__iand__`                      |\n",
    "| `^=`       | `__ixor__`                      |\n",
    "| `\\|=`      | `__ior__`                      |\n",
    "| `-` (1)    | `__neg__`                       |\n",
    "| `+` (1)    | `__pos__`                       |\n",
    "| `abs`      | `__abs__`                       |\n",
    "| `~`        | `__invert__`                    |\n"
   ]
  },
  {
   "cell_type": "code",
   "execution_count": null,
   "id": "e508eed4",
   "metadata": {},
   "outputs": [],
   "source": [
    "class Fraction:\n",
    "    def __init__(self, numerator=0, denominator=1):\n",
    "        self.numerator = numerator\n",
    "        self.denominator = denominator\n",
    "    \n",
    "    def __add__(self, other):\n",
    "        return Fraction(\n",
    "            self.numerator * other.denominator + other.numerator * self.denominator,\n",
    "            self.denominator * other.denominator\n",
    "        )\n",
    "    \n",
    "    def __sub__(self, other):\n",
    "        return Fraction(\n",
    "            self.numerator * other.denominator - other.numerator * self.denominator,\n",
    "            self.denominator * other.denominator\n",
    "        )\n",
    "    \n",
    "    def __mul__(self, other):\n",
    "        return Fraction(\n",
    "            self.numerator * other.numerator,\n",
    "            self.denominator * other.denominator\n",
    "        )\n",
    "\n",
    "    def __truediv__(self, other):\n",
    "        return Fraction(\n",
    "            self.numerator * other.denominator,\n",
    "            self.denominator * other.numerator\n",
    "        )\n",
    "\n",
    "    def __iadd__(self, other):\n",
    "        self.numerator = self.numerator * other.denominator + other.numerator * self.denominator\n",
    "        self.denominator = self.denominator * other.denominator\n",
    "        return self\n",
    "\n",
    "    def __isub__(self, other):\n",
    "        self.numerator = self.numerator * other.denominator - other.numerator * self.denominator\n",
    "        self.denominator = self.denominator * other.denominator\n",
    "        return self\n",
    "\n",
    "    def __imul__(self, other):\n",
    "        self.numerator = self.numerator * other.numerator\n",
    "        self.denominator = self.denominator * other.denominator\n",
    "        return self\n",
    "\n",
    "    def __itruediv__(self, other):\n",
    "        self.numerator = self.numerator * other.denominator\n",
    "        self.denominator = self.denominator * other.numerator\n",
    "        return self\n",
    "    \n",
    "    def __repr__(self):\n",
    "        return f\"Fraction({self.numerator}, {self.denominator})\"\n",
    "\n",
    "    def __eq__(self, other):\n",
    "        return self.numerator / self.denominator == other.numerator / other.denominator\n",
    "\n",
    "frac1 = Fraction(1, 2)\n",
    "frac2 = Fraction(1, 3)\n",
    "\n",
    "summ = frac1 + frac2\n",
    "diff = frac1 - frac2\n",
    "prod = frac1 * frac2\n",
    "quot = frac1 / frac2\n",
    "\n",
    "print(f\"{summ = }\")\n",
    "print(f\"{diff = }\")\n",
    "print(f\"{prod = }\")\n",
    "print(f\"{quot = }\")\n",
    "\n",
    "frac1 += frac2\n",
    "print(f\"{frac1 = }\")\n"
   ]
  },
  {
   "cell_type": "markdown",
   "id": "884610b7",
   "metadata": {},
   "source": [
    "Вариантите на методите, започващи с `r`, дефиниращи поведението на операторите, се извикват с разменени аргументи. Те се използват само в случая, когато левият операнд не поддържа съответната операция и операндите са от различни типове.\n",
    "\n",
    "Нека например имаме израза `x - y` и нека `y` имплементира `__rsub__`. Той ще се извика в случая, когато `x` не поддържа `__sub__` (няма го дефиниран или връща `NotImplemented`) и `x` и `y` са от различни типове."
   ]
  },
  {
   "cell_type": "markdown",
   "id": "17c72798",
   "metadata": {},
   "source": [
    "## Някои полезни помощни класове и декоратори"
   ]
  },
  {
   "cell_type": "markdown",
   "id": "093b31ce",
   "metadata": {},
   "source": [
    "### Но първо, какво е \"декоратор\"?"
   ]
  },
  {
   "cell_type": "markdown",
   "id": "33662553",
   "metadata": {},
   "source": [
    "Накратко (понеже в друга лекция ще обясним по-подробно), това е функция, обграждаща и \"добавяща\" функционалност на друга такава. Т.е. приема за параметър някоя функция и връща друга, която е модифицирана версия на първата. В Python може да се използва и чрез `@`, което е удобен syntax sugar за декориране."
   ]
  },
  {
   "cell_type": "code",
   "execution_count": null,
   "id": "0428cf61",
   "metadata": {},
   "outputs": [],
   "source": [
    "def logged(func):\n",
    "    def wrapper(*args, **kwargs):\n",
    "        print(f\"Calling {func.__name__} with {args} and {kwargs}\")\n",
    "        return func(*args, **kwargs)\n",
    "    return wrapper\n",
    "\n",
    "@logged\n",
    "def fibonacci(n=10_000):\n",
    "    a = 0\n",
    "    b = 1\n",
    "    for i in range(n):\n",
    "        a, b = b, a + b\n",
    "    return a\n",
    "\n",
    "lateralus = fibonacci(16)  # here we observe the added side effect of logging the call\n",
    "\n",
    "print(f\"{lateralus = }\")  # as above, so below\n",
    "\n",
    "# and beyond I imagine\n",
    "fibonacci()\n"
   ]
  },
  {
   "cell_type": "markdown",
   "id": "76442331",
   "metadata": {},
   "source": [
    "Съществуват различни полезни декоратори, които ни улесняват с имплеменетирането на често-срещани ООП фунцкионалности."
   ]
  },
  {
   "cell_type": "markdown",
   "id": "538bbc40",
   "metadata": {},
   "source": [
    "### `@property`"
   ]
  },
  {
   "cell_type": "markdown",
   "id": "1f9acde0",
   "metadata": {},
   "source": [
    "В някои езици наричано \"computed property\", това е поле/атрибут, чиято стойност се изчислява при използването му и обикновено не се съхранява никъде. На практика това е метод, който се използва със синтаксиса атрибут. Достатъчно е да декорираме с `@property` нормален метод, за да го превърнем в атрибут."
   ]
  },
  {
   "cell_type": "code",
   "execution_count": null,
   "id": "013e03f2",
   "metadata": {},
   "outputs": [],
   "source": [
    "class Player:\n",
    "    def __init__(self, name):\n",
    "        self._name = name\n",
    "\n",
    "    @property\n",
    "    def name(self):\n",
    "        return self._name\n",
    "\n",
    "doncho = Player(\"Doncho\")\n",
    "print(doncho.name)"
   ]
  },
  {
   "cell_type": "markdown",
   "id": "419617b0",
   "metadata": {},
   "source": [
    "### `@setter`"
   ]
  },
  {
   "cell_type": "markdown",
   "id": "2c5aa528",
   "metadata": {},
   "source": [
    "Освен read-only computed property-та, можем да имаме и writable такива. Това се постига чрез декоратора `@{propertyname}.setter`, който се използва върху метод, който да се изпълнява при присвояване на стойност на атрибута (`{propertyname}` се замества с името на property-то)."
   ]
  },
  {
   "cell_type": "code",
   "execution_count": null,
   "id": "7e215f78",
   "metadata": {},
   "outputs": [],
   "source": [
    "class Player:\n",
    "    def __init__(self, xp):\n",
    "        self._xp = xp\n",
    "\n",
    "    @property\n",
    "    def level(self):\n",
    "        return self._xp // 1000 + 1\n",
    "    \n",
    "    @level.setter\n",
    "    def level(self, value):  # has to have the same name!\n",
    "        self._xp = (value - 1) * 1000\n",
    "    \n",
    "newb = Player(0)\n",
    "print(f\"{newb.level = }\")\n",
    "\n",
    "print(\"now the player buys something and advances some levels automatically...\")\n",
    "newb.level = 10  # ...cheater\n",
    "\n",
    "print(f\"{newb.level = }\")\n",
    "print(f\"{newb._xp = }\")\n"
   ]
  },
  {
   "cell_type": "markdown",
   "id": "9b8c4ace",
   "metadata": {},
   "source": [
    "### `@staticmethod`"
   ]
  },
  {
   "cell_type": "markdown",
   "id": "89eac6ab",
   "metadata": {},
   "source": [
    "Ако дефинираме функция в блока за дефиниция на клас, тя става метод на класа и при извикването ѝ винаги имплицитно се предава като първи параметър съответната инстанция на класа. Но как да създадем метод, който не зависи от инстанцията?"
   ]
  },
  {
   "cell_type": "code",
   "execution_count": null,
   "id": "070a8d95",
   "metadata": {},
   "outputs": [],
   "source": [
    "class A:\n",
    "    def instance_method(self):\n",
    "        print(self)\n",
    "\n",
    "    def static_method():\n",
    "        print(\"I am free\")\n",
    "\n",
    "a = A()\n",
    "a.instance_method()\n",
    "A.static_method()\n",
    "a.static_method()"
   ]
  },
  {
   "cell_type": "markdown",
   "id": "44361038",
   "metadata": {},
   "source": [
    "Ако в горния случай изпълним `A.static_method()` няма да бъде направен опит да се предаде инстанция като първи параметър, понеже такава нямаме. Но не винаги можем да сме сигурни, че метода ще бъде извикан върху класа, а не върху конкретен обект. Начинът по който можем да подсигурим безпроблемното изпълнение и в двата случая е да декорираме метода със `@staticmethod`:"
   ]
  },
  {
   "cell_type": "code",
   "execution_count": null,
   "id": "4d1a3776",
   "metadata": {},
   "outputs": [],
   "source": [
    "class A:\n",
    "\n",
    "    @staticmethod\n",
    "    def static_method():\n",
    "        print(\"I am free\")\n",
    "\n",
    "a = A()\n",
    "A.static_method()\n",
    "a.static_method()"
   ]
  },
  {
   "cell_type": "markdown",
   "id": "6a0b10d4",
   "metadata": {},
   "source": [
    "### `@classmethod`"
   ]
  },
  {
   "cell_type": "markdown",
   "id": "8c1db84e",
   "metadata": {},
   "source": [
    "Понякога може да искаме като първи аргумент на метода да ни бъде подадена не инстанцията, а самият клас. Такъв метод трябва да декорираме с `@classmethod`. Отново, също както със `self`, името на аргумента може да е всякакво, но по конвенция е прието да се кръщава `cls` (понеже `class` е запазена дума)."
   ]
  },
  {
   "cell_type": "code",
   "execution_count": null,
   "id": "d7df9230",
   "metadata": {},
   "outputs": [],
   "source": [
    "class User:\n",
    "    def __init__(self, username, email, money):\n",
    "        self.username = username\n",
    "        self.email = email\n",
    "        self.money = money\n",
    "\n",
    "    @classmethod\n",
    "    def from_json_dict(cls, json):\n",
    "        username = json[\"username\"]\n",
    "        email = json[\"email\"]\n",
    "        money = json[\"money\"]\n",
    "        return cls(username, email, money)\n",
    "\n",
    "    def __repr__(self):\n",
    "        return f\"User({self.username}, {self.email}, {self.money})\"\n",
    "\n",
    "\n",
    "json_data = {\n",
    "    \"username\": \"yalishanda\",\n",
    "    \"email\": \"yalishanda@example.com\",\n",
    "    \"money\": 420\n",
    "}\n",
    "\n",
    "user = User.from_json_dict(json_data)\n",
    "print(user)\n"
   ]
  },
  {
   "cell_type": "markdown",
   "id": "794bc1dc",
   "metadata": {},
   "source": [
    "### `ABC` (Abstract Base Class) и `@abstractmethod`"
   ]
  },
  {
   "cell_type": "markdown",
   "id": "ffc76376",
   "metadata": {},
   "source": [
    "Модулът `abc` ни предоставя начини, с които да дефинираме абстрактни базови класове. Те не могат да бъдат инстанцирани, когато съдържат един или повече от един абстрактни метода, чиято цел е да опишат общ интерфейс и да бъдат имплементирани от наследниците на класа."
   ]
  },
  {
   "cell_type": "code",
   "execution_count": null,
   "id": "39e759f3",
   "metadata": {},
   "outputs": [],
   "source": [
    "from abc import ABC, abstractmethod\n",
    "\n",
    "class Animal(ABC):\n",
    "    def __init__(self, name):\n",
    "        self._name = name\n",
    "\n",
    "    @abstractmethod\n",
    "    def make_sound(self):\n",
    "        pass\n",
    "\n",
    "    def pet(self):\n",
    "        print(f\"Petting {self._name}...\")\n",
    "        self.make_sound()\n",
    "\n",
    "class Dog(Animal):\n",
    "    def make_sound(self):\n",
    "        print(\"woof\")\n",
    "\n",
    "class Cat(Animal):\n",
    "    def make_sound(self):\n",
    "        print(\"purr\")\n",
    "\n",
    "class Snek(Animal):\n",
    "    def make_sound(self):\n",
    "        print(\"sss\")\n",
    "\n",
    "doge = Dog(\"Doge\")\n",
    "doge.pet()\n",
    "\n",
    "catto = Cat(\"Мишо\")\n",
    "catto.pet()\n",
    "\n",
    "snek = Snek(\"Съска\")\n",
    "snek.pet()\n",
    "\n",
    "base = Animal(\"опа\")"
   ]
  },
  {
   "cell_type": "markdown",
   "id": "dcb22695",
   "metadata": {},
   "source": [
    "## Какво е функционално програмиране ?"
   ]
  },
  {
   "cell_type": "markdown",
   "id": "6f561061",
   "metadata": {},
   "source": [
    "Функционалното програмиране е парадигма в програмирането, фокусираща се върху използването на функции. В езиците за функционално програмиране, функциите могат да се третират като обекти. Друга особенност на функционалното програмиране (или поне в чистата му форма), е липсата на състояние (а и от там, липсата на променливи в традиционния смисъл). В повечето езици за функционално програмиране липсват и класове. \n",
    "\n",
    "Основни концепции във функционалното програмиране:\n",
    "- Функции като обекти\n",
    "- Функции от по-висок ред\n",
    "- \"Чисти\" функции\n",
    "- Рекурсия \n",
    "\n",
    "Примери за езици, които следват единствено функционалната парадигма са Scheme, Haskell, Lisp.\n",
    "\n",
    "В повечето модерни езици за програмиране могат да се открият елементи от функционалното програмиране - Python не е изключение. \n"
   ]
  },
  {
   "cell_type": "markdown",
   "id": "bff15645",
   "metadata": {},
   "source": [
    "## Immutability и странични ефекти"
   ]
  },
  {
   "cell_type": "markdown",
   "id": "d643b8cf",
   "metadata": {},
   "source": [
    "### Накратко за mutable/immutable\n",
    "По дефиниция, една променлива е `mutable`, ако можем да променим стойността ѝ, след като е създадена. Съответно `immutable` променлива, е променлива, на която не можем да променяме стойността. На практика, това означава, че стойността на една `immutable` променлива може да бъде задедена, само при създаването на променливата. \n",
    "\n",
    "В езици като C++ или Java, това е еквивалентно на дефинирането на променлива като константа. Тогава стойността ѝ е ясна по време на компилация."
   ]
  },
  {
   "cell_type": "markdown",
   "id": "a963eddf",
   "metadata": {},
   "source": [
    "### Накратко за страничните ефекти\n",
    "Страничен ефект е когато променим състоянието на някоя променлива от дадена функция. Например нека разгледаме следната функция"
   ]
  },
  {
   "cell_type": "code",
   "execution_count": null,
   "id": "ba5a7a38",
   "metadata": {},
   "outputs": [],
   "source": [
    "def add_to_list(l):\n",
    "    l.append(5)\n",
    "\n",
    "l = []\n",
    "\n",
    "add_to_list(l)\n",
    "print(l)\n",
    "\n",
    "add_to_list(l)\n",
    "print(l)"
   ]
  },
  {
   "cell_type": "markdown",
   "id": "7aaf41a5",
   "metadata": {},
   "source": [
    "Тази функция, променя стойността на подадения аргумент `l`. Казваме, че тази функция съдържа страничен ефект. \n",
    "\n",
    "Страничните ефекти са силно използвани в обектно-ориентираното и процедурното програмиране, за разлика от функционалното програмиране. Както по-горе споменахме, в класическите езици за функционално програмиране, липсват променливи в познатия ни вид. Там можем да присвоим име на дадена стойност, без да я променяме повече. \n",
    "\n",
    "Функции, които не променят стойностите на променливи, се наричат \"чисти\". Във функционалното програмиране (а и не само), е прието всички функции да са чисти."
   ]
  },
  {
   "cell_type": "markdown",
   "id": "d2993e22",
   "metadata": {},
   "source": [
    "Можем да променим нашата функция `add` по следния начин, за да стане чиста:"
   ]
  },
  {
   "cell_type": "code",
   "execution_count": null,
   "id": "3f50c761",
   "metadata": {},
   "outputs": [],
   "source": [
    "def add_to_list(l):\n",
    "    return l + [5]\n",
    "\n",
    "l = []\n",
    "\n",
    "l1 = add_to_list(l)\n",
    "print(l1)\n",
    "\n",
    "l2 = add_to_list(l)\n",
    "print(l2)\n",
    "\n",
    "print(l)"
   ]
  },
  {
   "cell_type": "markdown",
   "id": "92b72142",
   "metadata": {},
   "source": [
    "## Функции, като обекти\n"
   ]
  },
  {
   "cell_type": "markdown",
   "id": "f75349db",
   "metadata": {},
   "source": [
    "В Python, функциите са т.нар. \"first-class objects\" - което на български може да се преведе като \"първокласни обекти\". А ако трябва да го обясним с прости думи, функциите могат да се третират като \"нормалните\" типове - числа, низове и т.н. Това означава, че можем да ги използваме като променливи - да им даваме имена, да ги подаваме към аргументи на други функции, да ги връщаме като резултат от функции и да ги пазим в колекции."
   ]
  },
  {
   "cell_type": "code",
   "execution_count": null,
   "id": "9cbeb20d",
   "metadata": {},
   "outputs": [],
   "source": [
    "def multiply(a, b):\n",
    "    return a * b\n",
    "\n",
    "f = multiply\n",
    "\n",
    "print(f(2, 3))"
   ]
  },
  {
   "cell_type": "markdown",
   "id": "a1a4b5df",
   "metadata": {},
   "source": [
    "Важно е да направим разлика между `f = multiply` и `f = multiply()`. Макар и разликата да е малка синтактично, поведението на двата реда е различно. Първото извикване **присвоява функцията** към променливата `f`, докато второто **присвоява резултата от извикването** на функцията.  \n",
    "\n",
    "Когато присвоим цялата функция (може да си го представяме като function pointer в C++), можем да ползваме функцията като нормална променлива:"
   ]
  },
  {
   "cell_type": "code",
   "execution_count": null,
   "id": "f9959645",
   "metadata": {},
   "outputs": [],
   "source": [
    "def multiply(a, b):\n",
    "    return a * b\n",
    "\n",
    "def sum_(a, b):\n",
    "    return a + b\n",
    "\n",
    "\n",
    "def apply_to_numbers(a, b, f):\n",
    "    print(f'Applying a function to {a} and {b}')\n",
    "    return f(a, b)\n",
    "\n",
    "print(apply_to_numbers(2, 3, sum_))\n",
    "print(apply_to_numbers(2, 3, multiply))"
   ]
  },
  {
   "cell_type": "markdown",
   "id": "04b8d5d6",
   "metadata": {},
   "source": [
    "А можем и да връщаме функция като резултат от друга функция:"
   ]
  },
  {
   "cell_type": "code",
   "execution_count": null,
   "id": "6f22dea1",
   "metadata": {},
   "outputs": [],
   "source": [
    "def foo():\n",
    "    print(\"Foo called\")\n",
    "\n",
    "def bar():\n",
    "    return foo\n",
    "\n",
    "f = bar()\n",
    "f()"
   ]
  },
  {
   "cell_type": "markdown",
   "id": "ca7b67b4",
   "metadata": {},
   "source": [
    "В тялото на една функция, можем да дефинираме друга функция, която да върнем:"
   ]
  },
  {
   "cell_type": "code",
   "execution_count": null,
   "id": "0dcc42b8",
   "metadata": {},
   "outputs": [],
   "source": [
    "def foo():\n",
    "    def bar():\n",
    "        print(\"Bar called\")\n",
    "    \n",
    "    return bar\n",
    "\n",
    "f = foo()\n",
    "f() "
   ]
  },
  {
   "cell_type": "markdown",
   "id": "c5d0fd7d",
   "metadata": {},
   "source": [
    "Това, че функциите са обекти, ни позволява да правим интересни неща - например, можем да направим проста функция, която да използваме за logging."
   ]
  },
  {
   "cell_type": "code",
   "execution_count": null,
   "id": "24fd70a8",
   "metadata": {},
   "outputs": [],
   "source": [
    "def log_and_run(f, args=(), kwargs={}):\n",
    "    print(f'Calling {f} with {args} and {kwargs}')\n",
    "    return f(*args, **kwargs)\n",
    "\n",
    "def add(a, b):\n",
    "    return a + b\n",
    "\n",
    "print(log_and_run(add, (2, 3)))"
   ]
  },
  {
   "cell_type": "markdown",
   "id": "beb25e1f",
   "metadata": {},
   "source": [
    "Припомням, че `args` съдържа позиционните аргументи и е от тип `Tuple`, а `kwargs` съдържа keyword аргументите и е от тип `dict`."
   ]
  },
  {
   "cell_type": "markdown",
   "id": "36a773c0",
   "metadata": {},
   "source": [
    "Освен като аргументи и резултат, функциите могат да се пазят и в колекции (списъци, речници, т.н.):"
   ]
  },
  {
   "cell_type": "code",
   "execution_count": null,
   "id": "863a74cd",
   "metadata": {},
   "outputs": [],
   "source": [
    "def add(a, b):\n",
    "    return a + b\n",
    "\n",
    "def subtract(a, b):\n",
    "    return a - b\n",
    "\n",
    "def multiply(a, b):\n",
    "    return a * b\n",
    "\n",
    "def divide(a, b):\n",
    "    return a / b\n",
    "\n",
    "actions = {\n",
    "    '+': add,\n",
    "    '-': subtract,\n",
    "    '*': multiply,\n",
    "    '/': divide\n",
    "}\n",
    "\n",
    "first = input('Enter a number: ')\n",
    "operation = input('Enter an operation (+, -, * or /)')\n",
    "second = input('Enter a number: ')\n",
    "\n",
    "if operation not in actions:\n",
    "    print('Operation not supported')\n",
    "else:\n",
    "    if not first.isnumeric() or not second.isnumeric():\n",
    "        print('Input is not a number')\n",
    "    else:\n",
    "        first = int(first)\n",
    "        second = int(second)\n",
    "\n",
    "        result = actions[operation](first, second)\n",
    "        print(f'{first} {operation} {second} = {result}')\n"
   ]
  },
  {
   "cell_type": "markdown",
   "id": "ad798046",
   "metadata": {},
   "source": [
    "## Декоратори"
   ]
  },
  {
   "cell_type": "markdown",
   "id": "cb660848",
   "metadata": {},
   "source": [
    "Една от по-интересните функционалности на Python са т.нар. декоратори (decorators). Всъщност, ние вече видяхме как се пише декоратор и как работи - нека се върнем на примера от по-горе с `log_and_run`:"
   ]
  },
  {
   "cell_type": "code",
   "execution_count": null,
   "id": "621677db",
   "metadata": {},
   "outputs": [],
   "source": [
    "def log_and_run(f, args=(), kwargs={}):\n",
    "    print(f'Calling {f} with {args} and {kwargs}')\n",
    "    return f(*args, **kwargs)\n",
    "\n",
    "def add(a, b):\n",
    "    return a + b\n",
    "\n",
    "print(log_and_run(add, (2, 3)))"
   ]
  },
  {
   "cell_type": "markdown",
   "id": "a16d2d15",
   "metadata": {},
   "source": [
    "Това изглежда леко грозно, да трябва да извикваме `log_and_run` вместо функцията, която всъщност искаме да извикаме. Ако добавим функции за изваждане, умножение и деление, всяко извикване ще трябва да преминава през `log_and_run`. \n",
    "\n",
    "А няма ли по-лесен начин с който да кажем - нека преди изпълнението на нашата функция `f1`, да се изпълни функция `f` (Както преди `add` се изпълнява `log_and_run`) ?"
   ]
  },
  {
   "cell_type": "markdown",
   "id": "776172e0",
   "metadata": {},
   "source": [
    "Преди да разгледаме как точно се прави декоратор функция в Python, нека всъщност разберем какво искаме да постигнем:\n",
    "1. Искаме да приемем функция (нека я кръстим `g`), която да изпълним\n",
    "2. Преди да изпълним `g`, искаме да изпълним някакви други действия (нека те са събрани във функцията `f`\n",
    "3. Искаме да върнем нова функция (нека да я кръстим `h`), която първо да изпълни `f`, а после `g`.\n",
    "\n",
    "Нека първо се фокусираме върху 1 и 2 :"
   ]
  },
  {
   "cell_type": "code",
   "execution_count": null,
   "id": "a47ef301",
   "metadata": {},
   "outputs": [],
   "source": [
    "def pseudo_decorator(f, g):\n",
    "    f()\n",
    "    g()\n",
    "\n",
    "\n",
    "def print_hello():\n",
    "    print(\"Hello\")\n",
    "\n",
    "def print_bye():\n",
    "    print(\"Bye\")\n",
    "\n",
    "\n",
    "pseudo_decorator(print_hello, print_bye)"
   ]
  },
  {
   "cell_type": "markdown",
   "id": "c46e1bcf",
   "metadata": {},
   "source": [
    "Нека променим поведението на `pseudo_decorator` от това просто да изпълнява `f` и `g` към това да връща нова функция, която да изпълнява `f` и `g`"
   ]
  },
  {
   "cell_type": "code",
   "execution_count": null,
   "id": "d2891df9",
   "metadata": {},
   "outputs": [],
   "source": [
    "def pseudo_decorator(f, g):\n",
    "    def inner():\n",
    "        f()\n",
    "        g()\n",
    "    return inner\n",
    "\n",
    "\n",
    "def print_hello():\n",
    "    print(\"Hello\")\n",
    "\n",
    "def print_bye():\n",
    "    print(\"bye\")\n",
    "\n",
    "\n",
    "f = pseudo_decorator(print_hello, print_bye)\n",
    "f()"
   ]
  },
  {
   "cell_type": "markdown",
   "id": "01300f80",
   "metadata": {},
   "source": [
    "Почти сме до истинските декоратори. За съжаление, следващата част е възможна заради малко синтактична захар. \n",
    "\n",
    "Основната идея е, че искаме да вземем нашата функция `g` и да я заместим с резултата от `pseudo_decorator`, без да се налага реално да извикваме `pseudo_decorator`. С цел опростяване, ще приемем, че `f` е просто принтиране. "
   ]
  },
  {
   "cell_type": "code",
   "execution_count": null,
   "id": "27e4adfb",
   "metadata": {},
   "outputs": [],
   "source": [
    "def print_decorator(g):\n",
    "    def inner():\n",
    "        print(\"Hello\")\n",
    "        g()\n",
    "    return inner\n",
    "\n",
    "@print_decorator\n",
    "def print_bye():\n",
    "    print(\"bye\")\n",
    "\n",
    "print_bye()"
   ]
  },
  {
   "cell_type": "markdown",
   "id": "e76dbef1",
   "metadata": {},
   "source": [
    "С помощта на `@`, последвано от функция, която връща друга функция, ние можем да \"декорираме\" всяка функция в Python.\n",
    "\n",
    "Това, което се случва в случая е, че взимаме `print_bye` като първи аргумент на `print_decorator` и изпълняваме `print_decorator`. Тя от своя страна ни връща нова функция, която принтира \"Hello\" и след това изпълнява подадената от нас функция. \n",
    "\n",
    "Обяснено още по-просто: При извикване на `print_bye`, всъщност ще се извика `print_decorator` с аргумент `print_bye`. "
   ]
  },
  {
   "cell_type": "markdown",
   "id": "7229d5e0",
   "metadata": {},
   "source": [
    "Нека използваме този нов подход върху примера с `log_and_run` (която ще преименуваме само на `log`)"
   ]
  },
  {
   "cell_type": "code",
   "execution_count": null,
   "id": "0c341b66",
   "metadata": {},
   "outputs": [],
   "source": [
    "def log(f):\n",
    "    def inner(*args, **kwargs):\n",
    "        print(f'Calling {f} with {args} and {kwargs}')\n",
    "        return f(*args, **kwargs)\n",
    "    return inner\n",
    "\n",
    "@log\n",
    "def add(a, b):\n",
    "    return a + b\n",
    "\n",
    "print(add(2, 3))"
   ]
  },
  {
   "cell_type": "markdown",
   "id": "ce7f9f95",
   "metadata": {},
   "source": [
    "Сега ако добавим нови методи за изваждане, умножение и деление, можем лесно да се използваме от `log`, без да се налага да променяме начина им на извикване:"
   ]
  },
  {
   "cell_type": "code",
   "execution_count": null,
   "id": "65c20e3c",
   "metadata": {},
   "outputs": [],
   "source": [
    "def log(f):\n",
    "    def inner(*args, **kwargs):\n",
    "        print(f'Calling {f} with {args} and {kwargs}')\n",
    "        return f(*args, **kwargs)\n",
    "    return inner\n",
    "\n",
    "@log\n",
    "def add(a, b):\n",
    "    return a + b\n",
    "\n",
    "@log \n",
    "def subtract(a, b):\n",
    "    return a - b\n",
    "\n",
    "@log\n",
    "def multiply(a, b):\n",
    "    return a * b\n",
    "\n",
    "@log\n",
    "def divide(a, b):\n",
    "    return a / b\n",
    "\n",
    "print(add(2, 3))\n",
    "print(subtract(3, 1))\n",
    "print(multiply(1.5, b=3))\n",
    "print(divide(a=12, b=6))"
   ]
  },
  {
   "cell_type": "markdown",
   "id": "c855c314",
   "metadata": {},
   "source": [
    "Друг пример за декоратор може да бъде декоратор, който измерва времето за изпълнение на функция:"
   ]
  },
  {
   "cell_type": "code",
   "execution_count": null,
   "id": "ba1c9a5a",
   "metadata": {},
   "outputs": [],
   "source": [
    "import time\n",
    "\n",
    "def time_it(f):\n",
    "    def inner(*args, **kwargs):\n",
    "        start = time.time()\n",
    "        result = f(*args, **kwargs)\n",
    "        end = time.time()\n",
    "        print(f'{f} took {end - start:.2f} second')\n",
    "    return inner\n",
    "\n",
    "@time_it\n",
    "def slow_function(a):\n",
    "    return (a ** a) ** a\n",
    "\n",
    "slow_function(1000)"
   ]
  },
  {
   "cell_type": "markdown",
   "id": "d5d1d216",
   "metadata": {},
   "source": [
    "## Анонимни (lambda) функции"
   ]
  },
  {
   "cell_type": "markdown",
   "id": "f21f6a75",
   "metadata": {},
   "source": [
    "Lambda функции идват от т.нар ламбда смятане (lambda calculus) и изразяват изпълнението на дадени изчисления върху дадени стойности. Няма да навлизаме в математическите доказателства и формализми. Lambda функциите са анонимни функции - т.е. не се дефинират с `def` и без да е необходимо да им се дава име. \n",
    "\n",
    "Всяка ламбда функция има две основни части - входни променливи и един израз (expression). В Python, ламбда функциите се дефинират с ключовата дума `lambda`"
   ]
  },
  {
   "cell_type": "code",
   "execution_count": null,
   "id": "f61f0f4e",
   "metadata": {},
   "outputs": [],
   "source": [
    "lambda x: x + 1"
   ]
  },
  {
   "cell_type": "markdown",
   "id": "96468284",
   "metadata": {},
   "source": [
    "По-горната функция приема един аргумент (на име `x`), и изпълнява израза `x + 1`. Важно е да се отбележи, че една ламбда функция може да съдържа само един израз.\n",
    "\n",
    "Припомням, че израз в Python е всичко, което съдържа някакъв индетификатор (напр. променлива), литерал (напр. `'hello'`) или оператор (напр. извикване на функция, оператор `[]`)\n",
    "\n",
    "Или казано по-просто: не може да създадем ламбда, която да присвоява стойност на някаква променлива:"
   ]
  },
  {
   "cell_type": "code",
   "execution_count": null,
   "id": "8ea1e672",
   "metadata": {},
   "outputs": [],
   "source": [
    "lambda x: a = x"
   ]
  },
  {
   "cell_type": "markdown",
   "id": "cf2de84e",
   "metadata": {},
   "source": [
    "Не можем също и да имаме два израза един след друг (Това чисто синтактично няма как да ни се позволи - ламбдите са на един ред, а в Python нямаме символ за край на израз."
   ]
  },
  {
   "cell_type": "markdown",
   "id": "ef1f0a43",
   "metadata": {},
   "source": [
    "Можем да извикваме дадена lambda функция, като просто използваме `()` след нея"
   ]
  },
  {
   "cell_type": "code",
   "execution_count": null,
   "id": "44fa9855",
   "metadata": {},
   "outputs": [],
   "source": [
    "(lambda x: print(x))(5)"
   ]
  },
  {
   "cell_type": "markdown",
   "id": "6c004d8f",
   "metadata": {},
   "source": [
    "Макар и анонимни, можем да присвоим ламбда функция към дадена променлива"
   ]
  },
  {
   "cell_type": "code",
   "execution_count": null,
   "id": "891fd880",
   "metadata": {},
   "outputs": [],
   "source": [
    "f = lambda x: x + 1\n",
    "\n",
    "print(f(5))"
   ]
  },
  {
   "cell_type": "markdown",
   "id": "07a3a33b",
   "metadata": {},
   "source": [
    "Горното парче код изпълнява следните стъпки:\n",
    "1. Създава анонимна функция, която приема един аргумент (`x`) и връща стойноста на `x` събрана с 1\n",
    "2. Присвояваме новосъздадената ни функция към променливата `f`\n",
    "3. Принтираме резултата от извикването на `f` със стойност 5\n",
    "    - В тялото на ламбда функцията, стойноста на `x` се замества с 5\n",
    "    - От там, 5 + 1 = 6"
   ]
  },
  {
   "cell_type": "markdown",
   "id": "26b1f611",
   "metadata": {},
   "source": [
    "Едно от местата, където често се ползват lambda функции, са вградените функции за сортиране. Както знаем, метода `.sort()` може да приема функция, която да сравнява обектите. "
   ]
  },
  {
   "cell_type": "code",
   "execution_count": null,
   "id": "089c3290",
   "metadata": {},
   "outputs": [],
   "source": [
    "l = [5, 2, 7, 3]\n",
    "l.sort(key=lambda x: -x)\n",
    "print(l)"
   ]
  },
  {
   "cell_type": "markdown",
   "id": "a3cc9697",
   "metadata": {},
   "source": [
    "С помощта на тази ламбда, можем да сортираме числата в обратен ред. \n",
    "\n",
    "Можем да използваме ламбди за да сортираме и по-сложни списъци - например списък от наредени n-торки."
   ]
  },
  {
   "cell_type": "markdown",
   "id": "4314d362",
   "metadata": {},
   "source": [
    "Нека е даден списък, съставен от имена на хора, и тяхната възраст. "
   ]
  },
  {
   "cell_type": "code",
   "execution_count": null,
   "id": "ff854294",
   "metadata": {},
   "outputs": [],
   "source": [
    "people_data = [('Иван', 22), ('Георги', 71), ('Мария', 35), ('Митко', 51), ('Любо', 35)]\n",
    "people_data.sort(key=lambda person: (person[1], person[0]))\n",
    "print(people_data)"
   ]
  },
  {
   "cell_type": "markdown",
   "id": "7ff7a652",
   "metadata": {},
   "source": [
    "Тук първо сортираме хората по тяхната възраст, а после лексикографкси, по тяхното име."
   ]
  },
  {
   "cell_type": "markdown",
   "id": "02971736",
   "metadata": {},
   "source": [
    "Можем да използваме и функцията `sorted` с ламбда функция:"
   ]
  },
  {
   "cell_type": "code",
   "execution_count": null,
   "id": "d92976d2",
   "metadata": {},
   "outputs": [],
   "source": [
    "people_data = [('Иван', 22), ('Георги', 71), ('Мария', 35), ('Митко', 51), ('Любо', 35)]\n",
    "print(sorted(people_data, key=lambda person: (person[1], person[0])))"
   ]
  },
  {
   "cell_type": "markdown",
   "id": "0b29e71e",
   "metadata": {},
   "source": [
    "## Lazy evaluation"
   ]
  },
  {
   "cell_type": "markdown",
   "id": "7b172f19",
   "metadata": {},
   "source": [
    "Съществуват различни стратегии за оценяване (или изчисляване) на изрази - най-позната е т.нар. \"нетърпеливо оценяване\" или \"оценяване на момента\" - целия израз се изчислява на момента.\n",
    "\n",
    "Нека е даден израза `a + b + c`. Първо, ще бъде оценена стойността на `a`, после на `b`. Следващата стъпка е да се извърши операцията събиране. Резултатът от първата операция ще бъде използван за следващата операция събиране, заедно с `c`. \n",
    "\n",
    "Пример за оценяване на момента може да бъде следната функция:"
   ]
  },
  {
   "cell_type": "code",
   "execution_count": null,
   "id": "1742fbc4",
   "metadata": {},
   "outputs": [],
   "source": [
    "def f(x):\n",
    "    print(f'x = {x}')\n",
    "    return x\n",
    "\n",
    "print(f(1) + f(2))"
   ]
  },
  {
   "cell_type": "markdown",
   "id": "3ac45152",
   "metadata": {},
   "source": [
    "При оценяването на момента (eager evaluation), всички необходими данни за извършване на изчислението (променливи, функции, др.) се зареждат наведнъж в паметта. Освен това, всички изчисления трябва да бъда извършени точно на момента."
   ]
  },
  {
   "cell_type": "markdown",
   "id": "a1de529c",
   "metadata": {},
   "source": [
    "Тук се намесва т.нар. \"мързеливо\" оценяване - изчисленията се извършват само при необходимост. Това ни позволява да си спестим някои изчисления (както и да работим с т.нар. \"безкрайни\" колекции).\n",
    "\n",
    "Най-близкото до \"мързеливо\" оценяване, което познаваме е изчисляването на логическите изрази при `if` блокове и други булеви изрази - там, всеки елемент от израза се изчислява, при условие че предишния израз не е достатъчен за оценяване на целия израз (т.е. ако имаме един израз който е със стойност на `True` при изрази съдържащи `or`, тези след него не се оценяват. Ако имаме израз, който съдържа `and`, трябва да оценим всички стойности). \n",
    "\n",
    "По подобен начин работи и мързеливото оценяване, с разликата, че изразите се оценяват при поискване. "
   ]
  },
  {
   "cell_type": "markdown",
   "id": "5a9c7b20",
   "metadata": {},
   "source": [
    "## Generators"
   ]
  },
  {
   "cell_type": "markdown",
   "id": "00ef1375",
   "metadata": {},
   "source": [
    "Генераторите са специални функции, които позволяват \"мързеливо\" итериране на дадена (дори и безкрайна) поредица. Генераторите не държат всичките си стойности в паметта, а изчисляват стойността при поискване (това позволява работата с \"безкрайни\" поредици)."
   ]
  },
  {
   "cell_type": "markdown",
   "id": "0ef2b440",
   "metadata": {},
   "source": [
    "Нека разгледаме следния пример - искаме да създадем генератор, който да ни връща числата, които са точни квадрати (число, получено чрез повдигане на друго цяло число на квадрат - 1, 4, 9, 16, 25, т.н.). \n",
    "\n",
    "Ако за момент се абстрахираме от идеята за генератори, как бихме могли да напишем функция, която ни връща `n`-тия точен квадрат ? Първия точен квардрат е 0 ($0^2 = 0$, защото са неотрицателни), втория е 1 ($1^2 = 1$), третия е 4 ($2^2 = 4$) и т.н. "
   ]
  },
  {
   "cell_type": "code",
   "execution_count": null,
   "id": "29d684d0",
   "metadata": {},
   "outputs": [],
   "source": [
    "def generate_nth_perfect_square(n):\n",
    "    return (n-1) ** 2\n",
    "\n",
    "print(generate_nth_perfect_square(3))"
   ]
  },
  {
   "cell_type": "markdown",
   "id": "d8622ca2",
   "metadata": {},
   "source": [
    "Можем да променим нашата функция, която да ни връща списък от всички точни квадрати до `n`-тия. "
   ]
  },
  {
   "cell_type": "code",
   "execution_count": null,
   "id": "653c8a19",
   "metadata": {},
   "outputs": [],
   "source": [
    "def generate_all_perfect_squares_until(n):\n",
    "    result = []\n",
    "    for i in range(1, n+1):\n",
    "        result.append(generate_nth_perfect_square(i))\n",
    "    \n",
    "    return result\n",
    "\n",
    "print(generate_all_perfect_squares_until(5))"
   ]
  },
  {
   "cell_type": "markdown",
   "id": "7e29c583",
   "metadata": {},
   "source": [
    "Проблемът с горната функция, е че изчислява всички стойности до `n` едновременно - ние искаме те да се изчисляват една по една, при поискване. По-важното е, че искаме да можем да итерираме по тях - т.е. да ги вкараме в един `for` цикъл, и да ги обходим.\n",
    "\n",
    "За да постигнем тази цел, ни трябват две неща - функция, която да \"спре\" изпълнението до дадено място и да ни върне някаква стойност - функцията, която извършва това, е `yield`. "
   ]
  },
  {
   "cell_type": "code",
   "execution_count": null,
   "id": "784eb14e",
   "metadata": {},
   "outputs": [],
   "source": [
    "def perfect_squares(n):\n",
    "    for i in range(1, n+1):\n",
    "        yield generate_nth_perfect_square(i)\n",
    "\n",
    "\n",
    "print(perfect_squares(5))"
   ]
  },
  {
   "cell_type": "markdown",
   "id": "732b5a2e",
   "metadata": {},
   "source": [
    "Тук виждаме, че нашата функция вече ни връща `generator` обект. \n",
    "\n",
    "За да работим с нашия генератор обект, е необходимо да го подадем като обект на функцията `next` - тя ни връща следващия елемент от генератор/итератор."
   ]
  },
  {
   "cell_type": "code",
   "execution_count": null,
   "id": "fabe48c4",
   "metadata": {},
   "outputs": [],
   "source": [
    "perfect_square_generator = perfect_squares(5)\n",
    "print(next(perfect_square_generator))\n",
    "print(next(perfect_square_generator))\n",
    "print(next(perfect_square_generator))\n",
    "print(next(perfect_square_generator))"
   ]
  },
  {
   "cell_type": "markdown",
   "id": "8f0713e7",
   "metadata": {},
   "source": [
    "Както се вижда, `next` изпълнява нашия код, до следващото срещане на `yield`, и връща стойността, която `yield` връща."
   ]
  },
  {
   "cell_type": "markdown",
   "id": "5151ef08",
   "metadata": {},
   "source": [
    "Благодарение на факта, че получваме генератор, може да използваме нашата функция `perfect_squares` директно във `for` цикъл. Начина по който `for` цикъла работи е, че извиква `next` метода на подадения от нас обект. "
   ]
  },
  {
   "cell_type": "code",
   "execution_count": null,
   "id": "aba13000",
   "metadata": {},
   "outputs": [],
   "source": [
    "for i in perfect_squares(5):\n",
    "    print(i)"
   ]
  },
  {
   "cell_type": "markdown",
   "id": "68b6e03e",
   "metadata": {},
   "source": [
    "Нека направим нещата една идея по-сложни. Вместо да създаваме генератор на точни квадрати до дадено число, нека променим нашия генератор, да връща точни квадрати до безкрайност (понеже точните квадрати са дефинирани върху всички неотрицателни числа, е възможно до безкрайност да генерираме такива)."
   ]
  },
  {
   "cell_type": "code",
   "execution_count": null,
   "id": "80f1c72a",
   "metadata": {},
   "outputs": [],
   "source": [
    "def perfect_square():\n",
    "    n = 1\n",
    "    while True:\n",
    "        yield generate_nth_perfect_square(n)\n",
    "        n += 1"
   ]
  },
  {
   "cell_type": "code",
   "execution_count": null,
   "id": "aaedfa55",
   "metadata": {},
   "outputs": [],
   "source": [
    "perfect_square_generator = perfect_square()\n",
    "print(next(perfect_square_generator))\n",
    "print(next(perfect_square_generator))\n",
    "print(next(perfect_square_generator))\n",
    "print(next(perfect_square_generator))"
   ]
  },
  {
   "cell_type": "markdown",
   "id": "316a5df6",
   "metadata": {},
   "source": [
    "Използването на `yield` не е единствения начин да бъде създаден генератор. Python поддържа т.нар. \"generator expressions\". Generator expressions е синтактична конструкция, която ни позволява да създаваме генератор на базата на друга колекция/генератор. Синтактично, generator expression следва математическата нотация за дефиниране на множество:\n",
    "\n",
    "$$ S = \\{x^2 \\mid x \\in [1;100] , x \\text{ is even}\\} $$\n",
    "\n",
    "Това математическо заклинание ни дава целите числа в диапазона от 1 до 100, които са четни, като всяко от тях е повдигнато на квадрат.\n",
    "\n",
    "В общият случай, един generator expression изглежда по следния начин: `(f(x) for x in X if p(x))`, където `f` е функция, която прилагаме върху `x`, а `p` е филтрираща функция (повече за прилагането на функции върху елементи и филтрирането му по-долу)"
   ]
  },
  {
   "cell_type": "markdown",
   "id": "7d1ec88b",
   "metadata": {},
   "source": [
    "Ако искаме да запишем нашата функция `perfect_squares(n)`, която ни връща точните квадрати до `n` като generator expression, тя би изглеждала по следния начин."
   ]
  },
  {
   "cell_type": "code",
   "execution_count": null,
   "id": "7e812d19",
   "metadata": {},
   "outputs": [],
   "source": [
    "perfect_squares_generator_exp = (generate_nth_perfect_square(i) for i in range(1, 6))\n",
    "\n",
    "print(perfect_squares_generator_exp)\n",
    "print(next(perfect_squares_generator_exp))\n",
    "print(next(perfect_squares_generator_exp))\n",
    "print(next(perfect_squares_generator_exp))"
   ]
  },
  {
   "cell_type": "markdown",
   "id": "edca28f5",
   "metadata": {},
   "source": [
    "В горния пример, нашия генератор ще ни върне първите 5 точни квадрата, с помощта на generator expression. Как би изглеждал кода обаче, ако искаме да можем да приемаме `n`, с което да заместим 5 ?"
   ]
  },
  {
   "cell_type": "code",
   "execution_count": null,
   "id": "d04e8f90",
   "metadata": {},
   "outputs": [],
   "source": [
    "perfect_squares_n_generator_exp = lambda n: (generate_nth_perfect_square(i) for i in range(1, n + 1))\n",
    "\n",
    "for num in perfect_squares_n_generator_exp(3):\n",
    "    print(num)\n",
    "\n",
    "print('--')\n",
    "for num in perfect_squares_n_generator_exp(10):\n",
    "    print(num)"
   ]
  },
  {
   "cell_type": "markdown",
   "id": "4a5ec904",
   "metadata": {},
   "source": [
    "Една бележка за `next` - освен генератора, `next` приема и `default` стойност, която се връща при изчерпване на генератора:"
   ]
  },
  {
   "cell_type": "code",
   "execution_count": null,
   "id": "90593de4",
   "metadata": {},
   "outputs": [],
   "source": [
    "def short_generator():\n",
    "    for i in range(3):\n",
    "        yield i\n",
    "\n",
    "g = short_generator()\n",
    "\n",
    "print(next(g, \"Default\"))\n",
    "print(next(g, \"Default\"))\n",
    "print(next(g, \"Default\"))\n",
    "print(next(g, \"Default\"))\n",
    "print(next(g, \"Default\"))"
   ]
  },
  {
   "cell_type": "markdown",
   "id": "8e85b4fc",
   "metadata": {},
   "source": [
    "## range и enumerate"
   ]
  },
  {
   "cell_type": "markdown",
   "id": "f984078e",
   "metadata": {},
   "source": [
    "Един от най-използваните генератори е `range`. `range` приема три аргумента - начало, край и стъпка. В резултат, получаваме генератор, който генерира числата от това множество. "
   ]
  },
  {
   "cell_type": "code",
   "execution_count": null,
   "id": "2d03409e",
   "metadata": {},
   "outputs": [],
   "source": [
    "for i in range(2, 7, 2):\n",
    "    print(i)"
   ]
  },
  {
   "cell_type": "markdown",
   "id": "6b15af39",
   "metadata": {},
   "source": [
    "Няма значение колко е голям размера на `range`-а за представянето му - това е защото `range` изчислява следващия елемент на момента. "
   ]
  },
  {
   "cell_type": "markdown",
   "id": "d8bae8a3",
   "metadata": {},
   "source": [
    "Друг полезен генератор, е `enumerate`. Той приема колекция, и връща индексът на който се намира всеки елемент, както и самия елемент."
   ]
  },
  {
   "cell_type": "code",
   "execution_count": null,
   "id": "a7fb55f6",
   "metadata": {},
   "outputs": [],
   "source": [
    "fruits = [\"Apple\", \"Banana\", \"Cherry\", \"Watermelon\", \"Grapes\"]\n",
    "\n",
    "for fruit in enumerate(fruits):\n",
    "    print(fruit)"
   ]
  },
  {
   "cell_type": "markdown",
   "id": "bf1a6aef",
   "metadata": {},
   "source": [
    "Можем да използваме unpacking, за да разделим индекса и обекта:"
   ]
  },
  {
   "cell_type": "code",
   "execution_count": null,
   "id": "8166f7ca",
   "metadata": {},
   "outputs": [],
   "source": [
    "fruits = [\"Apple\", \"Banana\", \"Cherry\", \"Watermelon\", \"Grapes\"]\n",
    "\n",
    "for i, fruit in enumerate(fruits):\n",
    "    print(f'{fruit} is on position {i}')"
   ]
  },
  {
   "cell_type": "markdown",
   "id": "11ef2928",
   "metadata": {},
   "source": [
    "Можем да зададем и начален индекс, от който да се отброява:"
   ]
  },
  {
   "cell_type": "code",
   "execution_count": null,
   "id": "4096afe9",
   "metadata": {},
   "outputs": [],
   "source": [
    "fruits = [\"Apple\", \"Banana\", \"Cherry\", \"Watermelon\", \"Grapes\"]\n",
    "\n",
    "for i, fruit in enumerate(fruits, start=100):\n",
    "    print(f'{fruit} is on position {i}')"
   ]
  },
  {
   "cell_type": "markdown",
   "id": "187910d0",
   "metadata": {},
   "source": [
    "## Zip"
   ]
  },
  {
   "cell_type": "markdown",
   "id": "93c08597",
   "metadata": {},
   "source": [
    "В Python има готова функция, която прави от два списъка - един, който съдържаше елементите на двата, групирани по позицията им - `zip`"
   ]
  },
  {
   "cell_type": "code",
   "execution_count": null,
   "id": "838fca66",
   "metadata": {},
   "outputs": [],
   "source": [
    "first_numbers = [1, 2, 3, 4]\n",
    "second_numbers = [5, 6, 7, 8]\n",
    "\n",
    "print(zip(first_numbers, second_numbers))\n",
    "print(list(zip(first_numbers, second_numbers)))"
   ]
  },
  {
   "cell_type": "markdown",
   "id": "aa707ab5",
   "metadata": {},
   "source": [
    "Не е нужно списъците да са от еднакви типове елементи."
   ]
  },
  {
   "cell_type": "code",
   "execution_count": null,
   "id": "307029cb",
   "metadata": {},
   "outputs": [],
   "source": [
    "names = ['Иван', 'Любо', 'Алекс']\n",
    "favorite_number = [3, 20, 8]\n",
    "\n",
    "print(list(zip(names, favorite_number)))"
   ]
  },
  {
   "cell_type": "markdown",
   "id": "604cfe39",
   "metadata": {},
   "source": [
    "Ако единият списък е по-дълъг от другия, по-дългия списък ще бъде отрязан:"
   ]
  },
  {
   "cell_type": "code",
   "execution_count": null,
   "id": "a05b6149",
   "metadata": {},
   "outputs": [],
   "source": [
    "names = ['Иван', 'Любо', 'Алекс', 'Иво']\n",
    "favorite_number = [3, 20, 7]\n",
    "\n",
    "print(list(zip(names, favorite_number)))"
   ]
  },
  {
   "cell_type": "code",
   "execution_count": null,
   "id": "db1d0b82",
   "metadata": {},
   "outputs": [],
   "source": [
    "names = ['Иван', 'Любо', 'Алекс']\n",
    "favorite_number = [3, 20, 7, -1]\n",
    "\n",
    "print(list(zip(names, favorite_number)))"
   ]
  },
  {
   "cell_type": "markdown",
   "id": "2ac8aadc",
   "metadata": {},
   "source": [
    "## List comprehension"
   ]
  },
  {
   "cell_type": "markdown",
   "id": "bbde7bc4",
   "metadata": {},
   "source": [
    "В Python съществува функционалност, наречена \"list comprehension\". List comprehension е синтактична конструкция, която ни позволява да създаваме списъци на базата на други колекции/итератори/генератори. Синтактично, list comprehension прилича на generator expressions."
   ]
  },
  {
   "cell_type": "markdown",
   "id": "9cb938c4",
   "metadata": {},
   "source": [
    "В общия случай, синтаксиса на list comprehension е следния: `[f(item) for item in collection if p(item)]` - т.е. кода по-горе би изглеждал по следния начин като list comprehension:"
   ]
  },
  {
   "cell_type": "code",
   "execution_count": null,
   "id": "6781f06e",
   "metadata": {},
   "outputs": [],
   "source": [
    "print(f'Squared even numbers: {[x ** 2 for x in range(1, 101) if x % 2 == 0]}')"
   ]
  },
  {
   "cell_type": "markdown",
   "id": "2f3a6004",
   "metadata": {},
   "source": [
    "`if` часта или функцията, която се прилага върху всяка променливата могат да бъдат изпуснати:"
   ]
  },
  {
   "cell_type": "code",
   "execution_count": null,
   "id": "f752dc3b",
   "metadata": {},
   "outputs": [],
   "source": [
    "numbers = [1, 2, 3]\n",
    "print(f'Odd numbers: {[number for number in numbers if number % 2 != 0]}')\n",
    "print(f'Multiplying all numbers by 2: {[number * 2 for number in numbers]}')"
   ]
  },
  {
   "cell_type": "markdown",
   "id": "16559169",
   "metadata": {},
   "source": [
    "Тук е добре да отбележем, че основната синтактична разлика между list comprehension и generator comprehension е скобите (`[]` за list comprehension и `()` за generator comprehension)"
   ]
  },
  {
   "cell_type": "code",
   "execution_count": null,
   "id": "cc1a6eb4",
   "metadata": {},
   "outputs": [],
   "source": [
    "def calculate_area_of_rectangle(a, b):\n",
    "    return a * b\n",
    "\n",
    "rectangles = [(1, 2), (5, 4), (3, 2.5), (-2, 3)]\n",
    "areas = [calculate_area_of_rectangle(x, y) for x, y in rectangles if x >= 0 and y >= 0]\n",
    "\n",
    "print(f'Areas of valid rectangles: {areas}')"
   ]
  },
  {
   "cell_type": "markdown",
   "id": "76b2681c",
   "metadata": {},
   "source": [
    "Може би забелязвате, че когато функцията която изпълняваме не е външна, не използваме `lambda`, а директно пишем операцията която искаме да приложим - това е част от опростяването на синтаксиса на list comprehension-ите. "
   ]
  },
  {
   "cell_type": "markdown",
   "id": "edc1a413",
   "metadata": {},
   "source": [
    "Нека имаме дадени числа - искаме да върнем списък, в който за всяко число да пише \"Yes\" ако се дели на 3 или 5 и \"No\" в противен случай. Това може да стане лесно, чрез използването на тернарния оператор в Python."
   ]
  },
  {
   "cell_type": "code",
   "execution_count": null,
   "id": "c66a66b6",
   "metadata": {},
   "outputs": [],
   "source": [
    "numbers = [7, 12, 5, 6, 9, 15, 1, 11]\n",
    "\n",
    "results = [\"Yes\" if number % 3 == 0 or number % 5 == 0 else \"No\" for number in numbers]\n",
    "\n",
    "print(f'Results are: {results}')"
   ]
  },
  {
   "cell_type": "markdown",
   "id": "6c24c446",
   "metadata": {},
   "source": [
    "## Скорост"
   ]
  },
  {
   "cell_type": "markdown",
   "id": "b62f2024",
   "metadata": {},
   "source": [
    "Едно от най-\"шокиращите\" неща в Python е скоростта, която получаваме при използването на обикновенни `for` цикли или list comprehension.\n",
    "\n",
    "За да демонстрираме разликата, ще създадем функция, която повдига число на квадрат, и ще я приложим върху списък от 40 000 000 числа."
   ]
  },
  {
   "cell_type": "code",
   "execution_count": null,
   "id": "f1d1d2e5",
   "metadata": {},
   "outputs": [],
   "source": [
    "from time import time\n",
    "\n",
    "def power_up(a):\n",
    "    return a ** 2\n",
    "\n",
    "numbers = list(range(1, 40000000))\n",
    "\n",
    "for_loop_start = time()\n",
    "\n",
    "for_loop_result = []\n",
    "for number in numbers:\n",
    "    for_loop_result.append(power_up(number))\n",
    "\n",
    "for_loop_end = time()\n",
    "print(f'For-looping took {for_loop_end - for_loop_start:.2f} seconds')\n",
    "\n",
    "\n",
    "list_comprehension_start = time()\n",
    "\n",
    "list_comprehension_result = [power_up(x) for x in numbers]\n",
    "\n",
    "list_comprehension_end = time()\n",
    "print(f'List comprehension took {list_comprehension_end - list_comprehension_start:.2f} seconds')"
   ]
  },
  {
   "cell_type": "markdown",
   "id": "e8bb3fec",
   "metadata": {},
   "source": [
    "Основната разлика във времето идва от факта, че `append()` операцията е бавна. list comprehension-ите използват хитрини при заделянето на паметта, затова може да се каже че са с около 30% по-бързи. Няма да се впускам повече в темата, за по-любопитните, [тук](https://web.archive.org/web/20190319205826/http://blog.cdleary.com/2010/04/efficiency-of-list-comprehensions/) нещата са обяснение в повече детайли."
   ]
  },
  {
   "cell_type": "markdown",
   "id": "31c06131",
   "metadata": {},
   "source": [
    "# Data Structures & Oddities"
   ]
  },
  {
   "cell_type": "markdown",
   "id": "811da26f",
   "metadata": {},
   "source": [
    "Структурите от данни са класове и обекти с интерфейс чрез който ги използваме, като се абстрахираме от имплементацията им.\n",
    "\n",
    "Алгоритмите са генерализирани процедури (парчета код/функции) които решават даден проблем (изпълняват дадена задача).\n",
    "\n",
    "Oddities са модули на Python, които нямат място в друга тема, но са интересни за решаването на проблеми."
   ]
  },
  {
   "cell_type": "markdown",
   "id": "1a5b32b6",
   "metadata": {},
   "source": [
    "## Str\n",
    "\n",
    "`str` е поредица от символи. Ще разгледаме:\n",
    "\n",
    "- [str](https://docs.python.org/3/library/stdtypes.html#text-sequence-type-str) методи и\n",
    "- [string](https://docs.python.org/3/library/string.html) често употребявани константи\n",
    "\n",
    "Стринговете в Python са immutable -> Повечето операции са $O(n)$"
   ]
  },
  {
   "cell_type": "code",
   "execution_count": null,
   "id": "fecc4909",
   "metadata": {},
   "outputs": [],
   "source": [
    "# Python speaks   UTF-8 :) https://en.wikipedia.org/wiki/UTF-8\n",
    "s = '🐍 is awesomeͤͤͤͤͤ'\n",
    "print(s)\n"
   ]
  },
  {
   "cell_type": "code",
   "execution_count": null,
   "id": "95bbcdf8",
   "metadata": {},
   "outputs": [],
   "source": [
    "if 'самобукви'.isalpha():\n",
    "    print('{букви} = alphabetic')\n",
    "\n",
    "# Можем ли да конвертираме стринга до int?\n",
    "if '1232367457'.isdigit():\n",
    "    print('{числа} = digit')\n",
    "\n",
    "# Бърза проверка дали работим с дума или изречение (изречението има паузи и символи)\n",
    "if '1283912873andLetters'.isalnum():\n",
    "    print('{числа, букви} = alpha-numeric')\n",
    "\n",
    "# Трябва ли да пишем код който разбира от главни букви?\n",
    "if 'малкибукви'.islower():\n",
    "    print('{малки букви} = lowercase')\n",
    "\n",
    "if 'ГОЛЕМИБУКВИ'.isupper():\n",
    "    print('{големи букви} = uppercase')\n",
    "\n",
    "# Използваме при разбиване на стрингове - if space : do X else do Y\n",
    "if '\\t\\n  '.isspace():\n",
    "    print('{празни символи} = space')\n"
   ]
  },
  {
   "cell_type": "code",
   "execution_count": null,
   "id": "77161e9b",
   "metadata": {},
   "outputs": [],
   "source": [
    "s = '🐍 is awesomeͤͤͤͤͤ'\n",
    "\n",
    "if s.endswith('e'):\n",
    "    print('s завършва на e')  # eͤͤͤ != e\n",
    "\n",
    "if s.startswith('🐍 is'):\n",
    "    print(\"s започва с '🐍 is'\")\n",
    "\n",
    "print('is е на индекс', s.find('is'))  # Индекс по символ, не по байт\n",
    "\n",
    "print(\"'e' се среща\", s.count('e'), 'пъти')\n"
   ]
  },
  {
   "cell_type": "markdown",
   "id": "00793b03",
   "metadata": {},
   "source": [
    "Библиотеката `string` предоставя някои удобни константи"
   ]
  },
  {
   "cell_type": "code",
   "execution_count": null,
   "id": "af7e4e60",
   "metadata": {},
   "outputs": [],
   "source": [
    "import string\n",
    "\n",
    "# Вместо да хардкодваме \"abcdef...\"\n",
    "print('all letters:', string.ascii_letters)\n",
    "print('all lowercase:', string.ascii_lowercase)\n",
    "print('all digits as a string:', string.digits)\n",
    "print('all symbols:', string.punctuation)\n",
    "print('all whitespaces:', string.whitespace, string.whitespace.encode())\n"
   ]
  },
  {
   "cell_type": "markdown",
   "id": "cd800f28",
   "metadata": {},
   "source": [
    "## Math"
   ]
  },
  {
   "cell_type": "code",
   "execution_count": null,
   "id": "14a7832f",
   "metadata": {},
   "outputs": [],
   "source": [
    "import math\n",
    "\n",
    "print('Закръгляне нагоре 2.2 ->', math.ceil(2.2))\n",
    "print('Закръгляне надолу 2.7 ->', math.floor(2.7))\n",
    "\n",
    "# Може да правим побитово итериране на  числото\n",
    "print('Преброяване на битовете на числото 257 =', math.ceil(math.log2(257)))\n",
    "# Полезно при построяване на Trie/radix sort/заделяне на hashmap\n",
    "print('Преброяване на цифрите на числото 14532 =', math.ceil(math.log10(14532)))\n",
    "\n",
    "# Математически важни функции\n",
    "print('Най-голям общ делител на 35 и 15 =', math.gcd(35, 15))\n",
    "print('Можем да смятаме inverse елемента по модул 15^-1 mod 26 =', pow(15, -1, 26))\n",
    "\n",
    "# Комбинаторика (често се среща в задачи, но има и други)\n",
    "print('N choose K -> 10 choose 2 =', math.comb(10, 2))\n"
   ]
  },
  {
   "cell_type": "markdown",
   "id": "cb89985b",
   "metadata": {},
   "source": [
    "`math` модулът има още много функции на които няма да се спираме, защото не се използват често:\n",
    "- Тригонометрични функции\n",
    "- Хиперболични функции\n",
    "- Гама функция\n",
    "- Конвертиране между градуси и радиани\n",
    "- Други"
   ]
  },
  {
   "cell_type": "markdown",
   "id": "2661a026",
   "metadata": {},
   "source": [
    "## List\n",
    "\n",
    "Саморазширяващ се списък/масив от елементи. Въпреки името list, структурата е динамичен масив, а не свързан списък."
   ]
  },
  {
   "cell_type": "code",
   "execution_count": null,
   "id": "66b08538",
   "metadata": {},
   "outputs": [],
   "source": [
    "arr = [0] * 10  # инициализиране на списък с 10 елемента O(n)\n",
    "print('Списък с 10 елемента:', arr)\n",
    "\n",
    "arr = list()  # празен списък O(1)\n",
    "arr.clear()  # O(1) еквивалентно на ' = list()'\n",
    "print('Празен списък:', arr)\n",
    "\n",
    "# O(1*) за разлика от конкатенацията на стрингове ('abc' + 'd') която е O(n)\n",
    "arr.append(1)\n",
    "arr.insert(0, -1)  # O(n)\n",
    "arr = [-2] + arr  # O(n) еквивалентно на горното АКО елементите НЕ СА list\n",
    "print('До момента имаме:', arr)\n",
    "\n",
    "arr.reverse()  # O(n)\n",
    "print('Може да обърнем списъка', arr)\n",
    "\n",
    "arr.sort()  # O(n * log n)\n",
    "print('И да го сортираме', arr)\n",
    "\n",
    "last_element = arr.pop()  # O(1)\n",
    "print('pop премахва последния елемент и го връща', arr, last_element)\n"
   ]
  },
  {
   "cell_type": "markdown",
   "id": "7b3d4644",
   "metadata": {},
   "source": [
    "## Dict\n",
    "\n",
    "`dict` е питонската имплементация на Hash-Table. Повечето операции с `dict` са $O(1)$. Изключение правят операциите за обработка на всички елементи, които са $O(n)$.\n",
    "\n",
    "Елементите на `dict` са `key`-`value` (ключ - стойност). Ключът задължително трябва да е от тип, който може да се хешира, стойността може да е всякаква.\n",
    "\n",
    "Забележка: Казваме, че операциите са $O(1)$, но всъщност зависят от размера на ключа. Обикновено ключовете са малки по размер в паметта и за това на повечето места в литературата се казва че операциите са $O(1)$, но ако ключовете ни са стрингове с дължина 100,000 символа, то сложността на операциите не е точно $O(1)$ :)"
   ]
  },
  {
   "cell_type": "code",
   "execution_count": null,
   "id": "18b4f352",
   "metadata": {},
   "outputs": [],
   "source": [
    "my_dict = {}  # Инициализираме празен dict\n",
    "my_dict = dict()  # dict() == {}\n",
    "\n",
    "my_dict['is big'] = 'not'\n",
    "print('dict с 1 елемент', f'{my_dict = }')\n",
    "del my_dict['is big']  # del изтрива елемент\n",
    "print('празен dict след като изтрихме ключа \"is big\"', f'{my_dict = }')\n",
    "# Ако се опитаме да достъпим или изтрием ключ който не\n",
    "# съществува ще гръмнем с KeyError\n",
    "del my_dict['non-existent key']\n"
   ]
  },
  {
   "cell_type": "code",
   "execution_count": null,
   "id": "0c8db109",
   "metadata": {},
   "outputs": [],
   "source": [
    "# Итериране по dict\n",
    "person_age = {\n",
    "    'Gosho na pochivka': 25,\n",
    "    'Gosho na fmi': 11001,\n",
    "}\n",
    "\n",
    "result = []\n",
    "for x in person_age:  # == .keys()\n",
    "    result.append(x)\n",
    "print('for x in dict:', result)\n",
    "\n",
    "result = []\n",
    "for x in person_age.keys():\n",
    "    result.append(x)\n",
    "print('for x in dict.keys():', result)\n",
    "\n",
    "result = []\n",
    "for x in person_age.values():\n",
    "    result.append(x)\n",
    "print('for x in dict.values():', result)\n",
    "\n",
    "result = []\n",
    "for x in person_age.items():\n",
    "    result.append(x)\n",
    "print('for x in dict.items():', result)\n"
   ]
  },
  {
   "cell_type": "code",
   "execution_count": null,
   "id": "22e4fe87",
   "metadata": {},
   "outputs": [],
   "source": [
    "# По време на итериране не е позволено да променяме dict\n",
    "palindromes = {\n",
    "    'ami': 'ima',\n",
    "    'pari': 'irap',\n",
    "    'nema': 'amen',\n",
    "}\n",
    "\n",
    "for x in palindromes:\n",
    "    palindromes[x] = 'nali ne mojelo da se promenq e bai xy*'\n",
    "\n",
    "print(palindromes)\n",
    "\n",
    "for x in palindromes:\n",
    "    del palindromes[x]  # промяна върху ключовете не работи :(\n"
   ]
  },
  {
   "cell_type": "code",
   "execution_count": null,
   "id": "f2f12997",
   "metadata": {},
   "outputs": [],
   "source": [
    "print('въпреки грешката на предишната стъпка изтрихме 1 ключ (на рандъм)', palindromes)\n",
    "\n",
    "# Тъй като не може да променяме dict докато итерираме ще трябва да създадем нов\n",
    "changed = {k: 'shte si napravq moi dict togava'\n",
    "           for k, _ in palindromes.items() if k != 'pari'}\n",
    "print(changed)\n"
   ]
  },
  {
   "cell_type": "code",
   "execution_count": null,
   "id": "b084fa9c",
   "metadata": {},
   "outputs": [],
   "source": [
    "# Задача\n",
    "\n",
    "my_list = [1,2,3,4,5]\n",
    "my_dict = {1:'a', 2:'b', 3:'c', 4:'d', 5:'e'}\n",
    "\n",
    "# Коя операция е по-бърза\n",
    "if 4 in my_list:\n",
    "    print('list')\n",
    "if 4 in my_dict:\n",
    "    print('dict')\n",
    "\n",
    "\"\"\"Изпълни клетката за хинт\"\"\"\n",
    "import base64\n",
    "print(base64.b64decode(\n",
    "    '0J7Qv9C10YDQsNGC0L7RgNGK0YIgaW4g0LLRitGA'\n",
    "    '0YXRgyBsaXN0INC1IE8obiksINCwINCy0YrRgNGF'\n",
    "    '0YMgZGljdCDQtSBPKDEqKQ=='.encode()).decode())\n"
   ]
  },
  {
   "cell_type": "markdown",
   "id": "d9a75ade",
   "metadata": {},
   "source": [
    "### Defaultdict\n",
    "\n",
    "`defaultdict` живее в модула `collections`. Има същата функционалност като `dict`, но при инициализация трябва да окажем от какъв тип ще са стойностите. При достъпване на ключ, който не съществува, ще се създаде ключа и стойност - дефолтен обект от типа, който задаваме при инициализация.\n",
    "\n",
    "Обикновено го използваме за удобство - не е нужно да проверяваме дали стойността зад някой ключ е инициализирана."
   ]
  },
  {
   "cell_type": "code",
   "execution_count": null,
   "id": "7d1bc25c",
   "metadata": {},
   "outputs": [],
   "source": [
    "from collections import defaultdict\n",
    "\n",
    "my_default_dict = defaultdict(list)\n",
    "print(my_default_dict)\n",
    "my_default_dict['what']\n",
    "print('дори само с достъпване на ключа създаваме дефолтен обект', my_default_dict)\n",
    "\n",
    "del my_default_dict['what']\n",
    "for index, char in enumerate('this is a string'):\n",
    "    my_default_dict[char].append(index)  # Това ще изгърми с нормален dict\n",
    "\n",
    "my_default_dict\n"
   ]
  },
  {
   "cell_type": "markdown",
   "id": "29fa6e20",
   "metadata": {},
   "source": [
    "### Counter\n",
    "\n",
    "`Counter` е още един под-клас на `dict`. При инициализация може да се подаде колекция (или друг обект който може да се итерира и елементите му могат да се хешират), която бива итерирана и елементите ѝ се преброяват.\n",
    "Елементите на колекцията стават ключове, а стойностите са колко пъти даден елемент е срещнат в колекцията."
   ]
  },
  {
   "cell_type": "code",
   "execution_count": null,
   "id": "7e0930a9",
   "metadata": {},
   "outputs": [],
   "source": [
    "from collections import Counter\n",
    "\n",
    "Counter('string isn\\'t a collection, but it\\'s iterable')\n"
   ]
  },
  {
   "cell_type": "markdown",
   "id": "509ada2d",
   "metadata": {},
   "source": [
    "## Set\n",
    "\n",
    "`set` е `dict`, който има само ключове, стойностите не ни интересуват. Добавяне/премахване/проверка дали елемент е в сет-а се случва за $O(1)$\n",
    "\n",
    "`set` се използва по-рядко от `dict`, и основно за да намерим уникалните елементи на колекция."
   ]
  },
  {
   "cell_type": "code",
   "execution_count": null,
   "id": "169ac65e",
   "metadata": {},
   "outputs": [],
   "source": [
    "uniques = set()  # няма по-кратък начин за инициализране на сет, както {} за dict\n",
    "# Може директно да го инициализираме от колекция\n",
    "uniques = set([1, 2, 3, 3, 3, 3, 3, 3])\n",
    "print('инициализация от колекция', uniques)\n",
    "\n",
    "uniques.add(1)  # добавяме елемент\n",
    "print('елемент, който вече е в сета няма да се добави отново', uniques)\n",
    "\n",
    "print('Може да обединим 2 сета', set([1, 2, 3]).union(set([2, 3, 4])))\n",
    "print('Може да вземем само общите елементи', set([1, 2, 3]) & set([2, 3, 4]))\n",
    "print('Може да вземем елементите които не са общи',\n",
    "      set([1, 2, 3]) ^ set([2, 3, 4]))\n",
    "print('Може да проверим дали даден елемент е в сета: 5 in [1,2,3]?', 5 in set(\n",
    "    [1, 2, 3]))\n"
   ]
  },
  {
   "cell_type": "code",
   "execution_count": null,
   "id": "a55a0014",
   "metadata": {},
   "outputs": [],
   "source": [
    "# Задача: колко различни букви са използвани в следния стринг\n",
    "# 'The quick brown fox jumps over the lazy dog'\n",
    "\n",
    "import base64\n",
    "print(base64.b64decode(\n",
    "    'bGVuKHNldCgKICAgICdUaGUgcXVpY2sgYnJvd24gZm9'\n",
    "    '4IGp1bXBzIG92ZXIgdGhlIGxhenkgZG9nJwogICAgLm'\n",
    "    'xvd2VyKCkKICAgIC5yZXBsYWNlKCcgJywgJycpCikpC'\n",
    "    'g=='.encode()).decode())\n"
   ]
  },
  {
   "cell_type": "markdown",
   "id": "c720a0bd",
   "metadata": {},
   "source": [
    "### Frozenset\n",
    "\n",
    "`frozenset` = immutable `set`. Immutability носи плюсове и минуси:\n",
    "- (+) може да хешираме сета (да го използваме като ключ в `dict` или да го добавим в друг `set`)\n",
    "- (-) не може да го променяме (да добавяме/премахваме елементи)"
   ]
  },
  {
   "cell_type": "code",
   "execution_count": null,
   "id": "ae3dabea",
   "metadata": {},
   "outputs": [],
   "source": [
    "my_dict = {\n",
    "    set([1, 2, 3]): 'sets are unhashable, trust me',\n",
    "}\n"
   ]
  },
  {
   "cell_type": "code",
   "execution_count": null,
   "id": "6ab67cf8",
   "metadata": {},
   "outputs": [],
   "source": [
    "numbers = set([1, 2, 3])\n",
    "\n",
    "my_dict = {\n",
    "    frozenset(numbers): 'my password',\n",
    "    frozenset('characters'): 'ако подадем string, ще конструираме set от буквите'\n",
    "}\n",
    "my_dict\n"
   ]
  },
  {
   "cell_type": "markdown",
   "id": "94458c72",
   "metadata": {},
   "source": [
    "## Stack\n",
    "\n",
    "`stack` (стак/стек) е LIFO (Last In First Out) структура, която ни позволява бърз достъп до последния добавен елемент. В Python няма клас `Stack`, защото `list` има всички необходими методи.\n",
    "\n",
    "![](https://i.imgur.com/IDr4JQL.png)"
   ]
  },
  {
   "cell_type": "code",
   "execution_count": null,
   "id": "19af25e0",
   "metadata": {},
   "outputs": [],
   "source": [
    "stack = []\n",
    "for x in range(100):\n",
    "    stack.append(x)\n",
    "\n",
    "first10 = 0\n",
    "for i in range(10):\n",
    "    first10 += stack.pop()  # Достъп до последния елемент е О(1)\n",
    "\n",
    "print('Сумата на първите 10 елемента е: ', first10)  # sum(100 до 90) = 945\n"
   ]
  },
  {
   "cell_type": "markdown",
   "id": "abaa17d3",
   "metadata": {},
   "source": [
    "## Queue\n",
    "\n",
    "`queue` е thread-safe имплементация на опашка (FIFO). Може да я създадем с ограничен размер `Queue(maxsize=42)` - ако се напълни и се пробваме да добавим нов елемент ще се блокира нишката. `maxsize=0` означава че няма лимит и ще се разширява докато имаме памет.\n",
    "\n",
    "Ако работим в multithreaded среда, то операциите като `qsize()`, `empty()`, `full()` и повечето други нямат гаранции, че връщат винаги точен резултат. Резултатът е близък до точен, но няма гаранция.\n",
    "\n",
    "Пример: Ако имаме опашка която е пълна и от 1 нишка извикаме `full()` докато се изпълнява `full` може някоя друга нишка да извика `get()` и да премахне елемент - съответно ще получим `True` когато трябва да е `False`.\n",
    "\n",
    "![](https://i.imgur.com/c8rMyYo.png)\n"
   ]
  },
  {
   "cell_type": "code",
   "execution_count": null,
   "id": "5b0f5ce9",
   "metadata": {},
   "outputs": [],
   "source": [
    "import queue\n",
    "\n",
    "que = queue.Queue()\n",
    "for x in range(100):\n",
    "    que.put(x)\n",
    "\n",
    "print('Елементите ги борим с qsize: ', que.qsize())\n",
    "\n",
    "total = 0\n",
    "while not que.empty():  # Работим на 1 нишка така че това е детерминистично\n",
    "    total += que.get()\n",
    "\n",
    "print('Сумата на всички елементи е: ', total)\n",
    "\n",
    "for x in range(100):\n",
    "    que.put(x)\n",
    "\n",
    "first10 = 0\n",
    "for i in range(10):\n",
    "    first10 += que.get()\n",
    "\n",
    "print('Сумата на първите 10 елемента е: ', first10)  # sum(1 до 10) = 45\n"
   ]
  },
  {
   "cell_type": "markdown",
   "id": "837a8bd5",
   "metadata": {},
   "source": [
    "## PriorityQueue\n",
    "\n",
    "Какво правим ако искаме опашка, но елементите да са поддедени по някакъв приоритет, не по реда в който ги добавяме? - тадаа `PriorityQueue` 🎉\n",
    "\n",
    "`PriorityQueue` предоставя добавяне/премахване на елемент за $O(logn)$ и достъп до най-малкия елемент за $O(1)$."
   ]
  },
  {
   "cell_type": "code",
   "execution_count": null,
   "id": "0628e977",
   "metadata": {},
   "outputs": [],
   "source": [
    "import queue\n",
    "import random\n",
    "\n",
    "numbers = list(range(1, 11))  # [1, 2, ... 10]\n",
    "random.shuffle(numbers)\n",
    "print('Разбъркваме числата с random.shuffle()', numbers)\n",
    "\n",
    "que = queue.PriorityQueue()\n",
    "for x in numbers:\n",
    "    que.put(x)\n",
    "print('Данните не са подредени в реда в който ги добавяме, но 1 винаги е в началото:',\n",
    "      que.queue)\n",
    "\n",
    "top3 = []\n",
    "for i in range(3):\n",
    "    top3.append(que.get())\n",
    "\n",
    "print('Приоритетната опашка връща елементите от най-малък към най-голям', top3)\n"
   ]
  },
  {
   "cell_type": "markdown",
   "id": "4e4eb2ca",
   "metadata": {},
   "source": [
    "За съжаление не е възможно да използваме custom функция за сравнение за да направим Max Heap.\n",
    "\n",
    "Има 2 начина да решим такава задача, единият е да създаваме клас, който да имплементира `__lt__`/`__gt__`, и `__eq__`.\n",
    "Вторият ще разгледаме в следващата клетка.\n",
    "\n",
    "But you know - if you like it hard I won't stop you - https://stackoverflow.com/questions/57487170/is-it-possible-to-pass-a-comparator-to-a-priorityqueue-in-python"
   ]
  },
  {
   "cell_type": "markdown",
   "id": "e9f3c36f",
   "metadata": {},
   "source": [
    "## heapq\n",
    "\n",
    "`heapq` предоставя основните методи за работа с приоритетни опашки поотделно. Тоест, не е нужно да ползваме цялата функционалност на `PriorityQueue`, а може да използваме само 1 от методите - например `heapq.heapify`.\n",
    "\n",
    "tl;dr как работи приоритетна опашка?\n",
    "\n",
    "1. Ковертираме произволен масив до `heapq.heapify()` $O(n)$\n",
    "2. Ако искаме да добавим елемент използваме `heapq.heappush()` $O(log n)$\n",
    "3. Ако искаме да извадим елемент използваме `heapq.heappop()` $O(log n)$"
   ]
  },
  {
   "cell_type": "code",
   "execution_count": null,
   "id": "11382bd8",
   "metadata": {},
   "outputs": [],
   "source": [
    "import heapq\n",
    "import random\n",
    "\n",
    "numbers = list(range(1, 11))  # [1, 2, ... 10]\n",
    "random.shuffle(numbers)\n",
    "print('Разбъркваме числата с random.shuffle()', numbers)\n",
    "\n",
    "heapq.heapify(numbers)  # по-бързо от добавянето на елементи 1 по 1\n",
    "print('Данните не са подредени в реда в който ги вкарваме, но 1 винаги е в началото:',\n",
    "      numbers)\n",
    "\n",
    "# Добавянето на нов по-малък елемент ще го постави в началото\n",
    "heapq.heappush(numbers, 0)\n",
    "print('0 винаги е в началото:', numbers)\n",
    "\n",
    "top3 = []\n",
    "for i in range(3):\n",
    "    top3.append(heapq.heappop(numbers))\n",
    "\n",
    "print('Приоритетната опашка връща елементите от най-малък към най-голям', top3)\n"
   ]
  },
  {
   "cell_type": "markdown",
   "id": "3db608aa",
   "metadata": {},
   "source": [
    "## deque\n",
    "\n",
    "Ако ни трябва опашка + стек, тоест искаме $O(1*)$ за добавяне/премахване на елемент в началото използваме `deque`. Обикновено се имплементира върху Circular Array."
   ]
  },
  {
   "cell_type": "code",
   "execution_count": null,
   "id": "209e0b74",
   "metadata": {},
   "outputs": [],
   "source": [
    "from collections import deque\n",
    "\n",
    "deq = deque(['опашка ли съм', 'ʞǝꓕɔ иѵи'])\n",
    "deq.insert(1, '¿?')  # Добавянето на елемент на произволна позиция е О(n)\n",
    "print(deq)\n",
    "\n",
    "deq.append('у десно')\n",
    "deq.append('у десно (1)')\n",
    "deq.appendleft('у лево')\n",
    "\n",
    "print(deq)\n",
    "print('последният елемент за О(1):', deq.pop())\n",
    "print('първият елемент за О(1):', deq.popleft())\n"
   ]
  },
  {
   "cell_type": "code",
   "execution_count": null,
   "id": "2c7737f4",
   "metadata": {},
   "outputs": [],
   "source": [
    "# Интересно приложение на deque е имплементирането на round robin\n",
    "def roundrobin(*iterables):\n",
    "    \"roundrobin('ABC', 'D', 'EF') --> A D E B F C\"\n",
    "    iterators = deque(map(iter, iterables))\n",
    "    while iterators:\n",
    "        try:\n",
    "            while True:\n",
    "                yield next(iterators[0])\n",
    "                iterators.rotate(-1)\n",
    "        except StopIteration:\n",
    "            iterators.popleft()\n"
   ]
  },
  {
   "cell_type": "code",
   "execution_count": null,
   "id": "e4c2807b",
   "metadata": {},
   "outputs": [],
   "source": [
    "# Задача\n",
    "# Имаме следната имплементация на BFS. Как може да я обърнем до DFS?\n",
    "\n",
    "from collections import deque\n",
    "\n",
    "graph = {\n",
    "    'A': ['B', 'C'],\n",
    "    'B': ['D', 'E'],\n",
    "    'C': ['F'],\n",
    "    'D': [],\n",
    "    'E': ['F'],\n",
    "    'F': []\n",
    "}\n",
    "\n",
    "def bfs(graph, start):\n",
    "  visited = set()\n",
    "  que = deque()\n",
    "  visited.add(start)\n",
    "  que.append(start)\n",
    "\n",
    "  while que:\n",
    "    s = que.popleft()\n",
    "    print(s, end=\" \")\n",
    "\n",
    "    for neighbor in graph[s]:\n",
    "      if neighbor not in visited:\n",
    "        visited.add(neighbor)\n",
    "        que.append(neighbor)\n",
    "\n",
    "print(base64.b64decode('0JfQsNC80LXQvdGP0LzQsCBkZXF1ZS5wb3BsZWZ0KCk'\n",
    "  'g0YEgZGVxdWUucG9wKCk='.encode()).decode())\n"
   ]
  },
  {
   "cell_type": "markdown",
   "id": "fe2a4ba0",
   "metadata": {},
   "source": [
    "## Algorithms & Oddities"
   ]
  },
  {
   "cell_type": "markdown",
   "id": "d74348c2",
   "metadata": {},
   "source": [
    "## Binary Search\n",
    "\n",
    "Бързо ($O(logn)$) търсене в сортиран масив.\n",
    "\n",
    "`bisect_left` = кой е първият индекс на който може да поставим елемента, за да се запази подредбата?\n",
    "\n",
    "`bisect_right` = кой е последният индекс на който може да поставим елемента, за да се запази подредбата?"
   ]
  },
  {
   "cell_type": "code",
   "execution_count": null,
   "id": "5f35c64f",
   "metadata": {},
   "outputs": [],
   "source": [
    "import bisect\n",
    "numbers = [0, 1, 2, 4, 4, 4, 4, 7, 8, 9]\n",
    "#          0  1  2  3  4  5  6  7  8  9\n",
    "\n",
    "print('Ако елемента съществува, връща индекса на първото срещане',\n",
    "      bisect.bisect_left(numbers, 4))\n",
    "print('Ако елемента съществува, връща първия индекс след последното срещане',\n",
    "      bisect.bisect_right(numbers, 4))\n",
    "\n",
    "print('Ако елемента не съществува, връща индекса на първото срещане',\n",
    "      bisect.bisect_left(numbers, 5))\n",
    "print('Ако елемента не съществува, връща първия индекс след последното срещане',\n",
    "      bisect.bisect_right(numbers, 5))\n"
   ]
  },
  {
   "cell_type": "code",
   "execution_count": null,
   "id": "c6330897",
   "metadata": {},
   "outputs": [],
   "source": [
    "# Задача\n",
    "# В сортиран list от числа, напишете функция, която намира броя на срещанията на някое число\n",
    "\n",
    "print(base64.b64decode('ZGVmIGNvdW50X29jY3VycmVuY2VzKGhh'\n",
    "    'eXN0YWNrLCBuZWVkbGUpOgogICAgYmlzZWN0LmJpc2VjdF9yaWd'\n",
    "    'odChoYXlzdGFjaywgbmVlZGxlKSAtIGJpc2VjdC5iaXNlY3RfbG'\n",
    "    'VmdChoYXlzdGFjaywgbmVlZGxlKQo='.encode()).decode())\n"
   ]
  },
  {
   "cell_type": "markdown",
   "id": "f5ee1917",
   "metadata": {},
   "source": [
    "## Copy & Deepcopy\n",
    "\n",
    "Python подава аргументите на функциите по референция, така че може да ги променяме. Това не е винаги желаното поведение, така че Python предоставя 2 метода за копиране да обекти.\n"
   ]
  },
  {
   "cell_type": "code",
   "execution_count": null,
   "id": "6e1362bc",
   "metadata": {},
   "outputs": [],
   "source": [
    "from copy import copy, deepcopy\n",
    "\n",
    "def reset_tree():\n",
    "    return {\n",
    "        'value': 'parent',\n",
    "        'child': {\n",
    "            'value': 'child',\n",
    "        }\n",
    "    }\n"
   ]
  },
  {
   "cell_type": "code",
   "execution_count": null,
   "id": "00561dd1",
   "metadata": {},
   "outputs": [],
   "source": [
    "def level_up(root):\n",
    "    tree = root  # Това не прави нищо, само преименува променливата\n",
    "    tree['child']['value'] = 'super child'\n",
    "    return tree\n",
    "\n",
    "tree = reset_tree()\n",
    "same = level_up(tree)\n",
    "print(tree)\n",
    "print(same)\n",
    "print('Когато подаваме елемент по референция във функцията работим със същия елемент')\n",
    "print(f'{id(tree) = } == {id(same) = }')\n"
   ]
  },
  {
   "cell_type": "code",
   "execution_count": null,
   "id": "be31740f",
   "metadata": {},
   "outputs": [],
   "source": [
    "def level_up_swallow(root):\n",
    "    tree = copy(root)\n",
    "    tree['child']['value'] = 'super child'\n",
    "    return tree\n",
    "\n",
    "tree = reset_tree()\n",
    "same_but_different_but_same = level_up_swallow(tree)\n",
    "print(tree)\n",
    "print(same_but_different_but_same)\n",
    "print('(shallow) copy копира обекта, но не копира обектите в него')\n",
    "print(f'{id(tree) = } != {id(same_but_different_but_same) = }')\n"
   ]
  },
  {
   "cell_type": "code",
   "execution_count": null,
   "id": "6b92698c",
   "metadata": {},
   "outputs": [],
   "source": [
    "def level_up_deep(root):\n",
    "    tree = deepcopy(root)\n",
    "    tree['child']['value'] = 'super child'\n",
    "    return tree\n",
    "\n",
    "tree = reset_tree()\n",
    "different = level_up_deep(tree)\n",
    "print(tree)\n",
    "print(different)\n",
    "print('deepcopy създава копие, на обекта и рекурсивно на обектите в него')\n",
    "print(f'{id(tree) = } != {id(different) = }')\n"
   ]
  },
  {
   "cell_type": "markdown",
   "id": "e780dfcc",
   "metadata": {},
   "source": [
    "## Random\n",
    "\n",
    "`random` модулът предоставя методи за избиране на случаен елемент, случайно число, случайни битове и тн.\n",
    "\n",
    "Обикновено се използва за тестове (генериране на вход/изход).\n",
    "\n",
    "За криптографски задачи (криптиране на данни, пароли, генериране на токени и тн), не трябва да се\n",
    "използва `random`, а `secrets` модула. За да не навлизаме в разликите, нека да кажем че `secrets` генерира\n",
    "по-рандъм изход от `random` модула :)"
   ]
  },
  {
   "cell_type": "code",
   "execution_count": null,
   "id": "4deda82f",
   "metadata": {},
   "outputs": [],
   "source": [
    "import random\n",
    "\n",
    "# random модулът може да приеме начална стойност, която се използва\n",
    "# в рандъм алгоритмите, за да върне детерминистичен изход.\n",
    "# Обикновено се използва за да може даден експеримент/тест да се репродуцира\n",
    "random.seed(42)\n",
    "\n",
    "# Това е рандъм число, но заради seed = 42, винаги ще върне 82 в този notebook\n",
    "random.randint(1, 100)\n"
   ]
  },
  {
   "cell_type": "code",
   "execution_count": null,
   "id": "e768b1f8",
   "metadata": {},
   "outputs": [],
   "source": [
    "import random\n",
    "\n",
    "print('рандъм float', random.random())\n",
    "\n",
    "print('randint [0,1]:', random.randint(0, 1))\n",
    "# Някои методи в random работят със затворени, някой с отворени интервали.\n",
    "# Добре е да се провери преди използването им\n",
    "print('randrange [0,1) не е много рандъм:', random.randrange(0, 1))\n",
    "# randrange(a,b) = randint(a,b-1)\n",
    "\n",
    "# Ако имаме колекция от елементи може да използваме choice, за да изберем произволен\n",
    "# Алтернативният метод е да използваме random.randrange(0, len(collection))\n",
    "print('Епа кот дойде:', random.choice(['fuck', 'marry', 'kill']))\n",
    "\n",
    "# Може да задаваме и тежести - 50% ще е първият елемент, 25% втория и 25% третия\n",
    "print('Понякога рандъм изборът не е много рандъм',\n",
    "      random.choices(\n",
    "          ['boiko', 'pak boiko', 'totally not boiko'],\n",
    "          weights=[2, 1, 1]\n",
    "      ))\n",
    "\n",
    "# Понякога трябва да разбъркаме някяква колекция. Например преди да правим quicksort\n",
    "numbers = list(range(1, 11))\n",
    "random.shuffle(numbers)\n",
    "print('shuffle:', numbers)\n",
    "\n",
    "# При експерименти или когато имаме много данни искаме да изберем произволна подгрупа\n",
    "print('Избор на 2 елемента без повторения:', random.sample(numbers, 2))\n"
   ]
  },
  {
   "cell_type": "code",
   "execution_count": null,
   "id": "a23a3d92",
   "metadata": {},
   "outputs": [],
   "source": [
    "%%capture\n",
    "import random\n",
    "# За пълнота трябва да споменем, че random модулът има имплементация на\n",
    "# повечето видови разпределения от статистиката, но няма да навлизаме в подробности\n",
    "\n",
    "\n",
    "random.uniform(1, 10)\n",
    "random.gauss(1, 2)\n",
    "random.expovariate(1)\n",
    "random.gammavariate(10, 1)\n",
    "random.normalvariate(5, 1)\n"
   ]
  },
  {
   "cell_type": "markdown",
   "id": "1e662300",
   "metadata": {},
   "source": [
    "## Itertools\n",
    "\n",
    "`itertools` модулът предоставя методи улесняващи итерацията по елементи и често използвани конструкции. Вече сме виждали някой подобни функции като `map`/`filter`.\n",
    "\n",
    "Функциите са доста и улесняват писането на цикли и особено вложени цикли, но понякога отнема повече време да намерим правилната функция от колкото да напишем кода от 0.\n",
    "\n",
    "Целият списък е [тук](https://docs.python.org/3/library/itertools.html) като има разширение на стандартната библиотека от [more-itertools](https://pypi.org/project/more-itertools/) пакета."
   ]
  },
  {
   "cell_type": "code",
   "execution_count": null,
   "id": "8b020ac8",
   "metadata": {},
   "outputs": [],
   "source": [
    "import itertools\n",
    "\n",
    "# Итератор, който се връща в началото на списъка като се изчерпи.\n",
    "# Наподобява Ring Buffer\n",
    "cycle = itertools.cycle('ABC')\n",
    "for _ in range(10):\n",
    "    print(next(cycle), end=', ')\n",
    "print()\n",
    "\n",
    "# Итератор, който обединява няколко итератора/колекции\n",
    "# Може да го използваме за да flatten-нем списък от списъци\n",
    "for x in itertools.chain('first', ' ', 'second'):\n",
    "    print(x, end=',')\n",
    "print()\n",
    "\n",
    "# Към всеки елемент от списъка се прибавя сумата на всички предишни елементи\n",
    "print(list(itertools.accumulate([-20, +10, +30, -5])))\n",
    "# Може да го използваме за да генерираме всички префикси на дума\n",
    "print(list(itertools.accumulate('construct')))\n",
    "\n",
    "# Генериране на всички уникални двойки. Еквивалентно на 2 вложени цикъла\n",
    "print(list(itertools.combinations('ABC', 2)))\n",
    "\n",
    "# Генериране на всички съседни двойки\n",
    "print(list(itertools.pairwise([1, 5, 7, 10])))\n",
    "\n",
    "# Всички пермутации\n",
    "print(list(itertools.permutations([0, 1, 2])))\n",
    "\n",
    "# A x B - декартово произведение\n",
    "print(list(itertools.product([1, 2, 3], 'ABC')))\n"
   ]
  },
  {
   "cell_type": "markdown",
   "id": "8e10470d",
   "metadata": {},
   "source": [
    "## JSON\n",
    "\n",
    "Друг популярен формат на данни е JSON ... Разбира се в Python има модул `json`."
   ]
  },
  {
   "cell_type": "code",
   "execution_count": null,
   "id": "55e6c0e3",
   "metadata": {},
   "outputs": [],
   "source": [
    "import json\n",
    "\n",
    "my_dict = json.loads('{\"foo\": {\"bar\":[\"baz\", null, 1.0, 2]}}')\n",
    "print('От стринг конструирахме dict, който може да използваме:',\n",
    "      my_dict['foo']['bar'])\n",
    "\n",
    "print('Обратната операция на сериализиране е удобна за принтене на дебъг съобщения')\n",
    "print(json.dumps(my_dict, sort_keys=True, indent=4))\n"
   ]
  },
  {
   "cell_type": "markdown",
   "id": "804abb86",
   "metadata": {},
   "source": [
    "# Type Hints"
   ]
  },
  {
   "cell_type": "markdown",
   "id": "37185d04",
   "metadata": {},
   "source": [
    "## Динамично vs. статично типизиране. Round 2\n",
    "\n",
    "Динамичното типизиране позволява гъвкавост, но това идва и със своите недостатъци от гледна точка на поддръжката и четимостта на кода.\n",
    "\n",
    "Например, ако имаме следната функция:"
   ]
  },
  {
   "cell_type": "code",
   "execution_count": null,
   "id": "cca3fde2",
   "metadata": {},
   "outputs": [],
   "source": [
    "def validate_serial_number(serial_number):\n",
    "    pass  # definition is irrelevant for this example"
   ]
  },
  {
   "cell_type": "markdown",
   "id": "ff64f848",
   "metadata": {},
   "source": [
    "Ако нямаме поглед над имплементацията на функцията (или пък имаме, но не е тривиално да се прецени точно имплементацията с какви типове борави), то тогава как да разберем `serial_number` дали да ѝ го подадем като `int` или `str`? Или пък може да е `list` от `int`-ове дори?\n",
    "\n",
    "Също така, от името на функцията не става много ясно тя какво връща - дали не връща нищо, а само изпълнява проверки и странични ефекти, или пък проверява валидността на номера и връща `bool`, или пък връща някакъв тип за грешка при неуспех, а `None` при успех?"
   ]
  },
  {
   "cell_type": "markdown",
   "id": "0d9a6395",
   "metadata": {},
   "source": [
    "## Type Hints and `mypy`"
   ]
  },
  {
   "cell_type": "markdown",
   "id": "c73d9330",
   "metadata": {},
   "source": [
    "От Python 3.5 насам можем да пишем \"подсказки\" за очаквания тип (или очакваните типове, в случай че са повече от един).\n",
    "\n",
    "В случая функцията можем да я анотираме по следния начин:"
   ]
  },
  {
   "cell_type": "code",
   "execution_count": null,
   "id": "3cba4d2a",
   "metadata": {},
   "outputs": [],
   "source": [
    "def validate_serial_number(serial_number: str) -> bool:\n",
    "    pass  # ..."
   ]
  },
  {
   "cell_type": "markdown",
   "id": "65f48e77",
   "metadata": {},
   "source": [
    "Трябва да се отбележи, че тези анотации са само hints (\"подсказки\" за програмиста), т.е. не получаваме поведението на статично типизираните езици, тъй като интерпретатора не следи за спазването на анотациите:"
   ]
  },
  {
   "cell_type": "code",
   "execution_count": null,
   "id": "4d4b46bd",
   "metadata": {},
   "outputs": [],
   "source": [
    "def add(a: int, b: int) -> int:\n",
    "    return a + b\n",
    "\n",
    "print(\"Passing `int`: \", add(1, 2))\n",
    "print(\"Passing `str`: \", add(\"1\", \"2\"))"
   ]
  },
  {
   "cell_type": "markdown",
   "id": "e9817bd8",
   "metadata": {},
   "source": [
    "## Синтаксис и особености на анотациите"
   ]
  },
  {
   "cell_type": "markdown",
   "id": "bb3eba93",
   "metadata": {},
   "source": [
    "*Забележка*: По общоприета питонска конвенция за стил, интервали около `=` на именованите аргументи се слагат ако има анотация, но се пропускат ако няма:\n",
    "\n",
    "ОК:\n",
    "```python\n",
    "def foo(a: int, b: int = 0) -> int:\n",
    "    return a + b\n",
    "\n",
    "def foo(a, b=0):\n",
    "    return a + b\n",
    "```\n",
    "\n",
    "Not quite OK:\n",
    "\n",
    "```python\n",
    "def foo(a: int, b: int=0) -> int:\n",
    "    return a + b\n",
    "\n",
    "def foo(a, b = 0):\n",
    "    return a + b\n",
    "```"
   ]
  },
  {
   "cell_type": "markdown",
   "id": "2851ed82",
   "metadata": {},
   "source": [
    "*Забележка 2*: Възможна е анотация на имe без да му бъде присвоявана стойност. Опитът за достъп обаче преди да му бъде присвоена такава впоследствие ще доведе до грешка, понеже още не е дефинирана:"
   ]
  },
  {
   "cell_type": "code",
   "execution_count": null,
   "id": "000e9eef",
   "metadata": {},
   "outputs": [],
   "source": [
    "name: str\n",
    "\n",
    "print(name)"
   ]
  },
  {
   "cell_type": "markdown",
   "id": "ef33c281",
   "metadata": {},
   "source": [
    "## Анотиране на различните вградени типове"
   ]
  },
  {
   "cell_type": "markdown",
   "id": "18ba5d15",
   "metadata": {},
   "source": [
    "Както видяхме, използваме самият тип за да го анотираме, т.е. `bool`, `int`, `float`, `complex`, `str`, `bytes`, `None` и т.н. са валидни в анотации. (да, `None` освен стойност, е и тип сам по себе си)"
   ]
  },
  {
   "cell_type": "code",
   "execution_count": null,
   "id": "70a3ac1e",
   "metadata": {},
   "outputs": [],
   "source": [
    "def i_wanna_print(something: str, terminator: str = \"\\n\") -> None:\n",
    "    print(something, end=terminator)\n",
    "\n",
    "def extract_nums_from_input_row(row: str) -> list:\n",
    "    return list(map(int, row.split()))"
   ]
  },
  {
   "cell_type": "markdown",
   "id": "373732d0",
   "metadata": {},
   "source": [
    "Във функцията `extract_nums_from_input_row` в горният пример обаче не знаем всичко за return типа. Знаем, че е `list`, но лист от какво?"
   ]
  },
  {
   "cell_type": "markdown",
   "id": "715131d8",
   "metadata": {},
   "source": [
    "Проблемът с такива generic типове като `list`, `tuple`, `dict`, `set` и т.н. решаваме като укажем типа на елементите в тях в квадратни скоби. От Python 3.9 насам можем директно да ползваме builtin типовете, но за версии 3.5 до 3.8 вкл. трябва да импортнем подходящите класове от `typing` модула:"
   ]
  },
  {
   "cell_type": "code",
   "execution_count": null,
   "id": "71ed697a",
   "metadata": {},
   "outputs": [],
   "source": [
    "# Python 3.5 to 3.8\n",
    "\n",
    "from typing import List, Tuple, Dict\n",
    "\n",
    "def extract_nums_from_input_row(row: str) -> List[int]:\n",
    "    return list(map(int, row.split()))\n",
    "\n",
    "def dot_product(a: Tuple[int, int, int], b: Tuple[int, int, int]) -> int:\n",
    "    return sum(x * y for x, y in zip(a, b))\n",
    "\n",
    "def bind_names_to_ages(names: List[str], ages: List[int]) -> Dict[str, int]:\n",
    "    return dict(zip(names, ages))"
   ]
  },
  {
   "cell_type": "code",
   "execution_count": null,
   "id": "81d72dc0",
   "metadata": {},
   "outputs": [],
   "source": [
    "# Python 3.9+\n",
    "\n",
    "def extract_nums_from_input_row(row: str) -> list[int]:\n",
    "    return list(map(int, row.split()))\n",
    "\n",
    "def dot_product(a: tuple[int, int, int], b: tuple[int, int, int]) -> int:\n",
    "    return sum(x * y for x, y in zip(a, b))\n",
    "\n",
    "def bind_names_to_ages(names: list[str], ages: list[int]) -> dict[str, int]:\n",
    "    return dict(zip(names, ages))"
   ]
  },
  {
   "cell_type": "markdown",
   "id": "719c689e",
   "metadata": {},
   "source": [
    "Ако искаме `tuple` да има точно 2 елемента от тип `int` например, можем да го анотираме като `tuple[int, int]`. Ако искаме да има произволен брой елементи от тип `int`, можем да го анотираме като `tuple[int, ...]`."
   ]
  },
  {
   "cell_type": "code",
   "execution_count": null,
   "id": "9c9f0b89",
   "metadata": {},
   "outputs": [],
   "source": [
    "def calculate_polynomial(coefficients: tuple[float, ...], x: float) -> float:\n",
    "    return sum(k * (x ** n) for n, k in enumerate(reversed(coefficients)))"
   ]
  },
  {
   "cell_type": "markdown",
   "id": "4c5d49e2",
   "metadata": {},
   "source": [
    "При указване на `*args` и/или `**kwargs` е нужно да укажем само типа на съответните елементи, без `tuple` или `dict`:"
   ]
  },
  {
   "cell_type": "code",
   "execution_count": null,
   "id": "092fe728",
   "metadata": {},
   "outputs": [],
   "source": [
    "def calculate_polynomial(*coefficients: float, x: float) -> float:\n",
    "    return sum(k * (x ** n) for n, k in enumerate(reversed(coefficients)))"
   ]
  },
  {
   "cell_type": "markdown",
   "id": "70aeff44",
   "metadata": {},
   "source": [
    "За удобство можем да си създваме alias-и за различни типове, които да ги използваме по-късно:"
   ]
  },
  {
   "cell_type": "code",
   "execution_count": null,
   "id": "d31157df",
   "metadata": {},
   "outputs": [],
   "source": [
    "Vector3D = tuple[float, float, float]\n",
    "\n",
    "def dot_product(a: Vector3D, b: Vector3D) -> float:\n",
    "    return sum(x * y for x, y in zip(a, b))"
   ]
  },
  {
   "cell_type": "markdown",
   "id": "7367f771",
   "metadata": {},
   "source": [
    "В случай, че искаме да анотираме функция, която например подаваме като параметър, ползвамe `Callable`:"
   ]
  },
  {
   "cell_type": "code",
   "execution_count": null,
   "id": "f33158be",
   "metadata": {},
   "outputs": [],
   "source": [
    "from typing import Callable\n",
    "\n",
    "def bubble_sort(arr: list[int], comparator: Callable[[int, int], bool]) -> list[int]:\n",
    "    arr = arr.copy()\n",
    "    for _ in range(len(arr)):\n",
    "        for j in range(len(arr) - 1):\n",
    "            if not comparator(arr[j], arr[j + 1]):\n",
    "                arr[j], arr[j + 1] = arr[j + 1], arr[j]\n",
    "    return arr\n",
    "\n",
    "bubble_sort([1, 2, 3], lambda x, y: x > y)"
   ]
  },
  {
   "cell_type": "markdown",
   "id": "4aeb360e",
   "metadata": {},
   "source": [
    "### `Union` и `Optional`\n",
    "\n",
    "Понякога можем да поддържаме по няколко възможни типа. Целта на `Union` е да \"обедини\" тези типове в един. Например, ако искаме да можем да подаваме и `int` и `str` като аргументи на функция, можем да го анотираме като `Union[int, str]`  или  `Union[str, int]`:"
   ]
  },
  {
   "cell_type": "code",
   "execution_count": null,
   "id": "0aae382a",
   "metadata": {},
   "outputs": [],
   "source": [
    "from typing import Union\n",
    "\n",
    "def is_serial_number_valid(serial_number: Union[str, int]) -> bool:\n",
    "    serial = str(serial_number)\n",
    "    return (\n",
    "        len(serial) == 10 \n",
    "        and serial.isdigit() \n",
    "        and serial[-1] == sum(map(int, serial[:-1])) % 10\n",
    "    )"
   ]
  },
  {
   "cell_type": "markdown",
   "id": "514edc21",
   "metadata": {},
   "source": [
    "От Python 3.10 насам можем да използваме оператора `|` вместо `Union`:"
   ]
  },
  {
   "cell_type": "code",
   "execution_count": null,
   "id": "af1c87a9",
   "metadata": {},
   "outputs": [],
   "source": [
    "def is_serial_number_valid(serial_number: str | int) -> bool:\n",
    "    serial = str(serial_number)\n",
    "    return (\n",
    "        len(serial) == 10 \n",
    "        and serial.isdigit() \n",
    "        and serial[-1] == sum(map(int, serial[:-1])) % 10\n",
    "    )\n",
    "\n",
    "def calculate_polynomial(*coefficients: int | float | complex, x: int | float | complex) -> complex:\n",
    "    return complex(sum(k * (x ** n) for n, k in enumerate(reversed(coefficients))))\n",
    "\n",
    "calculate_polynomial(-1, 5j, 6.9, 0, 94, x=42)"
   ]
  },
  {
   "cell_type": "markdown",
   "id": "bc7b3c8e",
   "metadata": {},
   "source": [
    "Много често се налага да имаме стойност по подразбиране `None` вместо такава на даден тип или пък да връщаме `None` вместо стойност от даден тип. Това е и идеята на `Optional`, който е тип на практика еквивалентен на `Union` с `None`:"
   ]
  },
  {
   "cell_type": "code",
   "execution_count": null,
   "id": "7d4b306a",
   "metadata": {},
   "outputs": [],
   "source": [
    "import hashlib\n",
    "\n",
    "from typing import Optional\n",
    "\n",
    "def hash_password(password: str, salt: Optional[str] = None) -> bytes:\n",
    "    hash = hashlib.sha256(password.encode())\n",
    "    if salt is not None:\n",
    "        hash.update(salt.encode())\n",
    "    return hash.digest()"
   ]
  },
  {
   "cell_type": "code",
   "execution_count": null,
   "id": "9b4d54e7",
   "metadata": {},
   "outputs": [],
   "source": [
    "# Equivalent:\n",
    "\n",
    "import hashlib\n",
    "\n",
    "def hash_password(password: str, salt: str | None = None) -> bytes:\n",
    "    hash = hashlib.sha256(password.encode())\n",
    "    if salt is not None:\n",
    "        hash.update(salt.encode())\n",
    "    return hash.digest()"
   ]
  },
  {
   "cell_type": "markdown",
   "id": "d77db135",
   "metadata": {},
   "source": [
    "### `Any`\n",
    "\n",
    "По подразбиране, ако на променлива/аргумент/return type липсва анотация, то тя/той е от тип `Any`.\n",
    "\n",
    "Ако искаме все пак експлицитно да анотираме даден тип като произволен, то можем да го направим с `Any`. Type-checker-ите няма да хвърлят грешка, който и тип да подаваме като стойност на нещо, което се очаква да е от тип `Any`."
   ]
  },
  {
   "cell_type": "code",
   "execution_count": null,
   "id": "6766fa65",
   "metadata": {},
   "outputs": [],
   "source": [
    "from typing import Any\n",
    "\n",
    "def i_wanna_print(something: Any, terminator: str = \"\\n\") -> None:\n",
    "    print(something, end=terminator)\n",
    "\n",
    "def play_audio(filename: str, options: dict[str, Any]) -> None:\n",
    "    if options[\"BITRATE\"] == 320:\n",
    "        print(\"Playing in high quality\")\n",
    "    \n",
    "    if options[\"LOOP\"] == True:\n",
    "        print(\"Playing in loop\")\n",
    "\n",
    "    #..."
   ]
  },
  {
   "cell_type": "markdown",
   "id": "4d3adb79",
   "metadata": {},
   "source": [
    "### Собствени типове\n",
    "\n",
    "Нашите собствени класове също могат да се използват като типове:"
   ]
  },
  {
   "cell_type": "code",
   "execution_count": null,
   "id": "2b83551f",
   "metadata": {},
   "outputs": [],
   "source": [
    "class Person:\n",
    "    def __init__(self, name: str, age: int) -> None:\n",
    "        self.name = name\n",
    "        self.age = age\n",
    "\n",
    "    def __repr__(self) -> str:\n",
    "        return f\"Person(name={self.name}, age={self.age})\"\n",
    "\n",
    "    def to_dict(self) -> dict[str, Any]:\n",
    "        return {\"name\": self.name, \"age\": self.age}\n",
    "\n",
    "\n",
    "def get_people() -> list[Person]:\n",
    "    return [Person(\"John\", 42), Person(\"Jane\", 37)]"
   ]
  },
  {
   "cell_type": "markdown",
   "id": "0a626cd6",
   "metadata": {},
   "source": [
    "Тук особеното е, че в дефиницията на методи няма нужда да анотираме `self` - той винаги ще е от типа на класа."
   ]
  },
  {
   "cell_type": "markdown",
   "id": "806e84a7",
   "metadata": {},
   "source": [
    "Когато обаче имаме метод, който приема или връща обект от типа на класа, към който е, съществуват особености за различните версии на езика. В Python 3.10 не е грешка да се използва името на класа още в дефиницията му, докато в по-старите версии - е. От Python 3.7+ може да се импортне `from __future__ import annotations`, за да работи това, докато за по-стари версии решението е просто да се напише името на класа като стринг в анотацията."
   ]
  },
  {
   "cell_type": "code",
   "execution_count": null,
   "id": "5c889811",
   "metadata": {},
   "outputs": [],
   "source": [
    "class Person:\n",
    "    def __init__(self, name: str, age: int) -> None:\n",
    "        self.name = name\n",
    "        self.age = age\n",
    "\n",
    "    def __repr__(self) -> str:\n",
    "        return f\"Person(name={self.name}, age={self.age})\"\n",
    "\n",
    "    def to_dict(self) -> dict[str, Any]:\n",
    "        return {\"name\": self.name, \"age\": self.age}\n",
    "\n",
    "    # Python 3.10+ way\n",
    "    # or for Python 3.7-3.9 you also have to add `from __future__ import annotations`\n",
    "    @classmethod\n",
    "    def from_dict(cls, data: dict[str, Any]) -> Person:\n",
    "        return cls(**data)\n",
    "\n",
    "    # Python <3.7 way\n",
    "    @classmethod\n",
    "    def from_dict(cls, data: dict[str, Any]) -> \"Person\":\n",
    "        return cls(**data)"
   ]
  },
  {
   "cell_type": "markdown",
   "id": "d7edd0a1",
   "metadata": {},
   "source": [
    "Можем да си декларираме собствени типове, които да са съставени от други типове. Това се прави с `NewType`:"
   ]
  },
  {
   "cell_type": "code",
   "execution_count": null,
   "id": "9df3e950",
   "metadata": {},
   "outputs": [],
   "source": [
    "from typing import NewType, Optional\n",
    "\n",
    "PersonId = NewType(\"PersonId\", int)\n",
    "\n",
    "class Person:\n",
    "    def __init__(self, id: PersonId, name: str, age: int) -> None:\n",
    "        self.id = id\n",
    "        self.name = name\n",
    "        self.age = age\n",
    "\n",
    "    def __repr__(self) -> str:\n",
    "        return f\"Person(id={self.id}, name={self.name}, age={self.age})\"\n",
    "\n",
    "    def to_dict(self) -> dict[str, Any]:\n",
    "        return vars(self)\n",
    "\n",
    "    @classmethod\n",
    "    def from_dict(cls, data: dict[str, Any]) -> Person:\n",
    "        return cls(**data)\n",
    "\n",
    "def get_person_by_id(id: PersonId, database: list[Person]) -> Optional[Person]:\n",
    "    return next((person for person in database if person.id == id), None)  # `next` has an optional second parameter - default value\n",
    "\n",
    "database = [\n",
    "    Person(PersonId(37), \"Lana Xes\", 18),\n",
    "    Person(PersonId(69), \"Axl Rose\", 60),\n",
    "]\n",
    "\n",
    "print(get_person_by_id(PersonId(37), database))\n",
    "print(get_person_by_id(PersonId(666), database))"
   ]
  },
  {
   "cell_type": "markdown",
   "id": "6e360a24",
   "metadata": {},
   "source": [
    "Тук обаче бихме имали проблем в случай, че имаме наследник на този клас. Например:"
   ]
  },
  {
   "cell_type": "code",
   "execution_count": null,
   "id": "75821744",
   "metadata": {},
   "outputs": [],
   "source": [
    "class Admin(Person):\n",
    "    def __init__(self, id: PersonId, name: str, age: int, can_ban: bool) -> None:\n",
    "        super().__init__(id, name, age)\n",
    "        self.can_ban = can_ban\n",
    "\n",
    "    def __repr__(self) -> str:\n",
    "        return f\"Admin(id={self.id}, name={self.name}, age={self.age}, can_ban={self.can_ban})\"\n",
    "\n",
    "    def ban(self, person: Person) -> None:\n",
    "        if self.can_ban:\n",
    "            print(f\"{self.name} is banning {person.name}.\")\n",
    "        else:\n",
    "            print(f\"{self.name} is not allowed to ban anyone.\")\n",
    "\n",
    "\n",
    "pesho = Person(PersonId(42), \"Pesho\", 42)\n",
    "peshos_dict = pesho.to_dict()\n",
    "\n",
    "pesho_evolved = Admin.from_dict({**peshos_dict, \"can_ban\": True})  # -> Person, at least for the static type checker\n",
    "\n",
    "pesho_evolved.ban(pesho)  # ⚠️ type checker will complain that type `Person` has no method `ban`"
   ]
  },
  {
   "cell_type": "markdown",
   "id": "8ca2e951",
   "metadata": {},
   "source": [
    "Това поправяме отново с `TypeVar`, този път използвайки именования параметър `bound`:"
   ]
  },
  {
   "cell_type": "code",
   "execution_count": null,
   "id": "de3f4e54",
   "metadata": {},
   "outputs": [],
   "source": [
    "from typing import Type\n",
    "\n",
    "PersonId = NewType(\"PersonId\", int)\n",
    "TPerson = TypeVar(\"TPerson\", bound=\"Person\")  # в кавички, защото `Person` още не съществува\n",
    "\n",
    "class Person:\n",
    "    def __init__(self, id: PersonId, name: str, age: int) -> None:\n",
    "        self.id = id\n",
    "        self.name = name\n",
    "        self.age = age\n",
    "\n",
    "    def __repr__(self) -> str:\n",
    "        return f\"Person(id={self.id}, name={self.name}, age={self.age})\"\n",
    "\n",
    "    def to_dict(self) -> dict[str, Any]:\n",
    "        return vars(self)\n",
    "\n",
    "    @classmethod\n",
    "    def from_dict(cls: Type[TPerson], data: dict[str, Any]) -> TPerson:  # <- тук са промените\n",
    "        return cls(**data)\n",
    "\n",
    "    def some_other_common_method(self: TPerson) -> Any:  # <- тук е важно да укажем какъв тип е `self`, ако ще се наследява\n",
    "        pass \n",
    "\n",
    "class Admin(Person):\n",
    "    def __init__(self, id: PersonId, name: str, age: int, can_ban: bool) -> None:\n",
    "        super().__init__(id, name, age)\n",
    "        self.can_ban = can_ban\n",
    "\n",
    "    def __repr__(self) -> str:\n",
    "        return f\"Admin(id={self.id}, name={self.name}, age={self.age}, can_ban={self.can_ban})\"\n",
    "\n",
    "    def ban(self, person: Person) -> None:\n",
    "        if self.can_ban:\n",
    "            print(f\"{self.name} is banning {person.name}.\")\n",
    "        else:\n",
    "            print(f\"{self.name} is not allowed to ban anyone.\")"
   ]
  },
  {
   "cell_type": "markdown",
   "id": "5457fa1f",
   "metadata": {},
   "source": [
    "## `@dataclass`"
   ]
  },
  {
   "cell_type": "markdown",
   "id": "3f7bf49f",
   "metadata": {},
   "source": [
    "Говорейки за typing няма как вече да не намесим и един полезен декоратор - `dataclasses.dataclass`, вмъкнал се в езика с Python 3.7.\n",
    "\n",
    "Както подсказва донякъде името му, той има за цел да помогне с дефинирането на прости класове, които имат за цел предимно да съхраняват някакви атрибути с някакви данни (подобно на типовете, за които бихме използвали `struct` вместо `class` в С++ / С# например).\n",
    "\n",
    "Предоставя ни изключително голямо синтактично удобство, понеже следния клас:"
   ]
  },
  {
   "cell_type": "code",
   "execution_count": null,
   "id": "a44fd71a",
   "metadata": {},
   "outputs": [],
   "source": [
    "from dataclasses import dataclass\n",
    "\n",
    "@dataclass\n",
    "class User:\n",
    "    id: int\n",
    "    username: str\n",
    "    email: str\n",
    "    is_admin: bool = False"
   ]
  },
  {
   "cell_type": "markdown",
   "id": "07a017d8",
   "metadata": {},
   "source": [
    "е абсолютно еквивалентен на:"
   ]
  },
  {
   "cell_type": "code",
   "execution_count": null,
   "id": "a0257eb7",
   "metadata": {},
   "outputs": [],
   "source": [
    "class User:\n",
    "    def __init__(self, id: int, username: str, email: str, is_admin: bool = False) -> None:\n",
    "        self.id = id\n",
    "        self.username = username\n",
    "        self.email = email\n",
    "        self.is_admin = is_admin\n",
    "\n",
    "    def __repr__(self) -> str:\n",
    "        return f\"User(id={self.id}, username={self.username}, email={self.email}, is_admin={self.is_admin})\"\n",
    "\n",
    "    def __eq__(self, other: object) -> bool:\n",
    "        if not isinstance(other, User):\n",
    "            return False\n",
    "\n",
    "        return vars(self) == vars(other)\n",
    "\n",
    "    # Python 3.10+ only, used for the `match` statement\n",
    "    def __match_args__(self) -> tuple[int, str, str, bool]:\n",
    "        return self.id, self.username, self.email, self.is_admin"
   ]
  },
  {
   "cell_type": "markdown",
   "id": "ef489eb1",
   "metadata": {},
   "source": [
    "И това са само част от способностите на `@dataclass`. Той приема различни параметри, с които още можем да укажем дали класът да е immutable (`frozen=True`), да има `__hash__`, дефиниции на операторите за сравнение, и др.\n",
    "\n",
    "```python\n",
    "@dataclasses.dataclass(*, \n",
    "    init=True, \n",
    "    repr=True, \n",
    "    eq=True, \n",
    "    order=False, \n",
    "    unsafe_hash=False, \n",
    "    frozen=False, \n",
    "    match_args=True, \n",
    "    kw_only=False, \n",
    "    slots=False, \n",
    "    weakref_slot=False\n",
    ")\n",
    "```"
   ]
  },
  {
   "cell_type": "code",
   "execution_count": null,
   "id": "c18458e4",
   "metadata": {},
   "outputs": [],
   "source": [
    "from dataclasses import dataclass\n",
    "\n",
    "@dataclass(frozen=True)\n",
    "class Point:\n",
    "    x: int | float = 0\n",
    "    y: int | float = 0\n",
    "\n",
    "s = {Point(1, 2), Point(), Point(1, 2)}\n",
    "print(s)"
   ]
  },
  {
   "cell_type": "markdown",
   "id": "46d1be7c",
   "metadata": {},
   "source": [
    "Повече информация в [документацията](https://docs.python.org/3/library/dataclasses.html#dataclasses.dataclass)."
   ]
  },
  {
   "cell_type": "markdown",
   "id": "ff697cc0",
   "metadata": {},
   "source": [
    "# Грешки и изключения\n",
    "\n",
    "Понякога се случват неща, които не очакваме, или програмата ни влиза в състояние, което е грешно или пък е с недефинирано поведение. Например, ако се опитаме да отворим файл, който не съществува, или ако се опитаме да разделим число на 0 и т.н. Ако такава \"грешка\" е фатална, то е редно програмата да спре изпълнението си, съобщавайки за това с някаъв вид програмна грешка (error). Ако не е толкова фатална, например е просто специален случай, който можем да третираме по по-различен начин, то това наричаме \"изключение\" (exception). Ние като програмисти не е редно да \"хващаме\" и обработваме грешките, а само изключенията."
   ]
  },
  {
   "cell_type": "markdown",
   "id": "f8c5f579",
   "metadata": {},
   "source": [
    "## (Синтактични) Грешки\n",
    "\n",
    "В Python грешките биват единствено синтактични - от тип `SyntaxError`. Тази грешка се хвърля когато Python parser-a забележи синтектичен проблем в кода, което би довело до невъзможността му за изпълнение."
   ]
  },
  {
   "cell_type": "code",
   "execution_count": null,
   "id": "8f8d5f32",
   "metadata": {},
   "outputs": [],
   "source": [
    "print((\"I like brackets\")"
   ]
  },
  {
   "cell_type": "markdown",
   "id": "f5cf9be2",
   "metadata": {},
   "source": [
    "## Изключения"
   ]
  },
  {
   "cell_type": "markdown",
   "id": "630464e0",
   "metadata": {},
   "source": [
    "Дори и кодът да е синтактично правилен обаче, изпълнението му е възможно да доведе до грешка. Такива грешки, които се засичат по време на изпълнението на програмата се наричат \"изключения\" (exceptions) и е възможно да бъдат \"хванати\" и обработени по желан от нас начин. Примери за често-срещани изключения:"
   ]
  },
  {
   "cell_type": "code",
   "execution_count": null,
   "id": "dbf7c03f",
   "metadata": {},
   "outputs": [],
   "source": [
    "42 / 0"
   ]
  },
  {
   "cell_type": "code",
   "execution_count": null,
   "id": "39906c71",
   "metadata": {},
   "outputs": [],
   "source": [
    "\"I love \" + name_of_crush"
   ]
  },
  {
   "cell_type": "code",
   "execution_count": null,
   "id": "f5007b73",
   "metadata": {},
   "outputs": [],
   "source": [
    "\"1\" + 1"
   ]
  },
  {
   "cell_type": "code",
   "execution_count": null,
   "id": "d0c0694b",
   "metadata": {},
   "outputs": [],
   "source": [
    "import math\n",
    "math.sqrt(-1)"
   ]
  },
  {
   "cell_type": "code",
   "execution_count": null,
   "id": "1fa6886b",
   "metadata": {},
   "outputs": [],
   "source": [
    "l = [1, 2, 3]\n",
    "l[3]"
   ]
  },
  {
   "cell_type": "code",
   "execution_count": null,
   "id": "978dbf1b",
   "metadata": {},
   "outputs": [],
   "source": [
    "d = {\"a\": 1, \"b\": 2}\n",
    "d[\"c\"]"
   ]
  },
  {
   "cell_type": "markdown",
   "id": "330e5acf",
   "metadata": {},
   "source": [
    "*Note:* въпреки, че са всъщност exceptions, а не errors, имената на доста вградени изключения завършват на `Error` в Python."
   ]
  },
  {
   "cell_type": "markdown",
   "id": "8bb7b79b",
   "metadata": {},
   "source": [
    "## Хващане на изключения"
   ]
  },
  {
   "cell_type": "markdown",
   "id": "686d7c86",
   "metadata": {},
   "source": [
    "С `try-except` конструкцията можем да хванем изключение при изпълнение на даден код и да извършим някакво действие, ако се случи такова. В `try` блокът се слага кодът, който искаме да изпълним, а в `except` блокът - кодът, който искаме да се изпълни, ако се случи изключение. При хващане на изключение програмата не се терминира, а продължава изпълнението си след `try-except` конструкцията."
   ]
  },
  {
   "cell_type": "code",
   "execution_count": null,
   "id": "acd32eb6",
   "metadata": {},
   "outputs": [],
   "source": [
    "while True:\n",
    "    try:\n",
    "        x = int(input(\"Please enter a number: \"))\n",
    "        print(\"You entered: \", x)\n",
    "        break\n",
    "    except ValueError:\n",
    "        print(\"Sorry bro, that's not a valid number. Try again...\")"
   ]
  },
  {
   "cell_type": "markdown",
   "id": "ea1a292f",
   "metadata": {},
   "source": [
    "Забележете, че можем да укажем изрично типа на изключението, което искаме да хванем, като аргумент на `except` блока. В горният пример искаме да хванем единствено изключения от тип `ValueError`, т.е. проблеми с въведената стойност. Така позволяваме на потребителят например да приключи изпълнението на програмата с Ctrl+C (или подобен метод), понеже това действие би хвърлило `KeyboardInterrupt` изключение."
   ]
  },
  {
   "cell_type": "markdown",
   "id": "5da86a08",
   "metadata": {},
   "source": [
    "Можем естествено и да не укажем тип, а да хванем абсолютно всички възможни изключения:"
   ]
  },
  {
   "cell_type": "code",
   "execution_count": null,
   "id": "b5671791",
   "metadata": {},
   "outputs": [],
   "source": [
    "try:\n",
    "    risky_func()\n",
    "except:\n",
    "    pass  # never ever do this, for the sake of humanity"
   ]
  },
  {
   "cell_type": "markdown",
   "id": "c5dae87d",
   "metadata": {},
   "source": [
    "Много коварен antipattern обаче е обграждането на проблематичен код с `except` блок, който е празен. Повече по темата: https://realpython.com/the-most-diabolical-python-antipattern/"
   ]
  },
  {
   "cell_type": "markdown",
   "id": "741cd8f9",
   "metadata": {},
   "source": [
    "Вместо това, може например да логнем грешката в някой файл или на стандартния изход (или по-добре от STDOUT - в STDERR). Има библиотеки, улесняващи логването, включително и вградена такава - `logging`."
   ]
  },
  {
   "cell_type": "code",
   "execution_count": null,
   "id": "4ebeeacd",
   "metadata": {},
   "outputs": [],
   "source": [
    "import logging\n",
    "\n",
    "logger = logging.getLogger()\n",
    "\n",
    "try:\n",
    "    risky_func()\n",
    "except Exception as e:\n",
    "    logger.error(e)"
   ]
  },
  {
   "cell_type": "markdown",
   "id": "e2ac3454",
   "metadata": {},
   "source": [
    "Както се вижда от примера, можем да присвоим изключението към променлива, която да използваме в `except` блока. Това е полезно ако искаме да използваме изключението или аргументите на изключението, които се намират в `args` атрибута на всяко изключение."
   ]
  },
  {
   "cell_type": "code",
   "execution_count": null,
   "id": "7f47ff1e",
   "metadata": {},
   "outputs": [],
   "source": [
    "try:\n",
    "    risky_func()\n",
    "except Exception as e:\n",
    "    logger.error(e.args)"
   ]
  },
  {
   "cell_type": "markdown",
   "id": "5c0822f3",
   "metadata": {},
   "source": [
    "Можем да очакваме повече от един тип изключения по няколко начина:"
   ]
  },
  {
   "cell_type": "code",
   "execution_count": null,
   "id": "ab47cae3",
   "metadata": {},
   "outputs": [],
   "source": [
    "def f(): return 42\n",
    "def g(): return 0\n",
    "\n",
    "try:\n",
    "    # f()[2]    # uncomment for third error\n",
    "    # y = h()  # uncomment for second error\n",
    "    y = f() / g()\n",
    "except ZeroDivisionError:\n",
    "    print(\"Division by zero.\")\n",
    "except NameError as e:\n",
    "    print(\"Name error: \", e)\n",
    "except Exception as e:\n",
    "    print(\"Other error: \", e)\n",
    "\n",
    "try:\n",
    "    y = f() / g() + h()\n",
    "except (ZeroDivisionError, NameError) as e:\n",
    "    print(\"Oops: \", e)"
   ]
  },
  {
   "cell_type": "markdown",
   "id": "e1dd8c47",
   "metadata": {},
   "source": [
    "Създателите на Python обичат да дефинират `else` блокове за всевъзможни езикови контролни конструкции, и `try` не е изключение (no pun intended). Кодът в `else` след `try-except` би се изпълнил само тогава, когато не е засечена никаква грешка при изпълнение."
   ]
  },
  {
   "cell_type": "code",
   "execution_count": null,
   "id": "a2b9e2fc",
   "metadata": {},
   "outputs": [],
   "source": [
    "try:\n",
    "    # y = 0 / 42\n",
    "    y = 42 / 0\n",
    "except ZeroDivisionError:\n",
    "    print(\"Division by zero.\")\n",
    "else:\n",
    "    print(\"Everything is fine.\")"
   ]
  },
  {
   "cell_type": "markdown",
   "id": "dbdae23b",
   "metadata": {},
   "source": [
    "Освен това имаме и друг опционален блок - `finally`. Той се изпълнява абсолютно винаги като последна част на `try-(except)-(else)-finally` конструкцията, независимо от това дали е била прихваната грешка или не."
   ]
  },
  {
   "cell_type": "code",
   "execution_count": null,
   "id": "05c086ee",
   "metadata": {},
   "outputs": [],
   "source": [
    "try:\n",
    "    # y = 0 / 42\n",
    "    y = 42 / 0\n",
    "except ZeroDivisionError:\n",
    "    print(\"Division by zero.\")\n",
    "else:\n",
    "    print(\"Everything is fine.\")\n",
    "finally:\n",
    "    print(\"I'm always here. o.o\")"
   ]
  },
  {
   "cell_type": "markdown",
   "id": "6c02fb95",
   "metadata": {},
   "source": [
    "## Хвърляне на изключения"
   ]
  },
  {
   "cell_type": "markdown",
   "id": "3ae89cad",
   "metadata": {},
   "source": [
    "Изключенията наследяват класa `Exception`. Списък от вграденитe такива може да откриете тук: https://docs.python.org/3/library/exceptions.html"
   ]
  },
  {
   "cell_type": "markdown",
   "id": "cd03090a",
   "metadata": {},
   "source": [
    "Изключенията ги \"хвърляме\" с ключовата дума `raise`:"
   ]
  },
  {
   "cell_type": "code",
   "execution_count": null,
   "id": "aef542b7",
   "metadata": {},
   "outputs": [],
   "source": [
    "raise Exception(\"This is an exceptionally exceptional exception.\")"
   ]
  },
  {
   "cell_type": "code",
   "execution_count": null,
   "id": "e77fb6cc",
   "metadata": {},
   "outputs": [],
   "source": [
    "raise ValueError  # може и без извикването на конструктора от нас"
   ]
  },
  {
   "cell_type": "code",
   "execution_count": null,
   "id": "48e158d1",
   "metadata": {},
   "outputs": [],
   "source": [
    "def get_name_by_id(id: int) -> str | None:\n",
    "    if not isinstance(id, int):\n",
    "        raise TypeError(\"id must be int!\")\n",
    "    \n",
    "    if id < 0:\n",
    "        raise ValueError(\"id must be a positive integer!\")\n",
    "\n",
    "    database = [\"Alex\", \"Lyubo\", \"Vankata\"]\n",
    "\n",
    "    if id >= len(database):\n",
    "        return None\n",
    "    \n",
    "    return database[id]"
   ]
  },
  {
   "cell_type": "markdown",
   "id": "a8cb7ddc",
   "metadata": {},
   "source": [
    "Те се пропагират нагоре по стека на изпълнението на програмата, докато не се срещне `try` блок, който може да ги обработи. Ако няма такъв, програмата се терминира и се извежда съобщение за грешка. Това пропагиране е и причината да виждаме т.нар. Stacktrace:"
   ]
  },
  {
   "cell_type": "code",
   "execution_count": null,
   "id": "6925b0ec",
   "metadata": {},
   "outputs": [],
   "source": [
    "def a(): raise Exception(\"Hello, stack!\")\n",
    "def b(): a()\n",
    "def c(): b()\n",
    "def d(): c()\n",
    "def e(): d()\n",
    "\n",
    "def f():\n",
    "    try:\n",
    "        e()\n",
    "    except:\n",
    "        print(f\"Goodbye, stack. ;-;\")\n",
    "\n",
    "def g(): f()\n",
    "def h(): g()\n",
    "def i(): h()\n",
    "\n",
    "\n",
    "i()  # f will catch it\n",
    "\n",
    "e()  # nothing will catch it and kaboom"
   ]
  },
  {
   "cell_type": "markdown",
   "id": "8431d324",
   "metadata": {},
   "source": [
    "Можем да си дефинираме собствени изключения, като наследяваме класа `Exception` (или някой от неговите наследници):"
   ]
  },
  {
   "cell_type": "code",
   "execution_count": null,
   "id": "7cb35345",
   "metadata": {},
   "outputs": [],
   "source": [
    "class InvalidPortionException(Exception):\n",
    "    def __init__(self, portion: tuple[str, str]) -> None:\n",
    "        super().__init__(*portion)\n",
    "    \n",
    "    def __str__(self) -> str:\n",
    "        ingredients = \" sus \".join(self.args)\n",
    "        return f\"Ama kak taka, ne moje {ingredients}!\"\n",
    "\n",
    "\n",
    "class LelkataOtStolaDoNas:\n",
    "    def __init__(self):\n",
    "        osnovni = (\"schnietzel\", \"kyufteta\", \"kartofeni kyufteta\")\n",
    "        garnituri = (\"kartofi\", \"oriz\", \"zele\")\n",
    "        self.__allowed_portions = dict(zip(osnovni, garnituri))  # private shototo samo tq si gi znae...\n",
    "    \n",
    "    def order(self, osnovno: str, garnitura: str) -> None:\n",
    "        portion = (osnovno, garnitura)\n",
    "\n",
    "        if portion not in self.__allowed_portions.items():\n",
    "            raise InvalidPortionException(portion)\n",
    "        \n",
    "        print(\"Krem, airqn?\")\n",
    "\n",
    "lelkata = LelkataOtStolaDoNas()\n",
    "lelkata.order(\"kyufteta\", \"kartofi\")"
   ]
  },
  {
   "cell_type": "markdown",
   "id": "95b265aa",
   "metadata": {},
   "source": [
    "Възможно е освен това да се chain-ват изключения, когато в `except` блока се хвърли друго:"
   ]
  },
  {
   "cell_type": "code",
   "execution_count": null,
   "id": "9587d7e5",
   "metadata": {},
   "outputs": [],
   "source": [
    "class UnbeknownstToMeException(Exception):\n",
    "    def __init__(self, fact: str) -> None:\n",
    "        msg = f\"Е аз откъде да знам, че не може {fact}...\"\n",
    "        super().__init__(msg)\n",
    "\n",
    "\n",
    "lelka = LelkataOtStolaDoNas()\n",
    "try:\n",
    "    lelka.order(\"kyufteta\", \"zele\")\n",
    "except InvalidPortionException as e:\n",
    "    portion = \" със \".join(e.args)\n",
    "    raise UnbeknownstToMeException(portion)"
   ]
  },
  {
   "cell_type": "markdown",
   "id": "e7a16c1f",
   "metadata": {},
   "source": [
    "*Disclaimer:* историята е по действителен случай, obv."
   ]
  },
  {
   "cell_type": "markdown",
   "id": "8ffe8c3e",
   "metadata": {},
   "source": [
    "За да индикираме, че дадено изключение е директно следствие на друго, може да използваме `raise ... from ...`. Повече инфо в [документацията](https://docs.python.org/3/tutorial/errors.html#exception-chaining)."
   ]
  },
  {
   "cell_type": "markdown",
   "id": "8199f159",
   "metadata": {},
   "source": [
    "# Работа с файлове в Python\n",
    "План на лекцията:\n",
    "- Кратка интродукция за работата с пътища, Windows и Unix\n",
    "- Представяне на файловете в Python\n",
    "- Четене на файлове\n",
    "- Писане на файлове\n",
    "- Работа с файлове и пътища\n",
    "- Използване на `with`\n",
    "- `tell` и `seek`\n",
    "- Примери\n",
    "- Задачи"
   ]
  },
  {
   "cell_type": "markdown",
   "id": "b35fa499",
   "metadata": {},
   "source": [
    "### Предварителна подготовка "
   ]
  },
  {
   "cell_type": "code",
   "execution_count": null,
   "id": "564c3846",
   "metadata": {},
   "outputs": [],
   "source": [
    "!mkdir files\n",
    "!curl -o files/lorem_ipsum.txt https://raw.githubusercontent.com/lyubolp/PythonCourse2025/08_files/08%20-%20Files/files/1.txt\n",
    "!echo \"hello\" > files/hello.txt"
   ]
  },
  {
   "cell_type": "markdown",
   "id": "c14eea47",
   "metadata": {},
   "source": [
    "## Кратка интродукция за работата с пътища, Windows и Unix."
   ]
  },
  {
   "cell_type": "markdown",
   "id": "b7d4c09b",
   "metadata": {},
   "source": [
    "Път в една файлова система посочва локацията и името на даден обект (бил той файл или директория). Пример за път в Linux/MacOS е `/home/user/myfile.txt`, а в Windows - `C:\\Users\\user\\myfile.txt`. \n",
    "\n",
    "Забелязва се, че пътищата в Windows и Unix-базираните ОС се разделят с различни черти. Нашият Python код трябва да е съвместим и с двата начина за разделя на пътища. \n",
    "\n",
    "За наше улеснение, Python предлага функцията `os.path.join`, която по подадени имена на директории/файлове, конструира правилния спрямо нашия OS път."
   ]
  },
  {
   "cell_type": "code",
   "execution_count": null,
   "id": "2ee40c4b",
   "metadata": {},
   "outputs": [],
   "source": [
    "import os\n",
    "\n",
    "os.path.join('/home', 'lyubo', 'myfile.txt')"
   ]
  },
  {
   "cell_type": "markdown",
   "id": "ba41865b",
   "metadata": {},
   "source": [
    "Понеже кодът е изпълнен под Linux, получаваме Unix-ски път. Ако изпълним обаче същия код под Windows, ще получим правилен Windows-ки път. "
   ]
  },
  {
   "cell_type": "markdown",
   "id": "faa7d795",
   "metadata": {},
   "source": [
    "## Представяне на файловете в Python"
   ]
  },
  {
   "cell_type": "markdown",
   "id": "49ebb7d9",
   "metadata": {},
   "source": [
    "Python предоставя API за работа с файлове и потоци. Python работи с т.нар. \"file objects\" - това може да са файлове на диска, sockets, pipes и други потоци.\n",
    "\n",
    "Освен с текстови файлове, можем да работим и с бинарни файлове. За момента обаче, ще се спрем само върху текстовите файлове."
   ]
  },
  {
   "cell_type": "markdown",
   "id": "fdbea373",
   "metadata": {},
   "source": [
    "Можем да отворим един файл за работа, с помощта на функцията `open`. В най-простия си вид, тя приема път към файл. "
   ]
  },
  {
   "cell_type": "code",
   "execution_count": null,
   "id": "e2e02e30",
   "metadata": {},
   "outputs": [],
   "source": [
    "fd = open(os.path.join('files', 'lorem_ipsum.txt'))\n",
    "\n",
    "print(fd)\n",
    "\n",
    "fd.close()"
   ]
  },
  {
   "cell_type": "markdown",
   "id": "646af4b5",
   "metadata": {},
   "source": [
    "След като приключим работа с един файл, не трябва да забравяме да го затворим. Затварянето на един файл става с помощта на `close` метода. "
   ]
  },
  {
   "cell_type": "markdown",
   "id": "0a8c7f3a",
   "metadata": {},
   "source": [
    "Забелязваме, че обекта който получаваме като резултат от `open` има име (`files/lorem_ipsum.txt`), режим (`r`) и кодиране (`UTF-8`).\n",
    "\n",
    "Един файл може да бъде отворен в няколко различни режима:\n",
    "- `r` - отваря файла за четене\n",
    "- `w` - отваря файла за писане, като файла първо бива зачистен\n",
    "- `a` - отваря файла за писане, като новото съдържание се записва в края на файла\n",
    "- `x` - създава файла, ако не съществува. Ако файла вече съществува, се хвърля `FileExistsError`\n",
    "- `b` - отваря файл в бинарен режим\n",
    "- `t` - отваря файл в текстови режим\n",
    "- `+` - отваря файла за четене и писане\n",
    "\n",
    "Освен режима на отваряне, можем да променим и кодирането, с което се опитваме да четем файла. По подразбиране, използваме `UTF-8`. "
   ]
  },
  {
   "cell_type": "markdown",
   "id": "975d6e7e",
   "metadata": {},
   "source": [
    "Ако се опитаме да запишем файл в несъществуваща директория, ще получим грешка"
   ]
  },
  {
   "cell_type": "code",
   "execution_count": null,
   "id": "d36f5511",
   "metadata": {},
   "outputs": [],
   "source": [
    "fd = open(os.path.join('files', 'non_existing_dir', 'new_file.txt'), 'w')\n",
    "\n",
    "fd.write('content')\n",
    "\n",
    "fd.close()"
   ]
  },
  {
   "cell_type": "markdown",
   "id": "0ac015c7",
   "metadata": {},
   "source": [
    "## Четене на файлове"
   ]
  },
  {
   "cell_type": "markdown",
   "id": "a034bc04",
   "metadata": {},
   "source": [
    "В Python имаме три метода, чрез които можем да четем от файлове: `read`, `readline` и `readlines`.  "
   ]
  },
  {
   "cell_type": "markdown",
   "id": "73830289",
   "metadata": {},
   "source": [
    "Нека първо разгледаме метода `read`. Той прочита целия файл и запазва съдържанието му в променлива, като един голям низ. "
   ]
  },
  {
   "cell_type": "code",
   "execution_count": null,
   "id": "a29884e9",
   "metadata": {},
   "outputs": [],
   "source": [
    "import os\n",
    "\n",
    "fd = open(os.path.join('files', 'lorem_ipsum.txt'))\n",
    "\n",
    "content = fd.read()\n",
    "print(f'content={content}')\n",
    "\n",
    "fd.close()"
   ]
  },
  {
   "cell_type": "markdown",
   "id": "8ba0d37c",
   "metadata": {},
   "source": [
    "Веднъж прочетен един файл, следващото прочитане ще ни върне празен низ. "
   ]
  },
  {
   "cell_type": "code",
   "execution_count": null,
   "id": "0612fec7",
   "metadata": {},
   "outputs": [],
   "source": [
    "fd = open(os.path.join('files', 'lorem_ipsum.txt'))\n",
    "\n",
    "content = fd.read()\n",
    "print(f'content={content}')\n",
    "\n",
    "content = fd.read()\n",
    "print(f'content={content}')\n",
    "\n",
    "fd.close()"
   ]
  },
  {
   "cell_type": "markdown",
   "id": "d348bb07",
   "metadata": {},
   "source": [
    "Друг вариант за четене на файл, е ред по ред - това става с помощта на метода `readline`. "
   ]
  },
  {
   "cell_type": "code",
   "execution_count": null,
   "id": "808bcdeb",
   "metadata": {},
   "outputs": [],
   "source": [
    "import os\n",
    "fd = open(os.path.join('files', 'lorem_ipsum.txt'))\n",
    "\n",
    "content = fd.readline()\n",
    "print(f'content={content}')\n",
    "\n",
    "content = fd.readline()\n",
    "print(f'content={content}')\n",
    "\n",
    "fd.close()"
   ]
  },
  {
   "cell_type": "markdown",
   "id": "892f4cef",
   "metadata": {},
   "source": [
    "След прочитане на последния ред, `readline` връща празен низ."
   ]
  },
  {
   "cell_type": "code",
   "execution_count": null,
   "id": "1cd463eb",
   "metadata": {},
   "outputs": [],
   "source": [
    "import os\n",
    "fd = open(os.path.join('files', 'lorem_ipsum.txt'))\n",
    "\n",
    "content = fd.readline()\n",
    "print(f'content={content}')\n",
    "\n",
    "while content != '':\n",
    "    content = fd.readline()\n",
    "    print(f'content={content}')\n",
    "\n",
    "fd.close()"
   ]
  },
  {
   "cell_type": "markdown",
   "id": "cf88f827",
   "metadata": {},
   "source": [
    "Ако искаме да получим списък от всички редове във файл, можем да използваме `readlines`."
   ]
  },
  {
   "cell_type": "code",
   "execution_count": null,
   "id": "a1aea89e",
   "metadata": {},
   "outputs": [],
   "source": [
    "import os\n",
    "fd = open(os.path.join('files', 'lorem_ipsum.txt'))\n",
    "\n",
    "content = fd.readlines()\n",
    "print(f'content={content}')\n",
    "\n",
    "fd.close()"
   ]
  },
  {
   "cell_type": "code",
   "execution_count": null,
   "id": "c845ec07",
   "metadata": {},
   "outputs": [],
   "source": [
    "import os\n",
    "fd = open(os.path.join('files', 'lorem_ipsum.txt'))\n",
    "\n",
    "content = fd.readlines()\n",
    "\n",
    "for line in content:\n",
    "    print(f'content={line}')\n",
    "\n",
    "fd.close()"
   ]
  },
  {
   "cell_type": "markdown",
   "id": "975331fa",
   "metadata": {},
   "source": [
    "Вместо да използваме `readlines`, можем да итерираме директно по файл обекта."
   ]
  },
  {
   "cell_type": "code",
   "execution_count": null,
   "id": "3b9cda55",
   "metadata": {},
   "outputs": [],
   "source": [
    "import os\n",
    "fd = open(os.path.join('files', 'lorem_ipsum.txt'))\n",
    "\n",
    "for line in fd:\n",
    "    print(f'content={line}')\n",
    "\n",
    "fd.close()"
   ]
  },
  {
   "cell_type": "markdown",
   "id": "3a8b6dd2",
   "metadata": {},
   "source": [
    "## Писане на файлове"
   ]
  },
  {
   "cell_type": "markdown",
   "id": "0cac23b0",
   "metadata": {},
   "source": [
    "За писане на файлове в Python може да използваме методите `write` и `writelines`"
   ]
  },
  {
   "cell_type": "markdown",
   "id": "cdbe6912",
   "metadata": {},
   "source": [
    "Методът `write` записва низ във файла. Позицията зависи от начина по който е отворен файла (с или без изтриване на текущото съдържание)."
   ]
  },
  {
   "cell_type": "code",
   "execution_count": null,
   "id": "91ba4930",
   "metadata": {},
   "outputs": [],
   "source": [
    "import os\n",
    "fd = open(os.path.join('files', 'hello_world.txt'), 'w')\n",
    "\n",
    "fd.write('Hello world')\n",
    "\n",
    "fd.close()"
   ]
  },
  {
   "cell_type": "code",
   "execution_count": null,
   "id": "5590860f",
   "metadata": {},
   "outputs": [],
   "source": [
    "import os\n",
    "fd = open(os.path.join('files', 'hello_world.txt'))\n",
    "\n",
    "content = fd.read()\n",
    "print(content)\n",
    "fd.close()"
   ]
  },
  {
   "cell_type": "markdown",
   "id": "bc1d8f64",
   "metadata": {},
   "source": [
    "Припомням, че ако отворим файла в режим `w`, то ще изтрием текущото му съдържание."
   ]
  },
  {
   "cell_type": "code",
   "execution_count": null,
   "id": "66edf5ab",
   "metadata": {},
   "outputs": [],
   "source": [
    "import os\n",
    "\n",
    "fd = open(os.path.join('files', 'my_important_file.txt'), 'w')\n",
    "fd.write('Really important')\n",
    "fd.close()\n",
    "\n",
    "# Oops, forgot to write something down\n",
    "\n",
    "fd = open(os.path.join('files', 'my_important_file.txt'), 'w')\n",
    "fd.write('Should really not forget this')\n",
    "fd.close()\n"
   ]
  },
  {
   "cell_type": "code",
   "execution_count": null,
   "id": "b27db0c1",
   "metadata": {},
   "outputs": [],
   "source": [
    "import os\n",
    "fd = open(os.path.join('files', 'my_important_file.txt'))\n",
    "\n",
    "content = fd.read()\n",
    "print(content)\n",
    "fd.close()"
   ]
  },
  {
   "cell_type": "markdown",
   "id": "563abb65",
   "metadata": {},
   "source": [
    "Ако искаме да пишем в края на файла, трябва да използваме режим `a`"
   ]
  },
  {
   "cell_type": "code",
   "execution_count": null,
   "id": "10f47030",
   "metadata": {},
   "outputs": [],
   "source": [
    "import os\n",
    "\n",
    "fd = open(os.path.join('files', 'my_important_file_2.txt'), 'a')\n",
    "fd.write('Really important\\n')\n",
    "fd.close()\n",
    "\n",
    "# Oops, forgot to write something down\n",
    "\n",
    "fd = open(os.path.join('files', 'my_important_file_2.txt'), 'a')\n",
    "fd.write('Should really not forget this\\n')\n",
    "fd.close()"
   ]
  },
  {
   "cell_type": "code",
   "execution_count": null,
   "id": "b087036c",
   "metadata": {},
   "outputs": [],
   "source": [
    "import os\n",
    "fd = open(os.path.join('files', 'my_important_file_2.txt'))\n",
    "\n",
    "content = fd.read()\n",
    "print(content)\n",
    "fd.close()"
   ]
  },
  {
   "cell_type": "markdown",
   "id": "8babefb4",
   "metadata": {},
   "source": [
    "Методът `writelines` приема списък от \"редове\", които да бъдат записани във файла.\n",
    "\n",
    "**Забележка**: `writelines` не добавя автоматично нови редове след всеки елемент, затова се очаква всеки елемент от списъка да съдържа нов ред в себе си. "
   ]
  },
  {
   "cell_type": "code",
   "execution_count": null,
   "id": "83dc09e6",
   "metadata": {},
   "outputs": [],
   "source": [
    "import os\n",
    "\n",
    "fd = open(os.path.join('files', 'writelines_example.txt'), 'w')\n",
    "\n",
    "lines_to_write = ['hello\\n', 'this\\n', 'are\\n', 'my\\n', 'lines\\n']\n",
    "fd.writelines(lines_to_write)\n",
    "\n",
    "fd.close()"
   ]
  },
  {
   "cell_type": "code",
   "execution_count": null,
   "id": "7d1e95c9",
   "metadata": {},
   "outputs": [],
   "source": [
    "import os\n",
    "fd = open(os.path.join('files', 'writelines_example.txt'))\n",
    "\n",
    "content = fd.read()\n",
    "print(content)\n",
    "fd.close()"
   ]
  },
  {
   "cell_type": "markdown",
   "id": "d3bccc4a",
   "metadata": {},
   "source": [
    "Тук е добре да се отбележи, че можем да записваме и други типове данни, освен низове (е не точно, но...).\n",
    "\n",
    "Стига даден тип (или обект) да има низово представяне, можем да го запишем във файл."
   ]
  },
  {
   "cell_type": "code",
   "execution_count": null,
   "id": "102c3e8c",
   "metadata": {},
   "outputs": [],
   "source": [
    "import os\n",
    "\n",
    "other_types_in_files = os.path.join('files', 'other_types_in_files.txt')\n",
    "\n",
    "fd = open(other_types_in_files, 'w')\n",
    "\n",
    "fd.write(str(2) + '\\n')\n",
    "fd.write(str([2, 3, 4]) + '\\n')\n",
    "fd.write(str({'a': 2, 'b': 3, 'c': 4}) + '\\n')\n",
    "fd.write(str((2, 3)) + '\\n')\n",
    "\n",
    "fd.close()\n",
    "\n",
    "fd = open(other_types_in_files)\n",
    "content = fd.read()\n",
    "print(content)\n",
    "fd.close()"
   ]
  },
  {
   "cell_type": "markdown",
   "id": "19561408",
   "metadata": {},
   "source": [
    "## Работа с файлове и пътища"
   ]
  },
  {
   "cell_type": "markdown",
   "id": "18dd668e",
   "metadata": {},
   "source": [
    "Python предлага удобен начин за работа с файлове. Вградената библиотека `os` съдържа всичко необходимо за работата с файлове и директории. \n",
    "\n",
    "Ще разгледаме как можем да:\n",
    "- Преместим файл\n",
    "- Изтрием файл\n",
    "- Обща работа с пътища\n",
    "- Обхождане на директории"
   ]
  },
  {
   "cell_type": "markdown",
   "id": "b440ce76",
   "metadata": {},
   "source": [
    "### Преместване на файл"
   ]
  },
  {
   "cell_type": "markdown",
   "id": "3068f0f2",
   "metadata": {},
   "source": [
    "Преместването на файл става чрез \"преименуването му\" (или всъщност, преименуването на файл е преместването му като файл с друго име 🤔) - това в Python става с помощта на функцията `os.rename`. Тя приема два аргумента - source път и destination път (т.е. старото и новото име на файла)"
   ]
  },
  {
   "cell_type": "code",
   "execution_count": null,
   "id": "e59ae08a",
   "metadata": {},
   "outputs": [],
   "source": [
    "import os\n",
    "\n",
    "file_to_be_moved = os.path.join('files', 'to_be_moved.txt')\n",
    "\n",
    "fp = open(file_to_be_moved, 'w')\n",
    "fp.write('This file is to be moved')\n",
    "fp.close()\n",
    "\n",
    "print(f'Before = {os.listdir(\"files\")}')\n",
    "\n",
    "file_moved = os.path.join('files', 'file_moved.txt')\n",
    "\n",
    "os.rename(file_to_be_moved, file_moved)\n",
    "\n",
    "print(f'After = {os.listdir(\"files\")}')"
   ]
  },
  {
   "cell_type": "markdown",
   "id": "c9febdc4",
   "metadata": {},
   "source": [
    "Ако вече съществува файл със същото име се случват едно от две неща:\n",
    "- Ако кодът се изпълнява под Windows, се хвърля `FileExistsError`. \n",
    "- Ако кодът се изпълнява под Linux/MacOS и имаме права върху файла върху който ще пишем, той ще бъде презаписан"
   ]
  },
  {
   "cell_type": "markdown",
   "id": "e42cc4fe",
   "metadata": {},
   "source": [
    "Нека разгледаме следната ситуация: имаме файл `files/a/file.txt`, който искаме да преместим в `files/b`, но директорията `b` не съществува."
   ]
  },
  {
   "cell_type": "code",
   "execution_count": null,
   "id": "f251d774",
   "metadata": {},
   "outputs": [],
   "source": [
    "!mkdir files/a"
   ]
  },
  {
   "cell_type": "code",
   "execution_count": null,
   "id": "277f92ba",
   "metadata": {},
   "outputs": [],
   "source": [
    "import os\n",
    "\n",
    "file_to_be_moved = os.path.join('files', 'a', 'file.txt')\n",
    "\n",
    "fp = open(file_to_be_moved, 'w')\n",
    "fp.write('This file is to be moved')\n",
    "fp.close()\n",
    "\n",
    "os.rename(file_to_be_moved, os.path.join('files', 'b', 'file.txt'))"
   ]
  },
  {
   "cell_type": "markdown",
   "id": "860d2ea8",
   "metadata": {},
   "source": [
    "### Изтриване на файл"
   ]
  },
  {
   "cell_type": "markdown",
   "id": "ecf4724d",
   "metadata": {},
   "source": [
    "Изтриването на файл се случва чрез метода `os.remove`. Той приема един аргумент - пътят към файла, който ще бъде изтрит."
   ]
  },
  {
   "cell_type": "code",
   "execution_count": null,
   "id": "4f0a47c7",
   "metadata": {},
   "outputs": [],
   "source": [
    "import os\n",
    "\n",
    "file_path = os.path.join('files', 'to_removed.txt')\n",
    "fp = open(file_path, 'w')\n",
    "fp.write('This file will be deleted')\n",
    "fp.close()\n",
    "\n",
    "print(f'Before = {os.listdir(\"files\")}')\n",
    "\n",
    "os.remove(file_path)\n",
    "\n",
    "print(f'After = {os.listdir(\"files\")}')"
   ]
  },
  {
   "cell_type": "markdown",
   "id": "281495d9",
   "metadata": {},
   "source": [
    "Ако се опитаме да изтрием директория с `os.remove`, ще получим грешка `IsADirectoryError`."
   ]
  },
  {
   "cell_type": "code",
   "execution_count": null,
   "id": "ed5f10da",
   "metadata": {},
   "outputs": [],
   "source": [
    "import os\n",
    "\n",
    "os.remove('files')"
   ]
  },
  {
   "cell_type": "markdown",
   "id": "37e8bdfa",
   "metadata": {},
   "source": [
    "А ако опитаме да изтрием файл, който не съществува, ще получим грешка `FileNotFoundError`."
   ]
  },
  {
   "cell_type": "code",
   "execution_count": null,
   "id": "0d5b18db",
   "metadata": {},
   "outputs": [],
   "source": [
    "import os\n",
    "\n",
    "non_existant_path = os.path.join('files', 'this_file_does_not_exist.txt')\n",
    "\n",
    "os.remove(non_existant_path)"
   ]
  },
  {
   "cell_type": "markdown",
   "id": "2bf3c225",
   "metadata": {},
   "source": [
    "### Копиране на файлове"
   ]
  },
  {
   "cell_type": "markdown",
   "id": "dc4c59ff",
   "metadata": {},
   "source": [
    "В Python можем да копираме файлове с помощта на `shutil` библиотеката. Тя ни предоставя методи за копиране на файлове.\n",
    "\n",
    "Ще разгледаме част от тях:\n",
    "\n",
    "- `shutil.copy()` - копира файл от едно място на друго. Приема два аргумента - source и target пътища. Ако файлът вече съществува на новото място, ще бъде презаписан. Ако target е директория, ще се запише копие на файла в тази директория със същото име.\n",
    "- `shutil.copy2()` - работи по същия начин като `shutil.copy()`, но запазва и метаданните на файла (например времето на създаване)\n",
    "- `shutil.copystat()` - копира само метаданните на файла\n",
    "- `shutil.copytree()` - копира директория и всички файлове в нея. Приема два аргумента - source и target пътища. "
   ]
  },
  {
   "cell_type": "code",
   "execution_count": null,
   "id": "b15b529d",
   "metadata": {},
   "outputs": [],
   "source": [
    "import os\n",
    "import shutil\n",
    "\n",
    "print(f'Before = {os.listdir(\"files\")}')\n",
    "\n",
    "shutil.copy(os.path.join('files', '1.txt'), os.path.join('files', '1_1.txt'))\n",
    "shutil.copy2(os.path.join('files', '1.txt'), os.path.join('files', '1_2.txt'))\n",
    "\n",
    "print(f'After = {os.listdir(\"files\")}')"
   ]
  },
  {
   "cell_type": "markdown",
   "id": "ad660ccf",
   "metadata": {},
   "source": [
    "### Създаване на директория"
   ]
  },
  {
   "cell_type": "markdown",
   "id": "d5035af2",
   "metadata": {},
   "source": [
    "В Python създаването на директория става чрез метода `os.mkdir`. Той приема пътя към директорията, която да бъде създадена. "
   ]
  },
  {
   "cell_type": "code",
   "execution_count": null,
   "id": "eabbc616",
   "metadata": {},
   "outputs": [],
   "source": [
    "import os\n",
    "\n",
    "print(f'Before = {os.listdir(\"files\")}')\n",
    "\n",
    "file_path = os.path.join('files', 'mkdir_example')\n",
    "os.mkdir(file_path)\n",
    "\n",
    "print(f'After = {os.listdir(\"files\")}')"
   ]
  },
  {
   "cell_type": "markdown",
   "id": "7472e1d6",
   "metadata": {},
   "source": [
    "Само за информация: Можем да зададем права на директорията, с помощта на аргумента `mode`. "
   ]
  },
  {
   "cell_type": "markdown",
   "id": "4ce1c59c",
   "metadata": {},
   "source": [
    "Ако се опитаме да създадем директория, която вече съществува, ще получим `FileExistsError`. "
   ]
  },
  {
   "cell_type": "code",
   "execution_count": null,
   "id": "00992398",
   "metadata": {},
   "outputs": [],
   "source": [
    "import os\n",
    "\n",
    "file_path = os.path.join('files', 'mkdir_existing_directory')\n",
    "os.mkdir(file_path)\n",
    "\n",
    "os.mkdir(file_path)"
   ]
  },
  {
   "cell_type": "markdown",
   "id": "2f175db0",
   "metadata": {},
   "source": [
    "Нека опитаме да създадем няколко нови директории, една под друга. "
   ]
  },
  {
   "cell_type": "code",
   "execution_count": null,
   "id": "eb9c332e",
   "metadata": {},
   "outputs": [],
   "source": [
    "import os\n",
    "\n",
    "print(f'Before = {os.listdir(\"files\")}')\n",
    "\n",
    "file_path = os.path.join('files', 'mkdir_example_parent', 'mkdir_example_child')\n",
    "os.mkdir(file_path)\n",
    "\n",
    "print(f'After = {os.listdir(\"files\")}')"
   ]
  },
  {
   "cell_type": "markdown",
   "id": "52b356d9",
   "metadata": {},
   "source": [
    "Тук получаваме грешка - `os.mkdir` не може да създаде несъществуващите директории над последната. За целта трябва да използваме метода `os.makedirs`. Той приема отново като аргумент пътят към директорията, която искаме да създадем, както и права на директорията/директориите. "
   ]
  },
  {
   "cell_type": "code",
   "execution_count": null,
   "id": "ca89b86b",
   "metadata": {},
   "outputs": [],
   "source": [
    "import os\n",
    "\n",
    "print(f'Before = {os.listdir(\"files\")}')\n",
    "\n",
    "file_path = os.path.join('files', 'mkdir_example_parent', 'mkdir_example_child')\n",
    "os.makedirs(file_path)\n",
    "\n",
    "print(f'After = {os.listdir(\"files\")}')"
   ]
  },
  {
   "cell_type": "markdown",
   "id": "d6ce6ff5",
   "metadata": {},
   "source": [
    "Един допълнителен аргумент, който `makedirs` приема, е аргумента `exist_ok`. Той контролира дали да се хвърли грешка, ако крайната директория която искаме да създадем, вече съществува. "
   ]
  },
  {
   "cell_type": "markdown",
   "id": "0d50a74a",
   "metadata": {},
   "source": [
    "### Обща работа с пътища"
   ]
  },
  {
   "cell_type": "markdown",
   "id": "c8c5be42",
   "metadata": {},
   "source": [
    "В началото видяхме, че за да построим един път до файл или директория в Python, трябва да използваме `os.path.join`. Освен `join`, [`os.path`](https://docs.python.org/3.10/library/os.path.html) предлага много други полезни функции за работа с пътища. \n",
    "\n",
    "Ще се спрем върху една част от тях, която е по-вероятно да използвате във всекидневната си работа с Python:\n",
    "\n",
    "- os.path.exists - проверка дали пътят сочи към валиден файл или директория\n",
    "- os.path.isdir - дали пътят сочи към валидна директория\n",
    "- os.path.isfile - дали пътят сочи към валиден файл\n",
    "- os.path.split - отделя последната част от път"
   ]
  },
  {
   "cell_type": "code",
   "execution_count": null,
   "id": "5e94fedc",
   "metadata": {},
   "outputs": [],
   "source": [
    "import os\n",
    "print(f'Does the files directory exist: {os.path.exists(\"files\")}')\n",
    "print(f'Does the files/lorem_ipsum.txt file exist: {os.path.exists(os.path.join(\"files\", \"lorem_ipsum.txt\"))}')\n",
    "print(f'Does the files/ala-bala.txt file exist: {os.path.exists(os.path.join(\"files\", \"ala-bala.txt\"))}')"
   ]
  },
  {
   "cell_type": "code",
   "execution_count": null,
   "id": "f518e1df",
   "metadata": {},
   "outputs": [],
   "source": [
    "import os\n",
    "print(f'Is \"files\" a directory: {os.path.isdir(\"files\")}')\n",
    "print(f'Is \"files/lorem_ipsum.txt\" a directory: {os.path.isdir(os.path.join(\"files\", \"lorem_ipsum.txt\"))}')\n",
    "print(f'Is \"files/ala-bala.txt\" a directory: {os.path.isdir(os.path.join(\"files\", \"ala-bala.txt\"))}')  # Although the file does not exist, isdir returns False"
   ]
  },
  {
   "cell_type": "code",
   "execution_count": null,
   "id": "43703455",
   "metadata": {},
   "outputs": [],
   "source": [
    "import os\n",
    "print(f'Is \"files\" a file: {os.path.isfile(\"files\")}')\n",
    "print(f'Is \"files/lorem_ipsum.txt\" a file: {os.path.isfile(os.path.join(\"files\", \"lorem_ipsum.txt\"))}')\n",
    "print(f'Is \"files/ala-bala.txt\" a directory: {os.path.isfile(os.path.join(\"files\", \"ala-bala.txt\"))}')  # Although the file does not exist, isfile returns False"
   ]
  },
  {
   "cell_type": "markdown",
   "id": "4337ea9b",
   "metadata": {},
   "source": [
    "`os.path.split` отделя последната част от пътя от останалия. Връща ни наредена двойка от `head` и `tail`, където `tail` съдържа последната част от пътя, а `head` останалото "
   ]
  },
  {
   "cell_type": "code",
   "execution_count": null,
   "id": "5727c539",
   "metadata": {},
   "outputs": [],
   "source": [
    "import os\n",
    "\n",
    "long_path = os.path.join('/', 'foo', 'bar', 'baz')\n",
    "print(f'long_path = {long_path}')\n",
    "\n",
    "print(f'long_path splitted: {os.path.split(long_path)}')"
   ]
  },
  {
   "cell_type": "markdown",
   "id": "47522ab8",
   "metadata": {},
   "source": [
    "Важно е да отбележим няколко по-специални случая:\n",
    "\n",
    "- Ако пътят е празен, `split` ще ни върне празни `head` и `tail`\n",
    "- Ако пътят завършва с `/` (или `\\` под Windows), `tail` ще е празен низ\n",
    "- Ако пътят не съдържа `/`(или `\\` под Windows), `head` ще е празен низ"
   ]
  },
  {
   "cell_type": "code",
   "execution_count": null,
   "id": "974a0290",
   "metadata": {},
   "outputs": [],
   "source": [
    "empty_path = ''\n",
    "print(f'split with empty path returns = {os.path.split(empty_path)}')\n",
    "\n",
    "ending_with_separator = '/foo/bar/'\n",
    "print(f'split with path ending in / returns = {os.path.split(ending_with_separator)}')\n",
    "\n",
    "no_separators = 'foo'\n",
    "print(f'split with no separators returns = {os.path.split(no_separators)}')"
   ]
  },
  {
   "cell_type": "markdown",
   "id": "bf058152",
   "metadata": {},
   "source": [
    "### Обхождане на директории"
   ]
  },
  {
   "cell_type": "markdown",
   "id": "1dbf08a9",
   "metadata": {},
   "source": [
    "Понякога искаме да обходим цялото директорийно дърво отдадена точка надолу. Python ни позволява да направи това сравнително лесно, с помощта на функцията `os.walk`. \n",
    "\n",
    "Тя приема като аргумент директорията, от което започва обхождането. Като резултат, тя ни връща генератор съдържащ името на текущата директория, имената на директориите в текущата директория и имената на файловете в текущата директория.\n",
    "\n"
   ]
  },
  {
   "cell_type": "code",
   "execution_count": null,
   "id": "1c08ce71",
   "metadata": {},
   "outputs": [],
   "source": [
    "import os\n",
    "\n",
    "# Setup\n",
    "example_root_dir = os.path.join('files', 'walk_example')\n",
    "\n",
    "d_dir = os.path.join(example_root_dir, 'a', 'b', 'c', 'd')\n",
    "os.makedirs(d_dir, exist_ok=True)\n",
    "\n",
    "os.makedirs(os.path.join(example_root_dir, 'a', 'b1'), exist_ok=True)\n",
    "\n",
    "b2_dir = os.path.join(example_root_dir, 'a', 'b2')\n",
    "os.makedirs(b2_dir, exist_ok=True)\n",
    "\n",
    "os.makedirs(os.path.join(example_root_dir, 'a', 'b', 'c', 'd1'), exist_ok=True)\n",
    "os.makedirs(os.path.join(example_root_dir, 'a', 'b', 'c', 'd2'), exist_ok=True)\n",
    "\n",
    "files_for_d = [os.path.join(d_dir, f'file{i}') for i in range(5)]\n",
    "\n",
    "for file_for_d in files_for_d:\n",
    "    with open(file_for_d, 'w') as fp:\n",
    "        fp.write(f'Content for {file_for_d}')\n",
    "\n",
    "files_for_b2 = [os.path.join(d_dir, f'file{i}') for i in range(3)]\n",
    "\n",
    "for file_for_b2 in files_for_b2:\n",
    "    with open(file_for_b2, 'w') as fp:\n",
    "        fp.write(f'Content for {file_for_b2}')\n",
    "\n",
    "\n",
    "# os.walk\n",
    "\n",
    "for dirname, subdirs, files in os.walk(example_root_dir):\n",
    "    print(f'In {dirname}, which has subdirs: {subdirs} and files: {files}')"
   ]
  },
  {
   "cell_type": "markdown",
   "id": "77407b6e",
   "metadata": {},
   "source": [
    "## Използване на `with`"
   ]
  },
  {
   "cell_type": "markdown",
   "id": "cbe58710",
   "metadata": {},
   "source": [
    "Досега в работата ни с файлове, забелязахме че трябва да подсигурим, че сме затворили файла. Проблемът идва, когато трябва да се справим с грешки, които могат да бъда хвърлени от различните операции с файлове. Дори и при хвърлена грешка, ние все пак трябва да си затворим файла.\n",
    "\n",
    "Python ни позволява два начина да се справим с този проблем - `try/finally` и `with`."
   ]
  },
  {
   "cell_type": "markdown",
   "id": "babb6496",
   "metadata": {},
   "source": [
    "След всеки `try` блок, може да поставим един друг блок, който да се изпълнява винаги след `try` или `except` блоковете. Този допълнителен блок се казва `finally`. "
   ]
  },
  {
   "cell_type": "code",
   "execution_count": null,
   "id": "1f8a882b",
   "metadata": {},
   "outputs": [],
   "source": [
    "def raiser():\n",
    "    raise ValueError('Hello there')\n",
    "\n",
    "try:\n",
    "    raiser()\n",
    "finally:\n",
    "    print('After the exception, this will be printed')"
   ]
  },
  {
   "cell_type": "markdown",
   "id": "2147caa0",
   "metadata": {},
   "source": [
    "По подобен начин можем да използваме `finally` за да затворим отворения файл."
   ]
  },
  {
   "cell_type": "code",
   "execution_count": null,
   "id": "a6f7c8e8",
   "metadata": {},
   "outputs": [],
   "source": [
    "import os\n",
    "fp = open(os.path.join('files', 'lorem_ipsum.txt'))\n",
    "try:\n",
    "    print(fp.read())\n",
    "finally:\n",
    "    fp.close()"
   ]
  },
  {
   "cell_type": "markdown",
   "id": "64d52b0e",
   "metadata": {},
   "source": [
    "Така, дори и да получим грешка при четене (или каквато и да е друга операция в `try` блока), файла ще бъде затворен."
   ]
  },
  {
   "cell_type": "markdown",
   "id": "21f16a39",
   "metadata": {},
   "source": [
    "От тук можем да стигнем до заключението - при работата с ресурси, имаме процес по отваряне и процес по затваряне (независимо от грешки). Python ни предлага и друга синтактична конструкция за работа с такива структури - `with`."
   ]
  },
  {
   "cell_type": "markdown",
   "id": "6d6268b1",
   "metadata": {},
   "source": [
    "`with` ни позволява отварянето на нов контекст. В него може да отворим ресурс, а след излизането от блока, този ресурс се затваря автоматично. \n",
    "\n",
    "Общият вид на `with` е следния:\n",
    "```python\n",
    "with <expression> as <variable>:\n",
    "    f(variable)\n",
    "```\n",
    "\n",
    "Ако искаме да отворим файл и да прочетем нещо с `with`, кода би изглеждал по следния начин:"
   ]
  },
  {
   "cell_type": "code",
   "execution_count": null,
   "id": "4e665553",
   "metadata": {},
   "outputs": [],
   "source": [
    "import os\n",
    "with open(os.path.join('files', 'lorem_ipsum.txt')) as fp:\n",
    "    print(fp.read())\n",
    "\n",
    "print(f'Is the file closed ? {fp.closed}')"
   ]
  },
  {
   "cell_type": "markdown",
   "id": "0cd4550b",
   "metadata": {},
   "source": [
    "Дори и при грешка, файлът ще бъде затворен. Ако искаме обаче да хванем грешката, все пак трябва да изпозлваме `try/catch`."
   ]
  },
  {
   "cell_type": "code",
   "execution_count": null,
   "id": "06abc803",
   "metadata": {},
   "outputs": [],
   "source": [
    "import os\n",
    "\n",
    "try:\n",
    "    with open(os.path.join('files', 'lorem_ipsum.txt')) as fp:\n",
    "        print(fp.read())\n",
    "except OSError as err:\n",
    "    print(err)"
   ]
  },
  {
   "cell_type": "markdown",
   "id": "5186484e",
   "metadata": {},
   "source": [
    "Начинът по който `with` работи е, че извиква два специални магически метода - `__enter__` и `__exit__`, който се изпълняват при влизане и излизане съответно от контекст мениджъра. \n",
    "\n",
    "По-конкретно, `__enter__` метода се изивиква в `as` частта на `with`. В него връщаме обекта, който ще бъде присвоен на променливата след `as`.\n",
    "\n",
    "\n",
    "Файловите обекти имплементират `__exit__` метода, където затварят отворения файл."
   ]
  },
  {
   "cell_type": "markdown",
   "id": "db5ba1c0",
   "metadata": {},
   "source": [
    "Ако искаме и нашите класове да работят с контекстните мениджъри, трябва да имплементираме `__enter__` и `__exit__` методите. "
   ]
  },
  {
   "cell_type": "code",
   "execution_count": null,
   "id": "a6a5ed46",
   "metadata": {},
   "outputs": [],
   "source": [
    "class ContextableClass:\n",
    "    def __init__(self, some_var=42):\n",
    "        self.some_var = some_var\n",
    "    \n",
    "    def __enter__(self):\n",
    "        print('Entering the context manager')\n",
    "        return self\n",
    "    \n",
    "    def __exit__(self, exc_type, exc_value, traceback):\n",
    "        print('Exiting the context manager')"
   ]
  },
  {
   "cell_type": "code",
   "execution_count": null,
   "id": "1ac88f08",
   "metadata": {},
   "outputs": [],
   "source": [
    "with ContextableClass(5) as instance:\n",
    "    print(instance.some_var)"
   ]
  },
  {
   "cell_type": "markdown",
   "id": "4dda68b6",
   "metadata": {},
   "source": [
    "# Модули и пакети"
   ]
  },
  {
   "cell_type": "markdown",
   "id": "758df512",
   "metadata": {},
   "source": [
    "## Какво е модул?\n",
    "\n",
    "Всеки един Python файл (.py) на практика е модул. Освен това е възможно библиотека, написана на С, и вмъкната динамично също да бъде модул. Третия тип модули са вградените в езика такива.\n",
    "\n",
    "В тази лекция се фокусираме върху първия тип и модули и как можем да ги създаваме, вмъкваме и боравим с тях."
   ]
  },
  {
   "cell_type": "markdown",
   "id": "df545a93",
   "metadata": {},
   "source": [
    "## Как да създам модул?"
   ]
  },
  {
   "cell_type": "markdown",
   "id": "aca34ef1",
   "metadata": {},
   "source": [
    "Казахме, че всеки Python файл е валиден модул. \n",
    "\n",
    "Нека създадем един такъв с няколко дефиниции вътре (в папката с тази тетрадка вече би трябвало да се съдържа файл `hitchhikers.py`)."
   ]
  },
  {
   "cell_type": "markdown",
   "id": "7427006d",
   "metadata": {},
   "source": [
    "## `import`"
   ]
  },
  {
   "cell_type": "markdown",
   "id": "651b85bc",
   "metadata": {},
   "source": [
    "Имената, функциите и класовете, които създадохме в този файл, не могат да бъдат достъпени директно от друг файл:"
   ]
  },
  {
   "cell_type": "code",
   "execution_count": null,
   "id": "49aa48c0",
   "metadata": {},
   "outputs": [],
   "source": [
    "compute()"
   ]
  },
  {
   "cell_type": "markdown",
   "id": "99a997bb",
   "metadata": {},
   "source": [
    "Можем обаче да ги вмъкнем в друг файл (модул) чрез `import {името_на_модула}` (името на файла преди разширението `.py` се превръща в име на модула):"
   ]
  },
  {
   "cell_type": "code",
   "execution_count": null,
   "id": "0bea2b51",
   "metadata": {},
   "outputs": [],
   "source": [
    "import hitchhikers\n",
    "\n",
    "hitchhikers.compute()"
   ]
  },
  {
   "cell_type": "markdown",
   "id": "81793980",
   "metadata": {},
   "source": [
    "`import` освен, че интерпретира целия код на модула, добавя имената и дефинициите в един обект от тип модул, имащ името на модула. Затова и ги достъпваме чрез `името_на_модула.име_на_обекта`."
   ]
  },
  {
   "cell_type": "markdown",
   "id": "c323fc95",
   "metadata": {},
   "source": [
    "Какво се съдържа в един модул можем лесно да видим с `dir()`:"
   ]
  },
  {
   "cell_type": "code",
   "execution_count": null,
   "id": "4f685bd9",
   "metadata": {},
   "outputs": [],
   "source": [
    "dir(hitchhikers)"
   ]
  },
  {
   "cell_type": "code",
   "execution_count": null,
   "id": "f591bd5b",
   "metadata": {},
   "outputs": [],
   "source": [
    "hitchhikers.ANSWER"
   ]
  },
  {
   "cell_type": "code",
   "execution_count": null,
   "id": "6692a494",
   "metadata": {},
   "outputs": [],
   "source": [
    "computer = hitchhikers.TheGreatDeepThought()\n",
    "computer.ask()"
   ]
  },
  {
   "cell_type": "code",
   "execution_count": null,
   "id": "50fa1a82",
   "metadata": {},
   "outputs": [],
   "source": [
    "hitchhikers.__name__"
   ]
  },
  {
   "cell_type": "code",
   "execution_count": null,
   "id": "1a835465",
   "metadata": {},
   "outputs": [],
   "source": [
    "dir()  # by default it shows the contents of the *current* module"
   ]
  },
  {
   "cell_type": "code",
   "execution_count": null,
   "id": "3c24fedd",
   "metadata": {},
   "outputs": [],
   "source": [
    "__name__"
   ]
  },
  {
   "cell_type": "markdown",
   "id": "2b2083ef",
   "metadata": {},
   "source": [
    "## Добре, обаче `import` къде точно търси?"
   ]
  },
  {
   "cell_type": "markdown",
   "id": "ad353dbf",
   "metadata": {},
   "source": [
    "1. Директорията, в която се намира Python скрипта, който се изпълнява (или текущата, ако интерпретаторът е пуснат интерактивно)\n",
    "2. Директориите, които са описани в `PYTHONPATH` променливата на средата\n",
    "3. Лист от директории, зададен по време на инсталацията на Python"
   ]
  },
  {
   "cell_type": "markdown",
   "id": "ddb0ad30",
   "metadata": {},
   "source": [
    "Този списък от възможни директории може да се види със `sys.path`:"
   ]
  },
  {
   "cell_type": "code",
   "execution_count": null,
   "id": "efb6d456",
   "metadata": {},
   "outputs": [],
   "source": [
    "import sys\n",
    "sys.path"
   ]
  },
  {
   "cell_type": "markdown",
   "id": "df4d9673",
   "metadata": {},
   "source": [
    "## Варианти на `import`"
   ]
  },
  {
   "cell_type": "markdown",
   "id": "6965e305",
   "metadata": {},
   "source": [
    "С `from {module} import {something}, {something_else}, ...` можем да импортираме само определени имена от модула, като те биват добавени към съдържанието на текущия (т.е. достъпваме ги без името на оригиналния модул и точка отпред):"
   ]
  },
  {
   "cell_type": "code",
   "execution_count": null,
   "id": "4a57ab85",
   "metadata": {},
   "outputs": [],
   "source": [
    "from hitchhikers import compute\n",
    "compute()"
   ]
  },
  {
   "cell_type": "markdown",
   "id": "e47753af",
   "metadata": {},
   "source": [
    "С `from {module} import {something} as {alias}, {something_else} as {other_alias}, ...` можем да прекръстим импортираните имена:"
   ]
  },
  {
   "cell_type": "code",
   "execution_count": null,
   "id": "f333b9d0",
   "metadata": {},
   "outputs": [],
   "source": [
    "from hitchhikers import ANSWER, TheGreatDeepThought as Computer\n",
    "comp = Computer()\n",
    "comp.ask() == ANSWER"
   ]
  },
  {
   "cell_type": "code",
   "execution_count": null,
   "id": "62a4d0be",
   "metadata": {},
   "outputs": [],
   "source": [
    "\"ANSWER\" in dir()"
   ]
  },
  {
   "cell_type": "markdown",
   "id": "5ae513f1",
   "metadata": {},
   "source": [
    "Ако искаме абсолютно всички имена на вмъкнем и ползваме в текущия модул по този начин (без тези, започващи с подчертавка `_`), можем да използваме астериск `*`:"
   ]
  },
  {
   "cell_type": "code",
   "execution_count": null,
   "id": "c4843501",
   "metadata": {},
   "outputs": [],
   "source": [
    "# изпълни тази клетка ако си изпълнил горните, за да се зачистят import-ите\n",
    "del hitchhikers, ANSWER, compute, Computer"
   ]
  },
  {
   "cell_type": "code",
   "execution_count": null,
   "id": "256531e4",
   "metadata": {},
   "outputs": [],
   "source": [
    "from hitchhikers import *\n",
    "\n",
    "compute() == ANSWER"
   ]
  },
  {
   "cell_type": "markdown",
   "id": "83fa059d",
   "metadata": {},
   "source": [
    "Лимитация на астерикс синтаксиса е, че не може да използва в блок (може само на най-външното ниво на модула):"
   ]
  },
  {
   "cell_type": "code",
   "execution_count": null,
   "id": "177e98b2",
   "metadata": {},
   "outputs": [],
   "source": [
    "del compute, ANSWER, TheGreatDeepThought"
   ]
  },
  {
   "cell_type": "code",
   "execution_count": null,
   "id": "d8aa18f4",
   "metadata": {},
   "outputs": [],
   "source": [
    "def obtain_answer():\n",
    "    from hitchhikers import *  # 💥\n",
    "    return compute()"
   ]
  },
  {
   "cell_type": "markdown",
   "id": "a5fe18d9",
   "metadata": {},
   "source": [
    "Както казахме, по подразбиране from {module} import * вмъква абсолютно всички имена от `module`, които не започват с подчертавка. Имаме всъщност контрол над това, кое може да се вмъкне чрез астерикс, като дефинираме `__all__` във въпросния модул. Стойността му е лист от всички имена, които ще бъдат вмъкнати от `*`.\n",
    "\n",
    "*Пример*:\n",
    "\n",
    "След добавяне на\n",
    "```python\n",
    "__all__ = ['compute', 'TheGreatDeepThought']\n",
    "```\n",
    "в `hitchhikers.py`, следният код, изпълнен в `script.py` (в същата директория) ще хвърли `NameError`:\n",
    "```python\n",
    "from hitchhikers import *\n",
    "print(hitchhikers.ANSWER)  # 💥\n",
    "```"
   ]
  },
  {
   "cell_type": "markdown",
   "id": "2d146905",
   "metadata": {},
   "source": [
    "## Пакети"
   ]
  },
  {
   "cell_type": "markdown",
   "id": "8ad5ad04",
   "metadata": {},
   "source": [
    "Пакет e набор от модули. За Python всяка директория, в която има модули, се превръща в пакет (package).\n",
    "\n",
    "*Note*: Във версии по-ранни от Python 3.3 трябва задължително в директорията да има файл с име `__init__.py`."
   ]
  },
  {
   "cell_type": "markdown",
   "id": "7cd4a516",
   "metadata": {},
   "source": [
    "В директорията на тетрадката би трябвало да има папка `game`, съдържаща няколко файла и папки:"
   ]
  },
  {
   "cell_type": "code",
   "execution_count": null,
   "id": "a16a8960",
   "metadata": {},
   "outputs": [],
   "source": [
    "!tree game"
   ]
  },
  {
   "cell_type": "markdown",
   "id": "f4327713",
   "metadata": {},
   "source": [
    "В горния пример `game` е пакет, съдържащ модулите `engine`, `level` и `player`. Освен тях, той съдържа и подпакетът `players`."
   ]
  },
  {
   "cell_type": "markdown",
   "id": "40c22367",
   "metadata": {},
   "source": [
    "Ако искаме да вмъкнем някой модул от пакета, можем да го направим чрез името на пакета (или всички пакети по веригата, разделени с точка), последвано от точка и името на въпросния модул:"
   ]
  },
  {
   "cell_type": "code",
   "execution_count": null,
   "id": "feb5611d",
   "metadata": {},
   "outputs": [],
   "source": [
    "import game.level\n",
    "\n",
    "game.level.EASY"
   ]
  },
  {
   "cell_type": "code",
   "execution_count": null,
   "id": "558da3ad",
   "metadata": {},
   "outputs": [],
   "source": [
    "import game.players.ai\n",
    "\n",
    "game.players.ai.AI(10)"
   ]
  },
  {
   "cell_type": "markdown",
   "id": "cb31a93c",
   "metadata": {},
   "source": [
    "Вече въведените по-горе синтактични варианти на `import` също важат:"
   ]
  },
  {
   "cell_type": "code",
   "execution_count": null,
   "id": "c66b7fff",
   "metadata": {},
   "outputs": [],
   "source": [
    "from game.players.ai import AI\n",
    "from game.level import EASY as easy, MEDIUM as medium, HARD as hard\n",
    "from game.engine import *"
   ]
  },
  {
   "cell_type": "markdown",
   "id": "fd751f2d",
   "metadata": {},
   "source": [
    "Освен това, можем и да вмъкнем модули чрез `from {package} import {module} [as {alias}], ...`:"
   ]
  },
  {
   "cell_type": "code",
   "execution_count": null,
   "id": "4a52d563",
   "metadata": {},
   "outputs": [],
   "source": [
    "from game import level, engine\n",
    "\n",
    "print(level.EASY)\n",
    "print(engine.GameState)"
   ]
  },
  {
   "cell_type": "markdown",
   "id": "8ed558b5",
   "metadata": {},
   "source": [
    "## `__init__.py`"
   ]
  },
  {
   "cell_type": "markdown",
   "id": "d5001813",
   "metadata": {},
   "source": [
    "На теория можем и да импортнем само пакета. По подразбиране това няма да добави нови модули и имена:"
   ]
  },
  {
   "cell_type": "code",
   "execution_count": null,
   "id": "27b187fc",
   "metadata": {},
   "outputs": [],
   "source": [
    "del game.level, game.player, game.engine  # зачисти тетрадката от предните импорти"
   ]
  },
  {
   "cell_type": "code",
   "execution_count": null,
   "id": "803a9d78",
   "metadata": {},
   "outputs": [],
   "source": [
    "import game\n",
    "\n",
    "game.level  # 💥"
   ]
  },
  {
   "cell_type": "markdown",
   "id": "8a142042",
   "metadata": {},
   "source": [
    "Ако искаме да добавим и модули от пакета при импортирането му, можем да ги импортнем в `__init__.py`, намиращ се в директорията на пакета.\n",
    "\n",
    "Т.е. ако в `game/__init__.py` имаме:\n",
    "```python\n",
    "import game.engine, game.level, game.player\n",
    "```\n",
    "\n",
    "то можем да импортнем пакета `game` и да използваме всички модули от него:\n",
    "```python\n",
    "# в друг файл, извън пакета `game`:\n",
    "import game\n",
    "print(game.level.EASY)  # no error\n",
    "```"
   ]
  },
  {
   "cell_type": "markdown",
   "id": "dc734642",
   "metadata": {},
   "source": [
    "В `__init__.py` можем да напишем какъвто искаме инициализационен код, глобален за всички модули в пакета. Съдържанието на скрипта се изпълнява веднага при импортиране на пакета."
   ]
  },
  {
   "cell_type": "markdown",
   "id": "b2fb33bd",
   "metadata": {},
   "source": [
    "Както при модулите, така и тука можем да дефинираме поведението на `from {package} import *` чрез `__all__`. По подразбиране, както видяхме за `import {package}`, това е празен списък, т.е. нищо няма да се вмъкне (за разлика от поведението при модулите, когато се вмъква абсолютно всяко име от модула, което не започва с подчертавка).\n",
    "\n",
    "Т.е. ако напишем в `game/__init__.py`:\n",
    "\n",
    "```python\n",
    "__all__ = [\"engine\", \"level\", \"player\"]\n",
    "```\n",
    "\n",
    "то ще можем:\n",
    "\n",
    "```python\n",
    "# в друг файл, извън пакета `game`:\n",
    "from game import *\n",
    "print(level.EASY)  # no error\n",
    "```"
   ]
  },
  {
   "cell_type": "markdown",
   "id": "62c8d914",
   "metadata": {},
   "source": [
    "## Релативни импорти"
   ]
  },
  {
   "cell_type": "markdown",
   "id": "f85e7b9b",
   "metadata": {},
   "source": [
    "Дотук разгледахме примерни за **абсолютни** импорти, т.е. достъпът до даден модул от рамките на пакета или извън него става през пътя от пакета до модула, например `game.players.ai` достъпва модулът `ai` от пакета `players` в пакета `game`.\n"
   ]
  },
  {
   "cell_type": "code",
   "execution_count": null,
   "id": "a57a4496",
   "metadata": {},
   "outputs": [],
   "source": [
    "import game.players.ai"
   ]
  },
  {
   "cell_type": "markdown",
   "id": "3b0bcd96",
   "metadata": {},
   "source": [
    "Със значението на `.` и `..` от Unix файловата система, можем да използваме същите тези символи за **релативни** импорти в Python. Те се оценяват спрямо локацията на `import` statement-a."
   ]
  },
  {
   "cell_type": "markdown",
   "id": "d26f04a1",
   "metadata": {},
   "source": [
    "Например, във файла `game/players/input_player.py` ни трябва `player` модула от пакета `game`. Можем да го направим по абсолютен и релативен начин:\n",
    "\n",
    "```python\n",
    "from game import player  # абсолютен импорт\n",
    "```\n",
    "\n",
    "```python\n",
    "from .. import player  # релативен импорт\n",
    "```"
   ]
  },
  {
   "cell_type": "markdown",
   "id": "dce14b05",
   "metadata": {},
   "source": [
    "* `..` означава \"пакетът, намиращ се над текущия\".\n",
    "* `..pkg` означва модулът/пакетът `pkg` от пакетът, намиращ се над текущия."
   ]
  },
  {
   "cell_type": "markdown",
   "id": "d224ca48",
   "metadata": {},
   "source": [
    "Например:\n",
    "```python\n",
    "from ..player import Player\n",
    "```\n",
    "Ще вмъкне името `Player` от модула `player` от пакета, намиращ се над текущия."
   ]
  },
  {
   "cell_type": "markdown",
   "id": "9a58e768",
   "metadata": {},
   "source": [
    "* `.` означава \"текущия пакет\".\n",
    "* `.pkg` означава модулът/пакетът `pkg` от текущия пакет."
   ]
  },
  {
   "cell_type": "markdown",
   "id": "e6c3ba4e",
   "metadata": {},
   "source": [
    "Релативните импорти имат недостатъка обаче, че зависят от местоположението на `import`-a. Освен това в скриптове (т.е. изпълним код, който не е вмъкнат чрез модул) имат различно поведение:"
   ]
  },
  {
   "cell_type": "code",
   "execution_count": null,
   "id": "7f31a6d6",
   "metadata": {},
   "outputs": [],
   "source": [
    "from . import hitchhikers"
   ]
  },
  {
   "cell_type": "markdown",
   "id": "d8eb7893",
   "metadata": {},
   "source": [
    "## `if __name__ == \"__main__\"`"
   ]
  },
  {
   "cell_type": "markdown",
   "id": "9fde0c8d",
   "metadata": {},
   "source": [
    "Както бяхме споменали, при импорт се изпълнява кода на съответния модул. Като пример за това можем да изведем философията на Python, намираща се във вградения модул `this`:"
   ]
  },
  {
   "cell_type": "code",
   "execution_count": null,
   "id": "a706c926",
   "metadata": {},
   "outputs": [],
   "source": [
    "import this"
   ]
  },
  {
   "cell_type": "markdown",
   "id": "4f770459",
   "metadata": {},
   "source": [
    "Текущо-изпълнимият файл/модул/скрипт за Python се казва `\"__main__\"`, т.е. неговия `__name__` е `\"__main__\"`:\n",
    "```python"
   ]
  },
  {
   "cell_type": "code",
   "execution_count": null,
   "id": "05c0029f",
   "metadata": {},
   "outputs": [],
   "source": [
    "__name__"
   ]
  },
  {
   "cell_type": "markdown",
   "id": "80d9c928",
   "metadata": {},
   "source": [
    "Ако файлът не се изпълнява директно, а бъде импортнат от друг, то в неговия `__name__` ще е името на модула. Това означава, че можем да различим дали файлът се изпълнява директно или е импортнат. \n",
    "\n",
    "Полезно е в случаите, когато искаме да напишем примерно някакви тестове или демонстрации на модула, които да се изпълнят само ако го изпълним директно, и да не се изпълняват при всяко вмъкване. . В такива случаи използваме `if __name__ == \"__main__\": ...` (разгледайте например `game/engine.py`)."
   ]
  },
  {
   "cell_type": "markdown",
   "id": "3cf784ec",
   "metadata": {},
   "source": [
    "## Управление на пакети"
   ]
  },
  {
   "cell_type": "markdown",
   "id": "79bf0f5d",
   "metadata": {},
   "source": [
    "### Какво е `pip`?\n",
    "\n",
    "Пакетите се създават с цел лесно преизползване. При използване на външни пакети в проекта се появяват конкретни проблеми, които трябва да се решават - как да се инсталират, как да се обновят, как да се изтрият, как да се решават зависимостите и т.н. С това ни помагат различните \"package manager\"-и, като python-ският такъв е `pip` (името му е рекурсивен акроним: \"**P**IP **I**nstalls **P**ackages\")."
   ]
  },
  {
   "cell_type": "markdown",
   "id": "f1dd6efc",
   "metadata": {},
   "source": [
    "### Къде е `pip`?\n",
    "\n",
    "Управлението на пакетите е важна част от разработката и затова от Python 3.4 и 2.7.9 насам `pip` е част от инсталацията на Python 3 и Python 2 респективно."
   ]
  },
  {
   "cell_type": "markdown",
   "id": "07e57c75",
   "metadata": {},
   "source": [
    "Можем да проверим дали PIP е инсталиран като се опитаме да видим локацията на `pip3` командата като изпълним `which pip3` (или `where pip3` под Windows):\n",
    "\n",
    "```bash"
   ]
  },
  {
   "cell_type": "code",
   "execution_count": null,
   "id": "59f19444",
   "metadata": {},
   "outputs": [],
   "source": [
    "!which pip3  # linux / macOS"
   ]
  },
  {
   "cell_type": "markdown",
   "id": "67a0279b",
   "metadata": {},
   "source": [
    "В случай, че няма `pip3`, е възможно да съществува само `pip` командата:"
   ]
  },
  {
   "cell_type": "code",
   "execution_count": null,
   "id": "8285f71f",
   "metadata": {},
   "outputs": [],
   "source": [
    "!which pip"
   ]
  },
  {
   "cell_type": "markdown",
   "id": "ca14db1b",
   "metadata": {},
   "source": [
    "В случай, че имаме и двете команди, можем да ги сраним като видим разликите във версията (ако са еднакви, то няма значение дали използваме `pip` или `pip3`. Оттук нататък до края на тетрадката ще ги считаме за едни и същи):"
   ]
  },
  {
   "cell_type": "code",
   "execution_count": null,
   "id": "433040e6",
   "metadata": {},
   "outputs": [],
   "source": [
    "!pip3 --version && pip --version"
   ]
  },
  {
   "cell_type": "markdown",
   "id": "dea8bf4f",
   "metadata": {},
   "source": [
    "### Как да преинсталирам `pip` ако нещо не е наред?\n",
    "\n",
    "В случай, че `pip` не може да бъде намерен, има два варианта:\n",
    "\n",
    "1. `pip` е инсталиран, но пътя до него не е в `$PATH` променливата на средата\n",
    "2. `pip` не е инсталиран. Тогава можем да го сложим по два начина:\n",
    "    1. Инсталираме `pip` от [`get-pip.py`](https://github.com/pypa/get-pip) скрипта\n",
    "    2. Инсталираме `pip` чрез [`ensurepip`](https://docs.python.org/3/library/ensurepip.html#module-ensurepip) модула"
   ]
  },
  {
   "cell_type": "code",
   "execution_count": null,
   "id": "7bfde35a",
   "metadata": {},
   "outputs": [],
   "source": [
    "!python3 -m ensurepip --upgrade  # за windows е `python` вместо `python3`"
   ]
  },
  {
   "cell_type": "markdown",
   "id": "58600de2",
   "metadata": {},
   "source": [
    "***NOTE***: `ensurepip` не тегли от интернет нищо - директно инсталира версията на `pip`, която е bundle-ната със съответната версия на Python. В случай, че искаме по-нова от дадената, трябва след това ръчно да актуализираме `pip` чрез `python3 -m pip install --upgrade pip` или `pip3 install --upgrade pip` (респективно само `python` вместо `python3` под Windows)."
   ]
  },
  {
   "cell_type": "markdown",
   "id": "fc256eb5",
   "metadata": {},
   "source": [
    "### Какви подкоманди има `pip`?"
   ]
  },
  {
   "cell_type": "markdown",
   "id": "65458fc7",
   "metadata": {},
   "source": [
    "Пакети се инсталират с `pip install <package1_name> [<package2_name> ...]`:"
   ]
  },
  {
   "cell_type": "code",
   "execution_count": null,
   "id": "594c698e",
   "metadata": {},
   "outputs": [],
   "source": [
    "!pip install requests"
   ]
  },
  {
   "cell_type": "markdown",
   "id": "c295d220",
   "metadata": {},
   "source": [
    "Пакетите по подразбиране се търсят в [PyPI](https://pypi.org/) (чете се \"пай пи ай\", а не \"[пипи](https://i.kym-cdn.com/entries/icons/original/000/027/193/Screen_Shot_2018-09-20_at_1.02.37_PM.jpg)\"/\"пайпи\"/\"пайпай\"), който е Python Package Index. Това е публичен индекс от пакети, към който всеки потребител може да добавя, допринася, търси и ползва.\n",
    "\n",
    "Ако искаме `pip` да търси в друг индекс (примерно такъв с частни репозиторита), можем да го променим чрез `-i [index_url]` аргумент към `pip install`. Повече за това [тук](https://realpython.com/what-is-pip/#using-a-custom-package-index)."
   ]
  },
  {
   "cell_type": "markdown",
   "id": "6df718fd",
   "metadata": {},
   "source": [
    "Информация за инсталиран пакет може да изведем с `pip show <package_name>`:"
   ]
  },
  {
   "cell_type": "code",
   "execution_count": null,
   "id": "2bc3568b",
   "metadata": {},
   "outputs": [],
   "source": [
    "!pip show requests"
   ]
  },
  {
   "cell_type": "markdown",
   "id": "79697e4e",
   "metadata": {},
   "source": [
    "Деинсталирането пък съответно става по същия начин, но този път с подкомандата `uninstall`:"
   ]
  },
  {
   "cell_type": "code",
   "execution_count": null,
   "id": "d4f45229",
   "metadata": {},
   "outputs": [],
   "source": [
    "!pip uninstall requests <<< \"y\""
   ]
  },
  {
   "cell_type": "markdown",
   "id": "f4308442",
   "metadata": {},
   "source": [
    "Всички инсталирани пакети и техните версии може да видим с `pip list`:"
   ]
  },
  {
   "cell_type": "code",
   "execution_count": null,
   "id": "46d68f7d",
   "metadata": {},
   "outputs": [],
   "source": [
    "!pip list | head"
   ]
  },
  {
   "cell_type": "markdown",
   "id": "d53acbf4",
   "metadata": {},
   "source": [
    "Извеждането на списъка със зависимости (инсталирани пакети + версия) в \"requirements\" формат може да се извърши с `pip freeze`:"
   ]
  },
  {
   "cell_type": "code",
   "execution_count": null,
   "id": "a375ab83",
   "metadata": {},
   "outputs": [],
   "source": [
    "!pip freeze | head"
   ]
  },
  {
   "cell_type": "markdown",
   "id": "627392dc",
   "metadata": {},
   "source": [
    "Обикновено изхода от командата се запазва във файл, наречен `requirements.txt`. Повече за това по-надолу."
   ]
  },
  {
   "cell_type": "markdown",
   "id": "ad5f9eda",
   "metadata": {},
   "source": [
    "## Виртуални среди и `venv`"
   ]
  },
  {
   "cell_type": "markdown",
   "id": "25ef8d90",
   "metadata": {},
   "source": [
    "### Защо?\n",
    "\n",
    "Когато инсталираме пакет, той след това може да бъде използван от всички Python проекти на машината (или на потребителя). Това обаче може да доведе до конфликти. Да предположим, че имаме един проект, който изисква например пакетът `А` да бъде с версия $ \\geq X $, докато друг да е направен да работи с версия на `A`, която да е по-малка от $ X $ (т.е. ъпдейтването до версия $ X $ би счупило проекта). Инсталацията на пакетът `A` по познатия начин обаче е глобална и не върши работа в случая - трябва ни някакъв начин, по който да имаме различни инсталации на пакета за различните проекти.\n",
    "\n",
    "Това е идеята на т.нар. \"virtual environments\" - създават виртуална среда, която да се отнася само за конкретен проект, в която той да се конфигурира, да се изтеглят пакетите, от които зависи и т.н."
   ]
  },
  {
   "cell_type": "markdown",
   "id": "01d1b5a7",
   "metadata": {},
   "source": [
    "### Как?\n",
    "\n",
    "С вградената билбиотека `venv` създаваме virtual environment. Изпълняваме я като модул (с флаг `-m`) и като параметър указваме името на виртуалната среда, която ще бъде създадена в текущата директория:"
   ]
  },
  {
   "cell_type": "code",
   "execution_count": null,
   "id": "8d272777",
   "metadata": {},
   "outputs": [],
   "source": [
    "!python3 -m venv venv"
   ]
  },
  {
   "cell_type": "markdown",
   "id": "1e9e5766",
   "metadata": {},
   "source": [
    "***Note 1***: Обикновено се кръщава също `venv`.\n",
    "\n",
    "***Note 2***: Директорията (`venv` в този случай) на виртуалната среда трябва да бъде игнорирана от Git (т.е. да ѝ се добави името на нов ред в `.gitignore` файла)."
   ]
  },
  {
   "cell_type": "markdown",
   "id": "91e1669a",
   "metadata": {},
   "source": [
    "Предната команда ще създаде в текущата директория папката `venv`, в която се намира всичко необходимо на виртуалната среда, за да работи. Тя обаче още няма да е активирана, като това става чрез изпълняване веднъж на:"
   ]
  },
  {
   "cell_type": "code",
   "execution_count": null,
   "id": "b7b76469",
   "metadata": {},
   "outputs": [],
   "source": [
    "!source venv/bin/activate"
   ]
  },
  {
   "cell_type": "markdown",
   "id": "664578c6",
   "metadata": {},
   "source": [
    "***Note***: на Windows ще е `venv\\Scripts\\activate.bat` (или `venv\\Scripts\\activate.ps1` на PowerShell)"
   ]
  },
  {
   "cell_type": "markdown",
   "id": "c5713c36",
   "metadata": {},
   "source": [
    "Това ще пренасочи команди като `python`/`python3` и `pip`/`pip3` към локалните копия, намиращи се под директорията на виртуалната среда. Инсталираните пакети също отиват там. По подразбиране няма такива (освен самите `pip` и `setuptools`):"
   ]
  },
  {
   "cell_type": "code",
   "execution_count": null,
   "id": "8c497c6f",
   "metadata": {},
   "outputs": [],
   "source": [
    "!source venv/bin/activate && pip list  # активираме пак понеже jupyter клетките не запазват bash сесиите"
   ]
  },
  {
   "cell_type": "markdown",
   "id": "fd6cd39c",
   "metadata": {},
   "source": [
    "Работата във виртуалната среда приключва, когато приключи текущата конзолна сесия или когато бъде изпълнена командата `deactivate` (`venv\\Scripts\\deactivate.bat` под Windows)."
   ]
  },
  {
   "cell_type": "markdown",
   "id": "8e8c8f6c",
   "metadata": {},
   "source": [
    "## `requirements.txt`"
   ]
  },
  {
   "cell_type": "markdown",
   "id": "df6a64b2",
   "metadata": {},
   "source": [
    "Ако свалим даден проект локално и се опитаме да го изпълним, то ако той зависи от някакви third-party модули/пакети/билбиотеки, ще ни хвърли `ImportError`, понеже няма да ги намери. Трудно и излишно времеемко е обаче ръчно да проверим кои зависимости ги няма и да ги свалим. Затова ни служи `requirements.txt` - файл, в който всички dependency-та са описани (име на пакет и версии)."
   ]
  },
  {
   "cell_type": "markdown",
   "id": "5983a4a5",
   "metadata": {},
   "source": [
    "Създава се чрез изхода на `pip freeze`:"
   ]
  },
  {
   "cell_type": "code",
   "execution_count": null,
   "id": "6f7d822d",
   "metadata": {},
   "outputs": [],
   "source": [
    "!pip3 freeze > requirements.txt"
   ]
  },
  {
   "cell_type": "markdown",
   "id": "a68f210b",
   "metadata": {},
   "source": [
    "Съдържанието е във формат `{има на пакет}{знак за сравнение}{версия}`:"
   ]
  },
  {
   "cell_type": "code",
   "execution_count": null,
   "id": "b6311969",
   "metadata": {},
   "outputs": [],
   "source": [
    "!cat requirements.txt | head"
   ]
  },
  {
   "cell_type": "markdown",
   "id": "7b06bca8",
   "metadata": {},
   "source": [
    "Използването на файла (т.е. изтеглянето на всички правилни версии на описаните пакети) става чрез аргумента `-r` на `pip install`:"
   ]
  },
  {
   "cell_type": "code",
   "execution_count": null,
   "id": "c1e4de25",
   "metadata": {},
   "outputs": [],
   "source": [
    "!pip3 install -r requirements.txt"
   ]
  }
 ],
 "metadata": {
  "kernelspec": {
   "display_name": ".venv",
   "language": "python",
   "name": "python3"
  },
  "language_info": {
   "codemirror_mode": {
    "name": "ipython",
    "version": 3
   },
   "file_extension": ".py",
   "mimetype": "text/x-python",
   "name": "python",
   "nbconvert_exporter": "python",
   "pygments_lexer": "ipython3",
   "version": "3.9.6"
  }
 },
 "nbformat": 4,
 "nbformat_minor": 5
}
